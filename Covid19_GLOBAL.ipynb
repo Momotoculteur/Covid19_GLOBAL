{
 "cells": [
  {
   "cell_type": "markdown",
   "metadata": {},
   "source": [
    "# Covid-19 Suivi temps réel GLOBAL"
   ]
  },
  {
   "cell_type": "markdown",
   "metadata": {},
   "source": [
    "###### Code - Import librairies"
   ]
  },
  {
   "cell_type": "code",
   "execution_count": 140,
   "metadata": {},
   "outputs": [],
   "source": [
    "import glob, os    \n",
    "from datetime import date\n",
    "\n",
    "import warnings\n",
    "warnings.filterwarnings('ignore')\n",
    "\n",
    "# Import lecture/stockage données\n",
    "import numpy as np\n",
    "import pandas as pd\n",
    "\n",
    "# Visualisation\n",
    "import matplotlib.pyplot as plt\n",
    "import seaborn as sns\n",
    "import plotly.express as px\n",
    "import plotly.graph_objs as go\n",
    "import plotly.figure_factory as ff\n",
    "import calmap\n",
    "import folium\n",
    "from IPython.core.display import display, HTML\n"
   ]
  },
  {
   "cell_type": "code",
   "execution_count": 66,
   "metadata": {},
   "outputs": [],
   "source": [
    "# Palette\n",
    "colorGrey = '#393e46'\n",
    "colorRed = '#ff2e63' \n",
    "colorCyan = '#21bf73' \n",
    "colorYellow = '#fe9801'"
   ]
  },
  {
   "cell_type": "markdown",
   "metadata": {},
   "source": [
    "###### Code - Chargement des données"
   ]
  },
  {
   "cell_type": "code",
   "execution_count": 11,
   "metadata": {},
   "outputs": [
    {
     "name": "stdout",
     "output_type": "stream",
     "text": [
      "d1 = 03-19-2020\n"
     ]
    }
   ],
   "source": [
    "today = date.today()\n",
    "d1 = today.strftime(\"%m-%d-%Y\")\n",
    "print(\"d1 =\", str(d1))"
   ]
  },
  {
   "cell_type": "code",
   "execution_count": 24,
   "metadata": {},
   "outputs": [],
   "source": [
    "# On charge et map l'ensemble des csv en un seul\n",
    "# dfGlobalDaily = pd.concat(map(pd.read_csv, glob.glob(os.path.join('', \"../COVID-19/csse_covid_19_data/csse_covid_19_daily_reports/*.csv\"))))\n",
    "\n",
    "# dfGlobalDailyLatest = pd.read_csv(\"../COVID-19/csse_covid_19_data/csse_covid_19_time_series/time_series_19-covid-Confirmed/\" + str(d1) + \".csv\")\n",
    "dfGlobalDailyLatest = pd.read_csv(\"../COVID-19/csse_covid_19_data/csse_covid_19_daily_reports/03-18-2020.csv\")\n",
    "\n",
    "# Chargement des times series pour les cas confirmés\n",
    "dfGlobalSeriesConfirmed = pd.read_csv(\"../COVID-19/csse_covid_19_data/csse_covid_19_time_series/time_series_19-covid-Confirmed.csv\")\n",
    "\n",
    "# Chargement des times series pour les cas décédés\n",
    "dfGlobalSeriesDeaths = pd.read_csv(\"../COVID-19/csse_covid_19_data/csse_covid_19_time_series/time_series_19-covid-Deaths.csv\")\n",
    "\n",
    "# Chargement des times series pour les cas soignés\n",
    "dfGlobalSeriesRecovered = pd.read_csv(\"../COVID-19/csse_covid_19_data/csse_covid_19_time_series/time_series_19-covid-Recovered.csv\")"
   ]
  },
  {
   "cell_type": "markdown",
   "metadata": {},
   "source": [
    "## Cas Confirmé/Morts/Soignés par pays"
   ]
  },
  {
   "cell_type": "markdown",
   "metadata": {},
   "source": [
    "###### Code"
   ]
  },
  {
   "cell_type": "code",
   "execution_count": 13,
   "metadata": {},
   "outputs": [],
   "source": [
    "# Cas ACTIVE = cas confirmé - cas décédés - cas soignés\n",
    "dfGlobalDailyLatest['Active'] = dfGlobalDailyLatest['Confirmed'] - dfGlobalDailyLatest['Deaths'] - dfGlobalDailyLatest['Recovered']\n",
    "globalAll = dfGlobalDailyLatest.groupby(['Country/Region'])['Confirmed', 'Deaths', 'Recovered', 'Active'].sum()\n"
   ]
  },
  {
   "cell_type": "code",
   "execution_count": 14,
   "metadata": {},
   "outputs": [
    {
     "data": {
      "text/html": [
       "<style  type=\"text/css\" >\n",
       "    #T_d251760c_69e0_11ea_bbff_6c626d35f69drow0_col1 {\n",
       "            background-color:  #67000d;\n",
       "            color:  #f1f1f1;\n",
       "        }    #T_d251760c_69e0_11ea_bbff_6c626d35f69drow0_col2 {\n",
       "            background-color:  #67000d;\n",
       "            color:  #f1f1f1;\n",
       "        }    #T_d251760c_69e0_11ea_bbff_6c626d35f69drow0_col3 {\n",
       "            background-color:  #67000d;\n",
       "            color:  #f1f1f1;\n",
       "        }    #T_d251760c_69e0_11ea_bbff_6c626d35f69drow0_col4 {\n",
       "            background-color:  #fcb095;\n",
       "            color:  #000000;\n",
       "        }    #T_d251760c_69e0_11ea_bbff_6c626d35f69drow1_col1 {\n",
       "            background-color:  #fb7d5d;\n",
       "            color:  #000000;\n",
       "        }    #T_d251760c_69e0_11ea_bbff_6c626d35f69drow1_col2 {\n",
       "            background-color:  #8e0912;\n",
       "            color:  #f1f1f1;\n",
       "        }    #T_d251760c_69e0_11ea_bbff_6c626d35f69drow1_col3 {\n",
       "            background-color:  #ffece3;\n",
       "            color:  #000000;\n",
       "        }    #T_d251760c_69e0_11ea_bbff_6c626d35f69drow1_col4 {\n",
       "            background-color:  #67000d;\n",
       "            color:  #f1f1f1;\n",
       "        }    #T_d251760c_69e0_11ea_bbff_6c626d35f69drow2_col1 {\n",
       "            background-color:  #fdc6b0;\n",
       "            color:  #000000;\n",
       "        }    #T_d251760c_69e0_11ea_bbff_6c626d35f69drow2_col2 {\n",
       "            background-color:  #fc9b7c;\n",
       "            color:  #000000;\n",
       "        }    #T_d251760c_69e0_11ea_bbff_6c626d35f69drow2_col3 {\n",
       "            background-color:  #fee8de;\n",
       "            color:  #000000;\n",
       "        }    #T_d251760c_69e0_11ea_bbff_6c626d35f69drow2_col4 {\n",
       "            background-color:  #fc9272;\n",
       "            color:  #000000;\n",
       "        }    #T_d251760c_69e0_11ea_bbff_6c626d35f69drow3_col1 {\n",
       "            background-color:  #fdd3c1;\n",
       "            color:  #000000;\n",
       "        }    #T_d251760c_69e0_11ea_bbff_6c626d35f69drow3_col2 {\n",
       "            background-color:  #fdccb8;\n",
       "            color:  #000000;\n",
       "        }    #T_d251760c_69e0_11ea_bbff_6c626d35f69drow3_col3 {\n",
       "            background-color:  #fff3ed;\n",
       "            color:  #000000;\n",
       "        }    #T_d251760c_69e0_11ea_bbff_6c626d35f69drow3_col4 {\n",
       "            background-color:  #fc8262;\n",
       "            color:  #000000;\n",
       "        }    #T_d251760c_69e0_11ea_bbff_6c626d35f69drow4_col1 {\n",
       "            background-color:  #fed9c9;\n",
       "            color:  #000000;\n",
       "        }    #T_d251760c_69e0_11ea_bbff_6c626d35f69drow4_col2 {\n",
       "            background-color:  #fff4ee;\n",
       "            color:  #000000;\n",
       "        }    #T_d251760c_69e0_11ea_bbff_6c626d35f69drow4_col3 {\n",
       "            background-color:  #fff5f0;\n",
       "            color:  #000000;\n",
       "        }    #T_d251760c_69e0_11ea_bbff_6c626d35f69drow4_col4 {\n",
       "            background-color:  #fc8262;\n",
       "            color:  #000000;\n",
       "        }    #T_d251760c_69e0_11ea_bbff_6c626d35f69drow5_col1 {\n",
       "            background-color:  #fee3d6;\n",
       "            color:  #000000;\n",
       "        }    #T_d251760c_69e0_11ea_bbff_6c626d35f69drow5_col2 {\n",
       "            background-color:  #ffeee6;\n",
       "            color:  #000000;\n",
       "        }    #T_d251760c_69e0_11ea_bbff_6c626d35f69drow5_col3 {\n",
       "            background-color:  #fff5f0;\n",
       "            color:  #000000;\n",
       "        }    #T_d251760c_69e0_11ea_bbff_6c626d35f69drow5_col4 {\n",
       "            background-color:  #fca78b;\n",
       "            color:  #000000;\n",
       "        }    #T_d251760c_69e0_11ea_bbff_6c626d35f69drow6_col1 {\n",
       "            background-color:  #fee4d8;\n",
       "            color:  #000000;\n",
       "        }    #T_d251760c_69e0_11ea_bbff_6c626d35f69drow6_col2 {\n",
       "            background-color:  #fff1ea;\n",
       "            color:  #000000;\n",
       "        }    #T_d251760c_69e0_11ea_bbff_6c626d35f69drow6_col3 {\n",
       "            background-color:  #fff2eb;\n",
       "            color:  #000000;\n",
       "        }    #T_d251760c_69e0_11ea_bbff_6c626d35f69drow6_col4 {\n",
       "            background-color:  #fcbfa7;\n",
       "            color:  #000000;\n",
       "        }    #T_d251760c_69e0_11ea_bbff_6c626d35f69drow7_col1 {\n",
       "            background-color:  #fee5d9;\n",
       "            color:  #000000;\n",
       "        }    #T_d251760c_69e0_11ea_bbff_6c626d35f69drow7_col2 {\n",
       "            background-color:  #ffefe8;\n",
       "            color:  #000000;\n",
       "        }    #T_d251760c_69e0_11ea_bbff_6c626d35f69drow7_col3 {\n",
       "            background-color:  #fff5f0;\n",
       "            color:  #000000;\n",
       "        }    #T_d251760c_69e0_11ea_bbff_6c626d35f69drow7_col4 {\n",
       "            background-color:  #fcb79c;\n",
       "            color:  #000000;\n",
       "        }    #T_d251760c_69e0_11ea_bbff_6c626d35f69drow8_col1 {\n",
       "            background-color:  #ffefe8;\n",
       "            color:  #000000;\n",
       "        }    #T_d251760c_69e0_11ea_bbff_6c626d35f69drow8_col2 {\n",
       "            background-color:  #fff4ee;\n",
       "            color:  #000000;\n",
       "        }    #T_d251760c_69e0_11ea_bbff_6c626d35f69drow8_col3 {\n",
       "            background-color:  #fff5f0;\n",
       "            color:  #000000;\n",
       "        }    #T_d251760c_69e0_11ea_bbff_6c626d35f69drow8_col4 {\n",
       "            background-color:  #fee4d8;\n",
       "            color:  #000000;\n",
       "        }    #T_d251760c_69e0_11ea_bbff_6c626d35f69drow9_col1 {\n",
       "            background-color:  #fff0e8;\n",
       "            color:  #000000;\n",
       "        }    #T_d251760c_69e0_11ea_bbff_6c626d35f69drow9_col2 {\n",
       "            background-color:  #fff2eb;\n",
       "            color:  #000000;\n",
       "        }    #T_d251760c_69e0_11ea_bbff_6c626d35f69drow9_col3 {\n",
       "            background-color:  #fff5f0;\n",
       "            color:  #000000;\n",
       "        }    #T_d251760c_69e0_11ea_bbff_6c626d35f69drow9_col4 {\n",
       "            background-color:  #fee7db;\n",
       "            color:  #000000;\n",
       "        }    #T_d251760c_69e0_11ea_bbff_6c626d35f69drow10_col1 {\n",
       "            background-color:  #fff1ea;\n",
       "            color:  #000000;\n",
       "        }    #T_d251760c_69e0_11ea_bbff_6c626d35f69drow10_col2 {\n",
       "            background-color:  #fff2ec;\n",
       "            color:  #000000;\n",
       "        }    #T_d251760c_69e0_11ea_bbff_6c626d35f69drow10_col3 {\n",
       "            background-color:  #fff5f0;\n",
       "            color:  #000000;\n",
       "        }    #T_d251760c_69e0_11ea_bbff_6c626d35f69drow10_col4 {\n",
       "            background-color:  #feeae0;\n",
       "            color:  #000000;\n",
       "        }    #T_d251760c_69e0_11ea_bbff_6c626d35f69drow11_col1 {\n",
       "            background-color:  #fff2eb;\n",
       "            color:  #000000;\n",
       "        }    #T_d251760c_69e0_11ea_bbff_6c626d35f69drow11_col2 {\n",
       "            background-color:  #fff5f0;\n",
       "            color:  #000000;\n",
       "        }    #T_d251760c_69e0_11ea_bbff_6c626d35f69drow11_col3 {\n",
       "            background-color:  #fff5f0;\n",
       "            color:  #000000;\n",
       "        }    #T_d251760c_69e0_11ea_bbff_6c626d35f69drow11_col4 {\n",
       "            background-color:  #ffece3;\n",
       "            color:  #000000;\n",
       "        }    #T_d251760c_69e0_11ea_bbff_6c626d35f69drow12_col1 {\n",
       "            background-color:  #fff2ec;\n",
       "            color:  #000000;\n",
       "        }    #T_d251760c_69e0_11ea_bbff_6c626d35f69drow12_col2 {\n",
       "            background-color:  #fff5f0;\n",
       "            color:  #000000;\n",
       "        }    #T_d251760c_69e0_11ea_bbff_6c626d35f69drow12_col3 {\n",
       "            background-color:  #fff5f0;\n",
       "            color:  #000000;\n",
       "        }    #T_d251760c_69e0_11ea_bbff_6c626d35f69drow12_col4 {\n",
       "            background-color:  #ffece4;\n",
       "            color:  #000000;\n",
       "        }    #T_d251760c_69e0_11ea_bbff_6c626d35f69drow13_col1 {\n",
       "            background-color:  #fff2ec;\n",
       "            color:  #000000;\n",
       "        }    #T_d251760c_69e0_11ea_bbff_6c626d35f69drow13_col2 {\n",
       "            background-color:  #fff4ef;\n",
       "            color:  #000000;\n",
       "        }    #T_d251760c_69e0_11ea_bbff_6c626d35f69drow13_col3 {\n",
       "            background-color:  #fff5f0;\n",
       "            color:  #000000;\n",
       "        }    #T_d251760c_69e0_11ea_bbff_6c626d35f69drow13_col4 {\n",
       "            background-color:  #ffede5;\n",
       "            color:  #000000;\n",
       "        }    #T_d251760c_69e0_11ea_bbff_6c626d35f69drow14_col1 {\n",
       "            background-color:  #fff2ec;\n",
       "            color:  #000000;\n",
       "        }    #T_d251760c_69e0_11ea_bbff_6c626d35f69drow14_col2 {\n",
       "            background-color:  #fff5f0;\n",
       "            color:  #000000;\n",
       "        }    #T_d251760c_69e0_11ea_bbff_6c626d35f69drow14_col3 {\n",
       "            background-color:  #fff5f0;\n",
       "            color:  #000000;\n",
       "        }    #T_d251760c_69e0_11ea_bbff_6c626d35f69drow14_col4 {\n",
       "            background-color:  #ffeee6;\n",
       "            color:  #000000;\n",
       "        }    #T_d251760c_69e0_11ea_bbff_6c626d35f69drow15_col1 {\n",
       "            background-color:  #fff3ed;\n",
       "            color:  #000000;\n",
       "        }    #T_d251760c_69e0_11ea_bbff_6c626d35f69drow15_col2 {\n",
       "            background-color:  #fff5f0;\n",
       "            color:  #000000;\n",
       "        }    #T_d251760c_69e0_11ea_bbff_6c626d35f69drow15_col3 {\n",
       "            background-color:  #fff5f0;\n",
       "            color:  #000000;\n",
       "        }    #T_d251760c_69e0_11ea_bbff_6c626d35f69drow15_col4 {\n",
       "            background-color:  #ffefe8;\n",
       "            color:  #000000;\n",
       "        }    #T_d251760c_69e0_11ea_bbff_6c626d35f69drow16_col1 {\n",
       "            background-color:  #fff4ee;\n",
       "            color:  #000000;\n",
       "        }    #T_d251760c_69e0_11ea_bbff_6c626d35f69drow16_col2 {\n",
       "            background-color:  #fff4ee;\n",
       "            color:  #000000;\n",
       "        }    #T_d251760c_69e0_11ea_bbff_6c626d35f69drow16_col3 {\n",
       "            background-color:  #fff5f0;\n",
       "            color:  #000000;\n",
       "        }    #T_d251760c_69e0_11ea_bbff_6c626d35f69drow16_col4 {\n",
       "            background-color:  #fff1ea;\n",
       "            color:  #000000;\n",
       "        }    #T_d251760c_69e0_11ea_bbff_6c626d35f69drow17_col1 {\n",
       "            background-color:  #fff4ee;\n",
       "            color:  #000000;\n",
       "        }    #T_d251760c_69e0_11ea_bbff_6c626d35f69drow17_col2 {\n",
       "            background-color:  #fff5f0;\n",
       "            color:  #000000;\n",
       "        }    #T_d251760c_69e0_11ea_bbff_6c626d35f69drow17_col3 {\n",
       "            background-color:  #fff5f0;\n",
       "            color:  #000000;\n",
       "        }    #T_d251760c_69e0_11ea_bbff_6c626d35f69drow17_col4 {\n",
       "            background-color:  #fff1ea;\n",
       "            color:  #000000;\n",
       "        }    #T_d251760c_69e0_11ea_bbff_6c626d35f69drow18_col1 {\n",
       "            background-color:  #fff4ee;\n",
       "            color:  #000000;\n",
       "        }    #T_d251760c_69e0_11ea_bbff_6c626d35f69drow18_col2 {\n",
       "            background-color:  #fff5f0;\n",
       "            color:  #000000;\n",
       "        }    #T_d251760c_69e0_11ea_bbff_6c626d35f69drow18_col3 {\n",
       "            background-color:  #fff4ef;\n",
       "            color:  #000000;\n",
       "        }    #T_d251760c_69e0_11ea_bbff_6c626d35f69drow18_col4 {\n",
       "            background-color:  #fff3ed;\n",
       "            color:  #000000;\n",
       "        }    #T_d251760c_69e0_11ea_bbff_6c626d35f69drow19_col1 {\n",
       "            background-color:  #fff4ee;\n",
       "            color:  #000000;\n",
       "        }    #T_d251760c_69e0_11ea_bbff_6c626d35f69drow19_col2 {\n",
       "            background-color:  #fff5f0;\n",
       "            color:  #000000;\n",
       "        }    #T_d251760c_69e0_11ea_bbff_6c626d35f69drow19_col3 {\n",
       "            background-color:  #fff5f0;\n",
       "            color:  #000000;\n",
       "        }    #T_d251760c_69e0_11ea_bbff_6c626d35f69drow19_col4 {\n",
       "            background-color:  #fff2eb;\n",
       "            color:  #000000;\n",
       "        }    #T_d251760c_69e0_11ea_bbff_6c626d35f69drow20_col1 {\n",
       "            background-color:  #fff4ef;\n",
       "            color:  #000000;\n",
       "        }    #T_d251760c_69e0_11ea_bbff_6c626d35f69drow20_col2 {\n",
       "            background-color:  #fff5f0;\n",
       "            color:  #000000;\n",
       "        }    #T_d251760c_69e0_11ea_bbff_6c626d35f69drow20_col3 {\n",
       "            background-color:  #fff5f0;\n",
       "            color:  #000000;\n",
       "        }    #T_d251760c_69e0_11ea_bbff_6c626d35f69drow20_col4 {\n",
       "            background-color:  #fff2ec;\n",
       "            color:  #000000;\n",
       "        }    #T_d251760c_69e0_11ea_bbff_6c626d35f69drow21_col1 {\n",
       "            background-color:  #fff4ef;\n",
       "            color:  #000000;\n",
       "        }    #T_d251760c_69e0_11ea_bbff_6c626d35f69drow21_col2 {\n",
       "            background-color:  #fff5f0;\n",
       "            color:  #000000;\n",
       "        }    #T_d251760c_69e0_11ea_bbff_6c626d35f69drow21_col3 {\n",
       "            background-color:  #fff5f0;\n",
       "            color:  #000000;\n",
       "        }    #T_d251760c_69e0_11ea_bbff_6c626d35f69drow21_col4 {\n",
       "            background-color:  #fff2ec;\n",
       "            color:  #000000;\n",
       "        }    #T_d251760c_69e0_11ea_bbff_6c626d35f69drow22_col1 {\n",
       "            background-color:  #fff4ef;\n",
       "            color:  #000000;\n",
       "        }    #T_d251760c_69e0_11ea_bbff_6c626d35f69drow22_col2 {\n",
       "            background-color:  #fff5f0;\n",
       "            color:  #000000;\n",
       "        }    #T_d251760c_69e0_11ea_bbff_6c626d35f69drow22_col3 {\n",
       "            background-color:  #fff5f0;\n",
       "            color:  #000000;\n",
       "        }    #T_d251760c_69e0_11ea_bbff_6c626d35f69drow22_col4 {\n",
       "            background-color:  #fff3ed;\n",
       "            color:  #000000;\n",
       "        }    #T_d251760c_69e0_11ea_bbff_6c626d35f69drow23_col1 {\n",
       "            background-color:  #fff4ef;\n",
       "            color:  #000000;\n",
       "        }    #T_d251760c_69e0_11ea_bbff_6c626d35f69drow23_col2 {\n",
       "            background-color:  #fff5f0;\n",
       "            color:  #000000;\n",
       "        }    #T_d251760c_69e0_11ea_bbff_6c626d35f69drow23_col3 {\n",
       "            background-color:  #fff5f0;\n",
       "            color:  #000000;\n",
       "        }    #T_d251760c_69e0_11ea_bbff_6c626d35f69drow23_col4 {\n",
       "            background-color:  #fff3ed;\n",
       "            color:  #000000;\n",
       "        }    #T_d251760c_69e0_11ea_bbff_6c626d35f69drow24_col1 {\n",
       "            background-color:  #fff4ef;\n",
       "            color:  #000000;\n",
       "        }    #T_d251760c_69e0_11ea_bbff_6c626d35f69drow24_col2 {\n",
       "            background-color:  #fff5f0;\n",
       "            color:  #000000;\n",
       "        }    #T_d251760c_69e0_11ea_bbff_6c626d35f69drow24_col3 {\n",
       "            background-color:  #fff5f0;\n",
       "            color:  #000000;\n",
       "        }    #T_d251760c_69e0_11ea_bbff_6c626d35f69drow24_col4 {\n",
       "            background-color:  #fff3ed;\n",
       "            color:  #000000;\n",
       "        }    #T_d251760c_69e0_11ea_bbff_6c626d35f69drow25_col1 {\n",
       "            background-color:  #fff4ef;\n",
       "            color:  #000000;\n",
       "        }    #T_d251760c_69e0_11ea_bbff_6c626d35f69drow25_col2 {\n",
       "            background-color:  #fff5f0;\n",
       "            color:  #000000;\n",
       "        }    #T_d251760c_69e0_11ea_bbff_6c626d35f69drow25_col3 {\n",
       "            background-color:  #fff5f0;\n",
       "            color:  #000000;\n",
       "        }    #T_d251760c_69e0_11ea_bbff_6c626d35f69drow25_col4 {\n",
       "            background-color:  #fff3ed;\n",
       "            color:  #000000;\n",
       "        }    #T_d251760c_69e0_11ea_bbff_6c626d35f69drow26_col1 {\n",
       "            background-color:  #fff4ef;\n",
       "            color:  #000000;\n",
       "        }    #T_d251760c_69e0_11ea_bbff_6c626d35f69drow26_col2 {\n",
       "            background-color:  #fff5f0;\n",
       "            color:  #000000;\n",
       "        }    #T_d251760c_69e0_11ea_bbff_6c626d35f69drow26_col3 {\n",
       "            background-color:  #fff5f0;\n",
       "            color:  #000000;\n",
       "        }    #T_d251760c_69e0_11ea_bbff_6c626d35f69drow26_col4 {\n",
       "            background-color:  #fff3ed;\n",
       "            color:  #000000;\n",
       "        }    #T_d251760c_69e0_11ea_bbff_6c626d35f69drow27_col1 {\n",
       "            background-color:  #fff4ef;\n",
       "            color:  #000000;\n",
       "        }    #T_d251760c_69e0_11ea_bbff_6c626d35f69drow27_col2 {\n",
       "            background-color:  #fff5f0;\n",
       "            color:  #000000;\n",
       "        }    #T_d251760c_69e0_11ea_bbff_6c626d35f69drow27_col3 {\n",
       "            background-color:  #fff5f0;\n",
       "            color:  #000000;\n",
       "        }    #T_d251760c_69e0_11ea_bbff_6c626d35f69drow27_col4 {\n",
       "            background-color:  #fff4ee;\n",
       "            color:  #000000;\n",
       "        }    #T_d251760c_69e0_11ea_bbff_6c626d35f69drow28_col1 {\n",
       "            background-color:  #fff5f0;\n",
       "            color:  #000000;\n",
       "        }    #T_d251760c_69e0_11ea_bbff_6c626d35f69drow28_col2 {\n",
       "            background-color:  #fff5f0;\n",
       "            color:  #000000;\n",
       "        }    #T_d251760c_69e0_11ea_bbff_6c626d35f69drow28_col3 {\n",
       "            background-color:  #fff5f0;\n",
       "            color:  #000000;\n",
       "        }    #T_d251760c_69e0_11ea_bbff_6c626d35f69drow28_col4 {\n",
       "            background-color:  #fff4ef;\n",
       "            color:  #000000;\n",
       "        }    #T_d251760c_69e0_11ea_bbff_6c626d35f69drow29_col1 {\n",
       "            background-color:  #fff5f0;\n",
       "            color:  #000000;\n",
       "        }    #T_d251760c_69e0_11ea_bbff_6c626d35f69drow29_col2 {\n",
       "            background-color:  #fff5f0;\n",
       "            color:  #000000;\n",
       "        }    #T_d251760c_69e0_11ea_bbff_6c626d35f69drow29_col3 {\n",
       "            background-color:  #fff5f0;\n",
       "            color:  #000000;\n",
       "        }    #T_d251760c_69e0_11ea_bbff_6c626d35f69drow29_col4 {\n",
       "            background-color:  #fff4ee;\n",
       "            color:  #000000;\n",
       "        }    #T_d251760c_69e0_11ea_bbff_6c626d35f69drow30_col1 {\n",
       "            background-color:  #fff5f0;\n",
       "            color:  #000000;\n",
       "        }    #T_d251760c_69e0_11ea_bbff_6c626d35f69drow30_col2 {\n",
       "            background-color:  #fff5f0;\n",
       "            color:  #000000;\n",
       "        }    #T_d251760c_69e0_11ea_bbff_6c626d35f69drow30_col3 {\n",
       "            background-color:  #fff5f0;\n",
       "            color:  #000000;\n",
       "        }    #T_d251760c_69e0_11ea_bbff_6c626d35f69drow30_col4 {\n",
       "            background-color:  #fff4ee;\n",
       "            color:  #000000;\n",
       "        }    #T_d251760c_69e0_11ea_bbff_6c626d35f69drow31_col1 {\n",
       "            background-color:  #fff5f0;\n",
       "            color:  #000000;\n",
       "        }    #T_d251760c_69e0_11ea_bbff_6c626d35f69drow31_col2 {\n",
       "            background-color:  #fff5f0;\n",
       "            color:  #000000;\n",
       "        }    #T_d251760c_69e0_11ea_bbff_6c626d35f69drow31_col3 {\n",
       "            background-color:  #fff5f0;\n",
       "            color:  #000000;\n",
       "        }    #T_d251760c_69e0_11ea_bbff_6c626d35f69drow31_col4 {\n",
       "            background-color:  #fff4ee;\n",
       "            color:  #000000;\n",
       "        }    #T_d251760c_69e0_11ea_bbff_6c626d35f69drow32_col1 {\n",
       "            background-color:  #fff5f0;\n",
       "            color:  #000000;\n",
       "        }    #T_d251760c_69e0_11ea_bbff_6c626d35f69drow32_col2 {\n",
       "            background-color:  #fff5f0;\n",
       "            color:  #000000;\n",
       "        }    #T_d251760c_69e0_11ea_bbff_6c626d35f69drow32_col3 {\n",
       "            background-color:  #fff5f0;\n",
       "            color:  #000000;\n",
       "        }    #T_d251760c_69e0_11ea_bbff_6c626d35f69drow32_col4 {\n",
       "            background-color:  #fff4ee;\n",
       "            color:  #000000;\n",
       "        }    #T_d251760c_69e0_11ea_bbff_6c626d35f69drow33_col1 {\n",
       "            background-color:  #fff5f0;\n",
       "            color:  #000000;\n",
       "        }    #T_d251760c_69e0_11ea_bbff_6c626d35f69drow33_col2 {\n",
       "            background-color:  #fff5f0;\n",
       "            color:  #000000;\n",
       "        }    #T_d251760c_69e0_11ea_bbff_6c626d35f69drow33_col3 {\n",
       "            background-color:  #fff5f0;\n",
       "            color:  #000000;\n",
       "        }    #T_d251760c_69e0_11ea_bbff_6c626d35f69drow33_col4 {\n",
       "            background-color:  #fff4ee;\n",
       "            color:  #000000;\n",
       "        }    #T_d251760c_69e0_11ea_bbff_6c626d35f69drow34_col1 {\n",
       "            background-color:  #fff5f0;\n",
       "            color:  #000000;\n",
       "        }    #T_d251760c_69e0_11ea_bbff_6c626d35f69drow34_col2 {\n",
       "            background-color:  #fff5f0;\n",
       "            color:  #000000;\n",
       "        }    #T_d251760c_69e0_11ea_bbff_6c626d35f69drow34_col3 {\n",
       "            background-color:  #fff5f0;\n",
       "            color:  #000000;\n",
       "        }    #T_d251760c_69e0_11ea_bbff_6c626d35f69drow34_col4 {\n",
       "            background-color:  #fff4ef;\n",
       "            color:  #000000;\n",
       "        }    #T_d251760c_69e0_11ea_bbff_6c626d35f69drow35_col1 {\n",
       "            background-color:  #fff5f0;\n",
       "            color:  #000000;\n",
       "        }    #T_d251760c_69e0_11ea_bbff_6c626d35f69drow35_col2 {\n",
       "            background-color:  #fff5f0;\n",
       "            color:  #000000;\n",
       "        }    #T_d251760c_69e0_11ea_bbff_6c626d35f69drow35_col3 {\n",
       "            background-color:  #fff5f0;\n",
       "            color:  #000000;\n",
       "        }    #T_d251760c_69e0_11ea_bbff_6c626d35f69drow35_col4 {\n",
       "            background-color:  #fff4ee;\n",
       "            color:  #000000;\n",
       "        }    #T_d251760c_69e0_11ea_bbff_6c626d35f69drow36_col1 {\n",
       "            background-color:  #fff5f0;\n",
       "            color:  #000000;\n",
       "        }    #T_d251760c_69e0_11ea_bbff_6c626d35f69drow36_col2 {\n",
       "            background-color:  #fff5f0;\n",
       "            color:  #000000;\n",
       "        }    #T_d251760c_69e0_11ea_bbff_6c626d35f69drow36_col3 {\n",
       "            background-color:  #fff5f0;\n",
       "            color:  #000000;\n",
       "        }    #T_d251760c_69e0_11ea_bbff_6c626d35f69drow36_col4 {\n",
       "            background-color:  #fff4ee;\n",
       "            color:  #000000;\n",
       "        }    #T_d251760c_69e0_11ea_bbff_6c626d35f69drow37_col1 {\n",
       "            background-color:  #fff5f0;\n",
       "            color:  #000000;\n",
       "        }    #T_d251760c_69e0_11ea_bbff_6c626d35f69drow37_col2 {\n",
       "            background-color:  #fff5f0;\n",
       "            color:  #000000;\n",
       "        }    #T_d251760c_69e0_11ea_bbff_6c626d35f69drow37_col3 {\n",
       "            background-color:  #fff5f0;\n",
       "            color:  #000000;\n",
       "        }    #T_d251760c_69e0_11ea_bbff_6c626d35f69drow37_col4 {\n",
       "            background-color:  #fff4ee;\n",
       "            color:  #000000;\n",
       "        }    #T_d251760c_69e0_11ea_bbff_6c626d35f69drow38_col1 {\n",
       "            background-color:  #fff5f0;\n",
       "            color:  #000000;\n",
       "        }    #T_d251760c_69e0_11ea_bbff_6c626d35f69drow38_col2 {\n",
       "            background-color:  #fff4ef;\n",
       "            color:  #000000;\n",
       "        }    #T_d251760c_69e0_11ea_bbff_6c626d35f69drow38_col3 {\n",
       "            background-color:  #fff5f0;\n",
       "            color:  #000000;\n",
       "        }    #T_d251760c_69e0_11ea_bbff_6c626d35f69drow38_col4 {\n",
       "            background-color:  #fff4ef;\n",
       "            color:  #000000;\n",
       "        }    #T_d251760c_69e0_11ea_bbff_6c626d35f69drow39_col1 {\n",
       "            background-color:  #fff5f0;\n",
       "            color:  #000000;\n",
       "        }    #T_d251760c_69e0_11ea_bbff_6c626d35f69drow39_col2 {\n",
       "            background-color:  #fff5f0;\n",
       "            color:  #000000;\n",
       "        }    #T_d251760c_69e0_11ea_bbff_6c626d35f69drow39_col3 {\n",
       "            background-color:  #fff5f0;\n",
       "            color:  #000000;\n",
       "        }    #T_d251760c_69e0_11ea_bbff_6c626d35f69drow39_col4 {\n",
       "            background-color:  #fff4ef;\n",
       "            color:  #000000;\n",
       "        }    #T_d251760c_69e0_11ea_bbff_6c626d35f69drow40_col1 {\n",
       "            background-color:  #fff5f0;\n",
       "            color:  #000000;\n",
       "        }    #T_d251760c_69e0_11ea_bbff_6c626d35f69drow40_col2 {\n",
       "            background-color:  #fff5f0;\n",
       "            color:  #000000;\n",
       "        }    #T_d251760c_69e0_11ea_bbff_6c626d35f69drow40_col3 {\n",
       "            background-color:  #fff5f0;\n",
       "            color:  #000000;\n",
       "        }    #T_d251760c_69e0_11ea_bbff_6c626d35f69drow40_col4 {\n",
       "            background-color:  #fff4ef;\n",
       "            color:  #000000;\n",
       "        }    #T_d251760c_69e0_11ea_bbff_6c626d35f69drow41_col1 {\n",
       "            background-color:  #fff5f0;\n",
       "            color:  #000000;\n",
       "        }    #T_d251760c_69e0_11ea_bbff_6c626d35f69drow41_col2 {\n",
       "            background-color:  #fff4ef;\n",
       "            color:  #000000;\n",
       "        }    #T_d251760c_69e0_11ea_bbff_6c626d35f69drow41_col3 {\n",
       "            background-color:  #fff5f0;\n",
       "            color:  #000000;\n",
       "        }    #T_d251760c_69e0_11ea_bbff_6c626d35f69drow41_col4 {\n",
       "            background-color:  #fff4ef;\n",
       "            color:  #000000;\n",
       "        }    #T_d251760c_69e0_11ea_bbff_6c626d35f69drow42_col1 {\n",
       "            background-color:  #fff5f0;\n",
       "            color:  #000000;\n",
       "        }    #T_d251760c_69e0_11ea_bbff_6c626d35f69drow42_col2 {\n",
       "            background-color:  #fff5f0;\n",
       "            color:  #000000;\n",
       "        }    #T_d251760c_69e0_11ea_bbff_6c626d35f69drow42_col3 {\n",
       "            background-color:  #fff5f0;\n",
       "            color:  #000000;\n",
       "        }    #T_d251760c_69e0_11ea_bbff_6c626d35f69drow42_col4 {\n",
       "            background-color:  #fff4ef;\n",
       "            color:  #000000;\n",
       "        }    #T_d251760c_69e0_11ea_bbff_6c626d35f69drow43_col1 {\n",
       "            background-color:  #fff5f0;\n",
       "            color:  #000000;\n",
       "        }    #T_d251760c_69e0_11ea_bbff_6c626d35f69drow43_col2 {\n",
       "            background-color:  #fff5f0;\n",
       "            color:  #000000;\n",
       "        }    #T_d251760c_69e0_11ea_bbff_6c626d35f69drow43_col3 {\n",
       "            background-color:  #fff5f0;\n",
       "            color:  #000000;\n",
       "        }    #T_d251760c_69e0_11ea_bbff_6c626d35f69drow43_col4 {\n",
       "            background-color:  #fff4ef;\n",
       "            color:  #000000;\n",
       "        }    #T_d251760c_69e0_11ea_bbff_6c626d35f69drow44_col1 {\n",
       "            background-color:  #fff5f0;\n",
       "            color:  #000000;\n",
       "        }    #T_d251760c_69e0_11ea_bbff_6c626d35f69drow44_col2 {\n",
       "            background-color:  #fff5f0;\n",
       "            color:  #000000;\n",
       "        }    #T_d251760c_69e0_11ea_bbff_6c626d35f69drow44_col3 {\n",
       "            background-color:  #fff5f0;\n",
       "            color:  #000000;\n",
       "        }    #T_d251760c_69e0_11ea_bbff_6c626d35f69drow44_col4 {\n",
       "            background-color:  #fff5f0;\n",
       "            color:  #000000;\n",
       "        }    #T_d251760c_69e0_11ea_bbff_6c626d35f69drow45_col1 {\n",
       "            background-color:  #fff5f0;\n",
       "            color:  #000000;\n",
       "        }    #T_d251760c_69e0_11ea_bbff_6c626d35f69drow45_col2 {\n",
       "            background-color:  #fff5f0;\n",
       "            color:  #000000;\n",
       "        }    #T_d251760c_69e0_11ea_bbff_6c626d35f69drow45_col3 {\n",
       "            background-color:  #fff5f0;\n",
       "            color:  #000000;\n",
       "        }    #T_d251760c_69e0_11ea_bbff_6c626d35f69drow45_col4 {\n",
       "            background-color:  #fff4ef;\n",
       "            color:  #000000;\n",
       "        }    #T_d251760c_69e0_11ea_bbff_6c626d35f69drow46_col1 {\n",
       "            background-color:  #fff5f0;\n",
       "            color:  #000000;\n",
       "        }    #T_d251760c_69e0_11ea_bbff_6c626d35f69drow46_col2 {\n",
       "            background-color:  #fff5f0;\n",
       "            color:  #000000;\n",
       "        }    #T_d251760c_69e0_11ea_bbff_6c626d35f69drow46_col3 {\n",
       "            background-color:  #fff5f0;\n",
       "            color:  #000000;\n",
       "        }    #T_d251760c_69e0_11ea_bbff_6c626d35f69drow46_col4 {\n",
       "            background-color:  #fff4ef;\n",
       "            color:  #000000;\n",
       "        }    #T_d251760c_69e0_11ea_bbff_6c626d35f69drow47_col1 {\n",
       "            background-color:  #fff5f0;\n",
       "            color:  #000000;\n",
       "        }    #T_d251760c_69e0_11ea_bbff_6c626d35f69drow47_col2 {\n",
       "            background-color:  #fff5f0;\n",
       "            color:  #000000;\n",
       "        }    #T_d251760c_69e0_11ea_bbff_6c626d35f69drow47_col3 {\n",
       "            background-color:  #fff5f0;\n",
       "            color:  #000000;\n",
       "        }    #T_d251760c_69e0_11ea_bbff_6c626d35f69drow47_col4 {\n",
       "            background-color:  #fff4ef;\n",
       "            color:  #000000;\n",
       "        }    #T_d251760c_69e0_11ea_bbff_6c626d35f69drow48_col1 {\n",
       "            background-color:  #fff5f0;\n",
       "            color:  #000000;\n",
       "        }    #T_d251760c_69e0_11ea_bbff_6c626d35f69drow48_col2 {\n",
       "            background-color:  #fff5f0;\n",
       "            color:  #000000;\n",
       "        }    #T_d251760c_69e0_11ea_bbff_6c626d35f69drow48_col3 {\n",
       "            background-color:  #fff5f0;\n",
       "            color:  #000000;\n",
       "        }    #T_d251760c_69e0_11ea_bbff_6c626d35f69drow48_col4 {\n",
       "            background-color:  #fff4ef;\n",
       "            color:  #000000;\n",
       "        }    #T_d251760c_69e0_11ea_bbff_6c626d35f69drow49_col1 {\n",
       "            background-color:  #fff5f0;\n",
       "            color:  #000000;\n",
       "        }    #T_d251760c_69e0_11ea_bbff_6c626d35f69drow49_col2 {\n",
       "            background-color:  #fff5f0;\n",
       "            color:  #000000;\n",
       "        }    #T_d251760c_69e0_11ea_bbff_6c626d35f69drow49_col3 {\n",
       "            background-color:  #fff5f0;\n",
       "            color:  #000000;\n",
       "        }    #T_d251760c_69e0_11ea_bbff_6c626d35f69drow49_col4 {\n",
       "            background-color:  #fff4ef;\n",
       "            color:  #000000;\n",
       "        }    #T_d251760c_69e0_11ea_bbff_6c626d35f69drow50_col1 {\n",
       "            background-color:  #fff5f0;\n",
       "            color:  #000000;\n",
       "        }    #T_d251760c_69e0_11ea_bbff_6c626d35f69drow50_col2 {\n",
       "            background-color:  #fff5f0;\n",
       "            color:  #000000;\n",
       "        }    #T_d251760c_69e0_11ea_bbff_6c626d35f69drow50_col3 {\n",
       "            background-color:  #fff5f0;\n",
       "            color:  #000000;\n",
       "        }    #T_d251760c_69e0_11ea_bbff_6c626d35f69drow50_col4 {\n",
       "            background-color:  #fff5f0;\n",
       "            color:  #000000;\n",
       "        }    #T_d251760c_69e0_11ea_bbff_6c626d35f69drow51_col1 {\n",
       "            background-color:  #fff5f0;\n",
       "            color:  #000000;\n",
       "        }    #T_d251760c_69e0_11ea_bbff_6c626d35f69drow51_col2 {\n",
       "            background-color:  #fff5f0;\n",
       "            color:  #000000;\n",
       "        }    #T_d251760c_69e0_11ea_bbff_6c626d35f69drow51_col3 {\n",
       "            background-color:  #fff5f0;\n",
       "            color:  #000000;\n",
       "        }    #T_d251760c_69e0_11ea_bbff_6c626d35f69drow51_col4 {\n",
       "            background-color:  #fff4ef;\n",
       "            color:  #000000;\n",
       "        }    #T_d251760c_69e0_11ea_bbff_6c626d35f69drow52_col1 {\n",
       "            background-color:  #fff5f0;\n",
       "            color:  #000000;\n",
       "        }    #T_d251760c_69e0_11ea_bbff_6c626d35f69drow52_col2 {\n",
       "            background-color:  #fff5f0;\n",
       "            color:  #000000;\n",
       "        }    #T_d251760c_69e0_11ea_bbff_6c626d35f69drow52_col3 {\n",
       "            background-color:  #fff5f0;\n",
       "            color:  #000000;\n",
       "        }    #T_d251760c_69e0_11ea_bbff_6c626d35f69drow52_col4 {\n",
       "            background-color:  #fff5f0;\n",
       "            color:  #000000;\n",
       "        }    #T_d251760c_69e0_11ea_bbff_6c626d35f69drow53_col1 {\n",
       "            background-color:  #fff5f0;\n",
       "            color:  #000000;\n",
       "        }    #T_d251760c_69e0_11ea_bbff_6c626d35f69drow53_col2 {\n",
       "            background-color:  #fff5f0;\n",
       "            color:  #000000;\n",
       "        }    #T_d251760c_69e0_11ea_bbff_6c626d35f69drow53_col3 {\n",
       "            background-color:  #fff5f0;\n",
       "            color:  #000000;\n",
       "        }    #T_d251760c_69e0_11ea_bbff_6c626d35f69drow53_col4 {\n",
       "            background-color:  #fff5f0;\n",
       "            color:  #000000;\n",
       "        }    #T_d251760c_69e0_11ea_bbff_6c626d35f69drow54_col1 {\n",
       "            background-color:  #fff5f0;\n",
       "            color:  #000000;\n",
       "        }    #T_d251760c_69e0_11ea_bbff_6c626d35f69drow54_col2 {\n",
       "            background-color:  #fff5f0;\n",
       "            color:  #000000;\n",
       "        }    #T_d251760c_69e0_11ea_bbff_6c626d35f69drow54_col3 {\n",
       "            background-color:  #fff5f0;\n",
       "            color:  #000000;\n",
       "        }    #T_d251760c_69e0_11ea_bbff_6c626d35f69drow54_col4 {\n",
       "            background-color:  #fff5f0;\n",
       "            color:  #000000;\n",
       "        }    #T_d251760c_69e0_11ea_bbff_6c626d35f69drow55_col1 {\n",
       "            background-color:  #fff5f0;\n",
       "            color:  #000000;\n",
       "        }    #T_d251760c_69e0_11ea_bbff_6c626d35f69drow55_col2 {\n",
       "            background-color:  #fff5f0;\n",
       "            color:  #000000;\n",
       "        }    #T_d251760c_69e0_11ea_bbff_6c626d35f69drow55_col3 {\n",
       "            background-color:  #fff5f0;\n",
       "            color:  #000000;\n",
       "        }    #T_d251760c_69e0_11ea_bbff_6c626d35f69drow55_col4 {\n",
       "            background-color:  #fff5f0;\n",
       "            color:  #000000;\n",
       "        }    #T_d251760c_69e0_11ea_bbff_6c626d35f69drow56_col1 {\n",
       "            background-color:  #fff5f0;\n",
       "            color:  #000000;\n",
       "        }    #T_d251760c_69e0_11ea_bbff_6c626d35f69drow56_col2 {\n",
       "            background-color:  #fff5f0;\n",
       "            color:  #000000;\n",
       "        }    #T_d251760c_69e0_11ea_bbff_6c626d35f69drow56_col3 {\n",
       "            background-color:  #fff5f0;\n",
       "            color:  #000000;\n",
       "        }    #T_d251760c_69e0_11ea_bbff_6c626d35f69drow56_col4 {\n",
       "            background-color:  #fff5f0;\n",
       "            color:  #000000;\n",
       "        }    #T_d251760c_69e0_11ea_bbff_6c626d35f69drow57_col1 {\n",
       "            background-color:  #fff5f0;\n",
       "            color:  #000000;\n",
       "        }    #T_d251760c_69e0_11ea_bbff_6c626d35f69drow57_col2 {\n",
       "            background-color:  #fff5f0;\n",
       "            color:  #000000;\n",
       "        }    #T_d251760c_69e0_11ea_bbff_6c626d35f69drow57_col3 {\n",
       "            background-color:  #fff5f0;\n",
       "            color:  #000000;\n",
       "        }    #T_d251760c_69e0_11ea_bbff_6c626d35f69drow57_col4 {\n",
       "            background-color:  #fff5f0;\n",
       "            color:  #000000;\n",
       "        }    #T_d251760c_69e0_11ea_bbff_6c626d35f69drow58_col1 {\n",
       "            background-color:  #fff5f0;\n",
       "            color:  #000000;\n",
       "        }    #T_d251760c_69e0_11ea_bbff_6c626d35f69drow58_col2 {\n",
       "            background-color:  #fff5f0;\n",
       "            color:  #000000;\n",
       "        }    #T_d251760c_69e0_11ea_bbff_6c626d35f69drow58_col3 {\n",
       "            background-color:  #fff5f0;\n",
       "            color:  #000000;\n",
       "        }    #T_d251760c_69e0_11ea_bbff_6c626d35f69drow58_col4 {\n",
       "            background-color:  #fff5f0;\n",
       "            color:  #000000;\n",
       "        }    #T_d251760c_69e0_11ea_bbff_6c626d35f69drow59_col1 {\n",
       "            background-color:  #fff5f0;\n",
       "            color:  #000000;\n",
       "        }    #T_d251760c_69e0_11ea_bbff_6c626d35f69drow59_col2 {\n",
       "            background-color:  #fff5f0;\n",
       "            color:  #000000;\n",
       "        }    #T_d251760c_69e0_11ea_bbff_6c626d35f69drow59_col3 {\n",
       "            background-color:  #fff5f0;\n",
       "            color:  #000000;\n",
       "        }    #T_d251760c_69e0_11ea_bbff_6c626d35f69drow59_col4 {\n",
       "            background-color:  #fff5f0;\n",
       "            color:  #000000;\n",
       "        }    #T_d251760c_69e0_11ea_bbff_6c626d35f69drow60_col1 {\n",
       "            background-color:  #fff5f0;\n",
       "            color:  #000000;\n",
       "        }    #T_d251760c_69e0_11ea_bbff_6c626d35f69drow60_col2 {\n",
       "            background-color:  #fff5f0;\n",
       "            color:  #000000;\n",
       "        }    #T_d251760c_69e0_11ea_bbff_6c626d35f69drow60_col3 {\n",
       "            background-color:  #fff5f0;\n",
       "            color:  #000000;\n",
       "        }    #T_d251760c_69e0_11ea_bbff_6c626d35f69drow60_col4 {\n",
       "            background-color:  #fff5f0;\n",
       "            color:  #000000;\n",
       "        }    #T_d251760c_69e0_11ea_bbff_6c626d35f69drow61_col1 {\n",
       "            background-color:  #fff5f0;\n",
       "            color:  #000000;\n",
       "        }    #T_d251760c_69e0_11ea_bbff_6c626d35f69drow61_col2 {\n",
       "            background-color:  #fff5f0;\n",
       "            color:  #000000;\n",
       "        }    #T_d251760c_69e0_11ea_bbff_6c626d35f69drow61_col3 {\n",
       "            background-color:  #fff5f0;\n",
       "            color:  #000000;\n",
       "        }    #T_d251760c_69e0_11ea_bbff_6c626d35f69drow61_col4 {\n",
       "            background-color:  #fff5f0;\n",
       "            color:  #000000;\n",
       "        }    #T_d251760c_69e0_11ea_bbff_6c626d35f69drow62_col1 {\n",
       "            background-color:  #fff5f0;\n",
       "            color:  #000000;\n",
       "        }    #T_d251760c_69e0_11ea_bbff_6c626d35f69drow62_col2 {\n",
       "            background-color:  #fff5f0;\n",
       "            color:  #000000;\n",
       "        }    #T_d251760c_69e0_11ea_bbff_6c626d35f69drow62_col3 {\n",
       "            background-color:  #fff5f0;\n",
       "            color:  #000000;\n",
       "        }    #T_d251760c_69e0_11ea_bbff_6c626d35f69drow62_col4 {\n",
       "            background-color:  #fff5f0;\n",
       "            color:  #000000;\n",
       "        }    #T_d251760c_69e0_11ea_bbff_6c626d35f69drow63_col1 {\n",
       "            background-color:  #fff5f0;\n",
       "            color:  #000000;\n",
       "        }    #T_d251760c_69e0_11ea_bbff_6c626d35f69drow63_col2 {\n",
       "            background-color:  #fff5f0;\n",
       "            color:  #000000;\n",
       "        }    #T_d251760c_69e0_11ea_bbff_6c626d35f69drow63_col3 {\n",
       "            background-color:  #fff5f0;\n",
       "            color:  #000000;\n",
       "        }    #T_d251760c_69e0_11ea_bbff_6c626d35f69drow63_col4 {\n",
       "            background-color:  #fff5f0;\n",
       "            color:  #000000;\n",
       "        }    #T_d251760c_69e0_11ea_bbff_6c626d35f69drow64_col1 {\n",
       "            background-color:  #fff5f0;\n",
       "            color:  #000000;\n",
       "        }    #T_d251760c_69e0_11ea_bbff_6c626d35f69drow64_col2 {\n",
       "            background-color:  #fff5f0;\n",
       "            color:  #000000;\n",
       "        }    #T_d251760c_69e0_11ea_bbff_6c626d35f69drow64_col3 {\n",
       "            background-color:  #fff5f0;\n",
       "            color:  #000000;\n",
       "        }    #T_d251760c_69e0_11ea_bbff_6c626d35f69drow64_col4 {\n",
       "            background-color:  #fff5f0;\n",
       "            color:  #000000;\n",
       "        }    #T_d251760c_69e0_11ea_bbff_6c626d35f69drow65_col1 {\n",
       "            background-color:  #fff5f0;\n",
       "            color:  #000000;\n",
       "        }    #T_d251760c_69e0_11ea_bbff_6c626d35f69drow65_col2 {\n",
       "            background-color:  #fff5f0;\n",
       "            color:  #000000;\n",
       "        }    #T_d251760c_69e0_11ea_bbff_6c626d35f69drow65_col3 {\n",
       "            background-color:  #fff5f0;\n",
       "            color:  #000000;\n",
       "        }    #T_d251760c_69e0_11ea_bbff_6c626d35f69drow65_col4 {\n",
       "            background-color:  #fff5f0;\n",
       "            color:  #000000;\n",
       "        }    #T_d251760c_69e0_11ea_bbff_6c626d35f69drow66_col1 {\n",
       "            background-color:  #fff5f0;\n",
       "            color:  #000000;\n",
       "        }    #T_d251760c_69e0_11ea_bbff_6c626d35f69drow66_col2 {\n",
       "            background-color:  #fff5f0;\n",
       "            color:  #000000;\n",
       "        }    #T_d251760c_69e0_11ea_bbff_6c626d35f69drow66_col3 {\n",
       "            background-color:  #fff5f0;\n",
       "            color:  #000000;\n",
       "        }    #T_d251760c_69e0_11ea_bbff_6c626d35f69drow66_col4 {\n",
       "            background-color:  #fff5f0;\n",
       "            color:  #000000;\n",
       "        }    #T_d251760c_69e0_11ea_bbff_6c626d35f69drow67_col1 {\n",
       "            background-color:  #fff5f0;\n",
       "            color:  #000000;\n",
       "        }    #T_d251760c_69e0_11ea_bbff_6c626d35f69drow67_col2 {\n",
       "            background-color:  #fff5f0;\n",
       "            color:  #000000;\n",
       "        }    #T_d251760c_69e0_11ea_bbff_6c626d35f69drow67_col3 {\n",
       "            background-color:  #fff5f0;\n",
       "            color:  #000000;\n",
       "        }    #T_d251760c_69e0_11ea_bbff_6c626d35f69drow67_col4 {\n",
       "            background-color:  #fff5f0;\n",
       "            color:  #000000;\n",
       "        }    #T_d251760c_69e0_11ea_bbff_6c626d35f69drow68_col1 {\n",
       "            background-color:  #fff5f0;\n",
       "            color:  #000000;\n",
       "        }    #T_d251760c_69e0_11ea_bbff_6c626d35f69drow68_col2 {\n",
       "            background-color:  #fff5f0;\n",
       "            color:  #000000;\n",
       "        }    #T_d251760c_69e0_11ea_bbff_6c626d35f69drow68_col3 {\n",
       "            background-color:  #fff5f0;\n",
       "            color:  #000000;\n",
       "        }    #T_d251760c_69e0_11ea_bbff_6c626d35f69drow68_col4 {\n",
       "            background-color:  #fff5f0;\n",
       "            color:  #000000;\n",
       "        }    #T_d251760c_69e0_11ea_bbff_6c626d35f69drow69_col1 {\n",
       "            background-color:  #fff5f0;\n",
       "            color:  #000000;\n",
       "        }    #T_d251760c_69e0_11ea_bbff_6c626d35f69drow69_col2 {\n",
       "            background-color:  #fff5f0;\n",
       "            color:  #000000;\n",
       "        }    #T_d251760c_69e0_11ea_bbff_6c626d35f69drow69_col3 {\n",
       "            background-color:  #fff5f0;\n",
       "            color:  #000000;\n",
       "        }    #T_d251760c_69e0_11ea_bbff_6c626d35f69drow69_col4 {\n",
       "            background-color:  #fff5f0;\n",
       "            color:  #000000;\n",
       "        }    #T_d251760c_69e0_11ea_bbff_6c626d35f69drow70_col1 {\n",
       "            background-color:  #fff5f0;\n",
       "            color:  #000000;\n",
       "        }    #T_d251760c_69e0_11ea_bbff_6c626d35f69drow70_col2 {\n",
       "            background-color:  #fff5f0;\n",
       "            color:  #000000;\n",
       "        }    #T_d251760c_69e0_11ea_bbff_6c626d35f69drow70_col3 {\n",
       "            background-color:  #fff5f0;\n",
       "            color:  #000000;\n",
       "        }    #T_d251760c_69e0_11ea_bbff_6c626d35f69drow70_col4 {\n",
       "            background-color:  #fff5f0;\n",
       "            color:  #000000;\n",
       "        }    #T_d251760c_69e0_11ea_bbff_6c626d35f69drow71_col1 {\n",
       "            background-color:  #fff5f0;\n",
       "            color:  #000000;\n",
       "        }    #T_d251760c_69e0_11ea_bbff_6c626d35f69drow71_col2 {\n",
       "            background-color:  #fff5f0;\n",
       "            color:  #000000;\n",
       "        }    #T_d251760c_69e0_11ea_bbff_6c626d35f69drow71_col3 {\n",
       "            background-color:  #fff5f0;\n",
       "            color:  #000000;\n",
       "        }    #T_d251760c_69e0_11ea_bbff_6c626d35f69drow71_col4 {\n",
       "            background-color:  #fff5f0;\n",
       "            color:  #000000;\n",
       "        }    #T_d251760c_69e0_11ea_bbff_6c626d35f69drow72_col1 {\n",
       "            background-color:  #fff5f0;\n",
       "            color:  #000000;\n",
       "        }    #T_d251760c_69e0_11ea_bbff_6c626d35f69drow72_col2 {\n",
       "            background-color:  #fff5f0;\n",
       "            color:  #000000;\n",
       "        }    #T_d251760c_69e0_11ea_bbff_6c626d35f69drow72_col3 {\n",
       "            background-color:  #fff5f0;\n",
       "            color:  #000000;\n",
       "        }    #T_d251760c_69e0_11ea_bbff_6c626d35f69drow72_col4 {\n",
       "            background-color:  #fff5f0;\n",
       "            color:  #000000;\n",
       "        }    #T_d251760c_69e0_11ea_bbff_6c626d35f69drow73_col1 {\n",
       "            background-color:  #fff5f0;\n",
       "            color:  #000000;\n",
       "        }    #T_d251760c_69e0_11ea_bbff_6c626d35f69drow73_col2 {\n",
       "            background-color:  #fff5f0;\n",
       "            color:  #000000;\n",
       "        }    #T_d251760c_69e0_11ea_bbff_6c626d35f69drow73_col3 {\n",
       "            background-color:  #fff5f0;\n",
       "            color:  #000000;\n",
       "        }    #T_d251760c_69e0_11ea_bbff_6c626d35f69drow73_col4 {\n",
       "            background-color:  #fff5f0;\n",
       "            color:  #000000;\n",
       "        }    #T_d251760c_69e0_11ea_bbff_6c626d35f69drow74_col1 {\n",
       "            background-color:  #fff5f0;\n",
       "            color:  #000000;\n",
       "        }    #T_d251760c_69e0_11ea_bbff_6c626d35f69drow74_col2 {\n",
       "            background-color:  #fff5f0;\n",
       "            color:  #000000;\n",
       "        }    #T_d251760c_69e0_11ea_bbff_6c626d35f69drow74_col3 {\n",
       "            background-color:  #fff5f0;\n",
       "            color:  #000000;\n",
       "        }    #T_d251760c_69e0_11ea_bbff_6c626d35f69drow74_col4 {\n",
       "            background-color:  #fff5f0;\n",
       "            color:  #000000;\n",
       "        }    #T_d251760c_69e0_11ea_bbff_6c626d35f69drow75_col1 {\n",
       "            background-color:  #fff5f0;\n",
       "            color:  #000000;\n",
       "        }    #T_d251760c_69e0_11ea_bbff_6c626d35f69drow75_col2 {\n",
       "            background-color:  #fff5f0;\n",
       "            color:  #000000;\n",
       "        }    #T_d251760c_69e0_11ea_bbff_6c626d35f69drow75_col3 {\n",
       "            background-color:  #fff5f0;\n",
       "            color:  #000000;\n",
       "        }    #T_d251760c_69e0_11ea_bbff_6c626d35f69drow75_col4 {\n",
       "            background-color:  #fff5f0;\n",
       "            color:  #000000;\n",
       "        }    #T_d251760c_69e0_11ea_bbff_6c626d35f69drow76_col1 {\n",
       "            background-color:  #fff5f0;\n",
       "            color:  #000000;\n",
       "        }    #T_d251760c_69e0_11ea_bbff_6c626d35f69drow76_col2 {\n",
       "            background-color:  #fff5f0;\n",
       "            color:  #000000;\n",
       "        }    #T_d251760c_69e0_11ea_bbff_6c626d35f69drow76_col3 {\n",
       "            background-color:  #fff5f0;\n",
       "            color:  #000000;\n",
       "        }    #T_d251760c_69e0_11ea_bbff_6c626d35f69drow76_col4 {\n",
       "            background-color:  #fff5f0;\n",
       "            color:  #000000;\n",
       "        }    #T_d251760c_69e0_11ea_bbff_6c626d35f69drow77_col1 {\n",
       "            background-color:  #fff5f0;\n",
       "            color:  #000000;\n",
       "        }    #T_d251760c_69e0_11ea_bbff_6c626d35f69drow77_col2 {\n",
       "            background-color:  #fff5f0;\n",
       "            color:  #000000;\n",
       "        }    #T_d251760c_69e0_11ea_bbff_6c626d35f69drow77_col3 {\n",
       "            background-color:  #fff5f0;\n",
       "            color:  #000000;\n",
       "        }    #T_d251760c_69e0_11ea_bbff_6c626d35f69drow77_col4 {\n",
       "            background-color:  #fff5f0;\n",
       "            color:  #000000;\n",
       "        }    #T_d251760c_69e0_11ea_bbff_6c626d35f69drow78_col1 {\n",
       "            background-color:  #fff5f0;\n",
       "            color:  #000000;\n",
       "        }    #T_d251760c_69e0_11ea_bbff_6c626d35f69drow78_col2 {\n",
       "            background-color:  #fff5f0;\n",
       "            color:  #000000;\n",
       "        }    #T_d251760c_69e0_11ea_bbff_6c626d35f69drow78_col3 {\n",
       "            background-color:  #fff5f0;\n",
       "            color:  #000000;\n",
       "        }    #T_d251760c_69e0_11ea_bbff_6c626d35f69drow78_col4 {\n",
       "            background-color:  #fff5f0;\n",
       "            color:  #000000;\n",
       "        }    #T_d251760c_69e0_11ea_bbff_6c626d35f69drow79_col1 {\n",
       "            background-color:  #fff5f0;\n",
       "            color:  #000000;\n",
       "        }    #T_d251760c_69e0_11ea_bbff_6c626d35f69drow79_col2 {\n",
       "            background-color:  #fff5f0;\n",
       "            color:  #000000;\n",
       "        }    #T_d251760c_69e0_11ea_bbff_6c626d35f69drow79_col3 {\n",
       "            background-color:  #fff5f0;\n",
       "            color:  #000000;\n",
       "        }    #T_d251760c_69e0_11ea_bbff_6c626d35f69drow79_col4 {\n",
       "            background-color:  #fff5f0;\n",
       "            color:  #000000;\n",
       "        }    #T_d251760c_69e0_11ea_bbff_6c626d35f69drow80_col1 {\n",
       "            background-color:  #fff5f0;\n",
       "            color:  #000000;\n",
       "        }    #T_d251760c_69e0_11ea_bbff_6c626d35f69drow80_col2 {\n",
       "            background-color:  #fff5f0;\n",
       "            color:  #000000;\n",
       "        }    #T_d251760c_69e0_11ea_bbff_6c626d35f69drow80_col3 {\n",
       "            background-color:  #fff5f0;\n",
       "            color:  #000000;\n",
       "        }    #T_d251760c_69e0_11ea_bbff_6c626d35f69drow80_col4 {\n",
       "            background-color:  #fff5f0;\n",
       "            color:  #000000;\n",
       "        }    #T_d251760c_69e0_11ea_bbff_6c626d35f69drow81_col1 {\n",
       "            background-color:  #fff5f0;\n",
       "            color:  #000000;\n",
       "        }    #T_d251760c_69e0_11ea_bbff_6c626d35f69drow81_col2 {\n",
       "            background-color:  #fff5f0;\n",
       "            color:  #000000;\n",
       "        }    #T_d251760c_69e0_11ea_bbff_6c626d35f69drow81_col3 {\n",
       "            background-color:  #fff5f0;\n",
       "            color:  #000000;\n",
       "        }    #T_d251760c_69e0_11ea_bbff_6c626d35f69drow81_col4 {\n",
       "            background-color:  #fff5f0;\n",
       "            color:  #000000;\n",
       "        }    #T_d251760c_69e0_11ea_bbff_6c626d35f69drow82_col1 {\n",
       "            background-color:  #fff5f0;\n",
       "            color:  #000000;\n",
       "        }    #T_d251760c_69e0_11ea_bbff_6c626d35f69drow82_col2 {\n",
       "            background-color:  #fff5f0;\n",
       "            color:  #000000;\n",
       "        }    #T_d251760c_69e0_11ea_bbff_6c626d35f69drow82_col3 {\n",
       "            background-color:  #fff5f0;\n",
       "            color:  #000000;\n",
       "        }    #T_d251760c_69e0_11ea_bbff_6c626d35f69drow82_col4 {\n",
       "            background-color:  #fff5f0;\n",
       "            color:  #000000;\n",
       "        }    #T_d251760c_69e0_11ea_bbff_6c626d35f69drow83_col1 {\n",
       "            background-color:  #fff5f0;\n",
       "            color:  #000000;\n",
       "        }    #T_d251760c_69e0_11ea_bbff_6c626d35f69drow83_col2 {\n",
       "            background-color:  #fff5f0;\n",
       "            color:  #000000;\n",
       "        }    #T_d251760c_69e0_11ea_bbff_6c626d35f69drow83_col3 {\n",
       "            background-color:  #fff5f0;\n",
       "            color:  #000000;\n",
       "        }    #T_d251760c_69e0_11ea_bbff_6c626d35f69drow83_col4 {\n",
       "            background-color:  #fff5f0;\n",
       "            color:  #000000;\n",
       "        }    #T_d251760c_69e0_11ea_bbff_6c626d35f69drow84_col1 {\n",
       "            background-color:  #fff5f0;\n",
       "            color:  #000000;\n",
       "        }    #T_d251760c_69e0_11ea_bbff_6c626d35f69drow84_col2 {\n",
       "            background-color:  #fff5f0;\n",
       "            color:  #000000;\n",
       "        }    #T_d251760c_69e0_11ea_bbff_6c626d35f69drow84_col3 {\n",
       "            background-color:  #fff5f0;\n",
       "            color:  #000000;\n",
       "        }    #T_d251760c_69e0_11ea_bbff_6c626d35f69drow84_col4 {\n",
       "            background-color:  #fff5f0;\n",
       "            color:  #000000;\n",
       "        }    #T_d251760c_69e0_11ea_bbff_6c626d35f69drow85_col1 {\n",
       "            background-color:  #fff5f0;\n",
       "            color:  #000000;\n",
       "        }    #T_d251760c_69e0_11ea_bbff_6c626d35f69drow85_col2 {\n",
       "            background-color:  #fff5f0;\n",
       "            color:  #000000;\n",
       "        }    #T_d251760c_69e0_11ea_bbff_6c626d35f69drow85_col3 {\n",
       "            background-color:  #fff5f0;\n",
       "            color:  #000000;\n",
       "        }    #T_d251760c_69e0_11ea_bbff_6c626d35f69drow85_col4 {\n",
       "            background-color:  #fff5f0;\n",
       "            color:  #000000;\n",
       "        }    #T_d251760c_69e0_11ea_bbff_6c626d35f69drow86_col1 {\n",
       "            background-color:  #fff5f0;\n",
       "            color:  #000000;\n",
       "        }    #T_d251760c_69e0_11ea_bbff_6c626d35f69drow86_col2 {\n",
       "            background-color:  #fff5f0;\n",
       "            color:  #000000;\n",
       "        }    #T_d251760c_69e0_11ea_bbff_6c626d35f69drow86_col3 {\n",
       "            background-color:  #fff5f0;\n",
       "            color:  #000000;\n",
       "        }    #T_d251760c_69e0_11ea_bbff_6c626d35f69drow86_col4 {\n",
       "            background-color:  #fff5f0;\n",
       "            color:  #000000;\n",
       "        }    #T_d251760c_69e0_11ea_bbff_6c626d35f69drow87_col1 {\n",
       "            background-color:  #fff5f0;\n",
       "            color:  #000000;\n",
       "        }    #T_d251760c_69e0_11ea_bbff_6c626d35f69drow87_col2 {\n",
       "            background-color:  #fff5f0;\n",
       "            color:  #000000;\n",
       "        }    #T_d251760c_69e0_11ea_bbff_6c626d35f69drow87_col3 {\n",
       "            background-color:  #fff5f0;\n",
       "            color:  #000000;\n",
       "        }    #T_d251760c_69e0_11ea_bbff_6c626d35f69drow87_col4 {\n",
       "            background-color:  #fff5f0;\n",
       "            color:  #000000;\n",
       "        }    #T_d251760c_69e0_11ea_bbff_6c626d35f69drow88_col1 {\n",
       "            background-color:  #fff5f0;\n",
       "            color:  #000000;\n",
       "        }    #T_d251760c_69e0_11ea_bbff_6c626d35f69drow88_col2 {\n",
       "            background-color:  #fff5f0;\n",
       "            color:  #000000;\n",
       "        }    #T_d251760c_69e0_11ea_bbff_6c626d35f69drow88_col3 {\n",
       "            background-color:  #fff5f0;\n",
       "            color:  #000000;\n",
       "        }    #T_d251760c_69e0_11ea_bbff_6c626d35f69drow88_col4 {\n",
       "            background-color:  #fff5f0;\n",
       "            color:  #000000;\n",
       "        }    #T_d251760c_69e0_11ea_bbff_6c626d35f69drow89_col1 {\n",
       "            background-color:  #fff5f0;\n",
       "            color:  #000000;\n",
       "        }    #T_d251760c_69e0_11ea_bbff_6c626d35f69drow89_col2 {\n",
       "            background-color:  #fff5f0;\n",
       "            color:  #000000;\n",
       "        }    #T_d251760c_69e0_11ea_bbff_6c626d35f69drow89_col3 {\n",
       "            background-color:  #fff5f0;\n",
       "            color:  #000000;\n",
       "        }    #T_d251760c_69e0_11ea_bbff_6c626d35f69drow89_col4 {\n",
       "            background-color:  #fff5f0;\n",
       "            color:  #000000;\n",
       "        }    #T_d251760c_69e0_11ea_bbff_6c626d35f69drow90_col1 {\n",
       "            background-color:  #fff5f0;\n",
       "            color:  #000000;\n",
       "        }    #T_d251760c_69e0_11ea_bbff_6c626d35f69drow90_col2 {\n",
       "            background-color:  #fff5f0;\n",
       "            color:  #000000;\n",
       "        }    #T_d251760c_69e0_11ea_bbff_6c626d35f69drow90_col3 {\n",
       "            background-color:  #fff5f0;\n",
       "            color:  #000000;\n",
       "        }    #T_d251760c_69e0_11ea_bbff_6c626d35f69drow90_col4 {\n",
       "            background-color:  #fff5f0;\n",
       "            color:  #000000;\n",
       "        }    #T_d251760c_69e0_11ea_bbff_6c626d35f69drow91_col1 {\n",
       "            background-color:  #fff5f0;\n",
       "            color:  #000000;\n",
       "        }    #T_d251760c_69e0_11ea_bbff_6c626d35f69drow91_col2 {\n",
       "            background-color:  #fff5f0;\n",
       "            color:  #000000;\n",
       "        }    #T_d251760c_69e0_11ea_bbff_6c626d35f69drow91_col3 {\n",
       "            background-color:  #fff5f0;\n",
       "            color:  #000000;\n",
       "        }    #T_d251760c_69e0_11ea_bbff_6c626d35f69drow91_col4 {\n",
       "            background-color:  #fff5f0;\n",
       "            color:  #000000;\n",
       "        }    #T_d251760c_69e0_11ea_bbff_6c626d35f69drow92_col1 {\n",
       "            background-color:  #fff5f0;\n",
       "            color:  #000000;\n",
       "        }    #T_d251760c_69e0_11ea_bbff_6c626d35f69drow92_col2 {\n",
       "            background-color:  #fff5f0;\n",
       "            color:  #000000;\n",
       "        }    #T_d251760c_69e0_11ea_bbff_6c626d35f69drow92_col3 {\n",
       "            background-color:  #fff5f0;\n",
       "            color:  #000000;\n",
       "        }    #T_d251760c_69e0_11ea_bbff_6c626d35f69drow92_col4 {\n",
       "            background-color:  #fff5f0;\n",
       "            color:  #000000;\n",
       "        }    #T_d251760c_69e0_11ea_bbff_6c626d35f69drow93_col1 {\n",
       "            background-color:  #fff5f0;\n",
       "            color:  #000000;\n",
       "        }    #T_d251760c_69e0_11ea_bbff_6c626d35f69drow93_col2 {\n",
       "            background-color:  #fff5f0;\n",
       "            color:  #000000;\n",
       "        }    #T_d251760c_69e0_11ea_bbff_6c626d35f69drow93_col3 {\n",
       "            background-color:  #fff5f0;\n",
       "            color:  #000000;\n",
       "        }    #T_d251760c_69e0_11ea_bbff_6c626d35f69drow93_col4 {\n",
       "            background-color:  #fff5f0;\n",
       "            color:  #000000;\n",
       "        }    #T_d251760c_69e0_11ea_bbff_6c626d35f69drow94_col1 {\n",
       "            background-color:  #fff5f0;\n",
       "            color:  #000000;\n",
       "        }    #T_d251760c_69e0_11ea_bbff_6c626d35f69drow94_col2 {\n",
       "            background-color:  #fff5f0;\n",
       "            color:  #000000;\n",
       "        }    #T_d251760c_69e0_11ea_bbff_6c626d35f69drow94_col3 {\n",
       "            background-color:  #fff5f0;\n",
       "            color:  #000000;\n",
       "        }    #T_d251760c_69e0_11ea_bbff_6c626d35f69drow94_col4 {\n",
       "            background-color:  #fff5f0;\n",
       "            color:  #000000;\n",
       "        }    #T_d251760c_69e0_11ea_bbff_6c626d35f69drow95_col1 {\n",
       "            background-color:  #fff5f0;\n",
       "            color:  #000000;\n",
       "        }    #T_d251760c_69e0_11ea_bbff_6c626d35f69drow95_col2 {\n",
       "            background-color:  #fff5f0;\n",
       "            color:  #000000;\n",
       "        }    #T_d251760c_69e0_11ea_bbff_6c626d35f69drow95_col3 {\n",
       "            background-color:  #fff5f0;\n",
       "            color:  #000000;\n",
       "        }    #T_d251760c_69e0_11ea_bbff_6c626d35f69drow95_col4 {\n",
       "            background-color:  #fff5f0;\n",
       "            color:  #000000;\n",
       "        }    #T_d251760c_69e0_11ea_bbff_6c626d35f69drow96_col1 {\n",
       "            background-color:  #fff5f0;\n",
       "            color:  #000000;\n",
       "        }    #T_d251760c_69e0_11ea_bbff_6c626d35f69drow96_col2 {\n",
       "            background-color:  #fff5f0;\n",
       "            color:  #000000;\n",
       "        }    #T_d251760c_69e0_11ea_bbff_6c626d35f69drow96_col3 {\n",
       "            background-color:  #fff5f0;\n",
       "            color:  #000000;\n",
       "        }    #T_d251760c_69e0_11ea_bbff_6c626d35f69drow96_col4 {\n",
       "            background-color:  #fff5f0;\n",
       "            color:  #000000;\n",
       "        }    #T_d251760c_69e0_11ea_bbff_6c626d35f69drow97_col1 {\n",
       "            background-color:  #fff5f0;\n",
       "            color:  #000000;\n",
       "        }    #T_d251760c_69e0_11ea_bbff_6c626d35f69drow97_col2 {\n",
       "            background-color:  #fff5f0;\n",
       "            color:  #000000;\n",
       "        }    #T_d251760c_69e0_11ea_bbff_6c626d35f69drow97_col3 {\n",
       "            background-color:  #fff5f0;\n",
       "            color:  #000000;\n",
       "        }    #T_d251760c_69e0_11ea_bbff_6c626d35f69drow97_col4 {\n",
       "            background-color:  #fff5f0;\n",
       "            color:  #000000;\n",
       "        }    #T_d251760c_69e0_11ea_bbff_6c626d35f69drow98_col1 {\n",
       "            background-color:  #fff5f0;\n",
       "            color:  #000000;\n",
       "        }    #T_d251760c_69e0_11ea_bbff_6c626d35f69drow98_col2 {\n",
       "            background-color:  #fff5f0;\n",
       "            color:  #000000;\n",
       "        }    #T_d251760c_69e0_11ea_bbff_6c626d35f69drow98_col3 {\n",
       "            background-color:  #fff5f0;\n",
       "            color:  #000000;\n",
       "        }    #T_d251760c_69e0_11ea_bbff_6c626d35f69drow98_col4 {\n",
       "            background-color:  #fff5f0;\n",
       "            color:  #000000;\n",
       "        }    #T_d251760c_69e0_11ea_bbff_6c626d35f69drow99_col1 {\n",
       "            background-color:  #fff5f0;\n",
       "            color:  #000000;\n",
       "        }    #T_d251760c_69e0_11ea_bbff_6c626d35f69drow99_col2 {\n",
       "            background-color:  #fff5f0;\n",
       "            color:  #000000;\n",
       "        }    #T_d251760c_69e0_11ea_bbff_6c626d35f69drow99_col3 {\n",
       "            background-color:  #fff5f0;\n",
       "            color:  #000000;\n",
       "        }    #T_d251760c_69e0_11ea_bbff_6c626d35f69drow99_col4 {\n",
       "            background-color:  #fff5f0;\n",
       "            color:  #000000;\n",
       "        }    #T_d251760c_69e0_11ea_bbff_6c626d35f69drow100_col1 {\n",
       "            background-color:  #fff5f0;\n",
       "            color:  #000000;\n",
       "        }    #T_d251760c_69e0_11ea_bbff_6c626d35f69drow100_col2 {\n",
       "            background-color:  #fff5f0;\n",
       "            color:  #000000;\n",
       "        }    #T_d251760c_69e0_11ea_bbff_6c626d35f69drow100_col3 {\n",
       "            background-color:  #fff5f0;\n",
       "            color:  #000000;\n",
       "        }    #T_d251760c_69e0_11ea_bbff_6c626d35f69drow100_col4 {\n",
       "            background-color:  #fff5f0;\n",
       "            color:  #000000;\n",
       "        }    #T_d251760c_69e0_11ea_bbff_6c626d35f69drow101_col1 {\n",
       "            background-color:  #fff5f0;\n",
       "            color:  #000000;\n",
       "        }    #T_d251760c_69e0_11ea_bbff_6c626d35f69drow101_col2 {\n",
       "            background-color:  #fff5f0;\n",
       "            color:  #000000;\n",
       "        }    #T_d251760c_69e0_11ea_bbff_6c626d35f69drow101_col3 {\n",
       "            background-color:  #fff5f0;\n",
       "            color:  #000000;\n",
       "        }    #T_d251760c_69e0_11ea_bbff_6c626d35f69drow101_col4 {\n",
       "            background-color:  #fff5f0;\n",
       "            color:  #000000;\n",
       "        }    #T_d251760c_69e0_11ea_bbff_6c626d35f69drow102_col1 {\n",
       "            background-color:  #fff5f0;\n",
       "            color:  #000000;\n",
       "        }    #T_d251760c_69e0_11ea_bbff_6c626d35f69drow102_col2 {\n",
       "            background-color:  #fff5f0;\n",
       "            color:  #000000;\n",
       "        }    #T_d251760c_69e0_11ea_bbff_6c626d35f69drow102_col3 {\n",
       "            background-color:  #fff5f0;\n",
       "            color:  #000000;\n",
       "        }    #T_d251760c_69e0_11ea_bbff_6c626d35f69drow102_col4 {\n",
       "            background-color:  #fff5f0;\n",
       "            color:  #000000;\n",
       "        }    #T_d251760c_69e0_11ea_bbff_6c626d35f69drow103_col1 {\n",
       "            background-color:  #fff5f0;\n",
       "            color:  #000000;\n",
       "        }    #T_d251760c_69e0_11ea_bbff_6c626d35f69drow103_col2 {\n",
       "            background-color:  #fff5f0;\n",
       "            color:  #000000;\n",
       "        }    #T_d251760c_69e0_11ea_bbff_6c626d35f69drow103_col3 {\n",
       "            background-color:  #fff5f0;\n",
       "            color:  #000000;\n",
       "        }    #T_d251760c_69e0_11ea_bbff_6c626d35f69drow103_col4 {\n",
       "            background-color:  #fff5f0;\n",
       "            color:  #000000;\n",
       "        }    #T_d251760c_69e0_11ea_bbff_6c626d35f69drow104_col1 {\n",
       "            background-color:  #fff5f0;\n",
       "            color:  #000000;\n",
       "        }    #T_d251760c_69e0_11ea_bbff_6c626d35f69drow104_col2 {\n",
       "            background-color:  #fff5f0;\n",
       "            color:  #000000;\n",
       "        }    #T_d251760c_69e0_11ea_bbff_6c626d35f69drow104_col3 {\n",
       "            background-color:  #fff5f0;\n",
       "            color:  #000000;\n",
       "        }    #T_d251760c_69e0_11ea_bbff_6c626d35f69drow104_col4 {\n",
       "            background-color:  #fff5f0;\n",
       "            color:  #000000;\n",
       "        }    #T_d251760c_69e0_11ea_bbff_6c626d35f69drow105_col1 {\n",
       "            background-color:  #fff5f0;\n",
       "            color:  #000000;\n",
       "        }    #T_d251760c_69e0_11ea_bbff_6c626d35f69drow105_col2 {\n",
       "            background-color:  #fff5f0;\n",
       "            color:  #000000;\n",
       "        }    #T_d251760c_69e0_11ea_bbff_6c626d35f69drow105_col3 {\n",
       "            background-color:  #fff5f0;\n",
       "            color:  #000000;\n",
       "        }    #T_d251760c_69e0_11ea_bbff_6c626d35f69drow105_col4 {\n",
       "            background-color:  #fff5f0;\n",
       "            color:  #000000;\n",
       "        }    #T_d251760c_69e0_11ea_bbff_6c626d35f69drow106_col1 {\n",
       "            background-color:  #fff5f0;\n",
       "            color:  #000000;\n",
       "        }    #T_d251760c_69e0_11ea_bbff_6c626d35f69drow106_col2 {\n",
       "            background-color:  #fff5f0;\n",
       "            color:  #000000;\n",
       "        }    #T_d251760c_69e0_11ea_bbff_6c626d35f69drow106_col3 {\n",
       "            background-color:  #fff5f0;\n",
       "            color:  #000000;\n",
       "        }    #T_d251760c_69e0_11ea_bbff_6c626d35f69drow106_col4 {\n",
       "            background-color:  #fff5f0;\n",
       "            color:  #000000;\n",
       "        }    #T_d251760c_69e0_11ea_bbff_6c626d35f69drow107_col1 {\n",
       "            background-color:  #fff5f0;\n",
       "            color:  #000000;\n",
       "        }    #T_d251760c_69e0_11ea_bbff_6c626d35f69drow107_col2 {\n",
       "            background-color:  #fff5f0;\n",
       "            color:  #000000;\n",
       "        }    #T_d251760c_69e0_11ea_bbff_6c626d35f69drow107_col3 {\n",
       "            background-color:  #fff5f0;\n",
       "            color:  #000000;\n",
       "        }    #T_d251760c_69e0_11ea_bbff_6c626d35f69drow107_col4 {\n",
       "            background-color:  #fff5f0;\n",
       "            color:  #000000;\n",
       "        }    #T_d251760c_69e0_11ea_bbff_6c626d35f69drow108_col1 {\n",
       "            background-color:  #fff5f0;\n",
       "            color:  #000000;\n",
       "        }    #T_d251760c_69e0_11ea_bbff_6c626d35f69drow108_col2 {\n",
       "            background-color:  #fff5f0;\n",
       "            color:  #000000;\n",
       "        }    #T_d251760c_69e0_11ea_bbff_6c626d35f69drow108_col3 {\n",
       "            background-color:  #fff5f0;\n",
       "            color:  #000000;\n",
       "        }    #T_d251760c_69e0_11ea_bbff_6c626d35f69drow108_col4 {\n",
       "            background-color:  #fff5f0;\n",
       "            color:  #000000;\n",
       "        }    #T_d251760c_69e0_11ea_bbff_6c626d35f69drow109_col1 {\n",
       "            background-color:  #fff5f0;\n",
       "            color:  #000000;\n",
       "        }    #T_d251760c_69e0_11ea_bbff_6c626d35f69drow109_col2 {\n",
       "            background-color:  #fff5f0;\n",
       "            color:  #000000;\n",
       "        }    #T_d251760c_69e0_11ea_bbff_6c626d35f69drow109_col3 {\n",
       "            background-color:  #fff5f0;\n",
       "            color:  #000000;\n",
       "        }    #T_d251760c_69e0_11ea_bbff_6c626d35f69drow109_col4 {\n",
       "            background-color:  #fff5f0;\n",
       "            color:  #000000;\n",
       "        }    #T_d251760c_69e0_11ea_bbff_6c626d35f69drow110_col1 {\n",
       "            background-color:  #fff5f0;\n",
       "            color:  #000000;\n",
       "        }    #T_d251760c_69e0_11ea_bbff_6c626d35f69drow110_col2 {\n",
       "            background-color:  #fff5f0;\n",
       "            color:  #000000;\n",
       "        }    #T_d251760c_69e0_11ea_bbff_6c626d35f69drow110_col3 {\n",
       "            background-color:  #fff5f0;\n",
       "            color:  #000000;\n",
       "        }    #T_d251760c_69e0_11ea_bbff_6c626d35f69drow110_col4 {\n",
       "            background-color:  #fff5f0;\n",
       "            color:  #000000;\n",
       "        }    #T_d251760c_69e0_11ea_bbff_6c626d35f69drow111_col1 {\n",
       "            background-color:  #fff5f0;\n",
       "            color:  #000000;\n",
       "        }    #T_d251760c_69e0_11ea_bbff_6c626d35f69drow111_col2 {\n",
       "            background-color:  #fff5f0;\n",
       "            color:  #000000;\n",
       "        }    #T_d251760c_69e0_11ea_bbff_6c626d35f69drow111_col3 {\n",
       "            background-color:  #fff5f0;\n",
       "            color:  #000000;\n",
       "        }    #T_d251760c_69e0_11ea_bbff_6c626d35f69drow111_col4 {\n",
       "            background-color:  #fff5f0;\n",
       "            color:  #000000;\n",
       "        }    #T_d251760c_69e0_11ea_bbff_6c626d35f69drow112_col1 {\n",
       "            background-color:  #fff5f0;\n",
       "            color:  #000000;\n",
       "        }    #T_d251760c_69e0_11ea_bbff_6c626d35f69drow112_col2 {\n",
       "            background-color:  #fff5f0;\n",
       "            color:  #000000;\n",
       "        }    #T_d251760c_69e0_11ea_bbff_6c626d35f69drow112_col3 {\n",
       "            background-color:  #fff5f0;\n",
       "            color:  #000000;\n",
       "        }    #T_d251760c_69e0_11ea_bbff_6c626d35f69drow112_col4 {\n",
       "            background-color:  #fff5f0;\n",
       "            color:  #000000;\n",
       "        }    #T_d251760c_69e0_11ea_bbff_6c626d35f69drow113_col1 {\n",
       "            background-color:  #fff5f0;\n",
       "            color:  #000000;\n",
       "        }    #T_d251760c_69e0_11ea_bbff_6c626d35f69drow113_col2 {\n",
       "            background-color:  #fff5f0;\n",
       "            color:  #000000;\n",
       "        }    #T_d251760c_69e0_11ea_bbff_6c626d35f69drow113_col3 {\n",
       "            background-color:  #fff5f0;\n",
       "            color:  #000000;\n",
       "        }    #T_d251760c_69e0_11ea_bbff_6c626d35f69drow113_col4 {\n",
       "            background-color:  #fff5f0;\n",
       "            color:  #000000;\n",
       "        }    #T_d251760c_69e0_11ea_bbff_6c626d35f69drow114_col1 {\n",
       "            background-color:  #fff5f0;\n",
       "            color:  #000000;\n",
       "        }    #T_d251760c_69e0_11ea_bbff_6c626d35f69drow114_col2 {\n",
       "            background-color:  #fff5f0;\n",
       "            color:  #000000;\n",
       "        }    #T_d251760c_69e0_11ea_bbff_6c626d35f69drow114_col3 {\n",
       "            background-color:  #fff5f0;\n",
       "            color:  #000000;\n",
       "        }    #T_d251760c_69e0_11ea_bbff_6c626d35f69drow114_col4 {\n",
       "            background-color:  #fff5f0;\n",
       "            color:  #000000;\n",
       "        }    #T_d251760c_69e0_11ea_bbff_6c626d35f69drow115_col1 {\n",
       "            background-color:  #fff5f0;\n",
       "            color:  #000000;\n",
       "        }    #T_d251760c_69e0_11ea_bbff_6c626d35f69drow115_col2 {\n",
       "            background-color:  #fff5f0;\n",
       "            color:  #000000;\n",
       "        }    #T_d251760c_69e0_11ea_bbff_6c626d35f69drow115_col3 {\n",
       "            background-color:  #fff5f0;\n",
       "            color:  #000000;\n",
       "        }    #T_d251760c_69e0_11ea_bbff_6c626d35f69drow115_col4 {\n",
       "            background-color:  #fff5f0;\n",
       "            color:  #000000;\n",
       "        }    #T_d251760c_69e0_11ea_bbff_6c626d35f69drow116_col1 {\n",
       "            background-color:  #fff5f0;\n",
       "            color:  #000000;\n",
       "        }    #T_d251760c_69e0_11ea_bbff_6c626d35f69drow116_col2 {\n",
       "            background-color:  #fff5f0;\n",
       "            color:  #000000;\n",
       "        }    #T_d251760c_69e0_11ea_bbff_6c626d35f69drow116_col3 {\n",
       "            background-color:  #fff5f0;\n",
       "            color:  #000000;\n",
       "        }    #T_d251760c_69e0_11ea_bbff_6c626d35f69drow116_col4 {\n",
       "            background-color:  #fff5f0;\n",
       "            color:  #000000;\n",
       "        }    #T_d251760c_69e0_11ea_bbff_6c626d35f69drow117_col1 {\n",
       "            background-color:  #fff5f0;\n",
       "            color:  #000000;\n",
       "        }    #T_d251760c_69e0_11ea_bbff_6c626d35f69drow117_col2 {\n",
       "            background-color:  #fff5f0;\n",
       "            color:  #000000;\n",
       "        }    #T_d251760c_69e0_11ea_bbff_6c626d35f69drow117_col3 {\n",
       "            background-color:  #fff5f0;\n",
       "            color:  #000000;\n",
       "        }    #T_d251760c_69e0_11ea_bbff_6c626d35f69drow117_col4 {\n",
       "            background-color:  #fff5f0;\n",
       "            color:  #000000;\n",
       "        }    #T_d251760c_69e0_11ea_bbff_6c626d35f69drow118_col1 {\n",
       "            background-color:  #fff5f0;\n",
       "            color:  #000000;\n",
       "        }    #T_d251760c_69e0_11ea_bbff_6c626d35f69drow118_col2 {\n",
       "            background-color:  #fff5f0;\n",
       "            color:  #000000;\n",
       "        }    #T_d251760c_69e0_11ea_bbff_6c626d35f69drow118_col3 {\n",
       "            background-color:  #fff5f0;\n",
       "            color:  #000000;\n",
       "        }    #T_d251760c_69e0_11ea_bbff_6c626d35f69drow118_col4 {\n",
       "            background-color:  #fff5f0;\n",
       "            color:  #000000;\n",
       "        }    #T_d251760c_69e0_11ea_bbff_6c626d35f69drow119_col1 {\n",
       "            background-color:  #fff5f0;\n",
       "            color:  #000000;\n",
       "        }    #T_d251760c_69e0_11ea_bbff_6c626d35f69drow119_col2 {\n",
       "            background-color:  #fff5f0;\n",
       "            color:  #000000;\n",
       "        }    #T_d251760c_69e0_11ea_bbff_6c626d35f69drow119_col3 {\n",
       "            background-color:  #fff5f0;\n",
       "            color:  #000000;\n",
       "        }    #T_d251760c_69e0_11ea_bbff_6c626d35f69drow119_col4 {\n",
       "            background-color:  #fff5f0;\n",
       "            color:  #000000;\n",
       "        }    #T_d251760c_69e0_11ea_bbff_6c626d35f69drow120_col1 {\n",
       "            background-color:  #fff5f0;\n",
       "            color:  #000000;\n",
       "        }    #T_d251760c_69e0_11ea_bbff_6c626d35f69drow120_col2 {\n",
       "            background-color:  #fff5f0;\n",
       "            color:  #000000;\n",
       "        }    #T_d251760c_69e0_11ea_bbff_6c626d35f69drow120_col3 {\n",
       "            background-color:  #fff5f0;\n",
       "            color:  #000000;\n",
       "        }    #T_d251760c_69e0_11ea_bbff_6c626d35f69drow120_col4 {\n",
       "            background-color:  #fff5f0;\n",
       "            color:  #000000;\n",
       "        }    #T_d251760c_69e0_11ea_bbff_6c626d35f69drow121_col1 {\n",
       "            background-color:  #fff5f0;\n",
       "            color:  #000000;\n",
       "        }    #T_d251760c_69e0_11ea_bbff_6c626d35f69drow121_col2 {\n",
       "            background-color:  #fff5f0;\n",
       "            color:  #000000;\n",
       "        }    #T_d251760c_69e0_11ea_bbff_6c626d35f69drow121_col3 {\n",
       "            background-color:  #fff5f0;\n",
       "            color:  #000000;\n",
       "        }    #T_d251760c_69e0_11ea_bbff_6c626d35f69drow121_col4 {\n",
       "            background-color:  #fff5f0;\n",
       "            color:  #000000;\n",
       "        }    #T_d251760c_69e0_11ea_bbff_6c626d35f69drow122_col1 {\n",
       "            background-color:  #fff5f0;\n",
       "            color:  #000000;\n",
       "        }    #T_d251760c_69e0_11ea_bbff_6c626d35f69drow122_col2 {\n",
       "            background-color:  #fff5f0;\n",
       "            color:  #000000;\n",
       "        }    #T_d251760c_69e0_11ea_bbff_6c626d35f69drow122_col3 {\n",
       "            background-color:  #fff5f0;\n",
       "            color:  #000000;\n",
       "        }    #T_d251760c_69e0_11ea_bbff_6c626d35f69drow122_col4 {\n",
       "            background-color:  #fff5f0;\n",
       "            color:  #000000;\n",
       "        }    #T_d251760c_69e0_11ea_bbff_6c626d35f69drow123_col1 {\n",
       "            background-color:  #fff5f0;\n",
       "            color:  #000000;\n",
       "        }    #T_d251760c_69e0_11ea_bbff_6c626d35f69drow123_col2 {\n",
       "            background-color:  #fff5f0;\n",
       "            color:  #000000;\n",
       "        }    #T_d251760c_69e0_11ea_bbff_6c626d35f69drow123_col3 {\n",
       "            background-color:  #fff5f0;\n",
       "            color:  #000000;\n",
       "        }    #T_d251760c_69e0_11ea_bbff_6c626d35f69drow123_col4 {\n",
       "            background-color:  #fff5f0;\n",
       "            color:  #000000;\n",
       "        }    #T_d251760c_69e0_11ea_bbff_6c626d35f69drow124_col1 {\n",
       "            background-color:  #fff5f0;\n",
       "            color:  #000000;\n",
       "        }    #T_d251760c_69e0_11ea_bbff_6c626d35f69drow124_col2 {\n",
       "            background-color:  #fff5f0;\n",
       "            color:  #000000;\n",
       "        }    #T_d251760c_69e0_11ea_bbff_6c626d35f69drow124_col3 {\n",
       "            background-color:  #fff5f0;\n",
       "            color:  #000000;\n",
       "        }    #T_d251760c_69e0_11ea_bbff_6c626d35f69drow124_col4 {\n",
       "            background-color:  #fff5f0;\n",
       "            color:  #000000;\n",
       "        }    #T_d251760c_69e0_11ea_bbff_6c626d35f69drow125_col1 {\n",
       "            background-color:  #fff5f0;\n",
       "            color:  #000000;\n",
       "        }    #T_d251760c_69e0_11ea_bbff_6c626d35f69drow125_col2 {\n",
       "            background-color:  #fff5f0;\n",
       "            color:  #000000;\n",
       "        }    #T_d251760c_69e0_11ea_bbff_6c626d35f69drow125_col3 {\n",
       "            background-color:  #fff5f0;\n",
       "            color:  #000000;\n",
       "        }    #T_d251760c_69e0_11ea_bbff_6c626d35f69drow125_col4 {\n",
       "            background-color:  #fff5f0;\n",
       "            color:  #000000;\n",
       "        }    #T_d251760c_69e0_11ea_bbff_6c626d35f69drow126_col1 {\n",
       "            background-color:  #fff5f0;\n",
       "            color:  #000000;\n",
       "        }    #T_d251760c_69e0_11ea_bbff_6c626d35f69drow126_col2 {\n",
       "            background-color:  #fff5f0;\n",
       "            color:  #000000;\n",
       "        }    #T_d251760c_69e0_11ea_bbff_6c626d35f69drow126_col3 {\n",
       "            background-color:  #fff5f0;\n",
       "            color:  #000000;\n",
       "        }    #T_d251760c_69e0_11ea_bbff_6c626d35f69drow126_col4 {\n",
       "            background-color:  #fff5f0;\n",
       "            color:  #000000;\n",
       "        }    #T_d251760c_69e0_11ea_bbff_6c626d35f69drow127_col1 {\n",
       "            background-color:  #fff5f0;\n",
       "            color:  #000000;\n",
       "        }    #T_d251760c_69e0_11ea_bbff_6c626d35f69drow127_col2 {\n",
       "            background-color:  #fff5f0;\n",
       "            color:  #000000;\n",
       "        }    #T_d251760c_69e0_11ea_bbff_6c626d35f69drow127_col3 {\n",
       "            background-color:  #fff5f0;\n",
       "            color:  #000000;\n",
       "        }    #T_d251760c_69e0_11ea_bbff_6c626d35f69drow127_col4 {\n",
       "            background-color:  #fff5f0;\n",
       "            color:  #000000;\n",
       "        }    #T_d251760c_69e0_11ea_bbff_6c626d35f69drow128_col1 {\n",
       "            background-color:  #fff5f0;\n",
       "            color:  #000000;\n",
       "        }    #T_d251760c_69e0_11ea_bbff_6c626d35f69drow128_col2 {\n",
       "            background-color:  #fff5f0;\n",
       "            color:  #000000;\n",
       "        }    #T_d251760c_69e0_11ea_bbff_6c626d35f69drow128_col3 {\n",
       "            background-color:  #fff5f0;\n",
       "            color:  #000000;\n",
       "        }    #T_d251760c_69e0_11ea_bbff_6c626d35f69drow128_col4 {\n",
       "            background-color:  #fff5f0;\n",
       "            color:  #000000;\n",
       "        }    #T_d251760c_69e0_11ea_bbff_6c626d35f69drow129_col1 {\n",
       "            background-color:  #fff5f0;\n",
       "            color:  #000000;\n",
       "        }    #T_d251760c_69e0_11ea_bbff_6c626d35f69drow129_col2 {\n",
       "            background-color:  #fff5f0;\n",
       "            color:  #000000;\n",
       "        }    #T_d251760c_69e0_11ea_bbff_6c626d35f69drow129_col3 {\n",
       "            background-color:  #fff5f0;\n",
       "            color:  #000000;\n",
       "        }    #T_d251760c_69e0_11ea_bbff_6c626d35f69drow129_col4 {\n",
       "            background-color:  #fff5f0;\n",
       "            color:  #000000;\n",
       "        }    #T_d251760c_69e0_11ea_bbff_6c626d35f69drow130_col1 {\n",
       "            background-color:  #fff5f0;\n",
       "            color:  #000000;\n",
       "        }    #T_d251760c_69e0_11ea_bbff_6c626d35f69drow130_col2 {\n",
       "            background-color:  #fff5f0;\n",
       "            color:  #000000;\n",
       "        }    #T_d251760c_69e0_11ea_bbff_6c626d35f69drow130_col3 {\n",
       "            background-color:  #fff5f0;\n",
       "            color:  #000000;\n",
       "        }    #T_d251760c_69e0_11ea_bbff_6c626d35f69drow130_col4 {\n",
       "            background-color:  #fff5f0;\n",
       "            color:  #000000;\n",
       "        }    #T_d251760c_69e0_11ea_bbff_6c626d35f69drow131_col1 {\n",
       "            background-color:  #fff5f0;\n",
       "            color:  #000000;\n",
       "        }    #T_d251760c_69e0_11ea_bbff_6c626d35f69drow131_col2 {\n",
       "            background-color:  #fff5f0;\n",
       "            color:  #000000;\n",
       "        }    #T_d251760c_69e0_11ea_bbff_6c626d35f69drow131_col3 {\n",
       "            background-color:  #fff5f0;\n",
       "            color:  #000000;\n",
       "        }    #T_d251760c_69e0_11ea_bbff_6c626d35f69drow131_col4 {\n",
       "            background-color:  #fff5f0;\n",
       "            color:  #000000;\n",
       "        }    #T_d251760c_69e0_11ea_bbff_6c626d35f69drow132_col1 {\n",
       "            background-color:  #fff5f0;\n",
       "            color:  #000000;\n",
       "        }    #T_d251760c_69e0_11ea_bbff_6c626d35f69drow132_col2 {\n",
       "            background-color:  #fff5f0;\n",
       "            color:  #000000;\n",
       "        }    #T_d251760c_69e0_11ea_bbff_6c626d35f69drow132_col3 {\n",
       "            background-color:  #fff5f0;\n",
       "            color:  #000000;\n",
       "        }    #T_d251760c_69e0_11ea_bbff_6c626d35f69drow132_col4 {\n",
       "            background-color:  #fff5f0;\n",
       "            color:  #000000;\n",
       "        }    #T_d251760c_69e0_11ea_bbff_6c626d35f69drow133_col1 {\n",
       "            background-color:  #fff5f0;\n",
       "            color:  #000000;\n",
       "        }    #T_d251760c_69e0_11ea_bbff_6c626d35f69drow133_col2 {\n",
       "            background-color:  #fff5f0;\n",
       "            color:  #000000;\n",
       "        }    #T_d251760c_69e0_11ea_bbff_6c626d35f69drow133_col3 {\n",
       "            background-color:  #fff5f0;\n",
       "            color:  #000000;\n",
       "        }    #T_d251760c_69e0_11ea_bbff_6c626d35f69drow133_col4 {\n",
       "            background-color:  #fff5f0;\n",
       "            color:  #000000;\n",
       "        }    #T_d251760c_69e0_11ea_bbff_6c626d35f69drow134_col1 {\n",
       "            background-color:  #fff5f0;\n",
       "            color:  #000000;\n",
       "        }    #T_d251760c_69e0_11ea_bbff_6c626d35f69drow134_col2 {\n",
       "            background-color:  #fff5f0;\n",
       "            color:  #000000;\n",
       "        }    #T_d251760c_69e0_11ea_bbff_6c626d35f69drow134_col3 {\n",
       "            background-color:  #fff5f0;\n",
       "            color:  #000000;\n",
       "        }    #T_d251760c_69e0_11ea_bbff_6c626d35f69drow134_col4 {\n",
       "            background-color:  #fff5f0;\n",
       "            color:  #000000;\n",
       "        }    #T_d251760c_69e0_11ea_bbff_6c626d35f69drow135_col1 {\n",
       "            background-color:  #fff5f0;\n",
       "            color:  #000000;\n",
       "        }    #T_d251760c_69e0_11ea_bbff_6c626d35f69drow135_col2 {\n",
       "            background-color:  #fff5f0;\n",
       "            color:  #000000;\n",
       "        }    #T_d251760c_69e0_11ea_bbff_6c626d35f69drow135_col3 {\n",
       "            background-color:  #fff5f0;\n",
       "            color:  #000000;\n",
       "        }    #T_d251760c_69e0_11ea_bbff_6c626d35f69drow135_col4 {\n",
       "            background-color:  #fff5f0;\n",
       "            color:  #000000;\n",
       "        }    #T_d251760c_69e0_11ea_bbff_6c626d35f69drow136_col1 {\n",
       "            background-color:  #fff5f0;\n",
       "            color:  #000000;\n",
       "        }    #T_d251760c_69e0_11ea_bbff_6c626d35f69drow136_col2 {\n",
       "            background-color:  #fff5f0;\n",
       "            color:  #000000;\n",
       "        }    #T_d251760c_69e0_11ea_bbff_6c626d35f69drow136_col3 {\n",
       "            background-color:  #fff5f0;\n",
       "            color:  #000000;\n",
       "        }    #T_d251760c_69e0_11ea_bbff_6c626d35f69drow136_col4 {\n",
       "            background-color:  #fff5f0;\n",
       "            color:  #000000;\n",
       "        }    #T_d251760c_69e0_11ea_bbff_6c626d35f69drow137_col1 {\n",
       "            background-color:  #fff5f0;\n",
       "            color:  #000000;\n",
       "        }    #T_d251760c_69e0_11ea_bbff_6c626d35f69drow137_col2 {\n",
       "            background-color:  #fff5f0;\n",
       "            color:  #000000;\n",
       "        }    #T_d251760c_69e0_11ea_bbff_6c626d35f69drow137_col3 {\n",
       "            background-color:  #fff5f0;\n",
       "            color:  #000000;\n",
       "        }    #T_d251760c_69e0_11ea_bbff_6c626d35f69drow137_col4 {\n",
       "            background-color:  #fff5f0;\n",
       "            color:  #000000;\n",
       "        }    #T_d251760c_69e0_11ea_bbff_6c626d35f69drow138_col1 {\n",
       "            background-color:  #fff5f0;\n",
       "            color:  #000000;\n",
       "        }    #T_d251760c_69e0_11ea_bbff_6c626d35f69drow138_col2 {\n",
       "            background-color:  #fff5f0;\n",
       "            color:  #000000;\n",
       "        }    #T_d251760c_69e0_11ea_bbff_6c626d35f69drow138_col3 {\n",
       "            background-color:  #fff5f0;\n",
       "            color:  #000000;\n",
       "        }    #T_d251760c_69e0_11ea_bbff_6c626d35f69drow138_col4 {\n",
       "            background-color:  #fff5f0;\n",
       "            color:  #000000;\n",
       "        }    #T_d251760c_69e0_11ea_bbff_6c626d35f69drow139_col1 {\n",
       "            background-color:  #fff5f0;\n",
       "            color:  #000000;\n",
       "        }    #T_d251760c_69e0_11ea_bbff_6c626d35f69drow139_col2 {\n",
       "            background-color:  #fff5f0;\n",
       "            color:  #000000;\n",
       "        }    #T_d251760c_69e0_11ea_bbff_6c626d35f69drow139_col3 {\n",
       "            background-color:  #fff5f0;\n",
       "            color:  #000000;\n",
       "        }    #T_d251760c_69e0_11ea_bbff_6c626d35f69drow139_col4 {\n",
       "            background-color:  #fff5f0;\n",
       "            color:  #000000;\n",
       "        }    #T_d251760c_69e0_11ea_bbff_6c626d35f69drow140_col1 {\n",
       "            background-color:  #fff5f0;\n",
       "            color:  #000000;\n",
       "        }    #T_d251760c_69e0_11ea_bbff_6c626d35f69drow140_col2 {\n",
       "            background-color:  #fff5f0;\n",
       "            color:  #000000;\n",
       "        }    #T_d251760c_69e0_11ea_bbff_6c626d35f69drow140_col3 {\n",
       "            background-color:  #fff5f0;\n",
       "            color:  #000000;\n",
       "        }    #T_d251760c_69e0_11ea_bbff_6c626d35f69drow140_col4 {\n",
       "            background-color:  #fff5f0;\n",
       "            color:  #000000;\n",
       "        }    #T_d251760c_69e0_11ea_bbff_6c626d35f69drow141_col1 {\n",
       "            background-color:  #fff5f0;\n",
       "            color:  #000000;\n",
       "        }    #T_d251760c_69e0_11ea_bbff_6c626d35f69drow141_col2 {\n",
       "            background-color:  #fff5f0;\n",
       "            color:  #000000;\n",
       "        }    #T_d251760c_69e0_11ea_bbff_6c626d35f69drow141_col3 {\n",
       "            background-color:  #fff5f0;\n",
       "            color:  #000000;\n",
       "        }    #T_d251760c_69e0_11ea_bbff_6c626d35f69drow141_col4 {\n",
       "            background-color:  #fff5f0;\n",
       "            color:  #000000;\n",
       "        }    #T_d251760c_69e0_11ea_bbff_6c626d35f69drow142_col1 {\n",
       "            background-color:  #fff5f0;\n",
       "            color:  #000000;\n",
       "        }    #T_d251760c_69e0_11ea_bbff_6c626d35f69drow142_col2 {\n",
       "            background-color:  #fff5f0;\n",
       "            color:  #000000;\n",
       "        }    #T_d251760c_69e0_11ea_bbff_6c626d35f69drow142_col3 {\n",
       "            background-color:  #fff5f0;\n",
       "            color:  #000000;\n",
       "        }    #T_d251760c_69e0_11ea_bbff_6c626d35f69drow142_col4 {\n",
       "            background-color:  #fff5f0;\n",
       "            color:  #000000;\n",
       "        }    #T_d251760c_69e0_11ea_bbff_6c626d35f69drow143_col1 {\n",
       "            background-color:  #fff5f0;\n",
       "            color:  #000000;\n",
       "        }    #T_d251760c_69e0_11ea_bbff_6c626d35f69drow143_col2 {\n",
       "            background-color:  #fff5f0;\n",
       "            color:  #000000;\n",
       "        }    #T_d251760c_69e0_11ea_bbff_6c626d35f69drow143_col3 {\n",
       "            background-color:  #fff5f0;\n",
       "            color:  #000000;\n",
       "        }    #T_d251760c_69e0_11ea_bbff_6c626d35f69drow143_col4 {\n",
       "            background-color:  #fff5f0;\n",
       "            color:  #000000;\n",
       "        }    #T_d251760c_69e0_11ea_bbff_6c626d35f69drow144_col1 {\n",
       "            background-color:  #fff5f0;\n",
       "            color:  #000000;\n",
       "        }    #T_d251760c_69e0_11ea_bbff_6c626d35f69drow144_col2 {\n",
       "            background-color:  #fff5f0;\n",
       "            color:  #000000;\n",
       "        }    #T_d251760c_69e0_11ea_bbff_6c626d35f69drow144_col3 {\n",
       "            background-color:  #fff5f0;\n",
       "            color:  #000000;\n",
       "        }    #T_d251760c_69e0_11ea_bbff_6c626d35f69drow144_col4 {\n",
       "            background-color:  #fff5f0;\n",
       "            color:  #000000;\n",
       "        }    #T_d251760c_69e0_11ea_bbff_6c626d35f69drow145_col1 {\n",
       "            background-color:  #fff5f0;\n",
       "            color:  #000000;\n",
       "        }    #T_d251760c_69e0_11ea_bbff_6c626d35f69drow145_col2 {\n",
       "            background-color:  #fff5f0;\n",
       "            color:  #000000;\n",
       "        }    #T_d251760c_69e0_11ea_bbff_6c626d35f69drow145_col3 {\n",
       "            background-color:  #fff5f0;\n",
       "            color:  #000000;\n",
       "        }    #T_d251760c_69e0_11ea_bbff_6c626d35f69drow145_col4 {\n",
       "            background-color:  #fff5f0;\n",
       "            color:  #000000;\n",
       "        }    #T_d251760c_69e0_11ea_bbff_6c626d35f69drow146_col1 {\n",
       "            background-color:  #fff5f0;\n",
       "            color:  #000000;\n",
       "        }    #T_d251760c_69e0_11ea_bbff_6c626d35f69drow146_col2 {\n",
       "            background-color:  #fff5f0;\n",
       "            color:  #000000;\n",
       "        }    #T_d251760c_69e0_11ea_bbff_6c626d35f69drow146_col3 {\n",
       "            background-color:  #fff5f0;\n",
       "            color:  #000000;\n",
       "        }    #T_d251760c_69e0_11ea_bbff_6c626d35f69drow146_col4 {\n",
       "            background-color:  #fff5f0;\n",
       "            color:  #000000;\n",
       "        }    #T_d251760c_69e0_11ea_bbff_6c626d35f69drow147_col1 {\n",
       "            background-color:  #fff5f0;\n",
       "            color:  #000000;\n",
       "        }    #T_d251760c_69e0_11ea_bbff_6c626d35f69drow147_col2 {\n",
       "            background-color:  #fff5f0;\n",
       "            color:  #000000;\n",
       "        }    #T_d251760c_69e0_11ea_bbff_6c626d35f69drow147_col3 {\n",
       "            background-color:  #fff5f0;\n",
       "            color:  #000000;\n",
       "        }    #T_d251760c_69e0_11ea_bbff_6c626d35f69drow147_col4 {\n",
       "            background-color:  #fff5f0;\n",
       "            color:  #000000;\n",
       "        }    #T_d251760c_69e0_11ea_bbff_6c626d35f69drow148_col1 {\n",
       "            background-color:  #fff5f0;\n",
       "            color:  #000000;\n",
       "        }    #T_d251760c_69e0_11ea_bbff_6c626d35f69drow148_col2 {\n",
       "            background-color:  #fff5f0;\n",
       "            color:  #000000;\n",
       "        }    #T_d251760c_69e0_11ea_bbff_6c626d35f69drow148_col3 {\n",
       "            background-color:  #fff5f0;\n",
       "            color:  #000000;\n",
       "        }    #T_d251760c_69e0_11ea_bbff_6c626d35f69drow148_col4 {\n",
       "            background-color:  #fff5f0;\n",
       "            color:  #000000;\n",
       "        }    #T_d251760c_69e0_11ea_bbff_6c626d35f69drow149_col1 {\n",
       "            background-color:  #fff5f0;\n",
       "            color:  #000000;\n",
       "        }    #T_d251760c_69e0_11ea_bbff_6c626d35f69drow149_col2 {\n",
       "            background-color:  #fff5f0;\n",
       "            color:  #000000;\n",
       "        }    #T_d251760c_69e0_11ea_bbff_6c626d35f69drow149_col3 {\n",
       "            background-color:  #fff5f0;\n",
       "            color:  #000000;\n",
       "        }    #T_d251760c_69e0_11ea_bbff_6c626d35f69drow149_col4 {\n",
       "            background-color:  #fff5f0;\n",
       "            color:  #000000;\n",
       "        }    #T_d251760c_69e0_11ea_bbff_6c626d35f69drow150_col1 {\n",
       "            background-color:  #fff5f0;\n",
       "            color:  #000000;\n",
       "        }    #T_d251760c_69e0_11ea_bbff_6c626d35f69drow150_col2 {\n",
       "            background-color:  #fff5f0;\n",
       "            color:  #000000;\n",
       "        }    #T_d251760c_69e0_11ea_bbff_6c626d35f69drow150_col3 {\n",
       "            background-color:  #fff5f0;\n",
       "            color:  #000000;\n",
       "        }    #T_d251760c_69e0_11ea_bbff_6c626d35f69drow150_col4 {\n",
       "            background-color:  #fff5f0;\n",
       "            color:  #000000;\n",
       "        }    #T_d251760c_69e0_11ea_bbff_6c626d35f69drow151_col1 {\n",
       "            background-color:  #fff5f0;\n",
       "            color:  #000000;\n",
       "        }    #T_d251760c_69e0_11ea_bbff_6c626d35f69drow151_col2 {\n",
       "            background-color:  #fff5f0;\n",
       "            color:  #000000;\n",
       "        }    #T_d251760c_69e0_11ea_bbff_6c626d35f69drow151_col3 {\n",
       "            background-color:  #fff5f0;\n",
       "            color:  #000000;\n",
       "        }    #T_d251760c_69e0_11ea_bbff_6c626d35f69drow151_col4 {\n",
       "            background-color:  #fff5f0;\n",
       "            color:  #000000;\n",
       "        }    #T_d251760c_69e0_11ea_bbff_6c626d35f69drow152_col1 {\n",
       "            background-color:  #fff5f0;\n",
       "            color:  #000000;\n",
       "        }    #T_d251760c_69e0_11ea_bbff_6c626d35f69drow152_col2 {\n",
       "            background-color:  #fff5f0;\n",
       "            color:  #000000;\n",
       "        }    #T_d251760c_69e0_11ea_bbff_6c626d35f69drow152_col3 {\n",
       "            background-color:  #fff5f0;\n",
       "            color:  #000000;\n",
       "        }    #T_d251760c_69e0_11ea_bbff_6c626d35f69drow152_col4 {\n",
       "            background-color:  #fff5f0;\n",
       "            color:  #000000;\n",
       "        }    #T_d251760c_69e0_11ea_bbff_6c626d35f69drow153_col1 {\n",
       "            background-color:  #fff5f0;\n",
       "            color:  #000000;\n",
       "        }    #T_d251760c_69e0_11ea_bbff_6c626d35f69drow153_col2 {\n",
       "            background-color:  #fff5f0;\n",
       "            color:  #000000;\n",
       "        }    #T_d251760c_69e0_11ea_bbff_6c626d35f69drow153_col3 {\n",
       "            background-color:  #fff5f0;\n",
       "            color:  #000000;\n",
       "        }    #T_d251760c_69e0_11ea_bbff_6c626d35f69drow153_col4 {\n",
       "            background-color:  #fff5f0;\n",
       "            color:  #000000;\n",
       "        }    #T_d251760c_69e0_11ea_bbff_6c626d35f69drow154_col1 {\n",
       "            background-color:  #fff5f0;\n",
       "            color:  #000000;\n",
       "        }    #T_d251760c_69e0_11ea_bbff_6c626d35f69drow154_col2 {\n",
       "            background-color:  #fff5f0;\n",
       "            color:  #000000;\n",
       "        }    #T_d251760c_69e0_11ea_bbff_6c626d35f69drow154_col3 {\n",
       "            background-color:  #fff5f0;\n",
       "            color:  #000000;\n",
       "        }    #T_d251760c_69e0_11ea_bbff_6c626d35f69drow154_col4 {\n",
       "            background-color:  #fff5f0;\n",
       "            color:  #000000;\n",
       "        }    #T_d251760c_69e0_11ea_bbff_6c626d35f69drow155_col1 {\n",
       "            background-color:  #fff5f0;\n",
       "            color:  #000000;\n",
       "        }    #T_d251760c_69e0_11ea_bbff_6c626d35f69drow155_col2 {\n",
       "            background-color:  #fff5f0;\n",
       "            color:  #000000;\n",
       "        }    #T_d251760c_69e0_11ea_bbff_6c626d35f69drow155_col3 {\n",
       "            background-color:  #fff5f0;\n",
       "            color:  #000000;\n",
       "        }    #T_d251760c_69e0_11ea_bbff_6c626d35f69drow155_col4 {\n",
       "            background-color:  #fff5f0;\n",
       "            color:  #000000;\n",
       "        }    #T_d251760c_69e0_11ea_bbff_6c626d35f69drow156_col1 {\n",
       "            background-color:  #fff5f0;\n",
       "            color:  #000000;\n",
       "        }    #T_d251760c_69e0_11ea_bbff_6c626d35f69drow156_col2 {\n",
       "            background-color:  #fff5f0;\n",
       "            color:  #000000;\n",
       "        }    #T_d251760c_69e0_11ea_bbff_6c626d35f69drow156_col3 {\n",
       "            background-color:  #fff5f0;\n",
       "            color:  #000000;\n",
       "        }    #T_d251760c_69e0_11ea_bbff_6c626d35f69drow156_col4 {\n",
       "            background-color:  #fff5f0;\n",
       "            color:  #000000;\n",
       "        }    #T_d251760c_69e0_11ea_bbff_6c626d35f69drow157_col1 {\n",
       "            background-color:  #fff5f0;\n",
       "            color:  #000000;\n",
       "        }    #T_d251760c_69e0_11ea_bbff_6c626d35f69drow157_col2 {\n",
       "            background-color:  #fff5f0;\n",
       "            color:  #000000;\n",
       "        }    #T_d251760c_69e0_11ea_bbff_6c626d35f69drow157_col3 {\n",
       "            background-color:  #fff5f0;\n",
       "            color:  #000000;\n",
       "        }    #T_d251760c_69e0_11ea_bbff_6c626d35f69drow157_col4 {\n",
       "            background-color:  #fff5f0;\n",
       "            color:  #000000;\n",
       "        }    #T_d251760c_69e0_11ea_bbff_6c626d35f69drow158_col1 {\n",
       "            background-color:  #fff5f0;\n",
       "            color:  #000000;\n",
       "        }    #T_d251760c_69e0_11ea_bbff_6c626d35f69drow158_col2 {\n",
       "            background-color:  #fff5f0;\n",
       "            color:  #000000;\n",
       "        }    #T_d251760c_69e0_11ea_bbff_6c626d35f69drow158_col3 {\n",
       "            background-color:  #fff5f0;\n",
       "            color:  #000000;\n",
       "        }    #T_d251760c_69e0_11ea_bbff_6c626d35f69drow158_col4 {\n",
       "            background-color:  #fff5f0;\n",
       "            color:  #000000;\n",
       "        }    #T_d251760c_69e0_11ea_bbff_6c626d35f69drow159_col1 {\n",
       "            background-color:  #fff5f0;\n",
       "            color:  #000000;\n",
       "        }    #T_d251760c_69e0_11ea_bbff_6c626d35f69drow159_col2 {\n",
       "            background-color:  #fff5f0;\n",
       "            color:  #000000;\n",
       "        }    #T_d251760c_69e0_11ea_bbff_6c626d35f69drow159_col3 {\n",
       "            background-color:  #fff5f0;\n",
       "            color:  #000000;\n",
       "        }    #T_d251760c_69e0_11ea_bbff_6c626d35f69drow159_col4 {\n",
       "            background-color:  #fff5f0;\n",
       "            color:  #000000;\n",
       "        }    #T_d251760c_69e0_11ea_bbff_6c626d35f69drow160_col1 {\n",
       "            background-color:  #fff5f0;\n",
       "            color:  #000000;\n",
       "        }    #T_d251760c_69e0_11ea_bbff_6c626d35f69drow160_col2 {\n",
       "            background-color:  #fff5f0;\n",
       "            color:  #000000;\n",
       "        }    #T_d251760c_69e0_11ea_bbff_6c626d35f69drow160_col3 {\n",
       "            background-color:  #fff5f0;\n",
       "            color:  #000000;\n",
       "        }    #T_d251760c_69e0_11ea_bbff_6c626d35f69drow160_col4 {\n",
       "            background-color:  #fff5f0;\n",
       "            color:  #000000;\n",
       "        }    #T_d251760c_69e0_11ea_bbff_6c626d35f69drow161_col1 {\n",
       "            background-color:  #fff5f0;\n",
       "            color:  #000000;\n",
       "        }    #T_d251760c_69e0_11ea_bbff_6c626d35f69drow161_col2 {\n",
       "            background-color:  #fff5f0;\n",
       "            color:  #000000;\n",
       "        }    #T_d251760c_69e0_11ea_bbff_6c626d35f69drow161_col3 {\n",
       "            background-color:  #fff5f0;\n",
       "            color:  #000000;\n",
       "        }    #T_d251760c_69e0_11ea_bbff_6c626d35f69drow161_col4 {\n",
       "            background-color:  #fff5f0;\n",
       "            color:  #000000;\n",
       "        }    #T_d251760c_69e0_11ea_bbff_6c626d35f69drow162_col1 {\n",
       "            background-color:  #fff5f0;\n",
       "            color:  #000000;\n",
       "        }    #T_d251760c_69e0_11ea_bbff_6c626d35f69drow162_col2 {\n",
       "            background-color:  #fff5f0;\n",
       "            color:  #000000;\n",
       "        }    #T_d251760c_69e0_11ea_bbff_6c626d35f69drow162_col3 {\n",
       "            background-color:  #fff5f0;\n",
       "            color:  #000000;\n",
       "        }    #T_d251760c_69e0_11ea_bbff_6c626d35f69drow162_col4 {\n",
       "            background-color:  #fff5f0;\n",
       "            color:  #000000;\n",
       "        }</style><table id=\"T_d251760c_69e0_11ea_bbff_6c626d35f69d\" ><thead>    <tr>        <th class=\"blank level0\" ></th>        <th class=\"col_heading level0 col0\" >Country/Region</th>        <th class=\"col_heading level0 col1\" >Confirmed</th>        <th class=\"col_heading level0 col2\" >Deaths</th>        <th class=\"col_heading level0 col3\" >Recovered</th>        <th class=\"col_heading level0 col4\" >Active</th>    </tr></thead><tbody>\n",
       "                <tr>\n",
       "                        <th id=\"T_d251760c_69e0_11ea_bbff_6c626d35f69dlevel0_row0\" class=\"row_heading level0 row0\" >0</th>\n",
       "                        <td id=\"T_d251760c_69e0_11ea_bbff_6c626d35f69drow0_col0\" class=\"data row0 col0\" >China</td>\n",
       "                        <td id=\"T_d251760c_69e0_11ea_bbff_6c626d35f69drow0_col1\" class=\"data row0 col1\" >81102</td>\n",
       "                        <td id=\"T_d251760c_69e0_11ea_bbff_6c626d35f69drow0_col2\" class=\"data row0 col2\" >3241</td>\n",
       "                        <td id=\"T_d251760c_69e0_11ea_bbff_6c626d35f69drow0_col3\" class=\"data row0 col3\" >69755</td>\n",
       "                        <td id=\"T_d251760c_69e0_11ea_bbff_6c626d35f69drow0_col4\" class=\"data row0 col4\" >8106</td>\n",
       "            </tr>\n",
       "            <tr>\n",
       "                        <th id=\"T_d251760c_69e0_11ea_bbff_6c626d35f69dlevel0_row1\" class=\"row_heading level0 row1\" >1</th>\n",
       "                        <td id=\"T_d251760c_69e0_11ea_bbff_6c626d35f69drow1_col0\" class=\"data row1 col0\" >Italy</td>\n",
       "                        <td id=\"T_d251760c_69e0_11ea_bbff_6c626d35f69drow1_col1\" class=\"data row1 col1\" >35713</td>\n",
       "                        <td id=\"T_d251760c_69e0_11ea_bbff_6c626d35f69drow1_col2\" class=\"data row1 col2\" >2978</td>\n",
       "                        <td id=\"T_d251760c_69e0_11ea_bbff_6c626d35f69drow1_col3\" class=\"data row1 col3\" >4025</td>\n",
       "                        <td id=\"T_d251760c_69e0_11ea_bbff_6c626d35f69drow1_col4\" class=\"data row1 col4\" >28710</td>\n",
       "            </tr>\n",
       "            <tr>\n",
       "                        <th id=\"T_d251760c_69e0_11ea_bbff_6c626d35f69dlevel0_row2\" class=\"row_heading level0 row2\" >2</th>\n",
       "                        <td id=\"T_d251760c_69e0_11ea_bbff_6c626d35f69drow2_col0\" class=\"data row2 col0\" >Iran</td>\n",
       "                        <td id=\"T_d251760c_69e0_11ea_bbff_6c626d35f69drow2_col1\" class=\"data row2 col1\" >17361</td>\n",
       "                        <td id=\"T_d251760c_69e0_11ea_bbff_6c626d35f69drow2_col2\" class=\"data row2 col2\" >1135</td>\n",
       "                        <td id=\"T_d251760c_69e0_11ea_bbff_6c626d35f69drow2_col3\" class=\"data row2 col3\" >5389</td>\n",
       "                        <td id=\"T_d251760c_69e0_11ea_bbff_6c626d35f69drow2_col4\" class=\"data row2 col4\" >10837</td>\n",
       "            </tr>\n",
       "            <tr>\n",
       "                        <th id=\"T_d251760c_69e0_11ea_bbff_6c626d35f69dlevel0_row3\" class=\"row_heading level0 row3\" >3</th>\n",
       "                        <td id=\"T_d251760c_69e0_11ea_bbff_6c626d35f69drow3_col0\" class=\"data row3 col0\" >Spain</td>\n",
       "                        <td id=\"T_d251760c_69e0_11ea_bbff_6c626d35f69drow3_col1\" class=\"data row3 col1\" >13910</td>\n",
       "                        <td id=\"T_d251760c_69e0_11ea_bbff_6c626d35f69drow3_col2\" class=\"data row3 col2\" >623</td>\n",
       "                        <td id=\"T_d251760c_69e0_11ea_bbff_6c626d35f69drow3_col3\" class=\"data row3 col3\" >1081</td>\n",
       "                        <td id=\"T_d251760c_69e0_11ea_bbff_6c626d35f69drow3_col4\" class=\"data row3 col4\" >12206</td>\n",
       "            </tr>\n",
       "            <tr>\n",
       "                        <th id=\"T_d251760c_69e0_11ea_bbff_6c626d35f69dlevel0_row4\" class=\"row_heading level0 row4\" >4</th>\n",
       "                        <td id=\"T_d251760c_69e0_11ea_bbff_6c626d35f69drow4_col0\" class=\"data row4 col0\" >Germany</td>\n",
       "                        <td id=\"T_d251760c_69e0_11ea_bbff_6c626d35f69drow4_col1\" class=\"data row4 col1\" >12327</td>\n",
       "                        <td id=\"T_d251760c_69e0_11ea_bbff_6c626d35f69drow4_col2\" class=\"data row4 col2\" >28</td>\n",
       "                        <td id=\"T_d251760c_69e0_11ea_bbff_6c626d35f69drow4_col3\" class=\"data row4 col3\" >105</td>\n",
       "                        <td id=\"T_d251760c_69e0_11ea_bbff_6c626d35f69drow4_col4\" class=\"data row4 col4\" >12194</td>\n",
       "            </tr>\n",
       "            <tr>\n",
       "                        <th id=\"T_d251760c_69e0_11ea_bbff_6c626d35f69dlevel0_row5\" class=\"row_heading level0 row5\" >5</th>\n",
       "                        <td id=\"T_d251760c_69e0_11ea_bbff_6c626d35f69drow5_col0\" class=\"data row5 col0\" >France</td>\n",
       "                        <td id=\"T_d251760c_69e0_11ea_bbff_6c626d35f69drow5_col1\" class=\"data row5 col1\" >9052</td>\n",
       "                        <td id=\"T_d251760c_69e0_11ea_bbff_6c626d35f69drow5_col2\" class=\"data row5 col2\" >148</td>\n",
       "                        <td id=\"T_d251760c_69e0_11ea_bbff_6c626d35f69drow5_col3\" class=\"data row5 col3\" >12</td>\n",
       "                        <td id=\"T_d251760c_69e0_11ea_bbff_6c626d35f69drow5_col4\" class=\"data row5 col4\" >8892</td>\n",
       "            </tr>\n",
       "            <tr>\n",
       "                        <th id=\"T_d251760c_69e0_11ea_bbff_6c626d35f69dlevel0_row6\" class=\"row_heading level0 row6\" >6</th>\n",
       "                        <td id=\"T_d251760c_69e0_11ea_bbff_6c626d35f69drow6_col0\" class=\"data row6 col0\" >Korea, South</td>\n",
       "                        <td id=\"T_d251760c_69e0_11ea_bbff_6c626d35f69drow6_col1\" class=\"data row6 col1\" >8413</td>\n",
       "                        <td id=\"T_d251760c_69e0_11ea_bbff_6c626d35f69drow6_col2\" class=\"data row6 col2\" >84</td>\n",
       "                        <td id=\"T_d251760c_69e0_11ea_bbff_6c626d35f69drow6_col3\" class=\"data row6 col3\" >1540</td>\n",
       "                        <td id=\"T_d251760c_69e0_11ea_bbff_6c626d35f69drow6_col4\" class=\"data row6 col4\" >6789</td>\n",
       "            </tr>\n",
       "            <tr>\n",
       "                        <th id=\"T_d251760c_69e0_11ea_bbff_6c626d35f69dlevel0_row7\" class=\"row_heading level0 row7\" >7</th>\n",
       "                        <td id=\"T_d251760c_69e0_11ea_bbff_6c626d35f69drow7_col0\" class=\"data row7 col0\" >US</td>\n",
       "                        <td id=\"T_d251760c_69e0_11ea_bbff_6c626d35f69drow7_col1\" class=\"data row7 col1\" >7786</td>\n",
       "                        <td id=\"T_d251760c_69e0_11ea_bbff_6c626d35f69drow7_col2\" class=\"data row7 col2\" >118</td>\n",
       "                        <td id=\"T_d251760c_69e0_11ea_bbff_6c626d35f69drow7_col3\" class=\"data row7 col3\" >106</td>\n",
       "                        <td id=\"T_d251760c_69e0_11ea_bbff_6c626d35f69drow7_col4\" class=\"data row7 col4\" >7562</td>\n",
       "            </tr>\n",
       "            <tr>\n",
       "                        <th id=\"T_d251760c_69e0_11ea_bbff_6c626d35f69dlevel0_row8\" class=\"row_heading level0 row8\" >8</th>\n",
       "                        <td id=\"T_d251760c_69e0_11ea_bbff_6c626d35f69drow8_col0\" class=\"data row8 col0\" >Switzerland</td>\n",
       "                        <td id=\"T_d251760c_69e0_11ea_bbff_6c626d35f69drow8_col1\" class=\"data row8 col1\" >3028</td>\n",
       "                        <td id=\"T_d251760c_69e0_11ea_bbff_6c626d35f69drow8_col2\" class=\"data row8 col2\" >28</td>\n",
       "                        <td id=\"T_d251760c_69e0_11ea_bbff_6c626d35f69drow8_col3\" class=\"data row8 col3\" >15</td>\n",
       "                        <td id=\"T_d251760c_69e0_11ea_bbff_6c626d35f69drow8_col4\" class=\"data row8 col4\" >2985</td>\n",
       "            </tr>\n",
       "            <tr>\n",
       "                        <th id=\"T_d251760c_69e0_11ea_bbff_6c626d35f69dlevel0_row9\" class=\"row_heading level0 row9\" >9</th>\n",
       "                        <td id=\"T_d251760c_69e0_11ea_bbff_6c626d35f69drow9_col0\" class=\"data row9 col0\" >United Kingdom</td>\n",
       "                        <td id=\"T_d251760c_69e0_11ea_bbff_6c626d35f69drow9_col1\" class=\"data row9 col1\" >2642</td>\n",
       "                        <td id=\"T_d251760c_69e0_11ea_bbff_6c626d35f69drow9_col2\" class=\"data row9 col2\" >72</td>\n",
       "                        <td id=\"T_d251760c_69e0_11ea_bbff_6c626d35f69drow9_col3\" class=\"data row9 col3\" >67</td>\n",
       "                        <td id=\"T_d251760c_69e0_11ea_bbff_6c626d35f69drow9_col4\" class=\"data row9 col4\" >2503</td>\n",
       "            </tr>\n",
       "            <tr>\n",
       "                        <th id=\"T_d251760c_69e0_11ea_bbff_6c626d35f69dlevel0_row10\" class=\"row_heading level0 row10\" >10</th>\n",
       "                        <td id=\"T_d251760c_69e0_11ea_bbff_6c626d35f69drow10_col0\" class=\"data row10 col0\" >Netherlands</td>\n",
       "                        <td id=\"T_d251760c_69e0_11ea_bbff_6c626d35f69drow10_col1\" class=\"data row10 col1\" >2056</td>\n",
       "                        <td id=\"T_d251760c_69e0_11ea_bbff_6c626d35f69drow10_col2\" class=\"data row10 col2\" >58</td>\n",
       "                        <td id=\"T_d251760c_69e0_11ea_bbff_6c626d35f69drow10_col3\" class=\"data row10 col3\" >2</td>\n",
       "                        <td id=\"T_d251760c_69e0_11ea_bbff_6c626d35f69drow10_col4\" class=\"data row10 col4\" >1996</td>\n",
       "            </tr>\n",
       "            <tr>\n",
       "                        <th id=\"T_d251760c_69e0_11ea_bbff_6c626d35f69dlevel0_row11\" class=\"row_heading level0 row11\" >11</th>\n",
       "                        <td id=\"T_d251760c_69e0_11ea_bbff_6c626d35f69drow11_col0\" class=\"data row11 col0\" >Austria</td>\n",
       "                        <td id=\"T_d251760c_69e0_11ea_bbff_6c626d35f69drow11_col1\" class=\"data row11 col1\" >1646</td>\n",
       "                        <td id=\"T_d251760c_69e0_11ea_bbff_6c626d35f69drow11_col2\" class=\"data row11 col2\" >4</td>\n",
       "                        <td id=\"T_d251760c_69e0_11ea_bbff_6c626d35f69drow11_col3\" class=\"data row11 col3\" >9</td>\n",
       "                        <td id=\"T_d251760c_69e0_11ea_bbff_6c626d35f69drow11_col4\" class=\"data row11 col4\" >1633</td>\n",
       "            </tr>\n",
       "            <tr>\n",
       "                        <th id=\"T_d251760c_69e0_11ea_bbff_6c626d35f69dlevel0_row12\" class=\"row_heading level0 row12\" >12</th>\n",
       "                        <td id=\"T_d251760c_69e0_11ea_bbff_6c626d35f69drow12_col0\" class=\"data row12 col0\" >Norway</td>\n",
       "                        <td id=\"T_d251760c_69e0_11ea_bbff_6c626d35f69drow12_col1\" class=\"data row12 col1\" >1550</td>\n",
       "                        <td id=\"T_d251760c_69e0_11ea_bbff_6c626d35f69drow12_col2\" class=\"data row12 col2\" >6</td>\n",
       "                        <td id=\"T_d251760c_69e0_11ea_bbff_6c626d35f69drow12_col3\" class=\"data row12 col3\" >1</td>\n",
       "                        <td id=\"T_d251760c_69e0_11ea_bbff_6c626d35f69drow12_col4\" class=\"data row12 col4\" >1543</td>\n",
       "            </tr>\n",
       "            <tr>\n",
       "                        <th id=\"T_d251760c_69e0_11ea_bbff_6c626d35f69dlevel0_row13\" class=\"row_heading level0 row13\" >13</th>\n",
       "                        <td id=\"T_d251760c_69e0_11ea_bbff_6c626d35f69drow13_col0\" class=\"data row13 col0\" >Belgium</td>\n",
       "                        <td id=\"T_d251760c_69e0_11ea_bbff_6c626d35f69drow13_col1\" class=\"data row13 col1\" >1486</td>\n",
       "                        <td id=\"T_d251760c_69e0_11ea_bbff_6c626d35f69drow13_col2\" class=\"data row13 col2\" >14</td>\n",
       "                        <td id=\"T_d251760c_69e0_11ea_bbff_6c626d35f69drow13_col3\" class=\"data row13 col3\" >31</td>\n",
       "                        <td id=\"T_d251760c_69e0_11ea_bbff_6c626d35f69drow13_col4\" class=\"data row13 col4\" >1441</td>\n",
       "            </tr>\n",
       "            <tr>\n",
       "                        <th id=\"T_d251760c_69e0_11ea_bbff_6c626d35f69dlevel0_row14\" class=\"row_heading level0 row14\" >14</th>\n",
       "                        <td id=\"T_d251760c_69e0_11ea_bbff_6c626d35f69drow14_col0\" class=\"data row14 col0\" >Sweden</td>\n",
       "                        <td id=\"T_d251760c_69e0_11ea_bbff_6c626d35f69drow14_col1\" class=\"data row14 col1\" >1279</td>\n",
       "                        <td id=\"T_d251760c_69e0_11ea_bbff_6c626d35f69drow14_col2\" class=\"data row14 col2\" >10</td>\n",
       "                        <td id=\"T_d251760c_69e0_11ea_bbff_6c626d35f69drow14_col3\" class=\"data row14 col3\" >1</td>\n",
       "                        <td id=\"T_d251760c_69e0_11ea_bbff_6c626d35f69drow14_col4\" class=\"data row14 col4\" >1268</td>\n",
       "            </tr>\n",
       "            <tr>\n",
       "                        <th id=\"T_d251760c_69e0_11ea_bbff_6c626d35f69dlevel0_row15\" class=\"row_heading level0 row15\" >15</th>\n",
       "                        <td id=\"T_d251760c_69e0_11ea_bbff_6c626d35f69drow15_col0\" class=\"data row15 col0\" >Denmark</td>\n",
       "                        <td id=\"T_d251760c_69e0_11ea_bbff_6c626d35f69drow15_col1\" class=\"data row15 col1\" >1115</td>\n",
       "                        <td id=\"T_d251760c_69e0_11ea_bbff_6c626d35f69drow15_col2\" class=\"data row15 col2\" >4</td>\n",
       "                        <td id=\"T_d251760c_69e0_11ea_bbff_6c626d35f69drow15_col3\" class=\"data row15 col3\" >1</td>\n",
       "                        <td id=\"T_d251760c_69e0_11ea_bbff_6c626d35f69drow15_col4\" class=\"data row15 col4\" >1110</td>\n",
       "            </tr>\n",
       "            <tr>\n",
       "                        <th id=\"T_d251760c_69e0_11ea_bbff_6c626d35f69dlevel0_row16\" class=\"row_heading level0 row16\" >16</th>\n",
       "                        <td id=\"T_d251760c_69e0_11ea_bbff_6c626d35f69drow16_col0\" class=\"data row16 col0\" >Japan</td>\n",
       "                        <td id=\"T_d251760c_69e0_11ea_bbff_6c626d35f69drow16_col1\" class=\"data row16 col1\" >889</td>\n",
       "                        <td id=\"T_d251760c_69e0_11ea_bbff_6c626d35f69drow16_col2\" class=\"data row16 col2\" >29</td>\n",
       "                        <td id=\"T_d251760c_69e0_11ea_bbff_6c626d35f69drow16_col3\" class=\"data row16 col3\" >144</td>\n",
       "                        <td id=\"T_d251760c_69e0_11ea_bbff_6c626d35f69drow16_col4\" class=\"data row16 col4\" >716</td>\n",
       "            </tr>\n",
       "            <tr>\n",
       "                        <th id=\"T_d251760c_69e0_11ea_bbff_6c626d35f69dlevel0_row17\" class=\"row_heading level0 row17\" >17</th>\n",
       "                        <td id=\"T_d251760c_69e0_11ea_bbff_6c626d35f69drow17_col0\" class=\"data row17 col0\" >Malaysia</td>\n",
       "                        <td id=\"T_d251760c_69e0_11ea_bbff_6c626d35f69drow17_col1\" class=\"data row17 col1\" >790</td>\n",
       "                        <td id=\"T_d251760c_69e0_11ea_bbff_6c626d35f69drow17_col2\" class=\"data row17 col2\" >2</td>\n",
       "                        <td id=\"T_d251760c_69e0_11ea_bbff_6c626d35f69drow17_col3\" class=\"data row17 col3\" >60</td>\n",
       "                        <td id=\"T_d251760c_69e0_11ea_bbff_6c626d35f69drow17_col4\" class=\"data row17 col4\" >728</td>\n",
       "            </tr>\n",
       "            <tr>\n",
       "                        <th id=\"T_d251760c_69e0_11ea_bbff_6c626d35f69dlevel0_row18\" class=\"row_heading level0 row18\" >18</th>\n",
       "                        <td id=\"T_d251760c_69e0_11ea_bbff_6c626d35f69drow18_col0\" class=\"data row18 col0\" >Cruise Ship</td>\n",
       "                        <td id=\"T_d251760c_69e0_11ea_bbff_6c626d35f69drow18_col1\" class=\"data row18 col1\" >712</td>\n",
       "                        <td id=\"T_d251760c_69e0_11ea_bbff_6c626d35f69drow18_col2\" class=\"data row18 col2\" >7</td>\n",
       "                        <td id=\"T_d251760c_69e0_11ea_bbff_6c626d35f69drow18_col3\" class=\"data row18 col3\" >325</td>\n",
       "                        <td id=\"T_d251760c_69e0_11ea_bbff_6c626d35f69drow18_col4\" class=\"data row18 col4\" >380</td>\n",
       "            </tr>\n",
       "            <tr>\n",
       "                        <th id=\"T_d251760c_69e0_11ea_bbff_6c626d35f69dlevel0_row19\" class=\"row_heading level0 row19\" >19</th>\n",
       "                        <td id=\"T_d251760c_69e0_11ea_bbff_6c626d35f69drow19_col0\" class=\"data row19 col0\" >Canada</td>\n",
       "                        <td id=\"T_d251760c_69e0_11ea_bbff_6c626d35f69drow19_col1\" class=\"data row19 col1\" >657</td>\n",
       "                        <td id=\"T_d251760c_69e0_11ea_bbff_6c626d35f69drow19_col2\" class=\"data row19 col2\" >8</td>\n",
       "                        <td id=\"T_d251760c_69e0_11ea_bbff_6c626d35f69drow19_col3\" class=\"data row19 col3\" >9</td>\n",
       "                        <td id=\"T_d251760c_69e0_11ea_bbff_6c626d35f69drow19_col4\" class=\"data row19 col4\" >640</td>\n",
       "            </tr>\n",
       "            <tr>\n",
       "                        <th id=\"T_d251760c_69e0_11ea_bbff_6c626d35f69dlevel0_row20\" class=\"row_heading level0 row20\" >20</th>\n",
       "                        <td id=\"T_d251760c_69e0_11ea_bbff_6c626d35f69drow20_col0\" class=\"data row20 col0\" >Australia</td>\n",
       "                        <td id=\"T_d251760c_69e0_11ea_bbff_6c626d35f69drow20_col1\" class=\"data row20 col1\" >568</td>\n",
       "                        <td id=\"T_d251760c_69e0_11ea_bbff_6c626d35f69drow20_col2\" class=\"data row20 col2\" >6</td>\n",
       "                        <td id=\"T_d251760c_69e0_11ea_bbff_6c626d35f69drow20_col3\" class=\"data row20 col3\" >23</td>\n",
       "                        <td id=\"T_d251760c_69e0_11ea_bbff_6c626d35f69drow20_col4\" class=\"data row20 col4\" >539</td>\n",
       "            </tr>\n",
       "            <tr>\n",
       "                        <th id=\"T_d251760c_69e0_11ea_bbff_6c626d35f69dlevel0_row21\" class=\"row_heading level0 row21\" >21</th>\n",
       "                        <td id=\"T_d251760c_69e0_11ea_bbff_6c626d35f69drow21_col0\" class=\"data row21 col0\" >Czechia</td>\n",
       "                        <td id=\"T_d251760c_69e0_11ea_bbff_6c626d35f69drow21_col1\" class=\"data row21 col1\" >464</td>\n",
       "                        <td id=\"T_d251760c_69e0_11ea_bbff_6c626d35f69drow21_col2\" class=\"data row21 col2\" >0</td>\n",
       "                        <td id=\"T_d251760c_69e0_11ea_bbff_6c626d35f69drow21_col3\" class=\"data row21 col3\" >3</td>\n",
       "                        <td id=\"T_d251760c_69e0_11ea_bbff_6c626d35f69drow21_col4\" class=\"data row21 col4\" >461</td>\n",
       "            </tr>\n",
       "            <tr>\n",
       "                        <th id=\"T_d251760c_69e0_11ea_bbff_6c626d35f69dlevel0_row22\" class=\"row_heading level0 row22\" >22</th>\n",
       "                        <td id=\"T_d251760c_69e0_11ea_bbff_6c626d35f69drow22_col0\" class=\"data row22 col0\" >Qatar</td>\n",
       "                        <td id=\"T_d251760c_69e0_11ea_bbff_6c626d35f69drow22_col1\" class=\"data row22 col1\" >452</td>\n",
       "                        <td id=\"T_d251760c_69e0_11ea_bbff_6c626d35f69drow22_col2\" class=\"data row22 col2\" >0</td>\n",
       "                        <td id=\"T_d251760c_69e0_11ea_bbff_6c626d35f69drow22_col3\" class=\"data row22 col3\" >4</td>\n",
       "                        <td id=\"T_d251760c_69e0_11ea_bbff_6c626d35f69drow22_col4\" class=\"data row22 col4\" >448</td>\n",
       "            </tr>\n",
       "            <tr>\n",
       "                        <th id=\"T_d251760c_69e0_11ea_bbff_6c626d35f69dlevel0_row23\" class=\"row_heading level0 row23\" >23</th>\n",
       "                        <td id=\"T_d251760c_69e0_11ea_bbff_6c626d35f69drow23_col0\" class=\"data row23 col0\" >Portugal</td>\n",
       "                        <td id=\"T_d251760c_69e0_11ea_bbff_6c626d35f69drow23_col1\" class=\"data row23 col1\" >448</td>\n",
       "                        <td id=\"T_d251760c_69e0_11ea_bbff_6c626d35f69drow23_col2\" class=\"data row23 col2\" >2</td>\n",
       "                        <td id=\"T_d251760c_69e0_11ea_bbff_6c626d35f69drow23_col3\" class=\"data row23 col3\" >3</td>\n",
       "                        <td id=\"T_d251760c_69e0_11ea_bbff_6c626d35f69drow23_col4\" class=\"data row23 col4\" >443</td>\n",
       "            </tr>\n",
       "            <tr>\n",
       "                        <th id=\"T_d251760c_69e0_11ea_bbff_6c626d35f69dlevel0_row24\" class=\"row_heading level0 row24\" >24</th>\n",
       "                        <td id=\"T_d251760c_69e0_11ea_bbff_6c626d35f69drow24_col0\" class=\"data row24 col0\" >Israel</td>\n",
       "                        <td id=\"T_d251760c_69e0_11ea_bbff_6c626d35f69drow24_col1\" class=\"data row24 col1\" >433</td>\n",
       "                        <td id=\"T_d251760c_69e0_11ea_bbff_6c626d35f69drow24_col2\" class=\"data row24 col2\" >0</td>\n",
       "                        <td id=\"T_d251760c_69e0_11ea_bbff_6c626d35f69drow24_col3\" class=\"data row24 col3\" >11</td>\n",
       "                        <td id=\"T_d251760c_69e0_11ea_bbff_6c626d35f69drow24_col4\" class=\"data row24 col4\" >422</td>\n",
       "            </tr>\n",
       "            <tr>\n",
       "                        <th id=\"T_d251760c_69e0_11ea_bbff_6c626d35f69dlevel0_row25\" class=\"row_heading level0 row25\" >25</th>\n",
       "                        <td id=\"T_d251760c_69e0_11ea_bbff_6c626d35f69drow25_col0\" class=\"data row25 col0\" >Greece</td>\n",
       "                        <td id=\"T_d251760c_69e0_11ea_bbff_6c626d35f69drow25_col1\" class=\"data row25 col1\" >418</td>\n",
       "                        <td id=\"T_d251760c_69e0_11ea_bbff_6c626d35f69drow25_col2\" class=\"data row25 col2\" >5</td>\n",
       "                        <td id=\"T_d251760c_69e0_11ea_bbff_6c626d35f69drow25_col3\" class=\"data row25 col3\" >8</td>\n",
       "                        <td id=\"T_d251760c_69e0_11ea_bbff_6c626d35f69drow25_col4\" class=\"data row25 col4\" >405</td>\n",
       "            </tr>\n",
       "            <tr>\n",
       "                        <th id=\"T_d251760c_69e0_11ea_bbff_6c626d35f69dlevel0_row26\" class=\"row_heading level0 row26\" >26</th>\n",
       "                        <td id=\"T_d251760c_69e0_11ea_bbff_6c626d35f69drow26_col0\" class=\"data row26 col0\" >Brazil</td>\n",
       "                        <td id=\"T_d251760c_69e0_11ea_bbff_6c626d35f69drow26_col1\" class=\"data row26 col1\" >372</td>\n",
       "                        <td id=\"T_d251760c_69e0_11ea_bbff_6c626d35f69drow26_col2\" class=\"data row26 col2\" >3</td>\n",
       "                        <td id=\"T_d251760c_69e0_11ea_bbff_6c626d35f69drow26_col3\" class=\"data row26 col3\" >2</td>\n",
       "                        <td id=\"T_d251760c_69e0_11ea_bbff_6c626d35f69drow26_col4\" class=\"data row26 col4\" >367</td>\n",
       "            </tr>\n",
       "            <tr>\n",
       "                        <th id=\"T_d251760c_69e0_11ea_bbff_6c626d35f69dlevel0_row27\" class=\"row_heading level0 row27\" >27</th>\n",
       "                        <td id=\"T_d251760c_69e0_11ea_bbff_6c626d35f69drow27_col0\" class=\"data row27 col0\" >Finland</td>\n",
       "                        <td id=\"T_d251760c_69e0_11ea_bbff_6c626d35f69drow27_col1\" class=\"data row27 col1\" >336</td>\n",
       "                        <td id=\"T_d251760c_69e0_11ea_bbff_6c626d35f69drow27_col2\" class=\"data row27 col2\" >0</td>\n",
       "                        <td id=\"T_d251760c_69e0_11ea_bbff_6c626d35f69drow27_col3\" class=\"data row27 col3\" >10</td>\n",
       "                        <td id=\"T_d251760c_69e0_11ea_bbff_6c626d35f69drow27_col4\" class=\"data row27 col4\" >326</td>\n",
       "            </tr>\n",
       "            <tr>\n",
       "                        <th id=\"T_d251760c_69e0_11ea_bbff_6c626d35f69dlevel0_row28\" class=\"row_heading level0 row28\" >28</th>\n",
       "                        <td id=\"T_d251760c_69e0_11ea_bbff_6c626d35f69drow28_col0\" class=\"data row28 col0\" >Singapore</td>\n",
       "                        <td id=\"T_d251760c_69e0_11ea_bbff_6c626d35f69drow28_col1\" class=\"data row28 col1\" >313</td>\n",
       "                        <td id=\"T_d251760c_69e0_11ea_bbff_6c626d35f69drow28_col2\" class=\"data row28 col2\" >0</td>\n",
       "                        <td id=\"T_d251760c_69e0_11ea_bbff_6c626d35f69drow28_col3\" class=\"data row28 col3\" >114</td>\n",
       "                        <td id=\"T_d251760c_69e0_11ea_bbff_6c626d35f69drow28_col4\" class=\"data row28 col4\" >199</td>\n",
       "            </tr>\n",
       "            <tr>\n",
       "                        <th id=\"T_d251760c_69e0_11ea_bbff_6c626d35f69dlevel0_row29\" class=\"row_heading level0 row29\" >29</th>\n",
       "                        <td id=\"T_d251760c_69e0_11ea_bbff_6c626d35f69drow29_col0\" class=\"data row29 col0\" >Pakistan</td>\n",
       "                        <td id=\"T_d251760c_69e0_11ea_bbff_6c626d35f69drow29_col1\" class=\"data row29 col1\" >299</td>\n",
       "                        <td id=\"T_d251760c_69e0_11ea_bbff_6c626d35f69drow29_col2\" class=\"data row29 col2\" >0</td>\n",
       "                        <td id=\"T_d251760c_69e0_11ea_bbff_6c626d35f69drow29_col3\" class=\"data row29 col3\" >2</td>\n",
       "                        <td id=\"T_d251760c_69e0_11ea_bbff_6c626d35f69drow29_col4\" class=\"data row29 col4\" >297</td>\n",
       "            </tr>\n",
       "            <tr>\n",
       "                        <th id=\"T_d251760c_69e0_11ea_bbff_6c626d35f69dlevel0_row30\" class=\"row_heading level0 row30\" >30</th>\n",
       "                        <td id=\"T_d251760c_69e0_11ea_bbff_6c626d35f69drow30_col0\" class=\"data row30 col0\" >Ireland</td>\n",
       "                        <td id=\"T_d251760c_69e0_11ea_bbff_6c626d35f69drow30_col1\" class=\"data row30 col1\" >292</td>\n",
       "                        <td id=\"T_d251760c_69e0_11ea_bbff_6c626d35f69drow30_col2\" class=\"data row30 col2\" >2</td>\n",
       "                        <td id=\"T_d251760c_69e0_11ea_bbff_6c626d35f69drow30_col3\" class=\"data row30 col3\" >5</td>\n",
       "                        <td id=\"T_d251760c_69e0_11ea_bbff_6c626d35f69drow30_col4\" class=\"data row30 col4\" >285</td>\n",
       "            </tr>\n",
       "            <tr>\n",
       "                        <th id=\"T_d251760c_69e0_11ea_bbff_6c626d35f69dlevel0_row31\" class=\"row_heading level0 row31\" >31</th>\n",
       "                        <td id=\"T_d251760c_69e0_11ea_bbff_6c626d35f69drow31_col0\" class=\"data row31 col0\" >Slovenia</td>\n",
       "                        <td id=\"T_d251760c_69e0_11ea_bbff_6c626d35f69drow31_col1\" class=\"data row31 col1\" >275</td>\n",
       "                        <td id=\"T_d251760c_69e0_11ea_bbff_6c626d35f69drow31_col2\" class=\"data row31 col2\" >1</td>\n",
       "                        <td id=\"T_d251760c_69e0_11ea_bbff_6c626d35f69drow31_col3\" class=\"data row31 col3\" >0</td>\n",
       "                        <td id=\"T_d251760c_69e0_11ea_bbff_6c626d35f69drow31_col4\" class=\"data row31 col4\" >274</td>\n",
       "            </tr>\n",
       "            <tr>\n",
       "                        <th id=\"T_d251760c_69e0_11ea_bbff_6c626d35f69dlevel0_row32\" class=\"row_heading level0 row32\" >32</th>\n",
       "                        <td id=\"T_d251760c_69e0_11ea_bbff_6c626d35f69drow32_col0\" class=\"data row32 col0\" >Romania</td>\n",
       "                        <td id=\"T_d251760c_69e0_11ea_bbff_6c626d35f69drow32_col1\" class=\"data row32 col1\" >260</td>\n",
       "                        <td id=\"T_d251760c_69e0_11ea_bbff_6c626d35f69drow32_col2\" class=\"data row32 col2\" >0</td>\n",
       "                        <td id=\"T_d251760c_69e0_11ea_bbff_6c626d35f69drow32_col3\" class=\"data row32 col3\" >19</td>\n",
       "                        <td id=\"T_d251760c_69e0_11ea_bbff_6c626d35f69drow32_col4\" class=\"data row32 col4\" >241</td>\n",
       "            </tr>\n",
       "            <tr>\n",
       "                        <th id=\"T_d251760c_69e0_11ea_bbff_6c626d35f69dlevel0_row33\" class=\"row_heading level0 row33\" >33</th>\n",
       "                        <td id=\"T_d251760c_69e0_11ea_bbff_6c626d35f69drow33_col0\" class=\"data row33 col0\" >Estonia</td>\n",
       "                        <td id=\"T_d251760c_69e0_11ea_bbff_6c626d35f69drow33_col1\" class=\"data row33 col1\" >258</td>\n",
       "                        <td id=\"T_d251760c_69e0_11ea_bbff_6c626d35f69drow33_col2\" class=\"data row33 col2\" >0</td>\n",
       "                        <td id=\"T_d251760c_69e0_11ea_bbff_6c626d35f69drow33_col3\" class=\"data row33 col3\" >1</td>\n",
       "                        <td id=\"T_d251760c_69e0_11ea_bbff_6c626d35f69drow33_col4\" class=\"data row33 col4\" >257</td>\n",
       "            </tr>\n",
       "            <tr>\n",
       "                        <th id=\"T_d251760c_69e0_11ea_bbff_6c626d35f69dlevel0_row34\" class=\"row_heading level0 row34\" >34</th>\n",
       "                        <td id=\"T_d251760c_69e0_11ea_bbff_6c626d35f69drow34_col0\" class=\"data row34 col0\" >Bahrain</td>\n",
       "                        <td id=\"T_d251760c_69e0_11ea_bbff_6c626d35f69drow34_col1\" class=\"data row34 col1\" >256</td>\n",
       "                        <td id=\"T_d251760c_69e0_11ea_bbff_6c626d35f69drow34_col2\" class=\"data row34 col2\" >1</td>\n",
       "                        <td id=\"T_d251760c_69e0_11ea_bbff_6c626d35f69drow34_col3\" class=\"data row34 col3\" >88</td>\n",
       "                        <td id=\"T_d251760c_69e0_11ea_bbff_6c626d35f69drow34_col4\" class=\"data row34 col4\" >167</td>\n",
       "            </tr>\n",
       "            <tr>\n",
       "                        <th id=\"T_d251760c_69e0_11ea_bbff_6c626d35f69dlevel0_row35\" class=\"row_heading level0 row35\" >35</th>\n",
       "                        <td id=\"T_d251760c_69e0_11ea_bbff_6c626d35f69drow35_col0\" class=\"data row35 col0\" >Poland</td>\n",
       "                        <td id=\"T_d251760c_69e0_11ea_bbff_6c626d35f69drow35_col1\" class=\"data row35 col1\" >251</td>\n",
       "                        <td id=\"T_d251760c_69e0_11ea_bbff_6c626d35f69drow35_col2\" class=\"data row35 col2\" >5</td>\n",
       "                        <td id=\"T_d251760c_69e0_11ea_bbff_6c626d35f69drow35_col3\" class=\"data row35 col3\" >13</td>\n",
       "                        <td id=\"T_d251760c_69e0_11ea_bbff_6c626d35f69drow35_col4\" class=\"data row35 col4\" >233</td>\n",
       "            </tr>\n",
       "            <tr>\n",
       "                        <th id=\"T_d251760c_69e0_11ea_bbff_6c626d35f69dlevel0_row36\" class=\"row_heading level0 row36\" >36</th>\n",
       "                        <td id=\"T_d251760c_69e0_11ea_bbff_6c626d35f69drow36_col0\" class=\"data row36 col0\" >Iceland</td>\n",
       "                        <td id=\"T_d251760c_69e0_11ea_bbff_6c626d35f69drow36_col1\" class=\"data row36 col1\" >250</td>\n",
       "                        <td id=\"T_d251760c_69e0_11ea_bbff_6c626d35f69drow36_col2\" class=\"data row36 col2\" >1</td>\n",
       "                        <td id=\"T_d251760c_69e0_11ea_bbff_6c626d35f69drow36_col3\" class=\"data row36 col3\" >5</td>\n",
       "                        <td id=\"T_d251760c_69e0_11ea_bbff_6c626d35f69drow36_col4\" class=\"data row36 col4\" >244</td>\n",
       "            </tr>\n",
       "            <tr>\n",
       "                        <th id=\"T_d251760c_69e0_11ea_bbff_6c626d35f69dlevel0_row37\" class=\"row_heading level0 row37\" >37</th>\n",
       "                        <td id=\"T_d251760c_69e0_11ea_bbff_6c626d35f69drow37_col0\" class=\"data row37 col0\" >Chile</td>\n",
       "                        <td id=\"T_d251760c_69e0_11ea_bbff_6c626d35f69drow37_col1\" class=\"data row37 col1\" >238</td>\n",
       "                        <td id=\"T_d251760c_69e0_11ea_bbff_6c626d35f69drow37_col2\" class=\"data row37 col2\" >0</td>\n",
       "                        <td id=\"T_d251760c_69e0_11ea_bbff_6c626d35f69drow37_col3\" class=\"data row37 col3\" >0</td>\n",
       "                        <td id=\"T_d251760c_69e0_11ea_bbff_6c626d35f69drow37_col4\" class=\"data row37 col4\" >238</td>\n",
       "            </tr>\n",
       "            <tr>\n",
       "                        <th id=\"T_d251760c_69e0_11ea_bbff_6c626d35f69dlevel0_row38\" class=\"row_heading level0 row38\" >38</th>\n",
       "                        <td id=\"T_d251760c_69e0_11ea_bbff_6c626d35f69drow38_col0\" class=\"data row38 col0\" >Indonesia</td>\n",
       "                        <td id=\"T_d251760c_69e0_11ea_bbff_6c626d35f69drow38_col1\" class=\"data row38 col1\" >227</td>\n",
       "                        <td id=\"T_d251760c_69e0_11ea_bbff_6c626d35f69drow38_col2\" class=\"data row38 col2\" >19</td>\n",
       "                        <td id=\"T_d251760c_69e0_11ea_bbff_6c626d35f69drow38_col3\" class=\"data row38 col3\" >11</td>\n",
       "                        <td id=\"T_d251760c_69e0_11ea_bbff_6c626d35f69drow38_col4\" class=\"data row38 col4\" >197</td>\n",
       "            </tr>\n",
       "            <tr>\n",
       "                        <th id=\"T_d251760c_69e0_11ea_bbff_6c626d35f69dlevel0_row39\" class=\"row_heading level0 row39\" >39</th>\n",
       "                        <td id=\"T_d251760c_69e0_11ea_bbff_6c626d35f69drow39_col0\" class=\"data row39 col0\" >Thailand</td>\n",
       "                        <td id=\"T_d251760c_69e0_11ea_bbff_6c626d35f69drow39_col1\" class=\"data row39 col1\" >212</td>\n",
       "                        <td id=\"T_d251760c_69e0_11ea_bbff_6c626d35f69drow39_col2\" class=\"data row39 col2\" >1</td>\n",
       "                        <td id=\"T_d251760c_69e0_11ea_bbff_6c626d35f69drow39_col3\" class=\"data row39 col3\" >42</td>\n",
       "                        <td id=\"T_d251760c_69e0_11ea_bbff_6c626d35f69drow39_col4\" class=\"data row39 col4\" >169</td>\n",
       "            </tr>\n",
       "            <tr>\n",
       "                        <th id=\"T_d251760c_69e0_11ea_bbff_6c626d35f69dlevel0_row40\" class=\"row_heading level0 row40\" >40</th>\n",
       "                        <td id=\"T_d251760c_69e0_11ea_bbff_6c626d35f69drow40_col0\" class=\"data row40 col0\" >Luxembourg</td>\n",
       "                        <td id=\"T_d251760c_69e0_11ea_bbff_6c626d35f69drow40_col1\" class=\"data row40 col1\" >203</td>\n",
       "                        <td id=\"T_d251760c_69e0_11ea_bbff_6c626d35f69drow40_col2\" class=\"data row40 col2\" >2</td>\n",
       "                        <td id=\"T_d251760c_69e0_11ea_bbff_6c626d35f69drow40_col3\" class=\"data row40 col3\" >0</td>\n",
       "                        <td id=\"T_d251760c_69e0_11ea_bbff_6c626d35f69drow40_col4\" class=\"data row40 col4\" >201</td>\n",
       "            </tr>\n",
       "            <tr>\n",
       "                        <th id=\"T_d251760c_69e0_11ea_bbff_6c626d35f69dlevel0_row41\" class=\"row_heading level0 row41\" >41</th>\n",
       "                        <td id=\"T_d251760c_69e0_11ea_bbff_6c626d35f69drow41_col0\" class=\"data row41 col0\" >Philippines</td>\n",
       "                        <td id=\"T_d251760c_69e0_11ea_bbff_6c626d35f69drow41_col1\" class=\"data row41 col1\" >202</td>\n",
       "                        <td id=\"T_d251760c_69e0_11ea_bbff_6c626d35f69drow41_col2\" class=\"data row41 col2\" >19</td>\n",
       "                        <td id=\"T_d251760c_69e0_11ea_bbff_6c626d35f69drow41_col3\" class=\"data row41 col3\" >5</td>\n",
       "                        <td id=\"T_d251760c_69e0_11ea_bbff_6c626d35f69drow41_col4\" class=\"data row41 col4\" >178</td>\n",
       "            </tr>\n",
       "            <tr>\n",
       "                        <th id=\"T_d251760c_69e0_11ea_bbff_6c626d35f69dlevel0_row42\" class=\"row_heading level0 row42\" >42</th>\n",
       "                        <td id=\"T_d251760c_69e0_11ea_bbff_6c626d35f69drow42_col0\" class=\"data row42 col0\" >Egypt</td>\n",
       "                        <td id=\"T_d251760c_69e0_11ea_bbff_6c626d35f69drow42_col1\" class=\"data row42 col1\" >196</td>\n",
       "                        <td id=\"T_d251760c_69e0_11ea_bbff_6c626d35f69drow42_col2\" class=\"data row42 col2\" >6</td>\n",
       "                        <td id=\"T_d251760c_69e0_11ea_bbff_6c626d35f69drow42_col3\" class=\"data row42 col3\" >32</td>\n",
       "                        <td id=\"T_d251760c_69e0_11ea_bbff_6c626d35f69drow42_col4\" class=\"data row42 col4\" >158</td>\n",
       "            </tr>\n",
       "            <tr>\n",
       "                        <th id=\"T_d251760c_69e0_11ea_bbff_6c626d35f69dlevel0_row43\" class=\"row_heading level0 row43\" >43</th>\n",
       "                        <td id=\"T_d251760c_69e0_11ea_bbff_6c626d35f69drow43_col0\" class=\"data row43 col0\" >Saudi Arabia</td>\n",
       "                        <td id=\"T_d251760c_69e0_11ea_bbff_6c626d35f69drow43_col1\" class=\"data row43 col1\" >171</td>\n",
       "                        <td id=\"T_d251760c_69e0_11ea_bbff_6c626d35f69drow43_col2\" class=\"data row43 col2\" >0</td>\n",
       "                        <td id=\"T_d251760c_69e0_11ea_bbff_6c626d35f69drow43_col3\" class=\"data row43 col3\" >6</td>\n",
       "                        <td id=\"T_d251760c_69e0_11ea_bbff_6c626d35f69drow43_col4\" class=\"data row43 col4\" >165</td>\n",
       "            </tr>\n",
       "            <tr>\n",
       "                        <th id=\"T_d251760c_69e0_11ea_bbff_6c626d35f69dlevel0_row44\" class=\"row_heading level0 row44\" >44</th>\n",
       "                        <td id=\"T_d251760c_69e0_11ea_bbff_6c626d35f69drow44_col0\" class=\"data row44 col0\" >Iraq</td>\n",
       "                        <td id=\"T_d251760c_69e0_11ea_bbff_6c626d35f69drow44_col1\" class=\"data row44 col1\" >164</td>\n",
       "                        <td id=\"T_d251760c_69e0_11ea_bbff_6c626d35f69drow44_col2\" class=\"data row44 col2\" >12</td>\n",
       "                        <td id=\"T_d251760c_69e0_11ea_bbff_6c626d35f69drow44_col3\" class=\"data row44 col3\" >43</td>\n",
       "                        <td id=\"T_d251760c_69e0_11ea_bbff_6c626d35f69drow44_col4\" class=\"data row44 col4\" >109</td>\n",
       "            </tr>\n",
       "            <tr>\n",
       "                        <th id=\"T_d251760c_69e0_11ea_bbff_6c626d35f69dlevel0_row45\" class=\"row_heading level0 row45\" >45</th>\n",
       "                        <td id=\"T_d251760c_69e0_11ea_bbff_6c626d35f69drow45_col0\" class=\"data row45 col0\" >India</td>\n",
       "                        <td id=\"T_d251760c_69e0_11ea_bbff_6c626d35f69drow45_col1\" class=\"data row45 col1\" >156</td>\n",
       "                        <td id=\"T_d251760c_69e0_11ea_bbff_6c626d35f69drow45_col2\" class=\"data row45 col2\" >3</td>\n",
       "                        <td id=\"T_d251760c_69e0_11ea_bbff_6c626d35f69drow45_col3\" class=\"data row45 col3\" >14</td>\n",
       "                        <td id=\"T_d251760c_69e0_11ea_bbff_6c626d35f69drow45_col4\" class=\"data row45 col4\" >139</td>\n",
       "            </tr>\n",
       "            <tr>\n",
       "                        <th id=\"T_d251760c_69e0_11ea_bbff_6c626d35f69dlevel0_row46\" class=\"row_heading level0 row46\" >46</th>\n",
       "                        <td id=\"T_d251760c_69e0_11ea_bbff_6c626d35f69drow46_col0\" class=\"data row46 col0\" >Russia</td>\n",
       "                        <td id=\"T_d251760c_69e0_11ea_bbff_6c626d35f69drow46_col1\" class=\"data row46 col1\" >147</td>\n",
       "                        <td id=\"T_d251760c_69e0_11ea_bbff_6c626d35f69drow46_col2\" class=\"data row46 col2\" >0</td>\n",
       "                        <td id=\"T_d251760c_69e0_11ea_bbff_6c626d35f69drow46_col3\" class=\"data row46 col3\" >8</td>\n",
       "                        <td id=\"T_d251760c_69e0_11ea_bbff_6c626d35f69drow46_col4\" class=\"data row46 col4\" >139</td>\n",
       "            </tr>\n",
       "            <tr>\n",
       "                        <th id=\"T_d251760c_69e0_11ea_bbff_6c626d35f69dlevel0_row47\" class=\"row_heading level0 row47\" >47</th>\n",
       "                        <td id=\"T_d251760c_69e0_11ea_bbff_6c626d35f69drow47_col0\" class=\"data row47 col0\" >Peru</td>\n",
       "                        <td id=\"T_d251760c_69e0_11ea_bbff_6c626d35f69drow47_col1\" class=\"data row47 col1\" >145</td>\n",
       "                        <td id=\"T_d251760c_69e0_11ea_bbff_6c626d35f69drow47_col2\" class=\"data row47 col2\" >0</td>\n",
       "                        <td id=\"T_d251760c_69e0_11ea_bbff_6c626d35f69drow47_col3\" class=\"data row47 col3\" >1</td>\n",
       "                        <td id=\"T_d251760c_69e0_11ea_bbff_6c626d35f69drow47_col4\" class=\"data row47 col4\" >144</td>\n",
       "            </tr>\n",
       "            <tr>\n",
       "                        <th id=\"T_d251760c_69e0_11ea_bbff_6c626d35f69dlevel0_row48\" class=\"row_heading level0 row48\" >48</th>\n",
       "                        <td id=\"T_d251760c_69e0_11ea_bbff_6c626d35f69drow48_col0\" class=\"data row48 col0\" >Kuwait</td>\n",
       "                        <td id=\"T_d251760c_69e0_11ea_bbff_6c626d35f69drow48_col1\" class=\"data row48 col1\" >142</td>\n",
       "                        <td id=\"T_d251760c_69e0_11ea_bbff_6c626d35f69drow48_col2\" class=\"data row48 col2\" >0</td>\n",
       "                        <td id=\"T_d251760c_69e0_11ea_bbff_6c626d35f69drow48_col3\" class=\"data row48 col3\" >15</td>\n",
       "                        <td id=\"T_d251760c_69e0_11ea_bbff_6c626d35f69drow48_col4\" class=\"data row48 col4\" >127</td>\n",
       "            </tr>\n",
       "            <tr>\n",
       "                        <th id=\"T_d251760c_69e0_11ea_bbff_6c626d35f69dlevel0_row49\" class=\"row_heading level0 row49\" >49</th>\n",
       "                        <td id=\"T_d251760c_69e0_11ea_bbff_6c626d35f69drow49_col0\" class=\"data row49 col0\" >Lebanon</td>\n",
       "                        <td id=\"T_d251760c_69e0_11ea_bbff_6c626d35f69drow49_col1\" class=\"data row49 col1\" >133</td>\n",
       "                        <td id=\"T_d251760c_69e0_11ea_bbff_6c626d35f69drow49_col2\" class=\"data row49 col2\" >3</td>\n",
       "                        <td id=\"T_d251760c_69e0_11ea_bbff_6c626d35f69drow49_col3\" class=\"data row49 col3\" >3</td>\n",
       "                        <td id=\"T_d251760c_69e0_11ea_bbff_6c626d35f69drow49_col4\" class=\"data row49 col4\" >127</td>\n",
       "            </tr>\n",
       "            <tr>\n",
       "                        <th id=\"T_d251760c_69e0_11ea_bbff_6c626d35f69dlevel0_row50\" class=\"row_heading level0 row50\" >50</th>\n",
       "                        <td id=\"T_d251760c_69e0_11ea_bbff_6c626d35f69drow50_col0\" class=\"data row50 col0\" >San Marino</td>\n",
       "                        <td id=\"T_d251760c_69e0_11ea_bbff_6c626d35f69drow50_col1\" class=\"data row50 col1\" >119</td>\n",
       "                        <td id=\"T_d251760c_69e0_11ea_bbff_6c626d35f69drow50_col2\" class=\"data row50 col2\" >11</td>\n",
       "                        <td id=\"T_d251760c_69e0_11ea_bbff_6c626d35f69drow50_col3\" class=\"data row50 col3\" >4</td>\n",
       "                        <td id=\"T_d251760c_69e0_11ea_bbff_6c626d35f69drow50_col4\" class=\"data row50 col4\" >104</td>\n",
       "            </tr>\n",
       "            <tr>\n",
       "                        <th id=\"T_d251760c_69e0_11ea_bbff_6c626d35f69dlevel0_row51\" class=\"row_heading level0 row51\" >51</th>\n",
       "                        <td id=\"T_d251760c_69e0_11ea_bbff_6c626d35f69drow51_col0\" class=\"data row51 col0\" >South Africa</td>\n",
       "                        <td id=\"T_d251760c_69e0_11ea_bbff_6c626d35f69drow51_col1\" class=\"data row51 col1\" >116</td>\n",
       "                        <td id=\"T_d251760c_69e0_11ea_bbff_6c626d35f69drow51_col2\" class=\"data row51 col2\" >0</td>\n",
       "                        <td id=\"T_d251760c_69e0_11ea_bbff_6c626d35f69drow51_col3\" class=\"data row51 col3\" >0</td>\n",
       "                        <td id=\"T_d251760c_69e0_11ea_bbff_6c626d35f69drow51_col4\" class=\"data row51 col4\" >116</td>\n",
       "            </tr>\n",
       "            <tr>\n",
       "                        <th id=\"T_d251760c_69e0_11ea_bbff_6c626d35f69dlevel0_row52\" class=\"row_heading level0 row52\" >52</th>\n",
       "                        <td id=\"T_d251760c_69e0_11ea_bbff_6c626d35f69drow52_col0\" class=\"data row52 col0\" >United Arab Emirates</td>\n",
       "                        <td id=\"T_d251760c_69e0_11ea_bbff_6c626d35f69drow52_col1\" class=\"data row52 col1\" >113</td>\n",
       "                        <td id=\"T_d251760c_69e0_11ea_bbff_6c626d35f69drow52_col2\" class=\"data row52 col2\" >0</td>\n",
       "                        <td id=\"T_d251760c_69e0_11ea_bbff_6c626d35f69drow52_col3\" class=\"data row52 col3\" >26</td>\n",
       "                        <td id=\"T_d251760c_69e0_11ea_bbff_6c626d35f69drow52_col4\" class=\"data row52 col4\" >87</td>\n",
       "            </tr>\n",
       "            <tr>\n",
       "                        <th id=\"T_d251760c_69e0_11ea_bbff_6c626d35f69dlevel0_row53\" class=\"row_heading level0 row53\" >53</th>\n",
       "                        <td id=\"T_d251760c_69e0_11ea_bbff_6c626d35f69drow53_col0\" class=\"data row53 col0\" >Ecuador</td>\n",
       "                        <td id=\"T_d251760c_69e0_11ea_bbff_6c626d35f69drow53_col1\" class=\"data row53 col1\" >111</td>\n",
       "                        <td id=\"T_d251760c_69e0_11ea_bbff_6c626d35f69drow53_col2\" class=\"data row53 col2\" >2</td>\n",
       "                        <td id=\"T_d251760c_69e0_11ea_bbff_6c626d35f69drow53_col3\" class=\"data row53 col3\" >0</td>\n",
       "                        <td id=\"T_d251760c_69e0_11ea_bbff_6c626d35f69drow53_col4\" class=\"data row53 col4\" >109</td>\n",
       "            </tr>\n",
       "            <tr>\n",
       "                        <th id=\"T_d251760c_69e0_11ea_bbff_6c626d35f69dlevel0_row54\" class=\"row_heading level0 row54\" >54</th>\n",
       "                        <td id=\"T_d251760c_69e0_11ea_bbff_6c626d35f69drow54_col0\" class=\"data row54 col0\" >Slovakia</td>\n",
       "                        <td id=\"T_d251760c_69e0_11ea_bbff_6c626d35f69drow54_col1\" class=\"data row54 col1\" >105</td>\n",
       "                        <td id=\"T_d251760c_69e0_11ea_bbff_6c626d35f69drow54_col2\" class=\"data row54 col2\" >1</td>\n",
       "                        <td id=\"T_d251760c_69e0_11ea_bbff_6c626d35f69drow54_col3\" class=\"data row54 col3\" >0</td>\n",
       "                        <td id=\"T_d251760c_69e0_11ea_bbff_6c626d35f69drow54_col4\" class=\"data row54 col4\" >104</td>\n",
       "            </tr>\n",
       "            <tr>\n",
       "                        <th id=\"T_d251760c_69e0_11ea_bbff_6c626d35f69dlevel0_row55\" class=\"row_heading level0 row55\" >55</th>\n",
       "                        <td id=\"T_d251760c_69e0_11ea_bbff_6c626d35f69drow55_col0\" class=\"data row55 col0\" >Taiwan*</td>\n",
       "                        <td id=\"T_d251760c_69e0_11ea_bbff_6c626d35f69drow55_col1\" class=\"data row55 col1\" >100</td>\n",
       "                        <td id=\"T_d251760c_69e0_11ea_bbff_6c626d35f69drow55_col2\" class=\"data row55 col2\" >1</td>\n",
       "                        <td id=\"T_d251760c_69e0_11ea_bbff_6c626d35f69drow55_col3\" class=\"data row55 col3\" >22</td>\n",
       "                        <td id=\"T_d251760c_69e0_11ea_bbff_6c626d35f69drow55_col4\" class=\"data row55 col4\" >77</td>\n",
       "            </tr>\n",
       "            <tr>\n",
       "                        <th id=\"T_d251760c_69e0_11ea_bbff_6c626d35f69dlevel0_row56\" class=\"row_heading level0 row56\" >56</th>\n",
       "                        <td id=\"T_d251760c_69e0_11ea_bbff_6c626d35f69drow56_col0\" class=\"data row56 col0\" >Turkey</td>\n",
       "                        <td id=\"T_d251760c_69e0_11ea_bbff_6c626d35f69drow56_col1\" class=\"data row56 col1\" >98</td>\n",
       "                        <td id=\"T_d251760c_69e0_11ea_bbff_6c626d35f69drow56_col2\" class=\"data row56 col2\" >1</td>\n",
       "                        <td id=\"T_d251760c_69e0_11ea_bbff_6c626d35f69drow56_col3\" class=\"data row56 col3\" >0</td>\n",
       "                        <td id=\"T_d251760c_69e0_11ea_bbff_6c626d35f69drow56_col4\" class=\"data row56 col4\" >97</td>\n",
       "            </tr>\n",
       "            <tr>\n",
       "                        <th id=\"T_d251760c_69e0_11ea_bbff_6c626d35f69dlevel0_row57\" class=\"row_heading level0 row57\" >57</th>\n",
       "                        <td id=\"T_d251760c_69e0_11ea_bbff_6c626d35f69drow57_col0\" class=\"data row57 col0\" >Mexico</td>\n",
       "                        <td id=\"T_d251760c_69e0_11ea_bbff_6c626d35f69drow57_col1\" class=\"data row57 col1\" >93</td>\n",
       "                        <td id=\"T_d251760c_69e0_11ea_bbff_6c626d35f69drow57_col2\" class=\"data row57 col2\" >0</td>\n",
       "                        <td id=\"T_d251760c_69e0_11ea_bbff_6c626d35f69drow57_col3\" class=\"data row57 col3\" >4</td>\n",
       "                        <td id=\"T_d251760c_69e0_11ea_bbff_6c626d35f69drow57_col4\" class=\"data row57 col4\" >89</td>\n",
       "            </tr>\n",
       "            <tr>\n",
       "                        <th id=\"T_d251760c_69e0_11ea_bbff_6c626d35f69dlevel0_row58\" class=\"row_heading level0 row58\" >58</th>\n",
       "                        <td id=\"T_d251760c_69e0_11ea_bbff_6c626d35f69drow58_col0\" class=\"data row58 col0\" >Colombia</td>\n",
       "                        <td id=\"T_d251760c_69e0_11ea_bbff_6c626d35f69drow58_col1\" class=\"data row58 col1\" >93</td>\n",
       "                        <td id=\"T_d251760c_69e0_11ea_bbff_6c626d35f69drow58_col2\" class=\"data row58 col2\" >0</td>\n",
       "                        <td id=\"T_d251760c_69e0_11ea_bbff_6c626d35f69drow58_col3\" class=\"data row58 col3\" >1</td>\n",
       "                        <td id=\"T_d251760c_69e0_11ea_bbff_6c626d35f69drow58_col4\" class=\"data row58 col4\" >92</td>\n",
       "            </tr>\n",
       "            <tr>\n",
       "                        <th id=\"T_d251760c_69e0_11ea_bbff_6c626d35f69dlevel0_row59\" class=\"row_heading level0 row59\" >59</th>\n",
       "                        <td id=\"T_d251760c_69e0_11ea_bbff_6c626d35f69drow59_col0\" class=\"data row59 col0\" >Bulgaria</td>\n",
       "                        <td id=\"T_d251760c_69e0_11ea_bbff_6c626d35f69drow59_col1\" class=\"data row59 col1\" >92</td>\n",
       "                        <td id=\"T_d251760c_69e0_11ea_bbff_6c626d35f69drow59_col2\" class=\"data row59 col2\" >2</td>\n",
       "                        <td id=\"T_d251760c_69e0_11ea_bbff_6c626d35f69drow59_col3\" class=\"data row59 col3\" >0</td>\n",
       "                        <td id=\"T_d251760c_69e0_11ea_bbff_6c626d35f69drow59_col4\" class=\"data row59 col4\" >90</td>\n",
       "            </tr>\n",
       "            <tr>\n",
       "                        <th id=\"T_d251760c_69e0_11ea_bbff_6c626d35f69dlevel0_row60\" class=\"row_heading level0 row60\" >60</th>\n",
       "                        <td id=\"T_d251760c_69e0_11ea_bbff_6c626d35f69drow60_col0\" class=\"data row60 col0\" >Panama</td>\n",
       "                        <td id=\"T_d251760c_69e0_11ea_bbff_6c626d35f69drow60_col1\" class=\"data row60 col1\" >86</td>\n",
       "                        <td id=\"T_d251760c_69e0_11ea_bbff_6c626d35f69drow60_col2\" class=\"data row60 col2\" >1</td>\n",
       "                        <td id=\"T_d251760c_69e0_11ea_bbff_6c626d35f69drow60_col3\" class=\"data row60 col3\" >0</td>\n",
       "                        <td id=\"T_d251760c_69e0_11ea_bbff_6c626d35f69drow60_col4\" class=\"data row60 col4\" >85</td>\n",
       "            </tr>\n",
       "            <tr>\n",
       "                        <th id=\"T_d251760c_69e0_11ea_bbff_6c626d35f69dlevel0_row61\" class=\"row_heading level0 row61\" >61</th>\n",
       "                        <td id=\"T_d251760c_69e0_11ea_bbff_6c626d35f69drow61_col0\" class=\"data row61 col0\" >Armenia</td>\n",
       "                        <td id=\"T_d251760c_69e0_11ea_bbff_6c626d35f69drow61_col1\" class=\"data row61 col1\" >84</td>\n",
       "                        <td id=\"T_d251760c_69e0_11ea_bbff_6c626d35f69drow61_col2\" class=\"data row61 col2\" >0</td>\n",
       "                        <td id=\"T_d251760c_69e0_11ea_bbff_6c626d35f69drow61_col3\" class=\"data row61 col3\" >1</td>\n",
       "                        <td id=\"T_d251760c_69e0_11ea_bbff_6c626d35f69drow61_col4\" class=\"data row61 col4\" >83</td>\n",
       "            </tr>\n",
       "            <tr>\n",
       "                        <th id=\"T_d251760c_69e0_11ea_bbff_6c626d35f69dlevel0_row62\" class=\"row_heading level0 row62\" >62</th>\n",
       "                        <td id=\"T_d251760c_69e0_11ea_bbff_6c626d35f69drow62_col0\" class=\"data row62 col0\" >Serbia</td>\n",
       "                        <td id=\"T_d251760c_69e0_11ea_bbff_6c626d35f69drow62_col1\" class=\"data row62 col1\" >83</td>\n",
       "                        <td id=\"T_d251760c_69e0_11ea_bbff_6c626d35f69drow62_col2\" class=\"data row62 col2\" >0</td>\n",
       "                        <td id=\"T_d251760c_69e0_11ea_bbff_6c626d35f69drow62_col3\" class=\"data row62 col3\" >1</td>\n",
       "                        <td id=\"T_d251760c_69e0_11ea_bbff_6c626d35f69drow62_col4\" class=\"data row62 col4\" >82</td>\n",
       "            </tr>\n",
       "            <tr>\n",
       "                        <th id=\"T_d251760c_69e0_11ea_bbff_6c626d35f69dlevel0_row63\" class=\"row_heading level0 row63\" >63</th>\n",
       "                        <td id=\"T_d251760c_69e0_11ea_bbff_6c626d35f69drow63_col0\" class=\"data row63 col0\" >Croatia</td>\n",
       "                        <td id=\"T_d251760c_69e0_11ea_bbff_6c626d35f69drow63_col1\" class=\"data row63 col1\" >81</td>\n",
       "                        <td id=\"T_d251760c_69e0_11ea_bbff_6c626d35f69drow63_col2\" class=\"data row63 col2\" >0</td>\n",
       "                        <td id=\"T_d251760c_69e0_11ea_bbff_6c626d35f69drow63_col3\" class=\"data row63 col3\" >4</td>\n",
       "                        <td id=\"T_d251760c_69e0_11ea_bbff_6c626d35f69drow63_col4\" class=\"data row63 col4\" >77</td>\n",
       "            </tr>\n",
       "            <tr>\n",
       "                        <th id=\"T_d251760c_69e0_11ea_bbff_6c626d35f69dlevel0_row64\" class=\"row_heading level0 row64\" >64</th>\n",
       "                        <td id=\"T_d251760c_69e0_11ea_bbff_6c626d35f69drow64_col0\" class=\"data row64 col0\" >Argentina</td>\n",
       "                        <td id=\"T_d251760c_69e0_11ea_bbff_6c626d35f69drow64_col1\" class=\"data row64 col1\" >79</td>\n",
       "                        <td id=\"T_d251760c_69e0_11ea_bbff_6c626d35f69drow64_col2\" class=\"data row64 col2\" >2</td>\n",
       "                        <td id=\"T_d251760c_69e0_11ea_bbff_6c626d35f69drow64_col3\" class=\"data row64 col3\" >3</td>\n",
       "                        <td id=\"T_d251760c_69e0_11ea_bbff_6c626d35f69drow64_col4\" class=\"data row64 col4\" >74</td>\n",
       "            </tr>\n",
       "            <tr>\n",
       "                        <th id=\"T_d251760c_69e0_11ea_bbff_6c626d35f69dlevel0_row65\" class=\"row_heading level0 row65\" >65</th>\n",
       "                        <td id=\"T_d251760c_69e0_11ea_bbff_6c626d35f69drow65_col0\" class=\"data row65 col0\" >Vietnam</td>\n",
       "                        <td id=\"T_d251760c_69e0_11ea_bbff_6c626d35f69drow65_col1\" class=\"data row65 col1\" >75</td>\n",
       "                        <td id=\"T_d251760c_69e0_11ea_bbff_6c626d35f69drow65_col2\" class=\"data row65 col2\" >0</td>\n",
       "                        <td id=\"T_d251760c_69e0_11ea_bbff_6c626d35f69drow65_col3\" class=\"data row65 col3\" >16</td>\n",
       "                        <td id=\"T_d251760c_69e0_11ea_bbff_6c626d35f69drow65_col4\" class=\"data row65 col4\" >59</td>\n",
       "            </tr>\n",
       "            <tr>\n",
       "                        <th id=\"T_d251760c_69e0_11ea_bbff_6c626d35f69dlevel0_row66\" class=\"row_heading level0 row66\" >66</th>\n",
       "                        <td id=\"T_d251760c_69e0_11ea_bbff_6c626d35f69drow66_col0\" class=\"data row66 col0\" >Algeria</td>\n",
       "                        <td id=\"T_d251760c_69e0_11ea_bbff_6c626d35f69drow66_col1\" class=\"data row66 col1\" >74</td>\n",
       "                        <td id=\"T_d251760c_69e0_11ea_bbff_6c626d35f69drow66_col2\" class=\"data row66 col2\" >7</td>\n",
       "                        <td id=\"T_d251760c_69e0_11ea_bbff_6c626d35f69drow66_col3\" class=\"data row66 col3\" >12</td>\n",
       "                        <td id=\"T_d251760c_69e0_11ea_bbff_6c626d35f69drow66_col4\" class=\"data row66 col4\" >55</td>\n",
       "            </tr>\n",
       "            <tr>\n",
       "                        <th id=\"T_d251760c_69e0_11ea_bbff_6c626d35f69dlevel0_row67\" class=\"row_heading level0 row67\" >67</th>\n",
       "                        <td id=\"T_d251760c_69e0_11ea_bbff_6c626d35f69drow67_col0\" class=\"data row67 col0\" >Latvia</td>\n",
       "                        <td id=\"T_d251760c_69e0_11ea_bbff_6c626d35f69drow67_col1\" class=\"data row67 col1\" >71</td>\n",
       "                        <td id=\"T_d251760c_69e0_11ea_bbff_6c626d35f69drow67_col2\" class=\"data row67 col2\" >0</td>\n",
       "                        <td id=\"T_d251760c_69e0_11ea_bbff_6c626d35f69drow67_col3\" class=\"data row67 col3\" >1</td>\n",
       "                        <td id=\"T_d251760c_69e0_11ea_bbff_6c626d35f69drow67_col4\" class=\"data row67 col4\" >70</td>\n",
       "            </tr>\n",
       "            <tr>\n",
       "                        <th id=\"T_d251760c_69e0_11ea_bbff_6c626d35f69dlevel0_row68\" class=\"row_heading level0 row68\" >68</th>\n",
       "                        <td id=\"T_d251760c_69e0_11ea_bbff_6c626d35f69drow68_col0\" class=\"data row68 col0\" >Brunei</td>\n",
       "                        <td id=\"T_d251760c_69e0_11ea_bbff_6c626d35f69drow68_col1\" class=\"data row68 col1\" >68</td>\n",
       "                        <td id=\"T_d251760c_69e0_11ea_bbff_6c626d35f69drow68_col2\" class=\"data row68 col2\" >0</td>\n",
       "                        <td id=\"T_d251760c_69e0_11ea_bbff_6c626d35f69drow68_col3\" class=\"data row68 col3\" >0</td>\n",
       "                        <td id=\"T_d251760c_69e0_11ea_bbff_6c626d35f69drow68_col4\" class=\"data row68 col4\" >68</td>\n",
       "            </tr>\n",
       "            <tr>\n",
       "                        <th id=\"T_d251760c_69e0_11ea_bbff_6c626d35f69dlevel0_row69\" class=\"row_heading level0 row69\" >69</th>\n",
       "                        <td id=\"T_d251760c_69e0_11ea_bbff_6c626d35f69drow69_col0\" class=\"data row69 col0\" >Albania</td>\n",
       "                        <td id=\"T_d251760c_69e0_11ea_bbff_6c626d35f69drow69_col1\" class=\"data row69 col1\" >59</td>\n",
       "                        <td id=\"T_d251760c_69e0_11ea_bbff_6c626d35f69drow69_col2\" class=\"data row69 col2\" >2</td>\n",
       "                        <td id=\"T_d251760c_69e0_11ea_bbff_6c626d35f69drow69_col3\" class=\"data row69 col3\" >0</td>\n",
       "                        <td id=\"T_d251760c_69e0_11ea_bbff_6c626d35f69drow69_col4\" class=\"data row69 col4\" >57</td>\n",
       "            </tr>\n",
       "            <tr>\n",
       "                        <th id=\"T_d251760c_69e0_11ea_bbff_6c626d35f69dlevel0_row70\" class=\"row_heading level0 row70\" >70</th>\n",
       "                        <td id=\"T_d251760c_69e0_11ea_bbff_6c626d35f69drow70_col0\" class=\"data row70 col0\" >Hungary</td>\n",
       "                        <td id=\"T_d251760c_69e0_11ea_bbff_6c626d35f69drow70_col1\" class=\"data row70 col1\" >58</td>\n",
       "                        <td id=\"T_d251760c_69e0_11ea_bbff_6c626d35f69drow70_col2\" class=\"data row70 col2\" >1</td>\n",
       "                        <td id=\"T_d251760c_69e0_11ea_bbff_6c626d35f69drow70_col3\" class=\"data row70 col3\" >2</td>\n",
       "                        <td id=\"T_d251760c_69e0_11ea_bbff_6c626d35f69drow70_col4\" class=\"data row70 col4\" >55</td>\n",
       "            </tr>\n",
       "            <tr>\n",
       "                        <th id=\"T_d251760c_69e0_11ea_bbff_6c626d35f69dlevel0_row71\" class=\"row_heading level0 row71\" >71</th>\n",
       "                        <td id=\"T_d251760c_69e0_11ea_bbff_6c626d35f69drow71_col0\" class=\"data row71 col0\" >Jordan</td>\n",
       "                        <td id=\"T_d251760c_69e0_11ea_bbff_6c626d35f69drow71_col1\" class=\"data row71 col1\" >52</td>\n",
       "                        <td id=\"T_d251760c_69e0_11ea_bbff_6c626d35f69drow71_col2\" class=\"data row71 col2\" >0</td>\n",
       "                        <td id=\"T_d251760c_69e0_11ea_bbff_6c626d35f69drow71_col3\" class=\"data row71 col3\" >1</td>\n",
       "                        <td id=\"T_d251760c_69e0_11ea_bbff_6c626d35f69drow71_col4\" class=\"data row71 col4\" >51</td>\n",
       "            </tr>\n",
       "            <tr>\n",
       "                        <th id=\"T_d251760c_69e0_11ea_bbff_6c626d35f69dlevel0_row72\" class=\"row_heading level0 row72\" >72</th>\n",
       "                        <td id=\"T_d251760c_69e0_11ea_bbff_6c626d35f69drow72_col0\" class=\"data row72 col0\" >Sri Lanka</td>\n",
       "                        <td id=\"T_d251760c_69e0_11ea_bbff_6c626d35f69drow72_col1\" class=\"data row72 col1\" >51</td>\n",
       "                        <td id=\"T_d251760c_69e0_11ea_bbff_6c626d35f69drow72_col2\" class=\"data row72 col2\" >0</td>\n",
       "                        <td id=\"T_d251760c_69e0_11ea_bbff_6c626d35f69drow72_col3\" class=\"data row72 col3\" >1</td>\n",
       "                        <td id=\"T_d251760c_69e0_11ea_bbff_6c626d35f69drow72_col4\" class=\"data row72 col4\" >50</td>\n",
       "            </tr>\n",
       "            <tr>\n",
       "                        <th id=\"T_d251760c_69e0_11ea_bbff_6c626d35f69dlevel0_row73\" class=\"row_heading level0 row73\" >73</th>\n",
       "                        <td id=\"T_d251760c_69e0_11ea_bbff_6c626d35f69drow73_col0\" class=\"data row73 col0\" >Belarus</td>\n",
       "                        <td id=\"T_d251760c_69e0_11ea_bbff_6c626d35f69drow73_col1\" class=\"data row73 col1\" >51</td>\n",
       "                        <td id=\"T_d251760c_69e0_11ea_bbff_6c626d35f69drow73_col2\" class=\"data row73 col2\" >0</td>\n",
       "                        <td id=\"T_d251760c_69e0_11ea_bbff_6c626d35f69drow73_col3\" class=\"data row73 col3\" >5</td>\n",
       "                        <td id=\"T_d251760c_69e0_11ea_bbff_6c626d35f69drow73_col4\" class=\"data row73 col4\" >46</td>\n",
       "            </tr>\n",
       "            <tr>\n",
       "                        <th id=\"T_d251760c_69e0_11ea_bbff_6c626d35f69dlevel0_row74\" class=\"row_heading level0 row74\" >74</th>\n",
       "                        <td id=\"T_d251760c_69e0_11ea_bbff_6c626d35f69drow74_col0\" class=\"data row74 col0\" >Uruguay</td>\n",
       "                        <td id=\"T_d251760c_69e0_11ea_bbff_6c626d35f69drow74_col1\" class=\"data row74 col1\" >50</td>\n",
       "                        <td id=\"T_d251760c_69e0_11ea_bbff_6c626d35f69drow74_col2\" class=\"data row74 col2\" >0</td>\n",
       "                        <td id=\"T_d251760c_69e0_11ea_bbff_6c626d35f69drow74_col3\" class=\"data row74 col3\" >0</td>\n",
       "                        <td id=\"T_d251760c_69e0_11ea_bbff_6c626d35f69drow74_col4\" class=\"data row74 col4\" >50</td>\n",
       "            </tr>\n",
       "            <tr>\n",
       "                        <th id=\"T_d251760c_69e0_11ea_bbff_6c626d35f69dlevel0_row75\" class=\"row_heading level0 row75\" >75</th>\n",
       "                        <td id=\"T_d251760c_69e0_11ea_bbff_6c626d35f69drow75_col0\" class=\"data row75 col0\" >Costa Rica</td>\n",
       "                        <td id=\"T_d251760c_69e0_11ea_bbff_6c626d35f69drow75_col1\" class=\"data row75 col1\" >50</td>\n",
       "                        <td id=\"T_d251760c_69e0_11ea_bbff_6c626d35f69drow75_col2\" class=\"data row75 col2\" >0</td>\n",
       "                        <td id=\"T_d251760c_69e0_11ea_bbff_6c626d35f69drow75_col3\" class=\"data row75 col3\" >0</td>\n",
       "                        <td id=\"T_d251760c_69e0_11ea_bbff_6c626d35f69drow75_col4\" class=\"data row75 col4\" >50</td>\n",
       "            </tr>\n",
       "            <tr>\n",
       "                        <th id=\"T_d251760c_69e0_11ea_bbff_6c626d35f69dlevel0_row76\" class=\"row_heading level0 row76\" >76</th>\n",
       "                        <td id=\"T_d251760c_69e0_11ea_bbff_6c626d35f69drow76_col0\" class=\"data row76 col0\" >Morocco</td>\n",
       "                        <td id=\"T_d251760c_69e0_11ea_bbff_6c626d35f69drow76_col1\" class=\"data row76 col1\" >49</td>\n",
       "                        <td id=\"T_d251760c_69e0_11ea_bbff_6c626d35f69drow76_col2\" class=\"data row76 col2\" >2</td>\n",
       "                        <td id=\"T_d251760c_69e0_11ea_bbff_6c626d35f69drow76_col3\" class=\"data row76 col3\" >1</td>\n",
       "                        <td id=\"T_d251760c_69e0_11ea_bbff_6c626d35f69drow76_col4\" class=\"data row76 col4\" >46</td>\n",
       "            </tr>\n",
       "            <tr>\n",
       "                        <th id=\"T_d251760c_69e0_11ea_bbff_6c626d35f69dlevel0_row77\" class=\"row_heading level0 row77\" >77</th>\n",
       "                        <td id=\"T_d251760c_69e0_11ea_bbff_6c626d35f69drow77_col0\" class=\"data row77 col0\" >Cyprus</td>\n",
       "                        <td id=\"T_d251760c_69e0_11ea_bbff_6c626d35f69drow77_col1\" class=\"data row77 col1\" >49</td>\n",
       "                        <td id=\"T_d251760c_69e0_11ea_bbff_6c626d35f69drow77_col2\" class=\"data row77 col2\" >0</td>\n",
       "                        <td id=\"T_d251760c_69e0_11ea_bbff_6c626d35f69drow77_col3\" class=\"data row77 col3\" >0</td>\n",
       "                        <td id=\"T_d251760c_69e0_11ea_bbff_6c626d35f69drow77_col4\" class=\"data row77 col4\" >49</td>\n",
       "            </tr>\n",
       "            <tr>\n",
       "                        <th id=\"T_d251760c_69e0_11ea_bbff_6c626d35f69dlevel0_row78\" class=\"row_heading level0 row78\" >78</th>\n",
       "                        <td id=\"T_d251760c_69e0_11ea_bbff_6c626d35f69drow78_col0\" class=\"data row78 col0\" >Oman</td>\n",
       "                        <td id=\"T_d251760c_69e0_11ea_bbff_6c626d35f69drow78_col1\" class=\"data row78 col1\" >39</td>\n",
       "                        <td id=\"T_d251760c_69e0_11ea_bbff_6c626d35f69drow78_col2\" class=\"data row78 col2\" >0</td>\n",
       "                        <td id=\"T_d251760c_69e0_11ea_bbff_6c626d35f69drow78_col3\" class=\"data row78 col3\" >12</td>\n",
       "                        <td id=\"T_d251760c_69e0_11ea_bbff_6c626d35f69drow78_col4\" class=\"data row78 col4\" >27</td>\n",
       "            </tr>\n",
       "            <tr>\n",
       "                        <th id=\"T_d251760c_69e0_11ea_bbff_6c626d35f69dlevel0_row79\" class=\"row_heading level0 row79\" >79</th>\n",
       "                        <td id=\"T_d251760c_69e0_11ea_bbff_6c626d35f69drow79_col0\" class=\"data row79 col0\" >Andorra</td>\n",
       "                        <td id=\"T_d251760c_69e0_11ea_bbff_6c626d35f69drow79_col1\" class=\"data row79 col1\" >39</td>\n",
       "                        <td id=\"T_d251760c_69e0_11ea_bbff_6c626d35f69drow79_col2\" class=\"data row79 col2\" >0</td>\n",
       "                        <td id=\"T_d251760c_69e0_11ea_bbff_6c626d35f69drow79_col3\" class=\"data row79 col3\" >1</td>\n",
       "                        <td id=\"T_d251760c_69e0_11ea_bbff_6c626d35f69drow79_col4\" class=\"data row79 col4\" >38</td>\n",
       "            </tr>\n",
       "            <tr>\n",
       "                        <th id=\"T_d251760c_69e0_11ea_bbff_6c626d35f69dlevel0_row80\" class=\"row_heading level0 row80\" >80</th>\n",
       "                        <td id=\"T_d251760c_69e0_11ea_bbff_6c626d35f69drow80_col0\" class=\"data row80 col0\" >Georgia</td>\n",
       "                        <td id=\"T_d251760c_69e0_11ea_bbff_6c626d35f69drow80_col1\" class=\"data row80 col1\" >38</td>\n",
       "                        <td id=\"T_d251760c_69e0_11ea_bbff_6c626d35f69drow80_col2\" class=\"data row80 col2\" >0</td>\n",
       "                        <td id=\"T_d251760c_69e0_11ea_bbff_6c626d35f69drow80_col3\" class=\"data row80 col3\" >1</td>\n",
       "                        <td id=\"T_d251760c_69e0_11ea_bbff_6c626d35f69drow80_col4\" class=\"data row80 col4\" >37</td>\n",
       "            </tr>\n",
       "            <tr>\n",
       "                        <th id=\"T_d251760c_69e0_11ea_bbff_6c626d35f69dlevel0_row81\" class=\"row_heading level0 row81\" >81</th>\n",
       "                        <td id=\"T_d251760c_69e0_11ea_bbff_6c626d35f69drow81_col0\" class=\"data row81 col0\" >Bosnia and Herzegovina</td>\n",
       "                        <td id=\"T_d251760c_69e0_11ea_bbff_6c626d35f69drow81_col1\" class=\"data row81 col1\" >38</td>\n",
       "                        <td id=\"T_d251760c_69e0_11ea_bbff_6c626d35f69drow81_col2\" class=\"data row81 col2\" >0</td>\n",
       "                        <td id=\"T_d251760c_69e0_11ea_bbff_6c626d35f69drow81_col3\" class=\"data row81 col3\" >2</td>\n",
       "                        <td id=\"T_d251760c_69e0_11ea_bbff_6c626d35f69drow81_col4\" class=\"data row81 col4\" >36</td>\n",
       "            </tr>\n",
       "            <tr>\n",
       "                        <th id=\"T_d251760c_69e0_11ea_bbff_6c626d35f69dlevel0_row82\" class=\"row_heading level0 row82\" >82</th>\n",
       "                        <td id=\"T_d251760c_69e0_11ea_bbff_6c626d35f69drow82_col0\" class=\"data row82 col0\" >Malta</td>\n",
       "                        <td id=\"T_d251760c_69e0_11ea_bbff_6c626d35f69drow82_col1\" class=\"data row82 col1\" >38</td>\n",
       "                        <td id=\"T_d251760c_69e0_11ea_bbff_6c626d35f69drow82_col2\" class=\"data row82 col2\" >0</td>\n",
       "                        <td id=\"T_d251760c_69e0_11ea_bbff_6c626d35f69drow82_col3\" class=\"data row82 col3\" >2</td>\n",
       "                        <td id=\"T_d251760c_69e0_11ea_bbff_6c626d35f69drow82_col4\" class=\"data row82 col4\" >36</td>\n",
       "            </tr>\n",
       "            <tr>\n",
       "                        <th id=\"T_d251760c_69e0_11ea_bbff_6c626d35f69dlevel0_row83\" class=\"row_heading level0 row83\" >83</th>\n",
       "                        <td id=\"T_d251760c_69e0_11ea_bbff_6c626d35f69drow83_col0\" class=\"data row83 col0\" >Venezuela</td>\n",
       "                        <td id=\"T_d251760c_69e0_11ea_bbff_6c626d35f69drow83_col1\" class=\"data row83 col1\" >36</td>\n",
       "                        <td id=\"T_d251760c_69e0_11ea_bbff_6c626d35f69drow83_col2\" class=\"data row83 col2\" >0</td>\n",
       "                        <td id=\"T_d251760c_69e0_11ea_bbff_6c626d35f69drow83_col3\" class=\"data row83 col3\" >0</td>\n",
       "                        <td id=\"T_d251760c_69e0_11ea_bbff_6c626d35f69drow83_col4\" class=\"data row83 col4\" >36</td>\n",
       "            </tr>\n",
       "            <tr>\n",
       "                        <th id=\"T_d251760c_69e0_11ea_bbff_6c626d35f69dlevel0_row84\" class=\"row_heading level0 row84\" >84</th>\n",
       "                        <td id=\"T_d251760c_69e0_11ea_bbff_6c626d35f69drow84_col0\" class=\"data row84 col0\" >Kazakhstan</td>\n",
       "                        <td id=\"T_d251760c_69e0_11ea_bbff_6c626d35f69drow84_col1\" class=\"data row84 col1\" >35</td>\n",
       "                        <td id=\"T_d251760c_69e0_11ea_bbff_6c626d35f69drow84_col2\" class=\"data row84 col2\" >0</td>\n",
       "                        <td id=\"T_d251760c_69e0_11ea_bbff_6c626d35f69drow84_col3\" class=\"data row84 col3\" >0</td>\n",
       "                        <td id=\"T_d251760c_69e0_11ea_bbff_6c626d35f69drow84_col4\" class=\"data row84 col4\" >35</td>\n",
       "            </tr>\n",
       "            <tr>\n",
       "                        <th id=\"T_d251760c_69e0_11ea_bbff_6c626d35f69dlevel0_row85\" class=\"row_heading level0 row85\" >85</th>\n",
       "                        <td id=\"T_d251760c_69e0_11ea_bbff_6c626d35f69drow85_col0\" class=\"data row85 col0\" >Cambodia</td>\n",
       "                        <td id=\"T_d251760c_69e0_11ea_bbff_6c626d35f69drow85_col1\" class=\"data row85 col1\" >35</td>\n",
       "                        <td id=\"T_d251760c_69e0_11ea_bbff_6c626d35f69drow85_col2\" class=\"data row85 col2\" >0</td>\n",
       "                        <td id=\"T_d251760c_69e0_11ea_bbff_6c626d35f69drow85_col3\" class=\"data row85 col3\" >1</td>\n",
       "                        <td id=\"T_d251760c_69e0_11ea_bbff_6c626d35f69drow85_col4\" class=\"data row85 col4\" >34</td>\n",
       "            </tr>\n",
       "            <tr>\n",
       "                        <th id=\"T_d251760c_69e0_11ea_bbff_6c626d35f69dlevel0_row86\" class=\"row_heading level0 row86\" >86</th>\n",
       "                        <td id=\"T_d251760c_69e0_11ea_bbff_6c626d35f69drow86_col0\" class=\"data row86 col0\" >North Macedonia</td>\n",
       "                        <td id=\"T_d251760c_69e0_11ea_bbff_6c626d35f69drow86_col1\" class=\"data row86 col1\" >35</td>\n",
       "                        <td id=\"T_d251760c_69e0_11ea_bbff_6c626d35f69drow86_col2\" class=\"data row86 col2\" >0</td>\n",
       "                        <td id=\"T_d251760c_69e0_11ea_bbff_6c626d35f69drow86_col3\" class=\"data row86 col3\" >1</td>\n",
       "                        <td id=\"T_d251760c_69e0_11ea_bbff_6c626d35f69drow86_col4\" class=\"data row86 col4\" >34</td>\n",
       "            </tr>\n",
       "            <tr>\n",
       "                        <th id=\"T_d251760c_69e0_11ea_bbff_6c626d35f69dlevel0_row87\" class=\"row_heading level0 row87\" >87</th>\n",
       "                        <td id=\"T_d251760c_69e0_11ea_bbff_6c626d35f69drow87_col0\" class=\"data row87 col0\" >Senegal</td>\n",
       "                        <td id=\"T_d251760c_69e0_11ea_bbff_6c626d35f69drow87_col1\" class=\"data row87 col1\" >31</td>\n",
       "                        <td id=\"T_d251760c_69e0_11ea_bbff_6c626d35f69drow87_col2\" class=\"data row87 col2\" >0</td>\n",
       "                        <td id=\"T_d251760c_69e0_11ea_bbff_6c626d35f69drow87_col3\" class=\"data row87 col3\" >2</td>\n",
       "                        <td id=\"T_d251760c_69e0_11ea_bbff_6c626d35f69drow87_col4\" class=\"data row87 col4\" >29</td>\n",
       "            </tr>\n",
       "            <tr>\n",
       "                        <th id=\"T_d251760c_69e0_11ea_bbff_6c626d35f69dlevel0_row88\" class=\"row_heading level0 row88\" >88</th>\n",
       "                        <td id=\"T_d251760c_69e0_11ea_bbff_6c626d35f69drow88_col0\" class=\"data row88 col0\" >Moldova</td>\n",
       "                        <td id=\"T_d251760c_69e0_11ea_bbff_6c626d35f69drow88_col1\" class=\"data row88 col1\" >30</td>\n",
       "                        <td id=\"T_d251760c_69e0_11ea_bbff_6c626d35f69drow88_col2\" class=\"data row88 col2\" >1</td>\n",
       "                        <td id=\"T_d251760c_69e0_11ea_bbff_6c626d35f69drow88_col3\" class=\"data row88 col3\" >1</td>\n",
       "                        <td id=\"T_d251760c_69e0_11ea_bbff_6c626d35f69drow88_col4\" class=\"data row88 col4\" >28</td>\n",
       "            </tr>\n",
       "            <tr>\n",
       "                        <th id=\"T_d251760c_69e0_11ea_bbff_6c626d35f69dlevel0_row89\" class=\"row_heading level0 row89\" >89</th>\n",
       "                        <td id=\"T_d251760c_69e0_11ea_bbff_6c626d35f69drow89_col0\" class=\"data row89 col0\" >Tunisia</td>\n",
       "                        <td id=\"T_d251760c_69e0_11ea_bbff_6c626d35f69drow89_col1\" class=\"data row89 col1\" >29</td>\n",
       "                        <td id=\"T_d251760c_69e0_11ea_bbff_6c626d35f69drow89_col2\" class=\"data row89 col2\" >0</td>\n",
       "                        <td id=\"T_d251760c_69e0_11ea_bbff_6c626d35f69drow89_col3\" class=\"data row89 col3\" >0</td>\n",
       "                        <td id=\"T_d251760c_69e0_11ea_bbff_6c626d35f69drow89_col4\" class=\"data row89 col4\" >29</td>\n",
       "            </tr>\n",
       "            <tr>\n",
       "                        <th id=\"T_d251760c_69e0_11ea_bbff_6c626d35f69dlevel0_row90\" class=\"row_heading level0 row90\" >90</th>\n",
       "                        <td id=\"T_d251760c_69e0_11ea_bbff_6c626d35f69drow90_col0\" class=\"data row90 col0\" >Liechtenstein</td>\n",
       "                        <td id=\"T_d251760c_69e0_11ea_bbff_6c626d35f69drow90_col1\" class=\"data row90 col1\" >28</td>\n",
       "                        <td id=\"T_d251760c_69e0_11ea_bbff_6c626d35f69drow90_col2\" class=\"data row90 col2\" >0</td>\n",
       "                        <td id=\"T_d251760c_69e0_11ea_bbff_6c626d35f69drow90_col3\" class=\"data row90 col3\" >0</td>\n",
       "                        <td id=\"T_d251760c_69e0_11ea_bbff_6c626d35f69drow90_col4\" class=\"data row90 col4\" >28</td>\n",
       "            </tr>\n",
       "            <tr>\n",
       "                        <th id=\"T_d251760c_69e0_11ea_bbff_6c626d35f69dlevel0_row91\" class=\"row_heading level0 row91\" >91</th>\n",
       "                        <td id=\"T_d251760c_69e0_11ea_bbff_6c626d35f69drow91_col0\" class=\"data row91 col0\" >Azerbaijan</td>\n",
       "                        <td id=\"T_d251760c_69e0_11ea_bbff_6c626d35f69drow91_col1\" class=\"data row91 col1\" >28</td>\n",
       "                        <td id=\"T_d251760c_69e0_11ea_bbff_6c626d35f69drow91_col2\" class=\"data row91 col2\" >1</td>\n",
       "                        <td id=\"T_d251760c_69e0_11ea_bbff_6c626d35f69drow91_col3\" class=\"data row91 col3\" >6</td>\n",
       "                        <td id=\"T_d251760c_69e0_11ea_bbff_6c626d35f69drow91_col4\" class=\"data row91 col4\" >21</td>\n",
       "            </tr>\n",
       "            <tr>\n",
       "                        <th id=\"T_d251760c_69e0_11ea_bbff_6c626d35f69dlevel0_row92\" class=\"row_heading level0 row92\" >92</th>\n",
       "                        <td id=\"T_d251760c_69e0_11ea_bbff_6c626d35f69drow92_col0\" class=\"data row92 col0\" >Guadeloupe</td>\n",
       "                        <td id=\"T_d251760c_69e0_11ea_bbff_6c626d35f69drow92_col1\" class=\"data row92 col1\" >27</td>\n",
       "                        <td id=\"T_d251760c_69e0_11ea_bbff_6c626d35f69drow92_col2\" class=\"data row92 col2\" >0</td>\n",
       "                        <td id=\"T_d251760c_69e0_11ea_bbff_6c626d35f69drow92_col3\" class=\"data row92 col3\" >0</td>\n",
       "                        <td id=\"T_d251760c_69e0_11ea_bbff_6c626d35f69drow92_col4\" class=\"data row92 col4\" >27</td>\n",
       "            </tr>\n",
       "            <tr>\n",
       "                        <th id=\"T_d251760c_69e0_11ea_bbff_6c626d35f69dlevel0_row93\" class=\"row_heading level0 row93\" >93</th>\n",
       "                        <td id=\"T_d251760c_69e0_11ea_bbff_6c626d35f69drow93_col0\" class=\"data row93 col0\" >Lithuania</td>\n",
       "                        <td id=\"T_d251760c_69e0_11ea_bbff_6c626d35f69drow93_col1\" class=\"data row93 col1\" >27</td>\n",
       "                        <td id=\"T_d251760c_69e0_11ea_bbff_6c626d35f69drow93_col2\" class=\"data row93 col2\" >0</td>\n",
       "                        <td id=\"T_d251760c_69e0_11ea_bbff_6c626d35f69drow93_col3\" class=\"data row93 col3\" >1</td>\n",
       "                        <td id=\"T_d251760c_69e0_11ea_bbff_6c626d35f69drow93_col4\" class=\"data row93 col4\" >26</td>\n",
       "            </tr>\n",
       "            <tr>\n",
       "                        <th id=\"T_d251760c_69e0_11ea_bbff_6c626d35f69dlevel0_row94\" class=\"row_heading level0 row94\" >94</th>\n",
       "                        <td id=\"T_d251760c_69e0_11ea_bbff_6c626d35f69drow94_col0\" class=\"data row94 col0\" >Afghanistan</td>\n",
       "                        <td id=\"T_d251760c_69e0_11ea_bbff_6c626d35f69drow94_col1\" class=\"data row94 col1\" >22</td>\n",
       "                        <td id=\"T_d251760c_69e0_11ea_bbff_6c626d35f69drow94_col2\" class=\"data row94 col2\" >0</td>\n",
       "                        <td id=\"T_d251760c_69e0_11ea_bbff_6c626d35f69drow94_col3\" class=\"data row94 col3\" >1</td>\n",
       "                        <td id=\"T_d251760c_69e0_11ea_bbff_6c626d35f69drow94_col4\" class=\"data row94 col4\" >21</td>\n",
       "            </tr>\n",
       "            <tr>\n",
       "                        <th id=\"T_d251760c_69e0_11ea_bbff_6c626d35f69dlevel0_row95\" class=\"row_heading level0 row95\" >95</th>\n",
       "                        <td id=\"T_d251760c_69e0_11ea_bbff_6c626d35f69drow95_col0\" class=\"data row95 col0\" >Dominican Republic</td>\n",
       "                        <td id=\"T_d251760c_69e0_11ea_bbff_6c626d35f69drow95_col1\" class=\"data row95 col1\" >21</td>\n",
       "                        <td id=\"T_d251760c_69e0_11ea_bbff_6c626d35f69drow95_col2\" class=\"data row95 col2\" >1</td>\n",
       "                        <td id=\"T_d251760c_69e0_11ea_bbff_6c626d35f69drow95_col3\" class=\"data row95 col3\" >0</td>\n",
       "                        <td id=\"T_d251760c_69e0_11ea_bbff_6c626d35f69drow95_col4\" class=\"data row95 col4\" >20</td>\n",
       "            </tr>\n",
       "            <tr>\n",
       "                        <th id=\"T_d251760c_69e0_11ea_bbff_6c626d35f69dlevel0_row96\" class=\"row_heading level0 row96\" >96</th>\n",
       "                        <td id=\"T_d251760c_69e0_11ea_bbff_6c626d35f69drow96_col0\" class=\"data row96 col0\" >Burkina Faso</td>\n",
       "                        <td id=\"T_d251760c_69e0_11ea_bbff_6c626d35f69drow96_col1\" class=\"data row96 col1\" >20</td>\n",
       "                        <td id=\"T_d251760c_69e0_11ea_bbff_6c626d35f69drow96_col2\" class=\"data row96 col2\" >1</td>\n",
       "                        <td id=\"T_d251760c_69e0_11ea_bbff_6c626d35f69drow96_col3\" class=\"data row96 col3\" >0</td>\n",
       "                        <td id=\"T_d251760c_69e0_11ea_bbff_6c626d35f69drow96_col4\" class=\"data row96 col4\" >19</td>\n",
       "            </tr>\n",
       "            <tr>\n",
       "                        <th id=\"T_d251760c_69e0_11ea_bbff_6c626d35f69dlevel0_row97\" class=\"row_heading level0 row97\" >97</th>\n",
       "                        <td id=\"T_d251760c_69e0_11ea_bbff_6c626d35f69drow97_col0\" class=\"data row97 col0\" >New Zealand</td>\n",
       "                        <td id=\"T_d251760c_69e0_11ea_bbff_6c626d35f69drow97_col1\" class=\"data row97 col1\" >20</td>\n",
       "                        <td id=\"T_d251760c_69e0_11ea_bbff_6c626d35f69drow97_col2\" class=\"data row97 col2\" >0</td>\n",
       "                        <td id=\"T_d251760c_69e0_11ea_bbff_6c626d35f69drow97_col3\" class=\"data row97 col3\" >0</td>\n",
       "                        <td id=\"T_d251760c_69e0_11ea_bbff_6c626d35f69drow97_col4\" class=\"data row97 col4\" >20</td>\n",
       "            </tr>\n",
       "            <tr>\n",
       "                        <th id=\"T_d251760c_69e0_11ea_bbff_6c626d35f69dlevel0_row98\" class=\"row_heading level0 row98\" >98</th>\n",
       "                        <td id=\"T_d251760c_69e0_11ea_bbff_6c626d35f69drow98_col0\" class=\"data row98 col0\" >Martinique</td>\n",
       "                        <td id=\"T_d251760c_69e0_11ea_bbff_6c626d35f69drow98_col1\" class=\"data row98 col1\" >19</td>\n",
       "                        <td id=\"T_d251760c_69e0_11ea_bbff_6c626d35f69drow98_col2\" class=\"data row98 col2\" >1</td>\n",
       "                        <td id=\"T_d251760c_69e0_11ea_bbff_6c626d35f69drow98_col3\" class=\"data row98 col3\" >0</td>\n",
       "                        <td id=\"T_d251760c_69e0_11ea_bbff_6c626d35f69drow98_col4\" class=\"data row98 col4\" >18</td>\n",
       "            </tr>\n",
       "            <tr>\n",
       "                        <th id=\"T_d251760c_69e0_11ea_bbff_6c626d35f69dlevel0_row99\" class=\"row_heading level0 row99\" >99</th>\n",
       "                        <td id=\"T_d251760c_69e0_11ea_bbff_6c626d35f69drow99_col0\" class=\"data row99 col0\" >Uzbekistan</td>\n",
       "                        <td id=\"T_d251760c_69e0_11ea_bbff_6c626d35f69drow99_col1\" class=\"data row99 col1\" >15</td>\n",
       "                        <td id=\"T_d251760c_69e0_11ea_bbff_6c626d35f69drow99_col2\" class=\"data row99 col2\" >0</td>\n",
       "                        <td id=\"T_d251760c_69e0_11ea_bbff_6c626d35f69drow99_col3\" class=\"data row99 col3\" >0</td>\n",
       "                        <td id=\"T_d251760c_69e0_11ea_bbff_6c626d35f69drow99_col4\" class=\"data row99 col4\" >15</td>\n",
       "            </tr>\n",
       "            <tr>\n",
       "                        <th id=\"T_d251760c_69e0_11ea_bbff_6c626d35f69dlevel0_row100\" class=\"row_heading level0 row100\" >100</th>\n",
       "                        <td id=\"T_d251760c_69e0_11ea_bbff_6c626d35f69drow100_col0\" class=\"data row100 col0\" >Bangladesh</td>\n",
       "                        <td id=\"T_d251760c_69e0_11ea_bbff_6c626d35f69drow100_col1\" class=\"data row100 col1\" >14</td>\n",
       "                        <td id=\"T_d251760c_69e0_11ea_bbff_6c626d35f69drow100_col2\" class=\"data row100 col2\" >1</td>\n",
       "                        <td id=\"T_d251760c_69e0_11ea_bbff_6c626d35f69drow100_col3\" class=\"data row100 col3\" >3</td>\n",
       "                        <td id=\"T_d251760c_69e0_11ea_bbff_6c626d35f69drow100_col4\" class=\"data row100 col4\" >10</td>\n",
       "            </tr>\n",
       "            <tr>\n",
       "                        <th id=\"T_d251760c_69e0_11ea_bbff_6c626d35f69dlevel0_row101\" class=\"row_heading level0 row101\" >101</th>\n",
       "                        <td id=\"T_d251760c_69e0_11ea_bbff_6c626d35f69drow101_col0\" class=\"data row101 col0\" >Ukraine</td>\n",
       "                        <td id=\"T_d251760c_69e0_11ea_bbff_6c626d35f69drow101_col1\" class=\"data row101 col1\" >14</td>\n",
       "                        <td id=\"T_d251760c_69e0_11ea_bbff_6c626d35f69drow101_col2\" class=\"data row101 col2\" >2</td>\n",
       "                        <td id=\"T_d251760c_69e0_11ea_bbff_6c626d35f69drow101_col3\" class=\"data row101 col3\" >0</td>\n",
       "                        <td id=\"T_d251760c_69e0_11ea_bbff_6c626d35f69drow101_col4\" class=\"data row101 col4\" >12</td>\n",
       "            </tr>\n",
       "            <tr>\n",
       "                        <th id=\"T_d251760c_69e0_11ea_bbff_6c626d35f69dlevel0_row102\" class=\"row_heading level0 row102\" >102</th>\n",
       "                        <td id=\"T_d251760c_69e0_11ea_bbff_6c626d35f69drow102_col0\" class=\"data row102 col0\" >Jamaica</td>\n",
       "                        <td id=\"T_d251760c_69e0_11ea_bbff_6c626d35f69drow102_col1\" class=\"data row102 col1\" >13</td>\n",
       "                        <td id=\"T_d251760c_69e0_11ea_bbff_6c626d35f69drow102_col2\" class=\"data row102 col2\" >0</td>\n",
       "                        <td id=\"T_d251760c_69e0_11ea_bbff_6c626d35f69drow102_col3\" class=\"data row102 col3\" >2</td>\n",
       "                        <td id=\"T_d251760c_69e0_11ea_bbff_6c626d35f69drow102_col4\" class=\"data row102 col4\" >11</td>\n",
       "            </tr>\n",
       "            <tr>\n",
       "                        <th id=\"T_d251760c_69e0_11ea_bbff_6c626d35f69dlevel0_row103\" class=\"row_heading level0 row103\" >103</th>\n",
       "                        <td id=\"T_d251760c_69e0_11ea_bbff_6c626d35f69drow103_col0\" class=\"data row103 col0\" >Maldives</td>\n",
       "                        <td id=\"T_d251760c_69e0_11ea_bbff_6c626d35f69drow103_col1\" class=\"data row103 col1\" >13</td>\n",
       "                        <td id=\"T_d251760c_69e0_11ea_bbff_6c626d35f69drow103_col2\" class=\"data row103 col2\" >0</td>\n",
       "                        <td id=\"T_d251760c_69e0_11ea_bbff_6c626d35f69drow103_col3\" class=\"data row103 col3\" >0</td>\n",
       "                        <td id=\"T_d251760c_69e0_11ea_bbff_6c626d35f69drow103_col4\" class=\"data row103 col4\" >13</td>\n",
       "            </tr>\n",
       "            <tr>\n",
       "                        <th id=\"T_d251760c_69e0_11ea_bbff_6c626d35f69dlevel0_row104\" class=\"row_heading level0 row104\" >104</th>\n",
       "                        <td id=\"T_d251760c_69e0_11ea_bbff_6c626d35f69drow104_col0\" class=\"data row104 col0\" >Reunion</td>\n",
       "                        <td id=\"T_d251760c_69e0_11ea_bbff_6c626d35f69drow104_col1\" class=\"data row104 col1\" >12</td>\n",
       "                        <td id=\"T_d251760c_69e0_11ea_bbff_6c626d35f69drow104_col2\" class=\"data row104 col2\" >0</td>\n",
       "                        <td id=\"T_d251760c_69e0_11ea_bbff_6c626d35f69drow104_col3\" class=\"data row104 col3\" >0</td>\n",
       "                        <td id=\"T_d251760c_69e0_11ea_bbff_6c626d35f69drow104_col4\" class=\"data row104 col4\" >12</td>\n",
       "            </tr>\n",
       "            <tr>\n",
       "                        <th id=\"T_d251760c_69e0_11ea_bbff_6c626d35f69dlevel0_row105\" class=\"row_heading level0 row105\" >105</th>\n",
       "                        <td id=\"T_d251760c_69e0_11ea_bbff_6c626d35f69drow105_col0\" class=\"data row105 col0\" >Bolivia</td>\n",
       "                        <td id=\"T_d251760c_69e0_11ea_bbff_6c626d35f69drow105_col1\" class=\"data row105 col1\" >12</td>\n",
       "                        <td id=\"T_d251760c_69e0_11ea_bbff_6c626d35f69drow105_col2\" class=\"data row105 col2\" >0</td>\n",
       "                        <td id=\"T_d251760c_69e0_11ea_bbff_6c626d35f69drow105_col3\" class=\"data row105 col3\" >0</td>\n",
       "                        <td id=\"T_d251760c_69e0_11ea_bbff_6c626d35f69drow105_col4\" class=\"data row105 col4\" >12</td>\n",
       "            </tr>\n",
       "            <tr>\n",
       "                        <th id=\"T_d251760c_69e0_11ea_bbff_6c626d35f69dlevel0_row106\" class=\"row_heading level0 row106\" >106</th>\n",
       "                        <td id=\"T_d251760c_69e0_11ea_bbff_6c626d35f69drow106_col0\" class=\"data row106 col0\" >French Guiana</td>\n",
       "                        <td id=\"T_d251760c_69e0_11ea_bbff_6c626d35f69drow106_col1\" class=\"data row106 col1\" >11</td>\n",
       "                        <td id=\"T_d251760c_69e0_11ea_bbff_6c626d35f69drow106_col2\" class=\"data row106 col2\" >0</td>\n",
       "                        <td id=\"T_d251760c_69e0_11ea_bbff_6c626d35f69drow106_col3\" class=\"data row106 col3\" >0</td>\n",
       "                        <td id=\"T_d251760c_69e0_11ea_bbff_6c626d35f69drow106_col4\" class=\"data row106 col4\" >11</td>\n",
       "            </tr>\n",
       "            <tr>\n",
       "                        <th id=\"T_d251760c_69e0_11ea_bbff_6c626d35f69dlevel0_row107\" class=\"row_heading level0 row107\" >107</th>\n",
       "                        <td id=\"T_d251760c_69e0_11ea_bbff_6c626d35f69drow107_col0\" class=\"data row107 col0\" >Paraguay</td>\n",
       "                        <td id=\"T_d251760c_69e0_11ea_bbff_6c626d35f69drow107_col1\" class=\"data row107 col1\" >11</td>\n",
       "                        <td id=\"T_d251760c_69e0_11ea_bbff_6c626d35f69drow107_col2\" class=\"data row107 col2\" >0</td>\n",
       "                        <td id=\"T_d251760c_69e0_11ea_bbff_6c626d35f69drow107_col3\" class=\"data row107 col3\" >0</td>\n",
       "                        <td id=\"T_d251760c_69e0_11ea_bbff_6c626d35f69drow107_col4\" class=\"data row107 col4\" >11</td>\n",
       "            </tr>\n",
       "            <tr>\n",
       "                        <th id=\"T_d251760c_69e0_11ea_bbff_6c626d35f69dlevel0_row108\" class=\"row_heading level0 row108\" >108</th>\n",
       "                        <td id=\"T_d251760c_69e0_11ea_bbff_6c626d35f69drow108_col0\" class=\"data row108 col0\" >Cameroon</td>\n",
       "                        <td id=\"T_d251760c_69e0_11ea_bbff_6c626d35f69drow108_col1\" class=\"data row108 col1\" >10</td>\n",
       "                        <td id=\"T_d251760c_69e0_11ea_bbff_6c626d35f69drow108_col2\" class=\"data row108 col2\" >0</td>\n",
       "                        <td id=\"T_d251760c_69e0_11ea_bbff_6c626d35f69drow108_col3\" class=\"data row108 col3\" >0</td>\n",
       "                        <td id=\"T_d251760c_69e0_11ea_bbff_6c626d35f69drow108_col4\" class=\"data row108 col4\" >10</td>\n",
       "            </tr>\n",
       "            <tr>\n",
       "                        <th id=\"T_d251760c_69e0_11ea_bbff_6c626d35f69dlevel0_row109\" class=\"row_heading level0 row109\" >109</th>\n",
       "                        <td id=\"T_d251760c_69e0_11ea_bbff_6c626d35f69drow109_col0\" class=\"data row109 col0\" >Honduras</td>\n",
       "                        <td id=\"T_d251760c_69e0_11ea_bbff_6c626d35f69drow109_col1\" class=\"data row109 col1\" >9</td>\n",
       "                        <td id=\"T_d251760c_69e0_11ea_bbff_6c626d35f69drow109_col2\" class=\"data row109 col2\" >0</td>\n",
       "                        <td id=\"T_d251760c_69e0_11ea_bbff_6c626d35f69drow109_col3\" class=\"data row109 col3\" >0</td>\n",
       "                        <td id=\"T_d251760c_69e0_11ea_bbff_6c626d35f69drow109_col4\" class=\"data row109 col4\" >9</td>\n",
       "            </tr>\n",
       "            <tr>\n",
       "                        <th id=\"T_d251760c_69e0_11ea_bbff_6c626d35f69dlevel0_row110\" class=\"row_heading level0 row110\" >110</th>\n",
       "                        <td id=\"T_d251760c_69e0_11ea_bbff_6c626d35f69drow110_col0\" class=\"data row110 col0\" >Rwanda</td>\n",
       "                        <td id=\"T_d251760c_69e0_11ea_bbff_6c626d35f69drow110_col1\" class=\"data row110 col1\" >8</td>\n",
       "                        <td id=\"T_d251760c_69e0_11ea_bbff_6c626d35f69drow110_col2\" class=\"data row110 col2\" >0</td>\n",
       "                        <td id=\"T_d251760c_69e0_11ea_bbff_6c626d35f69drow110_col3\" class=\"data row110 col3\" >0</td>\n",
       "                        <td id=\"T_d251760c_69e0_11ea_bbff_6c626d35f69drow110_col4\" class=\"data row110 col4\" >8</td>\n",
       "            </tr>\n",
       "            <tr>\n",
       "                        <th id=\"T_d251760c_69e0_11ea_bbff_6c626d35f69dlevel0_row111\" class=\"row_heading level0 row111\" >111</th>\n",
       "                        <td id=\"T_d251760c_69e0_11ea_bbff_6c626d35f69drow111_col0\" class=\"data row111 col0\" >Nigeria</td>\n",
       "                        <td id=\"T_d251760c_69e0_11ea_bbff_6c626d35f69drow111_col1\" class=\"data row111 col1\" >8</td>\n",
       "                        <td id=\"T_d251760c_69e0_11ea_bbff_6c626d35f69drow111_col2\" class=\"data row111 col2\" >0</td>\n",
       "                        <td id=\"T_d251760c_69e0_11ea_bbff_6c626d35f69drow111_col3\" class=\"data row111 col3\" >1</td>\n",
       "                        <td id=\"T_d251760c_69e0_11ea_bbff_6c626d35f69drow111_col4\" class=\"data row111 col4\" >7</td>\n",
       "            </tr>\n",
       "            <tr>\n",
       "                        <th id=\"T_d251760c_69e0_11ea_bbff_6c626d35f69dlevel0_row112\" class=\"row_heading level0 row112\" >112</th>\n",
       "                        <td id=\"T_d251760c_69e0_11ea_bbff_6c626d35f69drow112_col0\" class=\"data row112 col0\" >Trinidad and Tobago</td>\n",
       "                        <td id=\"T_d251760c_69e0_11ea_bbff_6c626d35f69drow112_col1\" class=\"data row112 col1\" >7</td>\n",
       "                        <td id=\"T_d251760c_69e0_11ea_bbff_6c626d35f69drow112_col2\" class=\"data row112 col2\" >0</td>\n",
       "                        <td id=\"T_d251760c_69e0_11ea_bbff_6c626d35f69drow112_col3\" class=\"data row112 col3\" >0</td>\n",
       "                        <td id=\"T_d251760c_69e0_11ea_bbff_6c626d35f69drow112_col4\" class=\"data row112 col4\" >7</td>\n",
       "            </tr>\n",
       "            <tr>\n",
       "                        <th id=\"T_d251760c_69e0_11ea_bbff_6c626d35f69dlevel0_row113\" class=\"row_heading level0 row113\" >113</th>\n",
       "                        <td id=\"T_d251760c_69e0_11ea_bbff_6c626d35f69drow113_col0\" class=\"data row113 col0\" >Guyana</td>\n",
       "                        <td id=\"T_d251760c_69e0_11ea_bbff_6c626d35f69drow113_col1\" class=\"data row113 col1\" >7</td>\n",
       "                        <td id=\"T_d251760c_69e0_11ea_bbff_6c626d35f69drow113_col2\" class=\"data row113 col2\" >1</td>\n",
       "                        <td id=\"T_d251760c_69e0_11ea_bbff_6c626d35f69drow113_col3\" class=\"data row113 col3\" >0</td>\n",
       "                        <td id=\"T_d251760c_69e0_11ea_bbff_6c626d35f69drow113_col4\" class=\"data row113 col4\" >6</td>\n",
       "            </tr>\n",
       "            <tr>\n",
       "                        <th id=\"T_d251760c_69e0_11ea_bbff_6c626d35f69dlevel0_row114\" class=\"row_heading level0 row114\" >114</th>\n",
       "                        <td id=\"T_d251760c_69e0_11ea_bbff_6c626d35f69drow114_col0\" class=\"data row114 col0\" >Ghana</td>\n",
       "                        <td id=\"T_d251760c_69e0_11ea_bbff_6c626d35f69drow114_col1\" class=\"data row114 col1\" >7</td>\n",
       "                        <td id=\"T_d251760c_69e0_11ea_bbff_6c626d35f69drow114_col2\" class=\"data row114 col2\" >0</td>\n",
       "                        <td id=\"T_d251760c_69e0_11ea_bbff_6c626d35f69drow114_col3\" class=\"data row114 col3\" >0</td>\n",
       "                        <td id=\"T_d251760c_69e0_11ea_bbff_6c626d35f69drow114_col4\" class=\"data row114 col4\" >7</td>\n",
       "            </tr>\n",
       "            <tr>\n",
       "                        <th id=\"T_d251760c_69e0_11ea_bbff_6c626d35f69dlevel0_row115\" class=\"row_heading level0 row115\" >115</th>\n",
       "                        <td id=\"T_d251760c_69e0_11ea_bbff_6c626d35f69drow115_col0\" class=\"data row115 col0\" >Monaco</td>\n",
       "                        <td id=\"T_d251760c_69e0_11ea_bbff_6c626d35f69drow115_col1\" class=\"data row115 col1\" >7</td>\n",
       "                        <td id=\"T_d251760c_69e0_11ea_bbff_6c626d35f69drow115_col2\" class=\"data row115 col2\" >0</td>\n",
       "                        <td id=\"T_d251760c_69e0_11ea_bbff_6c626d35f69drow115_col3\" class=\"data row115 col3\" >0</td>\n",
       "                        <td id=\"T_d251760c_69e0_11ea_bbff_6c626d35f69drow115_col4\" class=\"data row115 col4\" >7</td>\n",
       "            </tr>\n",
       "            <tr>\n",
       "                        <th id=\"T_d251760c_69e0_11ea_bbff_6c626d35f69dlevel0_row116\" class=\"row_heading level0 row116\" >116</th>\n",
       "                        <td id=\"T_d251760c_69e0_11ea_bbff_6c626d35f69drow116_col0\" class=\"data row116 col0\" >Cuba</td>\n",
       "                        <td id=\"T_d251760c_69e0_11ea_bbff_6c626d35f69drow116_col1\" class=\"data row116 col1\" >7</td>\n",
       "                        <td id=\"T_d251760c_69e0_11ea_bbff_6c626d35f69drow116_col2\" class=\"data row116 col2\" >1</td>\n",
       "                        <td id=\"T_d251760c_69e0_11ea_bbff_6c626d35f69drow116_col3\" class=\"data row116 col3\" >0</td>\n",
       "                        <td id=\"T_d251760c_69e0_11ea_bbff_6c626d35f69drow116_col4\" class=\"data row116 col4\" >6</td>\n",
       "            </tr>\n",
       "            <tr>\n",
       "                        <th id=\"T_d251760c_69e0_11ea_bbff_6c626d35f69dlevel0_row117\" class=\"row_heading level0 row117\" >117</th>\n",
       "                        <td id=\"T_d251760c_69e0_11ea_bbff_6c626d35f69drow117_col0\" class=\"data row117 col0\" >Ethiopia</td>\n",
       "                        <td id=\"T_d251760c_69e0_11ea_bbff_6c626d35f69drow117_col1\" class=\"data row117 col1\" >6</td>\n",
       "                        <td id=\"T_d251760c_69e0_11ea_bbff_6c626d35f69drow117_col2\" class=\"data row117 col2\" >0</td>\n",
       "                        <td id=\"T_d251760c_69e0_11ea_bbff_6c626d35f69drow117_col3\" class=\"data row117 col3\" >0</td>\n",
       "                        <td id=\"T_d251760c_69e0_11ea_bbff_6c626d35f69drow117_col4\" class=\"data row117 col4\" >6</td>\n",
       "            </tr>\n",
       "            <tr>\n",
       "                        <th id=\"T_d251760c_69e0_11ea_bbff_6c626d35f69dlevel0_row118\" class=\"row_heading level0 row118\" >118</th>\n",
       "                        <td id=\"T_d251760c_69e0_11ea_bbff_6c626d35f69drow118_col0\" class=\"data row118 col0\" >Guatemala</td>\n",
       "                        <td id=\"T_d251760c_69e0_11ea_bbff_6c626d35f69drow118_col1\" class=\"data row118 col1\" >6</td>\n",
       "                        <td id=\"T_d251760c_69e0_11ea_bbff_6c626d35f69drow118_col2\" class=\"data row118 col2\" >1</td>\n",
       "                        <td id=\"T_d251760c_69e0_11ea_bbff_6c626d35f69drow118_col3\" class=\"data row118 col3\" >0</td>\n",
       "                        <td id=\"T_d251760c_69e0_11ea_bbff_6c626d35f69drow118_col4\" class=\"data row118 col4\" >5</td>\n",
       "            </tr>\n",
       "            <tr>\n",
       "                        <th id=\"T_d251760c_69e0_11ea_bbff_6c626d35f69dlevel0_row119\" class=\"row_heading level0 row119\" >119</th>\n",
       "                        <td id=\"T_d251760c_69e0_11ea_bbff_6c626d35f69drow119_col0\" class=\"data row119 col0\" >Cote d'Ivoire</td>\n",
       "                        <td id=\"T_d251760c_69e0_11ea_bbff_6c626d35f69drow119_col1\" class=\"data row119 col1\" >6</td>\n",
       "                        <td id=\"T_d251760c_69e0_11ea_bbff_6c626d35f69drow119_col2\" class=\"data row119 col2\" >0</td>\n",
       "                        <td id=\"T_d251760c_69e0_11ea_bbff_6c626d35f69drow119_col3\" class=\"data row119 col3\" >1</td>\n",
       "                        <td id=\"T_d251760c_69e0_11ea_bbff_6c626d35f69drow119_col4\" class=\"data row119 col4\" >5</td>\n",
       "            </tr>\n",
       "            <tr>\n",
       "                        <th id=\"T_d251760c_69e0_11ea_bbff_6c626d35f69dlevel0_row120\" class=\"row_heading level0 row120\" >120</th>\n",
       "                        <td id=\"T_d251760c_69e0_11ea_bbff_6c626d35f69drow120_col0\" class=\"data row120 col0\" >Mongolia</td>\n",
       "                        <td id=\"T_d251760c_69e0_11ea_bbff_6c626d35f69drow120_col1\" class=\"data row120 col1\" >6</td>\n",
       "                        <td id=\"T_d251760c_69e0_11ea_bbff_6c626d35f69drow120_col2\" class=\"data row120 col2\" >0</td>\n",
       "                        <td id=\"T_d251760c_69e0_11ea_bbff_6c626d35f69drow120_col3\" class=\"data row120 col3\" >0</td>\n",
       "                        <td id=\"T_d251760c_69e0_11ea_bbff_6c626d35f69drow120_col4\" class=\"data row120 col4\" >6</td>\n",
       "            </tr>\n",
       "            <tr>\n",
       "                        <th id=\"T_d251760c_69e0_11ea_bbff_6c626d35f69dlevel0_row121\" class=\"row_heading level0 row121\" >121</th>\n",
       "                        <td id=\"T_d251760c_69e0_11ea_bbff_6c626d35f69drow121_col0\" class=\"data row121 col0\" >Seychelles</td>\n",
       "                        <td id=\"T_d251760c_69e0_11ea_bbff_6c626d35f69drow121_col1\" class=\"data row121 col1\" >4</td>\n",
       "                        <td id=\"T_d251760c_69e0_11ea_bbff_6c626d35f69drow121_col2\" class=\"data row121 col2\" >0</td>\n",
       "                        <td id=\"T_d251760c_69e0_11ea_bbff_6c626d35f69drow121_col3\" class=\"data row121 col3\" >0</td>\n",
       "                        <td id=\"T_d251760c_69e0_11ea_bbff_6c626d35f69drow121_col4\" class=\"data row121 col4\" >4</td>\n",
       "            </tr>\n",
       "            <tr>\n",
       "                        <th id=\"T_d251760c_69e0_11ea_bbff_6c626d35f69dlevel0_row122\" class=\"row_heading level0 row122\" >122</th>\n",
       "                        <td id=\"T_d251760c_69e0_11ea_bbff_6c626d35f69drow122_col0\" class=\"data row122 col0\" >Equatorial Guinea</td>\n",
       "                        <td id=\"T_d251760c_69e0_11ea_bbff_6c626d35f69drow122_col1\" class=\"data row122 col1\" >4</td>\n",
       "                        <td id=\"T_d251760c_69e0_11ea_bbff_6c626d35f69drow122_col2\" class=\"data row122 col2\" >0</td>\n",
       "                        <td id=\"T_d251760c_69e0_11ea_bbff_6c626d35f69drow122_col3\" class=\"data row122 col3\" >0</td>\n",
       "                        <td id=\"T_d251760c_69e0_11ea_bbff_6c626d35f69drow122_col4\" class=\"data row122 col4\" >4</td>\n",
       "            </tr>\n",
       "            <tr>\n",
       "                        <th id=\"T_d251760c_69e0_11ea_bbff_6c626d35f69dlevel0_row123\" class=\"row_heading level0 row123\" >123</th>\n",
       "                        <td id=\"T_d251760c_69e0_11ea_bbff_6c626d35f69drow123_col0\" class=\"data row123 col0\" >Aruba</td>\n",
       "                        <td id=\"T_d251760c_69e0_11ea_bbff_6c626d35f69drow123_col1\" class=\"data row123 col1\" >4</td>\n",
       "                        <td id=\"T_d251760c_69e0_11ea_bbff_6c626d35f69drow123_col2\" class=\"data row123 col2\" >0</td>\n",
       "                        <td id=\"T_d251760c_69e0_11ea_bbff_6c626d35f69drow123_col3\" class=\"data row123 col3\" >0</td>\n",
       "                        <td id=\"T_d251760c_69e0_11ea_bbff_6c626d35f69drow123_col4\" class=\"data row123 col4\" >4</td>\n",
       "            </tr>\n",
       "            <tr>\n",
       "                        <th id=\"T_d251760c_69e0_11ea_bbff_6c626d35f69dlevel0_row124\" class=\"row_heading level0 row124\" >124</th>\n",
       "                        <td id=\"T_d251760c_69e0_11ea_bbff_6c626d35f69drow124_col0\" class=\"data row124 col0\" >Congo (Kinshasa)</td>\n",
       "                        <td id=\"T_d251760c_69e0_11ea_bbff_6c626d35f69drow124_col1\" class=\"data row124 col1\" >4</td>\n",
       "                        <td id=\"T_d251760c_69e0_11ea_bbff_6c626d35f69drow124_col2\" class=\"data row124 col2\" >0</td>\n",
       "                        <td id=\"T_d251760c_69e0_11ea_bbff_6c626d35f69drow124_col3\" class=\"data row124 col3\" >0</td>\n",
       "                        <td id=\"T_d251760c_69e0_11ea_bbff_6c626d35f69drow124_col4\" class=\"data row124 col4\" >4</td>\n",
       "            </tr>\n",
       "            <tr>\n",
       "                        <th id=\"T_d251760c_69e0_11ea_bbff_6c626d35f69dlevel0_row125\" class=\"row_heading level0 row125\" >125</th>\n",
       "                        <td id=\"T_d251760c_69e0_11ea_bbff_6c626d35f69drow125_col0\" class=\"data row125 col0\" >Tanzania</td>\n",
       "                        <td id=\"T_d251760c_69e0_11ea_bbff_6c626d35f69drow125_col1\" class=\"data row125 col1\" >3</td>\n",
       "                        <td id=\"T_d251760c_69e0_11ea_bbff_6c626d35f69drow125_col2\" class=\"data row125 col2\" >0</td>\n",
       "                        <td id=\"T_d251760c_69e0_11ea_bbff_6c626d35f69drow125_col3\" class=\"data row125 col3\" >0</td>\n",
       "                        <td id=\"T_d251760c_69e0_11ea_bbff_6c626d35f69drow125_col4\" class=\"data row125 col4\" >3</td>\n",
       "            </tr>\n",
       "            <tr>\n",
       "                        <th id=\"T_d251760c_69e0_11ea_bbff_6c626d35f69dlevel0_row126\" class=\"row_heading level0 row126\" >126</th>\n",
       "                        <td id=\"T_d251760c_69e0_11ea_bbff_6c626d35f69drow126_col0\" class=\"data row126 col0\" >Kenya</td>\n",
       "                        <td id=\"T_d251760c_69e0_11ea_bbff_6c626d35f69drow126_col1\" class=\"data row126 col1\" >3</td>\n",
       "                        <td id=\"T_d251760c_69e0_11ea_bbff_6c626d35f69drow126_col2\" class=\"data row126 col2\" >0</td>\n",
       "                        <td id=\"T_d251760c_69e0_11ea_bbff_6c626d35f69drow126_col3\" class=\"data row126 col3\" >0</td>\n",
       "                        <td id=\"T_d251760c_69e0_11ea_bbff_6c626d35f69drow126_col4\" class=\"data row126 col4\" >3</td>\n",
       "            </tr>\n",
       "            <tr>\n",
       "                        <th id=\"T_d251760c_69e0_11ea_bbff_6c626d35f69dlevel0_row127\" class=\"row_heading level0 row127\" >127</th>\n",
       "                        <td id=\"T_d251760c_69e0_11ea_bbff_6c626d35f69drow127_col0\" class=\"data row127 col0\" >Kyrgyzstan</td>\n",
       "                        <td id=\"T_d251760c_69e0_11ea_bbff_6c626d35f69drow127_col1\" class=\"data row127 col1\" >3</td>\n",
       "                        <td id=\"T_d251760c_69e0_11ea_bbff_6c626d35f69drow127_col2\" class=\"data row127 col2\" >0</td>\n",
       "                        <td id=\"T_d251760c_69e0_11ea_bbff_6c626d35f69drow127_col3\" class=\"data row127 col3\" >0</td>\n",
       "                        <td id=\"T_d251760c_69e0_11ea_bbff_6c626d35f69drow127_col4\" class=\"data row127 col4\" >3</td>\n",
       "            </tr>\n",
       "            <tr>\n",
       "                        <th id=\"T_d251760c_69e0_11ea_bbff_6c626d35f69dlevel0_row128\" class=\"row_heading level0 row128\" >128</th>\n",
       "                        <td id=\"T_d251760c_69e0_11ea_bbff_6c626d35f69drow128_col0\" class=\"data row128 col0\" >Mayotte</td>\n",
       "                        <td id=\"T_d251760c_69e0_11ea_bbff_6c626d35f69drow128_col1\" class=\"data row128 col1\" >3</td>\n",
       "                        <td id=\"T_d251760c_69e0_11ea_bbff_6c626d35f69drow128_col2\" class=\"data row128 col2\" >0</td>\n",
       "                        <td id=\"T_d251760c_69e0_11ea_bbff_6c626d35f69drow128_col3\" class=\"data row128 col3\" >0</td>\n",
       "                        <td id=\"T_d251760c_69e0_11ea_bbff_6c626d35f69drow128_col4\" class=\"data row128 col4\" >3</td>\n",
       "            </tr>\n",
       "            <tr>\n",
       "                        <th id=\"T_d251760c_69e0_11ea_bbff_6c626d35f69dlevel0_row129\" class=\"row_heading level0 row129\" >129</th>\n",
       "                        <td id=\"T_d251760c_69e0_11ea_bbff_6c626d35f69drow129_col0\" class=\"data row129 col0\" >Mauritius</td>\n",
       "                        <td id=\"T_d251760c_69e0_11ea_bbff_6c626d35f69drow129_col1\" class=\"data row129 col1\" >3</td>\n",
       "                        <td id=\"T_d251760c_69e0_11ea_bbff_6c626d35f69drow129_col2\" class=\"data row129 col2\" >0</td>\n",
       "                        <td id=\"T_d251760c_69e0_11ea_bbff_6c626d35f69drow129_col3\" class=\"data row129 col3\" >0</td>\n",
       "                        <td id=\"T_d251760c_69e0_11ea_bbff_6c626d35f69drow129_col4\" class=\"data row129 col4\" >3</td>\n",
       "            </tr>\n",
       "            <tr>\n",
       "                        <th id=\"T_d251760c_69e0_11ea_bbff_6c626d35f69dlevel0_row130\" class=\"row_heading level0 row130\" >130</th>\n",
       "                        <td id=\"T_d251760c_69e0_11ea_bbff_6c626d35f69drow130_col0\" class=\"data row130 col0\" >Saint Lucia</td>\n",
       "                        <td id=\"T_d251760c_69e0_11ea_bbff_6c626d35f69drow130_col1\" class=\"data row130 col1\" >2</td>\n",
       "                        <td id=\"T_d251760c_69e0_11ea_bbff_6c626d35f69drow130_col2\" class=\"data row130 col2\" >0</td>\n",
       "                        <td id=\"T_d251760c_69e0_11ea_bbff_6c626d35f69drow130_col3\" class=\"data row130 col3\" >0</td>\n",
       "                        <td id=\"T_d251760c_69e0_11ea_bbff_6c626d35f69drow130_col4\" class=\"data row130 col4\" >2</td>\n",
       "            </tr>\n",
       "            <tr>\n",
       "                        <th id=\"T_d251760c_69e0_11ea_bbff_6c626d35f69dlevel0_row131\" class=\"row_heading level0 row131\" >131</th>\n",
       "                        <td id=\"T_d251760c_69e0_11ea_bbff_6c626d35f69drow131_col0\" class=\"data row131 col0\" >Liberia</td>\n",
       "                        <td id=\"T_d251760c_69e0_11ea_bbff_6c626d35f69drow131_col1\" class=\"data row131 col1\" >2</td>\n",
       "                        <td id=\"T_d251760c_69e0_11ea_bbff_6c626d35f69drow131_col2\" class=\"data row131 col2\" >0</td>\n",
       "                        <td id=\"T_d251760c_69e0_11ea_bbff_6c626d35f69drow131_col3\" class=\"data row131 col3\" >0</td>\n",
       "                        <td id=\"T_d251760c_69e0_11ea_bbff_6c626d35f69drow131_col4\" class=\"data row131 col4\" >2</td>\n",
       "            </tr>\n",
       "            <tr>\n",
       "                        <th id=\"T_d251760c_69e0_11ea_bbff_6c626d35f69dlevel0_row132\" class=\"row_heading level0 row132\" >132</th>\n",
       "                        <td id=\"T_d251760c_69e0_11ea_bbff_6c626d35f69drow132_col0\" class=\"data row132 col0\" >Barbados</td>\n",
       "                        <td id=\"T_d251760c_69e0_11ea_bbff_6c626d35f69drow132_col1\" class=\"data row132 col1\" >2</td>\n",
       "                        <td id=\"T_d251760c_69e0_11ea_bbff_6c626d35f69drow132_col2\" class=\"data row132 col2\" >0</td>\n",
       "                        <td id=\"T_d251760c_69e0_11ea_bbff_6c626d35f69drow132_col3\" class=\"data row132 col3\" >0</td>\n",
       "                        <td id=\"T_d251760c_69e0_11ea_bbff_6c626d35f69drow132_col4\" class=\"data row132 col4\" >2</td>\n",
       "            </tr>\n",
       "            <tr>\n",
       "                        <th id=\"T_d251760c_69e0_11ea_bbff_6c626d35f69dlevel0_row133\" class=\"row_heading level0 row133\" >133</th>\n",
       "                        <td id=\"T_d251760c_69e0_11ea_bbff_6c626d35f69drow133_col0\" class=\"data row133 col0\" >Benin</td>\n",
       "                        <td id=\"T_d251760c_69e0_11ea_bbff_6c626d35f69drow133_col1\" class=\"data row133 col1\" >2</td>\n",
       "                        <td id=\"T_d251760c_69e0_11ea_bbff_6c626d35f69drow133_col2\" class=\"data row133 col2\" >0</td>\n",
       "                        <td id=\"T_d251760c_69e0_11ea_bbff_6c626d35f69drow133_col3\" class=\"data row133 col3\" >0</td>\n",
       "                        <td id=\"T_d251760c_69e0_11ea_bbff_6c626d35f69drow133_col4\" class=\"data row133 col4\" >2</td>\n",
       "            </tr>\n",
       "            <tr>\n",
       "                        <th id=\"T_d251760c_69e0_11ea_bbff_6c626d35f69dlevel0_row134\" class=\"row_heading level0 row134\" >134</th>\n",
       "                        <td id=\"T_d251760c_69e0_11ea_bbff_6c626d35f69drow134_col0\" class=\"data row134 col0\" >Sudan</td>\n",
       "                        <td id=\"T_d251760c_69e0_11ea_bbff_6c626d35f69drow134_col1\" class=\"data row134 col1\" >2</td>\n",
       "                        <td id=\"T_d251760c_69e0_11ea_bbff_6c626d35f69drow134_col2\" class=\"data row134 col2\" >1</td>\n",
       "                        <td id=\"T_d251760c_69e0_11ea_bbff_6c626d35f69drow134_col3\" class=\"data row134 col3\" >0</td>\n",
       "                        <td id=\"T_d251760c_69e0_11ea_bbff_6c626d35f69drow134_col4\" class=\"data row134 col4\" >1</td>\n",
       "            </tr>\n",
       "            <tr>\n",
       "                        <th id=\"T_d251760c_69e0_11ea_bbff_6c626d35f69dlevel0_row135\" class=\"row_heading level0 row135\" >135</th>\n",
       "                        <td id=\"T_d251760c_69e0_11ea_bbff_6c626d35f69drow135_col0\" class=\"data row135 col0\" >Kosovo</td>\n",
       "                        <td id=\"T_d251760c_69e0_11ea_bbff_6c626d35f69drow135_col1\" class=\"data row135 col1\" >2</td>\n",
       "                        <td id=\"T_d251760c_69e0_11ea_bbff_6c626d35f69drow135_col2\" class=\"data row135 col2\" >0</td>\n",
       "                        <td id=\"T_d251760c_69e0_11ea_bbff_6c626d35f69drow135_col3\" class=\"data row135 col3\" >0</td>\n",
       "                        <td id=\"T_d251760c_69e0_11ea_bbff_6c626d35f69drow135_col4\" class=\"data row135 col4\" >2</td>\n",
       "            </tr>\n",
       "            <tr>\n",
       "                        <th id=\"T_d251760c_69e0_11ea_bbff_6c626d35f69dlevel0_row136\" class=\"row_heading level0 row136\" >136</th>\n",
       "                        <td id=\"T_d251760c_69e0_11ea_bbff_6c626d35f69drow136_col0\" class=\"data row136 col0\" >Zambia</td>\n",
       "                        <td id=\"T_d251760c_69e0_11ea_bbff_6c626d35f69drow136_col1\" class=\"data row136 col1\" >2</td>\n",
       "                        <td id=\"T_d251760c_69e0_11ea_bbff_6c626d35f69drow136_col2\" class=\"data row136 col2\" >0</td>\n",
       "                        <td id=\"T_d251760c_69e0_11ea_bbff_6c626d35f69drow136_col3\" class=\"data row136 col3\" >0</td>\n",
       "                        <td id=\"T_d251760c_69e0_11ea_bbff_6c626d35f69drow136_col4\" class=\"data row136 col4\" >2</td>\n",
       "            </tr>\n",
       "            <tr>\n",
       "                        <th id=\"T_d251760c_69e0_11ea_bbff_6c626d35f69dlevel0_row137\" class=\"row_heading level0 row137\" >137</th>\n",
       "                        <td id=\"T_d251760c_69e0_11ea_bbff_6c626d35f69drow137_col0\" class=\"data row137 col0\" >Namibia</td>\n",
       "                        <td id=\"T_d251760c_69e0_11ea_bbff_6c626d35f69drow137_col1\" class=\"data row137 col1\" >2</td>\n",
       "                        <td id=\"T_d251760c_69e0_11ea_bbff_6c626d35f69drow137_col2\" class=\"data row137 col2\" >0</td>\n",
       "                        <td id=\"T_d251760c_69e0_11ea_bbff_6c626d35f69drow137_col3\" class=\"data row137 col3\" >0</td>\n",
       "                        <td id=\"T_d251760c_69e0_11ea_bbff_6c626d35f69drow137_col4\" class=\"data row137 col4\" >2</td>\n",
       "            </tr>\n",
       "            <tr>\n",
       "                        <th id=\"T_d251760c_69e0_11ea_bbff_6c626d35f69dlevel0_row138\" class=\"row_heading level0 row138\" >138</th>\n",
       "                        <td id=\"T_d251760c_69e0_11ea_bbff_6c626d35f69drow138_col0\" class=\"data row138 col0\" >Somalia</td>\n",
       "                        <td id=\"T_d251760c_69e0_11ea_bbff_6c626d35f69drow138_col1\" class=\"data row138 col1\" >1</td>\n",
       "                        <td id=\"T_d251760c_69e0_11ea_bbff_6c626d35f69drow138_col2\" class=\"data row138 col2\" >0</td>\n",
       "                        <td id=\"T_d251760c_69e0_11ea_bbff_6c626d35f69drow138_col3\" class=\"data row138 col3\" >0</td>\n",
       "                        <td id=\"T_d251760c_69e0_11ea_bbff_6c626d35f69drow138_col4\" class=\"data row138 col4\" >1</td>\n",
       "            </tr>\n",
       "            <tr>\n",
       "                        <th id=\"T_d251760c_69e0_11ea_bbff_6c626d35f69dlevel0_row139\" class=\"row_heading level0 row139\" >139</th>\n",
       "                        <td id=\"T_d251760c_69e0_11ea_bbff_6c626d35f69drow139_col0\" class=\"data row139 col0\" >Mauritania</td>\n",
       "                        <td id=\"T_d251760c_69e0_11ea_bbff_6c626d35f69drow139_col1\" class=\"data row139 col1\" >1</td>\n",
       "                        <td id=\"T_d251760c_69e0_11ea_bbff_6c626d35f69drow139_col2\" class=\"data row139 col2\" >0</td>\n",
       "                        <td id=\"T_d251760c_69e0_11ea_bbff_6c626d35f69drow139_col3\" class=\"data row139 col3\" >0</td>\n",
       "                        <td id=\"T_d251760c_69e0_11ea_bbff_6c626d35f69drow139_col4\" class=\"data row139 col4\" >1</td>\n",
       "            </tr>\n",
       "            <tr>\n",
       "                        <th id=\"T_d251760c_69e0_11ea_bbff_6c626d35f69dlevel0_row140\" class=\"row_heading level0 row140\" >140</th>\n",
       "                        <td id=\"T_d251760c_69e0_11ea_bbff_6c626d35f69drow140_col0\" class=\"data row140 col0\" >Antigua and Barbuda</td>\n",
       "                        <td id=\"T_d251760c_69e0_11ea_bbff_6c626d35f69drow140_col1\" class=\"data row140 col1\" >1</td>\n",
       "                        <td id=\"T_d251760c_69e0_11ea_bbff_6c626d35f69drow140_col2\" class=\"data row140 col2\" >0</td>\n",
       "                        <td id=\"T_d251760c_69e0_11ea_bbff_6c626d35f69drow140_col3\" class=\"data row140 col3\" >0</td>\n",
       "                        <td id=\"T_d251760c_69e0_11ea_bbff_6c626d35f69drow140_col4\" class=\"data row140 col4\" >1</td>\n",
       "            </tr>\n",
       "            <tr>\n",
       "                        <th id=\"T_d251760c_69e0_11ea_bbff_6c626d35f69dlevel0_row141\" class=\"row_heading level0 row141\" >141</th>\n",
       "                        <td id=\"T_d251760c_69e0_11ea_bbff_6c626d35f69drow141_col0\" class=\"data row141 col0\" >Bhutan</td>\n",
       "                        <td id=\"T_d251760c_69e0_11ea_bbff_6c626d35f69drow141_col1\" class=\"data row141 col1\" >1</td>\n",
       "                        <td id=\"T_d251760c_69e0_11ea_bbff_6c626d35f69drow141_col2\" class=\"data row141 col2\" >0</td>\n",
       "                        <td id=\"T_d251760c_69e0_11ea_bbff_6c626d35f69drow141_col3\" class=\"data row141 col3\" >0</td>\n",
       "                        <td id=\"T_d251760c_69e0_11ea_bbff_6c626d35f69drow141_col4\" class=\"data row141 col4\" >1</td>\n",
       "            </tr>\n",
       "            <tr>\n",
       "                        <th id=\"T_d251760c_69e0_11ea_bbff_6c626d35f69dlevel0_row142\" class=\"row_heading level0 row142\" >142</th>\n",
       "                        <td id=\"T_d251760c_69e0_11ea_bbff_6c626d35f69drow142_col0\" class=\"data row142 col0\" >Central African Republic</td>\n",
       "                        <td id=\"T_d251760c_69e0_11ea_bbff_6c626d35f69drow142_col1\" class=\"data row142 col1\" >1</td>\n",
       "                        <td id=\"T_d251760c_69e0_11ea_bbff_6c626d35f69drow142_col2\" class=\"data row142 col2\" >0</td>\n",
       "                        <td id=\"T_d251760c_69e0_11ea_bbff_6c626d35f69drow142_col3\" class=\"data row142 col3\" >0</td>\n",
       "                        <td id=\"T_d251760c_69e0_11ea_bbff_6c626d35f69drow142_col4\" class=\"data row142 col4\" >1</td>\n",
       "            </tr>\n",
       "            <tr>\n",
       "                        <th id=\"T_d251760c_69e0_11ea_bbff_6c626d35f69dlevel0_row143\" class=\"row_heading level0 row143\" >143</th>\n",
       "                        <td id=\"T_d251760c_69e0_11ea_bbff_6c626d35f69drow143_col0\" class=\"data row143 col0\" >Congo (Brazzaville)</td>\n",
       "                        <td id=\"T_d251760c_69e0_11ea_bbff_6c626d35f69drow143_col1\" class=\"data row143 col1\" >1</td>\n",
       "                        <td id=\"T_d251760c_69e0_11ea_bbff_6c626d35f69drow143_col2\" class=\"data row143 col2\" >0</td>\n",
       "                        <td id=\"T_d251760c_69e0_11ea_bbff_6c626d35f69drow143_col3\" class=\"data row143 col3\" >0</td>\n",
       "                        <td id=\"T_d251760c_69e0_11ea_bbff_6c626d35f69drow143_col4\" class=\"data row143 col4\" >1</td>\n",
       "            </tr>\n",
       "            <tr>\n",
       "                        <th id=\"T_d251760c_69e0_11ea_bbff_6c626d35f69dlevel0_row144\" class=\"row_heading level0 row144\" >144</th>\n",
       "                        <td id=\"T_d251760c_69e0_11ea_bbff_6c626d35f69drow144_col0\" class=\"data row144 col0\" >Djibouti</td>\n",
       "                        <td id=\"T_d251760c_69e0_11ea_bbff_6c626d35f69drow144_col1\" class=\"data row144 col1\" >1</td>\n",
       "                        <td id=\"T_d251760c_69e0_11ea_bbff_6c626d35f69drow144_col2\" class=\"data row144 col2\" >0</td>\n",
       "                        <td id=\"T_d251760c_69e0_11ea_bbff_6c626d35f69drow144_col3\" class=\"data row144 col3\" >0</td>\n",
       "                        <td id=\"T_d251760c_69e0_11ea_bbff_6c626d35f69drow144_col4\" class=\"data row144 col4\" >1</td>\n",
       "            </tr>\n",
       "            <tr>\n",
       "                        <th id=\"T_d251760c_69e0_11ea_bbff_6c626d35f69dlevel0_row145\" class=\"row_heading level0 row145\" >145</th>\n",
       "                        <td id=\"T_d251760c_69e0_11ea_bbff_6c626d35f69drow145_col0\" class=\"data row145 col0\" >Eswatini</td>\n",
       "                        <td id=\"T_d251760c_69e0_11ea_bbff_6c626d35f69drow145_col1\" class=\"data row145 col1\" >1</td>\n",
       "                        <td id=\"T_d251760c_69e0_11ea_bbff_6c626d35f69drow145_col2\" class=\"data row145 col2\" >0</td>\n",
       "                        <td id=\"T_d251760c_69e0_11ea_bbff_6c626d35f69drow145_col3\" class=\"data row145 col3\" >0</td>\n",
       "                        <td id=\"T_d251760c_69e0_11ea_bbff_6c626d35f69drow145_col4\" class=\"data row145 col4\" >1</td>\n",
       "            </tr>\n",
       "            <tr>\n",
       "                        <th id=\"T_d251760c_69e0_11ea_bbff_6c626d35f69dlevel0_row146\" class=\"row_heading level0 row146\" >146</th>\n",
       "                        <td id=\"T_d251760c_69e0_11ea_bbff_6c626d35f69drow146_col0\" class=\"data row146 col0\" >Gabon</td>\n",
       "                        <td id=\"T_d251760c_69e0_11ea_bbff_6c626d35f69drow146_col1\" class=\"data row146 col1\" >1</td>\n",
       "                        <td id=\"T_d251760c_69e0_11ea_bbff_6c626d35f69drow146_col2\" class=\"data row146 col2\" >0</td>\n",
       "                        <td id=\"T_d251760c_69e0_11ea_bbff_6c626d35f69drow146_col3\" class=\"data row146 col3\" >0</td>\n",
       "                        <td id=\"T_d251760c_69e0_11ea_bbff_6c626d35f69drow146_col4\" class=\"data row146 col4\" >1</td>\n",
       "            </tr>\n",
       "            <tr>\n",
       "                        <th id=\"T_d251760c_69e0_11ea_bbff_6c626d35f69dlevel0_row147\" class=\"row_heading level0 row147\" >147</th>\n",
       "                        <td id=\"T_d251760c_69e0_11ea_bbff_6c626d35f69drow147_col0\" class=\"data row147 col0\" >Gambia, The</td>\n",
       "                        <td id=\"T_d251760c_69e0_11ea_bbff_6c626d35f69drow147_col1\" class=\"data row147 col1\" >1</td>\n",
       "                        <td id=\"T_d251760c_69e0_11ea_bbff_6c626d35f69drow147_col2\" class=\"data row147 col2\" >0</td>\n",
       "                        <td id=\"T_d251760c_69e0_11ea_bbff_6c626d35f69drow147_col3\" class=\"data row147 col3\" >0</td>\n",
       "                        <td id=\"T_d251760c_69e0_11ea_bbff_6c626d35f69drow147_col4\" class=\"data row147 col4\" >1</td>\n",
       "            </tr>\n",
       "            <tr>\n",
       "                        <th id=\"T_d251760c_69e0_11ea_bbff_6c626d35f69dlevel0_row148\" class=\"row_heading level0 row148\" >148</th>\n",
       "                        <td id=\"T_d251760c_69e0_11ea_bbff_6c626d35f69drow148_col0\" class=\"data row148 col0\" >Greenland</td>\n",
       "                        <td id=\"T_d251760c_69e0_11ea_bbff_6c626d35f69drow148_col1\" class=\"data row148 col1\" >1</td>\n",
       "                        <td id=\"T_d251760c_69e0_11ea_bbff_6c626d35f69drow148_col2\" class=\"data row148 col2\" >0</td>\n",
       "                        <td id=\"T_d251760c_69e0_11ea_bbff_6c626d35f69drow148_col3\" class=\"data row148 col3\" >0</td>\n",
       "                        <td id=\"T_d251760c_69e0_11ea_bbff_6c626d35f69drow148_col4\" class=\"data row148 col4\" >1</td>\n",
       "            </tr>\n",
       "            <tr>\n",
       "                        <th id=\"T_d251760c_69e0_11ea_bbff_6c626d35f69dlevel0_row149\" class=\"row_heading level0 row149\" >149</th>\n",
       "                        <td id=\"T_d251760c_69e0_11ea_bbff_6c626d35f69drow149_col0\" class=\"data row149 col0\" >Togo</td>\n",
       "                        <td id=\"T_d251760c_69e0_11ea_bbff_6c626d35f69drow149_col1\" class=\"data row149 col1\" >1</td>\n",
       "                        <td id=\"T_d251760c_69e0_11ea_bbff_6c626d35f69drow149_col2\" class=\"data row149 col2\" >0</td>\n",
       "                        <td id=\"T_d251760c_69e0_11ea_bbff_6c626d35f69drow149_col3\" class=\"data row149 col3\" >0</td>\n",
       "                        <td id=\"T_d251760c_69e0_11ea_bbff_6c626d35f69drow149_col4\" class=\"data row149 col4\" >1</td>\n",
       "            </tr>\n",
       "            <tr>\n",
       "                        <th id=\"T_d251760c_69e0_11ea_bbff_6c626d35f69dlevel0_row150\" class=\"row_heading level0 row150\" >150</th>\n",
       "                        <td id=\"T_d251760c_69e0_11ea_bbff_6c626d35f69drow150_col0\" class=\"data row150 col0\" >The Bahamas</td>\n",
       "                        <td id=\"T_d251760c_69e0_11ea_bbff_6c626d35f69drow150_col1\" class=\"data row150 col1\" >1</td>\n",
       "                        <td id=\"T_d251760c_69e0_11ea_bbff_6c626d35f69drow150_col2\" class=\"data row150 col2\" >0</td>\n",
       "                        <td id=\"T_d251760c_69e0_11ea_bbff_6c626d35f69drow150_col3\" class=\"data row150 col3\" >0</td>\n",
       "                        <td id=\"T_d251760c_69e0_11ea_bbff_6c626d35f69drow150_col4\" class=\"data row150 col4\" >1</td>\n",
       "            </tr>\n",
       "            <tr>\n",
       "                        <th id=\"T_d251760c_69e0_11ea_bbff_6c626d35f69dlevel0_row151\" class=\"row_heading level0 row151\" >151</th>\n",
       "                        <td id=\"T_d251760c_69e0_11ea_bbff_6c626d35f69drow151_col0\" class=\"data row151 col0\" >Saint Vincent and the Grenadines</td>\n",
       "                        <td id=\"T_d251760c_69e0_11ea_bbff_6c626d35f69drow151_col1\" class=\"data row151 col1\" >1</td>\n",
       "                        <td id=\"T_d251760c_69e0_11ea_bbff_6c626d35f69drow151_col2\" class=\"data row151 col2\" >0</td>\n",
       "                        <td id=\"T_d251760c_69e0_11ea_bbff_6c626d35f69drow151_col3\" class=\"data row151 col3\" >0</td>\n",
       "                        <td id=\"T_d251760c_69e0_11ea_bbff_6c626d35f69drow151_col4\" class=\"data row151 col4\" >1</td>\n",
       "            </tr>\n",
       "            <tr>\n",
       "                        <th id=\"T_d251760c_69e0_11ea_bbff_6c626d35f69dlevel0_row152\" class=\"row_heading level0 row152\" >152</th>\n",
       "                        <td id=\"T_d251760c_69e0_11ea_bbff_6c626d35f69drow152_col0\" class=\"data row152 col0\" >Holy See</td>\n",
       "                        <td id=\"T_d251760c_69e0_11ea_bbff_6c626d35f69drow152_col1\" class=\"data row152 col1\" >1</td>\n",
       "                        <td id=\"T_d251760c_69e0_11ea_bbff_6c626d35f69drow152_col2\" class=\"data row152 col2\" >0</td>\n",
       "                        <td id=\"T_d251760c_69e0_11ea_bbff_6c626d35f69drow152_col3\" class=\"data row152 col3\" >0</td>\n",
       "                        <td id=\"T_d251760c_69e0_11ea_bbff_6c626d35f69drow152_col4\" class=\"data row152 col4\" >1</td>\n",
       "            </tr>\n",
       "            <tr>\n",
       "                        <th id=\"T_d251760c_69e0_11ea_bbff_6c626d35f69dlevel0_row153\" class=\"row_heading level0 row153\" >153</th>\n",
       "                        <td id=\"T_d251760c_69e0_11ea_bbff_6c626d35f69drow153_col0\" class=\"data row153 col0\" >Suriname</td>\n",
       "                        <td id=\"T_d251760c_69e0_11ea_bbff_6c626d35f69drow153_col1\" class=\"data row153 col1\" >1</td>\n",
       "                        <td id=\"T_d251760c_69e0_11ea_bbff_6c626d35f69drow153_col2\" class=\"data row153 col2\" >0</td>\n",
       "                        <td id=\"T_d251760c_69e0_11ea_bbff_6c626d35f69drow153_col3\" class=\"data row153 col3\" >0</td>\n",
       "                        <td id=\"T_d251760c_69e0_11ea_bbff_6c626d35f69drow153_col4\" class=\"data row153 col4\" >1</td>\n",
       "            </tr>\n",
       "            <tr>\n",
       "                        <th id=\"T_d251760c_69e0_11ea_bbff_6c626d35f69dlevel0_row154\" class=\"row_heading level0 row154\" >154</th>\n",
       "                        <td id=\"T_d251760c_69e0_11ea_bbff_6c626d35f69drow154_col0\" class=\"data row154 col0\" >Nepal</td>\n",
       "                        <td id=\"T_d251760c_69e0_11ea_bbff_6c626d35f69drow154_col1\" class=\"data row154 col1\" >1</td>\n",
       "                        <td id=\"T_d251760c_69e0_11ea_bbff_6c626d35f69drow154_col2\" class=\"data row154 col2\" >0</td>\n",
       "                        <td id=\"T_d251760c_69e0_11ea_bbff_6c626d35f69drow154_col3\" class=\"data row154 col3\" >1</td>\n",
       "                        <td id=\"T_d251760c_69e0_11ea_bbff_6c626d35f69drow154_col4\" class=\"data row154 col4\" >0</td>\n",
       "            </tr>\n",
       "            <tr>\n",
       "                        <th id=\"T_d251760c_69e0_11ea_bbff_6c626d35f69dlevel0_row155\" class=\"row_heading level0 row155\" >155</th>\n",
       "                        <td id=\"T_d251760c_69e0_11ea_bbff_6c626d35f69drow155_col0\" class=\"data row155 col0\" >Montenegro</td>\n",
       "                        <td id=\"T_d251760c_69e0_11ea_bbff_6c626d35f69drow155_col1\" class=\"data row155 col1\" >1</td>\n",
       "                        <td id=\"T_d251760c_69e0_11ea_bbff_6c626d35f69drow155_col2\" class=\"data row155 col2\" >0</td>\n",
       "                        <td id=\"T_d251760c_69e0_11ea_bbff_6c626d35f69drow155_col3\" class=\"data row155 col3\" >0</td>\n",
       "                        <td id=\"T_d251760c_69e0_11ea_bbff_6c626d35f69drow155_col4\" class=\"data row155 col4\" >1</td>\n",
       "            </tr>\n",
       "            <tr>\n",
       "                        <th id=\"T_d251760c_69e0_11ea_bbff_6c626d35f69dlevel0_row156\" class=\"row_heading level0 row156\" >156</th>\n",
       "                        <td id=\"T_d251760c_69e0_11ea_bbff_6c626d35f69drow156_col0\" class=\"data row156 col0\" >Guinea</td>\n",
       "                        <td id=\"T_d251760c_69e0_11ea_bbff_6c626d35f69drow156_col1\" class=\"data row156 col1\" >1</td>\n",
       "                        <td id=\"T_d251760c_69e0_11ea_bbff_6c626d35f69drow156_col2\" class=\"data row156 col2\" >0</td>\n",
       "                        <td id=\"T_d251760c_69e0_11ea_bbff_6c626d35f69drow156_col3\" class=\"data row156 col3\" >0</td>\n",
       "                        <td id=\"T_d251760c_69e0_11ea_bbff_6c626d35f69drow156_col4\" class=\"data row156 col4\" >1</td>\n",
       "            </tr>\n",
       "            <tr>\n",
       "                        <th id=\"T_d251760c_69e0_11ea_bbff_6c626d35f69dlevel0_row157\" class=\"row_heading level0 row157\" >157</th>\n",
       "                        <td id=\"T_d251760c_69e0_11ea_bbff_6c626d35f69drow157_col0\" class=\"data row157 col0\" >The Gambia</td>\n",
       "                        <td id=\"T_d251760c_69e0_11ea_bbff_6c626d35f69drow157_col1\" class=\"data row157 col1\" >0</td>\n",
       "                        <td id=\"T_d251760c_69e0_11ea_bbff_6c626d35f69drow157_col2\" class=\"data row157 col2\" >0</td>\n",
       "                        <td id=\"T_d251760c_69e0_11ea_bbff_6c626d35f69drow157_col3\" class=\"data row157 col3\" >0</td>\n",
       "                        <td id=\"T_d251760c_69e0_11ea_bbff_6c626d35f69drow157_col4\" class=\"data row157 col4\" >0</td>\n",
       "            </tr>\n",
       "            <tr>\n",
       "                        <th id=\"T_d251760c_69e0_11ea_bbff_6c626d35f69dlevel0_row158\" class=\"row_heading level0 row158\" >158</th>\n",
       "                        <td id=\"T_d251760c_69e0_11ea_bbff_6c626d35f69drow158_col0\" class=\"data row158 col0\" >Guam</td>\n",
       "                        <td id=\"T_d251760c_69e0_11ea_bbff_6c626d35f69drow158_col1\" class=\"data row158 col1\" >0</td>\n",
       "                        <td id=\"T_d251760c_69e0_11ea_bbff_6c626d35f69drow158_col2\" class=\"data row158 col2\" >0</td>\n",
       "                        <td id=\"T_d251760c_69e0_11ea_bbff_6c626d35f69drow158_col3\" class=\"data row158 col3\" >0</td>\n",
       "                        <td id=\"T_d251760c_69e0_11ea_bbff_6c626d35f69drow158_col4\" class=\"data row158 col4\" >0</td>\n",
       "            </tr>\n",
       "            <tr>\n",
       "                        <th id=\"T_d251760c_69e0_11ea_bbff_6c626d35f69dlevel0_row159\" class=\"row_heading level0 row159\" >159</th>\n",
       "                        <td id=\"T_d251760c_69e0_11ea_bbff_6c626d35f69drow159_col0\" class=\"data row159 col0\" >Guernsey</td>\n",
       "                        <td id=\"T_d251760c_69e0_11ea_bbff_6c626d35f69drow159_col1\" class=\"data row159 col1\" >0</td>\n",
       "                        <td id=\"T_d251760c_69e0_11ea_bbff_6c626d35f69drow159_col2\" class=\"data row159 col2\" >0</td>\n",
       "                        <td id=\"T_d251760c_69e0_11ea_bbff_6c626d35f69drow159_col3\" class=\"data row159 col3\" >0</td>\n",
       "                        <td id=\"T_d251760c_69e0_11ea_bbff_6c626d35f69drow159_col4\" class=\"data row159 col4\" >0</td>\n",
       "            </tr>\n",
       "            <tr>\n",
       "                        <th id=\"T_d251760c_69e0_11ea_bbff_6c626d35f69dlevel0_row160\" class=\"row_heading level0 row160\" >160</th>\n",
       "                        <td id=\"T_d251760c_69e0_11ea_bbff_6c626d35f69drow160_col0\" class=\"data row160 col0\" >Jersey</td>\n",
       "                        <td id=\"T_d251760c_69e0_11ea_bbff_6c626d35f69drow160_col1\" class=\"data row160 col1\" >0</td>\n",
       "                        <td id=\"T_d251760c_69e0_11ea_bbff_6c626d35f69drow160_col2\" class=\"data row160 col2\" >0</td>\n",
       "                        <td id=\"T_d251760c_69e0_11ea_bbff_6c626d35f69drow160_col3\" class=\"data row160 col3\" >0</td>\n",
       "                        <td id=\"T_d251760c_69e0_11ea_bbff_6c626d35f69drow160_col4\" class=\"data row160 col4\" >0</td>\n",
       "            </tr>\n",
       "            <tr>\n",
       "                        <th id=\"T_d251760c_69e0_11ea_bbff_6c626d35f69dlevel0_row161\" class=\"row_heading level0 row161\" >161</th>\n",
       "                        <td id=\"T_d251760c_69e0_11ea_bbff_6c626d35f69drow161_col0\" class=\"data row161 col0\" >Puerto Rico</td>\n",
       "                        <td id=\"T_d251760c_69e0_11ea_bbff_6c626d35f69drow161_col1\" class=\"data row161 col1\" >0</td>\n",
       "                        <td id=\"T_d251760c_69e0_11ea_bbff_6c626d35f69drow161_col2\" class=\"data row161 col2\" >0</td>\n",
       "                        <td id=\"T_d251760c_69e0_11ea_bbff_6c626d35f69drow161_col3\" class=\"data row161 col3\" >0</td>\n",
       "                        <td id=\"T_d251760c_69e0_11ea_bbff_6c626d35f69drow161_col4\" class=\"data row161 col4\" >0</td>\n",
       "            </tr>\n",
       "            <tr>\n",
       "                        <th id=\"T_d251760c_69e0_11ea_bbff_6c626d35f69dlevel0_row162\" class=\"row_heading level0 row162\" >162</th>\n",
       "                        <td id=\"T_d251760c_69e0_11ea_bbff_6c626d35f69drow162_col0\" class=\"data row162 col0\" >Republic of the Congo</td>\n",
       "                        <td id=\"T_d251760c_69e0_11ea_bbff_6c626d35f69drow162_col1\" class=\"data row162 col1\" >0</td>\n",
       "                        <td id=\"T_d251760c_69e0_11ea_bbff_6c626d35f69drow162_col2\" class=\"data row162 col2\" >0</td>\n",
       "                        <td id=\"T_d251760c_69e0_11ea_bbff_6c626d35f69drow162_col3\" class=\"data row162 col3\" >0</td>\n",
       "                        <td id=\"T_d251760c_69e0_11ea_bbff_6c626d35f69drow162_col4\" class=\"data row162 col4\" >0</td>\n",
       "            </tr>\n",
       "    </tbody></table>"
      ],
      "text/plain": [
       "<pandas.io.formats.style.Styler at 0x212c184b508>"
      ]
     },
     "execution_count": 14,
     "metadata": {},
     "output_type": "execute_result"
    }
   ],
   "source": [
    "classement = globalAll.sort_values(by='Confirmed', ascending=False)\n",
    "classement = classement.reset_index(drop=False)\n",
    "classement.style.background_gradient(cmap='Reds')"
   ]
  },
  {
   "cell_type": "markdown",
   "metadata": {},
   "source": [
    "## Nombre de pays contaminé au virus au cours du temps\n"
   ]
  },
  {
   "cell_type": "markdown",
   "metadata": {},
   "source": [
    "###### Code"
   ]
  },
  {
   "cell_type": "code",
   "execution_count": null,
   "metadata": {},
   "outputs": [],
   "source": [
    "\n",
    "\n"
   ]
  },
  {
   "cell_type": "markdown",
   "metadata": {},
   "source": [
    "## Top 10 pays\n"
   ]
  },
  {
   "cell_type": "code",
   "execution_count": 142,
   "metadata": {},
   "outputs": [
    {
     "data": {
      "text/html": [
       "<div class=\"flourish-embed flourish-bar-chart-race\" data-src=\"visualisation/1619129\"><script src=\"https://public.flourish.studio/resources/embed.js\"></script></div>"
      ],
      "text/plain": [
       "<IPython.core.display.HTML object>"
      ]
     },
     "metadata": {},
     "output_type": "display_data"
    }
   ],
   "source": [
    "display(HTML('<div class=\"flourish-embed flourish-bar-chart-race\" data-src=\"visualisation/1619129\"><script src=\"https://public.flourish.studio/resources/embed.js\"></script></div>'))"
   ]
  },
  {
   "cell_type": "markdown",
   "metadata": {},
   "source": [
    "### Décédés"
   ]
  },
  {
   "cell_type": "code",
   "execution_count": 81,
   "metadata": {},
   "outputs": [
    {
     "data": {
      "application/vnd.plotly.v1+json": {
       "config": {
        "plotlyServerURL": "https://plot.ly"
       },
       "data": [
        {
         "alignmentgroup": "True",
         "hoverlabel": {
          "namelength": 0
         },
         "hovertemplate": "Deaths=%{text}<br>Country/Region=%{y}",
         "legendgroup": "",
         "marker": {
          "color": "#ff2e63"
         },
         "name": "",
         "offsetgroup": "",
         "opacity": 0.6,
         "orientation": "h",
         "showlegend": false,
         "text": [
          29,
          58,
          72,
          84,
          118,
          148,
          623,
          1135,
          2978,
          3241
         ],
         "textposition": "outside",
         "type": "bar",
         "x": [
          29,
          58,
          72,
          84,
          118,
          148,
          623,
          1135,
          2978,
          3241
         ],
         "xaxis": "x",
         "y": [
          "Japan",
          "Netherlands",
          "United Kingdom",
          "Korea, South",
          "US",
          "France",
          "Spain",
          "Iran",
          "Italy",
          "China"
         ],
         "yaxis": "y"
        }
       ],
       "layout": {
        "barmode": "relative",
        "height": 500,
        "legend": {
         "tracegroupgap": 0
        },
        "margin": {
         "t": 60
        },
        "template": {
         "data": {
          "bar": [
           {
            "error_x": {
             "color": "#2a3f5f"
            },
            "error_y": {
             "color": "#2a3f5f"
            },
            "marker": {
             "line": {
              "color": "#E5ECF6",
              "width": 0.5
             }
            },
            "type": "bar"
           }
          ],
          "barpolar": [
           {
            "marker": {
             "line": {
              "color": "#E5ECF6",
              "width": 0.5
             }
            },
            "type": "barpolar"
           }
          ],
          "carpet": [
           {
            "aaxis": {
             "endlinecolor": "#2a3f5f",
             "gridcolor": "white",
             "linecolor": "white",
             "minorgridcolor": "white",
             "startlinecolor": "#2a3f5f"
            },
            "baxis": {
             "endlinecolor": "#2a3f5f",
             "gridcolor": "white",
             "linecolor": "white",
             "minorgridcolor": "white",
             "startlinecolor": "#2a3f5f"
            },
            "type": "carpet"
           }
          ],
          "choropleth": [
           {
            "colorbar": {
             "outlinewidth": 0,
             "ticks": ""
            },
            "type": "choropleth"
           }
          ],
          "contour": [
           {
            "colorbar": {
             "outlinewidth": 0,
             "ticks": ""
            },
            "colorscale": [
             [
              0,
              "#0d0887"
             ],
             [
              0.1111111111111111,
              "#46039f"
             ],
             [
              0.2222222222222222,
              "#7201a8"
             ],
             [
              0.3333333333333333,
              "#9c179e"
             ],
             [
              0.4444444444444444,
              "#bd3786"
             ],
             [
              0.5555555555555556,
              "#d8576b"
             ],
             [
              0.6666666666666666,
              "#ed7953"
             ],
             [
              0.7777777777777778,
              "#fb9f3a"
             ],
             [
              0.8888888888888888,
              "#fdca26"
             ],
             [
              1,
              "#f0f921"
             ]
            ],
            "type": "contour"
           }
          ],
          "contourcarpet": [
           {
            "colorbar": {
             "outlinewidth": 0,
             "ticks": ""
            },
            "type": "contourcarpet"
           }
          ],
          "heatmap": [
           {
            "colorbar": {
             "outlinewidth": 0,
             "ticks": ""
            },
            "colorscale": [
             [
              0,
              "#0d0887"
             ],
             [
              0.1111111111111111,
              "#46039f"
             ],
             [
              0.2222222222222222,
              "#7201a8"
             ],
             [
              0.3333333333333333,
              "#9c179e"
             ],
             [
              0.4444444444444444,
              "#bd3786"
             ],
             [
              0.5555555555555556,
              "#d8576b"
             ],
             [
              0.6666666666666666,
              "#ed7953"
             ],
             [
              0.7777777777777778,
              "#fb9f3a"
             ],
             [
              0.8888888888888888,
              "#fdca26"
             ],
             [
              1,
              "#f0f921"
             ]
            ],
            "type": "heatmap"
           }
          ],
          "heatmapgl": [
           {
            "colorbar": {
             "outlinewidth": 0,
             "ticks": ""
            },
            "colorscale": [
             [
              0,
              "#0d0887"
             ],
             [
              0.1111111111111111,
              "#46039f"
             ],
             [
              0.2222222222222222,
              "#7201a8"
             ],
             [
              0.3333333333333333,
              "#9c179e"
             ],
             [
              0.4444444444444444,
              "#bd3786"
             ],
             [
              0.5555555555555556,
              "#d8576b"
             ],
             [
              0.6666666666666666,
              "#ed7953"
             ],
             [
              0.7777777777777778,
              "#fb9f3a"
             ],
             [
              0.8888888888888888,
              "#fdca26"
             ],
             [
              1,
              "#f0f921"
             ]
            ],
            "type": "heatmapgl"
           }
          ],
          "histogram": [
           {
            "marker": {
             "colorbar": {
              "outlinewidth": 0,
              "ticks": ""
             }
            },
            "type": "histogram"
           }
          ],
          "histogram2d": [
           {
            "colorbar": {
             "outlinewidth": 0,
             "ticks": ""
            },
            "colorscale": [
             [
              0,
              "#0d0887"
             ],
             [
              0.1111111111111111,
              "#46039f"
             ],
             [
              0.2222222222222222,
              "#7201a8"
             ],
             [
              0.3333333333333333,
              "#9c179e"
             ],
             [
              0.4444444444444444,
              "#bd3786"
             ],
             [
              0.5555555555555556,
              "#d8576b"
             ],
             [
              0.6666666666666666,
              "#ed7953"
             ],
             [
              0.7777777777777778,
              "#fb9f3a"
             ],
             [
              0.8888888888888888,
              "#fdca26"
             ],
             [
              1,
              "#f0f921"
             ]
            ],
            "type": "histogram2d"
           }
          ],
          "histogram2dcontour": [
           {
            "colorbar": {
             "outlinewidth": 0,
             "ticks": ""
            },
            "colorscale": [
             [
              0,
              "#0d0887"
             ],
             [
              0.1111111111111111,
              "#46039f"
             ],
             [
              0.2222222222222222,
              "#7201a8"
             ],
             [
              0.3333333333333333,
              "#9c179e"
             ],
             [
              0.4444444444444444,
              "#bd3786"
             ],
             [
              0.5555555555555556,
              "#d8576b"
             ],
             [
              0.6666666666666666,
              "#ed7953"
             ],
             [
              0.7777777777777778,
              "#fb9f3a"
             ],
             [
              0.8888888888888888,
              "#fdca26"
             ],
             [
              1,
              "#f0f921"
             ]
            ],
            "type": "histogram2dcontour"
           }
          ],
          "mesh3d": [
           {
            "colorbar": {
             "outlinewidth": 0,
             "ticks": ""
            },
            "type": "mesh3d"
           }
          ],
          "parcoords": [
           {
            "line": {
             "colorbar": {
              "outlinewidth": 0,
              "ticks": ""
             }
            },
            "type": "parcoords"
           }
          ],
          "pie": [
           {
            "automargin": true,
            "type": "pie"
           }
          ],
          "scatter": [
           {
            "marker": {
             "colorbar": {
              "outlinewidth": 0,
              "ticks": ""
             }
            },
            "type": "scatter"
           }
          ],
          "scatter3d": [
           {
            "line": {
             "colorbar": {
              "outlinewidth": 0,
              "ticks": ""
             }
            },
            "marker": {
             "colorbar": {
              "outlinewidth": 0,
              "ticks": ""
             }
            },
            "type": "scatter3d"
           }
          ],
          "scattercarpet": [
           {
            "marker": {
             "colorbar": {
              "outlinewidth": 0,
              "ticks": ""
             }
            },
            "type": "scattercarpet"
           }
          ],
          "scattergeo": [
           {
            "marker": {
             "colorbar": {
              "outlinewidth": 0,
              "ticks": ""
             }
            },
            "type": "scattergeo"
           }
          ],
          "scattergl": [
           {
            "marker": {
             "colorbar": {
              "outlinewidth": 0,
              "ticks": ""
             }
            },
            "type": "scattergl"
           }
          ],
          "scattermapbox": [
           {
            "marker": {
             "colorbar": {
              "outlinewidth": 0,
              "ticks": ""
             }
            },
            "type": "scattermapbox"
           }
          ],
          "scatterpolar": [
           {
            "marker": {
             "colorbar": {
              "outlinewidth": 0,
              "ticks": ""
             }
            },
            "type": "scatterpolar"
           }
          ],
          "scatterpolargl": [
           {
            "marker": {
             "colorbar": {
              "outlinewidth": 0,
              "ticks": ""
             }
            },
            "type": "scatterpolargl"
           }
          ],
          "scatterternary": [
           {
            "marker": {
             "colorbar": {
              "outlinewidth": 0,
              "ticks": ""
             }
            },
            "type": "scatterternary"
           }
          ],
          "surface": [
           {
            "colorbar": {
             "outlinewidth": 0,
             "ticks": ""
            },
            "colorscale": [
             [
              0,
              "#0d0887"
             ],
             [
              0.1111111111111111,
              "#46039f"
             ],
             [
              0.2222222222222222,
              "#7201a8"
             ],
             [
              0.3333333333333333,
              "#9c179e"
             ],
             [
              0.4444444444444444,
              "#bd3786"
             ],
             [
              0.5555555555555556,
              "#d8576b"
             ],
             [
              0.6666666666666666,
              "#ed7953"
             ],
             [
              0.7777777777777778,
              "#fb9f3a"
             ],
             [
              0.8888888888888888,
              "#fdca26"
             ],
             [
              1,
              "#f0f921"
             ]
            ],
            "type": "surface"
           }
          ],
          "table": [
           {
            "cells": {
             "fill": {
              "color": "#EBF0F8"
             },
             "line": {
              "color": "white"
             }
            },
            "header": {
             "fill": {
              "color": "#C8D4E3"
             },
             "line": {
              "color": "white"
             }
            },
            "type": "table"
           }
          ]
         },
         "layout": {
          "annotationdefaults": {
           "arrowcolor": "#2a3f5f",
           "arrowhead": 0,
           "arrowwidth": 1
          },
          "coloraxis": {
           "colorbar": {
            "outlinewidth": 0,
            "ticks": ""
           }
          },
          "colorscale": {
           "diverging": [
            [
             0,
             "#8e0152"
            ],
            [
             0.1,
             "#c51b7d"
            ],
            [
             0.2,
             "#de77ae"
            ],
            [
             0.3,
             "#f1b6da"
            ],
            [
             0.4,
             "#fde0ef"
            ],
            [
             0.5,
             "#f7f7f7"
            ],
            [
             0.6,
             "#e6f5d0"
            ],
            [
             0.7,
             "#b8e186"
            ],
            [
             0.8,
             "#7fbc41"
            ],
            [
             0.9,
             "#4d9221"
            ],
            [
             1,
             "#276419"
            ]
           ],
           "sequential": [
            [
             0,
             "#0d0887"
            ],
            [
             0.1111111111111111,
             "#46039f"
            ],
            [
             0.2222222222222222,
             "#7201a8"
            ],
            [
             0.3333333333333333,
             "#9c179e"
            ],
            [
             0.4444444444444444,
             "#bd3786"
            ],
            [
             0.5555555555555556,
             "#d8576b"
            ],
            [
             0.6666666666666666,
             "#ed7953"
            ],
            [
             0.7777777777777778,
             "#fb9f3a"
            ],
            [
             0.8888888888888888,
             "#fdca26"
            ],
            [
             1,
             "#f0f921"
            ]
           ],
           "sequentialminus": [
            [
             0,
             "#0d0887"
            ],
            [
             0.1111111111111111,
             "#46039f"
            ],
            [
             0.2222222222222222,
             "#7201a8"
            ],
            [
             0.3333333333333333,
             "#9c179e"
            ],
            [
             0.4444444444444444,
             "#bd3786"
            ],
            [
             0.5555555555555556,
             "#d8576b"
            ],
            [
             0.6666666666666666,
             "#ed7953"
            ],
            [
             0.7777777777777778,
             "#fb9f3a"
            ],
            [
             0.8888888888888888,
             "#fdca26"
            ],
            [
             1,
             "#f0f921"
            ]
           ]
          },
          "colorway": [
           "#636efa",
           "#EF553B",
           "#00cc96",
           "#ab63fa",
           "#FFA15A",
           "#19d3f3",
           "#FF6692",
           "#B6E880",
           "#FF97FF",
           "#FECB52"
          ],
          "font": {
           "color": "#2a3f5f"
          },
          "geo": {
           "bgcolor": "white",
           "lakecolor": "white",
           "landcolor": "#E5ECF6",
           "showlakes": true,
           "showland": true,
           "subunitcolor": "white"
          },
          "hoverlabel": {
           "align": "left"
          },
          "hovermode": "closest",
          "mapbox": {
           "style": "light"
          },
          "paper_bgcolor": "white",
          "plot_bgcolor": "#E5ECF6",
          "polar": {
           "angularaxis": {
            "gridcolor": "white",
            "linecolor": "white",
            "ticks": ""
           },
           "bgcolor": "#E5ECF6",
           "radialaxis": {
            "gridcolor": "white",
            "linecolor": "white",
            "ticks": ""
           }
          },
          "scene": {
           "xaxis": {
            "backgroundcolor": "#E5ECF6",
            "gridcolor": "white",
            "gridwidth": 2,
            "linecolor": "white",
            "showbackground": true,
            "ticks": "",
            "zerolinecolor": "white"
           },
           "yaxis": {
            "backgroundcolor": "#E5ECF6",
            "gridcolor": "white",
            "gridwidth": 2,
            "linecolor": "white",
            "showbackground": true,
            "ticks": "",
            "zerolinecolor": "white"
           },
           "zaxis": {
            "backgroundcolor": "#E5ECF6",
            "gridcolor": "white",
            "gridwidth": 2,
            "linecolor": "white",
            "showbackground": true,
            "ticks": "",
            "zerolinecolor": "white"
           }
          },
          "shapedefaults": {
           "line": {
            "color": "#2a3f5f"
           }
          },
          "ternary": {
           "aaxis": {
            "gridcolor": "white",
            "linecolor": "white",
            "ticks": ""
           },
           "baxis": {
            "gridcolor": "white",
            "linecolor": "white",
            "ticks": ""
           },
           "bgcolor": "#E5ECF6",
           "caxis": {
            "gridcolor": "white",
            "linecolor": "white",
            "ticks": ""
           }
          },
          "title": {
           "x": 0.05
          },
          "xaxis": {
           "automargin": true,
           "gridcolor": "white",
           "linecolor": "white",
           "ticks": "",
           "title": {
            "standoff": 15
           },
           "zerolinecolor": "white",
           "zerolinewidth": 2
          },
          "yaxis": {
           "automargin": true,
           "gridcolor": "white",
           "linecolor": "white",
           "ticks": "",
           "title": {
            "standoff": 15
           },
           "zerolinecolor": "white",
           "zerolinewidth": 2
          }
         }
        },
        "width": 800,
        "xaxis": {
         "anchor": "y",
         "domain": [
          0,
          1
         ],
         "range": [
          0,
          3741
         ],
         "title": {
          "text": "Deaths"
         }
        },
        "yaxis": {
         "anchor": "x",
         "domain": [
          0,
          1
         ],
         "title": {
          "text": "Country/Region"
         }
        }
       }
      },
      "text/html": [
       "<div>\n",
       "        \n",
       "        \n",
       "            <div id=\"e5cfe1de-5a68-4165-8ea3-8d7d99e1dd64\" class=\"plotly-graph-div\" style=\"height:500px; width:800px;\"></div>\n",
       "            <script type=\"text/javascript\">\n",
       "                require([\"plotly\"], function(Plotly) {\n",
       "                    window.PLOTLYENV=window.PLOTLYENV || {};\n",
       "                    \n",
       "                if (document.getElementById(\"e5cfe1de-5a68-4165-8ea3-8d7d99e1dd64\")) {\n",
       "                    Plotly.newPlot(\n",
       "                        'e5cfe1de-5a68-4165-8ea3-8d7d99e1dd64',\n",
       "                        [{\"alignmentgroup\": \"True\", \"hoverlabel\": {\"namelength\": 0}, \"hovertemplate\": \"Deaths=%{text}<br>Country/Region=%{y}\", \"legendgroup\": \"\", \"marker\": {\"color\": \"#ff2e63\"}, \"name\": \"\", \"offsetgroup\": \"\", \"opacity\": 0.6, \"orientation\": \"h\", \"showlegend\": false, \"text\": [29.0, 58.0, 72.0, 84.0, 118.0, 148.0, 623.0, 1135.0, 2978.0, 3241.0], \"textposition\": \"outside\", \"type\": \"bar\", \"x\": [29, 58, 72, 84, 118, 148, 623, 1135, 2978, 3241], \"xaxis\": \"x\", \"y\": [\"Japan\", \"Netherlands\", \"United Kingdom\", \"Korea, South\", \"US\", \"France\", \"Spain\", \"Iran\", \"Italy\", \"China\"], \"yaxis\": \"y\"}],\n",
       "                        {\"barmode\": \"relative\", \"height\": 500, \"legend\": {\"tracegroupgap\": 0}, \"margin\": {\"t\": 60}, \"template\": {\"data\": {\"bar\": [{\"error_x\": {\"color\": \"#2a3f5f\"}, \"error_y\": {\"color\": \"#2a3f5f\"}, \"marker\": {\"line\": {\"color\": \"#E5ECF6\", \"width\": 0.5}}, \"type\": \"bar\"}], \"barpolar\": [{\"marker\": {\"line\": {\"color\": \"#E5ECF6\", \"width\": 0.5}}, \"type\": \"barpolar\"}], \"carpet\": [{\"aaxis\": {\"endlinecolor\": \"#2a3f5f\", \"gridcolor\": \"white\", \"linecolor\": \"white\", \"minorgridcolor\": \"white\", \"startlinecolor\": \"#2a3f5f\"}, \"baxis\": {\"endlinecolor\": \"#2a3f5f\", \"gridcolor\": \"white\", \"linecolor\": \"white\", \"minorgridcolor\": \"white\", \"startlinecolor\": \"#2a3f5f\"}, \"type\": \"carpet\"}], \"choropleth\": [{\"colorbar\": {\"outlinewidth\": 0, \"ticks\": \"\"}, \"type\": \"choropleth\"}], \"contour\": [{\"colorbar\": {\"outlinewidth\": 0, \"ticks\": \"\"}, \"colorscale\": [[0.0, \"#0d0887\"], [0.1111111111111111, \"#46039f\"], [0.2222222222222222, \"#7201a8\"], [0.3333333333333333, \"#9c179e\"], [0.4444444444444444, \"#bd3786\"], [0.5555555555555556, \"#d8576b\"], [0.6666666666666666, \"#ed7953\"], [0.7777777777777778, \"#fb9f3a\"], [0.8888888888888888, \"#fdca26\"], [1.0, \"#f0f921\"]], \"type\": \"contour\"}], \"contourcarpet\": [{\"colorbar\": {\"outlinewidth\": 0, \"ticks\": \"\"}, \"type\": \"contourcarpet\"}], \"heatmap\": [{\"colorbar\": {\"outlinewidth\": 0, \"ticks\": \"\"}, \"colorscale\": [[0.0, \"#0d0887\"], [0.1111111111111111, \"#46039f\"], [0.2222222222222222, \"#7201a8\"], [0.3333333333333333, \"#9c179e\"], [0.4444444444444444, \"#bd3786\"], [0.5555555555555556, \"#d8576b\"], [0.6666666666666666, \"#ed7953\"], [0.7777777777777778, \"#fb9f3a\"], [0.8888888888888888, \"#fdca26\"], [1.0, \"#f0f921\"]], \"type\": \"heatmap\"}], \"heatmapgl\": [{\"colorbar\": {\"outlinewidth\": 0, \"ticks\": \"\"}, \"colorscale\": [[0.0, \"#0d0887\"], [0.1111111111111111, \"#46039f\"], [0.2222222222222222, \"#7201a8\"], [0.3333333333333333, \"#9c179e\"], [0.4444444444444444, \"#bd3786\"], [0.5555555555555556, \"#d8576b\"], [0.6666666666666666, \"#ed7953\"], [0.7777777777777778, \"#fb9f3a\"], [0.8888888888888888, \"#fdca26\"], [1.0, \"#f0f921\"]], \"type\": \"heatmapgl\"}], \"histogram\": [{\"marker\": {\"colorbar\": {\"outlinewidth\": 0, \"ticks\": \"\"}}, \"type\": \"histogram\"}], \"histogram2d\": [{\"colorbar\": {\"outlinewidth\": 0, \"ticks\": \"\"}, \"colorscale\": [[0.0, \"#0d0887\"], [0.1111111111111111, \"#46039f\"], [0.2222222222222222, \"#7201a8\"], [0.3333333333333333, \"#9c179e\"], [0.4444444444444444, \"#bd3786\"], [0.5555555555555556, \"#d8576b\"], [0.6666666666666666, \"#ed7953\"], [0.7777777777777778, \"#fb9f3a\"], [0.8888888888888888, \"#fdca26\"], [1.0, \"#f0f921\"]], \"type\": \"histogram2d\"}], \"histogram2dcontour\": [{\"colorbar\": {\"outlinewidth\": 0, \"ticks\": \"\"}, \"colorscale\": [[0.0, \"#0d0887\"], [0.1111111111111111, \"#46039f\"], [0.2222222222222222, \"#7201a8\"], [0.3333333333333333, \"#9c179e\"], [0.4444444444444444, \"#bd3786\"], [0.5555555555555556, \"#d8576b\"], [0.6666666666666666, \"#ed7953\"], [0.7777777777777778, \"#fb9f3a\"], [0.8888888888888888, \"#fdca26\"], [1.0, \"#f0f921\"]], \"type\": \"histogram2dcontour\"}], \"mesh3d\": [{\"colorbar\": {\"outlinewidth\": 0, \"ticks\": \"\"}, \"type\": \"mesh3d\"}], \"parcoords\": [{\"line\": {\"colorbar\": {\"outlinewidth\": 0, \"ticks\": \"\"}}, \"type\": \"parcoords\"}], \"pie\": [{\"automargin\": true, \"type\": \"pie\"}], \"scatter\": [{\"marker\": {\"colorbar\": {\"outlinewidth\": 0, \"ticks\": \"\"}}, \"type\": \"scatter\"}], \"scatter3d\": [{\"line\": {\"colorbar\": {\"outlinewidth\": 0, \"ticks\": \"\"}}, \"marker\": {\"colorbar\": {\"outlinewidth\": 0, \"ticks\": \"\"}}, \"type\": \"scatter3d\"}], \"scattercarpet\": [{\"marker\": {\"colorbar\": {\"outlinewidth\": 0, \"ticks\": \"\"}}, \"type\": \"scattercarpet\"}], \"scattergeo\": [{\"marker\": {\"colorbar\": {\"outlinewidth\": 0, \"ticks\": \"\"}}, \"type\": \"scattergeo\"}], \"scattergl\": [{\"marker\": {\"colorbar\": {\"outlinewidth\": 0, \"ticks\": \"\"}}, \"type\": \"scattergl\"}], \"scattermapbox\": [{\"marker\": {\"colorbar\": {\"outlinewidth\": 0, \"ticks\": \"\"}}, \"type\": \"scattermapbox\"}], \"scatterpolar\": [{\"marker\": {\"colorbar\": {\"outlinewidth\": 0, \"ticks\": \"\"}}, \"type\": \"scatterpolar\"}], \"scatterpolargl\": [{\"marker\": {\"colorbar\": {\"outlinewidth\": 0, \"ticks\": \"\"}}, \"type\": \"scatterpolargl\"}], \"scatterternary\": [{\"marker\": {\"colorbar\": {\"outlinewidth\": 0, \"ticks\": \"\"}}, \"type\": \"scatterternary\"}], \"surface\": [{\"colorbar\": {\"outlinewidth\": 0, \"ticks\": \"\"}, \"colorscale\": [[0.0, \"#0d0887\"], [0.1111111111111111, \"#46039f\"], [0.2222222222222222, \"#7201a8\"], [0.3333333333333333, \"#9c179e\"], [0.4444444444444444, \"#bd3786\"], [0.5555555555555556, \"#d8576b\"], [0.6666666666666666, \"#ed7953\"], [0.7777777777777778, \"#fb9f3a\"], [0.8888888888888888, \"#fdca26\"], [1.0, \"#f0f921\"]], \"type\": \"surface\"}], \"table\": [{\"cells\": {\"fill\": {\"color\": \"#EBF0F8\"}, \"line\": {\"color\": \"white\"}}, \"header\": {\"fill\": {\"color\": \"#C8D4E3\"}, \"line\": {\"color\": \"white\"}}, \"type\": \"table\"}]}, \"layout\": {\"annotationdefaults\": {\"arrowcolor\": \"#2a3f5f\", \"arrowhead\": 0, \"arrowwidth\": 1}, \"coloraxis\": {\"colorbar\": {\"outlinewidth\": 0, \"ticks\": \"\"}}, \"colorscale\": {\"diverging\": [[0, \"#8e0152\"], [0.1, \"#c51b7d\"], [0.2, \"#de77ae\"], [0.3, \"#f1b6da\"], [0.4, \"#fde0ef\"], [0.5, \"#f7f7f7\"], [0.6, \"#e6f5d0\"], [0.7, \"#b8e186\"], [0.8, \"#7fbc41\"], [0.9, \"#4d9221\"], [1, \"#276419\"]], \"sequential\": [[0.0, \"#0d0887\"], [0.1111111111111111, \"#46039f\"], [0.2222222222222222, \"#7201a8\"], [0.3333333333333333, \"#9c179e\"], [0.4444444444444444, \"#bd3786\"], [0.5555555555555556, \"#d8576b\"], [0.6666666666666666, \"#ed7953\"], [0.7777777777777778, \"#fb9f3a\"], [0.8888888888888888, \"#fdca26\"], [1.0, \"#f0f921\"]], \"sequentialminus\": [[0.0, \"#0d0887\"], [0.1111111111111111, \"#46039f\"], [0.2222222222222222, \"#7201a8\"], [0.3333333333333333, \"#9c179e\"], [0.4444444444444444, \"#bd3786\"], [0.5555555555555556, \"#d8576b\"], [0.6666666666666666, \"#ed7953\"], [0.7777777777777778, \"#fb9f3a\"], [0.8888888888888888, \"#fdca26\"], [1.0, \"#f0f921\"]]}, \"colorway\": [\"#636efa\", \"#EF553B\", \"#00cc96\", \"#ab63fa\", \"#FFA15A\", \"#19d3f3\", \"#FF6692\", \"#B6E880\", \"#FF97FF\", \"#FECB52\"], \"font\": {\"color\": \"#2a3f5f\"}, \"geo\": {\"bgcolor\": \"white\", \"lakecolor\": \"white\", \"landcolor\": \"#E5ECF6\", \"showlakes\": true, \"showland\": true, \"subunitcolor\": \"white\"}, \"hoverlabel\": {\"align\": \"left\"}, \"hovermode\": \"closest\", \"mapbox\": {\"style\": \"light\"}, \"paper_bgcolor\": \"white\", \"plot_bgcolor\": \"#E5ECF6\", \"polar\": {\"angularaxis\": {\"gridcolor\": \"white\", \"linecolor\": \"white\", \"ticks\": \"\"}, \"bgcolor\": \"#E5ECF6\", \"radialaxis\": {\"gridcolor\": \"white\", \"linecolor\": \"white\", \"ticks\": \"\"}}, \"scene\": {\"xaxis\": {\"backgroundcolor\": \"#E5ECF6\", \"gridcolor\": \"white\", \"gridwidth\": 2, \"linecolor\": \"white\", \"showbackground\": true, \"ticks\": \"\", \"zerolinecolor\": \"white\"}, \"yaxis\": {\"backgroundcolor\": \"#E5ECF6\", \"gridcolor\": \"white\", \"gridwidth\": 2, \"linecolor\": \"white\", \"showbackground\": true, \"ticks\": \"\", \"zerolinecolor\": \"white\"}, \"zaxis\": {\"backgroundcolor\": \"#E5ECF6\", \"gridcolor\": \"white\", \"gridwidth\": 2, \"linecolor\": \"white\", \"showbackground\": true, \"ticks\": \"\", \"zerolinecolor\": \"white\"}}, \"shapedefaults\": {\"line\": {\"color\": \"#2a3f5f\"}}, \"ternary\": {\"aaxis\": {\"gridcolor\": \"white\", \"linecolor\": \"white\", \"ticks\": \"\"}, \"baxis\": {\"gridcolor\": \"white\", \"linecolor\": \"white\", \"ticks\": \"\"}, \"bgcolor\": \"#E5ECF6\", \"caxis\": {\"gridcolor\": \"white\", \"linecolor\": \"white\", \"ticks\": \"\"}}, \"title\": {\"x\": 0.05}, \"xaxis\": {\"automargin\": true, \"gridcolor\": \"white\", \"linecolor\": \"white\", \"ticks\": \"\", \"title\": {\"standoff\": 15}, \"zerolinecolor\": \"white\", \"zerolinewidth\": 2}, \"yaxis\": {\"automargin\": true, \"gridcolor\": \"white\", \"linecolor\": \"white\", \"ticks\": \"\", \"title\": {\"standoff\": 15}, \"zerolinecolor\": \"white\", \"zerolinewidth\": 2}}}, \"width\": 800, \"xaxis\": {\"anchor\": \"y\", \"domain\": [0.0, 1.0], \"range\": [0, 3741], \"title\": {\"text\": \"Deaths\"}}, \"yaxis\": {\"anchor\": \"x\", \"domain\": [0.0, 1.0], \"title\": {\"text\": \"Country/Region\"}}},\n",
       "                        {\"responsive\": true}\n",
       "                    ).then(function(){\n",
       "                            \n",
       "var gd = document.getElementById('e5cfe1de-5a68-4165-8ea3-8d7d99e1dd64');\n",
       "var x = new MutationObserver(function (mutations, observer) {{\n",
       "        var display = window.getComputedStyle(gd).display;\n",
       "        if (!display || display === 'none') {{\n",
       "            console.log([gd, 'removed!']);\n",
       "            Plotly.purge(gd);\n",
       "            observer.disconnect();\n",
       "        }}\n",
       "}});\n",
       "\n",
       "// Listen for the removal of the full notebook cells\n",
       "var notebookContainer = gd.closest('#notebook-container');\n",
       "if (notebookContainer) {{\n",
       "    x.observe(notebookContainer, {childList: true});\n",
       "}}\n",
       "\n",
       "// Listen for the clearing of the current output cell\n",
       "var outputEl = gd.closest('.output');\n",
       "if (outputEl) {{\n",
       "    x.observe(outputEl, {childList: true});\n",
       "}}\n",
       "\n",
       "                        })\n",
       "                };\n",
       "                });\n",
       "            </script>\n",
       "        </div>"
      ]
     },
     "metadata": {},
     "output_type": "display_data"
    }
   ],
   "source": [
    "top10Deaths = px.bar(classement.sort_values('Deaths', ascending=False).head(10).sort_values('Deaths', ascending=True), \n",
    "             x=\"Deaths\", y=\"Country/Region\", text='Deaths', orientation='h', \n",
    "             width=800, height=500, range_x = [0, max(classement['Deaths'])+500])\n",
    "top10Deaths.update_traces(marker_color=colorRed, opacity=0.6, textposition='outside')\n",
    "top10Deaths.show()"
   ]
  },
  {
   "cell_type": "markdown",
   "metadata": {},
   "source": [
    "### Actifs"
   ]
  },
  {
   "cell_type": "code",
   "execution_count": 82,
   "metadata": {},
   "outputs": [
    {
     "data": {
      "application/vnd.plotly.v1+json": {
       "config": {
        "plotlyServerURL": "https://plot.ly"
       },
       "data": [
        {
         "alignmentgroup": "True",
         "hoverlabel": {
          "namelength": 0
         },
         "hovertemplate": "Active=%{text}<br>Country/Region=%{y}",
         "legendgroup": "",
         "marker": {
          "color": "#393e46"
         },
         "name": "",
         "offsetgroup": "",
         "opacity": 0.6,
         "orientation": "h",
         "showlegend": false,
         "text": [
          2503,
          2985,
          6789,
          7562,
          8106,
          8892,
          10837,
          12194,
          12206,
          28710
         ],
         "textposition": "outside",
         "type": "bar",
         "x": [
          2503,
          2985,
          6789,
          7562,
          8106,
          8892,
          10837,
          12194,
          12206,
          28710
         ],
         "xaxis": "x",
         "y": [
          "United Kingdom",
          "Switzerland",
          "Korea, South",
          "US",
          "China",
          "France",
          "Iran",
          "Germany",
          "Spain",
          "Italy"
         ],
         "yaxis": "y"
        }
       ],
       "layout": {
        "barmode": "relative",
        "height": 500,
        "legend": {
         "tracegroupgap": 0
        },
        "margin": {
         "t": 60
        },
        "template": {
         "data": {
          "bar": [
           {
            "error_x": {
             "color": "#2a3f5f"
            },
            "error_y": {
             "color": "#2a3f5f"
            },
            "marker": {
             "line": {
              "color": "#E5ECF6",
              "width": 0.5
             }
            },
            "type": "bar"
           }
          ],
          "barpolar": [
           {
            "marker": {
             "line": {
              "color": "#E5ECF6",
              "width": 0.5
             }
            },
            "type": "barpolar"
           }
          ],
          "carpet": [
           {
            "aaxis": {
             "endlinecolor": "#2a3f5f",
             "gridcolor": "white",
             "linecolor": "white",
             "minorgridcolor": "white",
             "startlinecolor": "#2a3f5f"
            },
            "baxis": {
             "endlinecolor": "#2a3f5f",
             "gridcolor": "white",
             "linecolor": "white",
             "minorgridcolor": "white",
             "startlinecolor": "#2a3f5f"
            },
            "type": "carpet"
           }
          ],
          "choropleth": [
           {
            "colorbar": {
             "outlinewidth": 0,
             "ticks": ""
            },
            "type": "choropleth"
           }
          ],
          "contour": [
           {
            "colorbar": {
             "outlinewidth": 0,
             "ticks": ""
            },
            "colorscale": [
             [
              0,
              "#0d0887"
             ],
             [
              0.1111111111111111,
              "#46039f"
             ],
             [
              0.2222222222222222,
              "#7201a8"
             ],
             [
              0.3333333333333333,
              "#9c179e"
             ],
             [
              0.4444444444444444,
              "#bd3786"
             ],
             [
              0.5555555555555556,
              "#d8576b"
             ],
             [
              0.6666666666666666,
              "#ed7953"
             ],
             [
              0.7777777777777778,
              "#fb9f3a"
             ],
             [
              0.8888888888888888,
              "#fdca26"
             ],
             [
              1,
              "#f0f921"
             ]
            ],
            "type": "contour"
           }
          ],
          "contourcarpet": [
           {
            "colorbar": {
             "outlinewidth": 0,
             "ticks": ""
            },
            "type": "contourcarpet"
           }
          ],
          "heatmap": [
           {
            "colorbar": {
             "outlinewidth": 0,
             "ticks": ""
            },
            "colorscale": [
             [
              0,
              "#0d0887"
             ],
             [
              0.1111111111111111,
              "#46039f"
             ],
             [
              0.2222222222222222,
              "#7201a8"
             ],
             [
              0.3333333333333333,
              "#9c179e"
             ],
             [
              0.4444444444444444,
              "#bd3786"
             ],
             [
              0.5555555555555556,
              "#d8576b"
             ],
             [
              0.6666666666666666,
              "#ed7953"
             ],
             [
              0.7777777777777778,
              "#fb9f3a"
             ],
             [
              0.8888888888888888,
              "#fdca26"
             ],
             [
              1,
              "#f0f921"
             ]
            ],
            "type": "heatmap"
           }
          ],
          "heatmapgl": [
           {
            "colorbar": {
             "outlinewidth": 0,
             "ticks": ""
            },
            "colorscale": [
             [
              0,
              "#0d0887"
             ],
             [
              0.1111111111111111,
              "#46039f"
             ],
             [
              0.2222222222222222,
              "#7201a8"
             ],
             [
              0.3333333333333333,
              "#9c179e"
             ],
             [
              0.4444444444444444,
              "#bd3786"
             ],
             [
              0.5555555555555556,
              "#d8576b"
             ],
             [
              0.6666666666666666,
              "#ed7953"
             ],
             [
              0.7777777777777778,
              "#fb9f3a"
             ],
             [
              0.8888888888888888,
              "#fdca26"
             ],
             [
              1,
              "#f0f921"
             ]
            ],
            "type": "heatmapgl"
           }
          ],
          "histogram": [
           {
            "marker": {
             "colorbar": {
              "outlinewidth": 0,
              "ticks": ""
             }
            },
            "type": "histogram"
           }
          ],
          "histogram2d": [
           {
            "colorbar": {
             "outlinewidth": 0,
             "ticks": ""
            },
            "colorscale": [
             [
              0,
              "#0d0887"
             ],
             [
              0.1111111111111111,
              "#46039f"
             ],
             [
              0.2222222222222222,
              "#7201a8"
             ],
             [
              0.3333333333333333,
              "#9c179e"
             ],
             [
              0.4444444444444444,
              "#bd3786"
             ],
             [
              0.5555555555555556,
              "#d8576b"
             ],
             [
              0.6666666666666666,
              "#ed7953"
             ],
             [
              0.7777777777777778,
              "#fb9f3a"
             ],
             [
              0.8888888888888888,
              "#fdca26"
             ],
             [
              1,
              "#f0f921"
             ]
            ],
            "type": "histogram2d"
           }
          ],
          "histogram2dcontour": [
           {
            "colorbar": {
             "outlinewidth": 0,
             "ticks": ""
            },
            "colorscale": [
             [
              0,
              "#0d0887"
             ],
             [
              0.1111111111111111,
              "#46039f"
             ],
             [
              0.2222222222222222,
              "#7201a8"
             ],
             [
              0.3333333333333333,
              "#9c179e"
             ],
             [
              0.4444444444444444,
              "#bd3786"
             ],
             [
              0.5555555555555556,
              "#d8576b"
             ],
             [
              0.6666666666666666,
              "#ed7953"
             ],
             [
              0.7777777777777778,
              "#fb9f3a"
             ],
             [
              0.8888888888888888,
              "#fdca26"
             ],
             [
              1,
              "#f0f921"
             ]
            ],
            "type": "histogram2dcontour"
           }
          ],
          "mesh3d": [
           {
            "colorbar": {
             "outlinewidth": 0,
             "ticks": ""
            },
            "type": "mesh3d"
           }
          ],
          "parcoords": [
           {
            "line": {
             "colorbar": {
              "outlinewidth": 0,
              "ticks": ""
             }
            },
            "type": "parcoords"
           }
          ],
          "pie": [
           {
            "automargin": true,
            "type": "pie"
           }
          ],
          "scatter": [
           {
            "marker": {
             "colorbar": {
              "outlinewidth": 0,
              "ticks": ""
             }
            },
            "type": "scatter"
           }
          ],
          "scatter3d": [
           {
            "line": {
             "colorbar": {
              "outlinewidth": 0,
              "ticks": ""
             }
            },
            "marker": {
             "colorbar": {
              "outlinewidth": 0,
              "ticks": ""
             }
            },
            "type": "scatter3d"
           }
          ],
          "scattercarpet": [
           {
            "marker": {
             "colorbar": {
              "outlinewidth": 0,
              "ticks": ""
             }
            },
            "type": "scattercarpet"
           }
          ],
          "scattergeo": [
           {
            "marker": {
             "colorbar": {
              "outlinewidth": 0,
              "ticks": ""
             }
            },
            "type": "scattergeo"
           }
          ],
          "scattergl": [
           {
            "marker": {
             "colorbar": {
              "outlinewidth": 0,
              "ticks": ""
             }
            },
            "type": "scattergl"
           }
          ],
          "scattermapbox": [
           {
            "marker": {
             "colorbar": {
              "outlinewidth": 0,
              "ticks": ""
             }
            },
            "type": "scattermapbox"
           }
          ],
          "scatterpolar": [
           {
            "marker": {
             "colorbar": {
              "outlinewidth": 0,
              "ticks": ""
             }
            },
            "type": "scatterpolar"
           }
          ],
          "scatterpolargl": [
           {
            "marker": {
             "colorbar": {
              "outlinewidth": 0,
              "ticks": ""
             }
            },
            "type": "scatterpolargl"
           }
          ],
          "scatterternary": [
           {
            "marker": {
             "colorbar": {
              "outlinewidth": 0,
              "ticks": ""
             }
            },
            "type": "scatterternary"
           }
          ],
          "surface": [
           {
            "colorbar": {
             "outlinewidth": 0,
             "ticks": ""
            },
            "colorscale": [
             [
              0,
              "#0d0887"
             ],
             [
              0.1111111111111111,
              "#46039f"
             ],
             [
              0.2222222222222222,
              "#7201a8"
             ],
             [
              0.3333333333333333,
              "#9c179e"
             ],
             [
              0.4444444444444444,
              "#bd3786"
             ],
             [
              0.5555555555555556,
              "#d8576b"
             ],
             [
              0.6666666666666666,
              "#ed7953"
             ],
             [
              0.7777777777777778,
              "#fb9f3a"
             ],
             [
              0.8888888888888888,
              "#fdca26"
             ],
             [
              1,
              "#f0f921"
             ]
            ],
            "type": "surface"
           }
          ],
          "table": [
           {
            "cells": {
             "fill": {
              "color": "#EBF0F8"
             },
             "line": {
              "color": "white"
             }
            },
            "header": {
             "fill": {
              "color": "#C8D4E3"
             },
             "line": {
              "color": "white"
             }
            },
            "type": "table"
           }
          ]
         },
         "layout": {
          "annotationdefaults": {
           "arrowcolor": "#2a3f5f",
           "arrowhead": 0,
           "arrowwidth": 1
          },
          "coloraxis": {
           "colorbar": {
            "outlinewidth": 0,
            "ticks": ""
           }
          },
          "colorscale": {
           "diverging": [
            [
             0,
             "#8e0152"
            ],
            [
             0.1,
             "#c51b7d"
            ],
            [
             0.2,
             "#de77ae"
            ],
            [
             0.3,
             "#f1b6da"
            ],
            [
             0.4,
             "#fde0ef"
            ],
            [
             0.5,
             "#f7f7f7"
            ],
            [
             0.6,
             "#e6f5d0"
            ],
            [
             0.7,
             "#b8e186"
            ],
            [
             0.8,
             "#7fbc41"
            ],
            [
             0.9,
             "#4d9221"
            ],
            [
             1,
             "#276419"
            ]
           ],
           "sequential": [
            [
             0,
             "#0d0887"
            ],
            [
             0.1111111111111111,
             "#46039f"
            ],
            [
             0.2222222222222222,
             "#7201a8"
            ],
            [
             0.3333333333333333,
             "#9c179e"
            ],
            [
             0.4444444444444444,
             "#bd3786"
            ],
            [
             0.5555555555555556,
             "#d8576b"
            ],
            [
             0.6666666666666666,
             "#ed7953"
            ],
            [
             0.7777777777777778,
             "#fb9f3a"
            ],
            [
             0.8888888888888888,
             "#fdca26"
            ],
            [
             1,
             "#f0f921"
            ]
           ],
           "sequentialminus": [
            [
             0,
             "#0d0887"
            ],
            [
             0.1111111111111111,
             "#46039f"
            ],
            [
             0.2222222222222222,
             "#7201a8"
            ],
            [
             0.3333333333333333,
             "#9c179e"
            ],
            [
             0.4444444444444444,
             "#bd3786"
            ],
            [
             0.5555555555555556,
             "#d8576b"
            ],
            [
             0.6666666666666666,
             "#ed7953"
            ],
            [
             0.7777777777777778,
             "#fb9f3a"
            ],
            [
             0.8888888888888888,
             "#fdca26"
            ],
            [
             1,
             "#f0f921"
            ]
           ]
          },
          "colorway": [
           "#636efa",
           "#EF553B",
           "#00cc96",
           "#ab63fa",
           "#FFA15A",
           "#19d3f3",
           "#FF6692",
           "#B6E880",
           "#FF97FF",
           "#FECB52"
          ],
          "font": {
           "color": "#2a3f5f"
          },
          "geo": {
           "bgcolor": "white",
           "lakecolor": "white",
           "landcolor": "#E5ECF6",
           "showlakes": true,
           "showland": true,
           "subunitcolor": "white"
          },
          "hoverlabel": {
           "align": "left"
          },
          "hovermode": "closest",
          "mapbox": {
           "style": "light"
          },
          "paper_bgcolor": "white",
          "plot_bgcolor": "#E5ECF6",
          "polar": {
           "angularaxis": {
            "gridcolor": "white",
            "linecolor": "white",
            "ticks": ""
           },
           "bgcolor": "#E5ECF6",
           "radialaxis": {
            "gridcolor": "white",
            "linecolor": "white",
            "ticks": ""
           }
          },
          "scene": {
           "xaxis": {
            "backgroundcolor": "#E5ECF6",
            "gridcolor": "white",
            "gridwidth": 2,
            "linecolor": "white",
            "showbackground": true,
            "ticks": "",
            "zerolinecolor": "white"
           },
           "yaxis": {
            "backgroundcolor": "#E5ECF6",
            "gridcolor": "white",
            "gridwidth": 2,
            "linecolor": "white",
            "showbackground": true,
            "ticks": "",
            "zerolinecolor": "white"
           },
           "zaxis": {
            "backgroundcolor": "#E5ECF6",
            "gridcolor": "white",
            "gridwidth": 2,
            "linecolor": "white",
            "showbackground": true,
            "ticks": "",
            "zerolinecolor": "white"
           }
          },
          "shapedefaults": {
           "line": {
            "color": "#2a3f5f"
           }
          },
          "ternary": {
           "aaxis": {
            "gridcolor": "white",
            "linecolor": "white",
            "ticks": ""
           },
           "baxis": {
            "gridcolor": "white",
            "linecolor": "white",
            "ticks": ""
           },
           "bgcolor": "#E5ECF6",
           "caxis": {
            "gridcolor": "white",
            "linecolor": "white",
            "ticks": ""
           }
          },
          "title": {
           "x": 0.05
          },
          "xaxis": {
           "automargin": true,
           "gridcolor": "white",
           "linecolor": "white",
           "ticks": "",
           "title": {
            "standoff": 15
           },
           "zerolinecolor": "white",
           "zerolinewidth": 2
          },
          "yaxis": {
           "automargin": true,
           "gridcolor": "white",
           "linecolor": "white",
           "ticks": "",
           "title": {
            "standoff": 15
           },
           "zerolinecolor": "white",
           "zerolinewidth": 2
          }
         }
        },
        "width": 800,
        "xaxis": {
         "anchor": "y",
         "domain": [
          0,
          1
         ],
         "range": [
          0,
          33710
         ],
         "title": {
          "text": "Active"
         }
        },
        "yaxis": {
         "anchor": "x",
         "domain": [
          0,
          1
         ],
         "title": {
          "text": "Country/Region"
         }
        }
       }
      },
      "text/html": [
       "<div>\n",
       "        \n",
       "        \n",
       "            <div id=\"d381711e-bc98-4e2a-98e0-7bf10220ba5c\" class=\"plotly-graph-div\" style=\"height:500px; width:800px;\"></div>\n",
       "            <script type=\"text/javascript\">\n",
       "                require([\"plotly\"], function(Plotly) {\n",
       "                    window.PLOTLYENV=window.PLOTLYENV || {};\n",
       "                    \n",
       "                if (document.getElementById(\"d381711e-bc98-4e2a-98e0-7bf10220ba5c\")) {\n",
       "                    Plotly.newPlot(\n",
       "                        'd381711e-bc98-4e2a-98e0-7bf10220ba5c',\n",
       "                        [{\"alignmentgroup\": \"True\", \"hoverlabel\": {\"namelength\": 0}, \"hovertemplate\": \"Active=%{text}<br>Country/Region=%{y}\", \"legendgroup\": \"\", \"marker\": {\"color\": \"#393e46\"}, \"name\": \"\", \"offsetgroup\": \"\", \"opacity\": 0.6, \"orientation\": \"h\", \"showlegend\": false, \"text\": [2503.0, 2985.0, 6789.0, 7562.0, 8106.0, 8892.0, 10837.0, 12194.0, 12206.0, 28710.0], \"textposition\": \"outside\", \"type\": \"bar\", \"x\": [2503, 2985, 6789, 7562, 8106, 8892, 10837, 12194, 12206, 28710], \"xaxis\": \"x\", \"y\": [\"United Kingdom\", \"Switzerland\", \"Korea, South\", \"US\", \"China\", \"France\", \"Iran\", \"Germany\", \"Spain\", \"Italy\"], \"yaxis\": \"y\"}],\n",
       "                        {\"barmode\": \"relative\", \"height\": 500, \"legend\": {\"tracegroupgap\": 0}, \"margin\": {\"t\": 60}, \"template\": {\"data\": {\"bar\": [{\"error_x\": {\"color\": \"#2a3f5f\"}, \"error_y\": {\"color\": \"#2a3f5f\"}, \"marker\": {\"line\": {\"color\": \"#E5ECF6\", \"width\": 0.5}}, \"type\": \"bar\"}], \"barpolar\": [{\"marker\": {\"line\": {\"color\": \"#E5ECF6\", \"width\": 0.5}}, \"type\": \"barpolar\"}], \"carpet\": [{\"aaxis\": {\"endlinecolor\": \"#2a3f5f\", \"gridcolor\": \"white\", \"linecolor\": \"white\", \"minorgridcolor\": \"white\", \"startlinecolor\": \"#2a3f5f\"}, \"baxis\": {\"endlinecolor\": \"#2a3f5f\", \"gridcolor\": \"white\", \"linecolor\": \"white\", \"minorgridcolor\": \"white\", \"startlinecolor\": \"#2a3f5f\"}, \"type\": \"carpet\"}], \"choropleth\": [{\"colorbar\": {\"outlinewidth\": 0, \"ticks\": \"\"}, \"type\": \"choropleth\"}], \"contour\": [{\"colorbar\": {\"outlinewidth\": 0, \"ticks\": \"\"}, \"colorscale\": [[0.0, \"#0d0887\"], [0.1111111111111111, \"#46039f\"], [0.2222222222222222, \"#7201a8\"], [0.3333333333333333, \"#9c179e\"], [0.4444444444444444, \"#bd3786\"], [0.5555555555555556, \"#d8576b\"], [0.6666666666666666, \"#ed7953\"], [0.7777777777777778, \"#fb9f3a\"], [0.8888888888888888, \"#fdca26\"], [1.0, \"#f0f921\"]], \"type\": \"contour\"}], \"contourcarpet\": [{\"colorbar\": {\"outlinewidth\": 0, \"ticks\": \"\"}, \"type\": \"contourcarpet\"}], \"heatmap\": [{\"colorbar\": {\"outlinewidth\": 0, \"ticks\": \"\"}, \"colorscale\": [[0.0, \"#0d0887\"], [0.1111111111111111, \"#46039f\"], [0.2222222222222222, \"#7201a8\"], [0.3333333333333333, \"#9c179e\"], [0.4444444444444444, \"#bd3786\"], [0.5555555555555556, \"#d8576b\"], [0.6666666666666666, \"#ed7953\"], [0.7777777777777778, \"#fb9f3a\"], [0.8888888888888888, \"#fdca26\"], [1.0, \"#f0f921\"]], \"type\": \"heatmap\"}], \"heatmapgl\": [{\"colorbar\": {\"outlinewidth\": 0, \"ticks\": \"\"}, \"colorscale\": [[0.0, \"#0d0887\"], [0.1111111111111111, \"#46039f\"], [0.2222222222222222, \"#7201a8\"], [0.3333333333333333, \"#9c179e\"], [0.4444444444444444, \"#bd3786\"], [0.5555555555555556, \"#d8576b\"], [0.6666666666666666, \"#ed7953\"], [0.7777777777777778, \"#fb9f3a\"], [0.8888888888888888, \"#fdca26\"], [1.0, \"#f0f921\"]], \"type\": \"heatmapgl\"}], \"histogram\": [{\"marker\": {\"colorbar\": {\"outlinewidth\": 0, \"ticks\": \"\"}}, \"type\": \"histogram\"}], \"histogram2d\": [{\"colorbar\": {\"outlinewidth\": 0, \"ticks\": \"\"}, \"colorscale\": [[0.0, \"#0d0887\"], [0.1111111111111111, \"#46039f\"], [0.2222222222222222, \"#7201a8\"], [0.3333333333333333, \"#9c179e\"], [0.4444444444444444, \"#bd3786\"], [0.5555555555555556, \"#d8576b\"], [0.6666666666666666, \"#ed7953\"], [0.7777777777777778, \"#fb9f3a\"], [0.8888888888888888, \"#fdca26\"], [1.0, \"#f0f921\"]], \"type\": \"histogram2d\"}], \"histogram2dcontour\": [{\"colorbar\": {\"outlinewidth\": 0, \"ticks\": \"\"}, \"colorscale\": [[0.0, \"#0d0887\"], [0.1111111111111111, \"#46039f\"], [0.2222222222222222, \"#7201a8\"], [0.3333333333333333, \"#9c179e\"], [0.4444444444444444, \"#bd3786\"], [0.5555555555555556, \"#d8576b\"], [0.6666666666666666, \"#ed7953\"], [0.7777777777777778, \"#fb9f3a\"], [0.8888888888888888, \"#fdca26\"], [1.0, \"#f0f921\"]], \"type\": \"histogram2dcontour\"}], \"mesh3d\": [{\"colorbar\": {\"outlinewidth\": 0, \"ticks\": \"\"}, \"type\": \"mesh3d\"}], \"parcoords\": [{\"line\": {\"colorbar\": {\"outlinewidth\": 0, \"ticks\": \"\"}}, \"type\": \"parcoords\"}], \"pie\": [{\"automargin\": true, \"type\": \"pie\"}], \"scatter\": [{\"marker\": {\"colorbar\": {\"outlinewidth\": 0, \"ticks\": \"\"}}, \"type\": \"scatter\"}], \"scatter3d\": [{\"line\": {\"colorbar\": {\"outlinewidth\": 0, \"ticks\": \"\"}}, \"marker\": {\"colorbar\": {\"outlinewidth\": 0, \"ticks\": \"\"}}, \"type\": \"scatter3d\"}], \"scattercarpet\": [{\"marker\": {\"colorbar\": {\"outlinewidth\": 0, \"ticks\": \"\"}}, \"type\": \"scattercarpet\"}], \"scattergeo\": [{\"marker\": {\"colorbar\": {\"outlinewidth\": 0, \"ticks\": \"\"}}, \"type\": \"scattergeo\"}], \"scattergl\": [{\"marker\": {\"colorbar\": {\"outlinewidth\": 0, \"ticks\": \"\"}}, \"type\": \"scattergl\"}], \"scattermapbox\": [{\"marker\": {\"colorbar\": {\"outlinewidth\": 0, \"ticks\": \"\"}}, \"type\": \"scattermapbox\"}], \"scatterpolar\": [{\"marker\": {\"colorbar\": {\"outlinewidth\": 0, \"ticks\": \"\"}}, \"type\": \"scatterpolar\"}], \"scatterpolargl\": [{\"marker\": {\"colorbar\": {\"outlinewidth\": 0, \"ticks\": \"\"}}, \"type\": \"scatterpolargl\"}], \"scatterternary\": [{\"marker\": {\"colorbar\": {\"outlinewidth\": 0, \"ticks\": \"\"}}, \"type\": \"scatterternary\"}], \"surface\": [{\"colorbar\": {\"outlinewidth\": 0, \"ticks\": \"\"}, \"colorscale\": [[0.0, \"#0d0887\"], [0.1111111111111111, \"#46039f\"], [0.2222222222222222, \"#7201a8\"], [0.3333333333333333, \"#9c179e\"], [0.4444444444444444, \"#bd3786\"], [0.5555555555555556, \"#d8576b\"], [0.6666666666666666, \"#ed7953\"], [0.7777777777777778, \"#fb9f3a\"], [0.8888888888888888, \"#fdca26\"], [1.0, \"#f0f921\"]], \"type\": \"surface\"}], \"table\": [{\"cells\": {\"fill\": {\"color\": \"#EBF0F8\"}, \"line\": {\"color\": \"white\"}}, \"header\": {\"fill\": {\"color\": \"#C8D4E3\"}, \"line\": {\"color\": \"white\"}}, \"type\": \"table\"}]}, \"layout\": {\"annotationdefaults\": {\"arrowcolor\": \"#2a3f5f\", \"arrowhead\": 0, \"arrowwidth\": 1}, \"coloraxis\": {\"colorbar\": {\"outlinewidth\": 0, \"ticks\": \"\"}}, \"colorscale\": {\"diverging\": [[0, \"#8e0152\"], [0.1, \"#c51b7d\"], [0.2, \"#de77ae\"], [0.3, \"#f1b6da\"], [0.4, \"#fde0ef\"], [0.5, \"#f7f7f7\"], [0.6, \"#e6f5d0\"], [0.7, \"#b8e186\"], [0.8, \"#7fbc41\"], [0.9, \"#4d9221\"], [1, \"#276419\"]], \"sequential\": [[0.0, \"#0d0887\"], [0.1111111111111111, \"#46039f\"], [0.2222222222222222, \"#7201a8\"], [0.3333333333333333, \"#9c179e\"], [0.4444444444444444, \"#bd3786\"], [0.5555555555555556, \"#d8576b\"], [0.6666666666666666, \"#ed7953\"], [0.7777777777777778, \"#fb9f3a\"], [0.8888888888888888, \"#fdca26\"], [1.0, \"#f0f921\"]], \"sequentialminus\": [[0.0, \"#0d0887\"], [0.1111111111111111, \"#46039f\"], [0.2222222222222222, \"#7201a8\"], [0.3333333333333333, \"#9c179e\"], [0.4444444444444444, \"#bd3786\"], [0.5555555555555556, \"#d8576b\"], [0.6666666666666666, \"#ed7953\"], [0.7777777777777778, \"#fb9f3a\"], [0.8888888888888888, \"#fdca26\"], [1.0, \"#f0f921\"]]}, \"colorway\": [\"#636efa\", \"#EF553B\", \"#00cc96\", \"#ab63fa\", \"#FFA15A\", \"#19d3f3\", \"#FF6692\", \"#B6E880\", \"#FF97FF\", \"#FECB52\"], \"font\": {\"color\": \"#2a3f5f\"}, \"geo\": {\"bgcolor\": \"white\", \"lakecolor\": \"white\", \"landcolor\": \"#E5ECF6\", \"showlakes\": true, \"showland\": true, \"subunitcolor\": \"white\"}, \"hoverlabel\": {\"align\": \"left\"}, \"hovermode\": \"closest\", \"mapbox\": {\"style\": \"light\"}, \"paper_bgcolor\": \"white\", \"plot_bgcolor\": \"#E5ECF6\", \"polar\": {\"angularaxis\": {\"gridcolor\": \"white\", \"linecolor\": \"white\", \"ticks\": \"\"}, \"bgcolor\": \"#E5ECF6\", \"radialaxis\": {\"gridcolor\": \"white\", \"linecolor\": \"white\", \"ticks\": \"\"}}, \"scene\": {\"xaxis\": {\"backgroundcolor\": \"#E5ECF6\", \"gridcolor\": \"white\", \"gridwidth\": 2, \"linecolor\": \"white\", \"showbackground\": true, \"ticks\": \"\", \"zerolinecolor\": \"white\"}, \"yaxis\": {\"backgroundcolor\": \"#E5ECF6\", \"gridcolor\": \"white\", \"gridwidth\": 2, \"linecolor\": \"white\", \"showbackground\": true, \"ticks\": \"\", \"zerolinecolor\": \"white\"}, \"zaxis\": {\"backgroundcolor\": \"#E5ECF6\", \"gridcolor\": \"white\", \"gridwidth\": 2, \"linecolor\": \"white\", \"showbackground\": true, \"ticks\": \"\", \"zerolinecolor\": \"white\"}}, \"shapedefaults\": {\"line\": {\"color\": \"#2a3f5f\"}}, \"ternary\": {\"aaxis\": {\"gridcolor\": \"white\", \"linecolor\": \"white\", \"ticks\": \"\"}, \"baxis\": {\"gridcolor\": \"white\", \"linecolor\": \"white\", \"ticks\": \"\"}, \"bgcolor\": \"#E5ECF6\", \"caxis\": {\"gridcolor\": \"white\", \"linecolor\": \"white\", \"ticks\": \"\"}}, \"title\": {\"x\": 0.05}, \"xaxis\": {\"automargin\": true, \"gridcolor\": \"white\", \"linecolor\": \"white\", \"ticks\": \"\", \"title\": {\"standoff\": 15}, \"zerolinecolor\": \"white\", \"zerolinewidth\": 2}, \"yaxis\": {\"automargin\": true, \"gridcolor\": \"white\", \"linecolor\": \"white\", \"ticks\": \"\", \"title\": {\"standoff\": 15}, \"zerolinecolor\": \"white\", \"zerolinewidth\": 2}}}, \"width\": 800, \"xaxis\": {\"anchor\": \"y\", \"domain\": [0.0, 1.0], \"range\": [0, 33710], \"title\": {\"text\": \"Active\"}}, \"yaxis\": {\"anchor\": \"x\", \"domain\": [0.0, 1.0], \"title\": {\"text\": \"Country/Region\"}}},\n",
       "                        {\"responsive\": true}\n",
       "                    ).then(function(){\n",
       "                            \n",
       "var gd = document.getElementById('d381711e-bc98-4e2a-98e0-7bf10220ba5c');\n",
       "var x = new MutationObserver(function (mutations, observer) {{\n",
       "        var display = window.getComputedStyle(gd).display;\n",
       "        if (!display || display === 'none') {{\n",
       "            console.log([gd, 'removed!']);\n",
       "            Plotly.purge(gd);\n",
       "            observer.disconnect();\n",
       "        }}\n",
       "}});\n",
       "\n",
       "// Listen for the removal of the full notebook cells\n",
       "var notebookContainer = gd.closest('#notebook-container');\n",
       "if (notebookContainer) {{\n",
       "    x.observe(notebookContainer, {childList: true});\n",
       "}}\n",
       "\n",
       "// Listen for the clearing of the current output cell\n",
       "var outputEl = gd.closest('.output');\n",
       "if (outputEl) {{\n",
       "    x.observe(outputEl, {childList: true});\n",
       "}}\n",
       "\n",
       "                        })\n",
       "                };\n",
       "                });\n",
       "            </script>\n",
       "        </div>"
      ]
     },
     "metadata": {},
     "output_type": "display_data"
    }
   ],
   "source": [
    "top10Active = px.bar(classement.sort_values('Active', ascending=False).head(10).sort_values('Active', ascending=True), \n",
    "             x=\"Active\", y=\"Country/Region\", text='Active', orientation='h', \n",
    "             width=800, height=500, range_x = [0, max(classement['Active'])+5000])\n",
    "top10Active.update_traces(marker_color=colorGrey, opacity=0.6, textposition='outside')\n",
    "top10Active.show()"
   ]
  },
  {
   "cell_type": "markdown",
   "metadata": {},
   "source": [
    "### Confirmés"
   ]
  },
  {
   "cell_type": "code",
   "execution_count": 68,
   "metadata": {},
   "outputs": [
    {
     "data": {
      "application/vnd.plotly.v1+json": {
       "config": {
        "plotlyServerURL": "https://plot.ly"
       },
       "data": [
        {
         "alignmentgroup": "True",
         "hoverlabel": {
          "namelength": 0
         },
         "hovertemplate": "Confirmed=%{text}<br>Country/Region=%{y}",
         "legendgroup": "",
         "marker": {
          "color": "#fe9801"
         },
         "name": "",
         "offsetgroup": "",
         "opacity": 0.6,
         "orientation": "h",
         "showlegend": false,
         "text": [
          2642,
          3028,
          7786,
          8413,
          9052,
          12327,
          13910,
          17361,
          35713,
          81102
         ],
         "textposition": "outside",
         "type": "bar",
         "x": [
          2642,
          3028,
          7786,
          8413,
          9052,
          12327,
          13910,
          17361,
          35713,
          81102
         ],
         "xaxis": "x",
         "y": [
          "United Kingdom",
          "Switzerland",
          "US",
          "Korea, South",
          "France",
          "Germany",
          "Spain",
          "Iran",
          "Italy",
          "China"
         ],
         "yaxis": "y"
        }
       ],
       "layout": {
        "barmode": "relative",
        "height": 500,
        "legend": {
         "tracegroupgap": 0
        },
        "margin": {
         "t": 60
        },
        "template": {
         "data": {
          "bar": [
           {
            "error_x": {
             "color": "#2a3f5f"
            },
            "error_y": {
             "color": "#2a3f5f"
            },
            "marker": {
             "line": {
              "color": "#E5ECF6",
              "width": 0.5
             }
            },
            "type": "bar"
           }
          ],
          "barpolar": [
           {
            "marker": {
             "line": {
              "color": "#E5ECF6",
              "width": 0.5
             }
            },
            "type": "barpolar"
           }
          ],
          "carpet": [
           {
            "aaxis": {
             "endlinecolor": "#2a3f5f",
             "gridcolor": "white",
             "linecolor": "white",
             "minorgridcolor": "white",
             "startlinecolor": "#2a3f5f"
            },
            "baxis": {
             "endlinecolor": "#2a3f5f",
             "gridcolor": "white",
             "linecolor": "white",
             "minorgridcolor": "white",
             "startlinecolor": "#2a3f5f"
            },
            "type": "carpet"
           }
          ],
          "choropleth": [
           {
            "colorbar": {
             "outlinewidth": 0,
             "ticks": ""
            },
            "type": "choropleth"
           }
          ],
          "contour": [
           {
            "colorbar": {
             "outlinewidth": 0,
             "ticks": ""
            },
            "colorscale": [
             [
              0,
              "#0d0887"
             ],
             [
              0.1111111111111111,
              "#46039f"
             ],
             [
              0.2222222222222222,
              "#7201a8"
             ],
             [
              0.3333333333333333,
              "#9c179e"
             ],
             [
              0.4444444444444444,
              "#bd3786"
             ],
             [
              0.5555555555555556,
              "#d8576b"
             ],
             [
              0.6666666666666666,
              "#ed7953"
             ],
             [
              0.7777777777777778,
              "#fb9f3a"
             ],
             [
              0.8888888888888888,
              "#fdca26"
             ],
             [
              1,
              "#f0f921"
             ]
            ],
            "type": "contour"
           }
          ],
          "contourcarpet": [
           {
            "colorbar": {
             "outlinewidth": 0,
             "ticks": ""
            },
            "type": "contourcarpet"
           }
          ],
          "heatmap": [
           {
            "colorbar": {
             "outlinewidth": 0,
             "ticks": ""
            },
            "colorscale": [
             [
              0,
              "#0d0887"
             ],
             [
              0.1111111111111111,
              "#46039f"
             ],
             [
              0.2222222222222222,
              "#7201a8"
             ],
             [
              0.3333333333333333,
              "#9c179e"
             ],
             [
              0.4444444444444444,
              "#bd3786"
             ],
             [
              0.5555555555555556,
              "#d8576b"
             ],
             [
              0.6666666666666666,
              "#ed7953"
             ],
             [
              0.7777777777777778,
              "#fb9f3a"
             ],
             [
              0.8888888888888888,
              "#fdca26"
             ],
             [
              1,
              "#f0f921"
             ]
            ],
            "type": "heatmap"
           }
          ],
          "heatmapgl": [
           {
            "colorbar": {
             "outlinewidth": 0,
             "ticks": ""
            },
            "colorscale": [
             [
              0,
              "#0d0887"
             ],
             [
              0.1111111111111111,
              "#46039f"
             ],
             [
              0.2222222222222222,
              "#7201a8"
             ],
             [
              0.3333333333333333,
              "#9c179e"
             ],
             [
              0.4444444444444444,
              "#bd3786"
             ],
             [
              0.5555555555555556,
              "#d8576b"
             ],
             [
              0.6666666666666666,
              "#ed7953"
             ],
             [
              0.7777777777777778,
              "#fb9f3a"
             ],
             [
              0.8888888888888888,
              "#fdca26"
             ],
             [
              1,
              "#f0f921"
             ]
            ],
            "type": "heatmapgl"
           }
          ],
          "histogram": [
           {
            "marker": {
             "colorbar": {
              "outlinewidth": 0,
              "ticks": ""
             }
            },
            "type": "histogram"
           }
          ],
          "histogram2d": [
           {
            "colorbar": {
             "outlinewidth": 0,
             "ticks": ""
            },
            "colorscale": [
             [
              0,
              "#0d0887"
             ],
             [
              0.1111111111111111,
              "#46039f"
             ],
             [
              0.2222222222222222,
              "#7201a8"
             ],
             [
              0.3333333333333333,
              "#9c179e"
             ],
             [
              0.4444444444444444,
              "#bd3786"
             ],
             [
              0.5555555555555556,
              "#d8576b"
             ],
             [
              0.6666666666666666,
              "#ed7953"
             ],
             [
              0.7777777777777778,
              "#fb9f3a"
             ],
             [
              0.8888888888888888,
              "#fdca26"
             ],
             [
              1,
              "#f0f921"
             ]
            ],
            "type": "histogram2d"
           }
          ],
          "histogram2dcontour": [
           {
            "colorbar": {
             "outlinewidth": 0,
             "ticks": ""
            },
            "colorscale": [
             [
              0,
              "#0d0887"
             ],
             [
              0.1111111111111111,
              "#46039f"
             ],
             [
              0.2222222222222222,
              "#7201a8"
             ],
             [
              0.3333333333333333,
              "#9c179e"
             ],
             [
              0.4444444444444444,
              "#bd3786"
             ],
             [
              0.5555555555555556,
              "#d8576b"
             ],
             [
              0.6666666666666666,
              "#ed7953"
             ],
             [
              0.7777777777777778,
              "#fb9f3a"
             ],
             [
              0.8888888888888888,
              "#fdca26"
             ],
             [
              1,
              "#f0f921"
             ]
            ],
            "type": "histogram2dcontour"
           }
          ],
          "mesh3d": [
           {
            "colorbar": {
             "outlinewidth": 0,
             "ticks": ""
            },
            "type": "mesh3d"
           }
          ],
          "parcoords": [
           {
            "line": {
             "colorbar": {
              "outlinewidth": 0,
              "ticks": ""
             }
            },
            "type": "parcoords"
           }
          ],
          "pie": [
           {
            "automargin": true,
            "type": "pie"
           }
          ],
          "scatter": [
           {
            "marker": {
             "colorbar": {
              "outlinewidth": 0,
              "ticks": ""
             }
            },
            "type": "scatter"
           }
          ],
          "scatter3d": [
           {
            "line": {
             "colorbar": {
              "outlinewidth": 0,
              "ticks": ""
             }
            },
            "marker": {
             "colorbar": {
              "outlinewidth": 0,
              "ticks": ""
             }
            },
            "type": "scatter3d"
           }
          ],
          "scattercarpet": [
           {
            "marker": {
             "colorbar": {
              "outlinewidth": 0,
              "ticks": ""
             }
            },
            "type": "scattercarpet"
           }
          ],
          "scattergeo": [
           {
            "marker": {
             "colorbar": {
              "outlinewidth": 0,
              "ticks": ""
             }
            },
            "type": "scattergeo"
           }
          ],
          "scattergl": [
           {
            "marker": {
             "colorbar": {
              "outlinewidth": 0,
              "ticks": ""
             }
            },
            "type": "scattergl"
           }
          ],
          "scattermapbox": [
           {
            "marker": {
             "colorbar": {
              "outlinewidth": 0,
              "ticks": ""
             }
            },
            "type": "scattermapbox"
           }
          ],
          "scatterpolar": [
           {
            "marker": {
             "colorbar": {
              "outlinewidth": 0,
              "ticks": ""
             }
            },
            "type": "scatterpolar"
           }
          ],
          "scatterpolargl": [
           {
            "marker": {
             "colorbar": {
              "outlinewidth": 0,
              "ticks": ""
             }
            },
            "type": "scatterpolargl"
           }
          ],
          "scatterternary": [
           {
            "marker": {
             "colorbar": {
              "outlinewidth": 0,
              "ticks": ""
             }
            },
            "type": "scatterternary"
           }
          ],
          "surface": [
           {
            "colorbar": {
             "outlinewidth": 0,
             "ticks": ""
            },
            "colorscale": [
             [
              0,
              "#0d0887"
             ],
             [
              0.1111111111111111,
              "#46039f"
             ],
             [
              0.2222222222222222,
              "#7201a8"
             ],
             [
              0.3333333333333333,
              "#9c179e"
             ],
             [
              0.4444444444444444,
              "#bd3786"
             ],
             [
              0.5555555555555556,
              "#d8576b"
             ],
             [
              0.6666666666666666,
              "#ed7953"
             ],
             [
              0.7777777777777778,
              "#fb9f3a"
             ],
             [
              0.8888888888888888,
              "#fdca26"
             ],
             [
              1,
              "#f0f921"
             ]
            ],
            "type": "surface"
           }
          ],
          "table": [
           {
            "cells": {
             "fill": {
              "color": "#EBF0F8"
             },
             "line": {
              "color": "white"
             }
            },
            "header": {
             "fill": {
              "color": "#C8D4E3"
             },
             "line": {
              "color": "white"
             }
            },
            "type": "table"
           }
          ]
         },
         "layout": {
          "annotationdefaults": {
           "arrowcolor": "#2a3f5f",
           "arrowhead": 0,
           "arrowwidth": 1
          },
          "coloraxis": {
           "colorbar": {
            "outlinewidth": 0,
            "ticks": ""
           }
          },
          "colorscale": {
           "diverging": [
            [
             0,
             "#8e0152"
            ],
            [
             0.1,
             "#c51b7d"
            ],
            [
             0.2,
             "#de77ae"
            ],
            [
             0.3,
             "#f1b6da"
            ],
            [
             0.4,
             "#fde0ef"
            ],
            [
             0.5,
             "#f7f7f7"
            ],
            [
             0.6,
             "#e6f5d0"
            ],
            [
             0.7,
             "#b8e186"
            ],
            [
             0.8,
             "#7fbc41"
            ],
            [
             0.9,
             "#4d9221"
            ],
            [
             1,
             "#276419"
            ]
           ],
           "sequential": [
            [
             0,
             "#0d0887"
            ],
            [
             0.1111111111111111,
             "#46039f"
            ],
            [
             0.2222222222222222,
             "#7201a8"
            ],
            [
             0.3333333333333333,
             "#9c179e"
            ],
            [
             0.4444444444444444,
             "#bd3786"
            ],
            [
             0.5555555555555556,
             "#d8576b"
            ],
            [
             0.6666666666666666,
             "#ed7953"
            ],
            [
             0.7777777777777778,
             "#fb9f3a"
            ],
            [
             0.8888888888888888,
             "#fdca26"
            ],
            [
             1,
             "#f0f921"
            ]
           ],
           "sequentialminus": [
            [
             0,
             "#0d0887"
            ],
            [
             0.1111111111111111,
             "#46039f"
            ],
            [
             0.2222222222222222,
             "#7201a8"
            ],
            [
             0.3333333333333333,
             "#9c179e"
            ],
            [
             0.4444444444444444,
             "#bd3786"
            ],
            [
             0.5555555555555556,
             "#d8576b"
            ],
            [
             0.6666666666666666,
             "#ed7953"
            ],
            [
             0.7777777777777778,
             "#fb9f3a"
            ],
            [
             0.8888888888888888,
             "#fdca26"
            ],
            [
             1,
             "#f0f921"
            ]
           ]
          },
          "colorway": [
           "#636efa",
           "#EF553B",
           "#00cc96",
           "#ab63fa",
           "#FFA15A",
           "#19d3f3",
           "#FF6692",
           "#B6E880",
           "#FF97FF",
           "#FECB52"
          ],
          "font": {
           "color": "#2a3f5f"
          },
          "geo": {
           "bgcolor": "white",
           "lakecolor": "white",
           "landcolor": "#E5ECF6",
           "showlakes": true,
           "showland": true,
           "subunitcolor": "white"
          },
          "hoverlabel": {
           "align": "left"
          },
          "hovermode": "closest",
          "mapbox": {
           "style": "light"
          },
          "paper_bgcolor": "white",
          "plot_bgcolor": "#E5ECF6",
          "polar": {
           "angularaxis": {
            "gridcolor": "white",
            "linecolor": "white",
            "ticks": ""
           },
           "bgcolor": "#E5ECF6",
           "radialaxis": {
            "gridcolor": "white",
            "linecolor": "white",
            "ticks": ""
           }
          },
          "scene": {
           "xaxis": {
            "backgroundcolor": "#E5ECF6",
            "gridcolor": "white",
            "gridwidth": 2,
            "linecolor": "white",
            "showbackground": true,
            "ticks": "",
            "zerolinecolor": "white"
           },
           "yaxis": {
            "backgroundcolor": "#E5ECF6",
            "gridcolor": "white",
            "gridwidth": 2,
            "linecolor": "white",
            "showbackground": true,
            "ticks": "",
            "zerolinecolor": "white"
           },
           "zaxis": {
            "backgroundcolor": "#E5ECF6",
            "gridcolor": "white",
            "gridwidth": 2,
            "linecolor": "white",
            "showbackground": true,
            "ticks": "",
            "zerolinecolor": "white"
           }
          },
          "shapedefaults": {
           "line": {
            "color": "#2a3f5f"
           }
          },
          "ternary": {
           "aaxis": {
            "gridcolor": "white",
            "linecolor": "white",
            "ticks": ""
           },
           "baxis": {
            "gridcolor": "white",
            "linecolor": "white",
            "ticks": ""
           },
           "bgcolor": "#E5ECF6",
           "caxis": {
            "gridcolor": "white",
            "linecolor": "white",
            "ticks": ""
           }
          },
          "title": {
           "x": 0.05
          },
          "xaxis": {
           "automargin": true,
           "gridcolor": "white",
           "linecolor": "white",
           "ticks": "",
           "title": {
            "standoff": 15
           },
           "zerolinecolor": "white",
           "zerolinewidth": 2
          },
          "yaxis": {
           "automargin": true,
           "gridcolor": "white",
           "linecolor": "white",
           "ticks": "",
           "title": {
            "standoff": 15
           },
           "zerolinecolor": "white",
           "zerolinewidth": 2
          }
         }
        },
        "width": 800,
        "xaxis": {
         "anchor": "y",
         "domain": [
          0,
          1
         ],
         "range": [
          0,
          89102
         ],
         "title": {
          "text": "Confirmed"
         }
        },
        "yaxis": {
         "anchor": "x",
         "domain": [
          0,
          1
         ],
         "title": {
          "text": "Country/Region"
         }
        }
       }
      },
      "text/html": [
       "<div>\n",
       "        \n",
       "        \n",
       "            <div id=\"61af060a-b007-4b6f-ae96-ea24ffeff766\" class=\"plotly-graph-div\" style=\"height:500px; width:800px;\"></div>\n",
       "            <script type=\"text/javascript\">\n",
       "                require([\"plotly\"], function(Plotly) {\n",
       "                    window.PLOTLYENV=window.PLOTLYENV || {};\n",
       "                    \n",
       "                if (document.getElementById(\"61af060a-b007-4b6f-ae96-ea24ffeff766\")) {\n",
       "                    Plotly.newPlot(\n",
       "                        '61af060a-b007-4b6f-ae96-ea24ffeff766',\n",
       "                        [{\"alignmentgroup\": \"True\", \"hoverlabel\": {\"namelength\": 0}, \"hovertemplate\": \"Confirmed=%{text}<br>Country/Region=%{y}\", \"legendgroup\": \"\", \"marker\": {\"color\": \"#fe9801\"}, \"name\": \"\", \"offsetgroup\": \"\", \"opacity\": 0.6, \"orientation\": \"h\", \"showlegend\": false, \"text\": [2642.0, 3028.0, 7786.0, 8413.0, 9052.0, 12327.0, 13910.0, 17361.0, 35713.0, 81102.0], \"textposition\": \"outside\", \"type\": \"bar\", \"x\": [2642, 3028, 7786, 8413, 9052, 12327, 13910, 17361, 35713, 81102], \"xaxis\": \"x\", \"y\": [\"United Kingdom\", \"Switzerland\", \"US\", \"Korea, South\", \"France\", \"Germany\", \"Spain\", \"Iran\", \"Italy\", \"China\"], \"yaxis\": \"y\"}],\n",
       "                        {\"barmode\": \"relative\", \"height\": 500, \"legend\": {\"tracegroupgap\": 0}, \"margin\": {\"t\": 60}, \"template\": {\"data\": {\"bar\": [{\"error_x\": {\"color\": \"#2a3f5f\"}, \"error_y\": {\"color\": \"#2a3f5f\"}, \"marker\": {\"line\": {\"color\": \"#E5ECF6\", \"width\": 0.5}}, \"type\": \"bar\"}], \"barpolar\": [{\"marker\": {\"line\": {\"color\": \"#E5ECF6\", \"width\": 0.5}}, \"type\": \"barpolar\"}], \"carpet\": [{\"aaxis\": {\"endlinecolor\": \"#2a3f5f\", \"gridcolor\": \"white\", \"linecolor\": \"white\", \"minorgridcolor\": \"white\", \"startlinecolor\": \"#2a3f5f\"}, \"baxis\": {\"endlinecolor\": \"#2a3f5f\", \"gridcolor\": \"white\", \"linecolor\": \"white\", \"minorgridcolor\": \"white\", \"startlinecolor\": \"#2a3f5f\"}, \"type\": \"carpet\"}], \"choropleth\": [{\"colorbar\": {\"outlinewidth\": 0, \"ticks\": \"\"}, \"type\": \"choropleth\"}], \"contour\": [{\"colorbar\": {\"outlinewidth\": 0, \"ticks\": \"\"}, \"colorscale\": [[0.0, \"#0d0887\"], [0.1111111111111111, \"#46039f\"], [0.2222222222222222, \"#7201a8\"], [0.3333333333333333, \"#9c179e\"], [0.4444444444444444, \"#bd3786\"], [0.5555555555555556, \"#d8576b\"], [0.6666666666666666, \"#ed7953\"], [0.7777777777777778, \"#fb9f3a\"], [0.8888888888888888, \"#fdca26\"], [1.0, \"#f0f921\"]], \"type\": \"contour\"}], \"contourcarpet\": [{\"colorbar\": {\"outlinewidth\": 0, \"ticks\": \"\"}, \"type\": \"contourcarpet\"}], \"heatmap\": [{\"colorbar\": {\"outlinewidth\": 0, \"ticks\": \"\"}, \"colorscale\": [[0.0, \"#0d0887\"], [0.1111111111111111, \"#46039f\"], [0.2222222222222222, \"#7201a8\"], [0.3333333333333333, \"#9c179e\"], [0.4444444444444444, \"#bd3786\"], [0.5555555555555556, \"#d8576b\"], [0.6666666666666666, \"#ed7953\"], [0.7777777777777778, \"#fb9f3a\"], [0.8888888888888888, \"#fdca26\"], [1.0, \"#f0f921\"]], \"type\": \"heatmap\"}], \"heatmapgl\": [{\"colorbar\": {\"outlinewidth\": 0, \"ticks\": \"\"}, \"colorscale\": [[0.0, \"#0d0887\"], [0.1111111111111111, \"#46039f\"], [0.2222222222222222, \"#7201a8\"], [0.3333333333333333, \"#9c179e\"], [0.4444444444444444, \"#bd3786\"], [0.5555555555555556, \"#d8576b\"], [0.6666666666666666, \"#ed7953\"], [0.7777777777777778, \"#fb9f3a\"], [0.8888888888888888, \"#fdca26\"], [1.0, \"#f0f921\"]], \"type\": \"heatmapgl\"}], \"histogram\": [{\"marker\": {\"colorbar\": {\"outlinewidth\": 0, \"ticks\": \"\"}}, \"type\": \"histogram\"}], \"histogram2d\": [{\"colorbar\": {\"outlinewidth\": 0, \"ticks\": \"\"}, \"colorscale\": [[0.0, \"#0d0887\"], [0.1111111111111111, \"#46039f\"], [0.2222222222222222, \"#7201a8\"], [0.3333333333333333, \"#9c179e\"], [0.4444444444444444, \"#bd3786\"], [0.5555555555555556, \"#d8576b\"], [0.6666666666666666, \"#ed7953\"], [0.7777777777777778, \"#fb9f3a\"], [0.8888888888888888, \"#fdca26\"], [1.0, \"#f0f921\"]], \"type\": \"histogram2d\"}], \"histogram2dcontour\": [{\"colorbar\": {\"outlinewidth\": 0, \"ticks\": \"\"}, \"colorscale\": [[0.0, \"#0d0887\"], [0.1111111111111111, \"#46039f\"], [0.2222222222222222, \"#7201a8\"], [0.3333333333333333, \"#9c179e\"], [0.4444444444444444, \"#bd3786\"], [0.5555555555555556, \"#d8576b\"], [0.6666666666666666, \"#ed7953\"], [0.7777777777777778, \"#fb9f3a\"], [0.8888888888888888, \"#fdca26\"], [1.0, \"#f0f921\"]], \"type\": \"histogram2dcontour\"}], \"mesh3d\": [{\"colorbar\": {\"outlinewidth\": 0, \"ticks\": \"\"}, \"type\": \"mesh3d\"}], \"parcoords\": [{\"line\": {\"colorbar\": {\"outlinewidth\": 0, \"ticks\": \"\"}}, \"type\": \"parcoords\"}], \"pie\": [{\"automargin\": true, \"type\": \"pie\"}], \"scatter\": [{\"marker\": {\"colorbar\": {\"outlinewidth\": 0, \"ticks\": \"\"}}, \"type\": \"scatter\"}], \"scatter3d\": [{\"line\": {\"colorbar\": {\"outlinewidth\": 0, \"ticks\": \"\"}}, \"marker\": {\"colorbar\": {\"outlinewidth\": 0, \"ticks\": \"\"}}, \"type\": \"scatter3d\"}], \"scattercarpet\": [{\"marker\": {\"colorbar\": {\"outlinewidth\": 0, \"ticks\": \"\"}}, \"type\": \"scattercarpet\"}], \"scattergeo\": [{\"marker\": {\"colorbar\": {\"outlinewidth\": 0, \"ticks\": \"\"}}, \"type\": \"scattergeo\"}], \"scattergl\": [{\"marker\": {\"colorbar\": {\"outlinewidth\": 0, \"ticks\": \"\"}}, \"type\": \"scattergl\"}], \"scattermapbox\": [{\"marker\": {\"colorbar\": {\"outlinewidth\": 0, \"ticks\": \"\"}}, \"type\": \"scattermapbox\"}], \"scatterpolar\": [{\"marker\": {\"colorbar\": {\"outlinewidth\": 0, \"ticks\": \"\"}}, \"type\": \"scatterpolar\"}], \"scatterpolargl\": [{\"marker\": {\"colorbar\": {\"outlinewidth\": 0, \"ticks\": \"\"}}, \"type\": \"scatterpolargl\"}], \"scatterternary\": [{\"marker\": {\"colorbar\": {\"outlinewidth\": 0, \"ticks\": \"\"}}, \"type\": \"scatterternary\"}], \"surface\": [{\"colorbar\": {\"outlinewidth\": 0, \"ticks\": \"\"}, \"colorscale\": [[0.0, \"#0d0887\"], [0.1111111111111111, \"#46039f\"], [0.2222222222222222, \"#7201a8\"], [0.3333333333333333, \"#9c179e\"], [0.4444444444444444, \"#bd3786\"], [0.5555555555555556, \"#d8576b\"], [0.6666666666666666, \"#ed7953\"], [0.7777777777777778, \"#fb9f3a\"], [0.8888888888888888, \"#fdca26\"], [1.0, \"#f0f921\"]], \"type\": \"surface\"}], \"table\": [{\"cells\": {\"fill\": {\"color\": \"#EBF0F8\"}, \"line\": {\"color\": \"white\"}}, \"header\": {\"fill\": {\"color\": \"#C8D4E3\"}, \"line\": {\"color\": \"white\"}}, \"type\": \"table\"}]}, \"layout\": {\"annotationdefaults\": {\"arrowcolor\": \"#2a3f5f\", \"arrowhead\": 0, \"arrowwidth\": 1}, \"coloraxis\": {\"colorbar\": {\"outlinewidth\": 0, \"ticks\": \"\"}}, \"colorscale\": {\"diverging\": [[0, \"#8e0152\"], [0.1, \"#c51b7d\"], [0.2, \"#de77ae\"], [0.3, \"#f1b6da\"], [0.4, \"#fde0ef\"], [0.5, \"#f7f7f7\"], [0.6, \"#e6f5d0\"], [0.7, \"#b8e186\"], [0.8, \"#7fbc41\"], [0.9, \"#4d9221\"], [1, \"#276419\"]], \"sequential\": [[0.0, \"#0d0887\"], [0.1111111111111111, \"#46039f\"], [0.2222222222222222, \"#7201a8\"], [0.3333333333333333, \"#9c179e\"], [0.4444444444444444, \"#bd3786\"], [0.5555555555555556, \"#d8576b\"], [0.6666666666666666, \"#ed7953\"], [0.7777777777777778, \"#fb9f3a\"], [0.8888888888888888, \"#fdca26\"], [1.0, \"#f0f921\"]], \"sequentialminus\": [[0.0, \"#0d0887\"], [0.1111111111111111, \"#46039f\"], [0.2222222222222222, \"#7201a8\"], [0.3333333333333333, \"#9c179e\"], [0.4444444444444444, \"#bd3786\"], [0.5555555555555556, \"#d8576b\"], [0.6666666666666666, \"#ed7953\"], [0.7777777777777778, \"#fb9f3a\"], [0.8888888888888888, \"#fdca26\"], [1.0, \"#f0f921\"]]}, \"colorway\": [\"#636efa\", \"#EF553B\", \"#00cc96\", \"#ab63fa\", \"#FFA15A\", \"#19d3f3\", \"#FF6692\", \"#B6E880\", \"#FF97FF\", \"#FECB52\"], \"font\": {\"color\": \"#2a3f5f\"}, \"geo\": {\"bgcolor\": \"white\", \"lakecolor\": \"white\", \"landcolor\": \"#E5ECF6\", \"showlakes\": true, \"showland\": true, \"subunitcolor\": \"white\"}, \"hoverlabel\": {\"align\": \"left\"}, \"hovermode\": \"closest\", \"mapbox\": {\"style\": \"light\"}, \"paper_bgcolor\": \"white\", \"plot_bgcolor\": \"#E5ECF6\", \"polar\": {\"angularaxis\": {\"gridcolor\": \"white\", \"linecolor\": \"white\", \"ticks\": \"\"}, \"bgcolor\": \"#E5ECF6\", \"radialaxis\": {\"gridcolor\": \"white\", \"linecolor\": \"white\", \"ticks\": \"\"}}, \"scene\": {\"xaxis\": {\"backgroundcolor\": \"#E5ECF6\", \"gridcolor\": \"white\", \"gridwidth\": 2, \"linecolor\": \"white\", \"showbackground\": true, \"ticks\": \"\", \"zerolinecolor\": \"white\"}, \"yaxis\": {\"backgroundcolor\": \"#E5ECF6\", \"gridcolor\": \"white\", \"gridwidth\": 2, \"linecolor\": \"white\", \"showbackground\": true, \"ticks\": \"\", \"zerolinecolor\": \"white\"}, \"zaxis\": {\"backgroundcolor\": \"#E5ECF6\", \"gridcolor\": \"white\", \"gridwidth\": 2, \"linecolor\": \"white\", \"showbackground\": true, \"ticks\": \"\", \"zerolinecolor\": \"white\"}}, \"shapedefaults\": {\"line\": {\"color\": \"#2a3f5f\"}}, \"ternary\": {\"aaxis\": {\"gridcolor\": \"white\", \"linecolor\": \"white\", \"ticks\": \"\"}, \"baxis\": {\"gridcolor\": \"white\", \"linecolor\": \"white\", \"ticks\": \"\"}, \"bgcolor\": \"#E5ECF6\", \"caxis\": {\"gridcolor\": \"white\", \"linecolor\": \"white\", \"ticks\": \"\"}}, \"title\": {\"x\": 0.05}, \"xaxis\": {\"automargin\": true, \"gridcolor\": \"white\", \"linecolor\": \"white\", \"ticks\": \"\", \"title\": {\"standoff\": 15}, \"zerolinecolor\": \"white\", \"zerolinewidth\": 2}, \"yaxis\": {\"automargin\": true, \"gridcolor\": \"white\", \"linecolor\": \"white\", \"ticks\": \"\", \"title\": {\"standoff\": 15}, \"zerolinecolor\": \"white\", \"zerolinewidth\": 2}}}, \"width\": 800, \"xaxis\": {\"anchor\": \"y\", \"domain\": [0.0, 1.0], \"range\": [0, 89102], \"title\": {\"text\": \"Confirmed\"}}, \"yaxis\": {\"anchor\": \"x\", \"domain\": [0.0, 1.0], \"title\": {\"text\": \"Country/Region\"}}},\n",
       "                        {\"responsive\": true}\n",
       "                    ).then(function(){\n",
       "                            \n",
       "var gd = document.getElementById('61af060a-b007-4b6f-ae96-ea24ffeff766');\n",
       "var x = new MutationObserver(function (mutations, observer) {{\n",
       "        var display = window.getComputedStyle(gd).display;\n",
       "        if (!display || display === 'none') {{\n",
       "            console.log([gd, 'removed!']);\n",
       "            Plotly.purge(gd);\n",
       "            observer.disconnect();\n",
       "        }}\n",
       "}});\n",
       "\n",
       "// Listen for the removal of the full notebook cells\n",
       "var notebookContainer = gd.closest('#notebook-container');\n",
       "if (notebookContainer) {{\n",
       "    x.observe(notebookContainer, {childList: true});\n",
       "}}\n",
       "\n",
       "// Listen for the clearing of the current output cell\n",
       "var outputEl = gd.closest('.output');\n",
       "if (outputEl) {{\n",
       "    x.observe(outputEl, {childList: true});\n",
       "}}\n",
       "\n",
       "                        })\n",
       "                };\n",
       "                });\n",
       "            </script>\n",
       "        </div>"
      ]
     },
     "metadata": {},
     "output_type": "display_data"
    }
   ],
   "source": [
    "top10Confirmed = px.bar(classement.sort_values('Confirmed', ascending=False).head(10).sort_values('Confirmed', ascending=True), \n",
    "             x=\"Confirmed\", y=\"Country/Region\", text='Confirmed', orientation='h', \n",
    "             width=800, height=500, range_x = [0, max(classement['Confirmed'])+8000])\n",
    "top10Confirmed.update_traces(marker_color=colorYellow, opacity=0.6, textposition='outside')\n",
    "top10Confirmed.show()\n"
   ]
  },
  {
   "cell_type": "markdown",
   "metadata": {},
   "source": [
    "### Soignés"
   ]
  },
  {
   "cell_type": "code",
   "execution_count": 86,
   "metadata": {},
   "outputs": [
    {
     "data": {
      "application/vnd.plotly.v1+json": {
       "config": {
        "plotlyServerURL": "https://plot.ly"
       },
       "data": [
        {
         "alignmentgroup": "True",
         "hoverlabel": {
          "namelength": 0
         },
         "hovertemplate": "Recovered=%{text}<br>Country/Region=%{y}",
         "legendgroup": "",
         "marker": {
          "color": "#21bf73"
         },
         "name": "",
         "offsetgroup": "",
         "opacity": 0.6,
         "orientation": "h",
         "showlegend": false,
         "text": [
          105,
          106,
          114,
          144,
          325,
          1081,
          1540,
          4025,
          5389,
          69755
         ],
         "textposition": "outside",
         "type": "bar",
         "x": [
          105,
          106,
          114,
          144,
          325,
          1081,
          1540,
          4025,
          5389,
          69755
         ],
         "xaxis": "x",
         "y": [
          "Germany",
          "US",
          "Singapore",
          "Japan",
          "Cruise Ship",
          "Spain",
          "Korea, South",
          "Italy",
          "Iran",
          "China"
         ],
         "yaxis": "y"
        }
       ],
       "layout": {
        "barmode": "relative",
        "height": 500,
        "legend": {
         "tracegroupgap": 0
        },
        "margin": {
         "t": 60
        },
        "template": {
         "data": {
          "bar": [
           {
            "error_x": {
             "color": "#2a3f5f"
            },
            "error_y": {
             "color": "#2a3f5f"
            },
            "marker": {
             "line": {
              "color": "#E5ECF6",
              "width": 0.5
             }
            },
            "type": "bar"
           }
          ],
          "barpolar": [
           {
            "marker": {
             "line": {
              "color": "#E5ECF6",
              "width": 0.5
             }
            },
            "type": "barpolar"
           }
          ],
          "carpet": [
           {
            "aaxis": {
             "endlinecolor": "#2a3f5f",
             "gridcolor": "white",
             "linecolor": "white",
             "minorgridcolor": "white",
             "startlinecolor": "#2a3f5f"
            },
            "baxis": {
             "endlinecolor": "#2a3f5f",
             "gridcolor": "white",
             "linecolor": "white",
             "minorgridcolor": "white",
             "startlinecolor": "#2a3f5f"
            },
            "type": "carpet"
           }
          ],
          "choropleth": [
           {
            "colorbar": {
             "outlinewidth": 0,
             "ticks": ""
            },
            "type": "choropleth"
           }
          ],
          "contour": [
           {
            "colorbar": {
             "outlinewidth": 0,
             "ticks": ""
            },
            "colorscale": [
             [
              0,
              "#0d0887"
             ],
             [
              0.1111111111111111,
              "#46039f"
             ],
             [
              0.2222222222222222,
              "#7201a8"
             ],
             [
              0.3333333333333333,
              "#9c179e"
             ],
             [
              0.4444444444444444,
              "#bd3786"
             ],
             [
              0.5555555555555556,
              "#d8576b"
             ],
             [
              0.6666666666666666,
              "#ed7953"
             ],
             [
              0.7777777777777778,
              "#fb9f3a"
             ],
             [
              0.8888888888888888,
              "#fdca26"
             ],
             [
              1,
              "#f0f921"
             ]
            ],
            "type": "contour"
           }
          ],
          "contourcarpet": [
           {
            "colorbar": {
             "outlinewidth": 0,
             "ticks": ""
            },
            "type": "contourcarpet"
           }
          ],
          "heatmap": [
           {
            "colorbar": {
             "outlinewidth": 0,
             "ticks": ""
            },
            "colorscale": [
             [
              0,
              "#0d0887"
             ],
             [
              0.1111111111111111,
              "#46039f"
             ],
             [
              0.2222222222222222,
              "#7201a8"
             ],
             [
              0.3333333333333333,
              "#9c179e"
             ],
             [
              0.4444444444444444,
              "#bd3786"
             ],
             [
              0.5555555555555556,
              "#d8576b"
             ],
             [
              0.6666666666666666,
              "#ed7953"
             ],
             [
              0.7777777777777778,
              "#fb9f3a"
             ],
             [
              0.8888888888888888,
              "#fdca26"
             ],
             [
              1,
              "#f0f921"
             ]
            ],
            "type": "heatmap"
           }
          ],
          "heatmapgl": [
           {
            "colorbar": {
             "outlinewidth": 0,
             "ticks": ""
            },
            "colorscale": [
             [
              0,
              "#0d0887"
             ],
             [
              0.1111111111111111,
              "#46039f"
             ],
             [
              0.2222222222222222,
              "#7201a8"
             ],
             [
              0.3333333333333333,
              "#9c179e"
             ],
             [
              0.4444444444444444,
              "#bd3786"
             ],
             [
              0.5555555555555556,
              "#d8576b"
             ],
             [
              0.6666666666666666,
              "#ed7953"
             ],
             [
              0.7777777777777778,
              "#fb9f3a"
             ],
             [
              0.8888888888888888,
              "#fdca26"
             ],
             [
              1,
              "#f0f921"
             ]
            ],
            "type": "heatmapgl"
           }
          ],
          "histogram": [
           {
            "marker": {
             "colorbar": {
              "outlinewidth": 0,
              "ticks": ""
             }
            },
            "type": "histogram"
           }
          ],
          "histogram2d": [
           {
            "colorbar": {
             "outlinewidth": 0,
             "ticks": ""
            },
            "colorscale": [
             [
              0,
              "#0d0887"
             ],
             [
              0.1111111111111111,
              "#46039f"
             ],
             [
              0.2222222222222222,
              "#7201a8"
             ],
             [
              0.3333333333333333,
              "#9c179e"
             ],
             [
              0.4444444444444444,
              "#bd3786"
             ],
             [
              0.5555555555555556,
              "#d8576b"
             ],
             [
              0.6666666666666666,
              "#ed7953"
             ],
             [
              0.7777777777777778,
              "#fb9f3a"
             ],
             [
              0.8888888888888888,
              "#fdca26"
             ],
             [
              1,
              "#f0f921"
             ]
            ],
            "type": "histogram2d"
           }
          ],
          "histogram2dcontour": [
           {
            "colorbar": {
             "outlinewidth": 0,
             "ticks": ""
            },
            "colorscale": [
             [
              0,
              "#0d0887"
             ],
             [
              0.1111111111111111,
              "#46039f"
             ],
             [
              0.2222222222222222,
              "#7201a8"
             ],
             [
              0.3333333333333333,
              "#9c179e"
             ],
             [
              0.4444444444444444,
              "#bd3786"
             ],
             [
              0.5555555555555556,
              "#d8576b"
             ],
             [
              0.6666666666666666,
              "#ed7953"
             ],
             [
              0.7777777777777778,
              "#fb9f3a"
             ],
             [
              0.8888888888888888,
              "#fdca26"
             ],
             [
              1,
              "#f0f921"
             ]
            ],
            "type": "histogram2dcontour"
           }
          ],
          "mesh3d": [
           {
            "colorbar": {
             "outlinewidth": 0,
             "ticks": ""
            },
            "type": "mesh3d"
           }
          ],
          "parcoords": [
           {
            "line": {
             "colorbar": {
              "outlinewidth": 0,
              "ticks": ""
             }
            },
            "type": "parcoords"
           }
          ],
          "pie": [
           {
            "automargin": true,
            "type": "pie"
           }
          ],
          "scatter": [
           {
            "marker": {
             "colorbar": {
              "outlinewidth": 0,
              "ticks": ""
             }
            },
            "type": "scatter"
           }
          ],
          "scatter3d": [
           {
            "line": {
             "colorbar": {
              "outlinewidth": 0,
              "ticks": ""
             }
            },
            "marker": {
             "colorbar": {
              "outlinewidth": 0,
              "ticks": ""
             }
            },
            "type": "scatter3d"
           }
          ],
          "scattercarpet": [
           {
            "marker": {
             "colorbar": {
              "outlinewidth": 0,
              "ticks": ""
             }
            },
            "type": "scattercarpet"
           }
          ],
          "scattergeo": [
           {
            "marker": {
             "colorbar": {
              "outlinewidth": 0,
              "ticks": ""
             }
            },
            "type": "scattergeo"
           }
          ],
          "scattergl": [
           {
            "marker": {
             "colorbar": {
              "outlinewidth": 0,
              "ticks": ""
             }
            },
            "type": "scattergl"
           }
          ],
          "scattermapbox": [
           {
            "marker": {
             "colorbar": {
              "outlinewidth": 0,
              "ticks": ""
             }
            },
            "type": "scattermapbox"
           }
          ],
          "scatterpolar": [
           {
            "marker": {
             "colorbar": {
              "outlinewidth": 0,
              "ticks": ""
             }
            },
            "type": "scatterpolar"
           }
          ],
          "scatterpolargl": [
           {
            "marker": {
             "colorbar": {
              "outlinewidth": 0,
              "ticks": ""
             }
            },
            "type": "scatterpolargl"
           }
          ],
          "scatterternary": [
           {
            "marker": {
             "colorbar": {
              "outlinewidth": 0,
              "ticks": ""
             }
            },
            "type": "scatterternary"
           }
          ],
          "surface": [
           {
            "colorbar": {
             "outlinewidth": 0,
             "ticks": ""
            },
            "colorscale": [
             [
              0,
              "#0d0887"
             ],
             [
              0.1111111111111111,
              "#46039f"
             ],
             [
              0.2222222222222222,
              "#7201a8"
             ],
             [
              0.3333333333333333,
              "#9c179e"
             ],
             [
              0.4444444444444444,
              "#bd3786"
             ],
             [
              0.5555555555555556,
              "#d8576b"
             ],
             [
              0.6666666666666666,
              "#ed7953"
             ],
             [
              0.7777777777777778,
              "#fb9f3a"
             ],
             [
              0.8888888888888888,
              "#fdca26"
             ],
             [
              1,
              "#f0f921"
             ]
            ],
            "type": "surface"
           }
          ],
          "table": [
           {
            "cells": {
             "fill": {
              "color": "#EBF0F8"
             },
             "line": {
              "color": "white"
             }
            },
            "header": {
             "fill": {
              "color": "#C8D4E3"
             },
             "line": {
              "color": "white"
             }
            },
            "type": "table"
           }
          ]
         },
         "layout": {
          "annotationdefaults": {
           "arrowcolor": "#2a3f5f",
           "arrowhead": 0,
           "arrowwidth": 1
          },
          "coloraxis": {
           "colorbar": {
            "outlinewidth": 0,
            "ticks": ""
           }
          },
          "colorscale": {
           "diverging": [
            [
             0,
             "#8e0152"
            ],
            [
             0.1,
             "#c51b7d"
            ],
            [
             0.2,
             "#de77ae"
            ],
            [
             0.3,
             "#f1b6da"
            ],
            [
             0.4,
             "#fde0ef"
            ],
            [
             0.5,
             "#f7f7f7"
            ],
            [
             0.6,
             "#e6f5d0"
            ],
            [
             0.7,
             "#b8e186"
            ],
            [
             0.8,
             "#7fbc41"
            ],
            [
             0.9,
             "#4d9221"
            ],
            [
             1,
             "#276419"
            ]
           ],
           "sequential": [
            [
             0,
             "#0d0887"
            ],
            [
             0.1111111111111111,
             "#46039f"
            ],
            [
             0.2222222222222222,
             "#7201a8"
            ],
            [
             0.3333333333333333,
             "#9c179e"
            ],
            [
             0.4444444444444444,
             "#bd3786"
            ],
            [
             0.5555555555555556,
             "#d8576b"
            ],
            [
             0.6666666666666666,
             "#ed7953"
            ],
            [
             0.7777777777777778,
             "#fb9f3a"
            ],
            [
             0.8888888888888888,
             "#fdca26"
            ],
            [
             1,
             "#f0f921"
            ]
           ],
           "sequentialminus": [
            [
             0,
             "#0d0887"
            ],
            [
             0.1111111111111111,
             "#46039f"
            ],
            [
             0.2222222222222222,
             "#7201a8"
            ],
            [
             0.3333333333333333,
             "#9c179e"
            ],
            [
             0.4444444444444444,
             "#bd3786"
            ],
            [
             0.5555555555555556,
             "#d8576b"
            ],
            [
             0.6666666666666666,
             "#ed7953"
            ],
            [
             0.7777777777777778,
             "#fb9f3a"
            ],
            [
             0.8888888888888888,
             "#fdca26"
            ],
            [
             1,
             "#f0f921"
            ]
           ]
          },
          "colorway": [
           "#636efa",
           "#EF553B",
           "#00cc96",
           "#ab63fa",
           "#FFA15A",
           "#19d3f3",
           "#FF6692",
           "#B6E880",
           "#FF97FF",
           "#FECB52"
          ],
          "font": {
           "color": "#2a3f5f"
          },
          "geo": {
           "bgcolor": "white",
           "lakecolor": "white",
           "landcolor": "#E5ECF6",
           "showlakes": true,
           "showland": true,
           "subunitcolor": "white"
          },
          "hoverlabel": {
           "align": "left"
          },
          "hovermode": "closest",
          "mapbox": {
           "style": "light"
          },
          "paper_bgcolor": "white",
          "plot_bgcolor": "#E5ECF6",
          "polar": {
           "angularaxis": {
            "gridcolor": "white",
            "linecolor": "white",
            "ticks": ""
           },
           "bgcolor": "#E5ECF6",
           "radialaxis": {
            "gridcolor": "white",
            "linecolor": "white",
            "ticks": ""
           }
          },
          "scene": {
           "xaxis": {
            "backgroundcolor": "#E5ECF6",
            "gridcolor": "white",
            "gridwidth": 2,
            "linecolor": "white",
            "showbackground": true,
            "ticks": "",
            "zerolinecolor": "white"
           },
           "yaxis": {
            "backgroundcolor": "#E5ECF6",
            "gridcolor": "white",
            "gridwidth": 2,
            "linecolor": "white",
            "showbackground": true,
            "ticks": "",
            "zerolinecolor": "white"
           },
           "zaxis": {
            "backgroundcolor": "#E5ECF6",
            "gridcolor": "white",
            "gridwidth": 2,
            "linecolor": "white",
            "showbackground": true,
            "ticks": "",
            "zerolinecolor": "white"
           }
          },
          "shapedefaults": {
           "line": {
            "color": "#2a3f5f"
           }
          },
          "ternary": {
           "aaxis": {
            "gridcolor": "white",
            "linecolor": "white",
            "ticks": ""
           },
           "baxis": {
            "gridcolor": "white",
            "linecolor": "white",
            "ticks": ""
           },
           "bgcolor": "#E5ECF6",
           "caxis": {
            "gridcolor": "white",
            "linecolor": "white",
            "ticks": ""
           }
          },
          "title": {
           "x": 0.05
          },
          "xaxis": {
           "automargin": true,
           "gridcolor": "white",
           "linecolor": "white",
           "ticks": "",
           "title": {
            "standoff": 15
           },
           "zerolinecolor": "white",
           "zerolinewidth": 2
          },
          "yaxis": {
           "automargin": true,
           "gridcolor": "white",
           "linecolor": "white",
           "ticks": "",
           "title": {
            "standoff": 15
           },
           "zerolinecolor": "white",
           "zerolinewidth": 2
          }
         }
        },
        "width": 800,
        "xaxis": {
         "anchor": "y",
         "domain": [
          0,
          1
         ],
         "range": [
          0,
          79755
         ],
         "title": {
          "text": "Recovered"
         }
        },
        "yaxis": {
         "anchor": "x",
         "domain": [
          0,
          1
         ],
         "title": {
          "text": "Country/Region"
         }
        }
       }
      },
      "text/html": [
       "<div>\n",
       "        \n",
       "        \n",
       "            <div id=\"172c66f5-7a6c-4452-966b-92aa5e86493b\" class=\"plotly-graph-div\" style=\"height:500px; width:800px;\"></div>\n",
       "            <script type=\"text/javascript\">\n",
       "                require([\"plotly\"], function(Plotly) {\n",
       "                    window.PLOTLYENV=window.PLOTLYENV || {};\n",
       "                    \n",
       "                if (document.getElementById(\"172c66f5-7a6c-4452-966b-92aa5e86493b\")) {\n",
       "                    Plotly.newPlot(\n",
       "                        '172c66f5-7a6c-4452-966b-92aa5e86493b',\n",
       "                        [{\"alignmentgroup\": \"True\", \"hoverlabel\": {\"namelength\": 0}, \"hovertemplate\": \"Recovered=%{text}<br>Country/Region=%{y}\", \"legendgroup\": \"\", \"marker\": {\"color\": \"#21bf73\"}, \"name\": \"\", \"offsetgroup\": \"\", \"opacity\": 0.6, \"orientation\": \"h\", \"showlegend\": false, \"text\": [105.0, 106.0, 114.0, 144.0, 325.0, 1081.0, 1540.0, 4025.0, 5389.0, 69755.0], \"textposition\": \"outside\", \"type\": \"bar\", \"x\": [105, 106, 114, 144, 325, 1081, 1540, 4025, 5389, 69755], \"xaxis\": \"x\", \"y\": [\"Germany\", \"US\", \"Singapore\", \"Japan\", \"Cruise Ship\", \"Spain\", \"Korea, South\", \"Italy\", \"Iran\", \"China\"], \"yaxis\": \"y\"}],\n",
       "                        {\"barmode\": \"relative\", \"height\": 500, \"legend\": {\"tracegroupgap\": 0}, \"margin\": {\"t\": 60}, \"template\": {\"data\": {\"bar\": [{\"error_x\": {\"color\": \"#2a3f5f\"}, \"error_y\": {\"color\": \"#2a3f5f\"}, \"marker\": {\"line\": {\"color\": \"#E5ECF6\", \"width\": 0.5}}, \"type\": \"bar\"}], \"barpolar\": [{\"marker\": {\"line\": {\"color\": \"#E5ECF6\", \"width\": 0.5}}, \"type\": \"barpolar\"}], \"carpet\": [{\"aaxis\": {\"endlinecolor\": \"#2a3f5f\", \"gridcolor\": \"white\", \"linecolor\": \"white\", \"minorgridcolor\": \"white\", \"startlinecolor\": \"#2a3f5f\"}, \"baxis\": {\"endlinecolor\": \"#2a3f5f\", \"gridcolor\": \"white\", \"linecolor\": \"white\", \"minorgridcolor\": \"white\", \"startlinecolor\": \"#2a3f5f\"}, \"type\": \"carpet\"}], \"choropleth\": [{\"colorbar\": {\"outlinewidth\": 0, \"ticks\": \"\"}, \"type\": \"choropleth\"}], \"contour\": [{\"colorbar\": {\"outlinewidth\": 0, \"ticks\": \"\"}, \"colorscale\": [[0.0, \"#0d0887\"], [0.1111111111111111, \"#46039f\"], [0.2222222222222222, \"#7201a8\"], [0.3333333333333333, \"#9c179e\"], [0.4444444444444444, \"#bd3786\"], [0.5555555555555556, \"#d8576b\"], [0.6666666666666666, \"#ed7953\"], [0.7777777777777778, \"#fb9f3a\"], [0.8888888888888888, \"#fdca26\"], [1.0, \"#f0f921\"]], \"type\": \"contour\"}], \"contourcarpet\": [{\"colorbar\": {\"outlinewidth\": 0, \"ticks\": \"\"}, \"type\": \"contourcarpet\"}], \"heatmap\": [{\"colorbar\": {\"outlinewidth\": 0, \"ticks\": \"\"}, \"colorscale\": [[0.0, \"#0d0887\"], [0.1111111111111111, \"#46039f\"], [0.2222222222222222, \"#7201a8\"], [0.3333333333333333, \"#9c179e\"], [0.4444444444444444, \"#bd3786\"], [0.5555555555555556, \"#d8576b\"], [0.6666666666666666, \"#ed7953\"], [0.7777777777777778, \"#fb9f3a\"], [0.8888888888888888, \"#fdca26\"], [1.0, \"#f0f921\"]], \"type\": \"heatmap\"}], \"heatmapgl\": [{\"colorbar\": {\"outlinewidth\": 0, \"ticks\": \"\"}, \"colorscale\": [[0.0, \"#0d0887\"], [0.1111111111111111, \"#46039f\"], [0.2222222222222222, \"#7201a8\"], [0.3333333333333333, \"#9c179e\"], [0.4444444444444444, \"#bd3786\"], [0.5555555555555556, \"#d8576b\"], [0.6666666666666666, \"#ed7953\"], [0.7777777777777778, \"#fb9f3a\"], [0.8888888888888888, \"#fdca26\"], [1.0, \"#f0f921\"]], \"type\": \"heatmapgl\"}], \"histogram\": [{\"marker\": {\"colorbar\": {\"outlinewidth\": 0, \"ticks\": \"\"}}, \"type\": \"histogram\"}], \"histogram2d\": [{\"colorbar\": {\"outlinewidth\": 0, \"ticks\": \"\"}, \"colorscale\": [[0.0, \"#0d0887\"], [0.1111111111111111, \"#46039f\"], [0.2222222222222222, \"#7201a8\"], [0.3333333333333333, \"#9c179e\"], [0.4444444444444444, \"#bd3786\"], [0.5555555555555556, \"#d8576b\"], [0.6666666666666666, \"#ed7953\"], [0.7777777777777778, \"#fb9f3a\"], [0.8888888888888888, \"#fdca26\"], [1.0, \"#f0f921\"]], \"type\": \"histogram2d\"}], \"histogram2dcontour\": [{\"colorbar\": {\"outlinewidth\": 0, \"ticks\": \"\"}, \"colorscale\": [[0.0, \"#0d0887\"], [0.1111111111111111, \"#46039f\"], [0.2222222222222222, \"#7201a8\"], [0.3333333333333333, \"#9c179e\"], [0.4444444444444444, \"#bd3786\"], [0.5555555555555556, \"#d8576b\"], [0.6666666666666666, \"#ed7953\"], [0.7777777777777778, \"#fb9f3a\"], [0.8888888888888888, \"#fdca26\"], [1.0, \"#f0f921\"]], \"type\": \"histogram2dcontour\"}], \"mesh3d\": [{\"colorbar\": {\"outlinewidth\": 0, \"ticks\": \"\"}, \"type\": \"mesh3d\"}], \"parcoords\": [{\"line\": {\"colorbar\": {\"outlinewidth\": 0, \"ticks\": \"\"}}, \"type\": \"parcoords\"}], \"pie\": [{\"automargin\": true, \"type\": \"pie\"}], \"scatter\": [{\"marker\": {\"colorbar\": {\"outlinewidth\": 0, \"ticks\": \"\"}}, \"type\": \"scatter\"}], \"scatter3d\": [{\"line\": {\"colorbar\": {\"outlinewidth\": 0, \"ticks\": \"\"}}, \"marker\": {\"colorbar\": {\"outlinewidth\": 0, \"ticks\": \"\"}}, \"type\": \"scatter3d\"}], \"scattercarpet\": [{\"marker\": {\"colorbar\": {\"outlinewidth\": 0, \"ticks\": \"\"}}, \"type\": \"scattercarpet\"}], \"scattergeo\": [{\"marker\": {\"colorbar\": {\"outlinewidth\": 0, \"ticks\": \"\"}}, \"type\": \"scattergeo\"}], \"scattergl\": [{\"marker\": {\"colorbar\": {\"outlinewidth\": 0, \"ticks\": \"\"}}, \"type\": \"scattergl\"}], \"scattermapbox\": [{\"marker\": {\"colorbar\": {\"outlinewidth\": 0, \"ticks\": \"\"}}, \"type\": \"scattermapbox\"}], \"scatterpolar\": [{\"marker\": {\"colorbar\": {\"outlinewidth\": 0, \"ticks\": \"\"}}, \"type\": \"scatterpolar\"}], \"scatterpolargl\": [{\"marker\": {\"colorbar\": {\"outlinewidth\": 0, \"ticks\": \"\"}}, \"type\": \"scatterpolargl\"}], \"scatterternary\": [{\"marker\": {\"colorbar\": {\"outlinewidth\": 0, \"ticks\": \"\"}}, \"type\": \"scatterternary\"}], \"surface\": [{\"colorbar\": {\"outlinewidth\": 0, \"ticks\": \"\"}, \"colorscale\": [[0.0, \"#0d0887\"], [0.1111111111111111, \"#46039f\"], [0.2222222222222222, \"#7201a8\"], [0.3333333333333333, \"#9c179e\"], [0.4444444444444444, \"#bd3786\"], [0.5555555555555556, \"#d8576b\"], [0.6666666666666666, \"#ed7953\"], [0.7777777777777778, \"#fb9f3a\"], [0.8888888888888888, \"#fdca26\"], [1.0, \"#f0f921\"]], \"type\": \"surface\"}], \"table\": [{\"cells\": {\"fill\": {\"color\": \"#EBF0F8\"}, \"line\": {\"color\": \"white\"}}, \"header\": {\"fill\": {\"color\": \"#C8D4E3\"}, \"line\": {\"color\": \"white\"}}, \"type\": \"table\"}]}, \"layout\": {\"annotationdefaults\": {\"arrowcolor\": \"#2a3f5f\", \"arrowhead\": 0, \"arrowwidth\": 1}, \"coloraxis\": {\"colorbar\": {\"outlinewidth\": 0, \"ticks\": \"\"}}, \"colorscale\": {\"diverging\": [[0, \"#8e0152\"], [0.1, \"#c51b7d\"], [0.2, \"#de77ae\"], [0.3, \"#f1b6da\"], [0.4, \"#fde0ef\"], [0.5, \"#f7f7f7\"], [0.6, \"#e6f5d0\"], [0.7, \"#b8e186\"], [0.8, \"#7fbc41\"], [0.9, \"#4d9221\"], [1, \"#276419\"]], \"sequential\": [[0.0, \"#0d0887\"], [0.1111111111111111, \"#46039f\"], [0.2222222222222222, \"#7201a8\"], [0.3333333333333333, \"#9c179e\"], [0.4444444444444444, \"#bd3786\"], [0.5555555555555556, \"#d8576b\"], [0.6666666666666666, \"#ed7953\"], [0.7777777777777778, \"#fb9f3a\"], [0.8888888888888888, \"#fdca26\"], [1.0, \"#f0f921\"]], \"sequentialminus\": [[0.0, \"#0d0887\"], [0.1111111111111111, \"#46039f\"], [0.2222222222222222, \"#7201a8\"], [0.3333333333333333, \"#9c179e\"], [0.4444444444444444, \"#bd3786\"], [0.5555555555555556, \"#d8576b\"], [0.6666666666666666, \"#ed7953\"], [0.7777777777777778, \"#fb9f3a\"], [0.8888888888888888, \"#fdca26\"], [1.0, \"#f0f921\"]]}, \"colorway\": [\"#636efa\", \"#EF553B\", \"#00cc96\", \"#ab63fa\", \"#FFA15A\", \"#19d3f3\", \"#FF6692\", \"#B6E880\", \"#FF97FF\", \"#FECB52\"], \"font\": {\"color\": \"#2a3f5f\"}, \"geo\": {\"bgcolor\": \"white\", \"lakecolor\": \"white\", \"landcolor\": \"#E5ECF6\", \"showlakes\": true, \"showland\": true, \"subunitcolor\": \"white\"}, \"hoverlabel\": {\"align\": \"left\"}, \"hovermode\": \"closest\", \"mapbox\": {\"style\": \"light\"}, \"paper_bgcolor\": \"white\", \"plot_bgcolor\": \"#E5ECF6\", \"polar\": {\"angularaxis\": {\"gridcolor\": \"white\", \"linecolor\": \"white\", \"ticks\": \"\"}, \"bgcolor\": \"#E5ECF6\", \"radialaxis\": {\"gridcolor\": \"white\", \"linecolor\": \"white\", \"ticks\": \"\"}}, \"scene\": {\"xaxis\": {\"backgroundcolor\": \"#E5ECF6\", \"gridcolor\": \"white\", \"gridwidth\": 2, \"linecolor\": \"white\", \"showbackground\": true, \"ticks\": \"\", \"zerolinecolor\": \"white\"}, \"yaxis\": {\"backgroundcolor\": \"#E5ECF6\", \"gridcolor\": \"white\", \"gridwidth\": 2, \"linecolor\": \"white\", \"showbackground\": true, \"ticks\": \"\", \"zerolinecolor\": \"white\"}, \"zaxis\": {\"backgroundcolor\": \"#E5ECF6\", \"gridcolor\": \"white\", \"gridwidth\": 2, \"linecolor\": \"white\", \"showbackground\": true, \"ticks\": \"\", \"zerolinecolor\": \"white\"}}, \"shapedefaults\": {\"line\": {\"color\": \"#2a3f5f\"}}, \"ternary\": {\"aaxis\": {\"gridcolor\": \"white\", \"linecolor\": \"white\", \"ticks\": \"\"}, \"baxis\": {\"gridcolor\": \"white\", \"linecolor\": \"white\", \"ticks\": \"\"}, \"bgcolor\": \"#E5ECF6\", \"caxis\": {\"gridcolor\": \"white\", \"linecolor\": \"white\", \"ticks\": \"\"}}, \"title\": {\"x\": 0.05}, \"xaxis\": {\"automargin\": true, \"gridcolor\": \"white\", \"linecolor\": \"white\", \"ticks\": \"\", \"title\": {\"standoff\": 15}, \"zerolinecolor\": \"white\", \"zerolinewidth\": 2}, \"yaxis\": {\"automargin\": true, \"gridcolor\": \"white\", \"linecolor\": \"white\", \"ticks\": \"\", \"title\": {\"standoff\": 15}, \"zerolinecolor\": \"white\", \"zerolinewidth\": 2}}}, \"width\": 800, \"xaxis\": {\"anchor\": \"y\", \"domain\": [0.0, 1.0], \"range\": [0, 79755], \"title\": {\"text\": \"Recovered\"}}, \"yaxis\": {\"anchor\": \"x\", \"domain\": [0.0, 1.0], \"title\": {\"text\": \"Country/Region\"}}},\n",
       "                        {\"responsive\": true}\n",
       "                    ).then(function(){\n",
       "                            \n",
       "var gd = document.getElementById('172c66f5-7a6c-4452-966b-92aa5e86493b');\n",
       "var x = new MutationObserver(function (mutations, observer) {{\n",
       "        var display = window.getComputedStyle(gd).display;\n",
       "        if (!display || display === 'none') {{\n",
       "            console.log([gd, 'removed!']);\n",
       "            Plotly.purge(gd);\n",
       "            observer.disconnect();\n",
       "        }}\n",
       "}});\n",
       "\n",
       "// Listen for the removal of the full notebook cells\n",
       "var notebookContainer = gd.closest('#notebook-container');\n",
       "if (notebookContainer) {{\n",
       "    x.observe(notebookContainer, {childList: true});\n",
       "}}\n",
       "\n",
       "// Listen for the clearing of the current output cell\n",
       "var outputEl = gd.closest('.output');\n",
       "if (outputEl) {{\n",
       "    x.observe(outputEl, {childList: true});\n",
       "}}\n",
       "\n",
       "                        })\n",
       "                };\n",
       "                });\n",
       "            </script>\n",
       "        </div>"
      ]
     },
     "metadata": {},
     "output_type": "display_data"
    }
   ],
   "source": [
    "top10Recovered = px.bar(classement.sort_values('Recovered', ascending=False).head(10).sort_values('Recovered', ascending=True), \n",
    "             x=\"Recovered\", y=\"Country/Region\", text='Recovered', orientation='h', \n",
    "             width=800, height=500, range_x = [0, max(classement['Recovered'])+10000])\n",
    "top10Recovered.update_traces(marker_color=colorCyan, opacity=0.6, textposition='outside')\n",
    "top10Recovered.show()"
   ]
  },
  {
   "cell_type": "markdown",
   "metadata": {},
   "source": [
    "### Taux mortalité pour 100 cas confirmés"
   ]
  },
  {
   "cell_type": "code",
   "execution_count": 88,
   "metadata": {},
   "outputs": [
    {
     "data": {
      "application/vnd.plotly.v1+json": {
       "config": {
        "plotlyServerURL": "https://plot.ly"
       },
       "data": [
        {
         "alignmentgroup": "True",
         "hoverlabel": {
          "namelength": 0
         },
         "hovertemplate": "Mortality Rate=%{text}<br>Country/Region=%{y}",
         "legendgroup": "",
         "marker": {
          "color": "#ff2e63"
         },
         "name": "",
         "offsetgroup": "",
         "opacity": 0.6,
         "orientation": "h",
         "showlegend": false,
         "text": [
          1.92,
          1.99,
          2.26,
          2.73,
          2.82,
          3.06,
          3.26,
          4,
          4.48,
          6.54,
          7.32,
          8.34,
          8.37,
          9.24,
          9.41
         ],
         "textposition": "outside",
         "type": "bar",
         "x": [
          1.92,
          1.99,
          2.26,
          2.73,
          2.82,
          3.06,
          3.26,
          4,
          4.48,
          6.54,
          7.32,
          8.34,
          8.37,
          9.24,
          9.41
         ],
         "xaxis": "x",
         "y": [
          "India",
          "Poland",
          "Lebanon",
          "United Kingdom",
          "Netherlands",
          "Egypt",
          "Japan",
          "China",
          "Spain",
          "Iran",
          "Iraq",
          "Italy",
          "Indonesia",
          "San Marino",
          "Philippines"
         ],
         "yaxis": "y"
        }
       ],
       "layout": {
        "barmode": "relative",
        "height": 500,
        "legend": {
         "tracegroupgap": 0
        },
        "margin": {
         "t": 60
        },
        "template": {
         "data": {
          "bar": [
           {
            "error_x": {
             "color": "#2a3f5f"
            },
            "error_y": {
             "color": "#2a3f5f"
            },
            "marker": {
             "line": {
              "color": "#E5ECF6",
              "width": 0.5
             }
            },
            "type": "bar"
           }
          ],
          "barpolar": [
           {
            "marker": {
             "line": {
              "color": "#E5ECF6",
              "width": 0.5
             }
            },
            "type": "barpolar"
           }
          ],
          "carpet": [
           {
            "aaxis": {
             "endlinecolor": "#2a3f5f",
             "gridcolor": "white",
             "linecolor": "white",
             "minorgridcolor": "white",
             "startlinecolor": "#2a3f5f"
            },
            "baxis": {
             "endlinecolor": "#2a3f5f",
             "gridcolor": "white",
             "linecolor": "white",
             "minorgridcolor": "white",
             "startlinecolor": "#2a3f5f"
            },
            "type": "carpet"
           }
          ],
          "choropleth": [
           {
            "colorbar": {
             "outlinewidth": 0,
             "ticks": ""
            },
            "type": "choropleth"
           }
          ],
          "contour": [
           {
            "colorbar": {
             "outlinewidth": 0,
             "ticks": ""
            },
            "colorscale": [
             [
              0,
              "#0d0887"
             ],
             [
              0.1111111111111111,
              "#46039f"
             ],
             [
              0.2222222222222222,
              "#7201a8"
             ],
             [
              0.3333333333333333,
              "#9c179e"
             ],
             [
              0.4444444444444444,
              "#bd3786"
             ],
             [
              0.5555555555555556,
              "#d8576b"
             ],
             [
              0.6666666666666666,
              "#ed7953"
             ],
             [
              0.7777777777777778,
              "#fb9f3a"
             ],
             [
              0.8888888888888888,
              "#fdca26"
             ],
             [
              1,
              "#f0f921"
             ]
            ],
            "type": "contour"
           }
          ],
          "contourcarpet": [
           {
            "colorbar": {
             "outlinewidth": 0,
             "ticks": ""
            },
            "type": "contourcarpet"
           }
          ],
          "heatmap": [
           {
            "colorbar": {
             "outlinewidth": 0,
             "ticks": ""
            },
            "colorscale": [
             [
              0,
              "#0d0887"
             ],
             [
              0.1111111111111111,
              "#46039f"
             ],
             [
              0.2222222222222222,
              "#7201a8"
             ],
             [
              0.3333333333333333,
              "#9c179e"
             ],
             [
              0.4444444444444444,
              "#bd3786"
             ],
             [
              0.5555555555555556,
              "#d8576b"
             ],
             [
              0.6666666666666666,
              "#ed7953"
             ],
             [
              0.7777777777777778,
              "#fb9f3a"
             ],
             [
              0.8888888888888888,
              "#fdca26"
             ],
             [
              1,
              "#f0f921"
             ]
            ],
            "type": "heatmap"
           }
          ],
          "heatmapgl": [
           {
            "colorbar": {
             "outlinewidth": 0,
             "ticks": ""
            },
            "colorscale": [
             [
              0,
              "#0d0887"
             ],
             [
              0.1111111111111111,
              "#46039f"
             ],
             [
              0.2222222222222222,
              "#7201a8"
             ],
             [
              0.3333333333333333,
              "#9c179e"
             ],
             [
              0.4444444444444444,
              "#bd3786"
             ],
             [
              0.5555555555555556,
              "#d8576b"
             ],
             [
              0.6666666666666666,
              "#ed7953"
             ],
             [
              0.7777777777777778,
              "#fb9f3a"
             ],
             [
              0.8888888888888888,
              "#fdca26"
             ],
             [
              1,
              "#f0f921"
             ]
            ],
            "type": "heatmapgl"
           }
          ],
          "histogram": [
           {
            "marker": {
             "colorbar": {
              "outlinewidth": 0,
              "ticks": ""
             }
            },
            "type": "histogram"
           }
          ],
          "histogram2d": [
           {
            "colorbar": {
             "outlinewidth": 0,
             "ticks": ""
            },
            "colorscale": [
             [
              0,
              "#0d0887"
             ],
             [
              0.1111111111111111,
              "#46039f"
             ],
             [
              0.2222222222222222,
              "#7201a8"
             ],
             [
              0.3333333333333333,
              "#9c179e"
             ],
             [
              0.4444444444444444,
              "#bd3786"
             ],
             [
              0.5555555555555556,
              "#d8576b"
             ],
             [
              0.6666666666666666,
              "#ed7953"
             ],
             [
              0.7777777777777778,
              "#fb9f3a"
             ],
             [
              0.8888888888888888,
              "#fdca26"
             ],
             [
              1,
              "#f0f921"
             ]
            ],
            "type": "histogram2d"
           }
          ],
          "histogram2dcontour": [
           {
            "colorbar": {
             "outlinewidth": 0,
             "ticks": ""
            },
            "colorscale": [
             [
              0,
              "#0d0887"
             ],
             [
              0.1111111111111111,
              "#46039f"
             ],
             [
              0.2222222222222222,
              "#7201a8"
             ],
             [
              0.3333333333333333,
              "#9c179e"
             ],
             [
              0.4444444444444444,
              "#bd3786"
             ],
             [
              0.5555555555555556,
              "#d8576b"
             ],
             [
              0.6666666666666666,
              "#ed7953"
             ],
             [
              0.7777777777777778,
              "#fb9f3a"
             ],
             [
              0.8888888888888888,
              "#fdca26"
             ],
             [
              1,
              "#f0f921"
             ]
            ],
            "type": "histogram2dcontour"
           }
          ],
          "mesh3d": [
           {
            "colorbar": {
             "outlinewidth": 0,
             "ticks": ""
            },
            "type": "mesh3d"
           }
          ],
          "parcoords": [
           {
            "line": {
             "colorbar": {
              "outlinewidth": 0,
              "ticks": ""
             }
            },
            "type": "parcoords"
           }
          ],
          "pie": [
           {
            "automargin": true,
            "type": "pie"
           }
          ],
          "scatter": [
           {
            "marker": {
             "colorbar": {
              "outlinewidth": 0,
              "ticks": ""
             }
            },
            "type": "scatter"
           }
          ],
          "scatter3d": [
           {
            "line": {
             "colorbar": {
              "outlinewidth": 0,
              "ticks": ""
             }
            },
            "marker": {
             "colorbar": {
              "outlinewidth": 0,
              "ticks": ""
             }
            },
            "type": "scatter3d"
           }
          ],
          "scattercarpet": [
           {
            "marker": {
             "colorbar": {
              "outlinewidth": 0,
              "ticks": ""
             }
            },
            "type": "scattercarpet"
           }
          ],
          "scattergeo": [
           {
            "marker": {
             "colorbar": {
              "outlinewidth": 0,
              "ticks": ""
             }
            },
            "type": "scattergeo"
           }
          ],
          "scattergl": [
           {
            "marker": {
             "colorbar": {
              "outlinewidth": 0,
              "ticks": ""
             }
            },
            "type": "scattergl"
           }
          ],
          "scattermapbox": [
           {
            "marker": {
             "colorbar": {
              "outlinewidth": 0,
              "ticks": ""
             }
            },
            "type": "scattermapbox"
           }
          ],
          "scatterpolar": [
           {
            "marker": {
             "colorbar": {
              "outlinewidth": 0,
              "ticks": ""
             }
            },
            "type": "scatterpolar"
           }
          ],
          "scatterpolargl": [
           {
            "marker": {
             "colorbar": {
              "outlinewidth": 0,
              "ticks": ""
             }
            },
            "type": "scatterpolargl"
           }
          ],
          "scatterternary": [
           {
            "marker": {
             "colorbar": {
              "outlinewidth": 0,
              "ticks": ""
             }
            },
            "type": "scatterternary"
           }
          ],
          "surface": [
           {
            "colorbar": {
             "outlinewidth": 0,
             "ticks": ""
            },
            "colorscale": [
             [
              0,
              "#0d0887"
             ],
             [
              0.1111111111111111,
              "#46039f"
             ],
             [
              0.2222222222222222,
              "#7201a8"
             ],
             [
              0.3333333333333333,
              "#9c179e"
             ],
             [
              0.4444444444444444,
              "#bd3786"
             ],
             [
              0.5555555555555556,
              "#d8576b"
             ],
             [
              0.6666666666666666,
              "#ed7953"
             ],
             [
              0.7777777777777778,
              "#fb9f3a"
             ],
             [
              0.8888888888888888,
              "#fdca26"
             ],
             [
              1,
              "#f0f921"
             ]
            ],
            "type": "surface"
           }
          ],
          "table": [
           {
            "cells": {
             "fill": {
              "color": "#EBF0F8"
             },
             "line": {
              "color": "white"
             }
            },
            "header": {
             "fill": {
              "color": "#C8D4E3"
             },
             "line": {
              "color": "white"
             }
            },
            "type": "table"
           }
          ]
         },
         "layout": {
          "annotationdefaults": {
           "arrowcolor": "#2a3f5f",
           "arrowhead": 0,
           "arrowwidth": 1
          },
          "coloraxis": {
           "colorbar": {
            "outlinewidth": 0,
            "ticks": ""
           }
          },
          "colorscale": {
           "diverging": [
            [
             0,
             "#8e0152"
            ],
            [
             0.1,
             "#c51b7d"
            ],
            [
             0.2,
             "#de77ae"
            ],
            [
             0.3,
             "#f1b6da"
            ],
            [
             0.4,
             "#fde0ef"
            ],
            [
             0.5,
             "#f7f7f7"
            ],
            [
             0.6,
             "#e6f5d0"
            ],
            [
             0.7,
             "#b8e186"
            ],
            [
             0.8,
             "#7fbc41"
            ],
            [
             0.9,
             "#4d9221"
            ],
            [
             1,
             "#276419"
            ]
           ],
           "sequential": [
            [
             0,
             "#0d0887"
            ],
            [
             0.1111111111111111,
             "#46039f"
            ],
            [
             0.2222222222222222,
             "#7201a8"
            ],
            [
             0.3333333333333333,
             "#9c179e"
            ],
            [
             0.4444444444444444,
             "#bd3786"
            ],
            [
             0.5555555555555556,
             "#d8576b"
            ],
            [
             0.6666666666666666,
             "#ed7953"
            ],
            [
             0.7777777777777778,
             "#fb9f3a"
            ],
            [
             0.8888888888888888,
             "#fdca26"
            ],
            [
             1,
             "#f0f921"
            ]
           ],
           "sequentialminus": [
            [
             0,
             "#0d0887"
            ],
            [
             0.1111111111111111,
             "#46039f"
            ],
            [
             0.2222222222222222,
             "#7201a8"
            ],
            [
             0.3333333333333333,
             "#9c179e"
            ],
            [
             0.4444444444444444,
             "#bd3786"
            ],
            [
             0.5555555555555556,
             "#d8576b"
            ],
            [
             0.6666666666666666,
             "#ed7953"
            ],
            [
             0.7777777777777778,
             "#fb9f3a"
            ],
            [
             0.8888888888888888,
             "#fdca26"
            ],
            [
             1,
             "#f0f921"
            ]
           ]
          },
          "colorway": [
           "#636efa",
           "#EF553B",
           "#00cc96",
           "#ab63fa",
           "#FFA15A",
           "#19d3f3",
           "#FF6692",
           "#B6E880",
           "#FF97FF",
           "#FECB52"
          ],
          "font": {
           "color": "#2a3f5f"
          },
          "geo": {
           "bgcolor": "white",
           "lakecolor": "white",
           "landcolor": "#E5ECF6",
           "showlakes": true,
           "showland": true,
           "subunitcolor": "white"
          },
          "hoverlabel": {
           "align": "left"
          },
          "hovermode": "closest",
          "mapbox": {
           "style": "light"
          },
          "paper_bgcolor": "white",
          "plot_bgcolor": "#E5ECF6",
          "polar": {
           "angularaxis": {
            "gridcolor": "white",
            "linecolor": "white",
            "ticks": ""
           },
           "bgcolor": "#E5ECF6",
           "radialaxis": {
            "gridcolor": "white",
            "linecolor": "white",
            "ticks": ""
           }
          },
          "scene": {
           "xaxis": {
            "backgroundcolor": "#E5ECF6",
            "gridcolor": "white",
            "gridwidth": 2,
            "linecolor": "white",
            "showbackground": true,
            "ticks": "",
            "zerolinecolor": "white"
           },
           "yaxis": {
            "backgroundcolor": "#E5ECF6",
            "gridcolor": "white",
            "gridwidth": 2,
            "linecolor": "white",
            "showbackground": true,
            "ticks": "",
            "zerolinecolor": "white"
           },
           "zaxis": {
            "backgroundcolor": "#E5ECF6",
            "gridcolor": "white",
            "gridwidth": 2,
            "linecolor": "white",
            "showbackground": true,
            "ticks": "",
            "zerolinecolor": "white"
           }
          },
          "shapedefaults": {
           "line": {
            "color": "#2a3f5f"
           }
          },
          "ternary": {
           "aaxis": {
            "gridcolor": "white",
            "linecolor": "white",
            "ticks": ""
           },
           "baxis": {
            "gridcolor": "white",
            "linecolor": "white",
            "ticks": ""
           },
           "bgcolor": "#E5ECF6",
           "caxis": {
            "gridcolor": "white",
            "linecolor": "white",
            "ticks": ""
           }
          },
          "title": {
           "x": 0.05
          },
          "xaxis": {
           "automargin": true,
           "gridcolor": "white",
           "linecolor": "white",
           "ticks": "",
           "title": {
            "standoff": 15
           },
           "zerolinecolor": "white",
           "zerolinewidth": 2
          },
          "yaxis": {
           "automargin": true,
           "gridcolor": "white",
           "linecolor": "white",
           "ticks": "",
           "title": {
            "standoff": 15
           },
           "zerolinecolor": "white",
           "zerolinewidth": 2
          }
         }
        },
        "width": 800,
        "xaxis": {
         "anchor": "y",
         "domain": [
          0,
          1
         ],
         "range": [
          0,
          10
         ],
         "title": {
          "text": "Mortality Rate"
         }
        },
        "yaxis": {
         "anchor": "x",
         "domain": [
          0,
          1
         ],
         "title": {
          "text": "Country/Region"
         }
        }
       }
      },
      "text/html": [
       "<div>\n",
       "        \n",
       "        \n",
       "            <div id=\"b1731177-1e6a-4ce6-96a8-e2b3e411b2ad\" class=\"plotly-graph-div\" style=\"height:500px; width:800px;\"></div>\n",
       "            <script type=\"text/javascript\">\n",
       "                require([\"plotly\"], function(Plotly) {\n",
       "                    window.PLOTLYENV=window.PLOTLYENV || {};\n",
       "                    \n",
       "                if (document.getElementById(\"b1731177-1e6a-4ce6-96a8-e2b3e411b2ad\")) {\n",
       "                    Plotly.newPlot(\n",
       "                        'b1731177-1e6a-4ce6-96a8-e2b3e411b2ad',\n",
       "                        [{\"alignmentgroup\": \"True\", \"hoverlabel\": {\"namelength\": 0}, \"hovertemplate\": \"Mortality Rate=%{text}<br>Country/Region=%{y}\", \"legendgroup\": \"\", \"marker\": {\"color\": \"#ff2e63\"}, \"name\": \"\", \"offsetgroup\": \"\", \"opacity\": 0.6, \"orientation\": \"h\", \"showlegend\": false, \"text\": [1.92, 1.99, 2.26, 2.73, 2.82, 3.06, 3.26, 4.0, 4.48, 6.54, 7.32, 8.34, 8.37, 9.24, 9.41], \"textposition\": \"outside\", \"type\": \"bar\", \"x\": [1.92, 1.99, 2.26, 2.73, 2.82, 3.06, 3.26, 4.0, 4.48, 6.54, 7.32, 8.34, 8.37, 9.24, 9.41], \"xaxis\": \"x\", \"y\": [\"India\", \"Poland\", \"Lebanon\", \"United Kingdom\", \"Netherlands\", \"Egypt\", \"Japan\", \"China\", \"Spain\", \"Iran\", \"Iraq\", \"Italy\", \"Indonesia\", \"San Marino\", \"Philippines\"], \"yaxis\": \"y\"}],\n",
       "                        {\"barmode\": \"relative\", \"height\": 500, \"legend\": {\"tracegroupgap\": 0}, \"margin\": {\"t\": 60}, \"template\": {\"data\": {\"bar\": [{\"error_x\": {\"color\": \"#2a3f5f\"}, \"error_y\": {\"color\": \"#2a3f5f\"}, \"marker\": {\"line\": {\"color\": \"#E5ECF6\", \"width\": 0.5}}, \"type\": \"bar\"}], \"barpolar\": [{\"marker\": {\"line\": {\"color\": \"#E5ECF6\", \"width\": 0.5}}, \"type\": \"barpolar\"}], \"carpet\": [{\"aaxis\": {\"endlinecolor\": \"#2a3f5f\", \"gridcolor\": \"white\", \"linecolor\": \"white\", \"minorgridcolor\": \"white\", \"startlinecolor\": \"#2a3f5f\"}, \"baxis\": {\"endlinecolor\": \"#2a3f5f\", \"gridcolor\": \"white\", \"linecolor\": \"white\", \"minorgridcolor\": \"white\", \"startlinecolor\": \"#2a3f5f\"}, \"type\": \"carpet\"}], \"choropleth\": [{\"colorbar\": {\"outlinewidth\": 0, \"ticks\": \"\"}, \"type\": \"choropleth\"}], \"contour\": [{\"colorbar\": {\"outlinewidth\": 0, \"ticks\": \"\"}, \"colorscale\": [[0.0, \"#0d0887\"], [0.1111111111111111, \"#46039f\"], [0.2222222222222222, \"#7201a8\"], [0.3333333333333333, \"#9c179e\"], [0.4444444444444444, \"#bd3786\"], [0.5555555555555556, \"#d8576b\"], [0.6666666666666666, \"#ed7953\"], [0.7777777777777778, \"#fb9f3a\"], [0.8888888888888888, \"#fdca26\"], [1.0, \"#f0f921\"]], \"type\": \"contour\"}], \"contourcarpet\": [{\"colorbar\": {\"outlinewidth\": 0, \"ticks\": \"\"}, \"type\": \"contourcarpet\"}], \"heatmap\": [{\"colorbar\": {\"outlinewidth\": 0, \"ticks\": \"\"}, \"colorscale\": [[0.0, \"#0d0887\"], [0.1111111111111111, \"#46039f\"], [0.2222222222222222, \"#7201a8\"], [0.3333333333333333, \"#9c179e\"], [0.4444444444444444, \"#bd3786\"], [0.5555555555555556, \"#d8576b\"], [0.6666666666666666, \"#ed7953\"], [0.7777777777777778, \"#fb9f3a\"], [0.8888888888888888, \"#fdca26\"], [1.0, \"#f0f921\"]], \"type\": \"heatmap\"}], \"heatmapgl\": [{\"colorbar\": {\"outlinewidth\": 0, \"ticks\": \"\"}, \"colorscale\": [[0.0, \"#0d0887\"], [0.1111111111111111, \"#46039f\"], [0.2222222222222222, \"#7201a8\"], [0.3333333333333333, \"#9c179e\"], [0.4444444444444444, \"#bd3786\"], [0.5555555555555556, \"#d8576b\"], [0.6666666666666666, \"#ed7953\"], [0.7777777777777778, \"#fb9f3a\"], [0.8888888888888888, \"#fdca26\"], [1.0, \"#f0f921\"]], \"type\": \"heatmapgl\"}], \"histogram\": [{\"marker\": {\"colorbar\": {\"outlinewidth\": 0, \"ticks\": \"\"}}, \"type\": \"histogram\"}], \"histogram2d\": [{\"colorbar\": {\"outlinewidth\": 0, \"ticks\": \"\"}, \"colorscale\": [[0.0, \"#0d0887\"], [0.1111111111111111, \"#46039f\"], [0.2222222222222222, \"#7201a8\"], [0.3333333333333333, \"#9c179e\"], [0.4444444444444444, \"#bd3786\"], [0.5555555555555556, \"#d8576b\"], [0.6666666666666666, \"#ed7953\"], [0.7777777777777778, \"#fb9f3a\"], [0.8888888888888888, \"#fdca26\"], [1.0, \"#f0f921\"]], \"type\": \"histogram2d\"}], \"histogram2dcontour\": [{\"colorbar\": {\"outlinewidth\": 0, \"ticks\": \"\"}, \"colorscale\": [[0.0, \"#0d0887\"], [0.1111111111111111, \"#46039f\"], [0.2222222222222222, \"#7201a8\"], [0.3333333333333333, \"#9c179e\"], [0.4444444444444444, \"#bd3786\"], [0.5555555555555556, \"#d8576b\"], [0.6666666666666666, \"#ed7953\"], [0.7777777777777778, \"#fb9f3a\"], [0.8888888888888888, \"#fdca26\"], [1.0, \"#f0f921\"]], \"type\": \"histogram2dcontour\"}], \"mesh3d\": [{\"colorbar\": {\"outlinewidth\": 0, \"ticks\": \"\"}, \"type\": \"mesh3d\"}], \"parcoords\": [{\"line\": {\"colorbar\": {\"outlinewidth\": 0, \"ticks\": \"\"}}, \"type\": \"parcoords\"}], \"pie\": [{\"automargin\": true, \"type\": \"pie\"}], \"scatter\": [{\"marker\": {\"colorbar\": {\"outlinewidth\": 0, \"ticks\": \"\"}}, \"type\": \"scatter\"}], \"scatter3d\": [{\"line\": {\"colorbar\": {\"outlinewidth\": 0, \"ticks\": \"\"}}, \"marker\": {\"colorbar\": {\"outlinewidth\": 0, \"ticks\": \"\"}}, \"type\": \"scatter3d\"}], \"scattercarpet\": [{\"marker\": {\"colorbar\": {\"outlinewidth\": 0, \"ticks\": \"\"}}, \"type\": \"scattercarpet\"}], \"scattergeo\": [{\"marker\": {\"colorbar\": {\"outlinewidth\": 0, \"ticks\": \"\"}}, \"type\": \"scattergeo\"}], \"scattergl\": [{\"marker\": {\"colorbar\": {\"outlinewidth\": 0, \"ticks\": \"\"}}, \"type\": \"scattergl\"}], \"scattermapbox\": [{\"marker\": {\"colorbar\": {\"outlinewidth\": 0, \"ticks\": \"\"}}, \"type\": \"scattermapbox\"}], \"scatterpolar\": [{\"marker\": {\"colorbar\": {\"outlinewidth\": 0, \"ticks\": \"\"}}, \"type\": \"scatterpolar\"}], \"scatterpolargl\": [{\"marker\": {\"colorbar\": {\"outlinewidth\": 0, \"ticks\": \"\"}}, \"type\": \"scatterpolargl\"}], \"scatterternary\": [{\"marker\": {\"colorbar\": {\"outlinewidth\": 0, \"ticks\": \"\"}}, \"type\": \"scatterternary\"}], \"surface\": [{\"colorbar\": {\"outlinewidth\": 0, \"ticks\": \"\"}, \"colorscale\": [[0.0, \"#0d0887\"], [0.1111111111111111, \"#46039f\"], [0.2222222222222222, \"#7201a8\"], [0.3333333333333333, \"#9c179e\"], [0.4444444444444444, \"#bd3786\"], [0.5555555555555556, \"#d8576b\"], [0.6666666666666666, \"#ed7953\"], [0.7777777777777778, \"#fb9f3a\"], [0.8888888888888888, \"#fdca26\"], [1.0, \"#f0f921\"]], \"type\": \"surface\"}], \"table\": [{\"cells\": {\"fill\": {\"color\": \"#EBF0F8\"}, \"line\": {\"color\": \"white\"}}, \"header\": {\"fill\": {\"color\": \"#C8D4E3\"}, \"line\": {\"color\": \"white\"}}, \"type\": \"table\"}]}, \"layout\": {\"annotationdefaults\": {\"arrowcolor\": \"#2a3f5f\", \"arrowhead\": 0, \"arrowwidth\": 1}, \"coloraxis\": {\"colorbar\": {\"outlinewidth\": 0, \"ticks\": \"\"}}, \"colorscale\": {\"diverging\": [[0, \"#8e0152\"], [0.1, \"#c51b7d\"], [0.2, \"#de77ae\"], [0.3, \"#f1b6da\"], [0.4, \"#fde0ef\"], [0.5, \"#f7f7f7\"], [0.6, \"#e6f5d0\"], [0.7, \"#b8e186\"], [0.8, \"#7fbc41\"], [0.9, \"#4d9221\"], [1, \"#276419\"]], \"sequential\": [[0.0, \"#0d0887\"], [0.1111111111111111, \"#46039f\"], [0.2222222222222222, \"#7201a8\"], [0.3333333333333333, \"#9c179e\"], [0.4444444444444444, \"#bd3786\"], [0.5555555555555556, \"#d8576b\"], [0.6666666666666666, \"#ed7953\"], [0.7777777777777778, \"#fb9f3a\"], [0.8888888888888888, \"#fdca26\"], [1.0, \"#f0f921\"]], \"sequentialminus\": [[0.0, \"#0d0887\"], [0.1111111111111111, \"#46039f\"], [0.2222222222222222, \"#7201a8\"], [0.3333333333333333, \"#9c179e\"], [0.4444444444444444, \"#bd3786\"], [0.5555555555555556, \"#d8576b\"], [0.6666666666666666, \"#ed7953\"], [0.7777777777777778, \"#fb9f3a\"], [0.8888888888888888, \"#fdca26\"], [1.0, \"#f0f921\"]]}, \"colorway\": [\"#636efa\", \"#EF553B\", \"#00cc96\", \"#ab63fa\", \"#FFA15A\", \"#19d3f3\", \"#FF6692\", \"#B6E880\", \"#FF97FF\", \"#FECB52\"], \"font\": {\"color\": \"#2a3f5f\"}, \"geo\": {\"bgcolor\": \"white\", \"lakecolor\": \"white\", \"landcolor\": \"#E5ECF6\", \"showlakes\": true, \"showland\": true, \"subunitcolor\": \"white\"}, \"hoverlabel\": {\"align\": \"left\"}, \"hovermode\": \"closest\", \"mapbox\": {\"style\": \"light\"}, \"paper_bgcolor\": \"white\", \"plot_bgcolor\": \"#E5ECF6\", \"polar\": {\"angularaxis\": {\"gridcolor\": \"white\", \"linecolor\": \"white\", \"ticks\": \"\"}, \"bgcolor\": \"#E5ECF6\", \"radialaxis\": {\"gridcolor\": \"white\", \"linecolor\": \"white\", \"ticks\": \"\"}}, \"scene\": {\"xaxis\": {\"backgroundcolor\": \"#E5ECF6\", \"gridcolor\": \"white\", \"gridwidth\": 2, \"linecolor\": \"white\", \"showbackground\": true, \"ticks\": \"\", \"zerolinecolor\": \"white\"}, \"yaxis\": {\"backgroundcolor\": \"#E5ECF6\", \"gridcolor\": \"white\", \"gridwidth\": 2, \"linecolor\": \"white\", \"showbackground\": true, \"ticks\": \"\", \"zerolinecolor\": \"white\"}, \"zaxis\": {\"backgroundcolor\": \"#E5ECF6\", \"gridcolor\": \"white\", \"gridwidth\": 2, \"linecolor\": \"white\", \"showbackground\": true, \"ticks\": \"\", \"zerolinecolor\": \"white\"}}, \"shapedefaults\": {\"line\": {\"color\": \"#2a3f5f\"}}, \"ternary\": {\"aaxis\": {\"gridcolor\": \"white\", \"linecolor\": \"white\", \"ticks\": \"\"}, \"baxis\": {\"gridcolor\": \"white\", \"linecolor\": \"white\", \"ticks\": \"\"}, \"bgcolor\": \"#E5ECF6\", \"caxis\": {\"gridcolor\": \"white\", \"linecolor\": \"white\", \"ticks\": \"\"}}, \"title\": {\"x\": 0.05}, \"xaxis\": {\"automargin\": true, \"gridcolor\": \"white\", \"linecolor\": \"white\", \"ticks\": \"\", \"title\": {\"standoff\": 15}, \"zerolinecolor\": \"white\", \"zerolinewidth\": 2}, \"yaxis\": {\"automargin\": true, \"gridcolor\": \"white\", \"linecolor\": \"white\", \"ticks\": \"\", \"title\": {\"standoff\": 15}, \"zerolinecolor\": \"white\", \"zerolinewidth\": 2}}}, \"width\": 800, \"xaxis\": {\"anchor\": \"y\", \"domain\": [0.0, 1.0], \"range\": [0, 10], \"title\": {\"text\": \"Mortality Rate\"}}, \"yaxis\": {\"anchor\": \"x\", \"domain\": [0.0, 1.0], \"title\": {\"text\": \"Country/Region\"}}},\n",
       "                        {\"responsive\": true}\n",
       "                    ).then(function(){\n",
       "                            \n",
       "var gd = document.getElementById('b1731177-1e6a-4ce6-96a8-e2b3e411b2ad');\n",
       "var x = new MutationObserver(function (mutations, observer) {{\n",
       "        var display = window.getComputedStyle(gd).display;\n",
       "        if (!display || display === 'none') {{\n",
       "            console.log([gd, 'removed!']);\n",
       "            Plotly.purge(gd);\n",
       "            observer.disconnect();\n",
       "        }}\n",
       "}});\n",
       "\n",
       "// Listen for the removal of the full notebook cells\n",
       "var notebookContainer = gd.closest('#notebook-container');\n",
       "if (notebookContainer) {{\n",
       "    x.observe(notebookContainer, {childList: true});\n",
       "}}\n",
       "\n",
       "// Listen for the clearing of the current output cell\n",
       "var outputEl = gd.closest('.output');\n",
       "if (outputEl) {{\n",
       "    x.observe(outputEl, {childList: true});\n",
       "}}\n",
       "\n",
       "                        })\n",
       "                };\n",
       "                });\n",
       "            </script>\n",
       "        </div>"
      ]
     },
     "metadata": {},
     "output_type": "display_data"
    }
   ],
   "source": [
    "top10MortalityRate = classement\n",
    "\n",
    "# Ajout de la nouvelle colonne tauxMortalité = (Morts/Confirmé)*100, arrondi à deux decimals\n",
    "top10MortalityRate['Mortality Rate'] = round((top10MortalityRate['Deaths']/top10MortalityRate['Confirmed'])*100, 2)\n",
    "\n",
    "# On prend que les pays qui ont plus de 100 cas confirmés\n",
    "temp = top10MortalityRate[top10MortalityRate['Confirmed']>100]\n",
    "temp = temp.sort_values('Mortality Rate', ascending=False)\n",
    "\n",
    "fig = px.bar(temp.sort_values('Mortality Rate', ascending=False).head(15).sort_values('Mortality Rate', ascending=True), \n",
    "             x=\"Mortality Rate\", y=\"Country/Region\", text='Mortality Rate', orientation='h', \n",
    "             width=800, height=500, range_x = [0, 10])\n",
    "fig.update_traces(marker_color=colorRed, opacity=0.6, textposition='outside')\n",
    "fig.show()"
   ]
  },
  {
   "cell_type": "code",
   "execution_count": null,
   "metadata": {},
   "outputs": [],
   "source": []
  },
  {
   "cell_type": "code",
   "execution_count": null,
   "metadata": {},
   "outputs": [],
   "source": []
  },
  {
   "cell_type": "code",
   "execution_count": null,
   "metadata": {},
   "outputs": [],
   "source": []
  },
  {
   "cell_type": "code",
   "execution_count": null,
   "metadata": {},
   "outputs": [],
   "source": []
  },
  {
   "cell_type": "markdown",
   "metadata": {},
   "source": [
    "source data : https://github.com/CSSEGISandData/COVID-19"
   ]
  },
  {
   "cell_type": "code",
   "execution_count": null,
   "metadata": {},
   "outputs": [],
   "source": []
  }
 ],
 "metadata": {
  "kernelspec": {
   "display_name": "Python 3",
   "language": "python",
   "name": "python3"
  },
  "language_info": {
   "codemirror_mode": {
    "name": "ipython",
    "version": 3
   },
   "file_extension": ".py",
   "mimetype": "text/x-python",
   "name": "python",
   "nbconvert_exporter": "python",
   "pygments_lexer": "ipython3",
   "version": "3.7.6"
  }
 },
 "nbformat": 4,
 "nbformat_minor": 4
}
