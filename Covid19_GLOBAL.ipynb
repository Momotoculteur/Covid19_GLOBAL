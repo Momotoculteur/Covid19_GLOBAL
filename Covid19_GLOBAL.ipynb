{
 "cells": [
  {
   "cell_type": "markdown",
   "metadata": {},
   "source": [
    "###### Code - Import librairies"
   ]
  },
  {
   "cell_type": "code",
   "execution_count": 1,
   "metadata": {},
   "outputs": [
    {
     "data": {
      "text/html": [
       "        <script type=\"text/javascript\">\n",
       "        window.PlotlyConfig = {MathJaxConfig: 'local'};\n",
       "        if (window.MathJax) {MathJax.Hub.Config({SVG: {font: \"STIX-Web\"}});}\n",
       "        if (typeof require !== 'undefined') {\n",
       "        require.undef(\"plotly\");\n",
       "        requirejs.config({\n",
       "            paths: {\n",
       "                'plotly': ['https://cdn.plot.ly/plotly-latest.min']\n",
       "            }\n",
       "        });\n",
       "        require(['plotly'], function(Plotly) {\n",
       "            window._Plotly = Plotly;\n",
       "        });\n",
       "        }\n",
       "        </script>\n",
       "        "
      ]
     },
     "metadata": {},
     "output_type": "display_data"
    }
   ],
   "source": [
    "import glob, os    \n",
    "from datetime import date\n",
    "\n",
    "# Plotly offline\n",
    "from plotly.offline import download_plotlyjs, init_notebook_mode, plot, iplot\n",
    "init_notebook_mode(connected=True)\n",
    "\n",
    "import warnings\n",
    "warnings.filterwarnings('ignore')\n",
    "\n",
    "# Import lecture/stockage données\n",
    "import numpy as np\n",
    "import pandas as pd\n",
    "\n",
    "# Visualisation\n",
    "import matplotlib.pyplot as plt\n",
    "import seaborn as sns\n",
    "import plotly.express as px\n",
    "import plotly.graph_objs as go\n",
    "import plotly.figure_factory as ff\n",
    "import calmap\n",
    "import folium\n",
    "from IPython.core.display import display, HTML\n"
   ]
  },
  {
   "cell_type": "code",
   "execution_count": 2,
   "metadata": {},
   "outputs": [],
   "source": [
    "# Palette\n",
    "colorGrey = '#393e46'\n",
    "colorRed = '#ff2e63' \n",
    "colorCyan = '#21bf73' \n",
    "colorYellow = '#fe9801'"
   ]
  },
  {
   "cell_type": "markdown",
   "metadata": {},
   "source": [
    "###### Code - Chargement des données"
   ]
  },
  {
   "cell_type": "code",
   "execution_count": 5,
   "metadata": {},
   "outputs": [],
   "source": [
    "# On charge et map l'ensemble des csv en un seul\n",
    "# dfGlobalDaily = pd.concat(map(pd.read_csv, glob.glob(os.path.join('', \"../COVID-19/csse_covid_19_data/csse_covid_19_daily_reports/*.csv\"))))\n",
    "\n",
    "# dfGlobalDailyLatest = pd.read_csv(\"../COVID-19/csse_covid_19_data/csse_covid_19_time_series/time_series_19-covid-Confirmed/\" + str(d1) + \".csv\")\n",
    "dfGlobalDailyLatest = pd.read_csv(\"../COVID-19/csse_covid_19_data/csse_covid_19_daily_reports/03-23-2020.csv\")\n",
    "\n",
    "# Chargement des times series pour les cas confirmés\n",
    "dfGlobalSeriesConfirmed = pd.read_csv(\"../COVID-19/csse_covid_19_data/csse_covid_19_time_series/time_series_19-covid-Confirmed.csv\")\n",
    "\n",
    "# Chargement des times series pour les cas décédés\n",
    "dfGlobalSeriesDeaths = pd.read_csv(\"../COVID-19/csse_covid_19_data/csse_covid_19_time_series/time_series_19-covid-Deaths.csv\")\n",
    "\n",
    "# Chargement des times series pour les cas soignés\n",
    "dfGlobalSeriesRecovered = pd.read_csv(\"../COVID-19/csse_covid_19_data/csse_covid_19_time_series/time_series_19-covid-Recovered.csv\")"
   ]
  },
  {
   "cell_type": "markdown",
   "metadata": {},
   "source": [
    "## Cas Confirmé/Morts/Soignés par pays"
   ]
  },
  {
   "cell_type": "markdown",
   "metadata": {},
   "source": [
    "###### Code"
   ]
  },
  {
   "cell_type": "code",
   "execution_count": 9,
   "metadata": {},
   "outputs": [],
   "source": [
    "# Cas ACTIVE = cas confirmé - cas décédés - cas soignés\n",
    "dfGlobalDailyLatest['Active'] = dfGlobalDailyLatest['Confirmed'] - dfGlobalDailyLatest['Deaths'] - dfGlobalDailyLatest['Recovered']\n",
    "globalAll = dfGlobalDailyLatest.groupby(['Country_Region'])['Confirmed', 'Deaths', 'Recovered', 'Active'].sum()\n"
   ]
  },
  {
   "cell_type": "code",
   "execution_count": 10,
   "metadata": {},
   "outputs": [
    {
     "data": {
      "text/html": [
       "<style  type=\"text/css\" >\n",
       "    #T_9b19ee34_6e03_11ea_9e91_6c626d35f69drow0_col1 {\n",
       "            background-color:  #67000d;\n",
       "            color:  #f1f1f1;\n",
       "        }    #T_9b19ee34_6e03_11ea_9e91_6c626d35f69drow0_col2 {\n",
       "            background-color:  #f75c41;\n",
       "            color:  #000000;\n",
       "        }    #T_9b19ee34_6e03_11ea_9e91_6c626d35f69drow0_col3 {\n",
       "            background-color:  #67000d;\n",
       "            color:  #f1f1f1;\n",
       "        }    #T_9b19ee34_6e03_11ea_9e91_6c626d35f69drow0_col4 {\n",
       "            background-color:  #fee3d7;\n",
       "            color:  #000000;\n",
       "        }    #T_9b19ee34_6e03_11ea_9e91_6c626d35f69drow1_col1 {\n",
       "            background-color:  #c1161b;\n",
       "            color:  #f1f1f1;\n",
       "        }    #T_9b19ee34_6e03_11ea_9e91_6c626d35f69drow1_col2 {\n",
       "            background-color:  #67000d;\n",
       "            color:  #f1f1f1;\n",
       "        }    #T_9b19ee34_6e03_11ea_9e91_6c626d35f69drow1_col3 {\n",
       "            background-color:  #fee4d8;\n",
       "            color:  #000000;\n",
       "        }    #T_9b19ee34_6e03_11ea_9e91_6c626d35f69drow1_col4 {\n",
       "            background-color:  #67000d;\n",
       "            color:  #f1f1f1;\n",
       "        }    #T_9b19ee34_6e03_11ea_9e91_6c626d35f69drow2_col1 {\n",
       "            background-color:  #f75c41;\n",
       "            color:  #000000;\n",
       "        }    #T_9b19ee34_6e03_11ea_9e91_6c626d35f69drow2_col2 {\n",
       "            background-color:  #fee6da;\n",
       "            color:  #000000;\n",
       "        }    #T_9b19ee34_6e03_11ea_9e91_6c626d35f69drow2_col3 {\n",
       "            background-color:  #fff5f0;\n",
       "            color:  #000000;\n",
       "        }    #T_9b19ee34_6e03_11ea_9e91_6c626d35f69drow2_col4 {\n",
       "            background-color:  #ab1016;\n",
       "            color:  #f1f1f1;\n",
       "        }    #T_9b19ee34_6e03_11ea_9e91_6c626d35f69drow3_col1 {\n",
       "            background-color:  #fc8060;\n",
       "            color:  #000000;\n",
       "        }    #T_9b19ee34_6e03_11ea_9e91_6c626d35f69drow3_col2 {\n",
       "            background-color:  #fc9070;\n",
       "            color:  #000000;\n",
       "        }    #T_9b19ee34_6e03_11ea_9e91_6c626d35f69drow3_col3 {\n",
       "            background-color:  #ffeee6;\n",
       "            color:  #000000;\n",
       "        }    #T_9b19ee34_6e03_11ea_9e91_6c626d35f69drow3_col4 {\n",
       "            background-color:  #f34a36;\n",
       "            color:  #000000;\n",
       "        }    #T_9b19ee34_6e03_11ea_9e91_6c626d35f69drow4_col1 {\n",
       "            background-color:  #fc9879;\n",
       "            color:  #000000;\n",
       "        }    #T_9b19ee34_6e03_11ea_9e91_6c626d35f69drow4_col2 {\n",
       "            background-color:  #fff2eb;\n",
       "            color:  #000000;\n",
       "        }    #T_9b19ee34_6e03_11ea_9e91_6c626d35f69drow4_col3 {\n",
       "            background-color:  #fff4ef;\n",
       "            color:  #000000;\n",
       "        }    #T_9b19ee34_6e03_11ea_9e91_6c626d35f69drow4_col4 {\n",
       "            background-color:  #f5523a;\n",
       "            color:  #000000;\n",
       "        }    #T_9b19ee34_6e03_11ea_9e91_6c626d35f69drow5_col1 {\n",
       "            background-color:  #fcb095;\n",
       "            color:  #000000;\n",
       "        }    #T_9b19ee34_6e03_11ea_9e91_6c626d35f69drow5_col2 {\n",
       "            background-color:  #fcab8f;\n",
       "            color:  #000000;\n",
       "        }    #T_9b19ee34_6e03_11ea_9e91_6c626d35f69drow5_col3 {\n",
       "            background-color:  #fee2d5;\n",
       "            color:  #000000;\n",
       "        }    #T_9b19ee34_6e03_11ea_9e91_6c626d35f69drow5_col4 {\n",
       "            background-color:  #fcb99f;\n",
       "            color:  #000000;\n",
       "        }    #T_9b19ee34_6e03_11ea_9e91_6c626d35f69drow6_col1 {\n",
       "            background-color:  #fcbca2;\n",
       "            color:  #000000;\n",
       "        }    #T_9b19ee34_6e03_11ea_9e91_6c626d35f69drow6_col2 {\n",
       "            background-color:  #fedbcc;\n",
       "            color:  #000000;\n",
       "        }    #T_9b19ee34_6e03_11ea_9e91_6c626d35f69drow6_col3 {\n",
       "            background-color:  #fff0e9;\n",
       "            color:  #000000;\n",
       "        }    #T_9b19ee34_6e03_11ea_9e91_6c626d35f69drow6_col4 {\n",
       "            background-color:  #fc9e80;\n",
       "            color:  #000000;\n",
       "        }    #T_9b19ee34_6e03_11ea_9e91_6c626d35f69drow7_col1 {\n",
       "            background-color:  #fee3d6;\n",
       "            color:  #000000;\n",
       "        }    #T_9b19ee34_6e03_11ea_9e91_6c626d35f69drow7_col2 {\n",
       "            background-color:  #fff2ec;\n",
       "            color:  #000000;\n",
       "        }    #T_9b19ee34_6e03_11ea_9e91_6c626d35f69drow7_col3 {\n",
       "            background-color:  #ffeee6;\n",
       "            color:  #000000;\n",
       "        }    #T_9b19ee34_6e03_11ea_9e91_6c626d35f69drow7_col4 {\n",
       "            background-color:  #fee3d6;\n",
       "            color:  #000000;\n",
       "        }    #T_9b19ee34_6e03_11ea_9e91_6c626d35f69drow8_col1 {\n",
       "            background-color:  #fee3d7;\n",
       "            color:  #000000;\n",
       "        }    #T_9b19ee34_6e03_11ea_9e91_6c626d35f69drow8_col2 {\n",
       "            background-color:  #fff2eb;\n",
       "            color:  #000000;\n",
       "        }    #T_9b19ee34_6e03_11ea_9e91_6c626d35f69drow8_col3 {\n",
       "            background-color:  #fff5f0;\n",
       "            color:  #000000;\n",
       "        }    #T_9b19ee34_6e03_11ea_9e91_6c626d35f69drow8_col4 {\n",
       "            background-color:  #fdd3c1;\n",
       "            color:  #000000;\n",
       "        }    #T_9b19ee34_6e03_11ea_9e91_6c626d35f69drow9_col1 {\n",
       "            background-color:  #fee7dc;\n",
       "            color:  #000000;\n",
       "        }    #T_9b19ee34_6e03_11ea_9e91_6c626d35f69drow9_col2 {\n",
       "            background-color:  #ffece3;\n",
       "            color:  #000000;\n",
       "        }    #T_9b19ee34_6e03_11ea_9e91_6c626d35f69drow9_col3 {\n",
       "            background-color:  #fff5f0;\n",
       "            color:  #000000;\n",
       "        }    #T_9b19ee34_6e03_11ea_9e91_6c626d35f69drow9_col4 {\n",
       "            background-color:  #fee1d3;\n",
       "            color:  #000000;\n",
       "        }    #T_9b19ee34_6e03_11ea_9e91_6c626d35f69drow10_col1 {\n",
       "            background-color:  #ffece3;\n",
       "            color:  #000000;\n",
       "        }    #T_9b19ee34_6e03_11ea_9e91_6c626d35f69drow10_col2 {\n",
       "            background-color:  #ffefe8;\n",
       "            color:  #000000;\n",
       "        }    #T_9b19ee34_6e03_11ea_9e91_6c626d35f69drow10_col3 {\n",
       "            background-color:  #fff5f0;\n",
       "            color:  #000000;\n",
       "        }    #T_9b19ee34_6e03_11ea_9e91_6c626d35f69drow10_col4 {\n",
       "            background-color:  #fee6da;\n",
       "            color:  #000000;\n",
       "        }    #T_9b19ee34_6e03_11ea_9e91_6c626d35f69drow11_col1 {\n",
       "            background-color:  #ffece3;\n",
       "            color:  #000000;\n",
       "        }    #T_9b19ee34_6e03_11ea_9e91_6c626d35f69drow11_col2 {\n",
       "            background-color:  #fff5f0;\n",
       "            color:  #000000;\n",
       "        }    #T_9b19ee34_6e03_11ea_9e91_6c626d35f69drow11_col3 {\n",
       "            background-color:  #fff5f0;\n",
       "            color:  #000000;\n",
       "        }    #T_9b19ee34_6e03_11ea_9e91_6c626d35f69drow11_col4 {\n",
       "            background-color:  #fee7db;\n",
       "            color:  #000000;\n",
       "        }    #T_9b19ee34_6e03_11ea_9e91_6c626d35f69drow12_col1 {\n",
       "            background-color:  #ffeee6;\n",
       "            color:  #000000;\n",
       "        }    #T_9b19ee34_6e03_11ea_9e91_6c626d35f69drow12_col2 {\n",
       "            background-color:  #fff3ed;\n",
       "            color:  #000000;\n",
       "        }    #T_9b19ee34_6e03_11ea_9e91_6c626d35f69drow12_col3 {\n",
       "            background-color:  #fff4ef;\n",
       "            color:  #000000;\n",
       "        }    #T_9b19ee34_6e03_11ea_9e91_6c626d35f69drow12_col4 {\n",
       "            background-color:  #feeae1;\n",
       "            color:  #000000;\n",
       "        }    #T_9b19ee34_6e03_11ea_9e91_6c626d35f69drow13_col1 {\n",
       "            background-color:  #fff0e8;\n",
       "            color:  #000000;\n",
       "        }    #T_9b19ee34_6e03_11ea_9e91_6c626d35f69drow13_col2 {\n",
       "            background-color:  #fff5f0;\n",
       "            color:  #000000;\n",
       "        }    #T_9b19ee34_6e03_11ea_9e91_6c626d35f69drow13_col3 {\n",
       "            background-color:  #fff5f0;\n",
       "            color:  #000000;\n",
       "        }    #T_9b19ee34_6e03_11ea_9e91_6c626d35f69drow13_col4 {\n",
       "            background-color:  #ffece4;\n",
       "            color:  #000000;\n",
       "        }    #T_9b19ee34_6e03_11ea_9e91_6c626d35f69drow14_col1 {\n",
       "            background-color:  #fff1ea;\n",
       "            color:  #000000;\n",
       "        }    #T_9b19ee34_6e03_11ea_9e91_6c626d35f69drow14_col2 {\n",
       "            background-color:  #fff4ef;\n",
       "            color:  #000000;\n",
       "        }    #T_9b19ee34_6e03_11ea_9e91_6c626d35f69drow14_col3 {\n",
       "            background-color:  #fff5f0;\n",
       "            color:  #000000;\n",
       "        }    #T_9b19ee34_6e03_11ea_9e91_6c626d35f69drow14_col4 {\n",
       "            background-color:  #ffeee7;\n",
       "            color:  #000000;\n",
       "        }    #T_9b19ee34_6e03_11ea_9e91_6c626d35f69drow15_col1 {\n",
       "            background-color:  #fff1ea;\n",
       "            color:  #000000;\n",
       "        }    #T_9b19ee34_6e03_11ea_9e91_6c626d35f69drow15_col2 {\n",
       "            background-color:  #fff5f0;\n",
       "            color:  #000000;\n",
       "        }    #T_9b19ee34_6e03_11ea_9e91_6c626d35f69drow15_col3 {\n",
       "            background-color:  #fff5f0;\n",
       "            color:  #000000;\n",
       "        }    #T_9b19ee34_6e03_11ea_9e91_6c626d35f69drow15_col4 {\n",
       "            background-color:  #ffeee7;\n",
       "            color:  #000000;\n",
       "        }    #T_9b19ee34_6e03_11ea_9e91_6c626d35f69drow16_col1 {\n",
       "            background-color:  #fff1ea;\n",
       "            color:  #000000;\n",
       "        }    #T_9b19ee34_6e03_11ea_9e91_6c626d35f69drow16_col2 {\n",
       "            background-color:  #fff4ef;\n",
       "            color:  #000000;\n",
       "        }    #T_9b19ee34_6e03_11ea_9e91_6c626d35f69drow16_col3 {\n",
       "            background-color:  #fff5f0;\n",
       "            color:  #000000;\n",
       "        }    #T_9b19ee34_6e03_11ea_9e91_6c626d35f69drow16_col4 {\n",
       "            background-color:  #ffeee7;\n",
       "            color:  #000000;\n",
       "        }    #T_9b19ee34_6e03_11ea_9e91_6c626d35f69drow17_col1 {\n",
       "            background-color:  #fff1ea;\n",
       "            color:  #000000;\n",
       "        }    #T_9b19ee34_6e03_11ea_9e91_6c626d35f69drow17_col2 {\n",
       "            background-color:  #fff4ef;\n",
       "            color:  #000000;\n",
       "        }    #T_9b19ee34_6e03_11ea_9e91_6c626d35f69drow17_col3 {\n",
       "            background-color:  #fff5f0;\n",
       "            color:  #000000;\n",
       "        }    #T_9b19ee34_6e03_11ea_9e91_6c626d35f69drow17_col4 {\n",
       "            background-color:  #ffefe8;\n",
       "            color:  #000000;\n",
       "        }    #T_9b19ee34_6e03_11ea_9e91_6c626d35f69drow18_col1 {\n",
       "            background-color:  #fff2eb;\n",
       "            color:  #000000;\n",
       "        }    #T_9b19ee34_6e03_11ea_9e91_6c626d35f69drow18_col2 {\n",
       "            background-color:  #fff5f0;\n",
       "            color:  #000000;\n",
       "        }    #T_9b19ee34_6e03_11ea_9e91_6c626d35f69drow18_col3 {\n",
       "            background-color:  #fff5f0;\n",
       "            color:  #000000;\n",
       "        }    #T_9b19ee34_6e03_11ea_9e91_6c626d35f69drow18_col4 {\n",
       "            background-color:  #fff0e9;\n",
       "            color:  #000000;\n",
       "        }    #T_9b19ee34_6e03_11ea_9e91_6c626d35f69drow19_col1 {\n",
       "            background-color:  #fff2ec;\n",
       "            color:  #000000;\n",
       "        }    #T_9b19ee34_6e03_11ea_9e91_6c626d35f69drow19_col2 {\n",
       "            background-color:  #fff4ef;\n",
       "            color:  #000000;\n",
       "        }    #T_9b19ee34_6e03_11ea_9e91_6c626d35f69drow19_col3 {\n",
       "            background-color:  #fff5f0;\n",
       "            color:  #000000;\n",
       "        }    #T_9b19ee34_6e03_11ea_9e91_6c626d35f69drow19_col4 {\n",
       "            background-color:  #fff0e9;\n",
       "            color:  #000000;\n",
       "        }    #T_9b19ee34_6e03_11ea_9e91_6c626d35f69drow20_col1 {\n",
       "            background-color:  #fff2ec;\n",
       "            color:  #000000;\n",
       "        }    #T_9b19ee34_6e03_11ea_9e91_6c626d35f69drow20_col2 {\n",
       "            background-color:  #fff4ef;\n",
       "            color:  #000000;\n",
       "        }    #T_9b19ee34_6e03_11ea_9e91_6c626d35f69drow20_col3 {\n",
       "            background-color:  #fff5f0;\n",
       "            color:  #000000;\n",
       "        }    #T_9b19ee34_6e03_11ea_9e91_6c626d35f69drow20_col4 {\n",
       "            background-color:  #fff0e9;\n",
       "            color:  #000000;\n",
       "        }    #T_9b19ee34_6e03_11ea_9e91_6c626d35f69drow21_col1 {\n",
       "            background-color:  #fff2ec;\n",
       "            color:  #000000;\n",
       "        }    #T_9b19ee34_6e03_11ea_9e91_6c626d35f69drow21_col2 {\n",
       "            background-color:  #fff5f0;\n",
       "            color:  #000000;\n",
       "        }    #T_9b19ee34_6e03_11ea_9e91_6c626d35f69drow21_col3 {\n",
       "            background-color:  #fff5f0;\n",
       "            color:  #000000;\n",
       "        }    #T_9b19ee34_6e03_11ea_9e91_6c626d35f69drow21_col4 {\n",
       "            background-color:  #fff1ea;\n",
       "            color:  #000000;\n",
       "        }    #T_9b19ee34_6e03_11ea_9e91_6c626d35f69drow22_col1 {\n",
       "            background-color:  #fff2ec;\n",
       "            color:  #000000;\n",
       "        }    #T_9b19ee34_6e03_11ea_9e91_6c626d35f69drow22_col2 {\n",
       "            background-color:  #fff5f0;\n",
       "            color:  #000000;\n",
       "        }    #T_9b19ee34_6e03_11ea_9e91_6c626d35f69drow22_col3 {\n",
       "            background-color:  #fff5f0;\n",
       "            color:  #000000;\n",
       "        }    #T_9b19ee34_6e03_11ea_9e91_6c626d35f69drow22_col4 {\n",
       "            background-color:  #fff0e9;\n",
       "            color:  #000000;\n",
       "        }    #T_9b19ee34_6e03_11ea_9e91_6c626d35f69drow23_col1 {\n",
       "            background-color:  #fff3ed;\n",
       "            color:  #000000;\n",
       "        }    #T_9b19ee34_6e03_11ea_9e91_6c626d35f69drow23_col2 {\n",
       "            background-color:  #fff5f0;\n",
       "            color:  #000000;\n",
       "        }    #T_9b19ee34_6e03_11ea_9e91_6c626d35f69drow23_col3 {\n",
       "            background-color:  #fff5f0;\n",
       "            color:  #000000;\n",
       "        }    #T_9b19ee34_6e03_11ea_9e91_6c626d35f69drow23_col4 {\n",
       "            background-color:  #fff1ea;\n",
       "            color:  #000000;\n",
       "        }    #T_9b19ee34_6e03_11ea_9e91_6c626d35f69drow24_col1 {\n",
       "            background-color:  #fff3ed;\n",
       "            color:  #000000;\n",
       "        }    #T_9b19ee34_6e03_11ea_9e91_6c626d35f69drow24_col2 {\n",
       "            background-color:  #fff4ef;\n",
       "            color:  #000000;\n",
       "        }    #T_9b19ee34_6e03_11ea_9e91_6c626d35f69drow24_col3 {\n",
       "            background-color:  #fff5f0;\n",
       "            color:  #000000;\n",
       "        }    #T_9b19ee34_6e03_11ea_9e91_6c626d35f69drow24_col4 {\n",
       "            background-color:  #fff2ec;\n",
       "            color:  #000000;\n",
       "        }    #T_9b19ee34_6e03_11ea_9e91_6c626d35f69drow25_col1 {\n",
       "            background-color:  #fff3ed;\n",
       "            color:  #000000;\n",
       "        }    #T_9b19ee34_6e03_11ea_9e91_6c626d35f69drow25_col2 {\n",
       "            background-color:  #fff5f0;\n",
       "            color:  #000000;\n",
       "        }    #T_9b19ee34_6e03_11ea_9e91_6c626d35f69drow25_col3 {\n",
       "            background-color:  #fff5f0;\n",
       "            color:  #000000;\n",
       "        }    #T_9b19ee34_6e03_11ea_9e91_6c626d35f69drow25_col4 {\n",
       "            background-color:  #fff2eb;\n",
       "            color:  #000000;\n",
       "        }    #T_9b19ee34_6e03_11ea_9e91_6c626d35f69drow26_col1 {\n",
       "            background-color:  #fff3ed;\n",
       "            color:  #000000;\n",
       "        }    #T_9b19ee34_6e03_11ea_9e91_6c626d35f69drow26_col2 {\n",
       "            background-color:  #fff5f0;\n",
       "            color:  #000000;\n",
       "        }    #T_9b19ee34_6e03_11ea_9e91_6c626d35f69drow26_col3 {\n",
       "            background-color:  #fff5f0;\n",
       "            color:  #000000;\n",
       "        }    #T_9b19ee34_6e03_11ea_9e91_6c626d35f69drow26_col4 {\n",
       "            background-color:  #fff2ec;\n",
       "            color:  #000000;\n",
       "        }    #T_9b19ee34_6e03_11ea_9e91_6c626d35f69drow27_col1 {\n",
       "            background-color:  #fff4ee;\n",
       "            color:  #000000;\n",
       "        }    #T_9b19ee34_6e03_11ea_9e91_6c626d35f69drow27_col2 {\n",
       "            background-color:  #fff5f0;\n",
       "            color:  #000000;\n",
       "        }    #T_9b19ee34_6e03_11ea_9e91_6c626d35f69drow27_col3 {\n",
       "            background-color:  #fff5f0;\n",
       "            color:  #000000;\n",
       "        }    #T_9b19ee34_6e03_11ea_9e91_6c626d35f69drow27_col4 {\n",
       "            background-color:  #fff2ec;\n",
       "            color:  #000000;\n",
       "        }    #T_9b19ee34_6e03_11ea_9e91_6c626d35f69drow28_col1 {\n",
       "            background-color:  #fff4ee;\n",
       "            color:  #000000;\n",
       "        }    #T_9b19ee34_6e03_11ea_9e91_6c626d35f69drow28_col2 {\n",
       "            background-color:  #fff5f0;\n",
       "            color:  #000000;\n",
       "        }    #T_9b19ee34_6e03_11ea_9e91_6c626d35f69drow28_col3 {\n",
       "            background-color:  #fff5f0;\n",
       "            color:  #000000;\n",
       "        }    #T_9b19ee34_6e03_11ea_9e91_6c626d35f69drow28_col4 {\n",
       "            background-color:  #fff2ec;\n",
       "            color:  #000000;\n",
       "        }    #T_9b19ee34_6e03_11ea_9e91_6c626d35f69drow29_col1 {\n",
       "            background-color:  #fff4ee;\n",
       "            color:  #000000;\n",
       "        }    #T_9b19ee34_6e03_11ea_9e91_6c626d35f69drow29_col2 {\n",
       "            background-color:  #fff5f0;\n",
       "            color:  #000000;\n",
       "        }    #T_9b19ee34_6e03_11ea_9e91_6c626d35f69drow29_col3 {\n",
       "            background-color:  #fff5f0;\n",
       "            color:  #000000;\n",
       "        }    #T_9b19ee34_6e03_11ea_9e91_6c626d35f69drow29_col4 {\n",
       "            background-color:  #fff3ed;\n",
       "            color:  #000000;\n",
       "        }    #T_9b19ee34_6e03_11ea_9e91_6c626d35f69drow30_col1 {\n",
       "            background-color:  #fff4ee;\n",
       "            color:  #000000;\n",
       "        }    #T_9b19ee34_6e03_11ea_9e91_6c626d35f69drow30_col2 {\n",
       "            background-color:  #fff5f0;\n",
       "            color:  #000000;\n",
       "        }    #T_9b19ee34_6e03_11ea_9e91_6c626d35f69drow30_col3 {\n",
       "            background-color:  #fff5f0;\n",
       "            color:  #000000;\n",
       "        }    #T_9b19ee34_6e03_11ea_9e91_6c626d35f69drow30_col4 {\n",
       "            background-color:  #fff3ed;\n",
       "            color:  #000000;\n",
       "        }    #T_9b19ee34_6e03_11ea_9e91_6c626d35f69drow31_col1 {\n",
       "            background-color:  #fff4ee;\n",
       "            color:  #000000;\n",
       "        }    #T_9b19ee34_6e03_11ea_9e91_6c626d35f69drow31_col2 {\n",
       "            background-color:  #fff5f0;\n",
       "            color:  #000000;\n",
       "        }    #T_9b19ee34_6e03_11ea_9e91_6c626d35f69drow31_col3 {\n",
       "            background-color:  #fff5f0;\n",
       "            color:  #000000;\n",
       "        }    #T_9b19ee34_6e03_11ea_9e91_6c626d35f69drow31_col4 {\n",
       "            background-color:  #fff3ed;\n",
       "            color:  #000000;\n",
       "        }    #T_9b19ee34_6e03_11ea_9e91_6c626d35f69drow32_col1 {\n",
       "            background-color:  #fff4ee;\n",
       "            color:  #000000;\n",
       "        }    #T_9b19ee34_6e03_11ea_9e91_6c626d35f69drow32_col2 {\n",
       "            background-color:  #fff5f0;\n",
       "            color:  #000000;\n",
       "        }    #T_9b19ee34_6e03_11ea_9e91_6c626d35f69drow32_col3 {\n",
       "            background-color:  #fff4ef;\n",
       "            color:  #000000;\n",
       "        }    #T_9b19ee34_6e03_11ea_9e91_6c626d35f69drow32_col4 {\n",
       "            background-color:  #fff5f0;\n",
       "            color:  #000000;\n",
       "        }    #T_9b19ee34_6e03_11ea_9e91_6c626d35f69drow33_col1 {\n",
       "            background-color:  #fff4ee;\n",
       "            color:  #000000;\n",
       "        }    #T_9b19ee34_6e03_11ea_9e91_6c626d35f69drow33_col2 {\n",
       "            background-color:  #fff5f0;\n",
       "            color:  #000000;\n",
       "        }    #T_9b19ee34_6e03_11ea_9e91_6c626d35f69drow33_col3 {\n",
       "            background-color:  #fff5f0;\n",
       "            color:  #000000;\n",
       "        }    #T_9b19ee34_6e03_11ea_9e91_6c626d35f69drow33_col4 {\n",
       "            background-color:  #fff3ed;\n",
       "            color:  #000000;\n",
       "        }    #T_9b19ee34_6e03_11ea_9e91_6c626d35f69drow34_col1 {\n",
       "            background-color:  #fff4ee;\n",
       "            color:  #000000;\n",
       "        }    #T_9b19ee34_6e03_11ea_9e91_6c626d35f69drow34_col2 {\n",
       "            background-color:  #fff5f0;\n",
       "            color:  #000000;\n",
       "        }    #T_9b19ee34_6e03_11ea_9e91_6c626d35f69drow34_col3 {\n",
       "            background-color:  #fff5f0;\n",
       "            color:  #000000;\n",
       "        }    #T_9b19ee34_6e03_11ea_9e91_6c626d35f69drow34_col4 {\n",
       "            background-color:  #fff3ed;\n",
       "            color:  #000000;\n",
       "        }    #T_9b19ee34_6e03_11ea_9e91_6c626d35f69drow35_col1 {\n",
       "            background-color:  #fff4ef;\n",
       "            color:  #000000;\n",
       "        }    #T_9b19ee34_6e03_11ea_9e91_6c626d35f69drow35_col2 {\n",
       "            background-color:  #fff5f0;\n",
       "            color:  #000000;\n",
       "        }    #T_9b19ee34_6e03_11ea_9e91_6c626d35f69drow35_col3 {\n",
       "            background-color:  #fff5f0;\n",
       "            color:  #000000;\n",
       "        }    #T_9b19ee34_6e03_11ea_9e91_6c626d35f69drow35_col4 {\n",
       "            background-color:  #fff4ee;\n",
       "            color:  #000000;\n",
       "        }    #T_9b19ee34_6e03_11ea_9e91_6c626d35f69drow36_col1 {\n",
       "            background-color:  #fff4ef;\n",
       "            color:  #000000;\n",
       "        }    #T_9b19ee34_6e03_11ea_9e91_6c626d35f69drow36_col2 {\n",
       "            background-color:  #fff4ee;\n",
       "            color:  #000000;\n",
       "        }    #T_9b19ee34_6e03_11ea_9e91_6c626d35f69drow36_col3 {\n",
       "            background-color:  #fff5f0;\n",
       "            color:  #000000;\n",
       "        }    #T_9b19ee34_6e03_11ea_9e91_6c626d35f69drow36_col4 {\n",
       "            background-color:  #fff4ee;\n",
       "            color:  #000000;\n",
       "        }    #T_9b19ee34_6e03_11ea_9e91_6c626d35f69drow37_col1 {\n",
       "            background-color:  #fff4ef;\n",
       "            color:  #000000;\n",
       "        }    #T_9b19ee34_6e03_11ea_9e91_6c626d35f69drow37_col2 {\n",
       "            background-color:  #fff5f0;\n",
       "            color:  #000000;\n",
       "        }    #T_9b19ee34_6e03_11ea_9e91_6c626d35f69drow37_col3 {\n",
       "            background-color:  #fff5f0;\n",
       "            color:  #000000;\n",
       "        }    #T_9b19ee34_6e03_11ea_9e91_6c626d35f69drow37_col4 {\n",
       "            background-color:  #fff4ee;\n",
       "            color:  #000000;\n",
       "        }    #T_9b19ee34_6e03_11ea_9e91_6c626d35f69drow38_col1 {\n",
       "            background-color:  #fff4ef;\n",
       "            color:  #000000;\n",
       "        }    #T_9b19ee34_6e03_11ea_9e91_6c626d35f69drow38_col2 {\n",
       "            background-color:  #fff5f0;\n",
       "            color:  #000000;\n",
       "        }    #T_9b19ee34_6e03_11ea_9e91_6c626d35f69drow38_col3 {\n",
       "            background-color:  #fff5f0;\n",
       "            color:  #000000;\n",
       "        }    #T_9b19ee34_6e03_11ea_9e91_6c626d35f69drow38_col4 {\n",
       "            background-color:  #fff4ee;\n",
       "            color:  #000000;\n",
       "        }    #T_9b19ee34_6e03_11ea_9e91_6c626d35f69drow39_col1 {\n",
       "            background-color:  #fff4ef;\n",
       "            color:  #000000;\n",
       "        }    #T_9b19ee34_6e03_11ea_9e91_6c626d35f69drow39_col2 {\n",
       "            background-color:  #fff5f0;\n",
       "            color:  #000000;\n",
       "        }    #T_9b19ee34_6e03_11ea_9e91_6c626d35f69drow39_col3 {\n",
       "            background-color:  #fff5f0;\n",
       "            color:  #000000;\n",
       "        }    #T_9b19ee34_6e03_11ea_9e91_6c626d35f69drow39_col4 {\n",
       "            background-color:  #fff4ef;\n",
       "            color:  #000000;\n",
       "        }    #T_9b19ee34_6e03_11ea_9e91_6c626d35f69drow40_col1 {\n",
       "            background-color:  #fff4ef;\n",
       "            color:  #000000;\n",
       "        }    #T_9b19ee34_6e03_11ea_9e91_6c626d35f69drow40_col2 {\n",
       "            background-color:  #fff5f0;\n",
       "            color:  #000000;\n",
       "        }    #T_9b19ee34_6e03_11ea_9e91_6c626d35f69drow40_col3 {\n",
       "            background-color:  #fff5f0;\n",
       "            color:  #000000;\n",
       "        }    #T_9b19ee34_6e03_11ea_9e91_6c626d35f69drow40_col4 {\n",
       "            background-color:  #fff4ee;\n",
       "            color:  #000000;\n",
       "        }    #T_9b19ee34_6e03_11ea_9e91_6c626d35f69drow41_col1 {\n",
       "            background-color:  #fff4ef;\n",
       "            color:  #000000;\n",
       "        }    #T_9b19ee34_6e03_11ea_9e91_6c626d35f69drow41_col2 {\n",
       "            background-color:  #fff5f0;\n",
       "            color:  #000000;\n",
       "        }    #T_9b19ee34_6e03_11ea_9e91_6c626d35f69drow41_col3 {\n",
       "            background-color:  #fff5f0;\n",
       "            color:  #000000;\n",
       "        }    #T_9b19ee34_6e03_11ea_9e91_6c626d35f69drow41_col4 {\n",
       "            background-color:  #fff4ee;\n",
       "            color:  #000000;\n",
       "        }    #T_9b19ee34_6e03_11ea_9e91_6c626d35f69drow42_col1 {\n",
       "            background-color:  #fff4ef;\n",
       "            color:  #000000;\n",
       "        }    #T_9b19ee34_6e03_11ea_9e91_6c626d35f69drow42_col2 {\n",
       "            background-color:  #fff4ef;\n",
       "            color:  #000000;\n",
       "        }    #T_9b19ee34_6e03_11ea_9e91_6c626d35f69drow42_col3 {\n",
       "            background-color:  #fff5f0;\n",
       "            color:  #000000;\n",
       "        }    #T_9b19ee34_6e03_11ea_9e91_6c626d35f69drow42_col4 {\n",
       "            background-color:  #fff4ee;\n",
       "            color:  #000000;\n",
       "        }    #T_9b19ee34_6e03_11ea_9e91_6c626d35f69drow43_col1 {\n",
       "            background-color:  #fff4ef;\n",
       "            color:  #000000;\n",
       "        }    #T_9b19ee34_6e03_11ea_9e91_6c626d35f69drow43_col2 {\n",
       "            background-color:  #fff5f0;\n",
       "            color:  #000000;\n",
       "        }    #T_9b19ee34_6e03_11ea_9e91_6c626d35f69drow43_col3 {\n",
       "            background-color:  #fff5f0;\n",
       "            color:  #000000;\n",
       "        }    #T_9b19ee34_6e03_11ea_9e91_6c626d35f69drow43_col4 {\n",
       "            background-color:  #fff4ee;\n",
       "            color:  #000000;\n",
       "        }    #T_9b19ee34_6e03_11ea_9e91_6c626d35f69drow44_col1 {\n",
       "            background-color:  #fff4ef;\n",
       "            color:  #000000;\n",
       "        }    #T_9b19ee34_6e03_11ea_9e91_6c626d35f69drow44_col2 {\n",
       "            background-color:  #fff5f0;\n",
       "            color:  #000000;\n",
       "        }    #T_9b19ee34_6e03_11ea_9e91_6c626d35f69drow44_col3 {\n",
       "            background-color:  #fff5f0;\n",
       "            color:  #000000;\n",
       "        }    #T_9b19ee34_6e03_11ea_9e91_6c626d35f69drow44_col4 {\n",
       "            background-color:  #fff4ee;\n",
       "            color:  #000000;\n",
       "        }    #T_9b19ee34_6e03_11ea_9e91_6c626d35f69drow45_col1 {\n",
       "            background-color:  #fff4ef;\n",
       "            color:  #000000;\n",
       "        }    #T_9b19ee34_6e03_11ea_9e91_6c626d35f69drow45_col2 {\n",
       "            background-color:  #fff5f0;\n",
       "            color:  #000000;\n",
       "        }    #T_9b19ee34_6e03_11ea_9e91_6c626d35f69drow45_col3 {\n",
       "            background-color:  #fff5f0;\n",
       "            color:  #000000;\n",
       "        }    #T_9b19ee34_6e03_11ea_9e91_6c626d35f69drow45_col4 {\n",
       "            background-color:  #fff4ee;\n",
       "            color:  #000000;\n",
       "        }    #T_9b19ee34_6e03_11ea_9e91_6c626d35f69drow46_col1 {\n",
       "            background-color:  #fff4ef;\n",
       "            color:  #000000;\n",
       "        }    #T_9b19ee34_6e03_11ea_9e91_6c626d35f69drow46_col2 {\n",
       "            background-color:  #fff5f0;\n",
       "            color:  #000000;\n",
       "        }    #T_9b19ee34_6e03_11ea_9e91_6c626d35f69drow46_col3 {\n",
       "            background-color:  #fff5f0;\n",
       "            color:  #000000;\n",
       "        }    #T_9b19ee34_6e03_11ea_9e91_6c626d35f69drow46_col4 {\n",
       "            background-color:  #fff4ef;\n",
       "            color:  #000000;\n",
       "        }    #T_9b19ee34_6e03_11ea_9e91_6c626d35f69drow47_col1 {\n",
       "            background-color:  #fff4ef;\n",
       "            color:  #000000;\n",
       "        }    #T_9b19ee34_6e03_11ea_9e91_6c626d35f69drow47_col2 {\n",
       "            background-color:  #fff5f0;\n",
       "            color:  #000000;\n",
       "        }    #T_9b19ee34_6e03_11ea_9e91_6c626d35f69drow47_col3 {\n",
       "            background-color:  #fff5f0;\n",
       "            color:  #000000;\n",
       "        }    #T_9b19ee34_6e03_11ea_9e91_6c626d35f69drow47_col4 {\n",
       "            background-color:  #fff4ef;\n",
       "            color:  #000000;\n",
       "        }    #T_9b19ee34_6e03_11ea_9e91_6c626d35f69drow48_col1 {\n",
       "            background-color:  #fff4ef;\n",
       "            color:  #000000;\n",
       "        }    #T_9b19ee34_6e03_11ea_9e91_6c626d35f69drow48_col2 {\n",
       "            background-color:  #fff5f0;\n",
       "            color:  #000000;\n",
       "        }    #T_9b19ee34_6e03_11ea_9e91_6c626d35f69drow48_col3 {\n",
       "            background-color:  #fff5f0;\n",
       "            color:  #000000;\n",
       "        }    #T_9b19ee34_6e03_11ea_9e91_6c626d35f69drow48_col4 {\n",
       "            background-color:  #fff4ef;\n",
       "            color:  #000000;\n",
       "        }    #T_9b19ee34_6e03_11ea_9e91_6c626d35f69drow49_col1 {\n",
       "            background-color:  #fff4ef;\n",
       "            color:  #000000;\n",
       "        }    #T_9b19ee34_6e03_11ea_9e91_6c626d35f69drow49_col2 {\n",
       "            background-color:  #fff5f0;\n",
       "            color:  #000000;\n",
       "        }    #T_9b19ee34_6e03_11ea_9e91_6c626d35f69drow49_col3 {\n",
       "            background-color:  #fff5f0;\n",
       "            color:  #000000;\n",
       "        }    #T_9b19ee34_6e03_11ea_9e91_6c626d35f69drow49_col4 {\n",
       "            background-color:  #fff4ef;\n",
       "            color:  #000000;\n",
       "        }    #T_9b19ee34_6e03_11ea_9e91_6c626d35f69drow50_col1 {\n",
       "            background-color:  #fff5f0;\n",
       "            color:  #000000;\n",
       "        }    #T_9b19ee34_6e03_11ea_9e91_6c626d35f69drow50_col2 {\n",
       "            background-color:  #fff5f0;\n",
       "            color:  #000000;\n",
       "        }    #T_9b19ee34_6e03_11ea_9e91_6c626d35f69drow50_col3 {\n",
       "            background-color:  #fff5f0;\n",
       "            color:  #000000;\n",
       "        }    #T_9b19ee34_6e03_11ea_9e91_6c626d35f69drow50_col4 {\n",
       "            background-color:  #fff4ef;\n",
       "            color:  #000000;\n",
       "        }    #T_9b19ee34_6e03_11ea_9e91_6c626d35f69drow51_col1 {\n",
       "            background-color:  #fff5f0;\n",
       "            color:  #000000;\n",
       "        }    #T_9b19ee34_6e03_11ea_9e91_6c626d35f69drow51_col2 {\n",
       "            background-color:  #fff5f0;\n",
       "            color:  #000000;\n",
       "        }    #T_9b19ee34_6e03_11ea_9e91_6c626d35f69drow51_col3 {\n",
       "            background-color:  #fff5f0;\n",
       "            color:  #000000;\n",
       "        }    #T_9b19ee34_6e03_11ea_9e91_6c626d35f69drow51_col4 {\n",
       "            background-color:  #fff4ef;\n",
       "            color:  #000000;\n",
       "        }    #T_9b19ee34_6e03_11ea_9e91_6c626d35f69drow52_col1 {\n",
       "            background-color:  #fff5f0;\n",
       "            color:  #000000;\n",
       "        }    #T_9b19ee34_6e03_11ea_9e91_6c626d35f69drow52_col2 {\n",
       "            background-color:  #fff5f0;\n",
       "            color:  #000000;\n",
       "        }    #T_9b19ee34_6e03_11ea_9e91_6c626d35f69drow52_col3 {\n",
       "            background-color:  #fff5f0;\n",
       "            color:  #000000;\n",
       "        }    #T_9b19ee34_6e03_11ea_9e91_6c626d35f69drow52_col4 {\n",
       "            background-color:  #fff4ef;\n",
       "            color:  #000000;\n",
       "        }    #T_9b19ee34_6e03_11ea_9e91_6c626d35f69drow53_col1 {\n",
       "            background-color:  #fff5f0;\n",
       "            color:  #000000;\n",
       "        }    #T_9b19ee34_6e03_11ea_9e91_6c626d35f69drow53_col2 {\n",
       "            background-color:  #fff5f0;\n",
       "            color:  #000000;\n",
       "        }    #T_9b19ee34_6e03_11ea_9e91_6c626d35f69drow53_col3 {\n",
       "            background-color:  #fff5f0;\n",
       "            color:  #000000;\n",
       "        }    #T_9b19ee34_6e03_11ea_9e91_6c626d35f69drow53_col4 {\n",
       "            background-color:  #fff4ef;\n",
       "            color:  #000000;\n",
       "        }    #T_9b19ee34_6e03_11ea_9e91_6c626d35f69drow54_col1 {\n",
       "            background-color:  #fff5f0;\n",
       "            color:  #000000;\n",
       "        }    #T_9b19ee34_6e03_11ea_9e91_6c626d35f69drow54_col2 {\n",
       "            background-color:  #fff5f0;\n",
       "            color:  #000000;\n",
       "        }    #T_9b19ee34_6e03_11ea_9e91_6c626d35f69drow54_col3 {\n",
       "            background-color:  #fff5f0;\n",
       "            color:  #000000;\n",
       "        }    #T_9b19ee34_6e03_11ea_9e91_6c626d35f69drow54_col4 {\n",
       "            background-color:  #fff4ef;\n",
       "            color:  #000000;\n",
       "        }    #T_9b19ee34_6e03_11ea_9e91_6c626d35f69drow55_col1 {\n",
       "            background-color:  #fff5f0;\n",
       "            color:  #000000;\n",
       "        }    #T_9b19ee34_6e03_11ea_9e91_6c626d35f69drow55_col2 {\n",
       "            background-color:  #fff5f0;\n",
       "            color:  #000000;\n",
       "        }    #T_9b19ee34_6e03_11ea_9e91_6c626d35f69drow55_col3 {\n",
       "            background-color:  #fff5f0;\n",
       "            color:  #000000;\n",
       "        }    #T_9b19ee34_6e03_11ea_9e91_6c626d35f69drow55_col4 {\n",
       "            background-color:  #fff5f0;\n",
       "            color:  #000000;\n",
       "        }    #T_9b19ee34_6e03_11ea_9e91_6c626d35f69drow56_col1 {\n",
       "            background-color:  #fff5f0;\n",
       "            color:  #000000;\n",
       "        }    #T_9b19ee34_6e03_11ea_9e91_6c626d35f69drow56_col2 {\n",
       "            background-color:  #fff5f0;\n",
       "            color:  #000000;\n",
       "        }    #T_9b19ee34_6e03_11ea_9e91_6c626d35f69drow56_col3 {\n",
       "            background-color:  #fff5f0;\n",
       "            color:  #000000;\n",
       "        }    #T_9b19ee34_6e03_11ea_9e91_6c626d35f69drow56_col4 {\n",
       "            background-color:  #fff4ef;\n",
       "            color:  #000000;\n",
       "        }    #T_9b19ee34_6e03_11ea_9e91_6c626d35f69drow57_col1 {\n",
       "            background-color:  #fff5f0;\n",
       "            color:  #000000;\n",
       "        }    #T_9b19ee34_6e03_11ea_9e91_6c626d35f69drow57_col2 {\n",
       "            background-color:  #fff5f0;\n",
       "            color:  #000000;\n",
       "        }    #T_9b19ee34_6e03_11ea_9e91_6c626d35f69drow57_col3 {\n",
       "            background-color:  #fff5f0;\n",
       "            color:  #000000;\n",
       "        }    #T_9b19ee34_6e03_11ea_9e91_6c626d35f69drow57_col4 {\n",
       "            background-color:  #fff4ef;\n",
       "            color:  #000000;\n",
       "        }    #T_9b19ee34_6e03_11ea_9e91_6c626d35f69drow58_col1 {\n",
       "            background-color:  #fff5f0;\n",
       "            color:  #000000;\n",
       "        }    #T_9b19ee34_6e03_11ea_9e91_6c626d35f69drow58_col2 {\n",
       "            background-color:  #fff5f0;\n",
       "            color:  #000000;\n",
       "        }    #T_9b19ee34_6e03_11ea_9e91_6c626d35f69drow58_col3 {\n",
       "            background-color:  #fff5f0;\n",
       "            color:  #000000;\n",
       "        }    #T_9b19ee34_6e03_11ea_9e91_6c626d35f69drow58_col4 {\n",
       "            background-color:  #fff4ef;\n",
       "            color:  #000000;\n",
       "        }    #T_9b19ee34_6e03_11ea_9e91_6c626d35f69drow59_col1 {\n",
       "            background-color:  #fff5f0;\n",
       "            color:  #000000;\n",
       "        }    #T_9b19ee34_6e03_11ea_9e91_6c626d35f69drow59_col2 {\n",
       "            background-color:  #fff5f0;\n",
       "            color:  #000000;\n",
       "        }    #T_9b19ee34_6e03_11ea_9e91_6c626d35f69drow59_col3 {\n",
       "            background-color:  #fff5f0;\n",
       "            color:  #000000;\n",
       "        }    #T_9b19ee34_6e03_11ea_9e91_6c626d35f69drow59_col4 {\n",
       "            background-color:  #fff4ef;\n",
       "            color:  #000000;\n",
       "        }    #T_9b19ee34_6e03_11ea_9e91_6c626d35f69drow60_col1 {\n",
       "            background-color:  #fff5f0;\n",
       "            color:  #000000;\n",
       "        }    #T_9b19ee34_6e03_11ea_9e91_6c626d35f69drow60_col2 {\n",
       "            background-color:  #fff5f0;\n",
       "            color:  #000000;\n",
       "        }    #T_9b19ee34_6e03_11ea_9e91_6c626d35f69drow60_col3 {\n",
       "            background-color:  #fff5f0;\n",
       "            color:  #000000;\n",
       "        }    #T_9b19ee34_6e03_11ea_9e91_6c626d35f69drow60_col4 {\n",
       "            background-color:  #fff5f0;\n",
       "            color:  #000000;\n",
       "        }    #T_9b19ee34_6e03_11ea_9e91_6c626d35f69drow61_col1 {\n",
       "            background-color:  #fff5f0;\n",
       "            color:  #000000;\n",
       "        }    #T_9b19ee34_6e03_11ea_9e91_6c626d35f69drow61_col2 {\n",
       "            background-color:  #fff5f0;\n",
       "            color:  #000000;\n",
       "        }    #T_9b19ee34_6e03_11ea_9e91_6c626d35f69drow61_col3 {\n",
       "            background-color:  #fff5f0;\n",
       "            color:  #000000;\n",
       "        }    #T_9b19ee34_6e03_11ea_9e91_6c626d35f69drow61_col4 {\n",
       "            background-color:  #fff5f0;\n",
       "            color:  #000000;\n",
       "        }    #T_9b19ee34_6e03_11ea_9e91_6c626d35f69drow62_col1 {\n",
       "            background-color:  #fff5f0;\n",
       "            color:  #000000;\n",
       "        }    #T_9b19ee34_6e03_11ea_9e91_6c626d35f69drow62_col2 {\n",
       "            background-color:  #fff5f0;\n",
       "            color:  #000000;\n",
       "        }    #T_9b19ee34_6e03_11ea_9e91_6c626d35f69drow62_col3 {\n",
       "            background-color:  #fff5f0;\n",
       "            color:  #000000;\n",
       "        }    #T_9b19ee34_6e03_11ea_9e91_6c626d35f69drow62_col4 {\n",
       "            background-color:  #fff5f0;\n",
       "            color:  #000000;\n",
       "        }    #T_9b19ee34_6e03_11ea_9e91_6c626d35f69drow63_col1 {\n",
       "            background-color:  #fff5f0;\n",
       "            color:  #000000;\n",
       "        }    #T_9b19ee34_6e03_11ea_9e91_6c626d35f69drow63_col2 {\n",
       "            background-color:  #fff5f0;\n",
       "            color:  #000000;\n",
       "        }    #T_9b19ee34_6e03_11ea_9e91_6c626d35f69drow63_col3 {\n",
       "            background-color:  #fff5f0;\n",
       "            color:  #000000;\n",
       "        }    #T_9b19ee34_6e03_11ea_9e91_6c626d35f69drow63_col4 {\n",
       "            background-color:  #fff5f0;\n",
       "            color:  #000000;\n",
       "        }    #T_9b19ee34_6e03_11ea_9e91_6c626d35f69drow64_col1 {\n",
       "            background-color:  #fff5f0;\n",
       "            color:  #000000;\n",
       "        }    #T_9b19ee34_6e03_11ea_9e91_6c626d35f69drow64_col2 {\n",
       "            background-color:  #fff5f0;\n",
       "            color:  #000000;\n",
       "        }    #T_9b19ee34_6e03_11ea_9e91_6c626d35f69drow64_col3 {\n",
       "            background-color:  #fff5f0;\n",
       "            color:  #000000;\n",
       "        }    #T_9b19ee34_6e03_11ea_9e91_6c626d35f69drow64_col4 {\n",
       "            background-color:  #fff5f0;\n",
       "            color:  #000000;\n",
       "        }    #T_9b19ee34_6e03_11ea_9e91_6c626d35f69drow65_col1 {\n",
       "            background-color:  #fff5f0;\n",
       "            color:  #000000;\n",
       "        }    #T_9b19ee34_6e03_11ea_9e91_6c626d35f69drow65_col2 {\n",
       "            background-color:  #fff5f0;\n",
       "            color:  #000000;\n",
       "        }    #T_9b19ee34_6e03_11ea_9e91_6c626d35f69drow65_col3 {\n",
       "            background-color:  #fff5f0;\n",
       "            color:  #000000;\n",
       "        }    #T_9b19ee34_6e03_11ea_9e91_6c626d35f69drow65_col4 {\n",
       "            background-color:  #fff5f0;\n",
       "            color:  #000000;\n",
       "        }    #T_9b19ee34_6e03_11ea_9e91_6c626d35f69drow66_col1 {\n",
       "            background-color:  #fff5f0;\n",
       "            color:  #000000;\n",
       "        }    #T_9b19ee34_6e03_11ea_9e91_6c626d35f69drow66_col2 {\n",
       "            background-color:  #fff5f0;\n",
       "            color:  #000000;\n",
       "        }    #T_9b19ee34_6e03_11ea_9e91_6c626d35f69drow66_col3 {\n",
       "            background-color:  #fff5f0;\n",
       "            color:  #000000;\n",
       "        }    #T_9b19ee34_6e03_11ea_9e91_6c626d35f69drow66_col4 {\n",
       "            background-color:  #fff5f0;\n",
       "            color:  #000000;\n",
       "        }    #T_9b19ee34_6e03_11ea_9e91_6c626d35f69drow67_col1 {\n",
       "            background-color:  #fff5f0;\n",
       "            color:  #000000;\n",
       "        }    #T_9b19ee34_6e03_11ea_9e91_6c626d35f69drow67_col2 {\n",
       "            background-color:  #fff5f0;\n",
       "            color:  #000000;\n",
       "        }    #T_9b19ee34_6e03_11ea_9e91_6c626d35f69drow67_col3 {\n",
       "            background-color:  #fff5f0;\n",
       "            color:  #000000;\n",
       "        }    #T_9b19ee34_6e03_11ea_9e91_6c626d35f69drow67_col4 {\n",
       "            background-color:  #fff5f0;\n",
       "            color:  #000000;\n",
       "        }    #T_9b19ee34_6e03_11ea_9e91_6c626d35f69drow68_col1 {\n",
       "            background-color:  #fff5f0;\n",
       "            color:  #000000;\n",
       "        }    #T_9b19ee34_6e03_11ea_9e91_6c626d35f69drow68_col2 {\n",
       "            background-color:  #fff5f0;\n",
       "            color:  #000000;\n",
       "        }    #T_9b19ee34_6e03_11ea_9e91_6c626d35f69drow68_col3 {\n",
       "            background-color:  #fff5f0;\n",
       "            color:  #000000;\n",
       "        }    #T_9b19ee34_6e03_11ea_9e91_6c626d35f69drow68_col4 {\n",
       "            background-color:  #fff5f0;\n",
       "            color:  #000000;\n",
       "        }    #T_9b19ee34_6e03_11ea_9e91_6c626d35f69drow69_col1 {\n",
       "            background-color:  #fff5f0;\n",
       "            color:  #000000;\n",
       "        }    #T_9b19ee34_6e03_11ea_9e91_6c626d35f69drow69_col2 {\n",
       "            background-color:  #fff5f0;\n",
       "            color:  #000000;\n",
       "        }    #T_9b19ee34_6e03_11ea_9e91_6c626d35f69drow69_col3 {\n",
       "            background-color:  #fff5f0;\n",
       "            color:  #000000;\n",
       "        }    #T_9b19ee34_6e03_11ea_9e91_6c626d35f69drow69_col4 {\n",
       "            background-color:  #fff5f0;\n",
       "            color:  #000000;\n",
       "        }    #T_9b19ee34_6e03_11ea_9e91_6c626d35f69drow70_col1 {\n",
       "            background-color:  #fff5f0;\n",
       "            color:  #000000;\n",
       "        }    #T_9b19ee34_6e03_11ea_9e91_6c626d35f69drow70_col2 {\n",
       "            background-color:  #fff5f0;\n",
       "            color:  #000000;\n",
       "        }    #T_9b19ee34_6e03_11ea_9e91_6c626d35f69drow70_col3 {\n",
       "            background-color:  #fff5f0;\n",
       "            color:  #000000;\n",
       "        }    #T_9b19ee34_6e03_11ea_9e91_6c626d35f69drow70_col4 {\n",
       "            background-color:  #fff5f0;\n",
       "            color:  #000000;\n",
       "        }    #T_9b19ee34_6e03_11ea_9e91_6c626d35f69drow71_col1 {\n",
       "            background-color:  #fff5f0;\n",
       "            color:  #000000;\n",
       "        }    #T_9b19ee34_6e03_11ea_9e91_6c626d35f69drow71_col2 {\n",
       "            background-color:  #fff5f0;\n",
       "            color:  #000000;\n",
       "        }    #T_9b19ee34_6e03_11ea_9e91_6c626d35f69drow71_col3 {\n",
       "            background-color:  #fff5f0;\n",
       "            color:  #000000;\n",
       "        }    #T_9b19ee34_6e03_11ea_9e91_6c626d35f69drow71_col4 {\n",
       "            background-color:  #fff5f0;\n",
       "            color:  #000000;\n",
       "        }    #T_9b19ee34_6e03_11ea_9e91_6c626d35f69drow72_col1 {\n",
       "            background-color:  #fff5f0;\n",
       "            color:  #000000;\n",
       "        }    #T_9b19ee34_6e03_11ea_9e91_6c626d35f69drow72_col2 {\n",
       "            background-color:  #fff5f0;\n",
       "            color:  #000000;\n",
       "        }    #T_9b19ee34_6e03_11ea_9e91_6c626d35f69drow72_col3 {\n",
       "            background-color:  #fff5f0;\n",
       "            color:  #000000;\n",
       "        }    #T_9b19ee34_6e03_11ea_9e91_6c626d35f69drow72_col4 {\n",
       "            background-color:  #fff5f0;\n",
       "            color:  #000000;\n",
       "        }    #T_9b19ee34_6e03_11ea_9e91_6c626d35f69drow73_col1 {\n",
       "            background-color:  #fff5f0;\n",
       "            color:  #000000;\n",
       "        }    #T_9b19ee34_6e03_11ea_9e91_6c626d35f69drow73_col2 {\n",
       "            background-color:  #fff5f0;\n",
       "            color:  #000000;\n",
       "        }    #T_9b19ee34_6e03_11ea_9e91_6c626d35f69drow73_col3 {\n",
       "            background-color:  #fff5f0;\n",
       "            color:  #000000;\n",
       "        }    #T_9b19ee34_6e03_11ea_9e91_6c626d35f69drow73_col4 {\n",
       "            background-color:  #fff5f0;\n",
       "            color:  #000000;\n",
       "        }    #T_9b19ee34_6e03_11ea_9e91_6c626d35f69drow74_col1 {\n",
       "            background-color:  #fff5f0;\n",
       "            color:  #000000;\n",
       "        }    #T_9b19ee34_6e03_11ea_9e91_6c626d35f69drow74_col2 {\n",
       "            background-color:  #fff5f0;\n",
       "            color:  #000000;\n",
       "        }    #T_9b19ee34_6e03_11ea_9e91_6c626d35f69drow74_col3 {\n",
       "            background-color:  #fff5f0;\n",
       "            color:  #000000;\n",
       "        }    #T_9b19ee34_6e03_11ea_9e91_6c626d35f69drow74_col4 {\n",
       "            background-color:  #fff5f0;\n",
       "            color:  #000000;\n",
       "        }    #T_9b19ee34_6e03_11ea_9e91_6c626d35f69drow75_col1 {\n",
       "            background-color:  #fff5f0;\n",
       "            color:  #000000;\n",
       "        }    #T_9b19ee34_6e03_11ea_9e91_6c626d35f69drow75_col2 {\n",
       "            background-color:  #fff5f0;\n",
       "            color:  #000000;\n",
       "        }    #T_9b19ee34_6e03_11ea_9e91_6c626d35f69drow75_col3 {\n",
       "            background-color:  #fff5f0;\n",
       "            color:  #000000;\n",
       "        }    #T_9b19ee34_6e03_11ea_9e91_6c626d35f69drow75_col4 {\n",
       "            background-color:  #fff5f0;\n",
       "            color:  #000000;\n",
       "        }    #T_9b19ee34_6e03_11ea_9e91_6c626d35f69drow76_col1 {\n",
       "            background-color:  #fff5f0;\n",
       "            color:  #000000;\n",
       "        }    #T_9b19ee34_6e03_11ea_9e91_6c626d35f69drow76_col2 {\n",
       "            background-color:  #fff5f0;\n",
       "            color:  #000000;\n",
       "        }    #T_9b19ee34_6e03_11ea_9e91_6c626d35f69drow76_col3 {\n",
       "            background-color:  #fff5f0;\n",
       "            color:  #000000;\n",
       "        }    #T_9b19ee34_6e03_11ea_9e91_6c626d35f69drow76_col4 {\n",
       "            background-color:  #fff5f0;\n",
       "            color:  #000000;\n",
       "        }    #T_9b19ee34_6e03_11ea_9e91_6c626d35f69drow77_col1 {\n",
       "            background-color:  #fff5f0;\n",
       "            color:  #000000;\n",
       "        }    #T_9b19ee34_6e03_11ea_9e91_6c626d35f69drow77_col2 {\n",
       "            background-color:  #fff5f0;\n",
       "            color:  #000000;\n",
       "        }    #T_9b19ee34_6e03_11ea_9e91_6c626d35f69drow77_col3 {\n",
       "            background-color:  #fff5f0;\n",
       "            color:  #000000;\n",
       "        }    #T_9b19ee34_6e03_11ea_9e91_6c626d35f69drow77_col4 {\n",
       "            background-color:  #fff5f0;\n",
       "            color:  #000000;\n",
       "        }    #T_9b19ee34_6e03_11ea_9e91_6c626d35f69drow78_col1 {\n",
       "            background-color:  #fff5f0;\n",
       "            color:  #000000;\n",
       "        }    #T_9b19ee34_6e03_11ea_9e91_6c626d35f69drow78_col2 {\n",
       "            background-color:  #fff5f0;\n",
       "            color:  #000000;\n",
       "        }    #T_9b19ee34_6e03_11ea_9e91_6c626d35f69drow78_col3 {\n",
       "            background-color:  #fff5f0;\n",
       "            color:  #000000;\n",
       "        }    #T_9b19ee34_6e03_11ea_9e91_6c626d35f69drow78_col4 {\n",
       "            background-color:  #fff5f0;\n",
       "            color:  #000000;\n",
       "        }    #T_9b19ee34_6e03_11ea_9e91_6c626d35f69drow79_col1 {\n",
       "            background-color:  #fff5f0;\n",
       "            color:  #000000;\n",
       "        }    #T_9b19ee34_6e03_11ea_9e91_6c626d35f69drow79_col2 {\n",
       "            background-color:  #fff5f0;\n",
       "            color:  #000000;\n",
       "        }    #T_9b19ee34_6e03_11ea_9e91_6c626d35f69drow79_col3 {\n",
       "            background-color:  #fff5f0;\n",
       "            color:  #000000;\n",
       "        }    #T_9b19ee34_6e03_11ea_9e91_6c626d35f69drow79_col4 {\n",
       "            background-color:  #fff5f0;\n",
       "            color:  #000000;\n",
       "        }    #T_9b19ee34_6e03_11ea_9e91_6c626d35f69drow80_col1 {\n",
       "            background-color:  #fff5f0;\n",
       "            color:  #000000;\n",
       "        }    #T_9b19ee34_6e03_11ea_9e91_6c626d35f69drow80_col2 {\n",
       "            background-color:  #fff5f0;\n",
       "            color:  #000000;\n",
       "        }    #T_9b19ee34_6e03_11ea_9e91_6c626d35f69drow80_col3 {\n",
       "            background-color:  #fff5f0;\n",
       "            color:  #000000;\n",
       "        }    #T_9b19ee34_6e03_11ea_9e91_6c626d35f69drow80_col4 {\n",
       "            background-color:  #fff5f0;\n",
       "            color:  #000000;\n",
       "        }    #T_9b19ee34_6e03_11ea_9e91_6c626d35f69drow81_col1 {\n",
       "            background-color:  #fff5f0;\n",
       "            color:  #000000;\n",
       "        }    #T_9b19ee34_6e03_11ea_9e91_6c626d35f69drow81_col2 {\n",
       "            background-color:  #fff5f0;\n",
       "            color:  #000000;\n",
       "        }    #T_9b19ee34_6e03_11ea_9e91_6c626d35f69drow81_col3 {\n",
       "            background-color:  #fff5f0;\n",
       "            color:  #000000;\n",
       "        }    #T_9b19ee34_6e03_11ea_9e91_6c626d35f69drow81_col4 {\n",
       "            background-color:  #fff5f0;\n",
       "            color:  #000000;\n",
       "        }    #T_9b19ee34_6e03_11ea_9e91_6c626d35f69drow82_col1 {\n",
       "            background-color:  #fff5f0;\n",
       "            color:  #000000;\n",
       "        }    #T_9b19ee34_6e03_11ea_9e91_6c626d35f69drow82_col2 {\n",
       "            background-color:  #fff5f0;\n",
       "            color:  #000000;\n",
       "        }    #T_9b19ee34_6e03_11ea_9e91_6c626d35f69drow82_col3 {\n",
       "            background-color:  #fff5f0;\n",
       "            color:  #000000;\n",
       "        }    #T_9b19ee34_6e03_11ea_9e91_6c626d35f69drow82_col4 {\n",
       "            background-color:  #fff5f0;\n",
       "            color:  #000000;\n",
       "        }    #T_9b19ee34_6e03_11ea_9e91_6c626d35f69drow83_col1 {\n",
       "            background-color:  #fff5f0;\n",
       "            color:  #000000;\n",
       "        }    #T_9b19ee34_6e03_11ea_9e91_6c626d35f69drow83_col2 {\n",
       "            background-color:  #fff5f0;\n",
       "            color:  #000000;\n",
       "        }    #T_9b19ee34_6e03_11ea_9e91_6c626d35f69drow83_col3 {\n",
       "            background-color:  #fff5f0;\n",
       "            color:  #000000;\n",
       "        }    #T_9b19ee34_6e03_11ea_9e91_6c626d35f69drow83_col4 {\n",
       "            background-color:  #fff5f0;\n",
       "            color:  #000000;\n",
       "        }    #T_9b19ee34_6e03_11ea_9e91_6c626d35f69drow84_col1 {\n",
       "            background-color:  #fff5f0;\n",
       "            color:  #000000;\n",
       "        }    #T_9b19ee34_6e03_11ea_9e91_6c626d35f69drow84_col2 {\n",
       "            background-color:  #fff5f0;\n",
       "            color:  #000000;\n",
       "        }    #T_9b19ee34_6e03_11ea_9e91_6c626d35f69drow84_col3 {\n",
       "            background-color:  #fff5f0;\n",
       "            color:  #000000;\n",
       "        }    #T_9b19ee34_6e03_11ea_9e91_6c626d35f69drow84_col4 {\n",
       "            background-color:  #fff5f0;\n",
       "            color:  #000000;\n",
       "        }    #T_9b19ee34_6e03_11ea_9e91_6c626d35f69drow85_col1 {\n",
       "            background-color:  #fff5f0;\n",
       "            color:  #000000;\n",
       "        }    #T_9b19ee34_6e03_11ea_9e91_6c626d35f69drow85_col2 {\n",
       "            background-color:  #fff5f0;\n",
       "            color:  #000000;\n",
       "        }    #T_9b19ee34_6e03_11ea_9e91_6c626d35f69drow85_col3 {\n",
       "            background-color:  #fff5f0;\n",
       "            color:  #000000;\n",
       "        }    #T_9b19ee34_6e03_11ea_9e91_6c626d35f69drow85_col4 {\n",
       "            background-color:  #fff5f0;\n",
       "            color:  #000000;\n",
       "        }    #T_9b19ee34_6e03_11ea_9e91_6c626d35f69drow86_col1 {\n",
       "            background-color:  #fff5f0;\n",
       "            color:  #000000;\n",
       "        }    #T_9b19ee34_6e03_11ea_9e91_6c626d35f69drow86_col2 {\n",
       "            background-color:  #fff5f0;\n",
       "            color:  #000000;\n",
       "        }    #T_9b19ee34_6e03_11ea_9e91_6c626d35f69drow86_col3 {\n",
       "            background-color:  #fff5f0;\n",
       "            color:  #000000;\n",
       "        }    #T_9b19ee34_6e03_11ea_9e91_6c626d35f69drow86_col4 {\n",
       "            background-color:  #fff5f0;\n",
       "            color:  #000000;\n",
       "        }    #T_9b19ee34_6e03_11ea_9e91_6c626d35f69drow87_col1 {\n",
       "            background-color:  #fff5f0;\n",
       "            color:  #000000;\n",
       "        }    #T_9b19ee34_6e03_11ea_9e91_6c626d35f69drow87_col2 {\n",
       "            background-color:  #fff5f0;\n",
       "            color:  #000000;\n",
       "        }    #T_9b19ee34_6e03_11ea_9e91_6c626d35f69drow87_col3 {\n",
       "            background-color:  #fff5f0;\n",
       "            color:  #000000;\n",
       "        }    #T_9b19ee34_6e03_11ea_9e91_6c626d35f69drow87_col4 {\n",
       "            background-color:  #fff5f0;\n",
       "            color:  #000000;\n",
       "        }    #T_9b19ee34_6e03_11ea_9e91_6c626d35f69drow88_col1 {\n",
       "            background-color:  #fff5f0;\n",
       "            color:  #000000;\n",
       "        }    #T_9b19ee34_6e03_11ea_9e91_6c626d35f69drow88_col2 {\n",
       "            background-color:  #fff5f0;\n",
       "            color:  #000000;\n",
       "        }    #T_9b19ee34_6e03_11ea_9e91_6c626d35f69drow88_col3 {\n",
       "            background-color:  #fff5f0;\n",
       "            color:  #000000;\n",
       "        }    #T_9b19ee34_6e03_11ea_9e91_6c626d35f69drow88_col4 {\n",
       "            background-color:  #fff5f0;\n",
       "            color:  #000000;\n",
       "        }    #T_9b19ee34_6e03_11ea_9e91_6c626d35f69drow89_col1 {\n",
       "            background-color:  #fff5f0;\n",
       "            color:  #000000;\n",
       "        }    #T_9b19ee34_6e03_11ea_9e91_6c626d35f69drow89_col2 {\n",
       "            background-color:  #fff5f0;\n",
       "            color:  #000000;\n",
       "        }    #T_9b19ee34_6e03_11ea_9e91_6c626d35f69drow89_col3 {\n",
       "            background-color:  #fff5f0;\n",
       "            color:  #000000;\n",
       "        }    #T_9b19ee34_6e03_11ea_9e91_6c626d35f69drow89_col4 {\n",
       "            background-color:  #fff5f0;\n",
       "            color:  #000000;\n",
       "        }    #T_9b19ee34_6e03_11ea_9e91_6c626d35f69drow90_col1 {\n",
       "            background-color:  #fff5f0;\n",
       "            color:  #000000;\n",
       "        }    #T_9b19ee34_6e03_11ea_9e91_6c626d35f69drow90_col2 {\n",
       "            background-color:  #fff5f0;\n",
       "            color:  #000000;\n",
       "        }    #T_9b19ee34_6e03_11ea_9e91_6c626d35f69drow90_col3 {\n",
       "            background-color:  #fff5f0;\n",
       "            color:  #000000;\n",
       "        }    #T_9b19ee34_6e03_11ea_9e91_6c626d35f69drow90_col4 {\n",
       "            background-color:  #fff5f0;\n",
       "            color:  #000000;\n",
       "        }    #T_9b19ee34_6e03_11ea_9e91_6c626d35f69drow91_col1 {\n",
       "            background-color:  #fff5f0;\n",
       "            color:  #000000;\n",
       "        }    #T_9b19ee34_6e03_11ea_9e91_6c626d35f69drow91_col2 {\n",
       "            background-color:  #fff5f0;\n",
       "            color:  #000000;\n",
       "        }    #T_9b19ee34_6e03_11ea_9e91_6c626d35f69drow91_col3 {\n",
       "            background-color:  #fff5f0;\n",
       "            color:  #000000;\n",
       "        }    #T_9b19ee34_6e03_11ea_9e91_6c626d35f69drow91_col4 {\n",
       "            background-color:  #fff5f0;\n",
       "            color:  #000000;\n",
       "        }    #T_9b19ee34_6e03_11ea_9e91_6c626d35f69drow92_col1 {\n",
       "            background-color:  #fff5f0;\n",
       "            color:  #000000;\n",
       "        }    #T_9b19ee34_6e03_11ea_9e91_6c626d35f69drow92_col2 {\n",
       "            background-color:  #fff5f0;\n",
       "            color:  #000000;\n",
       "        }    #T_9b19ee34_6e03_11ea_9e91_6c626d35f69drow92_col3 {\n",
       "            background-color:  #fff5f0;\n",
       "            color:  #000000;\n",
       "        }    #T_9b19ee34_6e03_11ea_9e91_6c626d35f69drow92_col4 {\n",
       "            background-color:  #fff5f0;\n",
       "            color:  #000000;\n",
       "        }    #T_9b19ee34_6e03_11ea_9e91_6c626d35f69drow93_col1 {\n",
       "            background-color:  #fff5f0;\n",
       "            color:  #000000;\n",
       "        }    #T_9b19ee34_6e03_11ea_9e91_6c626d35f69drow93_col2 {\n",
       "            background-color:  #fff5f0;\n",
       "            color:  #000000;\n",
       "        }    #T_9b19ee34_6e03_11ea_9e91_6c626d35f69drow93_col3 {\n",
       "            background-color:  #fff5f0;\n",
       "            color:  #000000;\n",
       "        }    #T_9b19ee34_6e03_11ea_9e91_6c626d35f69drow93_col4 {\n",
       "            background-color:  #fff5f0;\n",
       "            color:  #000000;\n",
       "        }    #T_9b19ee34_6e03_11ea_9e91_6c626d35f69drow94_col1 {\n",
       "            background-color:  #fff5f0;\n",
       "            color:  #000000;\n",
       "        }    #T_9b19ee34_6e03_11ea_9e91_6c626d35f69drow94_col2 {\n",
       "            background-color:  #fff5f0;\n",
       "            color:  #000000;\n",
       "        }    #T_9b19ee34_6e03_11ea_9e91_6c626d35f69drow94_col3 {\n",
       "            background-color:  #fff5f0;\n",
       "            color:  #000000;\n",
       "        }    #T_9b19ee34_6e03_11ea_9e91_6c626d35f69drow94_col4 {\n",
       "            background-color:  #fff5f0;\n",
       "            color:  #000000;\n",
       "        }    #T_9b19ee34_6e03_11ea_9e91_6c626d35f69drow95_col1 {\n",
       "            background-color:  #fff5f0;\n",
       "            color:  #000000;\n",
       "        }    #T_9b19ee34_6e03_11ea_9e91_6c626d35f69drow95_col2 {\n",
       "            background-color:  #fff5f0;\n",
       "            color:  #000000;\n",
       "        }    #T_9b19ee34_6e03_11ea_9e91_6c626d35f69drow95_col3 {\n",
       "            background-color:  #fff5f0;\n",
       "            color:  #000000;\n",
       "        }    #T_9b19ee34_6e03_11ea_9e91_6c626d35f69drow95_col4 {\n",
       "            background-color:  #fff5f0;\n",
       "            color:  #000000;\n",
       "        }    #T_9b19ee34_6e03_11ea_9e91_6c626d35f69drow96_col1 {\n",
       "            background-color:  #fff5f0;\n",
       "            color:  #000000;\n",
       "        }    #T_9b19ee34_6e03_11ea_9e91_6c626d35f69drow96_col2 {\n",
       "            background-color:  #fff5f0;\n",
       "            color:  #000000;\n",
       "        }    #T_9b19ee34_6e03_11ea_9e91_6c626d35f69drow96_col3 {\n",
       "            background-color:  #fff5f0;\n",
       "            color:  #000000;\n",
       "        }    #T_9b19ee34_6e03_11ea_9e91_6c626d35f69drow96_col4 {\n",
       "            background-color:  #fff5f0;\n",
       "            color:  #000000;\n",
       "        }    #T_9b19ee34_6e03_11ea_9e91_6c626d35f69drow97_col1 {\n",
       "            background-color:  #fff5f0;\n",
       "            color:  #000000;\n",
       "        }    #T_9b19ee34_6e03_11ea_9e91_6c626d35f69drow97_col2 {\n",
       "            background-color:  #fff5f0;\n",
       "            color:  #000000;\n",
       "        }    #T_9b19ee34_6e03_11ea_9e91_6c626d35f69drow97_col3 {\n",
       "            background-color:  #fff5f0;\n",
       "            color:  #000000;\n",
       "        }    #T_9b19ee34_6e03_11ea_9e91_6c626d35f69drow97_col4 {\n",
       "            background-color:  #fff5f0;\n",
       "            color:  #000000;\n",
       "        }    #T_9b19ee34_6e03_11ea_9e91_6c626d35f69drow98_col1 {\n",
       "            background-color:  #fff5f0;\n",
       "            color:  #000000;\n",
       "        }    #T_9b19ee34_6e03_11ea_9e91_6c626d35f69drow98_col2 {\n",
       "            background-color:  #fff5f0;\n",
       "            color:  #000000;\n",
       "        }    #T_9b19ee34_6e03_11ea_9e91_6c626d35f69drow98_col3 {\n",
       "            background-color:  #fff5f0;\n",
       "            color:  #000000;\n",
       "        }    #T_9b19ee34_6e03_11ea_9e91_6c626d35f69drow98_col4 {\n",
       "            background-color:  #fff5f0;\n",
       "            color:  #000000;\n",
       "        }    #T_9b19ee34_6e03_11ea_9e91_6c626d35f69drow99_col1 {\n",
       "            background-color:  #fff5f0;\n",
       "            color:  #000000;\n",
       "        }    #T_9b19ee34_6e03_11ea_9e91_6c626d35f69drow99_col2 {\n",
       "            background-color:  #fff5f0;\n",
       "            color:  #000000;\n",
       "        }    #T_9b19ee34_6e03_11ea_9e91_6c626d35f69drow99_col3 {\n",
       "            background-color:  #fff5f0;\n",
       "            color:  #000000;\n",
       "        }    #T_9b19ee34_6e03_11ea_9e91_6c626d35f69drow99_col4 {\n",
       "            background-color:  #fff5f0;\n",
       "            color:  #000000;\n",
       "        }    #T_9b19ee34_6e03_11ea_9e91_6c626d35f69drow100_col1 {\n",
       "            background-color:  #fff5f0;\n",
       "            color:  #000000;\n",
       "        }    #T_9b19ee34_6e03_11ea_9e91_6c626d35f69drow100_col2 {\n",
       "            background-color:  #fff5f0;\n",
       "            color:  #000000;\n",
       "        }    #T_9b19ee34_6e03_11ea_9e91_6c626d35f69drow100_col3 {\n",
       "            background-color:  #fff5f0;\n",
       "            color:  #000000;\n",
       "        }    #T_9b19ee34_6e03_11ea_9e91_6c626d35f69drow100_col4 {\n",
       "            background-color:  #fff5f0;\n",
       "            color:  #000000;\n",
       "        }    #T_9b19ee34_6e03_11ea_9e91_6c626d35f69drow101_col1 {\n",
       "            background-color:  #fff5f0;\n",
       "            color:  #000000;\n",
       "        }    #T_9b19ee34_6e03_11ea_9e91_6c626d35f69drow101_col2 {\n",
       "            background-color:  #fff5f0;\n",
       "            color:  #000000;\n",
       "        }    #T_9b19ee34_6e03_11ea_9e91_6c626d35f69drow101_col3 {\n",
       "            background-color:  #fff5f0;\n",
       "            color:  #000000;\n",
       "        }    #T_9b19ee34_6e03_11ea_9e91_6c626d35f69drow101_col4 {\n",
       "            background-color:  #fff5f0;\n",
       "            color:  #000000;\n",
       "        }    #T_9b19ee34_6e03_11ea_9e91_6c626d35f69drow102_col1 {\n",
       "            background-color:  #fff5f0;\n",
       "            color:  #000000;\n",
       "        }    #T_9b19ee34_6e03_11ea_9e91_6c626d35f69drow102_col2 {\n",
       "            background-color:  #fff5f0;\n",
       "            color:  #000000;\n",
       "        }    #T_9b19ee34_6e03_11ea_9e91_6c626d35f69drow102_col3 {\n",
       "            background-color:  #fff5f0;\n",
       "            color:  #000000;\n",
       "        }    #T_9b19ee34_6e03_11ea_9e91_6c626d35f69drow102_col4 {\n",
       "            background-color:  #fff5f0;\n",
       "            color:  #000000;\n",
       "        }    #T_9b19ee34_6e03_11ea_9e91_6c626d35f69drow103_col1 {\n",
       "            background-color:  #fff5f0;\n",
       "            color:  #000000;\n",
       "        }    #T_9b19ee34_6e03_11ea_9e91_6c626d35f69drow103_col2 {\n",
       "            background-color:  #fff5f0;\n",
       "            color:  #000000;\n",
       "        }    #T_9b19ee34_6e03_11ea_9e91_6c626d35f69drow103_col3 {\n",
       "            background-color:  #fff5f0;\n",
       "            color:  #000000;\n",
       "        }    #T_9b19ee34_6e03_11ea_9e91_6c626d35f69drow103_col4 {\n",
       "            background-color:  #fff5f0;\n",
       "            color:  #000000;\n",
       "        }    #T_9b19ee34_6e03_11ea_9e91_6c626d35f69drow104_col1 {\n",
       "            background-color:  #fff5f0;\n",
       "            color:  #000000;\n",
       "        }    #T_9b19ee34_6e03_11ea_9e91_6c626d35f69drow104_col2 {\n",
       "            background-color:  #fff5f0;\n",
       "            color:  #000000;\n",
       "        }    #T_9b19ee34_6e03_11ea_9e91_6c626d35f69drow104_col3 {\n",
       "            background-color:  #fff5f0;\n",
       "            color:  #000000;\n",
       "        }    #T_9b19ee34_6e03_11ea_9e91_6c626d35f69drow104_col4 {\n",
       "            background-color:  #fff5f0;\n",
       "            color:  #000000;\n",
       "        }    #T_9b19ee34_6e03_11ea_9e91_6c626d35f69drow105_col1 {\n",
       "            background-color:  #fff5f0;\n",
       "            color:  #000000;\n",
       "        }    #T_9b19ee34_6e03_11ea_9e91_6c626d35f69drow105_col2 {\n",
       "            background-color:  #fff5f0;\n",
       "            color:  #000000;\n",
       "        }    #T_9b19ee34_6e03_11ea_9e91_6c626d35f69drow105_col3 {\n",
       "            background-color:  #fff5f0;\n",
       "            color:  #000000;\n",
       "        }    #T_9b19ee34_6e03_11ea_9e91_6c626d35f69drow105_col4 {\n",
       "            background-color:  #fff5f0;\n",
       "            color:  #000000;\n",
       "        }    #T_9b19ee34_6e03_11ea_9e91_6c626d35f69drow106_col1 {\n",
       "            background-color:  #fff5f0;\n",
       "            color:  #000000;\n",
       "        }    #T_9b19ee34_6e03_11ea_9e91_6c626d35f69drow106_col2 {\n",
       "            background-color:  #fff5f0;\n",
       "            color:  #000000;\n",
       "        }    #T_9b19ee34_6e03_11ea_9e91_6c626d35f69drow106_col3 {\n",
       "            background-color:  #fff5f0;\n",
       "            color:  #000000;\n",
       "        }    #T_9b19ee34_6e03_11ea_9e91_6c626d35f69drow106_col4 {\n",
       "            background-color:  #fff5f0;\n",
       "            color:  #000000;\n",
       "        }    #T_9b19ee34_6e03_11ea_9e91_6c626d35f69drow107_col1 {\n",
       "            background-color:  #fff5f0;\n",
       "            color:  #000000;\n",
       "        }    #T_9b19ee34_6e03_11ea_9e91_6c626d35f69drow107_col2 {\n",
       "            background-color:  #fff5f0;\n",
       "            color:  #000000;\n",
       "        }    #T_9b19ee34_6e03_11ea_9e91_6c626d35f69drow107_col3 {\n",
       "            background-color:  #fff5f0;\n",
       "            color:  #000000;\n",
       "        }    #T_9b19ee34_6e03_11ea_9e91_6c626d35f69drow107_col4 {\n",
       "            background-color:  #fff5f0;\n",
       "            color:  #000000;\n",
       "        }    #T_9b19ee34_6e03_11ea_9e91_6c626d35f69drow108_col1 {\n",
       "            background-color:  #fff5f0;\n",
       "            color:  #000000;\n",
       "        }    #T_9b19ee34_6e03_11ea_9e91_6c626d35f69drow108_col2 {\n",
       "            background-color:  #fff5f0;\n",
       "            color:  #000000;\n",
       "        }    #T_9b19ee34_6e03_11ea_9e91_6c626d35f69drow108_col3 {\n",
       "            background-color:  #fff5f0;\n",
       "            color:  #000000;\n",
       "        }    #T_9b19ee34_6e03_11ea_9e91_6c626d35f69drow108_col4 {\n",
       "            background-color:  #fff5f0;\n",
       "            color:  #000000;\n",
       "        }    #T_9b19ee34_6e03_11ea_9e91_6c626d35f69drow109_col1 {\n",
       "            background-color:  #fff5f0;\n",
       "            color:  #000000;\n",
       "        }    #T_9b19ee34_6e03_11ea_9e91_6c626d35f69drow109_col2 {\n",
       "            background-color:  #fff5f0;\n",
       "            color:  #000000;\n",
       "        }    #T_9b19ee34_6e03_11ea_9e91_6c626d35f69drow109_col3 {\n",
       "            background-color:  #fff5f0;\n",
       "            color:  #000000;\n",
       "        }    #T_9b19ee34_6e03_11ea_9e91_6c626d35f69drow109_col4 {\n",
       "            background-color:  #fff5f0;\n",
       "            color:  #000000;\n",
       "        }    #T_9b19ee34_6e03_11ea_9e91_6c626d35f69drow110_col1 {\n",
       "            background-color:  #fff5f0;\n",
       "            color:  #000000;\n",
       "        }    #T_9b19ee34_6e03_11ea_9e91_6c626d35f69drow110_col2 {\n",
       "            background-color:  #fff5f0;\n",
       "            color:  #000000;\n",
       "        }    #T_9b19ee34_6e03_11ea_9e91_6c626d35f69drow110_col3 {\n",
       "            background-color:  #fff5f0;\n",
       "            color:  #000000;\n",
       "        }    #T_9b19ee34_6e03_11ea_9e91_6c626d35f69drow110_col4 {\n",
       "            background-color:  #fff5f0;\n",
       "            color:  #000000;\n",
       "        }    #T_9b19ee34_6e03_11ea_9e91_6c626d35f69drow111_col1 {\n",
       "            background-color:  #fff5f0;\n",
       "            color:  #000000;\n",
       "        }    #T_9b19ee34_6e03_11ea_9e91_6c626d35f69drow111_col2 {\n",
       "            background-color:  #fff5f0;\n",
       "            color:  #000000;\n",
       "        }    #T_9b19ee34_6e03_11ea_9e91_6c626d35f69drow111_col3 {\n",
       "            background-color:  #fff5f0;\n",
       "            color:  #000000;\n",
       "        }    #T_9b19ee34_6e03_11ea_9e91_6c626d35f69drow111_col4 {\n",
       "            background-color:  #fff5f0;\n",
       "            color:  #000000;\n",
       "        }    #T_9b19ee34_6e03_11ea_9e91_6c626d35f69drow112_col1 {\n",
       "            background-color:  #fff5f0;\n",
       "            color:  #000000;\n",
       "        }    #T_9b19ee34_6e03_11ea_9e91_6c626d35f69drow112_col2 {\n",
       "            background-color:  #fff5f0;\n",
       "            color:  #000000;\n",
       "        }    #T_9b19ee34_6e03_11ea_9e91_6c626d35f69drow112_col3 {\n",
       "            background-color:  #fff5f0;\n",
       "            color:  #000000;\n",
       "        }    #T_9b19ee34_6e03_11ea_9e91_6c626d35f69drow112_col4 {\n",
       "            background-color:  #fff5f0;\n",
       "            color:  #000000;\n",
       "        }    #T_9b19ee34_6e03_11ea_9e91_6c626d35f69drow113_col1 {\n",
       "            background-color:  #fff5f0;\n",
       "            color:  #000000;\n",
       "        }    #T_9b19ee34_6e03_11ea_9e91_6c626d35f69drow113_col2 {\n",
       "            background-color:  #fff5f0;\n",
       "            color:  #000000;\n",
       "        }    #T_9b19ee34_6e03_11ea_9e91_6c626d35f69drow113_col3 {\n",
       "            background-color:  #fff5f0;\n",
       "            color:  #000000;\n",
       "        }    #T_9b19ee34_6e03_11ea_9e91_6c626d35f69drow113_col4 {\n",
       "            background-color:  #fff5f0;\n",
       "            color:  #000000;\n",
       "        }    #T_9b19ee34_6e03_11ea_9e91_6c626d35f69drow114_col1 {\n",
       "            background-color:  #fff5f0;\n",
       "            color:  #000000;\n",
       "        }    #T_9b19ee34_6e03_11ea_9e91_6c626d35f69drow114_col2 {\n",
       "            background-color:  #fff5f0;\n",
       "            color:  #000000;\n",
       "        }    #T_9b19ee34_6e03_11ea_9e91_6c626d35f69drow114_col3 {\n",
       "            background-color:  #fff5f0;\n",
       "            color:  #000000;\n",
       "        }    #T_9b19ee34_6e03_11ea_9e91_6c626d35f69drow114_col4 {\n",
       "            background-color:  #fff5f0;\n",
       "            color:  #000000;\n",
       "        }    #T_9b19ee34_6e03_11ea_9e91_6c626d35f69drow115_col1 {\n",
       "            background-color:  #fff5f0;\n",
       "            color:  #000000;\n",
       "        }    #T_9b19ee34_6e03_11ea_9e91_6c626d35f69drow115_col2 {\n",
       "            background-color:  #fff5f0;\n",
       "            color:  #000000;\n",
       "        }    #T_9b19ee34_6e03_11ea_9e91_6c626d35f69drow115_col3 {\n",
       "            background-color:  #fff5f0;\n",
       "            color:  #000000;\n",
       "        }    #T_9b19ee34_6e03_11ea_9e91_6c626d35f69drow115_col4 {\n",
       "            background-color:  #fff5f0;\n",
       "            color:  #000000;\n",
       "        }    #T_9b19ee34_6e03_11ea_9e91_6c626d35f69drow116_col1 {\n",
       "            background-color:  #fff5f0;\n",
       "            color:  #000000;\n",
       "        }    #T_9b19ee34_6e03_11ea_9e91_6c626d35f69drow116_col2 {\n",
       "            background-color:  #fff5f0;\n",
       "            color:  #000000;\n",
       "        }    #T_9b19ee34_6e03_11ea_9e91_6c626d35f69drow116_col3 {\n",
       "            background-color:  #fff5f0;\n",
       "            color:  #000000;\n",
       "        }    #T_9b19ee34_6e03_11ea_9e91_6c626d35f69drow116_col4 {\n",
       "            background-color:  #fff5f0;\n",
       "            color:  #000000;\n",
       "        }    #T_9b19ee34_6e03_11ea_9e91_6c626d35f69drow117_col1 {\n",
       "            background-color:  #fff5f0;\n",
       "            color:  #000000;\n",
       "        }    #T_9b19ee34_6e03_11ea_9e91_6c626d35f69drow117_col2 {\n",
       "            background-color:  #fff5f0;\n",
       "            color:  #000000;\n",
       "        }    #T_9b19ee34_6e03_11ea_9e91_6c626d35f69drow117_col3 {\n",
       "            background-color:  #fff5f0;\n",
       "            color:  #000000;\n",
       "        }    #T_9b19ee34_6e03_11ea_9e91_6c626d35f69drow117_col4 {\n",
       "            background-color:  #fff5f0;\n",
       "            color:  #000000;\n",
       "        }    #T_9b19ee34_6e03_11ea_9e91_6c626d35f69drow118_col1 {\n",
       "            background-color:  #fff5f0;\n",
       "            color:  #000000;\n",
       "        }    #T_9b19ee34_6e03_11ea_9e91_6c626d35f69drow118_col2 {\n",
       "            background-color:  #fff5f0;\n",
       "            color:  #000000;\n",
       "        }    #T_9b19ee34_6e03_11ea_9e91_6c626d35f69drow118_col3 {\n",
       "            background-color:  #fff5f0;\n",
       "            color:  #000000;\n",
       "        }    #T_9b19ee34_6e03_11ea_9e91_6c626d35f69drow118_col4 {\n",
       "            background-color:  #fff5f0;\n",
       "            color:  #000000;\n",
       "        }    #T_9b19ee34_6e03_11ea_9e91_6c626d35f69drow119_col1 {\n",
       "            background-color:  #fff5f0;\n",
       "            color:  #000000;\n",
       "        }    #T_9b19ee34_6e03_11ea_9e91_6c626d35f69drow119_col2 {\n",
       "            background-color:  #fff5f0;\n",
       "            color:  #000000;\n",
       "        }    #T_9b19ee34_6e03_11ea_9e91_6c626d35f69drow119_col3 {\n",
       "            background-color:  #fff5f0;\n",
       "            color:  #000000;\n",
       "        }    #T_9b19ee34_6e03_11ea_9e91_6c626d35f69drow119_col4 {\n",
       "            background-color:  #fff5f0;\n",
       "            color:  #000000;\n",
       "        }    #T_9b19ee34_6e03_11ea_9e91_6c626d35f69drow120_col1 {\n",
       "            background-color:  #fff5f0;\n",
       "            color:  #000000;\n",
       "        }    #T_9b19ee34_6e03_11ea_9e91_6c626d35f69drow120_col2 {\n",
       "            background-color:  #fff5f0;\n",
       "            color:  #000000;\n",
       "        }    #T_9b19ee34_6e03_11ea_9e91_6c626d35f69drow120_col3 {\n",
       "            background-color:  #fff5f0;\n",
       "            color:  #000000;\n",
       "        }    #T_9b19ee34_6e03_11ea_9e91_6c626d35f69drow120_col4 {\n",
       "            background-color:  #fff5f0;\n",
       "            color:  #000000;\n",
       "        }    #T_9b19ee34_6e03_11ea_9e91_6c626d35f69drow121_col1 {\n",
       "            background-color:  #fff5f0;\n",
       "            color:  #000000;\n",
       "        }    #T_9b19ee34_6e03_11ea_9e91_6c626d35f69drow121_col2 {\n",
       "            background-color:  #fff5f0;\n",
       "            color:  #000000;\n",
       "        }    #T_9b19ee34_6e03_11ea_9e91_6c626d35f69drow121_col3 {\n",
       "            background-color:  #fff5f0;\n",
       "            color:  #000000;\n",
       "        }    #T_9b19ee34_6e03_11ea_9e91_6c626d35f69drow121_col4 {\n",
       "            background-color:  #fff5f0;\n",
       "            color:  #000000;\n",
       "        }    #T_9b19ee34_6e03_11ea_9e91_6c626d35f69drow122_col1 {\n",
       "            background-color:  #fff5f0;\n",
       "            color:  #000000;\n",
       "        }    #T_9b19ee34_6e03_11ea_9e91_6c626d35f69drow122_col2 {\n",
       "            background-color:  #fff5f0;\n",
       "            color:  #000000;\n",
       "        }    #T_9b19ee34_6e03_11ea_9e91_6c626d35f69drow122_col3 {\n",
       "            background-color:  #fff5f0;\n",
       "            color:  #000000;\n",
       "        }    #T_9b19ee34_6e03_11ea_9e91_6c626d35f69drow122_col4 {\n",
       "            background-color:  #fff5f0;\n",
       "            color:  #000000;\n",
       "        }    #T_9b19ee34_6e03_11ea_9e91_6c626d35f69drow123_col1 {\n",
       "            background-color:  #fff5f0;\n",
       "            color:  #000000;\n",
       "        }    #T_9b19ee34_6e03_11ea_9e91_6c626d35f69drow123_col2 {\n",
       "            background-color:  #fff5f0;\n",
       "            color:  #000000;\n",
       "        }    #T_9b19ee34_6e03_11ea_9e91_6c626d35f69drow123_col3 {\n",
       "            background-color:  #fff5f0;\n",
       "            color:  #000000;\n",
       "        }    #T_9b19ee34_6e03_11ea_9e91_6c626d35f69drow123_col4 {\n",
       "            background-color:  #fff5f0;\n",
       "            color:  #000000;\n",
       "        }    #T_9b19ee34_6e03_11ea_9e91_6c626d35f69drow124_col1 {\n",
       "            background-color:  #fff5f0;\n",
       "            color:  #000000;\n",
       "        }    #T_9b19ee34_6e03_11ea_9e91_6c626d35f69drow124_col2 {\n",
       "            background-color:  #fff5f0;\n",
       "            color:  #000000;\n",
       "        }    #T_9b19ee34_6e03_11ea_9e91_6c626d35f69drow124_col3 {\n",
       "            background-color:  #fff5f0;\n",
       "            color:  #000000;\n",
       "        }    #T_9b19ee34_6e03_11ea_9e91_6c626d35f69drow124_col4 {\n",
       "            background-color:  #fff5f0;\n",
       "            color:  #000000;\n",
       "        }    #T_9b19ee34_6e03_11ea_9e91_6c626d35f69drow125_col1 {\n",
       "            background-color:  #fff5f0;\n",
       "            color:  #000000;\n",
       "        }    #T_9b19ee34_6e03_11ea_9e91_6c626d35f69drow125_col2 {\n",
       "            background-color:  #fff5f0;\n",
       "            color:  #000000;\n",
       "        }    #T_9b19ee34_6e03_11ea_9e91_6c626d35f69drow125_col3 {\n",
       "            background-color:  #fff5f0;\n",
       "            color:  #000000;\n",
       "        }    #T_9b19ee34_6e03_11ea_9e91_6c626d35f69drow125_col4 {\n",
       "            background-color:  #fff5f0;\n",
       "            color:  #000000;\n",
       "        }    #T_9b19ee34_6e03_11ea_9e91_6c626d35f69drow126_col1 {\n",
       "            background-color:  #fff5f0;\n",
       "            color:  #000000;\n",
       "        }    #T_9b19ee34_6e03_11ea_9e91_6c626d35f69drow126_col2 {\n",
       "            background-color:  #fff5f0;\n",
       "            color:  #000000;\n",
       "        }    #T_9b19ee34_6e03_11ea_9e91_6c626d35f69drow126_col3 {\n",
       "            background-color:  #fff5f0;\n",
       "            color:  #000000;\n",
       "        }    #T_9b19ee34_6e03_11ea_9e91_6c626d35f69drow126_col4 {\n",
       "            background-color:  #fff5f0;\n",
       "            color:  #000000;\n",
       "        }    #T_9b19ee34_6e03_11ea_9e91_6c626d35f69drow127_col1 {\n",
       "            background-color:  #fff5f0;\n",
       "            color:  #000000;\n",
       "        }    #T_9b19ee34_6e03_11ea_9e91_6c626d35f69drow127_col2 {\n",
       "            background-color:  #fff5f0;\n",
       "            color:  #000000;\n",
       "        }    #T_9b19ee34_6e03_11ea_9e91_6c626d35f69drow127_col3 {\n",
       "            background-color:  #fff5f0;\n",
       "            color:  #000000;\n",
       "        }    #T_9b19ee34_6e03_11ea_9e91_6c626d35f69drow127_col4 {\n",
       "            background-color:  #fff5f0;\n",
       "            color:  #000000;\n",
       "        }    #T_9b19ee34_6e03_11ea_9e91_6c626d35f69drow128_col1 {\n",
       "            background-color:  #fff5f0;\n",
       "            color:  #000000;\n",
       "        }    #T_9b19ee34_6e03_11ea_9e91_6c626d35f69drow128_col2 {\n",
       "            background-color:  #fff5f0;\n",
       "            color:  #000000;\n",
       "        }    #T_9b19ee34_6e03_11ea_9e91_6c626d35f69drow128_col3 {\n",
       "            background-color:  #fff5f0;\n",
       "            color:  #000000;\n",
       "        }    #T_9b19ee34_6e03_11ea_9e91_6c626d35f69drow128_col4 {\n",
       "            background-color:  #fff5f0;\n",
       "            color:  #000000;\n",
       "        }    #T_9b19ee34_6e03_11ea_9e91_6c626d35f69drow129_col1 {\n",
       "            background-color:  #fff5f0;\n",
       "            color:  #000000;\n",
       "        }    #T_9b19ee34_6e03_11ea_9e91_6c626d35f69drow129_col2 {\n",
       "            background-color:  #fff5f0;\n",
       "            color:  #000000;\n",
       "        }    #T_9b19ee34_6e03_11ea_9e91_6c626d35f69drow129_col3 {\n",
       "            background-color:  #fff5f0;\n",
       "            color:  #000000;\n",
       "        }    #T_9b19ee34_6e03_11ea_9e91_6c626d35f69drow129_col4 {\n",
       "            background-color:  #fff5f0;\n",
       "            color:  #000000;\n",
       "        }    #T_9b19ee34_6e03_11ea_9e91_6c626d35f69drow130_col1 {\n",
       "            background-color:  #fff5f0;\n",
       "            color:  #000000;\n",
       "        }    #T_9b19ee34_6e03_11ea_9e91_6c626d35f69drow130_col2 {\n",
       "            background-color:  #fff5f0;\n",
       "            color:  #000000;\n",
       "        }    #T_9b19ee34_6e03_11ea_9e91_6c626d35f69drow130_col3 {\n",
       "            background-color:  #fff5f0;\n",
       "            color:  #000000;\n",
       "        }    #T_9b19ee34_6e03_11ea_9e91_6c626d35f69drow130_col4 {\n",
       "            background-color:  #fff5f0;\n",
       "            color:  #000000;\n",
       "        }    #T_9b19ee34_6e03_11ea_9e91_6c626d35f69drow131_col1 {\n",
       "            background-color:  #fff5f0;\n",
       "            color:  #000000;\n",
       "        }    #T_9b19ee34_6e03_11ea_9e91_6c626d35f69drow131_col2 {\n",
       "            background-color:  #fff5f0;\n",
       "            color:  #000000;\n",
       "        }    #T_9b19ee34_6e03_11ea_9e91_6c626d35f69drow131_col3 {\n",
       "            background-color:  #fff5f0;\n",
       "            color:  #000000;\n",
       "        }    #T_9b19ee34_6e03_11ea_9e91_6c626d35f69drow131_col4 {\n",
       "            background-color:  #fff5f0;\n",
       "            color:  #000000;\n",
       "        }    #T_9b19ee34_6e03_11ea_9e91_6c626d35f69drow132_col1 {\n",
       "            background-color:  #fff5f0;\n",
       "            color:  #000000;\n",
       "        }    #T_9b19ee34_6e03_11ea_9e91_6c626d35f69drow132_col2 {\n",
       "            background-color:  #fff5f0;\n",
       "            color:  #000000;\n",
       "        }    #T_9b19ee34_6e03_11ea_9e91_6c626d35f69drow132_col3 {\n",
       "            background-color:  #fff5f0;\n",
       "            color:  #000000;\n",
       "        }    #T_9b19ee34_6e03_11ea_9e91_6c626d35f69drow132_col4 {\n",
       "            background-color:  #fff5f0;\n",
       "            color:  #000000;\n",
       "        }    #T_9b19ee34_6e03_11ea_9e91_6c626d35f69drow133_col1 {\n",
       "            background-color:  #fff5f0;\n",
       "            color:  #000000;\n",
       "        }    #T_9b19ee34_6e03_11ea_9e91_6c626d35f69drow133_col2 {\n",
       "            background-color:  #fff5f0;\n",
       "            color:  #000000;\n",
       "        }    #T_9b19ee34_6e03_11ea_9e91_6c626d35f69drow133_col3 {\n",
       "            background-color:  #fff5f0;\n",
       "            color:  #000000;\n",
       "        }    #T_9b19ee34_6e03_11ea_9e91_6c626d35f69drow133_col4 {\n",
       "            background-color:  #fff5f0;\n",
       "            color:  #000000;\n",
       "        }    #T_9b19ee34_6e03_11ea_9e91_6c626d35f69drow134_col1 {\n",
       "            background-color:  #fff5f0;\n",
       "            color:  #000000;\n",
       "        }    #T_9b19ee34_6e03_11ea_9e91_6c626d35f69drow134_col2 {\n",
       "            background-color:  #fff5f0;\n",
       "            color:  #000000;\n",
       "        }    #T_9b19ee34_6e03_11ea_9e91_6c626d35f69drow134_col3 {\n",
       "            background-color:  #fff5f0;\n",
       "            color:  #000000;\n",
       "        }    #T_9b19ee34_6e03_11ea_9e91_6c626d35f69drow134_col4 {\n",
       "            background-color:  #fff5f0;\n",
       "            color:  #000000;\n",
       "        }    #T_9b19ee34_6e03_11ea_9e91_6c626d35f69drow135_col1 {\n",
       "            background-color:  #fff5f0;\n",
       "            color:  #000000;\n",
       "        }    #T_9b19ee34_6e03_11ea_9e91_6c626d35f69drow135_col2 {\n",
       "            background-color:  #fff5f0;\n",
       "            color:  #000000;\n",
       "        }    #T_9b19ee34_6e03_11ea_9e91_6c626d35f69drow135_col3 {\n",
       "            background-color:  #fff5f0;\n",
       "            color:  #000000;\n",
       "        }    #T_9b19ee34_6e03_11ea_9e91_6c626d35f69drow135_col4 {\n",
       "            background-color:  #fff5f0;\n",
       "            color:  #000000;\n",
       "        }    #T_9b19ee34_6e03_11ea_9e91_6c626d35f69drow136_col1 {\n",
       "            background-color:  #fff5f0;\n",
       "            color:  #000000;\n",
       "        }    #T_9b19ee34_6e03_11ea_9e91_6c626d35f69drow136_col2 {\n",
       "            background-color:  #fff5f0;\n",
       "            color:  #000000;\n",
       "        }    #T_9b19ee34_6e03_11ea_9e91_6c626d35f69drow136_col3 {\n",
       "            background-color:  #fff5f0;\n",
       "            color:  #000000;\n",
       "        }    #T_9b19ee34_6e03_11ea_9e91_6c626d35f69drow136_col4 {\n",
       "            background-color:  #fff5f0;\n",
       "            color:  #000000;\n",
       "        }    #T_9b19ee34_6e03_11ea_9e91_6c626d35f69drow137_col1 {\n",
       "            background-color:  #fff5f0;\n",
       "            color:  #000000;\n",
       "        }    #T_9b19ee34_6e03_11ea_9e91_6c626d35f69drow137_col2 {\n",
       "            background-color:  #fff5f0;\n",
       "            color:  #000000;\n",
       "        }    #T_9b19ee34_6e03_11ea_9e91_6c626d35f69drow137_col3 {\n",
       "            background-color:  #fff5f0;\n",
       "            color:  #000000;\n",
       "        }    #T_9b19ee34_6e03_11ea_9e91_6c626d35f69drow137_col4 {\n",
       "            background-color:  #fff5f0;\n",
       "            color:  #000000;\n",
       "        }    #T_9b19ee34_6e03_11ea_9e91_6c626d35f69drow138_col1 {\n",
       "            background-color:  #fff5f0;\n",
       "            color:  #000000;\n",
       "        }    #T_9b19ee34_6e03_11ea_9e91_6c626d35f69drow138_col2 {\n",
       "            background-color:  #fff5f0;\n",
       "            color:  #000000;\n",
       "        }    #T_9b19ee34_6e03_11ea_9e91_6c626d35f69drow138_col3 {\n",
       "            background-color:  #fff5f0;\n",
       "            color:  #000000;\n",
       "        }    #T_9b19ee34_6e03_11ea_9e91_6c626d35f69drow138_col4 {\n",
       "            background-color:  #fff5f0;\n",
       "            color:  #000000;\n",
       "        }    #T_9b19ee34_6e03_11ea_9e91_6c626d35f69drow139_col1 {\n",
       "            background-color:  #fff5f0;\n",
       "            color:  #000000;\n",
       "        }    #T_9b19ee34_6e03_11ea_9e91_6c626d35f69drow139_col2 {\n",
       "            background-color:  #fff5f0;\n",
       "            color:  #000000;\n",
       "        }    #T_9b19ee34_6e03_11ea_9e91_6c626d35f69drow139_col3 {\n",
       "            background-color:  #fff5f0;\n",
       "            color:  #000000;\n",
       "        }    #T_9b19ee34_6e03_11ea_9e91_6c626d35f69drow139_col4 {\n",
       "            background-color:  #fff5f0;\n",
       "            color:  #000000;\n",
       "        }    #T_9b19ee34_6e03_11ea_9e91_6c626d35f69drow140_col1 {\n",
       "            background-color:  #fff5f0;\n",
       "            color:  #000000;\n",
       "        }    #T_9b19ee34_6e03_11ea_9e91_6c626d35f69drow140_col2 {\n",
       "            background-color:  #fff5f0;\n",
       "            color:  #000000;\n",
       "        }    #T_9b19ee34_6e03_11ea_9e91_6c626d35f69drow140_col3 {\n",
       "            background-color:  #fff5f0;\n",
       "            color:  #000000;\n",
       "        }    #T_9b19ee34_6e03_11ea_9e91_6c626d35f69drow140_col4 {\n",
       "            background-color:  #fff5f0;\n",
       "            color:  #000000;\n",
       "        }    #T_9b19ee34_6e03_11ea_9e91_6c626d35f69drow141_col1 {\n",
       "            background-color:  #fff5f0;\n",
       "            color:  #000000;\n",
       "        }    #T_9b19ee34_6e03_11ea_9e91_6c626d35f69drow141_col2 {\n",
       "            background-color:  #fff5f0;\n",
       "            color:  #000000;\n",
       "        }    #T_9b19ee34_6e03_11ea_9e91_6c626d35f69drow141_col3 {\n",
       "            background-color:  #fff5f0;\n",
       "            color:  #000000;\n",
       "        }    #T_9b19ee34_6e03_11ea_9e91_6c626d35f69drow141_col4 {\n",
       "            background-color:  #fff5f0;\n",
       "            color:  #000000;\n",
       "        }    #T_9b19ee34_6e03_11ea_9e91_6c626d35f69drow142_col1 {\n",
       "            background-color:  #fff5f0;\n",
       "            color:  #000000;\n",
       "        }    #T_9b19ee34_6e03_11ea_9e91_6c626d35f69drow142_col2 {\n",
       "            background-color:  #fff5f0;\n",
       "            color:  #000000;\n",
       "        }    #T_9b19ee34_6e03_11ea_9e91_6c626d35f69drow142_col3 {\n",
       "            background-color:  #fff5f0;\n",
       "            color:  #000000;\n",
       "        }    #T_9b19ee34_6e03_11ea_9e91_6c626d35f69drow142_col4 {\n",
       "            background-color:  #fff5f0;\n",
       "            color:  #000000;\n",
       "        }    #T_9b19ee34_6e03_11ea_9e91_6c626d35f69drow143_col1 {\n",
       "            background-color:  #fff5f0;\n",
       "            color:  #000000;\n",
       "        }    #T_9b19ee34_6e03_11ea_9e91_6c626d35f69drow143_col2 {\n",
       "            background-color:  #fff5f0;\n",
       "            color:  #000000;\n",
       "        }    #T_9b19ee34_6e03_11ea_9e91_6c626d35f69drow143_col3 {\n",
       "            background-color:  #fff5f0;\n",
       "            color:  #000000;\n",
       "        }    #T_9b19ee34_6e03_11ea_9e91_6c626d35f69drow143_col4 {\n",
       "            background-color:  #fff5f0;\n",
       "            color:  #000000;\n",
       "        }    #T_9b19ee34_6e03_11ea_9e91_6c626d35f69drow144_col1 {\n",
       "            background-color:  #fff5f0;\n",
       "            color:  #000000;\n",
       "        }    #T_9b19ee34_6e03_11ea_9e91_6c626d35f69drow144_col2 {\n",
       "            background-color:  #fff5f0;\n",
       "            color:  #000000;\n",
       "        }    #T_9b19ee34_6e03_11ea_9e91_6c626d35f69drow144_col3 {\n",
       "            background-color:  #fff5f0;\n",
       "            color:  #000000;\n",
       "        }    #T_9b19ee34_6e03_11ea_9e91_6c626d35f69drow144_col4 {\n",
       "            background-color:  #fff5f0;\n",
       "            color:  #000000;\n",
       "        }    #T_9b19ee34_6e03_11ea_9e91_6c626d35f69drow145_col1 {\n",
       "            background-color:  #fff5f0;\n",
       "            color:  #000000;\n",
       "        }    #T_9b19ee34_6e03_11ea_9e91_6c626d35f69drow145_col2 {\n",
       "            background-color:  #fff5f0;\n",
       "            color:  #000000;\n",
       "        }    #T_9b19ee34_6e03_11ea_9e91_6c626d35f69drow145_col3 {\n",
       "            background-color:  #fff5f0;\n",
       "            color:  #000000;\n",
       "        }    #T_9b19ee34_6e03_11ea_9e91_6c626d35f69drow145_col4 {\n",
       "            background-color:  #fff5f0;\n",
       "            color:  #000000;\n",
       "        }    #T_9b19ee34_6e03_11ea_9e91_6c626d35f69drow146_col1 {\n",
       "            background-color:  #fff5f0;\n",
       "            color:  #000000;\n",
       "        }    #T_9b19ee34_6e03_11ea_9e91_6c626d35f69drow146_col2 {\n",
       "            background-color:  #fff5f0;\n",
       "            color:  #000000;\n",
       "        }    #T_9b19ee34_6e03_11ea_9e91_6c626d35f69drow146_col3 {\n",
       "            background-color:  #fff5f0;\n",
       "            color:  #000000;\n",
       "        }    #T_9b19ee34_6e03_11ea_9e91_6c626d35f69drow146_col4 {\n",
       "            background-color:  #fff5f0;\n",
       "            color:  #000000;\n",
       "        }    #T_9b19ee34_6e03_11ea_9e91_6c626d35f69drow147_col1 {\n",
       "            background-color:  #fff5f0;\n",
       "            color:  #000000;\n",
       "        }    #T_9b19ee34_6e03_11ea_9e91_6c626d35f69drow147_col2 {\n",
       "            background-color:  #fff5f0;\n",
       "            color:  #000000;\n",
       "        }    #T_9b19ee34_6e03_11ea_9e91_6c626d35f69drow147_col3 {\n",
       "            background-color:  #fff5f0;\n",
       "            color:  #000000;\n",
       "        }    #T_9b19ee34_6e03_11ea_9e91_6c626d35f69drow147_col4 {\n",
       "            background-color:  #fff5f0;\n",
       "            color:  #000000;\n",
       "        }    #T_9b19ee34_6e03_11ea_9e91_6c626d35f69drow148_col1 {\n",
       "            background-color:  #fff5f0;\n",
       "            color:  #000000;\n",
       "        }    #T_9b19ee34_6e03_11ea_9e91_6c626d35f69drow148_col2 {\n",
       "            background-color:  #fff5f0;\n",
       "            color:  #000000;\n",
       "        }    #T_9b19ee34_6e03_11ea_9e91_6c626d35f69drow148_col3 {\n",
       "            background-color:  #fff5f0;\n",
       "            color:  #000000;\n",
       "        }    #T_9b19ee34_6e03_11ea_9e91_6c626d35f69drow148_col4 {\n",
       "            background-color:  #fff5f0;\n",
       "            color:  #000000;\n",
       "        }    #T_9b19ee34_6e03_11ea_9e91_6c626d35f69drow149_col1 {\n",
       "            background-color:  #fff5f0;\n",
       "            color:  #000000;\n",
       "        }    #T_9b19ee34_6e03_11ea_9e91_6c626d35f69drow149_col2 {\n",
       "            background-color:  #fff5f0;\n",
       "            color:  #000000;\n",
       "        }    #T_9b19ee34_6e03_11ea_9e91_6c626d35f69drow149_col3 {\n",
       "            background-color:  #fff5f0;\n",
       "            color:  #000000;\n",
       "        }    #T_9b19ee34_6e03_11ea_9e91_6c626d35f69drow149_col4 {\n",
       "            background-color:  #fff5f0;\n",
       "            color:  #000000;\n",
       "        }    #T_9b19ee34_6e03_11ea_9e91_6c626d35f69drow150_col1 {\n",
       "            background-color:  #fff5f0;\n",
       "            color:  #000000;\n",
       "        }    #T_9b19ee34_6e03_11ea_9e91_6c626d35f69drow150_col2 {\n",
       "            background-color:  #fff5f0;\n",
       "            color:  #000000;\n",
       "        }    #T_9b19ee34_6e03_11ea_9e91_6c626d35f69drow150_col3 {\n",
       "            background-color:  #fff5f0;\n",
       "            color:  #000000;\n",
       "        }    #T_9b19ee34_6e03_11ea_9e91_6c626d35f69drow150_col4 {\n",
       "            background-color:  #fff5f0;\n",
       "            color:  #000000;\n",
       "        }    #T_9b19ee34_6e03_11ea_9e91_6c626d35f69drow151_col1 {\n",
       "            background-color:  #fff5f0;\n",
       "            color:  #000000;\n",
       "        }    #T_9b19ee34_6e03_11ea_9e91_6c626d35f69drow151_col2 {\n",
       "            background-color:  #fff5f0;\n",
       "            color:  #000000;\n",
       "        }    #T_9b19ee34_6e03_11ea_9e91_6c626d35f69drow151_col3 {\n",
       "            background-color:  #fff5f0;\n",
       "            color:  #000000;\n",
       "        }    #T_9b19ee34_6e03_11ea_9e91_6c626d35f69drow151_col4 {\n",
       "            background-color:  #fff5f0;\n",
       "            color:  #000000;\n",
       "        }    #T_9b19ee34_6e03_11ea_9e91_6c626d35f69drow152_col1 {\n",
       "            background-color:  #fff5f0;\n",
       "            color:  #000000;\n",
       "        }    #T_9b19ee34_6e03_11ea_9e91_6c626d35f69drow152_col2 {\n",
       "            background-color:  #fff5f0;\n",
       "            color:  #000000;\n",
       "        }    #T_9b19ee34_6e03_11ea_9e91_6c626d35f69drow152_col3 {\n",
       "            background-color:  #fff5f0;\n",
       "            color:  #000000;\n",
       "        }    #T_9b19ee34_6e03_11ea_9e91_6c626d35f69drow152_col4 {\n",
       "            background-color:  #fff5f0;\n",
       "            color:  #000000;\n",
       "        }    #T_9b19ee34_6e03_11ea_9e91_6c626d35f69drow153_col1 {\n",
       "            background-color:  #fff5f0;\n",
       "            color:  #000000;\n",
       "        }    #T_9b19ee34_6e03_11ea_9e91_6c626d35f69drow153_col2 {\n",
       "            background-color:  #fff5f0;\n",
       "            color:  #000000;\n",
       "        }    #T_9b19ee34_6e03_11ea_9e91_6c626d35f69drow153_col3 {\n",
       "            background-color:  #fff5f0;\n",
       "            color:  #000000;\n",
       "        }    #T_9b19ee34_6e03_11ea_9e91_6c626d35f69drow153_col4 {\n",
       "            background-color:  #fff5f0;\n",
       "            color:  #000000;\n",
       "        }    #T_9b19ee34_6e03_11ea_9e91_6c626d35f69drow154_col1 {\n",
       "            background-color:  #fff5f0;\n",
       "            color:  #000000;\n",
       "        }    #T_9b19ee34_6e03_11ea_9e91_6c626d35f69drow154_col2 {\n",
       "            background-color:  #fff5f0;\n",
       "            color:  #000000;\n",
       "        }    #T_9b19ee34_6e03_11ea_9e91_6c626d35f69drow154_col3 {\n",
       "            background-color:  #fff5f0;\n",
       "            color:  #000000;\n",
       "        }    #T_9b19ee34_6e03_11ea_9e91_6c626d35f69drow154_col4 {\n",
       "            background-color:  #fff5f0;\n",
       "            color:  #000000;\n",
       "        }    #T_9b19ee34_6e03_11ea_9e91_6c626d35f69drow155_col1 {\n",
       "            background-color:  #fff5f0;\n",
       "            color:  #000000;\n",
       "        }    #T_9b19ee34_6e03_11ea_9e91_6c626d35f69drow155_col2 {\n",
       "            background-color:  #fff5f0;\n",
       "            color:  #000000;\n",
       "        }    #T_9b19ee34_6e03_11ea_9e91_6c626d35f69drow155_col3 {\n",
       "            background-color:  #fff5f0;\n",
       "            color:  #000000;\n",
       "        }    #T_9b19ee34_6e03_11ea_9e91_6c626d35f69drow155_col4 {\n",
       "            background-color:  #fff5f0;\n",
       "            color:  #000000;\n",
       "        }    #T_9b19ee34_6e03_11ea_9e91_6c626d35f69drow156_col1 {\n",
       "            background-color:  #fff5f0;\n",
       "            color:  #000000;\n",
       "        }    #T_9b19ee34_6e03_11ea_9e91_6c626d35f69drow156_col2 {\n",
       "            background-color:  #fff5f0;\n",
       "            color:  #000000;\n",
       "        }    #T_9b19ee34_6e03_11ea_9e91_6c626d35f69drow156_col3 {\n",
       "            background-color:  #fff5f0;\n",
       "            color:  #000000;\n",
       "        }    #T_9b19ee34_6e03_11ea_9e91_6c626d35f69drow156_col4 {\n",
       "            background-color:  #fff5f0;\n",
       "            color:  #000000;\n",
       "        }    #T_9b19ee34_6e03_11ea_9e91_6c626d35f69drow157_col1 {\n",
       "            background-color:  #fff5f0;\n",
       "            color:  #000000;\n",
       "        }    #T_9b19ee34_6e03_11ea_9e91_6c626d35f69drow157_col2 {\n",
       "            background-color:  #fff5f0;\n",
       "            color:  #000000;\n",
       "        }    #T_9b19ee34_6e03_11ea_9e91_6c626d35f69drow157_col3 {\n",
       "            background-color:  #fff5f0;\n",
       "            color:  #000000;\n",
       "        }    #T_9b19ee34_6e03_11ea_9e91_6c626d35f69drow157_col4 {\n",
       "            background-color:  #fff5f0;\n",
       "            color:  #000000;\n",
       "        }    #T_9b19ee34_6e03_11ea_9e91_6c626d35f69drow158_col1 {\n",
       "            background-color:  #fff5f0;\n",
       "            color:  #000000;\n",
       "        }    #T_9b19ee34_6e03_11ea_9e91_6c626d35f69drow158_col2 {\n",
       "            background-color:  #fff5f0;\n",
       "            color:  #000000;\n",
       "        }    #T_9b19ee34_6e03_11ea_9e91_6c626d35f69drow158_col3 {\n",
       "            background-color:  #fff5f0;\n",
       "            color:  #000000;\n",
       "        }    #T_9b19ee34_6e03_11ea_9e91_6c626d35f69drow158_col4 {\n",
       "            background-color:  #fff5f0;\n",
       "            color:  #000000;\n",
       "        }    #T_9b19ee34_6e03_11ea_9e91_6c626d35f69drow159_col1 {\n",
       "            background-color:  #fff5f0;\n",
       "            color:  #000000;\n",
       "        }    #T_9b19ee34_6e03_11ea_9e91_6c626d35f69drow159_col2 {\n",
       "            background-color:  #fff5f0;\n",
       "            color:  #000000;\n",
       "        }    #T_9b19ee34_6e03_11ea_9e91_6c626d35f69drow159_col3 {\n",
       "            background-color:  #fff5f0;\n",
       "            color:  #000000;\n",
       "        }    #T_9b19ee34_6e03_11ea_9e91_6c626d35f69drow159_col4 {\n",
       "            background-color:  #fff5f0;\n",
       "            color:  #000000;\n",
       "        }    #T_9b19ee34_6e03_11ea_9e91_6c626d35f69drow160_col1 {\n",
       "            background-color:  #fff5f0;\n",
       "            color:  #000000;\n",
       "        }    #T_9b19ee34_6e03_11ea_9e91_6c626d35f69drow160_col2 {\n",
       "            background-color:  #fff5f0;\n",
       "            color:  #000000;\n",
       "        }    #T_9b19ee34_6e03_11ea_9e91_6c626d35f69drow160_col3 {\n",
       "            background-color:  #fff5f0;\n",
       "            color:  #000000;\n",
       "        }    #T_9b19ee34_6e03_11ea_9e91_6c626d35f69drow160_col4 {\n",
       "            background-color:  #fff5f0;\n",
       "            color:  #000000;\n",
       "        }    #T_9b19ee34_6e03_11ea_9e91_6c626d35f69drow161_col1 {\n",
       "            background-color:  #fff5f0;\n",
       "            color:  #000000;\n",
       "        }    #T_9b19ee34_6e03_11ea_9e91_6c626d35f69drow161_col2 {\n",
       "            background-color:  #fff5f0;\n",
       "            color:  #000000;\n",
       "        }    #T_9b19ee34_6e03_11ea_9e91_6c626d35f69drow161_col3 {\n",
       "            background-color:  #fff5f0;\n",
       "            color:  #000000;\n",
       "        }    #T_9b19ee34_6e03_11ea_9e91_6c626d35f69drow161_col4 {\n",
       "            background-color:  #fff5f0;\n",
       "            color:  #000000;\n",
       "        }    #T_9b19ee34_6e03_11ea_9e91_6c626d35f69drow162_col1 {\n",
       "            background-color:  #fff5f0;\n",
       "            color:  #000000;\n",
       "        }    #T_9b19ee34_6e03_11ea_9e91_6c626d35f69drow162_col2 {\n",
       "            background-color:  #fff5f0;\n",
       "            color:  #000000;\n",
       "        }    #T_9b19ee34_6e03_11ea_9e91_6c626d35f69drow162_col3 {\n",
       "            background-color:  #fff5f0;\n",
       "            color:  #000000;\n",
       "        }    #T_9b19ee34_6e03_11ea_9e91_6c626d35f69drow162_col4 {\n",
       "            background-color:  #fff5f0;\n",
       "            color:  #000000;\n",
       "        }    #T_9b19ee34_6e03_11ea_9e91_6c626d35f69drow163_col1 {\n",
       "            background-color:  #fff5f0;\n",
       "            color:  #000000;\n",
       "        }    #T_9b19ee34_6e03_11ea_9e91_6c626d35f69drow163_col2 {\n",
       "            background-color:  #fff5f0;\n",
       "            color:  #000000;\n",
       "        }    #T_9b19ee34_6e03_11ea_9e91_6c626d35f69drow163_col3 {\n",
       "            background-color:  #fff5f0;\n",
       "            color:  #000000;\n",
       "        }    #T_9b19ee34_6e03_11ea_9e91_6c626d35f69drow163_col4 {\n",
       "            background-color:  #fff5f0;\n",
       "            color:  #000000;\n",
       "        }    #T_9b19ee34_6e03_11ea_9e91_6c626d35f69drow164_col1 {\n",
       "            background-color:  #fff5f0;\n",
       "            color:  #000000;\n",
       "        }    #T_9b19ee34_6e03_11ea_9e91_6c626d35f69drow164_col2 {\n",
       "            background-color:  #fff5f0;\n",
       "            color:  #000000;\n",
       "        }    #T_9b19ee34_6e03_11ea_9e91_6c626d35f69drow164_col3 {\n",
       "            background-color:  #fff5f0;\n",
       "            color:  #000000;\n",
       "        }    #T_9b19ee34_6e03_11ea_9e91_6c626d35f69drow164_col4 {\n",
       "            background-color:  #fff5f0;\n",
       "            color:  #000000;\n",
       "        }    #T_9b19ee34_6e03_11ea_9e91_6c626d35f69drow165_col1 {\n",
       "            background-color:  #fff5f0;\n",
       "            color:  #000000;\n",
       "        }    #T_9b19ee34_6e03_11ea_9e91_6c626d35f69drow165_col2 {\n",
       "            background-color:  #fff5f0;\n",
       "            color:  #000000;\n",
       "        }    #T_9b19ee34_6e03_11ea_9e91_6c626d35f69drow165_col3 {\n",
       "            background-color:  #fff5f0;\n",
       "            color:  #000000;\n",
       "        }    #T_9b19ee34_6e03_11ea_9e91_6c626d35f69drow165_col4 {\n",
       "            background-color:  #fff5f0;\n",
       "            color:  #000000;\n",
       "        }    #T_9b19ee34_6e03_11ea_9e91_6c626d35f69drow166_col1 {\n",
       "            background-color:  #fff5f0;\n",
       "            color:  #000000;\n",
       "        }    #T_9b19ee34_6e03_11ea_9e91_6c626d35f69drow166_col2 {\n",
       "            background-color:  #fff5f0;\n",
       "            color:  #000000;\n",
       "        }    #T_9b19ee34_6e03_11ea_9e91_6c626d35f69drow166_col3 {\n",
       "            background-color:  #fff5f0;\n",
       "            color:  #000000;\n",
       "        }    #T_9b19ee34_6e03_11ea_9e91_6c626d35f69drow166_col4 {\n",
       "            background-color:  #fff5f0;\n",
       "            color:  #000000;\n",
       "        }    #T_9b19ee34_6e03_11ea_9e91_6c626d35f69drow167_col1 {\n",
       "            background-color:  #fff5f0;\n",
       "            color:  #000000;\n",
       "        }    #T_9b19ee34_6e03_11ea_9e91_6c626d35f69drow167_col2 {\n",
       "            background-color:  #fff5f0;\n",
       "            color:  #000000;\n",
       "        }    #T_9b19ee34_6e03_11ea_9e91_6c626d35f69drow167_col3 {\n",
       "            background-color:  #fff5f0;\n",
       "            color:  #000000;\n",
       "        }    #T_9b19ee34_6e03_11ea_9e91_6c626d35f69drow167_col4 {\n",
       "            background-color:  #fff5f0;\n",
       "            color:  #000000;\n",
       "        }</style><table id=\"T_9b19ee34_6e03_11ea_9e91_6c626d35f69d\" ><thead>    <tr>        <th class=\"blank level0\" ></th>        <th class=\"col_heading level0 col0\" >Country_Region</th>        <th class=\"col_heading level0 col1\" >Confirmed</th>        <th class=\"col_heading level0 col2\" >Deaths</th>        <th class=\"col_heading level0 col3\" >Recovered</th>        <th class=\"col_heading level0 col4\" >Active</th>    </tr></thead><tbody>\n",
       "                <tr>\n",
       "                        <th id=\"T_9b19ee34_6e03_11ea_9e91_6c626d35f69dlevel0_row0\" class=\"row_heading level0 row0\" >0</th>\n",
       "                        <td id=\"T_9b19ee34_6e03_11ea_9e91_6c626d35f69drow0_col0\" class=\"data row0 col0\" >China</td>\n",
       "                        <td id=\"T_9b19ee34_6e03_11ea_9e91_6c626d35f69drow0_col1\" class=\"data row0 col1\" >81496</td>\n",
       "                        <td id=\"T_9b19ee34_6e03_11ea_9e91_6c626d35f69drow0_col2\" class=\"data row0 col2\" >3274</td>\n",
       "                        <td id=\"T_9b19ee34_6e03_11ea_9e91_6c626d35f69drow0_col3\" class=\"data row0 col3\" >72819</td>\n",
       "                        <td id=\"T_9b19ee34_6e03_11ea_9e91_6c626d35f69drow0_col4\" class=\"data row0 col4\" >5403</td>\n",
       "            </tr>\n",
       "            <tr>\n",
       "                        <th id=\"T_9b19ee34_6e03_11ea_9e91_6c626d35f69dlevel0_row1\" class=\"row_heading level0 row1\" >1</th>\n",
       "                        <td id=\"T_9b19ee34_6e03_11ea_9e91_6c626d35f69drow1_col0\" class=\"data row1 col0\" >Italy</td>\n",
       "                        <td id=\"T_9b19ee34_6e03_11ea_9e91_6c626d35f69drow1_col1\" class=\"data row1 col1\" >63927</td>\n",
       "                        <td id=\"T_9b19ee34_6e03_11ea_9e91_6c626d35f69drow1_col2\" class=\"data row1 col2\" >6077</td>\n",
       "                        <td id=\"T_9b19ee34_6e03_11ea_9e91_6c626d35f69drow1_col3\" class=\"data row1 col3\" >7432</td>\n",
       "                        <td id=\"T_9b19ee34_6e03_11ea_9e91_6c626d35f69drow1_col4\" class=\"data row1 col4\" >50418</td>\n",
       "            </tr>\n",
       "            <tr>\n",
       "                        <th id=\"T_9b19ee34_6e03_11ea_9e91_6c626d35f69dlevel0_row2\" class=\"row_heading level0 row2\" >2</th>\n",
       "                        <td id=\"T_9b19ee34_6e03_11ea_9e91_6c626d35f69drow2_col0\" class=\"data row2 col0\" >US</td>\n",
       "                        <td id=\"T_9b19ee34_6e03_11ea_9e91_6c626d35f69drow2_col1\" class=\"data row2 col1\" >43667</td>\n",
       "                        <td id=\"T_9b19ee34_6e03_11ea_9e91_6c626d35f69drow2_col2\" class=\"data row2 col2\" >552</td>\n",
       "                        <td id=\"T_9b19ee34_6e03_11ea_9e91_6c626d35f69drow2_col3\" class=\"data row2 col3\" >0</td>\n",
       "                        <td id=\"T_9b19ee34_6e03_11ea_9e91_6c626d35f69drow2_col4\" class=\"data row2 col4\" >43115</td>\n",
       "            </tr>\n",
       "            <tr>\n",
       "                        <th id=\"T_9b19ee34_6e03_11ea_9e91_6c626d35f69dlevel0_row3\" class=\"row_heading level0 row3\" >3</th>\n",
       "                        <td id=\"T_9b19ee34_6e03_11ea_9e91_6c626d35f69drow3_col0\" class=\"data row3 col0\" >Spain</td>\n",
       "                        <td id=\"T_9b19ee34_6e03_11ea_9e91_6c626d35f69drow3_col1\" class=\"data row3 col1\" >35136</td>\n",
       "                        <td id=\"T_9b19ee34_6e03_11ea_9e91_6c626d35f69drow3_col2\" class=\"data row3 col2\" >2311</td>\n",
       "                        <td id=\"T_9b19ee34_6e03_11ea_9e91_6c626d35f69drow3_col3\" class=\"data row3 col3\" >3355</td>\n",
       "                        <td id=\"T_9b19ee34_6e03_11ea_9e91_6c626d35f69drow3_col4\" class=\"data row3 col4\" >29470</td>\n",
       "            </tr>\n",
       "            <tr>\n",
       "                        <th id=\"T_9b19ee34_6e03_11ea_9e91_6c626d35f69dlevel0_row4\" class=\"row_heading level0 row4\" >4</th>\n",
       "                        <td id=\"T_9b19ee34_6e03_11ea_9e91_6c626d35f69drow4_col0\" class=\"data row4 col0\" >Germany</td>\n",
       "                        <td id=\"T_9b19ee34_6e03_11ea_9e91_6c626d35f69drow4_col1\" class=\"data row4 col1\" >29056</td>\n",
       "                        <td id=\"T_9b19ee34_6e03_11ea_9e91_6c626d35f69drow4_col2\" class=\"data row4 col2\" >123</td>\n",
       "                        <td id=\"T_9b19ee34_6e03_11ea_9e91_6c626d35f69drow4_col3\" class=\"data row4 col3\" >453</td>\n",
       "                        <td id=\"T_9b19ee34_6e03_11ea_9e91_6c626d35f69drow4_col4\" class=\"data row4 col4\" >28480</td>\n",
       "            </tr>\n",
       "            <tr>\n",
       "                        <th id=\"T_9b19ee34_6e03_11ea_9e91_6c626d35f69dlevel0_row5\" class=\"row_heading level0 row5\" >5</th>\n",
       "                        <td id=\"T_9b19ee34_6e03_11ea_9e91_6c626d35f69drow5_col0\" class=\"data row5 col0\" >Iran</td>\n",
       "                        <td id=\"T_9b19ee34_6e03_11ea_9e91_6c626d35f69drow5_col1\" class=\"data row5 col1\" >23049</td>\n",
       "                        <td id=\"T_9b19ee34_6e03_11ea_9e91_6c626d35f69drow5_col2\" class=\"data row5 col2\" >1812</td>\n",
       "                        <td id=\"T_9b19ee34_6e03_11ea_9e91_6c626d35f69drow5_col3\" class=\"data row5 col3\" >8376</td>\n",
       "                        <td id=\"T_9b19ee34_6e03_11ea_9e91_6c626d35f69drow5_col4\" class=\"data row5 col4\" >12861</td>\n",
       "            </tr>\n",
       "            <tr>\n",
       "                        <th id=\"T_9b19ee34_6e03_11ea_9e91_6c626d35f69dlevel0_row6\" class=\"row_heading level0 row6\" >6</th>\n",
       "                        <td id=\"T_9b19ee34_6e03_11ea_9e91_6c626d35f69drow6_col0\" class=\"data row6 col0\" >France</td>\n",
       "                        <td id=\"T_9b19ee34_6e03_11ea_9e91_6c626d35f69drow6_col1\" class=\"data row6 col1\" >20123</td>\n",
       "                        <td id=\"T_9b19ee34_6e03_11ea_9e91_6c626d35f69drow6_col2\" class=\"data row6 col2\" >862</td>\n",
       "                        <td id=\"T_9b19ee34_6e03_11ea_9e91_6c626d35f69drow6_col3\" class=\"data row6 col3\" >2207</td>\n",
       "                        <td id=\"T_9b19ee34_6e03_11ea_9e91_6c626d35f69drow6_col4\" class=\"data row6 col4\" >17054</td>\n",
       "            </tr>\n",
       "            <tr>\n",
       "                        <th id=\"T_9b19ee34_6e03_11ea_9e91_6c626d35f69dlevel0_row7\" class=\"row_heading level0 row7\" >7</th>\n",
       "                        <td id=\"T_9b19ee34_6e03_11ea_9e91_6c626d35f69drow7_col0\" class=\"data row7 col0\" >Korea, South</td>\n",
       "                        <td id=\"T_9b19ee34_6e03_11ea_9e91_6c626d35f69drow7_col1\" class=\"data row7 col1\" >8961</td>\n",
       "                        <td id=\"T_9b19ee34_6e03_11ea_9e91_6c626d35f69drow7_col2\" class=\"data row7 col2\" >111</td>\n",
       "                        <td id=\"T_9b19ee34_6e03_11ea_9e91_6c626d35f69drow7_col3\" class=\"data row7 col3\" >3166</td>\n",
       "                        <td id=\"T_9b19ee34_6e03_11ea_9e91_6c626d35f69drow7_col4\" class=\"data row7 col4\" >5684</td>\n",
       "            </tr>\n",
       "            <tr>\n",
       "                        <th id=\"T_9b19ee34_6e03_11ea_9e91_6c626d35f69dlevel0_row8\" class=\"row_heading level0 row8\" >8</th>\n",
       "                        <td id=\"T_9b19ee34_6e03_11ea_9e91_6c626d35f69drow8_col0\" class=\"data row8 col0\" >Switzerland</td>\n",
       "                        <td id=\"T_9b19ee34_6e03_11ea_9e91_6c626d35f69drow8_col1\" class=\"data row8 col1\" >8795</td>\n",
       "                        <td id=\"T_9b19ee34_6e03_11ea_9e91_6c626d35f69drow8_col2\" class=\"data row8 col2\" >120</td>\n",
       "                        <td id=\"T_9b19ee34_6e03_11ea_9e91_6c626d35f69drow8_col3\" class=\"data row8 col3\" >131</td>\n",
       "                        <td id=\"T_9b19ee34_6e03_11ea_9e91_6c626d35f69drow8_col4\" class=\"data row8 col4\" >8544</td>\n",
       "            </tr>\n",
       "            <tr>\n",
       "                        <th id=\"T_9b19ee34_6e03_11ea_9e91_6c626d35f69dlevel0_row9\" class=\"row_heading level0 row9\" >9</th>\n",
       "                        <td id=\"T_9b19ee34_6e03_11ea_9e91_6c626d35f69drow9_col0\" class=\"data row9 col0\" >United Kingdom</td>\n",
       "                        <td id=\"T_9b19ee34_6e03_11ea_9e91_6c626d35f69drow9_col1\" class=\"data row9 col1\" >6726</td>\n",
       "                        <td id=\"T_9b19ee34_6e03_11ea_9e91_6c626d35f69drow9_col2\" class=\"data row9 col2\" >336</td>\n",
       "                        <td id=\"T_9b19ee34_6e03_11ea_9e91_6c626d35f69drow9_col3\" class=\"data row9 col3\" >140</td>\n",
       "                        <td id=\"T_9b19ee34_6e03_11ea_9e91_6c626d35f69drow9_col4\" class=\"data row9 col4\" >6250</td>\n",
       "            </tr>\n",
       "            <tr>\n",
       "                        <th id=\"T_9b19ee34_6e03_11ea_9e91_6c626d35f69dlevel0_row10\" class=\"row_heading level0 row10\" >10</th>\n",
       "                        <td id=\"T_9b19ee34_6e03_11ea_9e91_6c626d35f69drow10_col0\" class=\"data row10 col0\" >Netherlands</td>\n",
       "                        <td id=\"T_9b19ee34_6e03_11ea_9e91_6c626d35f69drow10_col1\" class=\"data row10 col1\" >4764</td>\n",
       "                        <td id=\"T_9b19ee34_6e03_11ea_9e91_6c626d35f69drow10_col2\" class=\"data row10 col2\" >214</td>\n",
       "                        <td id=\"T_9b19ee34_6e03_11ea_9e91_6c626d35f69drow10_col3\" class=\"data row10 col3\" >3</td>\n",
       "                        <td id=\"T_9b19ee34_6e03_11ea_9e91_6c626d35f69drow10_col4\" class=\"data row10 col4\" >4547</td>\n",
       "            </tr>\n",
       "            <tr>\n",
       "                        <th id=\"T_9b19ee34_6e03_11ea_9e91_6c626d35f69dlevel0_row11\" class=\"row_heading level0 row11\" >11</th>\n",
       "                        <td id=\"T_9b19ee34_6e03_11ea_9e91_6c626d35f69drow11_col0\" class=\"data row11 col0\" >Austria</td>\n",
       "                        <td id=\"T_9b19ee34_6e03_11ea_9e91_6c626d35f69drow11_col1\" class=\"data row11 col1\" >4474</td>\n",
       "                        <td id=\"T_9b19ee34_6e03_11ea_9e91_6c626d35f69drow11_col2\" class=\"data row11 col2\" >21</td>\n",
       "                        <td id=\"T_9b19ee34_6e03_11ea_9e91_6c626d35f69drow11_col3\" class=\"data row11 col3\" >9</td>\n",
       "                        <td id=\"T_9b19ee34_6e03_11ea_9e91_6c626d35f69drow11_col4\" class=\"data row11 col4\" >4444</td>\n",
       "            </tr>\n",
       "            <tr>\n",
       "                        <th id=\"T_9b19ee34_6e03_11ea_9e91_6c626d35f69dlevel0_row12\" class=\"row_heading level0 row12\" >12</th>\n",
       "                        <td id=\"T_9b19ee34_6e03_11ea_9e91_6c626d35f69drow12_col0\" class=\"data row12 col0\" >Belgium</td>\n",
       "                        <td id=\"T_9b19ee34_6e03_11ea_9e91_6c626d35f69drow12_col1\" class=\"data row12 col1\" >3743</td>\n",
       "                        <td id=\"T_9b19ee34_6e03_11ea_9e91_6c626d35f69drow12_col2\" class=\"data row12 col2\" >88</td>\n",
       "                        <td id=\"T_9b19ee34_6e03_11ea_9e91_6c626d35f69drow12_col3\" class=\"data row12 col3\" >401</td>\n",
       "                        <td id=\"T_9b19ee34_6e03_11ea_9e91_6c626d35f69drow12_col4\" class=\"data row12 col4\" >3254</td>\n",
       "            </tr>\n",
       "            <tr>\n",
       "                        <th id=\"T_9b19ee34_6e03_11ea_9e91_6c626d35f69dlevel0_row13\" class=\"row_heading level0 row13\" >13</th>\n",
       "                        <td id=\"T_9b19ee34_6e03_11ea_9e91_6c626d35f69drow13_col0\" class=\"data row13 col0\" >Norway</td>\n",
       "                        <td id=\"T_9b19ee34_6e03_11ea_9e91_6c626d35f69drow13_col1\" class=\"data row13 col1\" >2621</td>\n",
       "                        <td id=\"T_9b19ee34_6e03_11ea_9e91_6c626d35f69drow13_col2\" class=\"data row13 col2\" >10</td>\n",
       "                        <td id=\"T_9b19ee34_6e03_11ea_9e91_6c626d35f69drow13_col3\" class=\"data row13 col3\" >6</td>\n",
       "                        <td id=\"T_9b19ee34_6e03_11ea_9e91_6c626d35f69drow13_col4\" class=\"data row13 col4\" >2605</td>\n",
       "            </tr>\n",
       "            <tr>\n",
       "                        <th id=\"T_9b19ee34_6e03_11ea_9e91_6c626d35f69dlevel0_row14\" class=\"row_heading level0 row14\" >14</th>\n",
       "                        <td id=\"T_9b19ee34_6e03_11ea_9e91_6c626d35f69drow14_col0\" class=\"data row14 col0\" >Canada</td>\n",
       "                        <td id=\"T_9b19ee34_6e03_11ea_9e91_6c626d35f69drow14_col1\" class=\"data row14 col1\" >2088</td>\n",
       "                        <td id=\"T_9b19ee34_6e03_11ea_9e91_6c626d35f69drow14_col2\" class=\"data row14 col2\" >25</td>\n",
       "                        <td id=\"T_9b19ee34_6e03_11ea_9e91_6c626d35f69drow14_col3\" class=\"data row14 col3\" >0</td>\n",
       "                        <td id=\"T_9b19ee34_6e03_11ea_9e91_6c626d35f69drow14_col4\" class=\"data row14 col4\" >2063</td>\n",
       "            </tr>\n",
       "            <tr>\n",
       "                        <th id=\"T_9b19ee34_6e03_11ea_9e91_6c626d35f69dlevel0_row15\" class=\"row_heading level0 row15\" >15</th>\n",
       "                        <td id=\"T_9b19ee34_6e03_11ea_9e91_6c626d35f69drow15_col0\" class=\"data row15 col0\" >Portugal</td>\n",
       "                        <td id=\"T_9b19ee34_6e03_11ea_9e91_6c626d35f69drow15_col1\" class=\"data row15 col1\" >2060</td>\n",
       "                        <td id=\"T_9b19ee34_6e03_11ea_9e91_6c626d35f69drow15_col2\" class=\"data row15 col2\" >23</td>\n",
       "                        <td id=\"T_9b19ee34_6e03_11ea_9e91_6c626d35f69drow15_col3\" class=\"data row15 col3\" >14</td>\n",
       "                        <td id=\"T_9b19ee34_6e03_11ea_9e91_6c626d35f69drow15_col4\" class=\"data row15 col4\" >2023</td>\n",
       "            </tr>\n",
       "            <tr>\n",
       "                        <th id=\"T_9b19ee34_6e03_11ea_9e91_6c626d35f69dlevel0_row16\" class=\"row_heading level0 row16\" >16</th>\n",
       "                        <td id=\"T_9b19ee34_6e03_11ea_9e91_6c626d35f69drow16_col0\" class=\"data row16 col0\" >Sweden</td>\n",
       "                        <td id=\"T_9b19ee34_6e03_11ea_9e91_6c626d35f69drow16_col1\" class=\"data row16 col1\" >2046</td>\n",
       "                        <td id=\"T_9b19ee34_6e03_11ea_9e91_6c626d35f69drow16_col2\" class=\"data row16 col2\" >25</td>\n",
       "                        <td id=\"T_9b19ee34_6e03_11ea_9e91_6c626d35f69drow16_col3\" class=\"data row16 col3\" >16</td>\n",
       "                        <td id=\"T_9b19ee34_6e03_11ea_9e91_6c626d35f69drow16_col4\" class=\"data row16 col4\" >2005</td>\n",
       "            </tr>\n",
       "            <tr>\n",
       "                        <th id=\"T_9b19ee34_6e03_11ea_9e91_6c626d35f69dlevel0_row17\" class=\"row_heading level0 row17\" >17</th>\n",
       "                        <td id=\"T_9b19ee34_6e03_11ea_9e91_6c626d35f69drow17_col0\" class=\"data row17 col0\" >Brazil</td>\n",
       "                        <td id=\"T_9b19ee34_6e03_11ea_9e91_6c626d35f69drow17_col1\" class=\"data row17 col1\" >1924</td>\n",
       "                        <td id=\"T_9b19ee34_6e03_11ea_9e91_6c626d35f69drow17_col2\" class=\"data row17 col2\" >34</td>\n",
       "                        <td id=\"T_9b19ee34_6e03_11ea_9e91_6c626d35f69drow17_col3\" class=\"data row17 col3\" >2</td>\n",
       "                        <td id=\"T_9b19ee34_6e03_11ea_9e91_6c626d35f69drow17_col4\" class=\"data row17 col4\" >1888</td>\n",
       "            </tr>\n",
       "            <tr>\n",
       "                        <th id=\"T_9b19ee34_6e03_11ea_9e91_6c626d35f69dlevel0_row18\" class=\"row_heading level0 row18\" >18</th>\n",
       "                        <td id=\"T_9b19ee34_6e03_11ea_9e91_6c626d35f69drow18_col0\" class=\"data row18 col0\" >Australia</td>\n",
       "                        <td id=\"T_9b19ee34_6e03_11ea_9e91_6c626d35f69drow18_col1\" class=\"data row18 col1\" >1682</td>\n",
       "                        <td id=\"T_9b19ee34_6e03_11ea_9e91_6c626d35f69drow18_col2\" class=\"data row18 col2\" >7</td>\n",
       "                        <td id=\"T_9b19ee34_6e03_11ea_9e91_6c626d35f69drow18_col3\" class=\"data row18 col3\" >119</td>\n",
       "                        <td id=\"T_9b19ee34_6e03_11ea_9e91_6c626d35f69drow18_col4\" class=\"data row18 col4\" >1556</td>\n",
       "            </tr>\n",
       "            <tr>\n",
       "                        <th id=\"T_9b19ee34_6e03_11ea_9e91_6c626d35f69dlevel0_row19\" class=\"row_heading level0 row19\" >19</th>\n",
       "                        <td id=\"T_9b19ee34_6e03_11ea_9e91_6c626d35f69drow19_col0\" class=\"data row19 col0\" >Denmark</td>\n",
       "                        <td id=\"T_9b19ee34_6e03_11ea_9e91_6c626d35f69drow19_col1\" class=\"data row19 col1\" >1572</td>\n",
       "                        <td id=\"T_9b19ee34_6e03_11ea_9e91_6c626d35f69drow19_col2\" class=\"data row19 col2\" >24</td>\n",
       "                        <td id=\"T_9b19ee34_6e03_11ea_9e91_6c626d35f69drow19_col3\" class=\"data row19 col3\" >24</td>\n",
       "                        <td id=\"T_9b19ee34_6e03_11ea_9e91_6c626d35f69drow19_col4\" class=\"data row19 col4\" >1524</td>\n",
       "            </tr>\n",
       "            <tr>\n",
       "                        <th id=\"T_9b19ee34_6e03_11ea_9e91_6c626d35f69dlevel0_row20\" class=\"row_heading level0 row20\" >20</th>\n",
       "                        <td id=\"T_9b19ee34_6e03_11ea_9e91_6c626d35f69drow20_col0\" class=\"data row20 col0\" >Turkey</td>\n",
       "                        <td id=\"T_9b19ee34_6e03_11ea_9e91_6c626d35f69drow20_col1\" class=\"data row20 col1\" >1529</td>\n",
       "                        <td id=\"T_9b19ee34_6e03_11ea_9e91_6c626d35f69drow20_col2\" class=\"data row20 col2\" >37</td>\n",
       "                        <td id=\"T_9b19ee34_6e03_11ea_9e91_6c626d35f69drow20_col3\" class=\"data row20 col3\" >0</td>\n",
       "                        <td id=\"T_9b19ee34_6e03_11ea_9e91_6c626d35f69drow20_col4\" class=\"data row20 col4\" >1492</td>\n",
       "            </tr>\n",
       "            <tr>\n",
       "                        <th id=\"T_9b19ee34_6e03_11ea_9e91_6c626d35f69dlevel0_row21\" class=\"row_heading level0 row21\" >21</th>\n",
       "                        <td id=\"T_9b19ee34_6e03_11ea_9e91_6c626d35f69drow21_col0\" class=\"data row21 col0\" >Malaysia</td>\n",
       "                        <td id=\"T_9b19ee34_6e03_11ea_9e91_6c626d35f69drow21_col1\" class=\"data row21 col1\" >1518</td>\n",
       "                        <td id=\"T_9b19ee34_6e03_11ea_9e91_6c626d35f69drow21_col2\" class=\"data row21 col2\" >14</td>\n",
       "                        <td id=\"T_9b19ee34_6e03_11ea_9e91_6c626d35f69drow21_col3\" class=\"data row21 col3\" >159</td>\n",
       "                        <td id=\"T_9b19ee34_6e03_11ea_9e91_6c626d35f69drow21_col4\" class=\"data row21 col4\" >1345</td>\n",
       "            </tr>\n",
       "            <tr>\n",
       "                        <th id=\"T_9b19ee34_6e03_11ea_9e91_6c626d35f69dlevel0_row22\" class=\"row_heading level0 row22\" >22</th>\n",
       "                        <td id=\"T_9b19ee34_6e03_11ea_9e91_6c626d35f69drow22_col0\" class=\"data row22 col0\" >Israel</td>\n",
       "                        <td id=\"T_9b19ee34_6e03_11ea_9e91_6c626d35f69drow22_col1\" class=\"data row22 col1\" >1442</td>\n",
       "                        <td id=\"T_9b19ee34_6e03_11ea_9e91_6c626d35f69drow22_col2\" class=\"data row22 col2\" >1</td>\n",
       "                        <td id=\"T_9b19ee34_6e03_11ea_9e91_6c626d35f69drow22_col3\" class=\"data row22 col3\" >41</td>\n",
       "                        <td id=\"T_9b19ee34_6e03_11ea_9e91_6c626d35f69drow22_col4\" class=\"data row22 col4\" >1400</td>\n",
       "            </tr>\n",
       "            <tr>\n",
       "                        <th id=\"T_9b19ee34_6e03_11ea_9e91_6c626d35f69dlevel0_row23\" class=\"row_heading level0 row23\" >23</th>\n",
       "                        <td id=\"T_9b19ee34_6e03_11ea_9e91_6c626d35f69drow23_col0\" class=\"data row23 col0\" >Czechia</td>\n",
       "                        <td id=\"T_9b19ee34_6e03_11ea_9e91_6c626d35f69drow23_col1\" class=\"data row23 col1\" >1236</td>\n",
       "                        <td id=\"T_9b19ee34_6e03_11ea_9e91_6c626d35f69drow23_col2\" class=\"data row23 col2\" >1</td>\n",
       "                        <td id=\"T_9b19ee34_6e03_11ea_9e91_6c626d35f69drow23_col3\" class=\"data row23 col3\" >7</td>\n",
       "                        <td id=\"T_9b19ee34_6e03_11ea_9e91_6c626d35f69drow23_col4\" class=\"data row23 col4\" >1228</td>\n",
       "            </tr>\n",
       "            <tr>\n",
       "                        <th id=\"T_9b19ee34_6e03_11ea_9e91_6c626d35f69dlevel0_row24\" class=\"row_heading level0 row24\" >24</th>\n",
       "                        <td id=\"T_9b19ee34_6e03_11ea_9e91_6c626d35f69drow24_col0\" class=\"data row24 col0\" >Japan</td>\n",
       "                        <td id=\"T_9b19ee34_6e03_11ea_9e91_6c626d35f69drow24_col1\" class=\"data row24 col1\" >1128</td>\n",
       "                        <td id=\"T_9b19ee34_6e03_11ea_9e91_6c626d35f69drow24_col2\" class=\"data row24 col2\" >42</td>\n",
       "                        <td id=\"T_9b19ee34_6e03_11ea_9e91_6c626d35f69drow24_col3\" class=\"data row24 col3\" >235</td>\n",
       "                        <td id=\"T_9b19ee34_6e03_11ea_9e91_6c626d35f69drow24_col4\" class=\"data row24 col4\" >851</td>\n",
       "            </tr>\n",
       "            <tr>\n",
       "                        <th id=\"T_9b19ee34_6e03_11ea_9e91_6c626d35f69dlevel0_row25\" class=\"row_heading level0 row25\" >25</th>\n",
       "                        <td id=\"T_9b19ee34_6e03_11ea_9e91_6c626d35f69drow25_col0\" class=\"data row25 col0\" >Ireland</td>\n",
       "                        <td id=\"T_9b19ee34_6e03_11ea_9e91_6c626d35f69drow25_col1\" class=\"data row25 col1\" >1125</td>\n",
       "                        <td id=\"T_9b19ee34_6e03_11ea_9e91_6c626d35f69drow25_col2\" class=\"data row25 col2\" >6</td>\n",
       "                        <td id=\"T_9b19ee34_6e03_11ea_9e91_6c626d35f69drow25_col3\" class=\"data row25 col3\" >5</td>\n",
       "                        <td id=\"T_9b19ee34_6e03_11ea_9e91_6c626d35f69drow25_col4\" class=\"data row25 col4\" >1114</td>\n",
       "            </tr>\n",
       "            <tr>\n",
       "                        <th id=\"T_9b19ee34_6e03_11ea_9e91_6c626d35f69dlevel0_row26\" class=\"row_heading level0 row26\" >26</th>\n",
       "                        <td id=\"T_9b19ee34_6e03_11ea_9e91_6c626d35f69drow26_col0\" class=\"data row26 col0\" >Ecuador</td>\n",
       "                        <td id=\"T_9b19ee34_6e03_11ea_9e91_6c626d35f69drow26_col1\" class=\"data row26 col1\" >981</td>\n",
       "                        <td id=\"T_9b19ee34_6e03_11ea_9e91_6c626d35f69drow26_col2\" class=\"data row26 col2\" >18</td>\n",
       "                        <td id=\"T_9b19ee34_6e03_11ea_9e91_6c626d35f69drow26_col3\" class=\"data row26 col3\" >3</td>\n",
       "                        <td id=\"T_9b19ee34_6e03_11ea_9e91_6c626d35f69drow26_col4\" class=\"data row26 col4\" >960</td>\n",
       "            </tr>\n",
       "            <tr>\n",
       "                        <th id=\"T_9b19ee34_6e03_11ea_9e91_6c626d35f69dlevel0_row27\" class=\"row_heading level0 row27\" >27</th>\n",
       "                        <td id=\"T_9b19ee34_6e03_11ea_9e91_6c626d35f69drow27_col0\" class=\"data row27 col0\" >Luxembourg</td>\n",
       "                        <td id=\"T_9b19ee34_6e03_11ea_9e91_6c626d35f69drow27_col1\" class=\"data row27 col1\" >875</td>\n",
       "                        <td id=\"T_9b19ee34_6e03_11ea_9e91_6c626d35f69drow27_col2\" class=\"data row27 col2\" >8</td>\n",
       "                        <td id=\"T_9b19ee34_6e03_11ea_9e91_6c626d35f69drow27_col3\" class=\"data row27 col3\" >6</td>\n",
       "                        <td id=\"T_9b19ee34_6e03_11ea_9e91_6c626d35f69drow27_col4\" class=\"data row27 col4\" >861</td>\n",
       "            </tr>\n",
       "            <tr>\n",
       "                        <th id=\"T_9b19ee34_6e03_11ea_9e91_6c626d35f69dlevel0_row28\" class=\"row_heading level0 row28\" >28</th>\n",
       "                        <td id=\"T_9b19ee34_6e03_11ea_9e91_6c626d35f69drow28_col0\" class=\"data row28 col0\" >Pakistan</td>\n",
       "                        <td id=\"T_9b19ee34_6e03_11ea_9e91_6c626d35f69drow28_col1\" class=\"data row28 col1\" >875</td>\n",
       "                        <td id=\"T_9b19ee34_6e03_11ea_9e91_6c626d35f69drow28_col2\" class=\"data row28 col2\" >6</td>\n",
       "                        <td id=\"T_9b19ee34_6e03_11ea_9e91_6c626d35f69drow28_col3\" class=\"data row28 col3\" >13</td>\n",
       "                        <td id=\"T_9b19ee34_6e03_11ea_9e91_6c626d35f69drow28_col4\" class=\"data row28 col4\" >856</td>\n",
       "            </tr>\n",
       "            <tr>\n",
       "                        <th id=\"T_9b19ee34_6e03_11ea_9e91_6c626d35f69dlevel0_row29\" class=\"row_heading level0 row29\" >29</th>\n",
       "                        <td id=\"T_9b19ee34_6e03_11ea_9e91_6c626d35f69drow29_col0\" class=\"data row29 col0\" >Poland</td>\n",
       "                        <td id=\"T_9b19ee34_6e03_11ea_9e91_6c626d35f69drow29_col1\" class=\"data row29 col1\" >749</td>\n",
       "                        <td id=\"T_9b19ee34_6e03_11ea_9e91_6c626d35f69drow29_col2\" class=\"data row29 col2\" >8</td>\n",
       "                        <td id=\"T_9b19ee34_6e03_11ea_9e91_6c626d35f69drow29_col3\" class=\"data row29 col3\" >13</td>\n",
       "                        <td id=\"T_9b19ee34_6e03_11ea_9e91_6c626d35f69drow29_col4\" class=\"data row29 col4\" >728</td>\n",
       "            </tr>\n",
       "            <tr>\n",
       "                        <th id=\"T_9b19ee34_6e03_11ea_9e91_6c626d35f69dlevel0_row30\" class=\"row_heading level0 row30\" >30</th>\n",
       "                        <td id=\"T_9b19ee34_6e03_11ea_9e91_6c626d35f69drow30_col0\" class=\"data row30 col0\" >Chile</td>\n",
       "                        <td id=\"T_9b19ee34_6e03_11ea_9e91_6c626d35f69drow30_col1\" class=\"data row30 col1\" >746</td>\n",
       "                        <td id=\"T_9b19ee34_6e03_11ea_9e91_6c626d35f69drow30_col2\" class=\"data row30 col2\" >2</td>\n",
       "                        <td id=\"T_9b19ee34_6e03_11ea_9e91_6c626d35f69drow30_col3\" class=\"data row30 col3\" >11</td>\n",
       "                        <td id=\"T_9b19ee34_6e03_11ea_9e91_6c626d35f69drow30_col4\" class=\"data row30 col4\" >733</td>\n",
       "            </tr>\n",
       "            <tr>\n",
       "                        <th id=\"T_9b19ee34_6e03_11ea_9e91_6c626d35f69dlevel0_row31\" class=\"row_heading level0 row31\" >31</th>\n",
       "                        <td id=\"T_9b19ee34_6e03_11ea_9e91_6c626d35f69drow31_col0\" class=\"data row31 col0\" >Thailand</td>\n",
       "                        <td id=\"T_9b19ee34_6e03_11ea_9e91_6c626d35f69drow31_col1\" class=\"data row31 col1\" >721</td>\n",
       "                        <td id=\"T_9b19ee34_6e03_11ea_9e91_6c626d35f69drow31_col2\" class=\"data row31 col2\" >1</td>\n",
       "                        <td id=\"T_9b19ee34_6e03_11ea_9e91_6c626d35f69drow31_col3\" class=\"data row31 col3\" >52</td>\n",
       "                        <td id=\"T_9b19ee34_6e03_11ea_9e91_6c626d35f69drow31_col4\" class=\"data row31 col4\" >668</td>\n",
       "            </tr>\n",
       "            <tr>\n",
       "                        <th id=\"T_9b19ee34_6e03_11ea_9e91_6c626d35f69dlevel0_row32\" class=\"row_heading level0 row32\" >32</th>\n",
       "                        <td id=\"T_9b19ee34_6e03_11ea_9e91_6c626d35f69drow32_col0\" class=\"data row32 col0\" >Cruise Ship</td>\n",
       "                        <td id=\"T_9b19ee34_6e03_11ea_9e91_6c626d35f69drow32_col1\" class=\"data row32 col1\" >712</td>\n",
       "                        <td id=\"T_9b19ee34_6e03_11ea_9e91_6c626d35f69drow32_col2\" class=\"data row32 col2\" >8</td>\n",
       "                        <td id=\"T_9b19ee34_6e03_11ea_9e91_6c626d35f69drow32_col3\" class=\"data row32 col3\" >567</td>\n",
       "                        <td id=\"T_9b19ee34_6e03_11ea_9e91_6c626d35f69drow32_col4\" class=\"data row32 col4\" >137</td>\n",
       "            </tr>\n",
       "            <tr>\n",
       "                        <th id=\"T_9b19ee34_6e03_11ea_9e91_6c626d35f69dlevel0_row33\" class=\"row_heading level0 row33\" >33</th>\n",
       "                        <td id=\"T_9b19ee34_6e03_11ea_9e91_6c626d35f69drow33_col0\" class=\"data row33 col0\" >Finland</td>\n",
       "                        <td id=\"T_9b19ee34_6e03_11ea_9e91_6c626d35f69drow33_col1\" class=\"data row33 col1\" >700</td>\n",
       "                        <td id=\"T_9b19ee34_6e03_11ea_9e91_6c626d35f69drow33_col2\" class=\"data row33 col2\" >1</td>\n",
       "                        <td id=\"T_9b19ee34_6e03_11ea_9e91_6c626d35f69drow33_col3\" class=\"data row33 col3\" >10</td>\n",
       "                        <td id=\"T_9b19ee34_6e03_11ea_9e91_6c626d35f69drow33_col4\" class=\"data row33 col4\" >689</td>\n",
       "            </tr>\n",
       "            <tr>\n",
       "                        <th id=\"T_9b19ee34_6e03_11ea_9e91_6c626d35f69dlevel0_row34\" class=\"row_heading level0 row34\" >34</th>\n",
       "                        <td id=\"T_9b19ee34_6e03_11ea_9e91_6c626d35f69drow34_col0\" class=\"data row34 col0\" >Greece</td>\n",
       "                        <td id=\"T_9b19ee34_6e03_11ea_9e91_6c626d35f69drow34_col1\" class=\"data row34 col1\" >695</td>\n",
       "                        <td id=\"T_9b19ee34_6e03_11ea_9e91_6c626d35f69drow34_col2\" class=\"data row34 col2\" >17</td>\n",
       "                        <td id=\"T_9b19ee34_6e03_11ea_9e91_6c626d35f69drow34_col3\" class=\"data row34 col3\" >29</td>\n",
       "                        <td id=\"T_9b19ee34_6e03_11ea_9e91_6c626d35f69drow34_col4\" class=\"data row34 col4\" >649</td>\n",
       "            </tr>\n",
       "            <tr>\n",
       "                        <th id=\"T_9b19ee34_6e03_11ea_9e91_6c626d35f69dlevel0_row35\" class=\"row_heading level0 row35\" >35</th>\n",
       "                        <td id=\"T_9b19ee34_6e03_11ea_9e91_6c626d35f69drow35_col0\" class=\"data row35 col0\" >Iceland</td>\n",
       "                        <td id=\"T_9b19ee34_6e03_11ea_9e91_6c626d35f69drow35_col1\" class=\"data row35 col1\" >588</td>\n",
       "                        <td id=\"T_9b19ee34_6e03_11ea_9e91_6c626d35f69drow35_col2\" class=\"data row35 col2\" >1</td>\n",
       "                        <td id=\"T_9b19ee34_6e03_11ea_9e91_6c626d35f69drow35_col3\" class=\"data row35 col3\" >51</td>\n",
       "                        <td id=\"T_9b19ee34_6e03_11ea_9e91_6c626d35f69drow35_col4\" class=\"data row35 col4\" >536</td>\n",
       "            </tr>\n",
       "            <tr>\n",
       "                        <th id=\"T_9b19ee34_6e03_11ea_9e91_6c626d35f69dlevel0_row36\" class=\"row_heading level0 row36\" >36</th>\n",
       "                        <td id=\"T_9b19ee34_6e03_11ea_9e91_6c626d35f69drow36_col0\" class=\"data row36 col0\" >Indonesia</td>\n",
       "                        <td id=\"T_9b19ee34_6e03_11ea_9e91_6c626d35f69drow36_col1\" class=\"data row36 col1\" >579</td>\n",
       "                        <td id=\"T_9b19ee34_6e03_11ea_9e91_6c626d35f69drow36_col2\" class=\"data row36 col2\" >49</td>\n",
       "                        <td id=\"T_9b19ee34_6e03_11ea_9e91_6c626d35f69drow36_col3\" class=\"data row36 col3\" >30</td>\n",
       "                        <td id=\"T_9b19ee34_6e03_11ea_9e91_6c626d35f69drow36_col4\" class=\"data row36 col4\" >500</td>\n",
       "            </tr>\n",
       "            <tr>\n",
       "                        <th id=\"T_9b19ee34_6e03_11ea_9e91_6c626d35f69dlevel0_row37\" class=\"row_heading level0 row37\" >37</th>\n",
       "                        <td id=\"T_9b19ee34_6e03_11ea_9e91_6c626d35f69drow37_col0\" class=\"data row37 col0\" >Romania</td>\n",
       "                        <td id=\"T_9b19ee34_6e03_11ea_9e91_6c626d35f69drow37_col1\" class=\"data row37 col1\" >576</td>\n",
       "                        <td id=\"T_9b19ee34_6e03_11ea_9e91_6c626d35f69drow37_col2\" class=\"data row37 col2\" >7</td>\n",
       "                        <td id=\"T_9b19ee34_6e03_11ea_9e91_6c626d35f69drow37_col3\" class=\"data row37 col3\" >73</td>\n",
       "                        <td id=\"T_9b19ee34_6e03_11ea_9e91_6c626d35f69drow37_col4\" class=\"data row37 col4\" >496</td>\n",
       "            </tr>\n",
       "            <tr>\n",
       "                        <th id=\"T_9b19ee34_6e03_11ea_9e91_6c626d35f69dlevel0_row38\" class=\"row_heading level0 row38\" >38</th>\n",
       "                        <td id=\"T_9b19ee34_6e03_11ea_9e91_6c626d35f69drow38_col0\" class=\"data row38 col0\" >Saudi Arabia</td>\n",
       "                        <td id=\"T_9b19ee34_6e03_11ea_9e91_6c626d35f69drow38_col1\" class=\"data row38 col1\" >562</td>\n",
       "                        <td id=\"T_9b19ee34_6e03_11ea_9e91_6c626d35f69drow38_col2\" class=\"data row38 col2\" >0</td>\n",
       "                        <td id=\"T_9b19ee34_6e03_11ea_9e91_6c626d35f69drow38_col3\" class=\"data row38 col3\" >19</td>\n",
       "                        <td id=\"T_9b19ee34_6e03_11ea_9e91_6c626d35f69drow38_col4\" class=\"data row38 col4\" >543</td>\n",
       "            </tr>\n",
       "            <tr>\n",
       "                        <th id=\"T_9b19ee34_6e03_11ea_9e91_6c626d35f69dlevel0_row39\" class=\"row_heading level0 row39\" >39</th>\n",
       "                        <td id=\"T_9b19ee34_6e03_11ea_9e91_6c626d35f69drow39_col0\" class=\"data row39 col0\" >Singapore</td>\n",
       "                        <td id=\"T_9b19ee34_6e03_11ea_9e91_6c626d35f69drow39_col1\" class=\"data row39 col1\" >509</td>\n",
       "                        <td id=\"T_9b19ee34_6e03_11ea_9e91_6c626d35f69drow39_col2\" class=\"data row39 col2\" >2</td>\n",
       "                        <td id=\"T_9b19ee34_6e03_11ea_9e91_6c626d35f69drow39_col3\" class=\"data row39 col3\" >152</td>\n",
       "                        <td id=\"T_9b19ee34_6e03_11ea_9e91_6c626d35f69drow39_col4\" class=\"data row39 col4\" >355</td>\n",
       "            </tr>\n",
       "            <tr>\n",
       "                        <th id=\"T_9b19ee34_6e03_11ea_9e91_6c626d35f69dlevel0_row40\" class=\"row_heading level0 row40\" >40</th>\n",
       "                        <td id=\"T_9b19ee34_6e03_11ea_9e91_6c626d35f69drow40_col0\" class=\"data row40 col0\" >Qatar</td>\n",
       "                        <td id=\"T_9b19ee34_6e03_11ea_9e91_6c626d35f69drow40_col1\" class=\"data row40 col1\" >501</td>\n",
       "                        <td id=\"T_9b19ee34_6e03_11ea_9e91_6c626d35f69drow40_col2\" class=\"data row40 col2\" >0</td>\n",
       "                        <td id=\"T_9b19ee34_6e03_11ea_9e91_6c626d35f69drow40_col3\" class=\"data row40 col3\" >33</td>\n",
       "                        <td id=\"T_9b19ee34_6e03_11ea_9e91_6c626d35f69drow40_col4\" class=\"data row40 col4\" >468</td>\n",
       "            </tr>\n",
       "            <tr>\n",
       "                        <th id=\"T_9b19ee34_6e03_11ea_9e91_6c626d35f69dlevel0_row41\" class=\"row_heading level0 row41\" >41</th>\n",
       "                        <td id=\"T_9b19ee34_6e03_11ea_9e91_6c626d35f69drow41_col0\" class=\"data row41 col0\" >India</td>\n",
       "                        <td id=\"T_9b19ee34_6e03_11ea_9e91_6c626d35f69drow41_col1\" class=\"data row41 col1\" >499</td>\n",
       "                        <td id=\"T_9b19ee34_6e03_11ea_9e91_6c626d35f69drow41_col2\" class=\"data row41 col2\" >10</td>\n",
       "                        <td id=\"T_9b19ee34_6e03_11ea_9e91_6c626d35f69drow41_col3\" class=\"data row41 col3\" >34</td>\n",
       "                        <td id=\"T_9b19ee34_6e03_11ea_9e91_6c626d35f69drow41_col4\" class=\"data row41 col4\" >455</td>\n",
       "            </tr>\n",
       "            <tr>\n",
       "                        <th id=\"T_9b19ee34_6e03_11ea_9e91_6c626d35f69dlevel0_row42\" class=\"row_heading level0 row42\" >42</th>\n",
       "                        <td id=\"T_9b19ee34_6e03_11ea_9e91_6c626d35f69drow42_col0\" class=\"data row42 col0\" >Philippines</td>\n",
       "                        <td id=\"T_9b19ee34_6e03_11ea_9e91_6c626d35f69drow42_col1\" class=\"data row42 col1\" >462</td>\n",
       "                        <td id=\"T_9b19ee34_6e03_11ea_9e91_6c626d35f69drow42_col2\" class=\"data row42 col2\" >33</td>\n",
       "                        <td id=\"T_9b19ee34_6e03_11ea_9e91_6c626d35f69drow42_col3\" class=\"data row42 col3\" >18</td>\n",
       "                        <td id=\"T_9b19ee34_6e03_11ea_9e91_6c626d35f69drow42_col4\" class=\"data row42 col4\" >411</td>\n",
       "            </tr>\n",
       "            <tr>\n",
       "                        <th id=\"T_9b19ee34_6e03_11ea_9e91_6c626d35f69dlevel0_row43\" class=\"row_heading level0 row43\" >43</th>\n",
       "                        <td id=\"T_9b19ee34_6e03_11ea_9e91_6c626d35f69drow43_col0\" class=\"data row43 col0\" >Slovenia</td>\n",
       "                        <td id=\"T_9b19ee34_6e03_11ea_9e91_6c626d35f69drow43_col1\" class=\"data row43 col1\" >442</td>\n",
       "                        <td id=\"T_9b19ee34_6e03_11ea_9e91_6c626d35f69drow43_col2\" class=\"data row43 col2\" >3</td>\n",
       "                        <td id=\"T_9b19ee34_6e03_11ea_9e91_6c626d35f69drow43_col3\" class=\"data row43 col3\" >0</td>\n",
       "                        <td id=\"T_9b19ee34_6e03_11ea_9e91_6c626d35f69drow43_col4\" class=\"data row43 col4\" >439</td>\n",
       "            </tr>\n",
       "            <tr>\n",
       "                        <th id=\"T_9b19ee34_6e03_11ea_9e91_6c626d35f69dlevel0_row44\" class=\"row_heading level0 row44\" >44</th>\n",
       "                        <td id=\"T_9b19ee34_6e03_11ea_9e91_6c626d35f69drow44_col0\" class=\"data row44 col0\" >Russia</td>\n",
       "                        <td id=\"T_9b19ee34_6e03_11ea_9e91_6c626d35f69drow44_col1\" class=\"data row44 col1\" >438</td>\n",
       "                        <td id=\"T_9b19ee34_6e03_11ea_9e91_6c626d35f69drow44_col2\" class=\"data row44 col2\" >1</td>\n",
       "                        <td id=\"T_9b19ee34_6e03_11ea_9e91_6c626d35f69drow44_col3\" class=\"data row44 col3\" >17</td>\n",
       "                        <td id=\"T_9b19ee34_6e03_11ea_9e91_6c626d35f69drow44_col4\" class=\"data row44 col4\" >420</td>\n",
       "            </tr>\n",
       "            <tr>\n",
       "                        <th id=\"T_9b19ee34_6e03_11ea_9e91_6c626d35f69dlevel0_row45\" class=\"row_heading level0 row45\" >45</th>\n",
       "                        <td id=\"T_9b19ee34_6e03_11ea_9e91_6c626d35f69drow45_col0\" class=\"data row45 col0\" >South Africa</td>\n",
       "                        <td id=\"T_9b19ee34_6e03_11ea_9e91_6c626d35f69drow45_col1\" class=\"data row45 col1\" >402</td>\n",
       "                        <td id=\"T_9b19ee34_6e03_11ea_9e91_6c626d35f69drow45_col2\" class=\"data row45 col2\" >0</td>\n",
       "                        <td id=\"T_9b19ee34_6e03_11ea_9e91_6c626d35f69drow45_col3\" class=\"data row45 col3\" >4</td>\n",
       "                        <td id=\"T_9b19ee34_6e03_11ea_9e91_6c626d35f69drow45_col4\" class=\"data row45 col4\" >398</td>\n",
       "            </tr>\n",
       "            <tr>\n",
       "                        <th id=\"T_9b19ee34_6e03_11ea_9e91_6c626d35f69dlevel0_row46\" class=\"row_heading level0 row46\" >46</th>\n",
       "                        <td id=\"T_9b19ee34_6e03_11ea_9e91_6c626d35f69drow46_col0\" class=\"data row46 col0\" >Peru</td>\n",
       "                        <td id=\"T_9b19ee34_6e03_11ea_9e91_6c626d35f69drow46_col1\" class=\"data row46 col1\" >395</td>\n",
       "                        <td id=\"T_9b19ee34_6e03_11ea_9e91_6c626d35f69drow46_col2\" class=\"data row46 col2\" >5</td>\n",
       "                        <td id=\"T_9b19ee34_6e03_11ea_9e91_6c626d35f69drow46_col3\" class=\"data row46 col3\" >1</td>\n",
       "                        <td id=\"T_9b19ee34_6e03_11ea_9e91_6c626d35f69drow46_col4\" class=\"data row46 col4\" >389</td>\n",
       "            </tr>\n",
       "            <tr>\n",
       "                        <th id=\"T_9b19ee34_6e03_11ea_9e91_6c626d35f69dlevel0_row47\" class=\"row_heading level0 row47\" >47</th>\n",
       "                        <td id=\"T_9b19ee34_6e03_11ea_9e91_6c626d35f69drow47_col0\" class=\"data row47 col0\" >Bahrain</td>\n",
       "                        <td id=\"T_9b19ee34_6e03_11ea_9e91_6c626d35f69drow47_col1\" class=\"data row47 col1\" >377</td>\n",
       "                        <td id=\"T_9b19ee34_6e03_11ea_9e91_6c626d35f69drow47_col2\" class=\"data row47 col2\" >2</td>\n",
       "                        <td id=\"T_9b19ee34_6e03_11ea_9e91_6c626d35f69drow47_col3\" class=\"data row47 col3\" >164</td>\n",
       "                        <td id=\"T_9b19ee34_6e03_11ea_9e91_6c626d35f69drow47_col4\" class=\"data row47 col4\" >211</td>\n",
       "            </tr>\n",
       "            <tr>\n",
       "                        <th id=\"T_9b19ee34_6e03_11ea_9e91_6c626d35f69dlevel0_row48\" class=\"row_heading level0 row48\" >48</th>\n",
       "                        <td id=\"T_9b19ee34_6e03_11ea_9e91_6c626d35f69drow48_col0\" class=\"data row48 col0\" >Egypt</td>\n",
       "                        <td id=\"T_9b19ee34_6e03_11ea_9e91_6c626d35f69drow48_col1\" class=\"data row48 col1\" >366</td>\n",
       "                        <td id=\"T_9b19ee34_6e03_11ea_9e91_6c626d35f69drow48_col2\" class=\"data row48 col2\" >19</td>\n",
       "                        <td id=\"T_9b19ee34_6e03_11ea_9e91_6c626d35f69drow48_col3\" class=\"data row48 col3\" >68</td>\n",
       "                        <td id=\"T_9b19ee34_6e03_11ea_9e91_6c626d35f69drow48_col4\" class=\"data row48 col4\" >279</td>\n",
       "            </tr>\n",
       "            <tr>\n",
       "                        <th id=\"T_9b19ee34_6e03_11ea_9e91_6c626d35f69dlevel0_row49\" class=\"row_heading level0 row49\" >49</th>\n",
       "                        <td id=\"T_9b19ee34_6e03_11ea_9e91_6c626d35f69drow49_col0\" class=\"data row49 col0\" >Estonia</td>\n",
       "                        <td id=\"T_9b19ee34_6e03_11ea_9e91_6c626d35f69drow49_col1\" class=\"data row49 col1\" >352</td>\n",
       "                        <td id=\"T_9b19ee34_6e03_11ea_9e91_6c626d35f69drow49_col2\" class=\"data row49 col2\" >0</td>\n",
       "                        <td id=\"T_9b19ee34_6e03_11ea_9e91_6c626d35f69drow49_col3\" class=\"data row49 col3\" >4</td>\n",
       "                        <td id=\"T_9b19ee34_6e03_11ea_9e91_6c626d35f69drow49_col4\" class=\"data row49 col4\" >348</td>\n",
       "            </tr>\n",
       "            <tr>\n",
       "                        <th id=\"T_9b19ee34_6e03_11ea_9e91_6c626d35f69dlevel0_row50\" class=\"row_heading level0 row50\" >50</th>\n",
       "                        <td id=\"T_9b19ee34_6e03_11ea_9e91_6c626d35f69drow50_col0\" class=\"data row50 col0\" >Mexico</td>\n",
       "                        <td id=\"T_9b19ee34_6e03_11ea_9e91_6c626d35f69drow50_col1\" class=\"data row50 col1\" >316</td>\n",
       "                        <td id=\"T_9b19ee34_6e03_11ea_9e91_6c626d35f69drow50_col2\" class=\"data row50 col2\" >3</td>\n",
       "                        <td id=\"T_9b19ee34_6e03_11ea_9e91_6c626d35f69drow50_col3\" class=\"data row50 col3\" >4</td>\n",
       "                        <td id=\"T_9b19ee34_6e03_11ea_9e91_6c626d35f69drow50_col4\" class=\"data row50 col4\" >309</td>\n",
       "            </tr>\n",
       "            <tr>\n",
       "                        <th id=\"T_9b19ee34_6e03_11ea_9e91_6c626d35f69dlevel0_row51\" class=\"row_heading level0 row51\" >51</th>\n",
       "                        <td id=\"T_9b19ee34_6e03_11ea_9e91_6c626d35f69drow51_col0\" class=\"data row51 col0\" >Croatia</td>\n",
       "                        <td id=\"T_9b19ee34_6e03_11ea_9e91_6c626d35f69drow51_col1\" class=\"data row51 col1\" >315</td>\n",
       "                        <td id=\"T_9b19ee34_6e03_11ea_9e91_6c626d35f69drow51_col2\" class=\"data row51 col2\" >1</td>\n",
       "                        <td id=\"T_9b19ee34_6e03_11ea_9e91_6c626d35f69drow51_col3\" class=\"data row51 col3\" >5</td>\n",
       "                        <td id=\"T_9b19ee34_6e03_11ea_9e91_6c626d35f69drow51_col4\" class=\"data row51 col4\" >309</td>\n",
       "            </tr>\n",
       "            <tr>\n",
       "                        <th id=\"T_9b19ee34_6e03_11ea_9e91_6c626d35f69dlevel0_row52\" class=\"row_heading level0 row52\" >52</th>\n",
       "                        <td id=\"T_9b19ee34_6e03_11ea_9e91_6c626d35f69drow52_col0\" class=\"data row52 col0\" >Panama</td>\n",
       "                        <td id=\"T_9b19ee34_6e03_11ea_9e91_6c626d35f69drow52_col1\" class=\"data row52 col1\" >313</td>\n",
       "                        <td id=\"T_9b19ee34_6e03_11ea_9e91_6c626d35f69drow52_col2\" class=\"data row52 col2\" >3</td>\n",
       "                        <td id=\"T_9b19ee34_6e03_11ea_9e91_6c626d35f69drow52_col3\" class=\"data row52 col3\" >1</td>\n",
       "                        <td id=\"T_9b19ee34_6e03_11ea_9e91_6c626d35f69drow52_col4\" class=\"data row52 col4\" >309</td>\n",
       "            </tr>\n",
       "            <tr>\n",
       "                        <th id=\"T_9b19ee34_6e03_11ea_9e91_6c626d35f69dlevel0_row53\" class=\"row_heading level0 row53\" >53</th>\n",
       "                        <td id=\"T_9b19ee34_6e03_11ea_9e91_6c626d35f69drow53_col0\" class=\"data row53 col0\" >Colombia</td>\n",
       "                        <td id=\"T_9b19ee34_6e03_11ea_9e91_6c626d35f69drow53_col1\" class=\"data row53 col1\" >277</td>\n",
       "                        <td id=\"T_9b19ee34_6e03_11ea_9e91_6c626d35f69drow53_col2\" class=\"data row53 col2\" >3</td>\n",
       "                        <td id=\"T_9b19ee34_6e03_11ea_9e91_6c626d35f69drow53_col3\" class=\"data row53 col3\" >3</td>\n",
       "                        <td id=\"T_9b19ee34_6e03_11ea_9e91_6c626d35f69drow53_col4\" class=\"data row53 col4\" >271</td>\n",
       "            </tr>\n",
       "            <tr>\n",
       "                        <th id=\"T_9b19ee34_6e03_11ea_9e91_6c626d35f69dlevel0_row54\" class=\"row_heading level0 row54\" >54</th>\n",
       "                        <td id=\"T_9b19ee34_6e03_11ea_9e91_6c626d35f69drow54_col0\" class=\"data row54 col0\" >Lebanon</td>\n",
       "                        <td id=\"T_9b19ee34_6e03_11ea_9e91_6c626d35f69drow54_col1\" class=\"data row54 col1\" >267</td>\n",
       "                        <td id=\"T_9b19ee34_6e03_11ea_9e91_6c626d35f69drow54_col2\" class=\"data row54 col2\" >4</td>\n",
       "                        <td id=\"T_9b19ee34_6e03_11ea_9e91_6c626d35f69drow54_col3\" class=\"data row54 col3\" >8</td>\n",
       "                        <td id=\"T_9b19ee34_6e03_11ea_9e91_6c626d35f69drow54_col4\" class=\"data row54 col4\" >255</td>\n",
       "            </tr>\n",
       "            <tr>\n",
       "                        <th id=\"T_9b19ee34_6e03_11ea_9e91_6c626d35f69dlevel0_row55\" class=\"row_heading level0 row55\" >55</th>\n",
       "                        <td id=\"T_9b19ee34_6e03_11ea_9e91_6c626d35f69drow55_col0\" class=\"data row55 col0\" >Iraq</td>\n",
       "                        <td id=\"T_9b19ee34_6e03_11ea_9e91_6c626d35f69drow55_col1\" class=\"data row55 col1\" >266</td>\n",
       "                        <td id=\"T_9b19ee34_6e03_11ea_9e91_6c626d35f69drow55_col2\" class=\"data row55 col2\" >23</td>\n",
       "                        <td id=\"T_9b19ee34_6e03_11ea_9e91_6c626d35f69drow55_col3\" class=\"data row55 col3\" >62</td>\n",
       "                        <td id=\"T_9b19ee34_6e03_11ea_9e91_6c626d35f69drow55_col4\" class=\"data row55 col4\" >181</td>\n",
       "            </tr>\n",
       "            <tr>\n",
       "                        <th id=\"T_9b19ee34_6e03_11ea_9e91_6c626d35f69dlevel0_row56\" class=\"row_heading level0 row56\" >56</th>\n",
       "                        <td id=\"T_9b19ee34_6e03_11ea_9e91_6c626d35f69drow56_col0\" class=\"data row56 col0\" >Argentina</td>\n",
       "                        <td id=\"T_9b19ee34_6e03_11ea_9e91_6c626d35f69drow56_col1\" class=\"data row56 col1\" >266</td>\n",
       "                        <td id=\"T_9b19ee34_6e03_11ea_9e91_6c626d35f69drow56_col2\" class=\"data row56 col2\" >4</td>\n",
       "                        <td id=\"T_9b19ee34_6e03_11ea_9e91_6c626d35f69drow56_col3\" class=\"data row56 col3\" >27</td>\n",
       "                        <td id=\"T_9b19ee34_6e03_11ea_9e91_6c626d35f69drow56_col4\" class=\"data row56 col4\" >235</td>\n",
       "            </tr>\n",
       "            <tr>\n",
       "                        <th id=\"T_9b19ee34_6e03_11ea_9e91_6c626d35f69dlevel0_row57\" class=\"row_heading level0 row57\" >57</th>\n",
       "                        <td id=\"T_9b19ee34_6e03_11ea_9e91_6c626d35f69drow57_col0\" class=\"data row57 col0\" >Serbia</td>\n",
       "                        <td id=\"T_9b19ee34_6e03_11ea_9e91_6c626d35f69drow57_col1\" class=\"data row57 col1\" >249</td>\n",
       "                        <td id=\"T_9b19ee34_6e03_11ea_9e91_6c626d35f69drow57_col2\" class=\"data row57 col2\" >3</td>\n",
       "                        <td id=\"T_9b19ee34_6e03_11ea_9e91_6c626d35f69drow57_col3\" class=\"data row57 col3\" >3</td>\n",
       "                        <td id=\"T_9b19ee34_6e03_11ea_9e91_6c626d35f69drow57_col4\" class=\"data row57 col4\" >243</td>\n",
       "            </tr>\n",
       "            <tr>\n",
       "                        <th id=\"T_9b19ee34_6e03_11ea_9e91_6c626d35f69dlevel0_row58\" class=\"row_heading level0 row58\" >58</th>\n",
       "                        <td id=\"T_9b19ee34_6e03_11ea_9e91_6c626d35f69drow58_col0\" class=\"data row58 col0\" >Dominican Republic</td>\n",
       "                        <td id=\"T_9b19ee34_6e03_11ea_9e91_6c626d35f69drow58_col1\" class=\"data row58 col1\" >245</td>\n",
       "                        <td id=\"T_9b19ee34_6e03_11ea_9e91_6c626d35f69drow58_col2\" class=\"data row58 col2\" >3</td>\n",
       "                        <td id=\"T_9b19ee34_6e03_11ea_9e91_6c626d35f69drow58_col3\" class=\"data row58 col3\" >3</td>\n",
       "                        <td id=\"T_9b19ee34_6e03_11ea_9e91_6c626d35f69drow58_col4\" class=\"data row58 col4\" >239</td>\n",
       "            </tr>\n",
       "            <tr>\n",
       "                        <th id=\"T_9b19ee34_6e03_11ea_9e91_6c626d35f69dlevel0_row59\" class=\"row_heading level0 row59\" >59</th>\n",
       "                        <td id=\"T_9b19ee34_6e03_11ea_9e91_6c626d35f69drow59_col0\" class=\"data row59 col0\" >Armenia</td>\n",
       "                        <td id=\"T_9b19ee34_6e03_11ea_9e91_6c626d35f69drow59_col1\" class=\"data row59 col1\" >235</td>\n",
       "                        <td id=\"T_9b19ee34_6e03_11ea_9e91_6c626d35f69drow59_col2\" class=\"data row59 col2\" >0</td>\n",
       "                        <td id=\"T_9b19ee34_6e03_11ea_9e91_6c626d35f69drow59_col3\" class=\"data row59 col3\" >2</td>\n",
       "                        <td id=\"T_9b19ee34_6e03_11ea_9e91_6c626d35f69drow59_col4\" class=\"data row59 col4\" >233</td>\n",
       "            </tr>\n",
       "            <tr>\n",
       "                        <th id=\"T_9b19ee34_6e03_11ea_9e91_6c626d35f69dlevel0_row60\" class=\"row_heading level0 row60\" >60</th>\n",
       "                        <td id=\"T_9b19ee34_6e03_11ea_9e91_6c626d35f69drow60_col0\" class=\"data row60 col0\" >Algeria</td>\n",
       "                        <td id=\"T_9b19ee34_6e03_11ea_9e91_6c626d35f69drow60_col1\" class=\"data row60 col1\" >230</td>\n",
       "                        <td id=\"T_9b19ee34_6e03_11ea_9e91_6c626d35f69drow60_col2\" class=\"data row60 col2\" >17</td>\n",
       "                        <td id=\"T_9b19ee34_6e03_11ea_9e91_6c626d35f69drow60_col3\" class=\"data row60 col3\" >65</td>\n",
       "                        <td id=\"T_9b19ee34_6e03_11ea_9e91_6c626d35f69drow60_col4\" class=\"data row60 col4\" >148</td>\n",
       "            </tr>\n",
       "            <tr>\n",
       "                        <th id=\"T_9b19ee34_6e03_11ea_9e91_6c626d35f69dlevel0_row61\" class=\"row_heading level0 row61\" >61</th>\n",
       "                        <td id=\"T_9b19ee34_6e03_11ea_9e91_6c626d35f69drow61_col0\" class=\"data row61 col0\" >Bulgaria</td>\n",
       "                        <td id=\"T_9b19ee34_6e03_11ea_9e91_6c626d35f69drow61_col1\" class=\"data row61 col1\" >201</td>\n",
       "                        <td id=\"T_9b19ee34_6e03_11ea_9e91_6c626d35f69drow61_col2\" class=\"data row61 col2\" >3</td>\n",
       "                        <td id=\"T_9b19ee34_6e03_11ea_9e91_6c626d35f69drow61_col3\" class=\"data row61 col3\" >3</td>\n",
       "                        <td id=\"T_9b19ee34_6e03_11ea_9e91_6c626d35f69drow61_col4\" class=\"data row61 col4\" >195</td>\n",
       "            </tr>\n",
       "            <tr>\n",
       "                        <th id=\"T_9b19ee34_6e03_11ea_9e91_6c626d35f69dlevel0_row62\" class=\"row_heading level0 row62\" >62</th>\n",
       "                        <td id=\"T_9b19ee34_6e03_11ea_9e91_6c626d35f69drow62_col0\" class=\"data row62 col0\" >United Arab Emirates</td>\n",
       "                        <td id=\"T_9b19ee34_6e03_11ea_9e91_6c626d35f69drow62_col1\" class=\"data row62 col1\" >198</td>\n",
       "                        <td id=\"T_9b19ee34_6e03_11ea_9e91_6c626d35f69drow62_col2\" class=\"data row62 col2\" >2</td>\n",
       "                        <td id=\"T_9b19ee34_6e03_11ea_9e91_6c626d35f69drow62_col3\" class=\"data row62 col3\" >41</td>\n",
       "                        <td id=\"T_9b19ee34_6e03_11ea_9e91_6c626d35f69drow62_col4\" class=\"data row62 col4\" >155</td>\n",
       "            </tr>\n",
       "            <tr>\n",
       "                        <th id=\"T_9b19ee34_6e03_11ea_9e91_6c626d35f69dlevel0_row63\" class=\"row_heading level0 row63\" >63</th>\n",
       "                        <td id=\"T_9b19ee34_6e03_11ea_9e91_6c626d35f69drow63_col0\" class=\"data row63 col0\" >Taiwan*</td>\n",
       "                        <td id=\"T_9b19ee34_6e03_11ea_9e91_6c626d35f69drow63_col1\" class=\"data row63 col1\" >195</td>\n",
       "                        <td id=\"T_9b19ee34_6e03_11ea_9e91_6c626d35f69drow63_col2\" class=\"data row63 col2\" >2</td>\n",
       "                        <td id=\"T_9b19ee34_6e03_11ea_9e91_6c626d35f69drow63_col3\" class=\"data row63 col3\" >28</td>\n",
       "                        <td id=\"T_9b19ee34_6e03_11ea_9e91_6c626d35f69drow63_col4\" class=\"data row63 col4\" >165</td>\n",
       "            </tr>\n",
       "            <tr>\n",
       "                        <th id=\"T_9b19ee34_6e03_11ea_9e91_6c626d35f69dlevel0_row64\" class=\"row_heading level0 row64\" >64</th>\n",
       "                        <td id=\"T_9b19ee34_6e03_11ea_9e91_6c626d35f69drow64_col0\" class=\"data row64 col0\" >Kuwait</td>\n",
       "                        <td id=\"T_9b19ee34_6e03_11ea_9e91_6c626d35f69drow64_col1\" class=\"data row64 col1\" >189</td>\n",
       "                        <td id=\"T_9b19ee34_6e03_11ea_9e91_6c626d35f69drow64_col2\" class=\"data row64 col2\" >0</td>\n",
       "                        <td id=\"T_9b19ee34_6e03_11ea_9e91_6c626d35f69drow64_col3\" class=\"data row64 col3\" >30</td>\n",
       "                        <td id=\"T_9b19ee34_6e03_11ea_9e91_6c626d35f69drow64_col4\" class=\"data row64 col4\" >159</td>\n",
       "            </tr>\n",
       "            <tr>\n",
       "                        <th id=\"T_9b19ee34_6e03_11ea_9e91_6c626d35f69dlevel0_row65\" class=\"row_heading level0 row65\" >65</th>\n",
       "                        <td id=\"T_9b19ee34_6e03_11ea_9e91_6c626d35f69drow65_col0\" class=\"data row65 col0\" >San Marino</td>\n",
       "                        <td id=\"T_9b19ee34_6e03_11ea_9e91_6c626d35f69drow65_col1\" class=\"data row65 col1\" >187</td>\n",
       "                        <td id=\"T_9b19ee34_6e03_11ea_9e91_6c626d35f69drow65_col2\" class=\"data row65 col2\" >20</td>\n",
       "                        <td id=\"T_9b19ee34_6e03_11ea_9e91_6c626d35f69drow65_col3\" class=\"data row65 col3\" >4</td>\n",
       "                        <td id=\"T_9b19ee34_6e03_11ea_9e91_6c626d35f69drow65_col4\" class=\"data row65 col4\" >163</td>\n",
       "            </tr>\n",
       "            <tr>\n",
       "                        <th id=\"T_9b19ee34_6e03_11ea_9e91_6c626d35f69dlevel0_row66\" class=\"row_heading level0 row66\" >66</th>\n",
       "                        <td id=\"T_9b19ee34_6e03_11ea_9e91_6c626d35f69drow66_col0\" class=\"data row66 col0\" >Slovakia</td>\n",
       "                        <td id=\"T_9b19ee34_6e03_11ea_9e91_6c626d35f69drow66_col1\" class=\"data row66 col1\" >186</td>\n",
       "                        <td id=\"T_9b19ee34_6e03_11ea_9e91_6c626d35f69drow66_col2\" class=\"data row66 col2\" >0</td>\n",
       "                        <td id=\"T_9b19ee34_6e03_11ea_9e91_6c626d35f69drow66_col3\" class=\"data row66 col3\" >7</td>\n",
       "                        <td id=\"T_9b19ee34_6e03_11ea_9e91_6c626d35f69drow66_col4\" class=\"data row66 col4\" >179</td>\n",
       "            </tr>\n",
       "            <tr>\n",
       "                        <th id=\"T_9b19ee34_6e03_11ea_9e91_6c626d35f69dlevel0_row67\" class=\"row_heading level0 row67\" >67</th>\n",
       "                        <td id=\"T_9b19ee34_6e03_11ea_9e91_6c626d35f69drow67_col0\" class=\"data row67 col0\" >Latvia</td>\n",
       "                        <td id=\"T_9b19ee34_6e03_11ea_9e91_6c626d35f69drow67_col1\" class=\"data row67 col1\" >180</td>\n",
       "                        <td id=\"T_9b19ee34_6e03_11ea_9e91_6c626d35f69drow67_col2\" class=\"data row67 col2\" >0</td>\n",
       "                        <td id=\"T_9b19ee34_6e03_11ea_9e91_6c626d35f69drow67_col3\" class=\"data row67 col3\" >1</td>\n",
       "                        <td id=\"T_9b19ee34_6e03_11ea_9e91_6c626d35f69drow67_col4\" class=\"data row67 col4\" >179</td>\n",
       "            </tr>\n",
       "            <tr>\n",
       "                        <th id=\"T_9b19ee34_6e03_11ea_9e91_6c626d35f69dlevel0_row68\" class=\"row_heading level0 row68\" >68</th>\n",
       "                        <td id=\"T_9b19ee34_6e03_11ea_9e91_6c626d35f69drow68_col0\" class=\"data row68 col0\" >Lithuania</td>\n",
       "                        <td id=\"T_9b19ee34_6e03_11ea_9e91_6c626d35f69drow68_col1\" class=\"data row68 col1\" >179</td>\n",
       "                        <td id=\"T_9b19ee34_6e03_11ea_9e91_6c626d35f69drow68_col2\" class=\"data row68 col2\" >1</td>\n",
       "                        <td id=\"T_9b19ee34_6e03_11ea_9e91_6c626d35f69drow68_col3\" class=\"data row68 col3\" >1</td>\n",
       "                        <td id=\"T_9b19ee34_6e03_11ea_9e91_6c626d35f69drow68_col4\" class=\"data row68 col4\" >177</td>\n",
       "            </tr>\n",
       "            <tr>\n",
       "                        <th id=\"T_9b19ee34_6e03_11ea_9e91_6c626d35f69dlevel0_row69\" class=\"row_heading level0 row69\" >69</th>\n",
       "                        <td id=\"T_9b19ee34_6e03_11ea_9e91_6c626d35f69drow69_col0\" class=\"data row69 col0\" >Hungary</td>\n",
       "                        <td id=\"T_9b19ee34_6e03_11ea_9e91_6c626d35f69drow69_col1\" class=\"data row69 col1\" >167</td>\n",
       "                        <td id=\"T_9b19ee34_6e03_11ea_9e91_6c626d35f69drow69_col2\" class=\"data row69 col2\" >7</td>\n",
       "                        <td id=\"T_9b19ee34_6e03_11ea_9e91_6c626d35f69drow69_col3\" class=\"data row69 col3\" >16</td>\n",
       "                        <td id=\"T_9b19ee34_6e03_11ea_9e91_6c626d35f69drow69_col4\" class=\"data row69 col4\" >144</td>\n",
       "            </tr>\n",
       "            <tr>\n",
       "                        <th id=\"T_9b19ee34_6e03_11ea_9e91_6c626d35f69dlevel0_row70\" class=\"row_heading level0 row70\" >70</th>\n",
       "                        <td id=\"T_9b19ee34_6e03_11ea_9e91_6c626d35f69drow70_col0\" class=\"data row70 col0\" >Uruguay</td>\n",
       "                        <td id=\"T_9b19ee34_6e03_11ea_9e91_6c626d35f69drow70_col1\" class=\"data row70 col1\" >158</td>\n",
       "                        <td id=\"T_9b19ee34_6e03_11ea_9e91_6c626d35f69drow70_col2\" class=\"data row70 col2\" >0</td>\n",
       "                        <td id=\"T_9b19ee34_6e03_11ea_9e91_6c626d35f69drow70_col3\" class=\"data row70 col3\" >0</td>\n",
       "                        <td id=\"T_9b19ee34_6e03_11ea_9e91_6c626d35f69drow70_col4\" class=\"data row70 col4\" >158</td>\n",
       "            </tr>\n",
       "            <tr>\n",
       "                        <th id=\"T_9b19ee34_6e03_11ea_9e91_6c626d35f69dlevel0_row71\" class=\"row_heading level0 row71\" >71</th>\n",
       "                        <td id=\"T_9b19ee34_6e03_11ea_9e91_6c626d35f69drow71_col0\" class=\"data row71 col0\" >Costa Rica</td>\n",
       "                        <td id=\"T_9b19ee34_6e03_11ea_9e91_6c626d35f69drow71_col1\" class=\"data row71 col1\" >158</td>\n",
       "                        <td id=\"T_9b19ee34_6e03_11ea_9e91_6c626d35f69drow71_col2\" class=\"data row71 col2\" >2</td>\n",
       "                        <td id=\"T_9b19ee34_6e03_11ea_9e91_6c626d35f69drow71_col3\" class=\"data row71 col3\" >2</td>\n",
       "                        <td id=\"T_9b19ee34_6e03_11ea_9e91_6c626d35f69drow71_col4\" class=\"data row71 col4\" >154</td>\n",
       "            </tr>\n",
       "            <tr>\n",
       "                        <th id=\"T_9b19ee34_6e03_11ea_9e91_6c626d35f69dlevel0_row72\" class=\"row_heading level0 row72\" >72</th>\n",
       "                        <td id=\"T_9b19ee34_6e03_11ea_9e91_6c626d35f69drow72_col0\" class=\"data row72 col0\" >Morocco</td>\n",
       "                        <td id=\"T_9b19ee34_6e03_11ea_9e91_6c626d35f69drow72_col1\" class=\"data row72 col1\" >143</td>\n",
       "                        <td id=\"T_9b19ee34_6e03_11ea_9e91_6c626d35f69drow72_col2\" class=\"data row72 col2\" >4</td>\n",
       "                        <td id=\"T_9b19ee34_6e03_11ea_9e91_6c626d35f69drow72_col3\" class=\"data row72 col3\" >5</td>\n",
       "                        <td id=\"T_9b19ee34_6e03_11ea_9e91_6c626d35f69drow72_col4\" class=\"data row72 col4\" >134</td>\n",
       "            </tr>\n",
       "            <tr>\n",
       "                        <th id=\"T_9b19ee34_6e03_11ea_9e91_6c626d35f69dlevel0_row73\" class=\"row_heading level0 row73\" >73</th>\n",
       "                        <td id=\"T_9b19ee34_6e03_11ea_9e91_6c626d35f69drow73_col0\" class=\"data row73 col0\" >North Macedonia</td>\n",
       "                        <td id=\"T_9b19ee34_6e03_11ea_9e91_6c626d35f69drow73_col1\" class=\"data row73 col1\" >136</td>\n",
       "                        <td id=\"T_9b19ee34_6e03_11ea_9e91_6c626d35f69drow73_col2\" class=\"data row73 col2\" >2</td>\n",
       "                        <td id=\"T_9b19ee34_6e03_11ea_9e91_6c626d35f69drow73_col3\" class=\"data row73 col3\" >1</td>\n",
       "                        <td id=\"T_9b19ee34_6e03_11ea_9e91_6c626d35f69drow73_col4\" class=\"data row73 col4\" >133</td>\n",
       "            </tr>\n",
       "            <tr>\n",
       "                        <th id=\"T_9b19ee34_6e03_11ea_9e91_6c626d35f69dlevel0_row74\" class=\"row_heading level0 row74\" >74</th>\n",
       "                        <td id=\"T_9b19ee34_6e03_11ea_9e91_6c626d35f69drow74_col0\" class=\"data row74 col0\" >Andorra</td>\n",
       "                        <td id=\"T_9b19ee34_6e03_11ea_9e91_6c626d35f69drow74_col1\" class=\"data row74 col1\" >133</td>\n",
       "                        <td id=\"T_9b19ee34_6e03_11ea_9e91_6c626d35f69drow74_col2\" class=\"data row74 col2\" >1</td>\n",
       "                        <td id=\"T_9b19ee34_6e03_11ea_9e91_6c626d35f69drow74_col3\" class=\"data row74 col3\" >1</td>\n",
       "                        <td id=\"T_9b19ee34_6e03_11ea_9e91_6c626d35f69drow74_col4\" class=\"data row74 col4\" >131</td>\n",
       "            </tr>\n",
       "            <tr>\n",
       "                        <th id=\"T_9b19ee34_6e03_11ea_9e91_6c626d35f69dlevel0_row75\" class=\"row_heading level0 row75\" >75</th>\n",
       "                        <td id=\"T_9b19ee34_6e03_11ea_9e91_6c626d35f69drow75_col0\" class=\"data row75 col0\" >Bosnia and Herzegovina</td>\n",
       "                        <td id=\"T_9b19ee34_6e03_11ea_9e91_6c626d35f69drow75_col1\" class=\"data row75 col1\" >132</td>\n",
       "                        <td id=\"T_9b19ee34_6e03_11ea_9e91_6c626d35f69drow75_col2\" class=\"data row75 col2\" >1</td>\n",
       "                        <td id=\"T_9b19ee34_6e03_11ea_9e91_6c626d35f69drow75_col3\" class=\"data row75 col3\" >2</td>\n",
       "                        <td id=\"T_9b19ee34_6e03_11ea_9e91_6c626d35f69drow75_col4\" class=\"data row75 col4\" >129</td>\n",
       "            </tr>\n",
       "            <tr>\n",
       "                        <th id=\"T_9b19ee34_6e03_11ea_9e91_6c626d35f69dlevel0_row76\" class=\"row_heading level0 row76\" >76</th>\n",
       "                        <td id=\"T_9b19ee34_6e03_11ea_9e91_6c626d35f69drow76_col0\" class=\"data row76 col0\" >Jordan</td>\n",
       "                        <td id=\"T_9b19ee34_6e03_11ea_9e91_6c626d35f69drow76_col1\" class=\"data row76 col1\" >127</td>\n",
       "                        <td id=\"T_9b19ee34_6e03_11ea_9e91_6c626d35f69drow76_col2\" class=\"data row76 col2\" >0</td>\n",
       "                        <td id=\"T_9b19ee34_6e03_11ea_9e91_6c626d35f69drow76_col3\" class=\"data row76 col3\" >1</td>\n",
       "                        <td id=\"T_9b19ee34_6e03_11ea_9e91_6c626d35f69drow76_col4\" class=\"data row76 col4\" >126</td>\n",
       "            </tr>\n",
       "            <tr>\n",
       "                        <th id=\"T_9b19ee34_6e03_11ea_9e91_6c626d35f69dlevel0_row77\" class=\"row_heading level0 row77\" >77</th>\n",
       "                        <td id=\"T_9b19ee34_6e03_11ea_9e91_6c626d35f69drow77_col0\" class=\"data row77 col0\" >Vietnam</td>\n",
       "                        <td id=\"T_9b19ee34_6e03_11ea_9e91_6c626d35f69drow77_col1\" class=\"data row77 col1\" >123</td>\n",
       "                        <td id=\"T_9b19ee34_6e03_11ea_9e91_6c626d35f69drow77_col2\" class=\"data row77 col2\" >0</td>\n",
       "                        <td id=\"T_9b19ee34_6e03_11ea_9e91_6c626d35f69drow77_col3\" class=\"data row77 col3\" >17</td>\n",
       "                        <td id=\"T_9b19ee34_6e03_11ea_9e91_6c626d35f69drow77_col4\" class=\"data row77 col4\" >106</td>\n",
       "            </tr>\n",
       "            <tr>\n",
       "                        <th id=\"T_9b19ee34_6e03_11ea_9e91_6c626d35f69dlevel0_row78\" class=\"row_heading level0 row78\" >78</th>\n",
       "                        <td id=\"T_9b19ee34_6e03_11ea_9e91_6c626d35f69drow78_col0\" class=\"data row78 col0\" >Cyprus</td>\n",
       "                        <td id=\"T_9b19ee34_6e03_11ea_9e91_6c626d35f69drow78_col1\" class=\"data row78 col1\" >116</td>\n",
       "                        <td id=\"T_9b19ee34_6e03_11ea_9e91_6c626d35f69drow78_col2\" class=\"data row78 col2\" >1</td>\n",
       "                        <td id=\"T_9b19ee34_6e03_11ea_9e91_6c626d35f69drow78_col3\" class=\"data row78 col3\" >3</td>\n",
       "                        <td id=\"T_9b19ee34_6e03_11ea_9e91_6c626d35f69drow78_col4\" class=\"data row78 col4\" >112</td>\n",
       "            </tr>\n",
       "            <tr>\n",
       "                        <th id=\"T_9b19ee34_6e03_11ea_9e91_6c626d35f69dlevel0_row79\" class=\"row_heading level0 row79\" >79</th>\n",
       "                        <td id=\"T_9b19ee34_6e03_11ea_9e91_6c626d35f69drow79_col0\" class=\"data row79 col0\" >Moldova</td>\n",
       "                        <td id=\"T_9b19ee34_6e03_11ea_9e91_6c626d35f69drow79_col1\" class=\"data row79 col1\" >109</td>\n",
       "                        <td id=\"T_9b19ee34_6e03_11ea_9e91_6c626d35f69drow79_col2\" class=\"data row79 col2\" >1</td>\n",
       "                        <td id=\"T_9b19ee34_6e03_11ea_9e91_6c626d35f69drow79_col3\" class=\"data row79 col3\" >2</td>\n",
       "                        <td id=\"T_9b19ee34_6e03_11ea_9e91_6c626d35f69drow79_col4\" class=\"data row79 col4\" >106</td>\n",
       "            </tr>\n",
       "            <tr>\n",
       "                        <th id=\"T_9b19ee34_6e03_11ea_9e91_6c626d35f69dlevel0_row80\" class=\"row_heading level0 row80\" >80</th>\n",
       "                        <td id=\"T_9b19ee34_6e03_11ea_9e91_6c626d35f69drow80_col0\" class=\"data row80 col0\" >Malta</td>\n",
       "                        <td id=\"T_9b19ee34_6e03_11ea_9e91_6c626d35f69drow80_col1\" class=\"data row80 col1\" >107</td>\n",
       "                        <td id=\"T_9b19ee34_6e03_11ea_9e91_6c626d35f69drow80_col2\" class=\"data row80 col2\" >0</td>\n",
       "                        <td id=\"T_9b19ee34_6e03_11ea_9e91_6c626d35f69drow80_col3\" class=\"data row80 col3\" >2</td>\n",
       "                        <td id=\"T_9b19ee34_6e03_11ea_9e91_6c626d35f69drow80_col4\" class=\"data row80 col4\" >105</td>\n",
       "            </tr>\n",
       "            <tr>\n",
       "                        <th id=\"T_9b19ee34_6e03_11ea_9e91_6c626d35f69dlevel0_row81\" class=\"row_heading level0 row81\" >81</th>\n",
       "                        <td id=\"T_9b19ee34_6e03_11ea_9e91_6c626d35f69drow81_col0\" class=\"data row81 col0\" >Albania</td>\n",
       "                        <td id=\"T_9b19ee34_6e03_11ea_9e91_6c626d35f69drow81_col1\" class=\"data row81 col1\" >104</td>\n",
       "                        <td id=\"T_9b19ee34_6e03_11ea_9e91_6c626d35f69drow81_col2\" class=\"data row81 col2\" >4</td>\n",
       "                        <td id=\"T_9b19ee34_6e03_11ea_9e91_6c626d35f69drow81_col3\" class=\"data row81 col3\" >2</td>\n",
       "                        <td id=\"T_9b19ee34_6e03_11ea_9e91_6c626d35f69drow81_col4\" class=\"data row81 col4\" >98</td>\n",
       "            </tr>\n",
       "            <tr>\n",
       "                        <th id=\"T_9b19ee34_6e03_11ea_9e91_6c626d35f69dlevel0_row82\" class=\"row_heading level0 row82\" >82</th>\n",
       "                        <td id=\"T_9b19ee34_6e03_11ea_9e91_6c626d35f69drow82_col0\" class=\"data row82 col0\" >New Zealand</td>\n",
       "                        <td id=\"T_9b19ee34_6e03_11ea_9e91_6c626d35f69drow82_col1\" class=\"data row82 col1\" >102</td>\n",
       "                        <td id=\"T_9b19ee34_6e03_11ea_9e91_6c626d35f69drow82_col2\" class=\"data row82 col2\" >0</td>\n",
       "                        <td id=\"T_9b19ee34_6e03_11ea_9e91_6c626d35f69drow82_col3\" class=\"data row82 col3\" >0</td>\n",
       "                        <td id=\"T_9b19ee34_6e03_11ea_9e91_6c626d35f69drow82_col4\" class=\"data row82 col4\" >102</td>\n",
       "            </tr>\n",
       "            <tr>\n",
       "                        <th id=\"T_9b19ee34_6e03_11ea_9e91_6c626d35f69dlevel0_row83\" class=\"row_heading level0 row83\" >83</th>\n",
       "                        <td id=\"T_9b19ee34_6e03_11ea_9e91_6c626d35f69drow83_col0\" class=\"data row83 col0\" >Burkina Faso</td>\n",
       "                        <td id=\"T_9b19ee34_6e03_11ea_9e91_6c626d35f69drow83_col1\" class=\"data row83 col1\" >99</td>\n",
       "                        <td id=\"T_9b19ee34_6e03_11ea_9e91_6c626d35f69drow83_col2\" class=\"data row83 col2\" >4</td>\n",
       "                        <td id=\"T_9b19ee34_6e03_11ea_9e91_6c626d35f69drow83_col3\" class=\"data row83 col3\" >5</td>\n",
       "                        <td id=\"T_9b19ee34_6e03_11ea_9e91_6c626d35f69drow83_col4\" class=\"data row83 col4\" >90</td>\n",
       "            </tr>\n",
       "            <tr>\n",
       "                        <th id=\"T_9b19ee34_6e03_11ea_9e91_6c626d35f69dlevel0_row84\" class=\"row_heading level0 row84\" >84</th>\n",
       "                        <td id=\"T_9b19ee34_6e03_11ea_9e91_6c626d35f69drow84_col0\" class=\"data row84 col0\" >Sri Lanka</td>\n",
       "                        <td id=\"T_9b19ee34_6e03_11ea_9e91_6c626d35f69drow84_col1\" class=\"data row84 col1\" >97</td>\n",
       "                        <td id=\"T_9b19ee34_6e03_11ea_9e91_6c626d35f69drow84_col2\" class=\"data row84 col2\" >0</td>\n",
       "                        <td id=\"T_9b19ee34_6e03_11ea_9e91_6c626d35f69drow84_col3\" class=\"data row84 col3\" >2</td>\n",
       "                        <td id=\"T_9b19ee34_6e03_11ea_9e91_6c626d35f69drow84_col4\" class=\"data row84 col4\" >95</td>\n",
       "            </tr>\n",
       "            <tr>\n",
       "                        <th id=\"T_9b19ee34_6e03_11ea_9e91_6c626d35f69dlevel0_row85\" class=\"row_heading level0 row85\" >85</th>\n",
       "                        <td id=\"T_9b19ee34_6e03_11ea_9e91_6c626d35f69drow85_col0\" class=\"data row85 col0\" >Brunei</td>\n",
       "                        <td id=\"T_9b19ee34_6e03_11ea_9e91_6c626d35f69drow85_col1\" class=\"data row85 col1\" >91</td>\n",
       "                        <td id=\"T_9b19ee34_6e03_11ea_9e91_6c626d35f69drow85_col2\" class=\"data row85 col2\" >0</td>\n",
       "                        <td id=\"T_9b19ee34_6e03_11ea_9e91_6c626d35f69drow85_col3\" class=\"data row85 col3\" >2</td>\n",
       "                        <td id=\"T_9b19ee34_6e03_11ea_9e91_6c626d35f69drow85_col4\" class=\"data row85 col4\" >89</td>\n",
       "            </tr>\n",
       "            <tr>\n",
       "                        <th id=\"T_9b19ee34_6e03_11ea_9e91_6c626d35f69dlevel0_row86\" class=\"row_heading level0 row86\" >86</th>\n",
       "                        <td id=\"T_9b19ee34_6e03_11ea_9e91_6c626d35f69drow86_col0\" class=\"data row86 col0\" >Tunisia</td>\n",
       "                        <td id=\"T_9b19ee34_6e03_11ea_9e91_6c626d35f69drow86_col1\" class=\"data row86 col1\" >89</td>\n",
       "                        <td id=\"T_9b19ee34_6e03_11ea_9e91_6c626d35f69drow86_col2\" class=\"data row86 col2\" >3</td>\n",
       "                        <td id=\"T_9b19ee34_6e03_11ea_9e91_6c626d35f69drow86_col3\" class=\"data row86 col3\" >1</td>\n",
       "                        <td id=\"T_9b19ee34_6e03_11ea_9e91_6c626d35f69drow86_col4\" class=\"data row86 col4\" >85</td>\n",
       "            </tr>\n",
       "            <tr>\n",
       "                        <th id=\"T_9b19ee34_6e03_11ea_9e91_6c626d35f69dlevel0_row87\" class=\"row_heading level0 row87\" >87</th>\n",
       "                        <td id=\"T_9b19ee34_6e03_11ea_9e91_6c626d35f69drow87_col0\" class=\"data row87 col0\" >Cambodia</td>\n",
       "                        <td id=\"T_9b19ee34_6e03_11ea_9e91_6c626d35f69drow87_col1\" class=\"data row87 col1\" >87</td>\n",
       "                        <td id=\"T_9b19ee34_6e03_11ea_9e91_6c626d35f69drow87_col2\" class=\"data row87 col2\" >0</td>\n",
       "                        <td id=\"T_9b19ee34_6e03_11ea_9e91_6c626d35f69drow87_col3\" class=\"data row87 col3\" >2</td>\n",
       "                        <td id=\"T_9b19ee34_6e03_11ea_9e91_6c626d35f69drow87_col4\" class=\"data row87 col4\" >85</td>\n",
       "            </tr>\n",
       "            <tr>\n",
       "                        <th id=\"T_9b19ee34_6e03_11ea_9e91_6c626d35f69dlevel0_row88\" class=\"row_heading level0 row88\" >88</th>\n",
       "                        <td id=\"T_9b19ee34_6e03_11ea_9e91_6c626d35f69drow88_col0\" class=\"data row88 col0\" >Belarus</td>\n",
       "                        <td id=\"T_9b19ee34_6e03_11ea_9e91_6c626d35f69drow88_col1\" class=\"data row88 col1\" >81</td>\n",
       "                        <td id=\"T_9b19ee34_6e03_11ea_9e91_6c626d35f69drow88_col2\" class=\"data row88 col2\" >0</td>\n",
       "                        <td id=\"T_9b19ee34_6e03_11ea_9e91_6c626d35f69drow88_col3\" class=\"data row88 col3\" >22</td>\n",
       "                        <td id=\"T_9b19ee34_6e03_11ea_9e91_6c626d35f69drow88_col4\" class=\"data row88 col4\" >59</td>\n",
       "            </tr>\n",
       "            <tr>\n",
       "                        <th id=\"T_9b19ee34_6e03_11ea_9e91_6c626d35f69dlevel0_row89\" class=\"row_heading level0 row89\" >89</th>\n",
       "                        <td id=\"T_9b19ee34_6e03_11ea_9e91_6c626d35f69drow89_col0\" class=\"data row89 col0\" >Senegal</td>\n",
       "                        <td id=\"T_9b19ee34_6e03_11ea_9e91_6c626d35f69drow89_col1\" class=\"data row89 col1\" >79</td>\n",
       "                        <td id=\"T_9b19ee34_6e03_11ea_9e91_6c626d35f69drow89_col2\" class=\"data row89 col2\" >0</td>\n",
       "                        <td id=\"T_9b19ee34_6e03_11ea_9e91_6c626d35f69drow89_col3\" class=\"data row89 col3\" >8</td>\n",
       "                        <td id=\"T_9b19ee34_6e03_11ea_9e91_6c626d35f69drow89_col4\" class=\"data row89 col4\" >71</td>\n",
       "            </tr>\n",
       "            <tr>\n",
       "                        <th id=\"T_9b19ee34_6e03_11ea_9e91_6c626d35f69dlevel0_row90\" class=\"row_heading level0 row90\" >90</th>\n",
       "                        <td id=\"T_9b19ee34_6e03_11ea_9e91_6c626d35f69drow90_col0\" class=\"data row90 col0\" >Venezuela</td>\n",
       "                        <td id=\"T_9b19ee34_6e03_11ea_9e91_6c626d35f69drow90_col1\" class=\"data row90 col1\" >77</td>\n",
       "                        <td id=\"T_9b19ee34_6e03_11ea_9e91_6c626d35f69drow90_col2\" class=\"data row90 col2\" >0</td>\n",
       "                        <td id=\"T_9b19ee34_6e03_11ea_9e91_6c626d35f69drow90_col3\" class=\"data row90 col3\" >15</td>\n",
       "                        <td id=\"T_9b19ee34_6e03_11ea_9e91_6c626d35f69drow90_col4\" class=\"data row90 col4\" >62</td>\n",
       "            </tr>\n",
       "            <tr>\n",
       "                        <th id=\"T_9b19ee34_6e03_11ea_9e91_6c626d35f69dlevel0_row91\" class=\"row_heading level0 row91\" >91</th>\n",
       "                        <td id=\"T_9b19ee34_6e03_11ea_9e91_6c626d35f69drow91_col0\" class=\"data row91 col0\" >Ukraine</td>\n",
       "                        <td id=\"T_9b19ee34_6e03_11ea_9e91_6c626d35f69drow91_col1\" class=\"data row91 col1\" >73</td>\n",
       "                        <td id=\"T_9b19ee34_6e03_11ea_9e91_6c626d35f69drow91_col2\" class=\"data row91 col2\" >3</td>\n",
       "                        <td id=\"T_9b19ee34_6e03_11ea_9e91_6c626d35f69drow91_col3\" class=\"data row91 col3\" >1</td>\n",
       "                        <td id=\"T_9b19ee34_6e03_11ea_9e91_6c626d35f69drow91_col4\" class=\"data row91 col4\" >69</td>\n",
       "            </tr>\n",
       "            <tr>\n",
       "                        <th id=\"T_9b19ee34_6e03_11ea_9e91_6c626d35f69dlevel0_row92\" class=\"row_heading level0 row92\" >92</th>\n",
       "                        <td id=\"T_9b19ee34_6e03_11ea_9e91_6c626d35f69drow92_col0\" class=\"data row92 col0\" >Azerbaijan</td>\n",
       "                        <td id=\"T_9b19ee34_6e03_11ea_9e91_6c626d35f69drow92_col1\" class=\"data row92 col1\" >72</td>\n",
       "                        <td id=\"T_9b19ee34_6e03_11ea_9e91_6c626d35f69drow92_col2\" class=\"data row92 col2\" >1</td>\n",
       "                        <td id=\"T_9b19ee34_6e03_11ea_9e91_6c626d35f69drow92_col3\" class=\"data row92 col3\" >10</td>\n",
       "                        <td id=\"T_9b19ee34_6e03_11ea_9e91_6c626d35f69drow92_col4\" class=\"data row92 col4\" >61</td>\n",
       "            </tr>\n",
       "            <tr>\n",
       "                        <th id=\"T_9b19ee34_6e03_11ea_9e91_6c626d35f69dlevel0_row93\" class=\"row_heading level0 row93\" >93</th>\n",
       "                        <td id=\"T_9b19ee34_6e03_11ea_9e91_6c626d35f69drow93_col0\" class=\"data row93 col0\" >Oman</td>\n",
       "                        <td id=\"T_9b19ee34_6e03_11ea_9e91_6c626d35f69drow93_col1\" class=\"data row93 col1\" >66</td>\n",
       "                        <td id=\"T_9b19ee34_6e03_11ea_9e91_6c626d35f69drow93_col2\" class=\"data row93 col2\" >0</td>\n",
       "                        <td id=\"T_9b19ee34_6e03_11ea_9e91_6c626d35f69drow93_col3\" class=\"data row93 col3\" >17</td>\n",
       "                        <td id=\"T_9b19ee34_6e03_11ea_9e91_6c626d35f69drow93_col4\" class=\"data row93 col4\" >49</td>\n",
       "            </tr>\n",
       "            <tr>\n",
       "                        <th id=\"T_9b19ee34_6e03_11ea_9e91_6c626d35f69dlevel0_row94\" class=\"row_heading level0 row94\" >94</th>\n",
       "                        <td id=\"T_9b19ee34_6e03_11ea_9e91_6c626d35f69drow94_col0\" class=\"data row94 col0\" >Kazakhstan</td>\n",
       "                        <td id=\"T_9b19ee34_6e03_11ea_9e91_6c626d35f69drow94_col1\" class=\"data row94 col1\" >62</td>\n",
       "                        <td id=\"T_9b19ee34_6e03_11ea_9e91_6c626d35f69drow94_col2\" class=\"data row94 col2\" >0</td>\n",
       "                        <td id=\"T_9b19ee34_6e03_11ea_9e91_6c626d35f69drow94_col3\" class=\"data row94 col3\" >0</td>\n",
       "                        <td id=\"T_9b19ee34_6e03_11ea_9e91_6c626d35f69drow94_col4\" class=\"data row94 col4\" >62</td>\n",
       "            </tr>\n",
       "            <tr>\n",
       "                        <th id=\"T_9b19ee34_6e03_11ea_9e91_6c626d35f69dlevel0_row95\" class=\"row_heading level0 row95\" >95</th>\n",
       "                        <td id=\"T_9b19ee34_6e03_11ea_9e91_6c626d35f69drow95_col0\" class=\"data row95 col0\" >Georgia</td>\n",
       "                        <td id=\"T_9b19ee34_6e03_11ea_9e91_6c626d35f69drow95_col1\" class=\"data row95 col1\" >61</td>\n",
       "                        <td id=\"T_9b19ee34_6e03_11ea_9e91_6c626d35f69drow95_col2\" class=\"data row95 col2\" >0</td>\n",
       "                        <td id=\"T_9b19ee34_6e03_11ea_9e91_6c626d35f69drow95_col3\" class=\"data row95 col3\" >8</td>\n",
       "                        <td id=\"T_9b19ee34_6e03_11ea_9e91_6c626d35f69drow95_col4\" class=\"data row95 col4\" >53</td>\n",
       "            </tr>\n",
       "            <tr>\n",
       "                        <th id=\"T_9b19ee34_6e03_11ea_9e91_6c626d35f69dlevel0_row96\" class=\"row_heading level0 row96\" >96</th>\n",
       "                        <td id=\"T_9b19ee34_6e03_11ea_9e91_6c626d35f69drow96_col0\" class=\"data row96 col0\" >Cameroon</td>\n",
       "                        <td id=\"T_9b19ee34_6e03_11ea_9e91_6c626d35f69drow96_col1\" class=\"data row96 col1\" >56</td>\n",
       "                        <td id=\"T_9b19ee34_6e03_11ea_9e91_6c626d35f69drow96_col2\" class=\"data row96 col2\" >0</td>\n",
       "                        <td id=\"T_9b19ee34_6e03_11ea_9e91_6c626d35f69drow96_col3\" class=\"data row96 col3\" >2</td>\n",
       "                        <td id=\"T_9b19ee34_6e03_11ea_9e91_6c626d35f69drow96_col4\" class=\"data row96 col4\" >54</td>\n",
       "            </tr>\n",
       "            <tr>\n",
       "                        <th id=\"T_9b19ee34_6e03_11ea_9e91_6c626d35f69dlevel0_row97\" class=\"row_heading level0 row97\" >97</th>\n",
       "                        <td id=\"T_9b19ee34_6e03_11ea_9e91_6c626d35f69drow97_col0\" class=\"data row97 col0\" >Liechtenstein</td>\n",
       "                        <td id=\"T_9b19ee34_6e03_11ea_9e91_6c626d35f69drow97_col1\" class=\"data row97 col1\" >51</td>\n",
       "                        <td id=\"T_9b19ee34_6e03_11ea_9e91_6c626d35f69drow97_col2\" class=\"data row97 col2\" >0</td>\n",
       "                        <td id=\"T_9b19ee34_6e03_11ea_9e91_6c626d35f69drow97_col3\" class=\"data row97 col3\" >0</td>\n",
       "                        <td id=\"T_9b19ee34_6e03_11ea_9e91_6c626d35f69drow97_col4\" class=\"data row97 col4\" >51</td>\n",
       "            </tr>\n",
       "            <tr>\n",
       "                        <th id=\"T_9b19ee34_6e03_11ea_9e91_6c626d35f69dlevel0_row98\" class=\"row_heading level0 row98\" >98</th>\n",
       "                        <td id=\"T_9b19ee34_6e03_11ea_9e91_6c626d35f69drow98_col0\" class=\"data row98 col0\" >Trinidad and Tobago</td>\n",
       "                        <td id=\"T_9b19ee34_6e03_11ea_9e91_6c626d35f69drow98_col1\" class=\"data row98 col1\" >51</td>\n",
       "                        <td id=\"T_9b19ee34_6e03_11ea_9e91_6c626d35f69drow98_col2\" class=\"data row98 col2\" >0</td>\n",
       "                        <td id=\"T_9b19ee34_6e03_11ea_9e91_6c626d35f69drow98_col3\" class=\"data row98 col3\" >0</td>\n",
       "                        <td id=\"T_9b19ee34_6e03_11ea_9e91_6c626d35f69drow98_col4\" class=\"data row98 col4\" >51</td>\n",
       "            </tr>\n",
       "            <tr>\n",
       "                        <th id=\"T_9b19ee34_6e03_11ea_9e91_6c626d35f69dlevel0_row99\" class=\"row_heading level0 row99\" >99</th>\n",
       "                        <td id=\"T_9b19ee34_6e03_11ea_9e91_6c626d35f69drow99_col0\" class=\"data row99 col0\" >Uzbekistan</td>\n",
       "                        <td id=\"T_9b19ee34_6e03_11ea_9e91_6c626d35f69drow99_col1\" class=\"data row99 col1\" >46</td>\n",
       "                        <td id=\"T_9b19ee34_6e03_11ea_9e91_6c626d35f69drow99_col2\" class=\"data row99 col2\" >0</td>\n",
       "                        <td id=\"T_9b19ee34_6e03_11ea_9e91_6c626d35f69drow99_col3\" class=\"data row99 col3\" >0</td>\n",
       "                        <td id=\"T_9b19ee34_6e03_11ea_9e91_6c626d35f69drow99_col4\" class=\"data row99 col4\" >46</td>\n",
       "            </tr>\n",
       "            <tr>\n",
       "                        <th id=\"T_9b19ee34_6e03_11ea_9e91_6c626d35f69dlevel0_row100\" class=\"row_heading level0 row100\" >100</th>\n",
       "                        <td id=\"T_9b19ee34_6e03_11ea_9e91_6c626d35f69drow100_col0\" class=\"data row100 col0\" >Nigeria</td>\n",
       "                        <td id=\"T_9b19ee34_6e03_11ea_9e91_6c626d35f69drow100_col1\" class=\"data row100 col1\" >40</td>\n",
       "                        <td id=\"T_9b19ee34_6e03_11ea_9e91_6c626d35f69drow100_col2\" class=\"data row100 col2\" >1</td>\n",
       "                        <td id=\"T_9b19ee34_6e03_11ea_9e91_6c626d35f69drow100_col3\" class=\"data row100 col3\" >2</td>\n",
       "                        <td id=\"T_9b19ee34_6e03_11ea_9e91_6c626d35f69drow100_col4\" class=\"data row100 col4\" >37</td>\n",
       "            </tr>\n",
       "            <tr>\n",
       "                        <th id=\"T_9b19ee34_6e03_11ea_9e91_6c626d35f69dlevel0_row101\" class=\"row_heading level0 row101\" >101</th>\n",
       "                        <td id=\"T_9b19ee34_6e03_11ea_9e91_6c626d35f69drow101_col0\" class=\"data row101 col0\" >Afghanistan</td>\n",
       "                        <td id=\"T_9b19ee34_6e03_11ea_9e91_6c626d35f69drow101_col1\" class=\"data row101 col1\" >40</td>\n",
       "                        <td id=\"T_9b19ee34_6e03_11ea_9e91_6c626d35f69drow101_col2\" class=\"data row101 col2\" >1</td>\n",
       "                        <td id=\"T_9b19ee34_6e03_11ea_9e91_6c626d35f69drow101_col3\" class=\"data row101 col3\" >1</td>\n",
       "                        <td id=\"T_9b19ee34_6e03_11ea_9e91_6c626d35f69drow101_col4\" class=\"data row101 col4\" >38</td>\n",
       "            </tr>\n",
       "            <tr>\n",
       "                        <th id=\"T_9b19ee34_6e03_11ea_9e91_6c626d35f69dlevel0_row102\" class=\"row_heading level0 row102\" >102</th>\n",
       "                        <td id=\"T_9b19ee34_6e03_11ea_9e91_6c626d35f69drow102_col0\" class=\"data row102 col0\" >Cuba</td>\n",
       "                        <td id=\"T_9b19ee34_6e03_11ea_9e91_6c626d35f69drow102_col1\" class=\"data row102 col1\" >40</td>\n",
       "                        <td id=\"T_9b19ee34_6e03_11ea_9e91_6c626d35f69drow102_col2\" class=\"data row102 col2\" >1</td>\n",
       "                        <td id=\"T_9b19ee34_6e03_11ea_9e91_6c626d35f69drow102_col3\" class=\"data row102 col3\" >0</td>\n",
       "                        <td id=\"T_9b19ee34_6e03_11ea_9e91_6c626d35f69drow102_col4\" class=\"data row102 col4\" >39</td>\n",
       "            </tr>\n",
       "            <tr>\n",
       "                        <th id=\"T_9b19ee34_6e03_11ea_9e91_6c626d35f69dlevel0_row103\" class=\"row_heading level0 row103\" >103</th>\n",
       "                        <td id=\"T_9b19ee34_6e03_11ea_9e91_6c626d35f69drow103_col0\" class=\"data row103 col0\" >Mauritius</td>\n",
       "                        <td id=\"T_9b19ee34_6e03_11ea_9e91_6c626d35f69drow103_col1\" class=\"data row103 col1\" >36</td>\n",
       "                        <td id=\"T_9b19ee34_6e03_11ea_9e91_6c626d35f69drow103_col2\" class=\"data row103 col2\" >2</td>\n",
       "                        <td id=\"T_9b19ee34_6e03_11ea_9e91_6c626d35f69drow103_col3\" class=\"data row103 col3\" >0</td>\n",
       "                        <td id=\"T_9b19ee34_6e03_11ea_9e91_6c626d35f69drow103_col4\" class=\"data row103 col4\" >34</td>\n",
       "            </tr>\n",
       "            <tr>\n",
       "                        <th id=\"T_9b19ee34_6e03_11ea_9e91_6c626d35f69dlevel0_row104\" class=\"row_heading level0 row104\" >104</th>\n",
       "                        <td id=\"T_9b19ee34_6e03_11ea_9e91_6c626d35f69drow104_col0\" class=\"data row104 col0\" >Rwanda</td>\n",
       "                        <td id=\"T_9b19ee34_6e03_11ea_9e91_6c626d35f69drow104_col1\" class=\"data row104 col1\" >36</td>\n",
       "                        <td id=\"T_9b19ee34_6e03_11ea_9e91_6c626d35f69drow104_col2\" class=\"data row104 col2\" >0</td>\n",
       "                        <td id=\"T_9b19ee34_6e03_11ea_9e91_6c626d35f69drow104_col3\" class=\"data row104 col3\" >0</td>\n",
       "                        <td id=\"T_9b19ee34_6e03_11ea_9e91_6c626d35f69drow104_col4\" class=\"data row104 col4\" >36</td>\n",
       "            </tr>\n",
       "            <tr>\n",
       "                        <th id=\"T_9b19ee34_6e03_11ea_9e91_6c626d35f69dlevel0_row105\" class=\"row_heading level0 row105\" >105</th>\n",
       "                        <td id=\"T_9b19ee34_6e03_11ea_9e91_6c626d35f69drow105_col0\" class=\"data row105 col0\" >Congo (Kinshasa)</td>\n",
       "                        <td id=\"T_9b19ee34_6e03_11ea_9e91_6c626d35f69drow105_col1\" class=\"data row105 col1\" >36</td>\n",
       "                        <td id=\"T_9b19ee34_6e03_11ea_9e91_6c626d35f69drow105_col2\" class=\"data row105 col2\" >1</td>\n",
       "                        <td id=\"T_9b19ee34_6e03_11ea_9e91_6c626d35f69drow105_col3\" class=\"data row105 col3\" >0</td>\n",
       "                        <td id=\"T_9b19ee34_6e03_11ea_9e91_6c626d35f69drow105_col4\" class=\"data row105 col4\" >35</td>\n",
       "            </tr>\n",
       "            <tr>\n",
       "                        <th id=\"T_9b19ee34_6e03_11ea_9e91_6c626d35f69dlevel0_row106\" class=\"row_heading level0 row106\" >106</th>\n",
       "                        <td id=\"T_9b19ee34_6e03_11ea_9e91_6c626d35f69drow106_col0\" class=\"data row106 col0\" >Bangladesh</td>\n",
       "                        <td id=\"T_9b19ee34_6e03_11ea_9e91_6c626d35f69drow106_col1\" class=\"data row106 col1\" >33</td>\n",
       "                        <td id=\"T_9b19ee34_6e03_11ea_9e91_6c626d35f69drow106_col2\" class=\"data row106 col2\" >3</td>\n",
       "                        <td id=\"T_9b19ee34_6e03_11ea_9e91_6c626d35f69drow106_col3\" class=\"data row106 col3\" >5</td>\n",
       "                        <td id=\"T_9b19ee34_6e03_11ea_9e91_6c626d35f69drow106_col4\" class=\"data row106 col4\" >25</td>\n",
       "            </tr>\n",
       "            <tr>\n",
       "                        <th id=\"T_9b19ee34_6e03_11ea_9e91_6c626d35f69dlevel0_row107\" class=\"row_heading level0 row107\" >107</th>\n",
       "                        <td id=\"T_9b19ee34_6e03_11ea_9e91_6c626d35f69drow107_col0\" class=\"data row107 col0\" >Bolivia</td>\n",
       "                        <td id=\"T_9b19ee34_6e03_11ea_9e91_6c626d35f69drow107_col1\" class=\"data row107 col1\" >27</td>\n",
       "                        <td id=\"T_9b19ee34_6e03_11ea_9e91_6c626d35f69drow107_col2\" class=\"data row107 col2\" >0</td>\n",
       "                        <td id=\"T_9b19ee34_6e03_11ea_9e91_6c626d35f69drow107_col3\" class=\"data row107 col3\" >0</td>\n",
       "                        <td id=\"T_9b19ee34_6e03_11ea_9e91_6c626d35f69drow107_col4\" class=\"data row107 col4\" >27</td>\n",
       "            </tr>\n",
       "            <tr>\n",
       "                        <th id=\"T_9b19ee34_6e03_11ea_9e91_6c626d35f69dlevel0_row108\" class=\"row_heading level0 row108\" >108</th>\n",
       "                        <td id=\"T_9b19ee34_6e03_11ea_9e91_6c626d35f69drow108_col0\" class=\"data row108 col0\" >Ghana</td>\n",
       "                        <td id=\"T_9b19ee34_6e03_11ea_9e91_6c626d35f69drow108_col1\" class=\"data row108 col1\" >27</td>\n",
       "                        <td id=\"T_9b19ee34_6e03_11ea_9e91_6c626d35f69drow108_col2\" class=\"data row108 col2\" >2</td>\n",
       "                        <td id=\"T_9b19ee34_6e03_11ea_9e91_6c626d35f69drow108_col3\" class=\"data row108 col3\" >0</td>\n",
       "                        <td id=\"T_9b19ee34_6e03_11ea_9e91_6c626d35f69drow108_col4\" class=\"data row108 col4\" >25</td>\n",
       "            </tr>\n",
       "            <tr>\n",
       "                        <th id=\"T_9b19ee34_6e03_11ea_9e91_6c626d35f69dlevel0_row109\" class=\"row_heading level0 row109\" >109</th>\n",
       "                        <td id=\"T_9b19ee34_6e03_11ea_9e91_6c626d35f69drow109_col0\" class=\"data row109 col0\" >Honduras</td>\n",
       "                        <td id=\"T_9b19ee34_6e03_11ea_9e91_6c626d35f69drow109_col1\" class=\"data row109 col1\" >27</td>\n",
       "                        <td id=\"T_9b19ee34_6e03_11ea_9e91_6c626d35f69drow109_col2\" class=\"data row109 col2\" >0</td>\n",
       "                        <td id=\"T_9b19ee34_6e03_11ea_9e91_6c626d35f69drow109_col3\" class=\"data row109 col3\" >0</td>\n",
       "                        <td id=\"T_9b19ee34_6e03_11ea_9e91_6c626d35f69drow109_col4\" class=\"data row109 col4\" >27</td>\n",
       "            </tr>\n",
       "            <tr>\n",
       "                        <th id=\"T_9b19ee34_6e03_11ea_9e91_6c626d35f69dlevel0_row110\" class=\"row_heading level0 row110\" >110</th>\n",
       "                        <td id=\"T_9b19ee34_6e03_11ea_9e91_6c626d35f69drow110_col0\" class=\"data row110 col0\" >Montenegro</td>\n",
       "                        <td id=\"T_9b19ee34_6e03_11ea_9e91_6c626d35f69drow110_col1\" class=\"data row110 col1\" >27</td>\n",
       "                        <td id=\"T_9b19ee34_6e03_11ea_9e91_6c626d35f69drow110_col2\" class=\"data row110 col2\" >1</td>\n",
       "                        <td id=\"T_9b19ee34_6e03_11ea_9e91_6c626d35f69drow110_col3\" class=\"data row110 col3\" >0</td>\n",
       "                        <td id=\"T_9b19ee34_6e03_11ea_9e91_6c626d35f69drow110_col4\" class=\"data row110 col4\" >26</td>\n",
       "            </tr>\n",
       "            <tr>\n",
       "                        <th id=\"T_9b19ee34_6e03_11ea_9e91_6c626d35f69dlevel0_row111\" class=\"row_heading level0 row111\" >111</th>\n",
       "                        <td id=\"T_9b19ee34_6e03_11ea_9e91_6c626d35f69drow111_col0\" class=\"data row111 col0\" >Cote d'Ivoire</td>\n",
       "                        <td id=\"T_9b19ee34_6e03_11ea_9e91_6c626d35f69drow111_col1\" class=\"data row111 col1\" >25</td>\n",
       "                        <td id=\"T_9b19ee34_6e03_11ea_9e91_6c626d35f69drow111_col2\" class=\"data row111 col2\" >0</td>\n",
       "                        <td id=\"T_9b19ee34_6e03_11ea_9e91_6c626d35f69drow111_col3\" class=\"data row111 col3\" >2</td>\n",
       "                        <td id=\"T_9b19ee34_6e03_11ea_9e91_6c626d35f69drow111_col4\" class=\"data row111 col4\" >23</td>\n",
       "            </tr>\n",
       "            <tr>\n",
       "                        <th id=\"T_9b19ee34_6e03_11ea_9e91_6c626d35f69dlevel0_row112\" class=\"row_heading level0 row112\" >112</th>\n",
       "                        <td id=\"T_9b19ee34_6e03_11ea_9e91_6c626d35f69drow112_col0\" class=\"data row112 col0\" >Monaco</td>\n",
       "                        <td id=\"T_9b19ee34_6e03_11ea_9e91_6c626d35f69drow112_col1\" class=\"data row112 col1\" >23</td>\n",
       "                        <td id=\"T_9b19ee34_6e03_11ea_9e91_6c626d35f69drow112_col2\" class=\"data row112 col2\" >0</td>\n",
       "                        <td id=\"T_9b19ee34_6e03_11ea_9e91_6c626d35f69drow112_col3\" class=\"data row112 col3\" >1</td>\n",
       "                        <td id=\"T_9b19ee34_6e03_11ea_9e91_6c626d35f69drow112_col4\" class=\"data row112 col4\" >22</td>\n",
       "            </tr>\n",
       "            <tr>\n",
       "                        <th id=\"T_9b19ee34_6e03_11ea_9e91_6c626d35f69dlevel0_row113\" class=\"row_heading level0 row113\" >113</th>\n",
       "                        <td id=\"T_9b19ee34_6e03_11ea_9e91_6c626d35f69drow113_col0\" class=\"data row113 col0\" >Paraguay</td>\n",
       "                        <td id=\"T_9b19ee34_6e03_11ea_9e91_6c626d35f69drow113_col1\" class=\"data row113 col1\" >22</td>\n",
       "                        <td id=\"T_9b19ee34_6e03_11ea_9e91_6c626d35f69drow113_col2\" class=\"data row113 col2\" >1</td>\n",
       "                        <td id=\"T_9b19ee34_6e03_11ea_9e91_6c626d35f69drow113_col3\" class=\"data row113 col3\" >0</td>\n",
       "                        <td id=\"T_9b19ee34_6e03_11ea_9e91_6c626d35f69drow113_col4\" class=\"data row113 col4\" >21</td>\n",
       "            </tr>\n",
       "            <tr>\n",
       "                        <th id=\"T_9b19ee34_6e03_11ea_9e91_6c626d35f69dlevel0_row114\" class=\"row_heading level0 row114\" >114</th>\n",
       "                        <td id=\"T_9b19ee34_6e03_11ea_9e91_6c626d35f69drow114_col0\" class=\"data row114 col0\" >Guatemala</td>\n",
       "                        <td id=\"T_9b19ee34_6e03_11ea_9e91_6c626d35f69drow114_col1\" class=\"data row114 col1\" >20</td>\n",
       "                        <td id=\"T_9b19ee34_6e03_11ea_9e91_6c626d35f69drow114_col2\" class=\"data row114 col2\" >1</td>\n",
       "                        <td id=\"T_9b19ee34_6e03_11ea_9e91_6c626d35f69drow114_col3\" class=\"data row114 col3\" >0</td>\n",
       "                        <td id=\"T_9b19ee34_6e03_11ea_9e91_6c626d35f69drow114_col4\" class=\"data row114 col4\" >19</td>\n",
       "            </tr>\n",
       "            <tr>\n",
       "                        <th id=\"T_9b19ee34_6e03_11ea_9e91_6c626d35f69dlevel0_row115\" class=\"row_heading level0 row115\" >115</th>\n",
       "                        <td id=\"T_9b19ee34_6e03_11ea_9e91_6c626d35f69drow115_col0\" class=\"data row115 col0\" >Guyana</td>\n",
       "                        <td id=\"T_9b19ee34_6e03_11ea_9e91_6c626d35f69drow115_col1\" class=\"data row115 col1\" >20</td>\n",
       "                        <td id=\"T_9b19ee34_6e03_11ea_9e91_6c626d35f69drow115_col2\" class=\"data row115 col2\" >1</td>\n",
       "                        <td id=\"T_9b19ee34_6e03_11ea_9e91_6c626d35f69drow115_col3\" class=\"data row115 col3\" >0</td>\n",
       "                        <td id=\"T_9b19ee34_6e03_11ea_9e91_6c626d35f69drow115_col4\" class=\"data row115 col4\" >19</td>\n",
       "            </tr>\n",
       "            <tr>\n",
       "                        <th id=\"T_9b19ee34_6e03_11ea_9e91_6c626d35f69dlevel0_row116\" class=\"row_heading level0 row116\" >116</th>\n",
       "                        <td id=\"T_9b19ee34_6e03_11ea_9e91_6c626d35f69drow116_col0\" class=\"data row116 col0\" >Jamaica</td>\n",
       "                        <td id=\"T_9b19ee34_6e03_11ea_9e91_6c626d35f69drow116_col1\" class=\"data row116 col1\" >19</td>\n",
       "                        <td id=\"T_9b19ee34_6e03_11ea_9e91_6c626d35f69drow116_col2\" class=\"data row116 col2\" >1</td>\n",
       "                        <td id=\"T_9b19ee34_6e03_11ea_9e91_6c626d35f69drow116_col3\" class=\"data row116 col3\" >2</td>\n",
       "                        <td id=\"T_9b19ee34_6e03_11ea_9e91_6c626d35f69drow116_col4\" class=\"data row116 col4\" >16</td>\n",
       "            </tr>\n",
       "            <tr>\n",
       "                        <th id=\"T_9b19ee34_6e03_11ea_9e91_6c626d35f69dlevel0_row117\" class=\"row_heading level0 row117\" >117</th>\n",
       "                        <td id=\"T_9b19ee34_6e03_11ea_9e91_6c626d35f69drow117_col0\" class=\"data row117 col0\" >Togo</td>\n",
       "                        <td id=\"T_9b19ee34_6e03_11ea_9e91_6c626d35f69drow117_col1\" class=\"data row117 col1\" >18</td>\n",
       "                        <td id=\"T_9b19ee34_6e03_11ea_9e91_6c626d35f69drow117_col2\" class=\"data row117 col2\" >0</td>\n",
       "                        <td id=\"T_9b19ee34_6e03_11ea_9e91_6c626d35f69drow117_col3\" class=\"data row117 col3\" >0</td>\n",
       "                        <td id=\"T_9b19ee34_6e03_11ea_9e91_6c626d35f69drow117_col4\" class=\"data row117 col4\" >18</td>\n",
       "            </tr>\n",
       "            <tr>\n",
       "                        <th id=\"T_9b19ee34_6e03_11ea_9e91_6c626d35f69dlevel0_row118\" class=\"row_heading level0 row118\" >118</th>\n",
       "                        <td id=\"T_9b19ee34_6e03_11ea_9e91_6c626d35f69drow118_col0\" class=\"data row118 col0\" >Barbados</td>\n",
       "                        <td id=\"T_9b19ee34_6e03_11ea_9e91_6c626d35f69drow118_col1\" class=\"data row118 col1\" >17</td>\n",
       "                        <td id=\"T_9b19ee34_6e03_11ea_9e91_6c626d35f69drow118_col2\" class=\"data row118 col2\" >0</td>\n",
       "                        <td id=\"T_9b19ee34_6e03_11ea_9e91_6c626d35f69drow118_col3\" class=\"data row118 col3\" >0</td>\n",
       "                        <td id=\"T_9b19ee34_6e03_11ea_9e91_6c626d35f69drow118_col4\" class=\"data row118 col4\" >17</td>\n",
       "            </tr>\n",
       "            <tr>\n",
       "                        <th id=\"T_9b19ee34_6e03_11ea_9e91_6c626d35f69dlevel0_row119\" class=\"row_heading level0 row119\" >119</th>\n",
       "                        <td id=\"T_9b19ee34_6e03_11ea_9e91_6c626d35f69drow119_col0\" class=\"data row119 col0\" >Kyrgyzstan</td>\n",
       "                        <td id=\"T_9b19ee34_6e03_11ea_9e91_6c626d35f69drow119_col1\" class=\"data row119 col1\" >16</td>\n",
       "                        <td id=\"T_9b19ee34_6e03_11ea_9e91_6c626d35f69drow119_col2\" class=\"data row119 col2\" >0</td>\n",
       "                        <td id=\"T_9b19ee34_6e03_11ea_9e91_6c626d35f69drow119_col3\" class=\"data row119 col3\" >0</td>\n",
       "                        <td id=\"T_9b19ee34_6e03_11ea_9e91_6c626d35f69drow119_col4\" class=\"data row119 col4\" >16</td>\n",
       "            </tr>\n",
       "            <tr>\n",
       "                        <th id=\"T_9b19ee34_6e03_11ea_9e91_6c626d35f69dlevel0_row120\" class=\"row_heading level0 row120\" >120</th>\n",
       "                        <td id=\"T_9b19ee34_6e03_11ea_9e91_6c626d35f69drow120_col0\" class=\"data row120 col0\" >Kenya</td>\n",
       "                        <td id=\"T_9b19ee34_6e03_11ea_9e91_6c626d35f69drow120_col1\" class=\"data row120 col1\" >16</td>\n",
       "                        <td id=\"T_9b19ee34_6e03_11ea_9e91_6c626d35f69drow120_col2\" class=\"data row120 col2\" >0</td>\n",
       "                        <td id=\"T_9b19ee34_6e03_11ea_9e91_6c626d35f69drow120_col3\" class=\"data row120 col3\" >0</td>\n",
       "                        <td id=\"T_9b19ee34_6e03_11ea_9e91_6c626d35f69drow120_col4\" class=\"data row120 col4\" >16</td>\n",
       "            </tr>\n",
       "            <tr>\n",
       "                        <th id=\"T_9b19ee34_6e03_11ea_9e91_6c626d35f69dlevel0_row121\" class=\"row_heading level0 row121\" >121</th>\n",
       "                        <td id=\"T_9b19ee34_6e03_11ea_9e91_6c626d35f69drow121_col0\" class=\"data row121 col0\" >Maldives</td>\n",
       "                        <td id=\"T_9b19ee34_6e03_11ea_9e91_6c626d35f69drow121_col1\" class=\"data row121 col1\" >13</td>\n",
       "                        <td id=\"T_9b19ee34_6e03_11ea_9e91_6c626d35f69drow121_col2\" class=\"data row121 col2\" >0</td>\n",
       "                        <td id=\"T_9b19ee34_6e03_11ea_9e91_6c626d35f69drow121_col3\" class=\"data row121 col3\" >5</td>\n",
       "                        <td id=\"T_9b19ee34_6e03_11ea_9e91_6c626d35f69drow121_col4\" class=\"data row121 col4\" >8</td>\n",
       "            </tr>\n",
       "            <tr>\n",
       "                        <th id=\"T_9b19ee34_6e03_11ea_9e91_6c626d35f69dlevel0_row122\" class=\"row_heading level0 row122\" >122</th>\n",
       "                        <td id=\"T_9b19ee34_6e03_11ea_9e91_6c626d35f69drow122_col0\" class=\"data row122 col0\" >Tanzania</td>\n",
       "                        <td id=\"T_9b19ee34_6e03_11ea_9e91_6c626d35f69drow122_col1\" class=\"data row122 col1\" >12</td>\n",
       "                        <td id=\"T_9b19ee34_6e03_11ea_9e91_6c626d35f69drow122_col2\" class=\"data row122 col2\" >0</td>\n",
       "                        <td id=\"T_9b19ee34_6e03_11ea_9e91_6c626d35f69drow122_col3\" class=\"data row122 col3\" >0</td>\n",
       "                        <td id=\"T_9b19ee34_6e03_11ea_9e91_6c626d35f69drow122_col4\" class=\"data row122 col4\" >12</td>\n",
       "            </tr>\n",
       "            <tr>\n",
       "                        <th id=\"T_9b19ee34_6e03_11ea_9e91_6c626d35f69dlevel0_row123\" class=\"row_heading level0 row123\" >123</th>\n",
       "                        <td id=\"T_9b19ee34_6e03_11ea_9e91_6c626d35f69drow123_col0\" class=\"data row123 col0\" >Madagascar</td>\n",
       "                        <td id=\"T_9b19ee34_6e03_11ea_9e91_6c626d35f69drow123_col1\" class=\"data row123 col1\" >12</td>\n",
       "                        <td id=\"T_9b19ee34_6e03_11ea_9e91_6c626d35f69drow123_col2\" class=\"data row123 col2\" >0</td>\n",
       "                        <td id=\"T_9b19ee34_6e03_11ea_9e91_6c626d35f69drow123_col3\" class=\"data row123 col3\" >0</td>\n",
       "                        <td id=\"T_9b19ee34_6e03_11ea_9e91_6c626d35f69drow123_col4\" class=\"data row123 col4\" >12</td>\n",
       "            </tr>\n",
       "            <tr>\n",
       "                        <th id=\"T_9b19ee34_6e03_11ea_9e91_6c626d35f69dlevel0_row124\" class=\"row_heading level0 row124\" >124</th>\n",
       "                        <td id=\"T_9b19ee34_6e03_11ea_9e91_6c626d35f69drow124_col0\" class=\"data row124 col0\" >Ethiopia</td>\n",
       "                        <td id=\"T_9b19ee34_6e03_11ea_9e91_6c626d35f69drow124_col1\" class=\"data row124 col1\" >11</td>\n",
       "                        <td id=\"T_9b19ee34_6e03_11ea_9e91_6c626d35f69drow124_col2\" class=\"data row124 col2\" >0</td>\n",
       "                        <td id=\"T_9b19ee34_6e03_11ea_9e91_6c626d35f69drow124_col3\" class=\"data row124 col3\" >0</td>\n",
       "                        <td id=\"T_9b19ee34_6e03_11ea_9e91_6c626d35f69drow124_col4\" class=\"data row124 col4\" >11</td>\n",
       "            </tr>\n",
       "            <tr>\n",
       "                        <th id=\"T_9b19ee34_6e03_11ea_9e91_6c626d35f69dlevel0_row125\" class=\"row_heading level0 row125\" >125</th>\n",
       "                        <td id=\"T_9b19ee34_6e03_11ea_9e91_6c626d35f69drow125_col0\" class=\"data row125 col0\" >Mongolia</td>\n",
       "                        <td id=\"T_9b19ee34_6e03_11ea_9e91_6c626d35f69drow125_col1\" class=\"data row125 col1\" >10</td>\n",
       "                        <td id=\"T_9b19ee34_6e03_11ea_9e91_6c626d35f69drow125_col2\" class=\"data row125 col2\" >0</td>\n",
       "                        <td id=\"T_9b19ee34_6e03_11ea_9e91_6c626d35f69drow125_col3\" class=\"data row125 col3\" >0</td>\n",
       "                        <td id=\"T_9b19ee34_6e03_11ea_9e91_6c626d35f69drow125_col4\" class=\"data row125 col4\" >10</td>\n",
       "            </tr>\n",
       "            <tr>\n",
       "                        <th id=\"T_9b19ee34_6e03_11ea_9e91_6c626d35f69dlevel0_row126\" class=\"row_heading level0 row126\" >126</th>\n",
       "                        <td id=\"T_9b19ee34_6e03_11ea_9e91_6c626d35f69drow126_col0\" class=\"data row126 col0\" >Uganda</td>\n",
       "                        <td id=\"T_9b19ee34_6e03_11ea_9e91_6c626d35f69drow126_col1\" class=\"data row126 col1\" >9</td>\n",
       "                        <td id=\"T_9b19ee34_6e03_11ea_9e91_6c626d35f69drow126_col2\" class=\"data row126 col2\" >0</td>\n",
       "                        <td id=\"T_9b19ee34_6e03_11ea_9e91_6c626d35f69drow126_col3\" class=\"data row126 col3\" >0</td>\n",
       "                        <td id=\"T_9b19ee34_6e03_11ea_9e91_6c626d35f69drow126_col4\" class=\"data row126 col4\" >9</td>\n",
       "            </tr>\n",
       "            <tr>\n",
       "                        <th id=\"T_9b19ee34_6e03_11ea_9e91_6c626d35f69dlevel0_row127\" class=\"row_heading level0 row127\" >127</th>\n",
       "                        <td id=\"T_9b19ee34_6e03_11ea_9e91_6c626d35f69drow127_col0\" class=\"data row127 col0\" >Equatorial Guinea</td>\n",
       "                        <td id=\"T_9b19ee34_6e03_11ea_9e91_6c626d35f69drow127_col1\" class=\"data row127 col1\" >9</td>\n",
       "                        <td id=\"T_9b19ee34_6e03_11ea_9e91_6c626d35f69drow127_col2\" class=\"data row127 col2\" >0</td>\n",
       "                        <td id=\"T_9b19ee34_6e03_11ea_9e91_6c626d35f69drow127_col3\" class=\"data row127 col3\" >0</td>\n",
       "                        <td id=\"T_9b19ee34_6e03_11ea_9e91_6c626d35f69drow127_col4\" class=\"data row127 col4\" >9</td>\n",
       "            </tr>\n",
       "            <tr>\n",
       "                        <th id=\"T_9b19ee34_6e03_11ea_9e91_6c626d35f69dlevel0_row128\" class=\"row_heading level0 row128\" >128</th>\n",
       "                        <td id=\"T_9b19ee34_6e03_11ea_9e91_6c626d35f69drow128_col0\" class=\"data row128 col0\" >Seychelles</td>\n",
       "                        <td id=\"T_9b19ee34_6e03_11ea_9e91_6c626d35f69drow128_col1\" class=\"data row128 col1\" >7</td>\n",
       "                        <td id=\"T_9b19ee34_6e03_11ea_9e91_6c626d35f69drow128_col2\" class=\"data row128 col2\" >0</td>\n",
       "                        <td id=\"T_9b19ee34_6e03_11ea_9e91_6c626d35f69drow128_col3\" class=\"data row128 col3\" >0</td>\n",
       "                        <td id=\"T_9b19ee34_6e03_11ea_9e91_6c626d35f69drow128_col4\" class=\"data row128 col4\" >7</td>\n",
       "            </tr>\n",
       "            <tr>\n",
       "                        <th id=\"T_9b19ee34_6e03_11ea_9e91_6c626d35f69dlevel0_row129\" class=\"row_heading level0 row129\" >129</th>\n",
       "                        <td id=\"T_9b19ee34_6e03_11ea_9e91_6c626d35f69drow129_col0\" class=\"data row129 col0\" >Haiti</td>\n",
       "                        <td id=\"T_9b19ee34_6e03_11ea_9e91_6c626d35f69drow129_col1\" class=\"data row129 col1\" >6</td>\n",
       "                        <td id=\"T_9b19ee34_6e03_11ea_9e91_6c626d35f69drow129_col2\" class=\"data row129 col2\" >0</td>\n",
       "                        <td id=\"T_9b19ee34_6e03_11ea_9e91_6c626d35f69drow129_col3\" class=\"data row129 col3\" >0</td>\n",
       "                        <td id=\"T_9b19ee34_6e03_11ea_9e91_6c626d35f69drow129_col4\" class=\"data row129 col4\" >6</td>\n",
       "            </tr>\n",
       "            <tr>\n",
       "                        <th id=\"T_9b19ee34_6e03_11ea_9e91_6c626d35f69dlevel0_row130\" class=\"row_heading level0 row130\" >130</th>\n",
       "                        <td id=\"T_9b19ee34_6e03_11ea_9e91_6c626d35f69drow130_col0\" class=\"data row130 col0\" >Benin</td>\n",
       "                        <td id=\"T_9b19ee34_6e03_11ea_9e91_6c626d35f69drow130_col1\" class=\"data row130 col1\" >5</td>\n",
       "                        <td id=\"T_9b19ee34_6e03_11ea_9e91_6c626d35f69drow130_col2\" class=\"data row130 col2\" >0</td>\n",
       "                        <td id=\"T_9b19ee34_6e03_11ea_9e91_6c626d35f69drow130_col3\" class=\"data row130 col3\" >0</td>\n",
       "                        <td id=\"T_9b19ee34_6e03_11ea_9e91_6c626d35f69drow130_col4\" class=\"data row130 col4\" >5</td>\n",
       "            </tr>\n",
       "            <tr>\n",
       "                        <th id=\"T_9b19ee34_6e03_11ea_9e91_6c626d35f69dlevel0_row131\" class=\"row_heading level0 row131\" >131</th>\n",
       "                        <td id=\"T_9b19ee34_6e03_11ea_9e91_6c626d35f69drow131_col0\" class=\"data row131 col0\" >Suriname</td>\n",
       "                        <td id=\"T_9b19ee34_6e03_11ea_9e91_6c626d35f69drow131_col1\" class=\"data row131 col1\" >5</td>\n",
       "                        <td id=\"T_9b19ee34_6e03_11ea_9e91_6c626d35f69drow131_col2\" class=\"data row131 col2\" >0</td>\n",
       "                        <td id=\"T_9b19ee34_6e03_11ea_9e91_6c626d35f69drow131_col3\" class=\"data row131 col3\" >0</td>\n",
       "                        <td id=\"T_9b19ee34_6e03_11ea_9e91_6c626d35f69drow131_col4\" class=\"data row131 col4\" >5</td>\n",
       "            </tr>\n",
       "            <tr>\n",
       "                        <th id=\"T_9b19ee34_6e03_11ea_9e91_6c626d35f69dlevel0_row132\" class=\"row_heading level0 row132\" >132</th>\n",
       "                        <td id=\"T_9b19ee34_6e03_11ea_9e91_6c626d35f69drow132_col0\" class=\"data row132 col0\" >Gabon</td>\n",
       "                        <td id=\"T_9b19ee34_6e03_11ea_9e91_6c626d35f69drow132_col1\" class=\"data row132 col1\" >5</td>\n",
       "                        <td id=\"T_9b19ee34_6e03_11ea_9e91_6c626d35f69drow132_col2\" class=\"data row132 col2\" >1</td>\n",
       "                        <td id=\"T_9b19ee34_6e03_11ea_9e91_6c626d35f69drow132_col3\" class=\"data row132 col3\" >0</td>\n",
       "                        <td id=\"T_9b19ee34_6e03_11ea_9e91_6c626d35f69drow132_col4\" class=\"data row132 col4\" >4</td>\n",
       "            </tr>\n",
       "            <tr>\n",
       "                        <th id=\"T_9b19ee34_6e03_11ea_9e91_6c626d35f69dlevel0_row133\" class=\"row_heading level0 row133\" >133</th>\n",
       "                        <td id=\"T_9b19ee34_6e03_11ea_9e91_6c626d35f69drow133_col0\" class=\"data row133 col0\" >Congo (Brazzaville)</td>\n",
       "                        <td id=\"T_9b19ee34_6e03_11ea_9e91_6c626d35f69drow133_col1\" class=\"data row133 col1\" >4</td>\n",
       "                        <td id=\"T_9b19ee34_6e03_11ea_9e91_6c626d35f69drow133_col2\" class=\"data row133 col2\" >0</td>\n",
       "                        <td id=\"T_9b19ee34_6e03_11ea_9e91_6c626d35f69drow133_col3\" class=\"data row133 col3\" >0</td>\n",
       "                        <td id=\"T_9b19ee34_6e03_11ea_9e91_6c626d35f69drow133_col4\" class=\"data row133 col4\" >4</td>\n",
       "            </tr>\n",
       "            <tr>\n",
       "                        <th id=\"T_9b19ee34_6e03_11ea_9e91_6c626d35f69dlevel0_row134\" class=\"row_heading level0 row134\" >134</th>\n",
       "                        <td id=\"T_9b19ee34_6e03_11ea_9e91_6c626d35f69drow134_col0\" class=\"data row134 col0\" >Bahamas</td>\n",
       "                        <td id=\"T_9b19ee34_6e03_11ea_9e91_6c626d35f69drow134_col1\" class=\"data row134 col1\" >4</td>\n",
       "                        <td id=\"T_9b19ee34_6e03_11ea_9e91_6c626d35f69drow134_col2\" class=\"data row134 col2\" >0</td>\n",
       "                        <td id=\"T_9b19ee34_6e03_11ea_9e91_6c626d35f69drow134_col3\" class=\"data row134 col3\" >0</td>\n",
       "                        <td id=\"T_9b19ee34_6e03_11ea_9e91_6c626d35f69drow134_col4\" class=\"data row134 col4\" >4</td>\n",
       "            </tr>\n",
       "            <tr>\n",
       "                        <th id=\"T_9b19ee34_6e03_11ea_9e91_6c626d35f69dlevel0_row135\" class=\"row_heading level0 row135\" >135</th>\n",
       "                        <td id=\"T_9b19ee34_6e03_11ea_9e91_6c626d35f69drow135_col0\" class=\"data row135 col0\" >Eswatini</td>\n",
       "                        <td id=\"T_9b19ee34_6e03_11ea_9e91_6c626d35f69drow135_col1\" class=\"data row135 col1\" >4</td>\n",
       "                        <td id=\"T_9b19ee34_6e03_11ea_9e91_6c626d35f69drow135_col2\" class=\"data row135 col2\" >0</td>\n",
       "                        <td id=\"T_9b19ee34_6e03_11ea_9e91_6c626d35f69drow135_col3\" class=\"data row135 col3\" >0</td>\n",
       "                        <td id=\"T_9b19ee34_6e03_11ea_9e91_6c626d35f69drow135_col4\" class=\"data row135 col4\" >4</td>\n",
       "            </tr>\n",
       "            <tr>\n",
       "                        <th id=\"T_9b19ee34_6e03_11ea_9e91_6c626d35f69dlevel0_row136\" class=\"row_heading level0 row136\" >136</th>\n",
       "                        <td id=\"T_9b19ee34_6e03_11ea_9e91_6c626d35f69drow136_col0\" class=\"data row136 col0\" >Guinea</td>\n",
       "                        <td id=\"T_9b19ee34_6e03_11ea_9e91_6c626d35f69drow136_col1\" class=\"data row136 col1\" >4</td>\n",
       "                        <td id=\"T_9b19ee34_6e03_11ea_9e91_6c626d35f69drow136_col2\" class=\"data row136 col2\" >0</td>\n",
       "                        <td id=\"T_9b19ee34_6e03_11ea_9e91_6c626d35f69drow136_col3\" class=\"data row136 col3\" >0</td>\n",
       "                        <td id=\"T_9b19ee34_6e03_11ea_9e91_6c626d35f69drow136_col4\" class=\"data row136 col4\" >4</td>\n",
       "            </tr>\n",
       "            <tr>\n",
       "                        <th id=\"T_9b19ee34_6e03_11ea_9e91_6c626d35f69dlevel0_row137\" class=\"row_heading level0 row137\" >137</th>\n",
       "                        <td id=\"T_9b19ee34_6e03_11ea_9e91_6c626d35f69drow137_col0\" class=\"data row137 col0\" >Namibia</td>\n",
       "                        <td id=\"T_9b19ee34_6e03_11ea_9e91_6c626d35f69drow137_col1\" class=\"data row137 col1\" >4</td>\n",
       "                        <td id=\"T_9b19ee34_6e03_11ea_9e91_6c626d35f69drow137_col2\" class=\"data row137 col2\" >0</td>\n",
       "                        <td id=\"T_9b19ee34_6e03_11ea_9e91_6c626d35f69drow137_col3\" class=\"data row137 col3\" >0</td>\n",
       "                        <td id=\"T_9b19ee34_6e03_11ea_9e91_6c626d35f69drow137_col4\" class=\"data row137 col4\" >4</td>\n",
       "            </tr>\n",
       "            <tr>\n",
       "                        <th id=\"T_9b19ee34_6e03_11ea_9e91_6c626d35f69dlevel0_row138\" class=\"row_heading level0 row138\" >138</th>\n",
       "                        <td id=\"T_9b19ee34_6e03_11ea_9e91_6c626d35f69drow138_col0\" class=\"data row138 col0\" >Fiji</td>\n",
       "                        <td id=\"T_9b19ee34_6e03_11ea_9e91_6c626d35f69drow138_col1\" class=\"data row138 col1\" >3</td>\n",
       "                        <td id=\"T_9b19ee34_6e03_11ea_9e91_6c626d35f69drow138_col2\" class=\"data row138 col2\" >0</td>\n",
       "                        <td id=\"T_9b19ee34_6e03_11ea_9e91_6c626d35f69drow138_col3\" class=\"data row138 col3\" >0</td>\n",
       "                        <td id=\"T_9b19ee34_6e03_11ea_9e91_6c626d35f69drow138_col4\" class=\"data row138 col4\" >3</td>\n",
       "            </tr>\n",
       "            <tr>\n",
       "                        <th id=\"T_9b19ee34_6e03_11ea_9e91_6c626d35f69dlevel0_row139\" class=\"row_heading level0 row139\" >139</th>\n",
       "                        <td id=\"T_9b19ee34_6e03_11ea_9e91_6c626d35f69drow139_col0\" class=\"data row139 col0\" >Zambia</td>\n",
       "                        <td id=\"T_9b19ee34_6e03_11ea_9e91_6c626d35f69drow139_col1\" class=\"data row139 col1\" >3</td>\n",
       "                        <td id=\"T_9b19ee34_6e03_11ea_9e91_6c626d35f69drow139_col2\" class=\"data row139 col2\" >0</td>\n",
       "                        <td id=\"T_9b19ee34_6e03_11ea_9e91_6c626d35f69drow139_col3\" class=\"data row139 col3\" >0</td>\n",
       "                        <td id=\"T_9b19ee34_6e03_11ea_9e91_6c626d35f69drow139_col4\" class=\"data row139 col4\" >3</td>\n",
       "            </tr>\n",
       "            <tr>\n",
       "                        <th id=\"T_9b19ee34_6e03_11ea_9e91_6c626d35f69dlevel0_row140\" class=\"row_heading level0 row140\" >140</th>\n",
       "                        <td id=\"T_9b19ee34_6e03_11ea_9e91_6c626d35f69drow140_col0\" class=\"data row140 col0\" >Angola</td>\n",
       "                        <td id=\"T_9b19ee34_6e03_11ea_9e91_6c626d35f69drow140_col1\" class=\"data row140 col1\" >3</td>\n",
       "                        <td id=\"T_9b19ee34_6e03_11ea_9e91_6c626d35f69drow140_col2\" class=\"data row140 col2\" >0</td>\n",
       "                        <td id=\"T_9b19ee34_6e03_11ea_9e91_6c626d35f69drow140_col3\" class=\"data row140 col3\" >0</td>\n",
       "                        <td id=\"T_9b19ee34_6e03_11ea_9e91_6c626d35f69drow140_col4\" class=\"data row140 col4\" >3</td>\n",
       "            </tr>\n",
       "            <tr>\n",
       "                        <th id=\"T_9b19ee34_6e03_11ea_9e91_6c626d35f69dlevel0_row141\" class=\"row_heading level0 row141\" >141</th>\n",
       "                        <td id=\"T_9b19ee34_6e03_11ea_9e91_6c626d35f69drow141_col0\" class=\"data row141 col0\" >Antigua and Barbuda</td>\n",
       "                        <td id=\"T_9b19ee34_6e03_11ea_9e91_6c626d35f69drow141_col1\" class=\"data row141 col1\" >3</td>\n",
       "                        <td id=\"T_9b19ee34_6e03_11ea_9e91_6c626d35f69drow141_col2\" class=\"data row141 col2\" >0</td>\n",
       "                        <td id=\"T_9b19ee34_6e03_11ea_9e91_6c626d35f69drow141_col3\" class=\"data row141 col3\" >0</td>\n",
       "                        <td id=\"T_9b19ee34_6e03_11ea_9e91_6c626d35f69drow141_col4\" class=\"data row141 col4\" >3</td>\n",
       "            </tr>\n",
       "            <tr>\n",
       "                        <th id=\"T_9b19ee34_6e03_11ea_9e91_6c626d35f69dlevel0_row142\" class=\"row_heading level0 row142\" >142</th>\n",
       "                        <td id=\"T_9b19ee34_6e03_11ea_9e91_6c626d35f69drow142_col0\" class=\"data row142 col0\" >Niger</td>\n",
       "                        <td id=\"T_9b19ee34_6e03_11ea_9e91_6c626d35f69drow142_col1\" class=\"data row142 col1\" >3</td>\n",
       "                        <td id=\"T_9b19ee34_6e03_11ea_9e91_6c626d35f69drow142_col2\" class=\"data row142 col2\" >0</td>\n",
       "                        <td id=\"T_9b19ee34_6e03_11ea_9e91_6c626d35f69drow142_col3\" class=\"data row142 col3\" >0</td>\n",
       "                        <td id=\"T_9b19ee34_6e03_11ea_9e91_6c626d35f69drow142_col4\" class=\"data row142 col4\" >3</td>\n",
       "            </tr>\n",
       "            <tr>\n",
       "                        <th id=\"T_9b19ee34_6e03_11ea_9e91_6c626d35f69dlevel0_row143\" class=\"row_heading level0 row143\" >143</th>\n",
       "                        <td id=\"T_9b19ee34_6e03_11ea_9e91_6c626d35f69drow143_col0\" class=\"data row143 col0\" >Cabo Verde</td>\n",
       "                        <td id=\"T_9b19ee34_6e03_11ea_9e91_6c626d35f69drow143_col1\" class=\"data row143 col1\" >3</td>\n",
       "                        <td id=\"T_9b19ee34_6e03_11ea_9e91_6c626d35f69drow143_col2\" class=\"data row143 col2\" >0</td>\n",
       "                        <td id=\"T_9b19ee34_6e03_11ea_9e91_6c626d35f69drow143_col3\" class=\"data row143 col3\" >0</td>\n",
       "                        <td id=\"T_9b19ee34_6e03_11ea_9e91_6c626d35f69drow143_col4\" class=\"data row143 col4\" >3</td>\n",
       "            </tr>\n",
       "            <tr>\n",
       "                        <th id=\"T_9b19ee34_6e03_11ea_9e91_6c626d35f69dlevel0_row144\" class=\"row_heading level0 row144\" >144</th>\n",
       "                        <td id=\"T_9b19ee34_6e03_11ea_9e91_6c626d35f69drow144_col0\" class=\"data row144 col0\" >Central African Republic</td>\n",
       "                        <td id=\"T_9b19ee34_6e03_11ea_9e91_6c626d35f69drow144_col1\" class=\"data row144 col1\" >3</td>\n",
       "                        <td id=\"T_9b19ee34_6e03_11ea_9e91_6c626d35f69drow144_col2\" class=\"data row144 col2\" >0</td>\n",
       "                        <td id=\"T_9b19ee34_6e03_11ea_9e91_6c626d35f69drow144_col3\" class=\"data row144 col3\" >0</td>\n",
       "                        <td id=\"T_9b19ee34_6e03_11ea_9e91_6c626d35f69drow144_col4\" class=\"data row144 col4\" >3</td>\n",
       "            </tr>\n",
       "            <tr>\n",
       "                        <th id=\"T_9b19ee34_6e03_11ea_9e91_6c626d35f69dlevel0_row145\" class=\"row_heading level0 row145\" >145</th>\n",
       "                        <td id=\"T_9b19ee34_6e03_11ea_9e91_6c626d35f69drow145_col0\" class=\"data row145 col0\" >Liberia</td>\n",
       "                        <td id=\"T_9b19ee34_6e03_11ea_9e91_6c626d35f69drow145_col1\" class=\"data row145 col1\" >3</td>\n",
       "                        <td id=\"T_9b19ee34_6e03_11ea_9e91_6c626d35f69drow145_col2\" class=\"data row145 col2\" >0</td>\n",
       "                        <td id=\"T_9b19ee34_6e03_11ea_9e91_6c626d35f69drow145_col3\" class=\"data row145 col3\" >0</td>\n",
       "                        <td id=\"T_9b19ee34_6e03_11ea_9e91_6c626d35f69drow145_col4\" class=\"data row145 col4\" >3</td>\n",
       "            </tr>\n",
       "            <tr>\n",
       "                        <th id=\"T_9b19ee34_6e03_11ea_9e91_6c626d35f69dlevel0_row146\" class=\"row_heading level0 row146\" >146</th>\n",
       "                        <td id=\"T_9b19ee34_6e03_11ea_9e91_6c626d35f69drow146_col0\" class=\"data row146 col0\" >Zimbabwe</td>\n",
       "                        <td id=\"T_9b19ee34_6e03_11ea_9e91_6c626d35f69drow146_col1\" class=\"data row146 col1\" >3</td>\n",
       "                        <td id=\"T_9b19ee34_6e03_11ea_9e91_6c626d35f69drow146_col2\" class=\"data row146 col2\" >1</td>\n",
       "                        <td id=\"T_9b19ee34_6e03_11ea_9e91_6c626d35f69drow146_col3\" class=\"data row146 col3\" >0</td>\n",
       "                        <td id=\"T_9b19ee34_6e03_11ea_9e91_6c626d35f69drow146_col4\" class=\"data row146 col4\" >2</td>\n",
       "            </tr>\n",
       "            <tr>\n",
       "                        <th id=\"T_9b19ee34_6e03_11ea_9e91_6c626d35f69dlevel0_row147\" class=\"row_heading level0 row147\" >147</th>\n",
       "                        <td id=\"T_9b19ee34_6e03_11ea_9e91_6c626d35f69drow147_col0\" class=\"data row147 col0\" >El Salvador</td>\n",
       "                        <td id=\"T_9b19ee34_6e03_11ea_9e91_6c626d35f69drow147_col1\" class=\"data row147 col1\" >3</td>\n",
       "                        <td id=\"T_9b19ee34_6e03_11ea_9e91_6c626d35f69drow147_col2\" class=\"data row147 col2\" >0</td>\n",
       "                        <td id=\"T_9b19ee34_6e03_11ea_9e91_6c626d35f69drow147_col3\" class=\"data row147 col3\" >0</td>\n",
       "                        <td id=\"T_9b19ee34_6e03_11ea_9e91_6c626d35f69drow147_col4\" class=\"data row147 col4\" >3</td>\n",
       "            </tr>\n",
       "            <tr>\n",
       "                        <th id=\"T_9b19ee34_6e03_11ea_9e91_6c626d35f69dlevel0_row148\" class=\"row_heading level0 row148\" >148</th>\n",
       "                        <td id=\"T_9b19ee34_6e03_11ea_9e91_6c626d35f69drow148_col0\" class=\"data row148 col0\" >Saint Lucia</td>\n",
       "                        <td id=\"T_9b19ee34_6e03_11ea_9e91_6c626d35f69drow148_col1\" class=\"data row148 col1\" >3</td>\n",
       "                        <td id=\"T_9b19ee34_6e03_11ea_9e91_6c626d35f69drow148_col2\" class=\"data row148 col2\" >0</td>\n",
       "                        <td id=\"T_9b19ee34_6e03_11ea_9e91_6c626d35f69drow148_col3\" class=\"data row148 col3\" >0</td>\n",
       "                        <td id=\"T_9b19ee34_6e03_11ea_9e91_6c626d35f69drow148_col4\" class=\"data row148 col4\" >3</td>\n",
       "            </tr>\n",
       "            <tr>\n",
       "                        <th id=\"T_9b19ee34_6e03_11ea_9e91_6c626d35f69dlevel0_row149\" class=\"row_heading level0 row149\" >149</th>\n",
       "                        <td id=\"T_9b19ee34_6e03_11ea_9e91_6c626d35f69drow149_col0\" class=\"data row149 col0\" >Djibouti</td>\n",
       "                        <td id=\"T_9b19ee34_6e03_11ea_9e91_6c626d35f69drow149_col1\" class=\"data row149 col1\" >3</td>\n",
       "                        <td id=\"T_9b19ee34_6e03_11ea_9e91_6c626d35f69drow149_col2\" class=\"data row149 col2\" >0</td>\n",
       "                        <td id=\"T_9b19ee34_6e03_11ea_9e91_6c626d35f69drow149_col3\" class=\"data row149 col3\" >0</td>\n",
       "                        <td id=\"T_9b19ee34_6e03_11ea_9e91_6c626d35f69drow149_col4\" class=\"data row149 col4\" >3</td>\n",
       "            </tr>\n",
       "            <tr>\n",
       "                        <th id=\"T_9b19ee34_6e03_11ea_9e91_6c626d35f69dlevel0_row150\" class=\"row_heading level0 row150\" >150</th>\n",
       "                        <td id=\"T_9b19ee34_6e03_11ea_9e91_6c626d35f69drow150_col0\" class=\"data row150 col0\" >Bhutan</td>\n",
       "                        <td id=\"T_9b19ee34_6e03_11ea_9e91_6c626d35f69drow150_col1\" class=\"data row150 col1\" >2</td>\n",
       "                        <td id=\"T_9b19ee34_6e03_11ea_9e91_6c626d35f69drow150_col2\" class=\"data row150 col2\" >0</td>\n",
       "                        <td id=\"T_9b19ee34_6e03_11ea_9e91_6c626d35f69drow150_col3\" class=\"data row150 col3\" >0</td>\n",
       "                        <td id=\"T_9b19ee34_6e03_11ea_9e91_6c626d35f69drow150_col4\" class=\"data row150 col4\" >2</td>\n",
       "            </tr>\n",
       "            <tr>\n",
       "                        <th id=\"T_9b19ee34_6e03_11ea_9e91_6c626d35f69dlevel0_row151\" class=\"row_heading level0 row151\" >151</th>\n",
       "                        <td id=\"T_9b19ee34_6e03_11ea_9e91_6c626d35f69drow151_col0\" class=\"data row151 col0\" >Dominica</td>\n",
       "                        <td id=\"T_9b19ee34_6e03_11ea_9e91_6c626d35f69drow151_col1\" class=\"data row151 col1\" >2</td>\n",
       "                        <td id=\"T_9b19ee34_6e03_11ea_9e91_6c626d35f69drow151_col2\" class=\"data row151 col2\" >0</td>\n",
       "                        <td id=\"T_9b19ee34_6e03_11ea_9e91_6c626d35f69drow151_col3\" class=\"data row151 col3\" >0</td>\n",
       "                        <td id=\"T_9b19ee34_6e03_11ea_9e91_6c626d35f69drow151_col4\" class=\"data row151 col4\" >2</td>\n",
       "            </tr>\n",
       "            <tr>\n",
       "                        <th id=\"T_9b19ee34_6e03_11ea_9e91_6c626d35f69dlevel0_row152\" class=\"row_heading level0 row152\" >152</th>\n",
       "                        <td id=\"T_9b19ee34_6e03_11ea_9e91_6c626d35f69drow152_col0\" class=\"data row152 col0\" >Mauritania</td>\n",
       "                        <td id=\"T_9b19ee34_6e03_11ea_9e91_6c626d35f69drow152_col1\" class=\"data row152 col1\" >2</td>\n",
       "                        <td id=\"T_9b19ee34_6e03_11ea_9e91_6c626d35f69drow152_col2\" class=\"data row152 col2\" >0</td>\n",
       "                        <td id=\"T_9b19ee34_6e03_11ea_9e91_6c626d35f69drow152_col3\" class=\"data row152 col3\" >0</td>\n",
       "                        <td id=\"T_9b19ee34_6e03_11ea_9e91_6c626d35f69drow152_col4\" class=\"data row152 col4\" >2</td>\n",
       "            </tr>\n",
       "            <tr>\n",
       "                        <th id=\"T_9b19ee34_6e03_11ea_9e91_6c626d35f69dlevel0_row153\" class=\"row_heading level0 row153\" >153</th>\n",
       "                        <td id=\"T_9b19ee34_6e03_11ea_9e91_6c626d35f69drow153_col0\" class=\"data row153 col0\" >Gambia</td>\n",
       "                        <td id=\"T_9b19ee34_6e03_11ea_9e91_6c626d35f69drow153_col1\" class=\"data row153 col1\" >2</td>\n",
       "                        <td id=\"T_9b19ee34_6e03_11ea_9e91_6c626d35f69drow153_col2\" class=\"data row153 col2\" >1</td>\n",
       "                        <td id=\"T_9b19ee34_6e03_11ea_9e91_6c626d35f69drow153_col3\" class=\"data row153 col3\" >0</td>\n",
       "                        <td id=\"T_9b19ee34_6e03_11ea_9e91_6c626d35f69drow153_col4\" class=\"data row153 col4\" >1</td>\n",
       "            </tr>\n",
       "            <tr>\n",
       "                        <th id=\"T_9b19ee34_6e03_11ea_9e91_6c626d35f69dlevel0_row154\" class=\"row_heading level0 row154\" >154</th>\n",
       "                        <td id=\"T_9b19ee34_6e03_11ea_9e91_6c626d35f69drow154_col0\" class=\"data row154 col0\" >Sudan</td>\n",
       "                        <td id=\"T_9b19ee34_6e03_11ea_9e91_6c626d35f69drow154_col1\" class=\"data row154 col1\" >2</td>\n",
       "                        <td id=\"T_9b19ee34_6e03_11ea_9e91_6c626d35f69drow154_col2\" class=\"data row154 col2\" >1</td>\n",
       "                        <td id=\"T_9b19ee34_6e03_11ea_9e91_6c626d35f69drow154_col3\" class=\"data row154 col3\" >0</td>\n",
       "                        <td id=\"T_9b19ee34_6e03_11ea_9e91_6c626d35f69drow154_col4\" class=\"data row154 col4\" >1</td>\n",
       "            </tr>\n",
       "            <tr>\n",
       "                        <th id=\"T_9b19ee34_6e03_11ea_9e91_6c626d35f69dlevel0_row155\" class=\"row_heading level0 row155\" >155</th>\n",
       "                        <td id=\"T_9b19ee34_6e03_11ea_9e91_6c626d35f69drow155_col0\" class=\"data row155 col0\" >Nicaragua</td>\n",
       "                        <td id=\"T_9b19ee34_6e03_11ea_9e91_6c626d35f69drow155_col1\" class=\"data row155 col1\" >2</td>\n",
       "                        <td id=\"T_9b19ee34_6e03_11ea_9e91_6c626d35f69drow155_col2\" class=\"data row155 col2\" >0</td>\n",
       "                        <td id=\"T_9b19ee34_6e03_11ea_9e91_6c626d35f69drow155_col3\" class=\"data row155 col3\" >0</td>\n",
       "                        <td id=\"T_9b19ee34_6e03_11ea_9e91_6c626d35f69drow155_col4\" class=\"data row155 col4\" >2</td>\n",
       "            </tr>\n",
       "            <tr>\n",
       "                        <th id=\"T_9b19ee34_6e03_11ea_9e91_6c626d35f69dlevel0_row156\" class=\"row_heading level0 row156\" >156</th>\n",
       "                        <td id=\"T_9b19ee34_6e03_11ea_9e91_6c626d35f69drow156_col0\" class=\"data row156 col0\" >Nepal</td>\n",
       "                        <td id=\"T_9b19ee34_6e03_11ea_9e91_6c626d35f69drow156_col1\" class=\"data row156 col1\" >2</td>\n",
       "                        <td id=\"T_9b19ee34_6e03_11ea_9e91_6c626d35f69drow156_col2\" class=\"data row156 col2\" >0</td>\n",
       "                        <td id=\"T_9b19ee34_6e03_11ea_9e91_6c626d35f69drow156_col3\" class=\"data row156 col3\" >1</td>\n",
       "                        <td id=\"T_9b19ee34_6e03_11ea_9e91_6c626d35f69drow156_col4\" class=\"data row156 col4\" >1</td>\n",
       "            </tr>\n",
       "            <tr>\n",
       "                        <th id=\"T_9b19ee34_6e03_11ea_9e91_6c626d35f69dlevel0_row157\" class=\"row_heading level0 row157\" >157</th>\n",
       "                        <td id=\"T_9b19ee34_6e03_11ea_9e91_6c626d35f69drow157_col0\" class=\"data row157 col0\" >Saint Vincent and the Grenadines</td>\n",
       "                        <td id=\"T_9b19ee34_6e03_11ea_9e91_6c626d35f69drow157_col1\" class=\"data row157 col1\" >1</td>\n",
       "                        <td id=\"T_9b19ee34_6e03_11ea_9e91_6c626d35f69drow157_col2\" class=\"data row157 col2\" >0</td>\n",
       "                        <td id=\"T_9b19ee34_6e03_11ea_9e91_6c626d35f69drow157_col3\" class=\"data row157 col3\" >0</td>\n",
       "                        <td id=\"T_9b19ee34_6e03_11ea_9e91_6c626d35f69drow157_col4\" class=\"data row157 col4\" >1</td>\n",
       "            </tr>\n",
       "            <tr>\n",
       "                        <th id=\"T_9b19ee34_6e03_11ea_9e91_6c626d35f69dlevel0_row158\" class=\"row_heading level0 row158\" >158</th>\n",
       "                        <td id=\"T_9b19ee34_6e03_11ea_9e91_6c626d35f69drow158_col0\" class=\"data row158 col0\" >Somalia</td>\n",
       "                        <td id=\"T_9b19ee34_6e03_11ea_9e91_6c626d35f69drow158_col1\" class=\"data row158 col1\" >1</td>\n",
       "                        <td id=\"T_9b19ee34_6e03_11ea_9e91_6c626d35f69drow158_col2\" class=\"data row158 col2\" >0</td>\n",
       "                        <td id=\"T_9b19ee34_6e03_11ea_9e91_6c626d35f69drow158_col3\" class=\"data row158 col3\" >0</td>\n",
       "                        <td id=\"T_9b19ee34_6e03_11ea_9e91_6c626d35f69drow158_col4\" class=\"data row158 col4\" >1</td>\n",
       "            </tr>\n",
       "            <tr>\n",
       "                        <th id=\"T_9b19ee34_6e03_11ea_9e91_6c626d35f69dlevel0_row159\" class=\"row_heading level0 row159\" >159</th>\n",
       "                        <td id=\"T_9b19ee34_6e03_11ea_9e91_6c626d35f69drow159_col0\" class=\"data row159 col0\" >Mozambique</td>\n",
       "                        <td id=\"T_9b19ee34_6e03_11ea_9e91_6c626d35f69drow159_col1\" class=\"data row159 col1\" >1</td>\n",
       "                        <td id=\"T_9b19ee34_6e03_11ea_9e91_6c626d35f69drow159_col2\" class=\"data row159 col2\" >0</td>\n",
       "                        <td id=\"T_9b19ee34_6e03_11ea_9e91_6c626d35f69drow159_col3\" class=\"data row159 col3\" >0</td>\n",
       "                        <td id=\"T_9b19ee34_6e03_11ea_9e91_6c626d35f69drow159_col4\" class=\"data row159 col4\" >1</td>\n",
       "            </tr>\n",
       "            <tr>\n",
       "                        <th id=\"T_9b19ee34_6e03_11ea_9e91_6c626d35f69dlevel0_row160\" class=\"row_heading level0 row160\" >160</th>\n",
       "                        <td id=\"T_9b19ee34_6e03_11ea_9e91_6c626d35f69drow160_col0\" class=\"data row160 col0\" >Grenada</td>\n",
       "                        <td id=\"T_9b19ee34_6e03_11ea_9e91_6c626d35f69drow160_col1\" class=\"data row160 col1\" >1</td>\n",
       "                        <td id=\"T_9b19ee34_6e03_11ea_9e91_6c626d35f69drow160_col2\" class=\"data row160 col2\" >0</td>\n",
       "                        <td id=\"T_9b19ee34_6e03_11ea_9e91_6c626d35f69drow160_col3\" class=\"data row160 col3\" >0</td>\n",
       "                        <td id=\"T_9b19ee34_6e03_11ea_9e91_6c626d35f69drow160_col4\" class=\"data row160 col4\" >1</td>\n",
       "            </tr>\n",
       "            <tr>\n",
       "                        <th id=\"T_9b19ee34_6e03_11ea_9e91_6c626d35f69dlevel0_row161\" class=\"row_heading level0 row161\" >161</th>\n",
       "                        <td id=\"T_9b19ee34_6e03_11ea_9e91_6c626d35f69drow161_col0\" class=\"data row161 col0\" >Belize</td>\n",
       "                        <td id=\"T_9b19ee34_6e03_11ea_9e91_6c626d35f69drow161_col1\" class=\"data row161 col1\" >1</td>\n",
       "                        <td id=\"T_9b19ee34_6e03_11ea_9e91_6c626d35f69drow161_col2\" class=\"data row161 col2\" >0</td>\n",
       "                        <td id=\"T_9b19ee34_6e03_11ea_9e91_6c626d35f69drow161_col3\" class=\"data row161 col3\" >0</td>\n",
       "                        <td id=\"T_9b19ee34_6e03_11ea_9e91_6c626d35f69drow161_col4\" class=\"data row161 col4\" >1</td>\n",
       "            </tr>\n",
       "            <tr>\n",
       "                        <th id=\"T_9b19ee34_6e03_11ea_9e91_6c626d35f69dlevel0_row162\" class=\"row_heading level0 row162\" >162</th>\n",
       "                        <td id=\"T_9b19ee34_6e03_11ea_9e91_6c626d35f69drow162_col0\" class=\"data row162 col0\" >Syria</td>\n",
       "                        <td id=\"T_9b19ee34_6e03_11ea_9e91_6c626d35f69drow162_col1\" class=\"data row162 col1\" >1</td>\n",
       "                        <td id=\"T_9b19ee34_6e03_11ea_9e91_6c626d35f69drow162_col2\" class=\"data row162 col2\" >0</td>\n",
       "                        <td id=\"T_9b19ee34_6e03_11ea_9e91_6c626d35f69drow162_col3\" class=\"data row162 col3\" >0</td>\n",
       "                        <td id=\"T_9b19ee34_6e03_11ea_9e91_6c626d35f69drow162_col4\" class=\"data row162 col4\" >1</td>\n",
       "            </tr>\n",
       "            <tr>\n",
       "                        <th id=\"T_9b19ee34_6e03_11ea_9e91_6c626d35f69dlevel0_row163\" class=\"row_heading level0 row163\" >163</th>\n",
       "                        <td id=\"T_9b19ee34_6e03_11ea_9e91_6c626d35f69drow163_col0\" class=\"data row163 col0\" >Eritrea</td>\n",
       "                        <td id=\"T_9b19ee34_6e03_11ea_9e91_6c626d35f69drow163_col1\" class=\"data row163 col1\" >1</td>\n",
       "                        <td id=\"T_9b19ee34_6e03_11ea_9e91_6c626d35f69drow163_col2\" class=\"data row163 col2\" >0</td>\n",
       "                        <td id=\"T_9b19ee34_6e03_11ea_9e91_6c626d35f69drow163_col3\" class=\"data row163 col3\" >0</td>\n",
       "                        <td id=\"T_9b19ee34_6e03_11ea_9e91_6c626d35f69drow163_col4\" class=\"data row163 col4\" >1</td>\n",
       "            </tr>\n",
       "            <tr>\n",
       "                        <th id=\"T_9b19ee34_6e03_11ea_9e91_6c626d35f69dlevel0_row164\" class=\"row_heading level0 row164\" >164</th>\n",
       "                        <td id=\"T_9b19ee34_6e03_11ea_9e91_6c626d35f69drow164_col0\" class=\"data row164 col0\" >Chad</td>\n",
       "                        <td id=\"T_9b19ee34_6e03_11ea_9e91_6c626d35f69drow164_col1\" class=\"data row164 col1\" >1</td>\n",
       "                        <td id=\"T_9b19ee34_6e03_11ea_9e91_6c626d35f69drow164_col2\" class=\"data row164 col2\" >0</td>\n",
       "                        <td id=\"T_9b19ee34_6e03_11ea_9e91_6c626d35f69drow164_col3\" class=\"data row164 col3\" >0</td>\n",
       "                        <td id=\"T_9b19ee34_6e03_11ea_9e91_6c626d35f69drow164_col4\" class=\"data row164 col4\" >1</td>\n",
       "            </tr>\n",
       "            <tr>\n",
       "                        <th id=\"T_9b19ee34_6e03_11ea_9e91_6c626d35f69dlevel0_row165\" class=\"row_heading level0 row165\" >165</th>\n",
       "                        <td id=\"T_9b19ee34_6e03_11ea_9e91_6c626d35f69drow165_col0\" class=\"data row165 col0\" >Holy See</td>\n",
       "                        <td id=\"T_9b19ee34_6e03_11ea_9e91_6c626d35f69drow165_col1\" class=\"data row165 col1\" >1</td>\n",
       "                        <td id=\"T_9b19ee34_6e03_11ea_9e91_6c626d35f69drow165_col2\" class=\"data row165 col2\" >0</td>\n",
       "                        <td id=\"T_9b19ee34_6e03_11ea_9e91_6c626d35f69drow165_col3\" class=\"data row165 col3\" >0</td>\n",
       "                        <td id=\"T_9b19ee34_6e03_11ea_9e91_6c626d35f69drow165_col4\" class=\"data row165 col4\" >1</td>\n",
       "            </tr>\n",
       "            <tr>\n",
       "                        <th id=\"T_9b19ee34_6e03_11ea_9e91_6c626d35f69dlevel0_row166\" class=\"row_heading level0 row166\" >166</th>\n",
       "                        <td id=\"T_9b19ee34_6e03_11ea_9e91_6c626d35f69drow166_col0\" class=\"data row166 col0\" >Papua New Guinea</td>\n",
       "                        <td id=\"T_9b19ee34_6e03_11ea_9e91_6c626d35f69drow166_col1\" class=\"data row166 col1\" >1</td>\n",
       "                        <td id=\"T_9b19ee34_6e03_11ea_9e91_6c626d35f69drow166_col2\" class=\"data row166 col2\" >0</td>\n",
       "                        <td id=\"T_9b19ee34_6e03_11ea_9e91_6c626d35f69drow166_col3\" class=\"data row166 col3\" >0</td>\n",
       "                        <td id=\"T_9b19ee34_6e03_11ea_9e91_6c626d35f69drow166_col4\" class=\"data row166 col4\" >1</td>\n",
       "            </tr>\n",
       "            <tr>\n",
       "                        <th id=\"T_9b19ee34_6e03_11ea_9e91_6c626d35f69dlevel0_row167\" class=\"row_heading level0 row167\" >167</th>\n",
       "                        <td id=\"T_9b19ee34_6e03_11ea_9e91_6c626d35f69drow167_col0\" class=\"data row167 col0\" >Timor-Leste</td>\n",
       "                        <td id=\"T_9b19ee34_6e03_11ea_9e91_6c626d35f69drow167_col1\" class=\"data row167 col1\" >1</td>\n",
       "                        <td id=\"T_9b19ee34_6e03_11ea_9e91_6c626d35f69drow167_col2\" class=\"data row167 col2\" >0</td>\n",
       "                        <td id=\"T_9b19ee34_6e03_11ea_9e91_6c626d35f69drow167_col3\" class=\"data row167 col3\" >0</td>\n",
       "                        <td id=\"T_9b19ee34_6e03_11ea_9e91_6c626d35f69drow167_col4\" class=\"data row167 col4\" >1</td>\n",
       "            </tr>\n",
       "    </tbody></table>"
      ],
      "text/plain": [
       "<pandas.io.formats.style.Styler at 0x1dc957e4e08>"
      ]
     },
     "execution_count": 10,
     "metadata": {},
     "output_type": "execute_result"
    }
   ],
   "source": [
    "classement = globalAll.sort_values(by='Confirmed', ascending=False)\n",
    "classement = classement.reset_index(drop=False)\n",
    "classement.style.background_gradient(cmap='Reds')"
   ]
  },
  {
   "cell_type": "markdown",
   "metadata": {},
   "source": [
    "## Nombre de pays contaminé au virus au cours du temps\n"
   ]
  },
  {
   "cell_type": "markdown",
   "metadata": {},
   "source": [
    "###### Code"
   ]
  },
  {
   "cell_type": "markdown",
   "metadata": {},
   "source": [
    "## Top 10 pays\n"
   ]
  },
  {
   "cell_type": "code",
   "execution_count": 11,
   "metadata": {},
   "outputs": [
    {
     "data": {
      "text/html": [
       "<div class=\"flourish-embed flourish-bar-chart-race\" data-src=\"visualisation/1619129\"><script src=\"https://public.flourish.studio/resources/embed.js\"></script></div>"
      ],
      "text/plain": [
       "<IPython.core.display.HTML object>"
      ]
     },
     "metadata": {},
     "output_type": "display_data"
    }
   ],
   "source": [
    "display(HTML('<div class=\"flourish-embed flourish-bar-chart-race\" data-src=\"visualisation/1619129\"><script src=\"https://public.flourish.studio/resources/embed.js\"></script></div>'))"
   ]
  },
  {
   "cell_type": "markdown",
   "metadata": {},
   "source": [
    "### Décédés"
   ]
  },
  {
   "cell_type": "code",
   "execution_count": 13,
   "metadata": {},
   "outputs": [
    {
     "data": {
      "application/vnd.plotly.v1+json": {
       "config": {
        "linkText": "Export to plot.ly",
        "plotlyServerURL": "https://plot.ly",
        "showLink": false
       },
       "data": [
        {
         "alignmentgroup": "True",
         "hoverlabel": {
          "namelength": 0
         },
         "hovertemplate": "Deaths=%{text}<br>Country_Region=%{y}",
         "legendgroup": "",
         "marker": {
          "color": "#ff2e63"
         },
         "name": "",
         "offsetgroup": "",
         "opacity": 0.6,
         "orientation": "h",
         "showlegend": false,
         "text": [
          120,
          123,
          214,
          336,
          552,
          862,
          1812,
          2311,
          3274,
          6077
         ],
         "textposition": "outside",
         "type": "bar",
         "x": [
          120,
          123,
          214,
          336,
          552,
          862,
          1812,
          2311,
          3274,
          6077
         ],
         "xaxis": "x",
         "y": [
          "Switzerland",
          "Germany",
          "Netherlands",
          "United Kingdom",
          "US",
          "France",
          "Iran",
          "Spain",
          "China",
          "Italy"
         ],
         "yaxis": "y"
        }
       ],
       "layout": {
        "barmode": "relative",
        "height": 500,
        "legend": {
         "tracegroupgap": 0
        },
        "margin": {
         "t": 60
        },
        "template": {
         "data": {
          "bar": [
           {
            "error_x": {
             "color": "#2a3f5f"
            },
            "error_y": {
             "color": "#2a3f5f"
            },
            "marker": {
             "line": {
              "color": "#E5ECF6",
              "width": 0.5
             }
            },
            "type": "bar"
           }
          ],
          "barpolar": [
           {
            "marker": {
             "line": {
              "color": "#E5ECF6",
              "width": 0.5
             }
            },
            "type": "barpolar"
           }
          ],
          "carpet": [
           {
            "aaxis": {
             "endlinecolor": "#2a3f5f",
             "gridcolor": "white",
             "linecolor": "white",
             "minorgridcolor": "white",
             "startlinecolor": "#2a3f5f"
            },
            "baxis": {
             "endlinecolor": "#2a3f5f",
             "gridcolor": "white",
             "linecolor": "white",
             "minorgridcolor": "white",
             "startlinecolor": "#2a3f5f"
            },
            "type": "carpet"
           }
          ],
          "choropleth": [
           {
            "colorbar": {
             "outlinewidth": 0,
             "ticks": ""
            },
            "type": "choropleth"
           }
          ],
          "contour": [
           {
            "colorbar": {
             "outlinewidth": 0,
             "ticks": ""
            },
            "colorscale": [
             [
              0,
              "#0d0887"
             ],
             [
              0.1111111111111111,
              "#46039f"
             ],
             [
              0.2222222222222222,
              "#7201a8"
             ],
             [
              0.3333333333333333,
              "#9c179e"
             ],
             [
              0.4444444444444444,
              "#bd3786"
             ],
             [
              0.5555555555555556,
              "#d8576b"
             ],
             [
              0.6666666666666666,
              "#ed7953"
             ],
             [
              0.7777777777777778,
              "#fb9f3a"
             ],
             [
              0.8888888888888888,
              "#fdca26"
             ],
             [
              1,
              "#f0f921"
             ]
            ],
            "type": "contour"
           }
          ],
          "contourcarpet": [
           {
            "colorbar": {
             "outlinewidth": 0,
             "ticks": ""
            },
            "type": "contourcarpet"
           }
          ],
          "heatmap": [
           {
            "colorbar": {
             "outlinewidth": 0,
             "ticks": ""
            },
            "colorscale": [
             [
              0,
              "#0d0887"
             ],
             [
              0.1111111111111111,
              "#46039f"
             ],
             [
              0.2222222222222222,
              "#7201a8"
             ],
             [
              0.3333333333333333,
              "#9c179e"
             ],
             [
              0.4444444444444444,
              "#bd3786"
             ],
             [
              0.5555555555555556,
              "#d8576b"
             ],
             [
              0.6666666666666666,
              "#ed7953"
             ],
             [
              0.7777777777777778,
              "#fb9f3a"
             ],
             [
              0.8888888888888888,
              "#fdca26"
             ],
             [
              1,
              "#f0f921"
             ]
            ],
            "type": "heatmap"
           }
          ],
          "heatmapgl": [
           {
            "colorbar": {
             "outlinewidth": 0,
             "ticks": ""
            },
            "colorscale": [
             [
              0,
              "#0d0887"
             ],
             [
              0.1111111111111111,
              "#46039f"
             ],
             [
              0.2222222222222222,
              "#7201a8"
             ],
             [
              0.3333333333333333,
              "#9c179e"
             ],
             [
              0.4444444444444444,
              "#bd3786"
             ],
             [
              0.5555555555555556,
              "#d8576b"
             ],
             [
              0.6666666666666666,
              "#ed7953"
             ],
             [
              0.7777777777777778,
              "#fb9f3a"
             ],
             [
              0.8888888888888888,
              "#fdca26"
             ],
             [
              1,
              "#f0f921"
             ]
            ],
            "type": "heatmapgl"
           }
          ],
          "histogram": [
           {
            "marker": {
             "colorbar": {
              "outlinewidth": 0,
              "ticks": ""
             }
            },
            "type": "histogram"
           }
          ],
          "histogram2d": [
           {
            "colorbar": {
             "outlinewidth": 0,
             "ticks": ""
            },
            "colorscale": [
             [
              0,
              "#0d0887"
             ],
             [
              0.1111111111111111,
              "#46039f"
             ],
             [
              0.2222222222222222,
              "#7201a8"
             ],
             [
              0.3333333333333333,
              "#9c179e"
             ],
             [
              0.4444444444444444,
              "#bd3786"
             ],
             [
              0.5555555555555556,
              "#d8576b"
             ],
             [
              0.6666666666666666,
              "#ed7953"
             ],
             [
              0.7777777777777778,
              "#fb9f3a"
             ],
             [
              0.8888888888888888,
              "#fdca26"
             ],
             [
              1,
              "#f0f921"
             ]
            ],
            "type": "histogram2d"
           }
          ],
          "histogram2dcontour": [
           {
            "colorbar": {
             "outlinewidth": 0,
             "ticks": ""
            },
            "colorscale": [
             [
              0,
              "#0d0887"
             ],
             [
              0.1111111111111111,
              "#46039f"
             ],
             [
              0.2222222222222222,
              "#7201a8"
             ],
             [
              0.3333333333333333,
              "#9c179e"
             ],
             [
              0.4444444444444444,
              "#bd3786"
             ],
             [
              0.5555555555555556,
              "#d8576b"
             ],
             [
              0.6666666666666666,
              "#ed7953"
             ],
             [
              0.7777777777777778,
              "#fb9f3a"
             ],
             [
              0.8888888888888888,
              "#fdca26"
             ],
             [
              1,
              "#f0f921"
             ]
            ],
            "type": "histogram2dcontour"
           }
          ],
          "mesh3d": [
           {
            "colorbar": {
             "outlinewidth": 0,
             "ticks": ""
            },
            "type": "mesh3d"
           }
          ],
          "parcoords": [
           {
            "line": {
             "colorbar": {
              "outlinewidth": 0,
              "ticks": ""
             }
            },
            "type": "parcoords"
           }
          ],
          "pie": [
           {
            "automargin": true,
            "type": "pie"
           }
          ],
          "scatter": [
           {
            "marker": {
             "colorbar": {
              "outlinewidth": 0,
              "ticks": ""
             }
            },
            "type": "scatter"
           }
          ],
          "scatter3d": [
           {
            "line": {
             "colorbar": {
              "outlinewidth": 0,
              "ticks": ""
             }
            },
            "marker": {
             "colorbar": {
              "outlinewidth": 0,
              "ticks": ""
             }
            },
            "type": "scatter3d"
           }
          ],
          "scattercarpet": [
           {
            "marker": {
             "colorbar": {
              "outlinewidth": 0,
              "ticks": ""
             }
            },
            "type": "scattercarpet"
           }
          ],
          "scattergeo": [
           {
            "marker": {
             "colorbar": {
              "outlinewidth": 0,
              "ticks": ""
             }
            },
            "type": "scattergeo"
           }
          ],
          "scattergl": [
           {
            "marker": {
             "colorbar": {
              "outlinewidth": 0,
              "ticks": ""
             }
            },
            "type": "scattergl"
           }
          ],
          "scattermapbox": [
           {
            "marker": {
             "colorbar": {
              "outlinewidth": 0,
              "ticks": ""
             }
            },
            "type": "scattermapbox"
           }
          ],
          "scatterpolar": [
           {
            "marker": {
             "colorbar": {
              "outlinewidth": 0,
              "ticks": ""
             }
            },
            "type": "scatterpolar"
           }
          ],
          "scatterpolargl": [
           {
            "marker": {
             "colorbar": {
              "outlinewidth": 0,
              "ticks": ""
             }
            },
            "type": "scatterpolargl"
           }
          ],
          "scatterternary": [
           {
            "marker": {
             "colorbar": {
              "outlinewidth": 0,
              "ticks": ""
             }
            },
            "type": "scatterternary"
           }
          ],
          "surface": [
           {
            "colorbar": {
             "outlinewidth": 0,
             "ticks": ""
            },
            "colorscale": [
             [
              0,
              "#0d0887"
             ],
             [
              0.1111111111111111,
              "#46039f"
             ],
             [
              0.2222222222222222,
              "#7201a8"
             ],
             [
              0.3333333333333333,
              "#9c179e"
             ],
             [
              0.4444444444444444,
              "#bd3786"
             ],
             [
              0.5555555555555556,
              "#d8576b"
             ],
             [
              0.6666666666666666,
              "#ed7953"
             ],
             [
              0.7777777777777778,
              "#fb9f3a"
             ],
             [
              0.8888888888888888,
              "#fdca26"
             ],
             [
              1,
              "#f0f921"
             ]
            ],
            "type": "surface"
           }
          ],
          "table": [
           {
            "cells": {
             "fill": {
              "color": "#EBF0F8"
             },
             "line": {
              "color": "white"
             }
            },
            "header": {
             "fill": {
              "color": "#C8D4E3"
             },
             "line": {
              "color": "white"
             }
            },
            "type": "table"
           }
          ]
         },
         "layout": {
          "annotationdefaults": {
           "arrowcolor": "#2a3f5f",
           "arrowhead": 0,
           "arrowwidth": 1
          },
          "coloraxis": {
           "colorbar": {
            "outlinewidth": 0,
            "ticks": ""
           }
          },
          "colorscale": {
           "diverging": [
            [
             0,
             "#8e0152"
            ],
            [
             0.1,
             "#c51b7d"
            ],
            [
             0.2,
             "#de77ae"
            ],
            [
             0.3,
             "#f1b6da"
            ],
            [
             0.4,
             "#fde0ef"
            ],
            [
             0.5,
             "#f7f7f7"
            ],
            [
             0.6,
             "#e6f5d0"
            ],
            [
             0.7,
             "#b8e186"
            ],
            [
             0.8,
             "#7fbc41"
            ],
            [
             0.9,
             "#4d9221"
            ],
            [
             1,
             "#276419"
            ]
           ],
           "sequential": [
            [
             0,
             "#0d0887"
            ],
            [
             0.1111111111111111,
             "#46039f"
            ],
            [
             0.2222222222222222,
             "#7201a8"
            ],
            [
             0.3333333333333333,
             "#9c179e"
            ],
            [
             0.4444444444444444,
             "#bd3786"
            ],
            [
             0.5555555555555556,
             "#d8576b"
            ],
            [
             0.6666666666666666,
             "#ed7953"
            ],
            [
             0.7777777777777778,
             "#fb9f3a"
            ],
            [
             0.8888888888888888,
             "#fdca26"
            ],
            [
             1,
             "#f0f921"
            ]
           ],
           "sequentialminus": [
            [
             0,
             "#0d0887"
            ],
            [
             0.1111111111111111,
             "#46039f"
            ],
            [
             0.2222222222222222,
             "#7201a8"
            ],
            [
             0.3333333333333333,
             "#9c179e"
            ],
            [
             0.4444444444444444,
             "#bd3786"
            ],
            [
             0.5555555555555556,
             "#d8576b"
            ],
            [
             0.6666666666666666,
             "#ed7953"
            ],
            [
             0.7777777777777778,
             "#fb9f3a"
            ],
            [
             0.8888888888888888,
             "#fdca26"
            ],
            [
             1,
             "#f0f921"
            ]
           ]
          },
          "colorway": [
           "#636efa",
           "#EF553B",
           "#00cc96",
           "#ab63fa",
           "#FFA15A",
           "#19d3f3",
           "#FF6692",
           "#B6E880",
           "#FF97FF",
           "#FECB52"
          ],
          "font": {
           "color": "#2a3f5f"
          },
          "geo": {
           "bgcolor": "white",
           "lakecolor": "white",
           "landcolor": "#E5ECF6",
           "showlakes": true,
           "showland": true,
           "subunitcolor": "white"
          },
          "hoverlabel": {
           "align": "left"
          },
          "hovermode": "closest",
          "mapbox": {
           "style": "light"
          },
          "paper_bgcolor": "white",
          "plot_bgcolor": "#E5ECF6",
          "polar": {
           "angularaxis": {
            "gridcolor": "white",
            "linecolor": "white",
            "ticks": ""
           },
           "bgcolor": "#E5ECF6",
           "radialaxis": {
            "gridcolor": "white",
            "linecolor": "white",
            "ticks": ""
           }
          },
          "scene": {
           "xaxis": {
            "backgroundcolor": "#E5ECF6",
            "gridcolor": "white",
            "gridwidth": 2,
            "linecolor": "white",
            "showbackground": true,
            "ticks": "",
            "zerolinecolor": "white"
           },
           "yaxis": {
            "backgroundcolor": "#E5ECF6",
            "gridcolor": "white",
            "gridwidth": 2,
            "linecolor": "white",
            "showbackground": true,
            "ticks": "",
            "zerolinecolor": "white"
           },
           "zaxis": {
            "backgroundcolor": "#E5ECF6",
            "gridcolor": "white",
            "gridwidth": 2,
            "linecolor": "white",
            "showbackground": true,
            "ticks": "",
            "zerolinecolor": "white"
           }
          },
          "shapedefaults": {
           "line": {
            "color": "#2a3f5f"
           }
          },
          "ternary": {
           "aaxis": {
            "gridcolor": "white",
            "linecolor": "white",
            "ticks": ""
           },
           "baxis": {
            "gridcolor": "white",
            "linecolor": "white",
            "ticks": ""
           },
           "bgcolor": "#E5ECF6",
           "caxis": {
            "gridcolor": "white",
            "linecolor": "white",
            "ticks": ""
           }
          },
          "title": {
           "x": 0.05
          },
          "xaxis": {
           "automargin": true,
           "gridcolor": "white",
           "linecolor": "white",
           "ticks": "",
           "title": {
            "standoff": 15
           },
           "zerolinecolor": "white",
           "zerolinewidth": 2
          },
          "yaxis": {
           "automargin": true,
           "gridcolor": "white",
           "linecolor": "white",
           "ticks": "",
           "title": {
            "standoff": 15
           },
           "zerolinecolor": "white",
           "zerolinewidth": 2
          }
         }
        },
        "width": 800,
        "xaxis": {
         "anchor": "y",
         "domain": [
          0,
          1
         ],
         "range": [
          0,
          6577
         ],
         "title": {
          "text": "Deaths"
         }
        },
        "yaxis": {
         "anchor": "x",
         "domain": [
          0,
          1
         ],
         "title": {
          "text": "Country_Region"
         }
        }
       }
      },
      "text/html": [
       "<div>\n",
       "        \n",
       "        \n",
       "            <div id=\"b9c6a83b-72e3-4ed7-9723-8a236c589700\" class=\"plotly-graph-div\" style=\"height:500px; width:800px;\"></div>\n",
       "            <script type=\"text/javascript\">\n",
       "                require([\"plotly\"], function(Plotly) {\n",
       "                    window.PLOTLYENV=window.PLOTLYENV || {};\n",
       "                    \n",
       "                if (document.getElementById(\"b9c6a83b-72e3-4ed7-9723-8a236c589700\")) {\n",
       "                    Plotly.newPlot(\n",
       "                        'b9c6a83b-72e3-4ed7-9723-8a236c589700',\n",
       "                        [{\"alignmentgroup\": \"True\", \"hoverlabel\": {\"namelength\": 0}, \"hovertemplate\": \"Deaths=%{text}<br>Country_Region=%{y}\", \"legendgroup\": \"\", \"marker\": {\"color\": \"#ff2e63\"}, \"name\": \"\", \"offsetgroup\": \"\", \"opacity\": 0.6, \"orientation\": \"h\", \"showlegend\": false, \"text\": [120.0, 123.0, 214.0, 336.0, 552.0, 862.0, 1812.0, 2311.0, 3274.0, 6077.0], \"textposition\": \"outside\", \"type\": \"bar\", \"x\": [120, 123, 214, 336, 552, 862, 1812, 2311, 3274, 6077], \"xaxis\": \"x\", \"y\": [\"Switzerland\", \"Germany\", \"Netherlands\", \"United Kingdom\", \"US\", \"France\", \"Iran\", \"Spain\", \"China\", \"Italy\"], \"yaxis\": \"y\"}],\n",
       "                        {\"barmode\": \"relative\", \"height\": 500, \"legend\": {\"tracegroupgap\": 0}, \"margin\": {\"t\": 60}, \"template\": {\"data\": {\"bar\": [{\"error_x\": {\"color\": \"#2a3f5f\"}, \"error_y\": {\"color\": \"#2a3f5f\"}, \"marker\": {\"line\": {\"color\": \"#E5ECF6\", \"width\": 0.5}}, \"type\": \"bar\"}], \"barpolar\": [{\"marker\": {\"line\": {\"color\": \"#E5ECF6\", \"width\": 0.5}}, \"type\": \"barpolar\"}], \"carpet\": [{\"aaxis\": {\"endlinecolor\": \"#2a3f5f\", \"gridcolor\": \"white\", \"linecolor\": \"white\", \"minorgridcolor\": \"white\", \"startlinecolor\": \"#2a3f5f\"}, \"baxis\": {\"endlinecolor\": \"#2a3f5f\", \"gridcolor\": \"white\", \"linecolor\": \"white\", \"minorgridcolor\": \"white\", \"startlinecolor\": \"#2a3f5f\"}, \"type\": \"carpet\"}], \"choropleth\": [{\"colorbar\": {\"outlinewidth\": 0, \"ticks\": \"\"}, \"type\": \"choropleth\"}], \"contour\": [{\"colorbar\": {\"outlinewidth\": 0, \"ticks\": \"\"}, \"colorscale\": [[0.0, \"#0d0887\"], [0.1111111111111111, \"#46039f\"], [0.2222222222222222, \"#7201a8\"], [0.3333333333333333, \"#9c179e\"], [0.4444444444444444, \"#bd3786\"], [0.5555555555555556, \"#d8576b\"], [0.6666666666666666, \"#ed7953\"], [0.7777777777777778, \"#fb9f3a\"], [0.8888888888888888, \"#fdca26\"], [1.0, \"#f0f921\"]], \"type\": \"contour\"}], \"contourcarpet\": [{\"colorbar\": {\"outlinewidth\": 0, \"ticks\": \"\"}, \"type\": \"contourcarpet\"}], \"heatmap\": [{\"colorbar\": {\"outlinewidth\": 0, \"ticks\": \"\"}, \"colorscale\": [[0.0, \"#0d0887\"], [0.1111111111111111, \"#46039f\"], [0.2222222222222222, \"#7201a8\"], [0.3333333333333333, \"#9c179e\"], [0.4444444444444444, \"#bd3786\"], [0.5555555555555556, \"#d8576b\"], [0.6666666666666666, \"#ed7953\"], [0.7777777777777778, \"#fb9f3a\"], [0.8888888888888888, \"#fdca26\"], [1.0, \"#f0f921\"]], \"type\": \"heatmap\"}], \"heatmapgl\": [{\"colorbar\": {\"outlinewidth\": 0, \"ticks\": \"\"}, \"colorscale\": [[0.0, \"#0d0887\"], [0.1111111111111111, \"#46039f\"], [0.2222222222222222, \"#7201a8\"], [0.3333333333333333, \"#9c179e\"], [0.4444444444444444, \"#bd3786\"], [0.5555555555555556, \"#d8576b\"], [0.6666666666666666, \"#ed7953\"], [0.7777777777777778, \"#fb9f3a\"], [0.8888888888888888, \"#fdca26\"], [1.0, \"#f0f921\"]], \"type\": \"heatmapgl\"}], \"histogram\": [{\"marker\": {\"colorbar\": {\"outlinewidth\": 0, \"ticks\": \"\"}}, \"type\": \"histogram\"}], \"histogram2d\": [{\"colorbar\": {\"outlinewidth\": 0, \"ticks\": \"\"}, \"colorscale\": [[0.0, \"#0d0887\"], [0.1111111111111111, \"#46039f\"], [0.2222222222222222, \"#7201a8\"], [0.3333333333333333, \"#9c179e\"], [0.4444444444444444, \"#bd3786\"], [0.5555555555555556, \"#d8576b\"], [0.6666666666666666, \"#ed7953\"], [0.7777777777777778, \"#fb9f3a\"], [0.8888888888888888, \"#fdca26\"], [1.0, \"#f0f921\"]], \"type\": \"histogram2d\"}], \"histogram2dcontour\": [{\"colorbar\": {\"outlinewidth\": 0, \"ticks\": \"\"}, \"colorscale\": [[0.0, \"#0d0887\"], [0.1111111111111111, \"#46039f\"], [0.2222222222222222, \"#7201a8\"], [0.3333333333333333, \"#9c179e\"], [0.4444444444444444, \"#bd3786\"], [0.5555555555555556, \"#d8576b\"], [0.6666666666666666, \"#ed7953\"], [0.7777777777777778, \"#fb9f3a\"], [0.8888888888888888, \"#fdca26\"], [1.0, \"#f0f921\"]], \"type\": \"histogram2dcontour\"}], \"mesh3d\": [{\"colorbar\": {\"outlinewidth\": 0, \"ticks\": \"\"}, \"type\": \"mesh3d\"}], \"parcoords\": [{\"line\": {\"colorbar\": {\"outlinewidth\": 0, \"ticks\": \"\"}}, \"type\": \"parcoords\"}], \"pie\": [{\"automargin\": true, \"type\": \"pie\"}], \"scatter\": [{\"marker\": {\"colorbar\": {\"outlinewidth\": 0, \"ticks\": \"\"}}, \"type\": \"scatter\"}], \"scatter3d\": [{\"line\": {\"colorbar\": {\"outlinewidth\": 0, \"ticks\": \"\"}}, \"marker\": {\"colorbar\": {\"outlinewidth\": 0, \"ticks\": \"\"}}, \"type\": \"scatter3d\"}], \"scattercarpet\": [{\"marker\": {\"colorbar\": {\"outlinewidth\": 0, \"ticks\": \"\"}}, \"type\": \"scattercarpet\"}], \"scattergeo\": [{\"marker\": {\"colorbar\": {\"outlinewidth\": 0, \"ticks\": \"\"}}, \"type\": \"scattergeo\"}], \"scattergl\": [{\"marker\": {\"colorbar\": {\"outlinewidth\": 0, \"ticks\": \"\"}}, \"type\": \"scattergl\"}], \"scattermapbox\": [{\"marker\": {\"colorbar\": {\"outlinewidth\": 0, \"ticks\": \"\"}}, \"type\": \"scattermapbox\"}], \"scatterpolar\": [{\"marker\": {\"colorbar\": {\"outlinewidth\": 0, \"ticks\": \"\"}}, \"type\": \"scatterpolar\"}], \"scatterpolargl\": [{\"marker\": {\"colorbar\": {\"outlinewidth\": 0, \"ticks\": \"\"}}, \"type\": \"scatterpolargl\"}], \"scatterternary\": [{\"marker\": {\"colorbar\": {\"outlinewidth\": 0, \"ticks\": \"\"}}, \"type\": \"scatterternary\"}], \"surface\": [{\"colorbar\": {\"outlinewidth\": 0, \"ticks\": \"\"}, \"colorscale\": [[0.0, \"#0d0887\"], [0.1111111111111111, \"#46039f\"], [0.2222222222222222, \"#7201a8\"], [0.3333333333333333, \"#9c179e\"], [0.4444444444444444, \"#bd3786\"], [0.5555555555555556, \"#d8576b\"], [0.6666666666666666, \"#ed7953\"], [0.7777777777777778, \"#fb9f3a\"], [0.8888888888888888, \"#fdca26\"], [1.0, \"#f0f921\"]], \"type\": \"surface\"}], \"table\": [{\"cells\": {\"fill\": {\"color\": \"#EBF0F8\"}, \"line\": {\"color\": \"white\"}}, \"header\": {\"fill\": {\"color\": \"#C8D4E3\"}, \"line\": {\"color\": \"white\"}}, \"type\": \"table\"}]}, \"layout\": {\"annotationdefaults\": {\"arrowcolor\": \"#2a3f5f\", \"arrowhead\": 0, \"arrowwidth\": 1}, \"coloraxis\": {\"colorbar\": {\"outlinewidth\": 0, \"ticks\": \"\"}}, \"colorscale\": {\"diverging\": [[0, \"#8e0152\"], [0.1, \"#c51b7d\"], [0.2, \"#de77ae\"], [0.3, \"#f1b6da\"], [0.4, \"#fde0ef\"], [0.5, \"#f7f7f7\"], [0.6, \"#e6f5d0\"], [0.7, \"#b8e186\"], [0.8, \"#7fbc41\"], [0.9, \"#4d9221\"], [1, \"#276419\"]], \"sequential\": [[0.0, \"#0d0887\"], [0.1111111111111111, \"#46039f\"], [0.2222222222222222, \"#7201a8\"], [0.3333333333333333, \"#9c179e\"], [0.4444444444444444, \"#bd3786\"], [0.5555555555555556, \"#d8576b\"], [0.6666666666666666, \"#ed7953\"], [0.7777777777777778, \"#fb9f3a\"], [0.8888888888888888, \"#fdca26\"], [1.0, \"#f0f921\"]], \"sequentialminus\": [[0.0, \"#0d0887\"], [0.1111111111111111, \"#46039f\"], [0.2222222222222222, \"#7201a8\"], [0.3333333333333333, \"#9c179e\"], [0.4444444444444444, \"#bd3786\"], [0.5555555555555556, \"#d8576b\"], [0.6666666666666666, \"#ed7953\"], [0.7777777777777778, \"#fb9f3a\"], [0.8888888888888888, \"#fdca26\"], [1.0, \"#f0f921\"]]}, \"colorway\": [\"#636efa\", \"#EF553B\", \"#00cc96\", \"#ab63fa\", \"#FFA15A\", \"#19d3f3\", \"#FF6692\", \"#B6E880\", \"#FF97FF\", \"#FECB52\"], \"font\": {\"color\": \"#2a3f5f\"}, \"geo\": {\"bgcolor\": \"white\", \"lakecolor\": \"white\", \"landcolor\": \"#E5ECF6\", \"showlakes\": true, \"showland\": true, \"subunitcolor\": \"white\"}, \"hoverlabel\": {\"align\": \"left\"}, \"hovermode\": \"closest\", \"mapbox\": {\"style\": \"light\"}, \"paper_bgcolor\": \"white\", \"plot_bgcolor\": \"#E5ECF6\", \"polar\": {\"angularaxis\": {\"gridcolor\": \"white\", \"linecolor\": \"white\", \"ticks\": \"\"}, \"bgcolor\": \"#E5ECF6\", \"radialaxis\": {\"gridcolor\": \"white\", \"linecolor\": \"white\", \"ticks\": \"\"}}, \"scene\": {\"xaxis\": {\"backgroundcolor\": \"#E5ECF6\", \"gridcolor\": \"white\", \"gridwidth\": 2, \"linecolor\": \"white\", \"showbackground\": true, \"ticks\": \"\", \"zerolinecolor\": \"white\"}, \"yaxis\": {\"backgroundcolor\": \"#E5ECF6\", \"gridcolor\": \"white\", \"gridwidth\": 2, \"linecolor\": \"white\", \"showbackground\": true, \"ticks\": \"\", \"zerolinecolor\": \"white\"}, \"zaxis\": {\"backgroundcolor\": \"#E5ECF6\", \"gridcolor\": \"white\", \"gridwidth\": 2, \"linecolor\": \"white\", \"showbackground\": true, \"ticks\": \"\", \"zerolinecolor\": \"white\"}}, \"shapedefaults\": {\"line\": {\"color\": \"#2a3f5f\"}}, \"ternary\": {\"aaxis\": {\"gridcolor\": \"white\", \"linecolor\": \"white\", \"ticks\": \"\"}, \"baxis\": {\"gridcolor\": \"white\", \"linecolor\": \"white\", \"ticks\": \"\"}, \"bgcolor\": \"#E5ECF6\", \"caxis\": {\"gridcolor\": \"white\", \"linecolor\": \"white\", \"ticks\": \"\"}}, \"title\": {\"x\": 0.05}, \"xaxis\": {\"automargin\": true, \"gridcolor\": \"white\", \"linecolor\": \"white\", \"ticks\": \"\", \"title\": {\"standoff\": 15}, \"zerolinecolor\": \"white\", \"zerolinewidth\": 2}, \"yaxis\": {\"automargin\": true, \"gridcolor\": \"white\", \"linecolor\": \"white\", \"ticks\": \"\", \"title\": {\"standoff\": 15}, \"zerolinecolor\": \"white\", \"zerolinewidth\": 2}}}, \"width\": 800, \"xaxis\": {\"anchor\": \"y\", \"domain\": [0.0, 1.0], \"range\": [0, 6577], \"title\": {\"text\": \"Deaths\"}}, \"yaxis\": {\"anchor\": \"x\", \"domain\": [0.0, 1.0], \"title\": {\"text\": \"Country_Region\"}}},\n",
       "                        {\"responsive\": true}\n",
       "                    ).then(function(){\n",
       "                            \n",
       "var gd = document.getElementById('b9c6a83b-72e3-4ed7-9723-8a236c589700');\n",
       "var x = new MutationObserver(function (mutations, observer) {{\n",
       "        var display = window.getComputedStyle(gd).display;\n",
       "        if (!display || display === 'none') {{\n",
       "            console.log([gd, 'removed!']);\n",
       "            Plotly.purge(gd);\n",
       "            observer.disconnect();\n",
       "        }}\n",
       "}});\n",
       "\n",
       "// Listen for the removal of the full notebook cells\n",
       "var notebookContainer = gd.closest('#notebook-container');\n",
       "if (notebookContainer) {{\n",
       "    x.observe(notebookContainer, {childList: true});\n",
       "}}\n",
       "\n",
       "// Listen for the clearing of the current output cell\n",
       "var outputEl = gd.closest('.output');\n",
       "if (outputEl) {{\n",
       "    x.observe(outputEl, {childList: true});\n",
       "}}\n",
       "\n",
       "                        })\n",
       "                };\n",
       "                });\n",
       "            </script>\n",
       "        </div>"
      ]
     },
     "metadata": {},
     "output_type": "display_data"
    }
   ],
   "source": [
    "fig = px.bar(classement.sort_values('Deaths', ascending=False).head(10).sort_values('Deaths', ascending=True), \n",
    "             x=\"Deaths\", y=\"Country_Region\", text='Deaths', orientation='h', \n",
    "             width=800, height=500, range_x = [0, max(classement['Deaths'])+500])\n",
    "fig.update_traces(marker_color=colorRed, opacity=0.6, textposition='outside')\n",
    "iplot(fig)\n"
   ]
  },
  {
   "cell_type": "markdown",
   "metadata": {},
   "source": [
    "### Actifs"
   ]
  },
  {
   "cell_type": "code",
   "execution_count": 15,
   "metadata": {},
   "outputs": [
    {
     "data": {
      "application/vnd.plotly.v1+json": {
       "config": {
        "linkText": "Export to plot.ly",
        "plotlyServerURL": "https://plot.ly",
        "showLink": false
       },
       "data": [
        {
         "alignmentgroup": "True",
         "hoverlabel": {
          "namelength": 0
         },
         "hovertemplate": "Active=%{text}<br>Country_Region=%{y}",
         "legendgroup": "",
         "marker": {
          "color": "#393e46"
         },
         "name": "",
         "offsetgroup": "",
         "opacity": 0.6,
         "orientation": "h",
         "showlegend": false,
         "text": [
          5403,
          5684,
          6250,
          8544,
          12861,
          17054,
          28480,
          29470,
          43115,
          50418
         ],
         "textposition": "outside",
         "type": "bar",
         "x": [
          5403,
          5684,
          6250,
          8544,
          12861,
          17054,
          28480,
          29470,
          43115,
          50418
         ],
         "xaxis": "x",
         "y": [
          "China",
          "Korea, South",
          "United Kingdom",
          "Switzerland",
          "Iran",
          "France",
          "Germany",
          "Spain",
          "US",
          "Italy"
         ],
         "yaxis": "y"
        }
       ],
       "layout": {
        "barmode": "relative",
        "height": 500,
        "legend": {
         "tracegroupgap": 0
        },
        "margin": {
         "t": 60
        },
        "template": {
         "data": {
          "bar": [
           {
            "error_x": {
             "color": "#2a3f5f"
            },
            "error_y": {
             "color": "#2a3f5f"
            },
            "marker": {
             "line": {
              "color": "#E5ECF6",
              "width": 0.5
             }
            },
            "type": "bar"
           }
          ],
          "barpolar": [
           {
            "marker": {
             "line": {
              "color": "#E5ECF6",
              "width": 0.5
             }
            },
            "type": "barpolar"
           }
          ],
          "carpet": [
           {
            "aaxis": {
             "endlinecolor": "#2a3f5f",
             "gridcolor": "white",
             "linecolor": "white",
             "minorgridcolor": "white",
             "startlinecolor": "#2a3f5f"
            },
            "baxis": {
             "endlinecolor": "#2a3f5f",
             "gridcolor": "white",
             "linecolor": "white",
             "minorgridcolor": "white",
             "startlinecolor": "#2a3f5f"
            },
            "type": "carpet"
           }
          ],
          "choropleth": [
           {
            "colorbar": {
             "outlinewidth": 0,
             "ticks": ""
            },
            "type": "choropleth"
           }
          ],
          "contour": [
           {
            "colorbar": {
             "outlinewidth": 0,
             "ticks": ""
            },
            "colorscale": [
             [
              0,
              "#0d0887"
             ],
             [
              0.1111111111111111,
              "#46039f"
             ],
             [
              0.2222222222222222,
              "#7201a8"
             ],
             [
              0.3333333333333333,
              "#9c179e"
             ],
             [
              0.4444444444444444,
              "#bd3786"
             ],
             [
              0.5555555555555556,
              "#d8576b"
             ],
             [
              0.6666666666666666,
              "#ed7953"
             ],
             [
              0.7777777777777778,
              "#fb9f3a"
             ],
             [
              0.8888888888888888,
              "#fdca26"
             ],
             [
              1,
              "#f0f921"
             ]
            ],
            "type": "contour"
           }
          ],
          "contourcarpet": [
           {
            "colorbar": {
             "outlinewidth": 0,
             "ticks": ""
            },
            "type": "contourcarpet"
           }
          ],
          "heatmap": [
           {
            "colorbar": {
             "outlinewidth": 0,
             "ticks": ""
            },
            "colorscale": [
             [
              0,
              "#0d0887"
             ],
             [
              0.1111111111111111,
              "#46039f"
             ],
             [
              0.2222222222222222,
              "#7201a8"
             ],
             [
              0.3333333333333333,
              "#9c179e"
             ],
             [
              0.4444444444444444,
              "#bd3786"
             ],
             [
              0.5555555555555556,
              "#d8576b"
             ],
             [
              0.6666666666666666,
              "#ed7953"
             ],
             [
              0.7777777777777778,
              "#fb9f3a"
             ],
             [
              0.8888888888888888,
              "#fdca26"
             ],
             [
              1,
              "#f0f921"
             ]
            ],
            "type": "heatmap"
           }
          ],
          "heatmapgl": [
           {
            "colorbar": {
             "outlinewidth": 0,
             "ticks": ""
            },
            "colorscale": [
             [
              0,
              "#0d0887"
             ],
             [
              0.1111111111111111,
              "#46039f"
             ],
             [
              0.2222222222222222,
              "#7201a8"
             ],
             [
              0.3333333333333333,
              "#9c179e"
             ],
             [
              0.4444444444444444,
              "#bd3786"
             ],
             [
              0.5555555555555556,
              "#d8576b"
             ],
             [
              0.6666666666666666,
              "#ed7953"
             ],
             [
              0.7777777777777778,
              "#fb9f3a"
             ],
             [
              0.8888888888888888,
              "#fdca26"
             ],
             [
              1,
              "#f0f921"
             ]
            ],
            "type": "heatmapgl"
           }
          ],
          "histogram": [
           {
            "marker": {
             "colorbar": {
              "outlinewidth": 0,
              "ticks": ""
             }
            },
            "type": "histogram"
           }
          ],
          "histogram2d": [
           {
            "colorbar": {
             "outlinewidth": 0,
             "ticks": ""
            },
            "colorscale": [
             [
              0,
              "#0d0887"
             ],
             [
              0.1111111111111111,
              "#46039f"
             ],
             [
              0.2222222222222222,
              "#7201a8"
             ],
             [
              0.3333333333333333,
              "#9c179e"
             ],
             [
              0.4444444444444444,
              "#bd3786"
             ],
             [
              0.5555555555555556,
              "#d8576b"
             ],
             [
              0.6666666666666666,
              "#ed7953"
             ],
             [
              0.7777777777777778,
              "#fb9f3a"
             ],
             [
              0.8888888888888888,
              "#fdca26"
             ],
             [
              1,
              "#f0f921"
             ]
            ],
            "type": "histogram2d"
           }
          ],
          "histogram2dcontour": [
           {
            "colorbar": {
             "outlinewidth": 0,
             "ticks": ""
            },
            "colorscale": [
             [
              0,
              "#0d0887"
             ],
             [
              0.1111111111111111,
              "#46039f"
             ],
             [
              0.2222222222222222,
              "#7201a8"
             ],
             [
              0.3333333333333333,
              "#9c179e"
             ],
             [
              0.4444444444444444,
              "#bd3786"
             ],
             [
              0.5555555555555556,
              "#d8576b"
             ],
             [
              0.6666666666666666,
              "#ed7953"
             ],
             [
              0.7777777777777778,
              "#fb9f3a"
             ],
             [
              0.8888888888888888,
              "#fdca26"
             ],
             [
              1,
              "#f0f921"
             ]
            ],
            "type": "histogram2dcontour"
           }
          ],
          "mesh3d": [
           {
            "colorbar": {
             "outlinewidth": 0,
             "ticks": ""
            },
            "type": "mesh3d"
           }
          ],
          "parcoords": [
           {
            "line": {
             "colorbar": {
              "outlinewidth": 0,
              "ticks": ""
             }
            },
            "type": "parcoords"
           }
          ],
          "pie": [
           {
            "automargin": true,
            "type": "pie"
           }
          ],
          "scatter": [
           {
            "marker": {
             "colorbar": {
              "outlinewidth": 0,
              "ticks": ""
             }
            },
            "type": "scatter"
           }
          ],
          "scatter3d": [
           {
            "line": {
             "colorbar": {
              "outlinewidth": 0,
              "ticks": ""
             }
            },
            "marker": {
             "colorbar": {
              "outlinewidth": 0,
              "ticks": ""
             }
            },
            "type": "scatter3d"
           }
          ],
          "scattercarpet": [
           {
            "marker": {
             "colorbar": {
              "outlinewidth": 0,
              "ticks": ""
             }
            },
            "type": "scattercarpet"
           }
          ],
          "scattergeo": [
           {
            "marker": {
             "colorbar": {
              "outlinewidth": 0,
              "ticks": ""
             }
            },
            "type": "scattergeo"
           }
          ],
          "scattergl": [
           {
            "marker": {
             "colorbar": {
              "outlinewidth": 0,
              "ticks": ""
             }
            },
            "type": "scattergl"
           }
          ],
          "scattermapbox": [
           {
            "marker": {
             "colorbar": {
              "outlinewidth": 0,
              "ticks": ""
             }
            },
            "type": "scattermapbox"
           }
          ],
          "scatterpolar": [
           {
            "marker": {
             "colorbar": {
              "outlinewidth": 0,
              "ticks": ""
             }
            },
            "type": "scatterpolar"
           }
          ],
          "scatterpolargl": [
           {
            "marker": {
             "colorbar": {
              "outlinewidth": 0,
              "ticks": ""
             }
            },
            "type": "scatterpolargl"
           }
          ],
          "scatterternary": [
           {
            "marker": {
             "colorbar": {
              "outlinewidth": 0,
              "ticks": ""
             }
            },
            "type": "scatterternary"
           }
          ],
          "surface": [
           {
            "colorbar": {
             "outlinewidth": 0,
             "ticks": ""
            },
            "colorscale": [
             [
              0,
              "#0d0887"
             ],
             [
              0.1111111111111111,
              "#46039f"
             ],
             [
              0.2222222222222222,
              "#7201a8"
             ],
             [
              0.3333333333333333,
              "#9c179e"
             ],
             [
              0.4444444444444444,
              "#bd3786"
             ],
             [
              0.5555555555555556,
              "#d8576b"
             ],
             [
              0.6666666666666666,
              "#ed7953"
             ],
             [
              0.7777777777777778,
              "#fb9f3a"
             ],
             [
              0.8888888888888888,
              "#fdca26"
             ],
             [
              1,
              "#f0f921"
             ]
            ],
            "type": "surface"
           }
          ],
          "table": [
           {
            "cells": {
             "fill": {
              "color": "#EBF0F8"
             },
             "line": {
              "color": "white"
             }
            },
            "header": {
             "fill": {
              "color": "#C8D4E3"
             },
             "line": {
              "color": "white"
             }
            },
            "type": "table"
           }
          ]
         },
         "layout": {
          "annotationdefaults": {
           "arrowcolor": "#2a3f5f",
           "arrowhead": 0,
           "arrowwidth": 1
          },
          "coloraxis": {
           "colorbar": {
            "outlinewidth": 0,
            "ticks": ""
           }
          },
          "colorscale": {
           "diverging": [
            [
             0,
             "#8e0152"
            ],
            [
             0.1,
             "#c51b7d"
            ],
            [
             0.2,
             "#de77ae"
            ],
            [
             0.3,
             "#f1b6da"
            ],
            [
             0.4,
             "#fde0ef"
            ],
            [
             0.5,
             "#f7f7f7"
            ],
            [
             0.6,
             "#e6f5d0"
            ],
            [
             0.7,
             "#b8e186"
            ],
            [
             0.8,
             "#7fbc41"
            ],
            [
             0.9,
             "#4d9221"
            ],
            [
             1,
             "#276419"
            ]
           ],
           "sequential": [
            [
             0,
             "#0d0887"
            ],
            [
             0.1111111111111111,
             "#46039f"
            ],
            [
             0.2222222222222222,
             "#7201a8"
            ],
            [
             0.3333333333333333,
             "#9c179e"
            ],
            [
             0.4444444444444444,
             "#bd3786"
            ],
            [
             0.5555555555555556,
             "#d8576b"
            ],
            [
             0.6666666666666666,
             "#ed7953"
            ],
            [
             0.7777777777777778,
             "#fb9f3a"
            ],
            [
             0.8888888888888888,
             "#fdca26"
            ],
            [
             1,
             "#f0f921"
            ]
           ],
           "sequentialminus": [
            [
             0,
             "#0d0887"
            ],
            [
             0.1111111111111111,
             "#46039f"
            ],
            [
             0.2222222222222222,
             "#7201a8"
            ],
            [
             0.3333333333333333,
             "#9c179e"
            ],
            [
             0.4444444444444444,
             "#bd3786"
            ],
            [
             0.5555555555555556,
             "#d8576b"
            ],
            [
             0.6666666666666666,
             "#ed7953"
            ],
            [
             0.7777777777777778,
             "#fb9f3a"
            ],
            [
             0.8888888888888888,
             "#fdca26"
            ],
            [
             1,
             "#f0f921"
            ]
           ]
          },
          "colorway": [
           "#636efa",
           "#EF553B",
           "#00cc96",
           "#ab63fa",
           "#FFA15A",
           "#19d3f3",
           "#FF6692",
           "#B6E880",
           "#FF97FF",
           "#FECB52"
          ],
          "font": {
           "color": "#2a3f5f"
          },
          "geo": {
           "bgcolor": "white",
           "lakecolor": "white",
           "landcolor": "#E5ECF6",
           "showlakes": true,
           "showland": true,
           "subunitcolor": "white"
          },
          "hoverlabel": {
           "align": "left"
          },
          "hovermode": "closest",
          "mapbox": {
           "style": "light"
          },
          "paper_bgcolor": "white",
          "plot_bgcolor": "#E5ECF6",
          "polar": {
           "angularaxis": {
            "gridcolor": "white",
            "linecolor": "white",
            "ticks": ""
           },
           "bgcolor": "#E5ECF6",
           "radialaxis": {
            "gridcolor": "white",
            "linecolor": "white",
            "ticks": ""
           }
          },
          "scene": {
           "xaxis": {
            "backgroundcolor": "#E5ECF6",
            "gridcolor": "white",
            "gridwidth": 2,
            "linecolor": "white",
            "showbackground": true,
            "ticks": "",
            "zerolinecolor": "white"
           },
           "yaxis": {
            "backgroundcolor": "#E5ECF6",
            "gridcolor": "white",
            "gridwidth": 2,
            "linecolor": "white",
            "showbackground": true,
            "ticks": "",
            "zerolinecolor": "white"
           },
           "zaxis": {
            "backgroundcolor": "#E5ECF6",
            "gridcolor": "white",
            "gridwidth": 2,
            "linecolor": "white",
            "showbackground": true,
            "ticks": "",
            "zerolinecolor": "white"
           }
          },
          "shapedefaults": {
           "line": {
            "color": "#2a3f5f"
           }
          },
          "ternary": {
           "aaxis": {
            "gridcolor": "white",
            "linecolor": "white",
            "ticks": ""
           },
           "baxis": {
            "gridcolor": "white",
            "linecolor": "white",
            "ticks": ""
           },
           "bgcolor": "#E5ECF6",
           "caxis": {
            "gridcolor": "white",
            "linecolor": "white",
            "ticks": ""
           }
          },
          "title": {
           "x": 0.05
          },
          "xaxis": {
           "automargin": true,
           "gridcolor": "white",
           "linecolor": "white",
           "ticks": "",
           "title": {
            "standoff": 15
           },
           "zerolinecolor": "white",
           "zerolinewidth": 2
          },
          "yaxis": {
           "automargin": true,
           "gridcolor": "white",
           "linecolor": "white",
           "ticks": "",
           "title": {
            "standoff": 15
           },
           "zerolinecolor": "white",
           "zerolinewidth": 2
          }
         }
        },
        "width": 800,
        "xaxis": {
         "anchor": "y",
         "domain": [
          0,
          1
         ],
         "range": [
          0,
          55418
         ],
         "title": {
          "text": "Active"
         }
        },
        "yaxis": {
         "anchor": "x",
         "domain": [
          0,
          1
         ],
         "title": {
          "text": "Country_Region"
         }
        }
       }
      },
      "text/html": [
       "<div>\n",
       "        \n",
       "        \n",
       "            <div id=\"7edd40a0-a422-4434-a54e-0e04a0047586\" class=\"plotly-graph-div\" style=\"height:500px; width:800px;\"></div>\n",
       "            <script type=\"text/javascript\">\n",
       "                require([\"plotly\"], function(Plotly) {\n",
       "                    window.PLOTLYENV=window.PLOTLYENV || {};\n",
       "                    \n",
       "                if (document.getElementById(\"7edd40a0-a422-4434-a54e-0e04a0047586\")) {\n",
       "                    Plotly.newPlot(\n",
       "                        '7edd40a0-a422-4434-a54e-0e04a0047586',\n",
       "                        [{\"alignmentgroup\": \"True\", \"hoverlabel\": {\"namelength\": 0}, \"hovertemplate\": \"Active=%{text}<br>Country_Region=%{y}\", \"legendgroup\": \"\", \"marker\": {\"color\": \"#393e46\"}, \"name\": \"\", \"offsetgroup\": \"\", \"opacity\": 0.6, \"orientation\": \"h\", \"showlegend\": false, \"text\": [5403.0, 5684.0, 6250.0, 8544.0, 12861.0, 17054.0, 28480.0, 29470.0, 43115.0, 50418.0], \"textposition\": \"outside\", \"type\": \"bar\", \"x\": [5403, 5684, 6250, 8544, 12861, 17054, 28480, 29470, 43115, 50418], \"xaxis\": \"x\", \"y\": [\"China\", \"Korea, South\", \"United Kingdom\", \"Switzerland\", \"Iran\", \"France\", \"Germany\", \"Spain\", \"US\", \"Italy\"], \"yaxis\": \"y\"}],\n",
       "                        {\"barmode\": \"relative\", \"height\": 500, \"legend\": {\"tracegroupgap\": 0}, \"margin\": {\"t\": 60}, \"template\": {\"data\": {\"bar\": [{\"error_x\": {\"color\": \"#2a3f5f\"}, \"error_y\": {\"color\": \"#2a3f5f\"}, \"marker\": {\"line\": {\"color\": \"#E5ECF6\", \"width\": 0.5}}, \"type\": \"bar\"}], \"barpolar\": [{\"marker\": {\"line\": {\"color\": \"#E5ECF6\", \"width\": 0.5}}, \"type\": \"barpolar\"}], \"carpet\": [{\"aaxis\": {\"endlinecolor\": \"#2a3f5f\", \"gridcolor\": \"white\", \"linecolor\": \"white\", \"minorgridcolor\": \"white\", \"startlinecolor\": \"#2a3f5f\"}, \"baxis\": {\"endlinecolor\": \"#2a3f5f\", \"gridcolor\": \"white\", \"linecolor\": \"white\", \"minorgridcolor\": \"white\", \"startlinecolor\": \"#2a3f5f\"}, \"type\": \"carpet\"}], \"choropleth\": [{\"colorbar\": {\"outlinewidth\": 0, \"ticks\": \"\"}, \"type\": \"choropleth\"}], \"contour\": [{\"colorbar\": {\"outlinewidth\": 0, \"ticks\": \"\"}, \"colorscale\": [[0.0, \"#0d0887\"], [0.1111111111111111, \"#46039f\"], [0.2222222222222222, \"#7201a8\"], [0.3333333333333333, \"#9c179e\"], [0.4444444444444444, \"#bd3786\"], [0.5555555555555556, \"#d8576b\"], [0.6666666666666666, \"#ed7953\"], [0.7777777777777778, \"#fb9f3a\"], [0.8888888888888888, \"#fdca26\"], [1.0, \"#f0f921\"]], \"type\": \"contour\"}], \"contourcarpet\": [{\"colorbar\": {\"outlinewidth\": 0, \"ticks\": \"\"}, \"type\": \"contourcarpet\"}], \"heatmap\": [{\"colorbar\": {\"outlinewidth\": 0, \"ticks\": \"\"}, \"colorscale\": [[0.0, \"#0d0887\"], [0.1111111111111111, \"#46039f\"], [0.2222222222222222, \"#7201a8\"], [0.3333333333333333, \"#9c179e\"], [0.4444444444444444, \"#bd3786\"], [0.5555555555555556, \"#d8576b\"], [0.6666666666666666, \"#ed7953\"], [0.7777777777777778, \"#fb9f3a\"], [0.8888888888888888, \"#fdca26\"], [1.0, \"#f0f921\"]], \"type\": \"heatmap\"}], \"heatmapgl\": [{\"colorbar\": {\"outlinewidth\": 0, \"ticks\": \"\"}, \"colorscale\": [[0.0, \"#0d0887\"], [0.1111111111111111, \"#46039f\"], [0.2222222222222222, \"#7201a8\"], [0.3333333333333333, \"#9c179e\"], [0.4444444444444444, \"#bd3786\"], [0.5555555555555556, \"#d8576b\"], [0.6666666666666666, \"#ed7953\"], [0.7777777777777778, \"#fb9f3a\"], [0.8888888888888888, \"#fdca26\"], [1.0, \"#f0f921\"]], \"type\": \"heatmapgl\"}], \"histogram\": [{\"marker\": {\"colorbar\": {\"outlinewidth\": 0, \"ticks\": \"\"}}, \"type\": \"histogram\"}], \"histogram2d\": [{\"colorbar\": {\"outlinewidth\": 0, \"ticks\": \"\"}, \"colorscale\": [[0.0, \"#0d0887\"], [0.1111111111111111, \"#46039f\"], [0.2222222222222222, \"#7201a8\"], [0.3333333333333333, \"#9c179e\"], [0.4444444444444444, \"#bd3786\"], [0.5555555555555556, \"#d8576b\"], [0.6666666666666666, \"#ed7953\"], [0.7777777777777778, \"#fb9f3a\"], [0.8888888888888888, \"#fdca26\"], [1.0, \"#f0f921\"]], \"type\": \"histogram2d\"}], \"histogram2dcontour\": [{\"colorbar\": {\"outlinewidth\": 0, \"ticks\": \"\"}, \"colorscale\": [[0.0, \"#0d0887\"], [0.1111111111111111, \"#46039f\"], [0.2222222222222222, \"#7201a8\"], [0.3333333333333333, \"#9c179e\"], [0.4444444444444444, \"#bd3786\"], [0.5555555555555556, \"#d8576b\"], [0.6666666666666666, \"#ed7953\"], [0.7777777777777778, \"#fb9f3a\"], [0.8888888888888888, \"#fdca26\"], [1.0, \"#f0f921\"]], \"type\": \"histogram2dcontour\"}], \"mesh3d\": [{\"colorbar\": {\"outlinewidth\": 0, \"ticks\": \"\"}, \"type\": \"mesh3d\"}], \"parcoords\": [{\"line\": {\"colorbar\": {\"outlinewidth\": 0, \"ticks\": \"\"}}, \"type\": \"parcoords\"}], \"pie\": [{\"automargin\": true, \"type\": \"pie\"}], \"scatter\": [{\"marker\": {\"colorbar\": {\"outlinewidth\": 0, \"ticks\": \"\"}}, \"type\": \"scatter\"}], \"scatter3d\": [{\"line\": {\"colorbar\": {\"outlinewidth\": 0, \"ticks\": \"\"}}, \"marker\": {\"colorbar\": {\"outlinewidth\": 0, \"ticks\": \"\"}}, \"type\": \"scatter3d\"}], \"scattercarpet\": [{\"marker\": {\"colorbar\": {\"outlinewidth\": 0, \"ticks\": \"\"}}, \"type\": \"scattercarpet\"}], \"scattergeo\": [{\"marker\": {\"colorbar\": {\"outlinewidth\": 0, \"ticks\": \"\"}}, \"type\": \"scattergeo\"}], \"scattergl\": [{\"marker\": {\"colorbar\": {\"outlinewidth\": 0, \"ticks\": \"\"}}, \"type\": \"scattergl\"}], \"scattermapbox\": [{\"marker\": {\"colorbar\": {\"outlinewidth\": 0, \"ticks\": \"\"}}, \"type\": \"scattermapbox\"}], \"scatterpolar\": [{\"marker\": {\"colorbar\": {\"outlinewidth\": 0, \"ticks\": \"\"}}, \"type\": \"scatterpolar\"}], \"scatterpolargl\": [{\"marker\": {\"colorbar\": {\"outlinewidth\": 0, \"ticks\": \"\"}}, \"type\": \"scatterpolargl\"}], \"scatterternary\": [{\"marker\": {\"colorbar\": {\"outlinewidth\": 0, \"ticks\": \"\"}}, \"type\": \"scatterternary\"}], \"surface\": [{\"colorbar\": {\"outlinewidth\": 0, \"ticks\": \"\"}, \"colorscale\": [[0.0, \"#0d0887\"], [0.1111111111111111, \"#46039f\"], [0.2222222222222222, \"#7201a8\"], [0.3333333333333333, \"#9c179e\"], [0.4444444444444444, \"#bd3786\"], [0.5555555555555556, \"#d8576b\"], [0.6666666666666666, \"#ed7953\"], [0.7777777777777778, \"#fb9f3a\"], [0.8888888888888888, \"#fdca26\"], [1.0, \"#f0f921\"]], \"type\": \"surface\"}], \"table\": [{\"cells\": {\"fill\": {\"color\": \"#EBF0F8\"}, \"line\": {\"color\": \"white\"}}, \"header\": {\"fill\": {\"color\": \"#C8D4E3\"}, \"line\": {\"color\": \"white\"}}, \"type\": \"table\"}]}, \"layout\": {\"annotationdefaults\": {\"arrowcolor\": \"#2a3f5f\", \"arrowhead\": 0, \"arrowwidth\": 1}, \"coloraxis\": {\"colorbar\": {\"outlinewidth\": 0, \"ticks\": \"\"}}, \"colorscale\": {\"diverging\": [[0, \"#8e0152\"], [0.1, \"#c51b7d\"], [0.2, \"#de77ae\"], [0.3, \"#f1b6da\"], [0.4, \"#fde0ef\"], [0.5, \"#f7f7f7\"], [0.6, \"#e6f5d0\"], [0.7, \"#b8e186\"], [0.8, \"#7fbc41\"], [0.9, \"#4d9221\"], [1, \"#276419\"]], \"sequential\": [[0.0, \"#0d0887\"], [0.1111111111111111, \"#46039f\"], [0.2222222222222222, \"#7201a8\"], [0.3333333333333333, \"#9c179e\"], [0.4444444444444444, \"#bd3786\"], [0.5555555555555556, \"#d8576b\"], [0.6666666666666666, \"#ed7953\"], [0.7777777777777778, \"#fb9f3a\"], [0.8888888888888888, \"#fdca26\"], [1.0, \"#f0f921\"]], \"sequentialminus\": [[0.0, \"#0d0887\"], [0.1111111111111111, \"#46039f\"], [0.2222222222222222, \"#7201a8\"], [0.3333333333333333, \"#9c179e\"], [0.4444444444444444, \"#bd3786\"], [0.5555555555555556, \"#d8576b\"], [0.6666666666666666, \"#ed7953\"], [0.7777777777777778, \"#fb9f3a\"], [0.8888888888888888, \"#fdca26\"], [1.0, \"#f0f921\"]]}, \"colorway\": [\"#636efa\", \"#EF553B\", \"#00cc96\", \"#ab63fa\", \"#FFA15A\", \"#19d3f3\", \"#FF6692\", \"#B6E880\", \"#FF97FF\", \"#FECB52\"], \"font\": {\"color\": \"#2a3f5f\"}, \"geo\": {\"bgcolor\": \"white\", \"lakecolor\": \"white\", \"landcolor\": \"#E5ECF6\", \"showlakes\": true, \"showland\": true, \"subunitcolor\": \"white\"}, \"hoverlabel\": {\"align\": \"left\"}, \"hovermode\": \"closest\", \"mapbox\": {\"style\": \"light\"}, \"paper_bgcolor\": \"white\", \"plot_bgcolor\": \"#E5ECF6\", \"polar\": {\"angularaxis\": {\"gridcolor\": \"white\", \"linecolor\": \"white\", \"ticks\": \"\"}, \"bgcolor\": \"#E5ECF6\", \"radialaxis\": {\"gridcolor\": \"white\", \"linecolor\": \"white\", \"ticks\": \"\"}}, \"scene\": {\"xaxis\": {\"backgroundcolor\": \"#E5ECF6\", \"gridcolor\": \"white\", \"gridwidth\": 2, \"linecolor\": \"white\", \"showbackground\": true, \"ticks\": \"\", \"zerolinecolor\": \"white\"}, \"yaxis\": {\"backgroundcolor\": \"#E5ECF6\", \"gridcolor\": \"white\", \"gridwidth\": 2, \"linecolor\": \"white\", \"showbackground\": true, \"ticks\": \"\", \"zerolinecolor\": \"white\"}, \"zaxis\": {\"backgroundcolor\": \"#E5ECF6\", \"gridcolor\": \"white\", \"gridwidth\": 2, \"linecolor\": \"white\", \"showbackground\": true, \"ticks\": \"\", \"zerolinecolor\": \"white\"}}, \"shapedefaults\": {\"line\": {\"color\": \"#2a3f5f\"}}, \"ternary\": {\"aaxis\": {\"gridcolor\": \"white\", \"linecolor\": \"white\", \"ticks\": \"\"}, \"baxis\": {\"gridcolor\": \"white\", \"linecolor\": \"white\", \"ticks\": \"\"}, \"bgcolor\": \"#E5ECF6\", \"caxis\": {\"gridcolor\": \"white\", \"linecolor\": \"white\", \"ticks\": \"\"}}, \"title\": {\"x\": 0.05}, \"xaxis\": {\"automargin\": true, \"gridcolor\": \"white\", \"linecolor\": \"white\", \"ticks\": \"\", \"title\": {\"standoff\": 15}, \"zerolinecolor\": \"white\", \"zerolinewidth\": 2}, \"yaxis\": {\"automargin\": true, \"gridcolor\": \"white\", \"linecolor\": \"white\", \"ticks\": \"\", \"title\": {\"standoff\": 15}, \"zerolinecolor\": \"white\", \"zerolinewidth\": 2}}}, \"width\": 800, \"xaxis\": {\"anchor\": \"y\", \"domain\": [0.0, 1.0], \"range\": [0, 55418], \"title\": {\"text\": \"Active\"}}, \"yaxis\": {\"anchor\": \"x\", \"domain\": [0.0, 1.0], \"title\": {\"text\": \"Country_Region\"}}},\n",
       "                        {\"responsive\": true}\n",
       "                    ).then(function(){\n",
       "                            \n",
       "var gd = document.getElementById('7edd40a0-a422-4434-a54e-0e04a0047586');\n",
       "var x = new MutationObserver(function (mutations, observer) {{\n",
       "        var display = window.getComputedStyle(gd).display;\n",
       "        if (!display || display === 'none') {{\n",
       "            console.log([gd, 'removed!']);\n",
       "            Plotly.purge(gd);\n",
       "            observer.disconnect();\n",
       "        }}\n",
       "}});\n",
       "\n",
       "// Listen for the removal of the full notebook cells\n",
       "var notebookContainer = gd.closest('#notebook-container');\n",
       "if (notebookContainer) {{\n",
       "    x.observe(notebookContainer, {childList: true});\n",
       "}}\n",
       "\n",
       "// Listen for the clearing of the current output cell\n",
       "var outputEl = gd.closest('.output');\n",
       "if (outputEl) {{\n",
       "    x.observe(outputEl, {childList: true});\n",
       "}}\n",
       "\n",
       "                        })\n",
       "                };\n",
       "                });\n",
       "            </script>\n",
       "        </div>"
      ]
     },
     "metadata": {},
     "output_type": "display_data"
    }
   ],
   "source": [
    "top10Active = px.bar(classement.sort_values('Active', ascending=False).head(10).sort_values('Active', ascending=True), \n",
    "             x=\"Active\", y=\"Country_Region\", text='Active', orientation='h', \n",
    "             width=800, height=500, range_x = [0, max(classement['Active'])+5000])\n",
    "top10Active.update_traces(marker_color=colorGrey, opacity=0.6, textposition='outside')\n",
    "iplot(top10Active)"
   ]
  },
  {
   "cell_type": "markdown",
   "metadata": {},
   "source": [
    "### Confirmés"
   ]
  },
  {
   "cell_type": "code",
   "execution_count": 17,
   "metadata": {},
   "outputs": [
    {
     "data": {
      "application/vnd.plotly.v1+json": {
       "config": {
        "linkText": "Export to plot.ly",
        "plotlyServerURL": "https://plot.ly",
        "showLink": false
       },
       "data": [
        {
         "alignmentgroup": "True",
         "hoverlabel": {
          "namelength": 0
         },
         "hovertemplate": "Confirmed=%{text}<br>Country_Region=%{y}",
         "legendgroup": "",
         "marker": {
          "color": "#fe9801"
         },
         "name": "",
         "offsetgroup": "",
         "opacity": 0.6,
         "orientation": "h",
         "showlegend": false,
         "text": [
          6726,
          8795,
          8961,
          20123,
          23049,
          29056,
          35136,
          43667,
          63927,
          81496
         ],
         "textposition": "outside",
         "type": "bar",
         "x": [
          6726,
          8795,
          8961,
          20123,
          23049,
          29056,
          35136,
          43667,
          63927,
          81496
         ],
         "xaxis": "x",
         "y": [
          "United Kingdom",
          "Switzerland",
          "Korea, South",
          "France",
          "Iran",
          "Germany",
          "Spain",
          "US",
          "Italy",
          "China"
         ],
         "yaxis": "y"
        }
       ],
       "layout": {
        "barmode": "relative",
        "height": 500,
        "legend": {
         "tracegroupgap": 0
        },
        "margin": {
         "t": 60
        },
        "template": {
         "data": {
          "bar": [
           {
            "error_x": {
             "color": "#2a3f5f"
            },
            "error_y": {
             "color": "#2a3f5f"
            },
            "marker": {
             "line": {
              "color": "#E5ECF6",
              "width": 0.5
             }
            },
            "type": "bar"
           }
          ],
          "barpolar": [
           {
            "marker": {
             "line": {
              "color": "#E5ECF6",
              "width": 0.5
             }
            },
            "type": "barpolar"
           }
          ],
          "carpet": [
           {
            "aaxis": {
             "endlinecolor": "#2a3f5f",
             "gridcolor": "white",
             "linecolor": "white",
             "minorgridcolor": "white",
             "startlinecolor": "#2a3f5f"
            },
            "baxis": {
             "endlinecolor": "#2a3f5f",
             "gridcolor": "white",
             "linecolor": "white",
             "minorgridcolor": "white",
             "startlinecolor": "#2a3f5f"
            },
            "type": "carpet"
           }
          ],
          "choropleth": [
           {
            "colorbar": {
             "outlinewidth": 0,
             "ticks": ""
            },
            "type": "choropleth"
           }
          ],
          "contour": [
           {
            "colorbar": {
             "outlinewidth": 0,
             "ticks": ""
            },
            "colorscale": [
             [
              0,
              "#0d0887"
             ],
             [
              0.1111111111111111,
              "#46039f"
             ],
             [
              0.2222222222222222,
              "#7201a8"
             ],
             [
              0.3333333333333333,
              "#9c179e"
             ],
             [
              0.4444444444444444,
              "#bd3786"
             ],
             [
              0.5555555555555556,
              "#d8576b"
             ],
             [
              0.6666666666666666,
              "#ed7953"
             ],
             [
              0.7777777777777778,
              "#fb9f3a"
             ],
             [
              0.8888888888888888,
              "#fdca26"
             ],
             [
              1,
              "#f0f921"
             ]
            ],
            "type": "contour"
           }
          ],
          "contourcarpet": [
           {
            "colorbar": {
             "outlinewidth": 0,
             "ticks": ""
            },
            "type": "contourcarpet"
           }
          ],
          "heatmap": [
           {
            "colorbar": {
             "outlinewidth": 0,
             "ticks": ""
            },
            "colorscale": [
             [
              0,
              "#0d0887"
             ],
             [
              0.1111111111111111,
              "#46039f"
             ],
             [
              0.2222222222222222,
              "#7201a8"
             ],
             [
              0.3333333333333333,
              "#9c179e"
             ],
             [
              0.4444444444444444,
              "#bd3786"
             ],
             [
              0.5555555555555556,
              "#d8576b"
             ],
             [
              0.6666666666666666,
              "#ed7953"
             ],
             [
              0.7777777777777778,
              "#fb9f3a"
             ],
             [
              0.8888888888888888,
              "#fdca26"
             ],
             [
              1,
              "#f0f921"
             ]
            ],
            "type": "heatmap"
           }
          ],
          "heatmapgl": [
           {
            "colorbar": {
             "outlinewidth": 0,
             "ticks": ""
            },
            "colorscale": [
             [
              0,
              "#0d0887"
             ],
             [
              0.1111111111111111,
              "#46039f"
             ],
             [
              0.2222222222222222,
              "#7201a8"
             ],
             [
              0.3333333333333333,
              "#9c179e"
             ],
             [
              0.4444444444444444,
              "#bd3786"
             ],
             [
              0.5555555555555556,
              "#d8576b"
             ],
             [
              0.6666666666666666,
              "#ed7953"
             ],
             [
              0.7777777777777778,
              "#fb9f3a"
             ],
             [
              0.8888888888888888,
              "#fdca26"
             ],
             [
              1,
              "#f0f921"
             ]
            ],
            "type": "heatmapgl"
           }
          ],
          "histogram": [
           {
            "marker": {
             "colorbar": {
              "outlinewidth": 0,
              "ticks": ""
             }
            },
            "type": "histogram"
           }
          ],
          "histogram2d": [
           {
            "colorbar": {
             "outlinewidth": 0,
             "ticks": ""
            },
            "colorscale": [
             [
              0,
              "#0d0887"
             ],
             [
              0.1111111111111111,
              "#46039f"
             ],
             [
              0.2222222222222222,
              "#7201a8"
             ],
             [
              0.3333333333333333,
              "#9c179e"
             ],
             [
              0.4444444444444444,
              "#bd3786"
             ],
             [
              0.5555555555555556,
              "#d8576b"
             ],
             [
              0.6666666666666666,
              "#ed7953"
             ],
             [
              0.7777777777777778,
              "#fb9f3a"
             ],
             [
              0.8888888888888888,
              "#fdca26"
             ],
             [
              1,
              "#f0f921"
             ]
            ],
            "type": "histogram2d"
           }
          ],
          "histogram2dcontour": [
           {
            "colorbar": {
             "outlinewidth": 0,
             "ticks": ""
            },
            "colorscale": [
             [
              0,
              "#0d0887"
             ],
             [
              0.1111111111111111,
              "#46039f"
             ],
             [
              0.2222222222222222,
              "#7201a8"
             ],
             [
              0.3333333333333333,
              "#9c179e"
             ],
             [
              0.4444444444444444,
              "#bd3786"
             ],
             [
              0.5555555555555556,
              "#d8576b"
             ],
             [
              0.6666666666666666,
              "#ed7953"
             ],
             [
              0.7777777777777778,
              "#fb9f3a"
             ],
             [
              0.8888888888888888,
              "#fdca26"
             ],
             [
              1,
              "#f0f921"
             ]
            ],
            "type": "histogram2dcontour"
           }
          ],
          "mesh3d": [
           {
            "colorbar": {
             "outlinewidth": 0,
             "ticks": ""
            },
            "type": "mesh3d"
           }
          ],
          "parcoords": [
           {
            "line": {
             "colorbar": {
              "outlinewidth": 0,
              "ticks": ""
             }
            },
            "type": "parcoords"
           }
          ],
          "pie": [
           {
            "automargin": true,
            "type": "pie"
           }
          ],
          "scatter": [
           {
            "marker": {
             "colorbar": {
              "outlinewidth": 0,
              "ticks": ""
             }
            },
            "type": "scatter"
           }
          ],
          "scatter3d": [
           {
            "line": {
             "colorbar": {
              "outlinewidth": 0,
              "ticks": ""
             }
            },
            "marker": {
             "colorbar": {
              "outlinewidth": 0,
              "ticks": ""
             }
            },
            "type": "scatter3d"
           }
          ],
          "scattercarpet": [
           {
            "marker": {
             "colorbar": {
              "outlinewidth": 0,
              "ticks": ""
             }
            },
            "type": "scattercarpet"
           }
          ],
          "scattergeo": [
           {
            "marker": {
             "colorbar": {
              "outlinewidth": 0,
              "ticks": ""
             }
            },
            "type": "scattergeo"
           }
          ],
          "scattergl": [
           {
            "marker": {
             "colorbar": {
              "outlinewidth": 0,
              "ticks": ""
             }
            },
            "type": "scattergl"
           }
          ],
          "scattermapbox": [
           {
            "marker": {
             "colorbar": {
              "outlinewidth": 0,
              "ticks": ""
             }
            },
            "type": "scattermapbox"
           }
          ],
          "scatterpolar": [
           {
            "marker": {
             "colorbar": {
              "outlinewidth": 0,
              "ticks": ""
             }
            },
            "type": "scatterpolar"
           }
          ],
          "scatterpolargl": [
           {
            "marker": {
             "colorbar": {
              "outlinewidth": 0,
              "ticks": ""
             }
            },
            "type": "scatterpolargl"
           }
          ],
          "scatterternary": [
           {
            "marker": {
             "colorbar": {
              "outlinewidth": 0,
              "ticks": ""
             }
            },
            "type": "scatterternary"
           }
          ],
          "surface": [
           {
            "colorbar": {
             "outlinewidth": 0,
             "ticks": ""
            },
            "colorscale": [
             [
              0,
              "#0d0887"
             ],
             [
              0.1111111111111111,
              "#46039f"
             ],
             [
              0.2222222222222222,
              "#7201a8"
             ],
             [
              0.3333333333333333,
              "#9c179e"
             ],
             [
              0.4444444444444444,
              "#bd3786"
             ],
             [
              0.5555555555555556,
              "#d8576b"
             ],
             [
              0.6666666666666666,
              "#ed7953"
             ],
             [
              0.7777777777777778,
              "#fb9f3a"
             ],
             [
              0.8888888888888888,
              "#fdca26"
             ],
             [
              1,
              "#f0f921"
             ]
            ],
            "type": "surface"
           }
          ],
          "table": [
           {
            "cells": {
             "fill": {
              "color": "#EBF0F8"
             },
             "line": {
              "color": "white"
             }
            },
            "header": {
             "fill": {
              "color": "#C8D4E3"
             },
             "line": {
              "color": "white"
             }
            },
            "type": "table"
           }
          ]
         },
         "layout": {
          "annotationdefaults": {
           "arrowcolor": "#2a3f5f",
           "arrowhead": 0,
           "arrowwidth": 1
          },
          "coloraxis": {
           "colorbar": {
            "outlinewidth": 0,
            "ticks": ""
           }
          },
          "colorscale": {
           "diverging": [
            [
             0,
             "#8e0152"
            ],
            [
             0.1,
             "#c51b7d"
            ],
            [
             0.2,
             "#de77ae"
            ],
            [
             0.3,
             "#f1b6da"
            ],
            [
             0.4,
             "#fde0ef"
            ],
            [
             0.5,
             "#f7f7f7"
            ],
            [
             0.6,
             "#e6f5d0"
            ],
            [
             0.7,
             "#b8e186"
            ],
            [
             0.8,
             "#7fbc41"
            ],
            [
             0.9,
             "#4d9221"
            ],
            [
             1,
             "#276419"
            ]
           ],
           "sequential": [
            [
             0,
             "#0d0887"
            ],
            [
             0.1111111111111111,
             "#46039f"
            ],
            [
             0.2222222222222222,
             "#7201a8"
            ],
            [
             0.3333333333333333,
             "#9c179e"
            ],
            [
             0.4444444444444444,
             "#bd3786"
            ],
            [
             0.5555555555555556,
             "#d8576b"
            ],
            [
             0.6666666666666666,
             "#ed7953"
            ],
            [
             0.7777777777777778,
             "#fb9f3a"
            ],
            [
             0.8888888888888888,
             "#fdca26"
            ],
            [
             1,
             "#f0f921"
            ]
           ],
           "sequentialminus": [
            [
             0,
             "#0d0887"
            ],
            [
             0.1111111111111111,
             "#46039f"
            ],
            [
             0.2222222222222222,
             "#7201a8"
            ],
            [
             0.3333333333333333,
             "#9c179e"
            ],
            [
             0.4444444444444444,
             "#bd3786"
            ],
            [
             0.5555555555555556,
             "#d8576b"
            ],
            [
             0.6666666666666666,
             "#ed7953"
            ],
            [
             0.7777777777777778,
             "#fb9f3a"
            ],
            [
             0.8888888888888888,
             "#fdca26"
            ],
            [
             1,
             "#f0f921"
            ]
           ]
          },
          "colorway": [
           "#636efa",
           "#EF553B",
           "#00cc96",
           "#ab63fa",
           "#FFA15A",
           "#19d3f3",
           "#FF6692",
           "#B6E880",
           "#FF97FF",
           "#FECB52"
          ],
          "font": {
           "color": "#2a3f5f"
          },
          "geo": {
           "bgcolor": "white",
           "lakecolor": "white",
           "landcolor": "#E5ECF6",
           "showlakes": true,
           "showland": true,
           "subunitcolor": "white"
          },
          "hoverlabel": {
           "align": "left"
          },
          "hovermode": "closest",
          "mapbox": {
           "style": "light"
          },
          "paper_bgcolor": "white",
          "plot_bgcolor": "#E5ECF6",
          "polar": {
           "angularaxis": {
            "gridcolor": "white",
            "linecolor": "white",
            "ticks": ""
           },
           "bgcolor": "#E5ECF6",
           "radialaxis": {
            "gridcolor": "white",
            "linecolor": "white",
            "ticks": ""
           }
          },
          "scene": {
           "xaxis": {
            "backgroundcolor": "#E5ECF6",
            "gridcolor": "white",
            "gridwidth": 2,
            "linecolor": "white",
            "showbackground": true,
            "ticks": "",
            "zerolinecolor": "white"
           },
           "yaxis": {
            "backgroundcolor": "#E5ECF6",
            "gridcolor": "white",
            "gridwidth": 2,
            "linecolor": "white",
            "showbackground": true,
            "ticks": "",
            "zerolinecolor": "white"
           },
           "zaxis": {
            "backgroundcolor": "#E5ECF6",
            "gridcolor": "white",
            "gridwidth": 2,
            "linecolor": "white",
            "showbackground": true,
            "ticks": "",
            "zerolinecolor": "white"
           }
          },
          "shapedefaults": {
           "line": {
            "color": "#2a3f5f"
           }
          },
          "ternary": {
           "aaxis": {
            "gridcolor": "white",
            "linecolor": "white",
            "ticks": ""
           },
           "baxis": {
            "gridcolor": "white",
            "linecolor": "white",
            "ticks": ""
           },
           "bgcolor": "#E5ECF6",
           "caxis": {
            "gridcolor": "white",
            "linecolor": "white",
            "ticks": ""
           }
          },
          "title": {
           "x": 0.05
          },
          "xaxis": {
           "automargin": true,
           "gridcolor": "white",
           "linecolor": "white",
           "ticks": "",
           "title": {
            "standoff": 15
           },
           "zerolinecolor": "white",
           "zerolinewidth": 2
          },
          "yaxis": {
           "automargin": true,
           "gridcolor": "white",
           "linecolor": "white",
           "ticks": "",
           "title": {
            "standoff": 15
           },
           "zerolinecolor": "white",
           "zerolinewidth": 2
          }
         }
        },
        "width": 800,
        "xaxis": {
         "anchor": "y",
         "domain": [
          0,
          1
         ],
         "range": [
          0,
          89496
         ],
         "title": {
          "text": "Confirmed"
         }
        },
        "yaxis": {
         "anchor": "x",
         "domain": [
          0,
          1
         ],
         "title": {
          "text": "Country_Region"
         }
        }
       }
      },
      "text/html": [
       "<div>\n",
       "        \n",
       "        \n",
       "            <div id=\"6b85b688-f4bc-4d2d-ab4e-7214812f4440\" class=\"plotly-graph-div\" style=\"height:500px; width:800px;\"></div>\n",
       "            <script type=\"text/javascript\">\n",
       "                require([\"plotly\"], function(Plotly) {\n",
       "                    window.PLOTLYENV=window.PLOTLYENV || {};\n",
       "                    \n",
       "                if (document.getElementById(\"6b85b688-f4bc-4d2d-ab4e-7214812f4440\")) {\n",
       "                    Plotly.newPlot(\n",
       "                        '6b85b688-f4bc-4d2d-ab4e-7214812f4440',\n",
       "                        [{\"alignmentgroup\": \"True\", \"hoverlabel\": {\"namelength\": 0}, \"hovertemplate\": \"Confirmed=%{text}<br>Country_Region=%{y}\", \"legendgroup\": \"\", \"marker\": {\"color\": \"#fe9801\"}, \"name\": \"\", \"offsetgroup\": \"\", \"opacity\": 0.6, \"orientation\": \"h\", \"showlegend\": false, \"text\": [6726.0, 8795.0, 8961.0, 20123.0, 23049.0, 29056.0, 35136.0, 43667.0, 63927.0, 81496.0], \"textposition\": \"outside\", \"type\": \"bar\", \"x\": [6726, 8795, 8961, 20123, 23049, 29056, 35136, 43667, 63927, 81496], \"xaxis\": \"x\", \"y\": [\"United Kingdom\", \"Switzerland\", \"Korea, South\", \"France\", \"Iran\", \"Germany\", \"Spain\", \"US\", \"Italy\", \"China\"], \"yaxis\": \"y\"}],\n",
       "                        {\"barmode\": \"relative\", \"height\": 500, \"legend\": {\"tracegroupgap\": 0}, \"margin\": {\"t\": 60}, \"template\": {\"data\": {\"bar\": [{\"error_x\": {\"color\": \"#2a3f5f\"}, \"error_y\": {\"color\": \"#2a3f5f\"}, \"marker\": {\"line\": {\"color\": \"#E5ECF6\", \"width\": 0.5}}, \"type\": \"bar\"}], \"barpolar\": [{\"marker\": {\"line\": {\"color\": \"#E5ECF6\", \"width\": 0.5}}, \"type\": \"barpolar\"}], \"carpet\": [{\"aaxis\": {\"endlinecolor\": \"#2a3f5f\", \"gridcolor\": \"white\", \"linecolor\": \"white\", \"minorgridcolor\": \"white\", \"startlinecolor\": \"#2a3f5f\"}, \"baxis\": {\"endlinecolor\": \"#2a3f5f\", \"gridcolor\": \"white\", \"linecolor\": \"white\", \"minorgridcolor\": \"white\", \"startlinecolor\": \"#2a3f5f\"}, \"type\": \"carpet\"}], \"choropleth\": [{\"colorbar\": {\"outlinewidth\": 0, \"ticks\": \"\"}, \"type\": \"choropleth\"}], \"contour\": [{\"colorbar\": {\"outlinewidth\": 0, \"ticks\": \"\"}, \"colorscale\": [[0.0, \"#0d0887\"], [0.1111111111111111, \"#46039f\"], [0.2222222222222222, \"#7201a8\"], [0.3333333333333333, \"#9c179e\"], [0.4444444444444444, \"#bd3786\"], [0.5555555555555556, \"#d8576b\"], [0.6666666666666666, \"#ed7953\"], [0.7777777777777778, \"#fb9f3a\"], [0.8888888888888888, \"#fdca26\"], [1.0, \"#f0f921\"]], \"type\": \"contour\"}], \"contourcarpet\": [{\"colorbar\": {\"outlinewidth\": 0, \"ticks\": \"\"}, \"type\": \"contourcarpet\"}], \"heatmap\": [{\"colorbar\": {\"outlinewidth\": 0, \"ticks\": \"\"}, \"colorscale\": [[0.0, \"#0d0887\"], [0.1111111111111111, \"#46039f\"], [0.2222222222222222, \"#7201a8\"], [0.3333333333333333, \"#9c179e\"], [0.4444444444444444, \"#bd3786\"], [0.5555555555555556, \"#d8576b\"], [0.6666666666666666, \"#ed7953\"], [0.7777777777777778, \"#fb9f3a\"], [0.8888888888888888, \"#fdca26\"], [1.0, \"#f0f921\"]], \"type\": \"heatmap\"}], \"heatmapgl\": [{\"colorbar\": {\"outlinewidth\": 0, \"ticks\": \"\"}, \"colorscale\": [[0.0, \"#0d0887\"], [0.1111111111111111, \"#46039f\"], [0.2222222222222222, \"#7201a8\"], [0.3333333333333333, \"#9c179e\"], [0.4444444444444444, \"#bd3786\"], [0.5555555555555556, \"#d8576b\"], [0.6666666666666666, \"#ed7953\"], [0.7777777777777778, \"#fb9f3a\"], [0.8888888888888888, \"#fdca26\"], [1.0, \"#f0f921\"]], \"type\": \"heatmapgl\"}], \"histogram\": [{\"marker\": {\"colorbar\": {\"outlinewidth\": 0, \"ticks\": \"\"}}, \"type\": \"histogram\"}], \"histogram2d\": [{\"colorbar\": {\"outlinewidth\": 0, \"ticks\": \"\"}, \"colorscale\": [[0.0, \"#0d0887\"], [0.1111111111111111, \"#46039f\"], [0.2222222222222222, \"#7201a8\"], [0.3333333333333333, \"#9c179e\"], [0.4444444444444444, \"#bd3786\"], [0.5555555555555556, \"#d8576b\"], [0.6666666666666666, \"#ed7953\"], [0.7777777777777778, \"#fb9f3a\"], [0.8888888888888888, \"#fdca26\"], [1.0, \"#f0f921\"]], \"type\": \"histogram2d\"}], \"histogram2dcontour\": [{\"colorbar\": {\"outlinewidth\": 0, \"ticks\": \"\"}, \"colorscale\": [[0.0, \"#0d0887\"], [0.1111111111111111, \"#46039f\"], [0.2222222222222222, \"#7201a8\"], [0.3333333333333333, \"#9c179e\"], [0.4444444444444444, \"#bd3786\"], [0.5555555555555556, \"#d8576b\"], [0.6666666666666666, \"#ed7953\"], [0.7777777777777778, \"#fb9f3a\"], [0.8888888888888888, \"#fdca26\"], [1.0, \"#f0f921\"]], \"type\": \"histogram2dcontour\"}], \"mesh3d\": [{\"colorbar\": {\"outlinewidth\": 0, \"ticks\": \"\"}, \"type\": \"mesh3d\"}], \"parcoords\": [{\"line\": {\"colorbar\": {\"outlinewidth\": 0, \"ticks\": \"\"}}, \"type\": \"parcoords\"}], \"pie\": [{\"automargin\": true, \"type\": \"pie\"}], \"scatter\": [{\"marker\": {\"colorbar\": {\"outlinewidth\": 0, \"ticks\": \"\"}}, \"type\": \"scatter\"}], \"scatter3d\": [{\"line\": {\"colorbar\": {\"outlinewidth\": 0, \"ticks\": \"\"}}, \"marker\": {\"colorbar\": {\"outlinewidth\": 0, \"ticks\": \"\"}}, \"type\": \"scatter3d\"}], \"scattercarpet\": [{\"marker\": {\"colorbar\": {\"outlinewidth\": 0, \"ticks\": \"\"}}, \"type\": \"scattercarpet\"}], \"scattergeo\": [{\"marker\": {\"colorbar\": {\"outlinewidth\": 0, \"ticks\": \"\"}}, \"type\": \"scattergeo\"}], \"scattergl\": [{\"marker\": {\"colorbar\": {\"outlinewidth\": 0, \"ticks\": \"\"}}, \"type\": \"scattergl\"}], \"scattermapbox\": [{\"marker\": {\"colorbar\": {\"outlinewidth\": 0, \"ticks\": \"\"}}, \"type\": \"scattermapbox\"}], \"scatterpolar\": [{\"marker\": {\"colorbar\": {\"outlinewidth\": 0, \"ticks\": \"\"}}, \"type\": \"scatterpolar\"}], \"scatterpolargl\": [{\"marker\": {\"colorbar\": {\"outlinewidth\": 0, \"ticks\": \"\"}}, \"type\": \"scatterpolargl\"}], \"scatterternary\": [{\"marker\": {\"colorbar\": {\"outlinewidth\": 0, \"ticks\": \"\"}}, \"type\": \"scatterternary\"}], \"surface\": [{\"colorbar\": {\"outlinewidth\": 0, \"ticks\": \"\"}, \"colorscale\": [[0.0, \"#0d0887\"], [0.1111111111111111, \"#46039f\"], [0.2222222222222222, \"#7201a8\"], [0.3333333333333333, \"#9c179e\"], [0.4444444444444444, \"#bd3786\"], [0.5555555555555556, \"#d8576b\"], [0.6666666666666666, \"#ed7953\"], [0.7777777777777778, \"#fb9f3a\"], [0.8888888888888888, \"#fdca26\"], [1.0, \"#f0f921\"]], \"type\": \"surface\"}], \"table\": [{\"cells\": {\"fill\": {\"color\": \"#EBF0F8\"}, \"line\": {\"color\": \"white\"}}, \"header\": {\"fill\": {\"color\": \"#C8D4E3\"}, \"line\": {\"color\": \"white\"}}, \"type\": \"table\"}]}, \"layout\": {\"annotationdefaults\": {\"arrowcolor\": \"#2a3f5f\", \"arrowhead\": 0, \"arrowwidth\": 1}, \"coloraxis\": {\"colorbar\": {\"outlinewidth\": 0, \"ticks\": \"\"}}, \"colorscale\": {\"diverging\": [[0, \"#8e0152\"], [0.1, \"#c51b7d\"], [0.2, \"#de77ae\"], [0.3, \"#f1b6da\"], [0.4, \"#fde0ef\"], [0.5, \"#f7f7f7\"], [0.6, \"#e6f5d0\"], [0.7, \"#b8e186\"], [0.8, \"#7fbc41\"], [0.9, \"#4d9221\"], [1, \"#276419\"]], \"sequential\": [[0.0, \"#0d0887\"], [0.1111111111111111, \"#46039f\"], [0.2222222222222222, \"#7201a8\"], [0.3333333333333333, \"#9c179e\"], [0.4444444444444444, \"#bd3786\"], [0.5555555555555556, \"#d8576b\"], [0.6666666666666666, \"#ed7953\"], [0.7777777777777778, \"#fb9f3a\"], [0.8888888888888888, \"#fdca26\"], [1.0, \"#f0f921\"]], \"sequentialminus\": [[0.0, \"#0d0887\"], [0.1111111111111111, \"#46039f\"], [0.2222222222222222, \"#7201a8\"], [0.3333333333333333, \"#9c179e\"], [0.4444444444444444, \"#bd3786\"], [0.5555555555555556, \"#d8576b\"], [0.6666666666666666, \"#ed7953\"], [0.7777777777777778, \"#fb9f3a\"], [0.8888888888888888, \"#fdca26\"], [1.0, \"#f0f921\"]]}, \"colorway\": [\"#636efa\", \"#EF553B\", \"#00cc96\", \"#ab63fa\", \"#FFA15A\", \"#19d3f3\", \"#FF6692\", \"#B6E880\", \"#FF97FF\", \"#FECB52\"], \"font\": {\"color\": \"#2a3f5f\"}, \"geo\": {\"bgcolor\": \"white\", \"lakecolor\": \"white\", \"landcolor\": \"#E5ECF6\", \"showlakes\": true, \"showland\": true, \"subunitcolor\": \"white\"}, \"hoverlabel\": {\"align\": \"left\"}, \"hovermode\": \"closest\", \"mapbox\": {\"style\": \"light\"}, \"paper_bgcolor\": \"white\", \"plot_bgcolor\": \"#E5ECF6\", \"polar\": {\"angularaxis\": {\"gridcolor\": \"white\", \"linecolor\": \"white\", \"ticks\": \"\"}, \"bgcolor\": \"#E5ECF6\", \"radialaxis\": {\"gridcolor\": \"white\", \"linecolor\": \"white\", \"ticks\": \"\"}}, \"scene\": {\"xaxis\": {\"backgroundcolor\": \"#E5ECF6\", \"gridcolor\": \"white\", \"gridwidth\": 2, \"linecolor\": \"white\", \"showbackground\": true, \"ticks\": \"\", \"zerolinecolor\": \"white\"}, \"yaxis\": {\"backgroundcolor\": \"#E5ECF6\", \"gridcolor\": \"white\", \"gridwidth\": 2, \"linecolor\": \"white\", \"showbackground\": true, \"ticks\": \"\", \"zerolinecolor\": \"white\"}, \"zaxis\": {\"backgroundcolor\": \"#E5ECF6\", \"gridcolor\": \"white\", \"gridwidth\": 2, \"linecolor\": \"white\", \"showbackground\": true, \"ticks\": \"\", \"zerolinecolor\": \"white\"}}, \"shapedefaults\": {\"line\": {\"color\": \"#2a3f5f\"}}, \"ternary\": {\"aaxis\": {\"gridcolor\": \"white\", \"linecolor\": \"white\", \"ticks\": \"\"}, \"baxis\": {\"gridcolor\": \"white\", \"linecolor\": \"white\", \"ticks\": \"\"}, \"bgcolor\": \"#E5ECF6\", \"caxis\": {\"gridcolor\": \"white\", \"linecolor\": \"white\", \"ticks\": \"\"}}, \"title\": {\"x\": 0.05}, \"xaxis\": {\"automargin\": true, \"gridcolor\": \"white\", \"linecolor\": \"white\", \"ticks\": \"\", \"title\": {\"standoff\": 15}, \"zerolinecolor\": \"white\", \"zerolinewidth\": 2}, \"yaxis\": {\"automargin\": true, \"gridcolor\": \"white\", \"linecolor\": \"white\", \"ticks\": \"\", \"title\": {\"standoff\": 15}, \"zerolinecolor\": \"white\", \"zerolinewidth\": 2}}}, \"width\": 800, \"xaxis\": {\"anchor\": \"y\", \"domain\": [0.0, 1.0], \"range\": [0, 89496], \"title\": {\"text\": \"Confirmed\"}}, \"yaxis\": {\"anchor\": \"x\", \"domain\": [0.0, 1.0], \"title\": {\"text\": \"Country_Region\"}}},\n",
       "                        {\"responsive\": true}\n",
       "                    ).then(function(){\n",
       "                            \n",
       "var gd = document.getElementById('6b85b688-f4bc-4d2d-ab4e-7214812f4440');\n",
       "var x = new MutationObserver(function (mutations, observer) {{\n",
       "        var display = window.getComputedStyle(gd).display;\n",
       "        if (!display || display === 'none') {{\n",
       "            console.log([gd, 'removed!']);\n",
       "            Plotly.purge(gd);\n",
       "            observer.disconnect();\n",
       "        }}\n",
       "}});\n",
       "\n",
       "// Listen for the removal of the full notebook cells\n",
       "var notebookContainer = gd.closest('#notebook-container');\n",
       "if (notebookContainer) {{\n",
       "    x.observe(notebookContainer, {childList: true});\n",
       "}}\n",
       "\n",
       "// Listen for the clearing of the current output cell\n",
       "var outputEl = gd.closest('.output');\n",
       "if (outputEl) {{\n",
       "    x.observe(outputEl, {childList: true});\n",
       "}}\n",
       "\n",
       "                        })\n",
       "                };\n",
       "                });\n",
       "            </script>\n",
       "        </div>"
      ]
     },
     "metadata": {},
     "output_type": "display_data"
    }
   ],
   "source": [
    "top10Confirmed = px.bar(classement.sort_values('Confirmed', ascending=False).head(10).sort_values('Confirmed', ascending=True), \n",
    "             x=\"Confirmed\", y=\"Country_Region\", text='Confirmed', orientation='h', \n",
    "             width=800, height=500, range_x = [0, max(classement['Confirmed'])+8000])\n",
    "top10Confirmed.update_traces(marker_color=colorYellow, opacity=0.6, textposition='outside')\n",
    "iplot(top10Confirmed)\n"
   ]
  },
  {
   "cell_type": "markdown",
   "metadata": {},
   "source": [
    "### Soignés"
   ]
  },
  {
   "cell_type": "code",
   "execution_count": 19,
   "metadata": {},
   "outputs": [
    {
     "data": {
      "application/vnd.plotly.v1+json": {
       "config": {
        "linkText": "Export to plot.ly",
        "plotlyServerURL": "https://plot.ly",
        "showLink": false
       },
       "data": [
        {
         "alignmentgroup": "True",
         "hoverlabel": {
          "namelength": 0
         },
         "hovertemplate": "Recovered=%{text}<br>Country_Region=%{y}",
         "legendgroup": "",
         "marker": {
          "color": "#21bf73"
         },
         "name": "",
         "offsetgroup": "",
         "opacity": 0.6,
         "orientation": "h",
         "showlegend": false,
         "text": [
          235,
          401,
          453,
          567,
          2207,
          3166,
          3355,
          7432,
          8376,
          72819
         ],
         "textposition": "outside",
         "type": "bar",
         "x": [
          235,
          401,
          453,
          567,
          2207,
          3166,
          3355,
          7432,
          8376,
          72819
         ],
         "xaxis": "x",
         "y": [
          "Japan",
          "Belgium",
          "Germany",
          "Cruise Ship",
          "France",
          "Korea, South",
          "Spain",
          "Italy",
          "Iran",
          "China"
         ],
         "yaxis": "y"
        }
       ],
       "layout": {
        "barmode": "relative",
        "height": 500,
        "legend": {
         "tracegroupgap": 0
        },
        "margin": {
         "t": 60
        },
        "template": {
         "data": {
          "bar": [
           {
            "error_x": {
             "color": "#2a3f5f"
            },
            "error_y": {
             "color": "#2a3f5f"
            },
            "marker": {
             "line": {
              "color": "#E5ECF6",
              "width": 0.5
             }
            },
            "type": "bar"
           }
          ],
          "barpolar": [
           {
            "marker": {
             "line": {
              "color": "#E5ECF6",
              "width": 0.5
             }
            },
            "type": "barpolar"
           }
          ],
          "carpet": [
           {
            "aaxis": {
             "endlinecolor": "#2a3f5f",
             "gridcolor": "white",
             "linecolor": "white",
             "minorgridcolor": "white",
             "startlinecolor": "#2a3f5f"
            },
            "baxis": {
             "endlinecolor": "#2a3f5f",
             "gridcolor": "white",
             "linecolor": "white",
             "minorgridcolor": "white",
             "startlinecolor": "#2a3f5f"
            },
            "type": "carpet"
           }
          ],
          "choropleth": [
           {
            "colorbar": {
             "outlinewidth": 0,
             "ticks": ""
            },
            "type": "choropleth"
           }
          ],
          "contour": [
           {
            "colorbar": {
             "outlinewidth": 0,
             "ticks": ""
            },
            "colorscale": [
             [
              0,
              "#0d0887"
             ],
             [
              0.1111111111111111,
              "#46039f"
             ],
             [
              0.2222222222222222,
              "#7201a8"
             ],
             [
              0.3333333333333333,
              "#9c179e"
             ],
             [
              0.4444444444444444,
              "#bd3786"
             ],
             [
              0.5555555555555556,
              "#d8576b"
             ],
             [
              0.6666666666666666,
              "#ed7953"
             ],
             [
              0.7777777777777778,
              "#fb9f3a"
             ],
             [
              0.8888888888888888,
              "#fdca26"
             ],
             [
              1,
              "#f0f921"
             ]
            ],
            "type": "contour"
           }
          ],
          "contourcarpet": [
           {
            "colorbar": {
             "outlinewidth": 0,
             "ticks": ""
            },
            "type": "contourcarpet"
           }
          ],
          "heatmap": [
           {
            "colorbar": {
             "outlinewidth": 0,
             "ticks": ""
            },
            "colorscale": [
             [
              0,
              "#0d0887"
             ],
             [
              0.1111111111111111,
              "#46039f"
             ],
             [
              0.2222222222222222,
              "#7201a8"
             ],
             [
              0.3333333333333333,
              "#9c179e"
             ],
             [
              0.4444444444444444,
              "#bd3786"
             ],
             [
              0.5555555555555556,
              "#d8576b"
             ],
             [
              0.6666666666666666,
              "#ed7953"
             ],
             [
              0.7777777777777778,
              "#fb9f3a"
             ],
             [
              0.8888888888888888,
              "#fdca26"
             ],
             [
              1,
              "#f0f921"
             ]
            ],
            "type": "heatmap"
           }
          ],
          "heatmapgl": [
           {
            "colorbar": {
             "outlinewidth": 0,
             "ticks": ""
            },
            "colorscale": [
             [
              0,
              "#0d0887"
             ],
             [
              0.1111111111111111,
              "#46039f"
             ],
             [
              0.2222222222222222,
              "#7201a8"
             ],
             [
              0.3333333333333333,
              "#9c179e"
             ],
             [
              0.4444444444444444,
              "#bd3786"
             ],
             [
              0.5555555555555556,
              "#d8576b"
             ],
             [
              0.6666666666666666,
              "#ed7953"
             ],
             [
              0.7777777777777778,
              "#fb9f3a"
             ],
             [
              0.8888888888888888,
              "#fdca26"
             ],
             [
              1,
              "#f0f921"
             ]
            ],
            "type": "heatmapgl"
           }
          ],
          "histogram": [
           {
            "marker": {
             "colorbar": {
              "outlinewidth": 0,
              "ticks": ""
             }
            },
            "type": "histogram"
           }
          ],
          "histogram2d": [
           {
            "colorbar": {
             "outlinewidth": 0,
             "ticks": ""
            },
            "colorscale": [
             [
              0,
              "#0d0887"
             ],
             [
              0.1111111111111111,
              "#46039f"
             ],
             [
              0.2222222222222222,
              "#7201a8"
             ],
             [
              0.3333333333333333,
              "#9c179e"
             ],
             [
              0.4444444444444444,
              "#bd3786"
             ],
             [
              0.5555555555555556,
              "#d8576b"
             ],
             [
              0.6666666666666666,
              "#ed7953"
             ],
             [
              0.7777777777777778,
              "#fb9f3a"
             ],
             [
              0.8888888888888888,
              "#fdca26"
             ],
             [
              1,
              "#f0f921"
             ]
            ],
            "type": "histogram2d"
           }
          ],
          "histogram2dcontour": [
           {
            "colorbar": {
             "outlinewidth": 0,
             "ticks": ""
            },
            "colorscale": [
             [
              0,
              "#0d0887"
             ],
             [
              0.1111111111111111,
              "#46039f"
             ],
             [
              0.2222222222222222,
              "#7201a8"
             ],
             [
              0.3333333333333333,
              "#9c179e"
             ],
             [
              0.4444444444444444,
              "#bd3786"
             ],
             [
              0.5555555555555556,
              "#d8576b"
             ],
             [
              0.6666666666666666,
              "#ed7953"
             ],
             [
              0.7777777777777778,
              "#fb9f3a"
             ],
             [
              0.8888888888888888,
              "#fdca26"
             ],
             [
              1,
              "#f0f921"
             ]
            ],
            "type": "histogram2dcontour"
           }
          ],
          "mesh3d": [
           {
            "colorbar": {
             "outlinewidth": 0,
             "ticks": ""
            },
            "type": "mesh3d"
           }
          ],
          "parcoords": [
           {
            "line": {
             "colorbar": {
              "outlinewidth": 0,
              "ticks": ""
             }
            },
            "type": "parcoords"
           }
          ],
          "pie": [
           {
            "automargin": true,
            "type": "pie"
           }
          ],
          "scatter": [
           {
            "marker": {
             "colorbar": {
              "outlinewidth": 0,
              "ticks": ""
             }
            },
            "type": "scatter"
           }
          ],
          "scatter3d": [
           {
            "line": {
             "colorbar": {
              "outlinewidth": 0,
              "ticks": ""
             }
            },
            "marker": {
             "colorbar": {
              "outlinewidth": 0,
              "ticks": ""
             }
            },
            "type": "scatter3d"
           }
          ],
          "scattercarpet": [
           {
            "marker": {
             "colorbar": {
              "outlinewidth": 0,
              "ticks": ""
             }
            },
            "type": "scattercarpet"
           }
          ],
          "scattergeo": [
           {
            "marker": {
             "colorbar": {
              "outlinewidth": 0,
              "ticks": ""
             }
            },
            "type": "scattergeo"
           }
          ],
          "scattergl": [
           {
            "marker": {
             "colorbar": {
              "outlinewidth": 0,
              "ticks": ""
             }
            },
            "type": "scattergl"
           }
          ],
          "scattermapbox": [
           {
            "marker": {
             "colorbar": {
              "outlinewidth": 0,
              "ticks": ""
             }
            },
            "type": "scattermapbox"
           }
          ],
          "scatterpolar": [
           {
            "marker": {
             "colorbar": {
              "outlinewidth": 0,
              "ticks": ""
             }
            },
            "type": "scatterpolar"
           }
          ],
          "scatterpolargl": [
           {
            "marker": {
             "colorbar": {
              "outlinewidth": 0,
              "ticks": ""
             }
            },
            "type": "scatterpolargl"
           }
          ],
          "scatterternary": [
           {
            "marker": {
             "colorbar": {
              "outlinewidth": 0,
              "ticks": ""
             }
            },
            "type": "scatterternary"
           }
          ],
          "surface": [
           {
            "colorbar": {
             "outlinewidth": 0,
             "ticks": ""
            },
            "colorscale": [
             [
              0,
              "#0d0887"
             ],
             [
              0.1111111111111111,
              "#46039f"
             ],
             [
              0.2222222222222222,
              "#7201a8"
             ],
             [
              0.3333333333333333,
              "#9c179e"
             ],
             [
              0.4444444444444444,
              "#bd3786"
             ],
             [
              0.5555555555555556,
              "#d8576b"
             ],
             [
              0.6666666666666666,
              "#ed7953"
             ],
             [
              0.7777777777777778,
              "#fb9f3a"
             ],
             [
              0.8888888888888888,
              "#fdca26"
             ],
             [
              1,
              "#f0f921"
             ]
            ],
            "type": "surface"
           }
          ],
          "table": [
           {
            "cells": {
             "fill": {
              "color": "#EBF0F8"
             },
             "line": {
              "color": "white"
             }
            },
            "header": {
             "fill": {
              "color": "#C8D4E3"
             },
             "line": {
              "color": "white"
             }
            },
            "type": "table"
           }
          ]
         },
         "layout": {
          "annotationdefaults": {
           "arrowcolor": "#2a3f5f",
           "arrowhead": 0,
           "arrowwidth": 1
          },
          "coloraxis": {
           "colorbar": {
            "outlinewidth": 0,
            "ticks": ""
           }
          },
          "colorscale": {
           "diverging": [
            [
             0,
             "#8e0152"
            ],
            [
             0.1,
             "#c51b7d"
            ],
            [
             0.2,
             "#de77ae"
            ],
            [
             0.3,
             "#f1b6da"
            ],
            [
             0.4,
             "#fde0ef"
            ],
            [
             0.5,
             "#f7f7f7"
            ],
            [
             0.6,
             "#e6f5d0"
            ],
            [
             0.7,
             "#b8e186"
            ],
            [
             0.8,
             "#7fbc41"
            ],
            [
             0.9,
             "#4d9221"
            ],
            [
             1,
             "#276419"
            ]
           ],
           "sequential": [
            [
             0,
             "#0d0887"
            ],
            [
             0.1111111111111111,
             "#46039f"
            ],
            [
             0.2222222222222222,
             "#7201a8"
            ],
            [
             0.3333333333333333,
             "#9c179e"
            ],
            [
             0.4444444444444444,
             "#bd3786"
            ],
            [
             0.5555555555555556,
             "#d8576b"
            ],
            [
             0.6666666666666666,
             "#ed7953"
            ],
            [
             0.7777777777777778,
             "#fb9f3a"
            ],
            [
             0.8888888888888888,
             "#fdca26"
            ],
            [
             1,
             "#f0f921"
            ]
           ],
           "sequentialminus": [
            [
             0,
             "#0d0887"
            ],
            [
             0.1111111111111111,
             "#46039f"
            ],
            [
             0.2222222222222222,
             "#7201a8"
            ],
            [
             0.3333333333333333,
             "#9c179e"
            ],
            [
             0.4444444444444444,
             "#bd3786"
            ],
            [
             0.5555555555555556,
             "#d8576b"
            ],
            [
             0.6666666666666666,
             "#ed7953"
            ],
            [
             0.7777777777777778,
             "#fb9f3a"
            ],
            [
             0.8888888888888888,
             "#fdca26"
            ],
            [
             1,
             "#f0f921"
            ]
           ]
          },
          "colorway": [
           "#636efa",
           "#EF553B",
           "#00cc96",
           "#ab63fa",
           "#FFA15A",
           "#19d3f3",
           "#FF6692",
           "#B6E880",
           "#FF97FF",
           "#FECB52"
          ],
          "font": {
           "color": "#2a3f5f"
          },
          "geo": {
           "bgcolor": "white",
           "lakecolor": "white",
           "landcolor": "#E5ECF6",
           "showlakes": true,
           "showland": true,
           "subunitcolor": "white"
          },
          "hoverlabel": {
           "align": "left"
          },
          "hovermode": "closest",
          "mapbox": {
           "style": "light"
          },
          "paper_bgcolor": "white",
          "plot_bgcolor": "#E5ECF6",
          "polar": {
           "angularaxis": {
            "gridcolor": "white",
            "linecolor": "white",
            "ticks": ""
           },
           "bgcolor": "#E5ECF6",
           "radialaxis": {
            "gridcolor": "white",
            "linecolor": "white",
            "ticks": ""
           }
          },
          "scene": {
           "xaxis": {
            "backgroundcolor": "#E5ECF6",
            "gridcolor": "white",
            "gridwidth": 2,
            "linecolor": "white",
            "showbackground": true,
            "ticks": "",
            "zerolinecolor": "white"
           },
           "yaxis": {
            "backgroundcolor": "#E5ECF6",
            "gridcolor": "white",
            "gridwidth": 2,
            "linecolor": "white",
            "showbackground": true,
            "ticks": "",
            "zerolinecolor": "white"
           },
           "zaxis": {
            "backgroundcolor": "#E5ECF6",
            "gridcolor": "white",
            "gridwidth": 2,
            "linecolor": "white",
            "showbackground": true,
            "ticks": "",
            "zerolinecolor": "white"
           }
          },
          "shapedefaults": {
           "line": {
            "color": "#2a3f5f"
           }
          },
          "ternary": {
           "aaxis": {
            "gridcolor": "white",
            "linecolor": "white",
            "ticks": ""
           },
           "baxis": {
            "gridcolor": "white",
            "linecolor": "white",
            "ticks": ""
           },
           "bgcolor": "#E5ECF6",
           "caxis": {
            "gridcolor": "white",
            "linecolor": "white",
            "ticks": ""
           }
          },
          "title": {
           "x": 0.05
          },
          "xaxis": {
           "automargin": true,
           "gridcolor": "white",
           "linecolor": "white",
           "ticks": "",
           "title": {
            "standoff": 15
           },
           "zerolinecolor": "white",
           "zerolinewidth": 2
          },
          "yaxis": {
           "automargin": true,
           "gridcolor": "white",
           "linecolor": "white",
           "ticks": "",
           "title": {
            "standoff": 15
           },
           "zerolinecolor": "white",
           "zerolinewidth": 2
          }
         }
        },
        "width": 800,
        "xaxis": {
         "anchor": "y",
         "domain": [
          0,
          1
         ],
         "range": [
          0,
          78819
         ],
         "title": {
          "text": "Recovered"
         }
        },
        "yaxis": {
         "anchor": "x",
         "domain": [
          0,
          1
         ],
         "title": {
          "text": "Country_Region"
         }
        }
       }
      },
      "text/html": [
       "<div>\n",
       "        \n",
       "        \n",
       "            <div id=\"e70f4fe7-c37d-4084-9075-bf299415dd66\" class=\"plotly-graph-div\" style=\"height:500px; width:800px;\"></div>\n",
       "            <script type=\"text/javascript\">\n",
       "                require([\"plotly\"], function(Plotly) {\n",
       "                    window.PLOTLYENV=window.PLOTLYENV || {};\n",
       "                    \n",
       "                if (document.getElementById(\"e70f4fe7-c37d-4084-9075-bf299415dd66\")) {\n",
       "                    Plotly.newPlot(\n",
       "                        'e70f4fe7-c37d-4084-9075-bf299415dd66',\n",
       "                        [{\"alignmentgroup\": \"True\", \"hoverlabel\": {\"namelength\": 0}, \"hovertemplate\": \"Recovered=%{text}<br>Country_Region=%{y}\", \"legendgroup\": \"\", \"marker\": {\"color\": \"#21bf73\"}, \"name\": \"\", \"offsetgroup\": \"\", \"opacity\": 0.6, \"orientation\": \"h\", \"showlegend\": false, \"text\": [235.0, 401.0, 453.0, 567.0, 2207.0, 3166.0, 3355.0, 7432.0, 8376.0, 72819.0], \"textposition\": \"outside\", \"type\": \"bar\", \"x\": [235, 401, 453, 567, 2207, 3166, 3355, 7432, 8376, 72819], \"xaxis\": \"x\", \"y\": [\"Japan\", \"Belgium\", \"Germany\", \"Cruise Ship\", \"France\", \"Korea, South\", \"Spain\", \"Italy\", \"Iran\", \"China\"], \"yaxis\": \"y\"}],\n",
       "                        {\"barmode\": \"relative\", \"height\": 500, \"legend\": {\"tracegroupgap\": 0}, \"margin\": {\"t\": 60}, \"template\": {\"data\": {\"bar\": [{\"error_x\": {\"color\": \"#2a3f5f\"}, \"error_y\": {\"color\": \"#2a3f5f\"}, \"marker\": {\"line\": {\"color\": \"#E5ECF6\", \"width\": 0.5}}, \"type\": \"bar\"}], \"barpolar\": [{\"marker\": {\"line\": {\"color\": \"#E5ECF6\", \"width\": 0.5}}, \"type\": \"barpolar\"}], \"carpet\": [{\"aaxis\": {\"endlinecolor\": \"#2a3f5f\", \"gridcolor\": \"white\", \"linecolor\": \"white\", \"minorgridcolor\": \"white\", \"startlinecolor\": \"#2a3f5f\"}, \"baxis\": {\"endlinecolor\": \"#2a3f5f\", \"gridcolor\": \"white\", \"linecolor\": \"white\", \"minorgridcolor\": \"white\", \"startlinecolor\": \"#2a3f5f\"}, \"type\": \"carpet\"}], \"choropleth\": [{\"colorbar\": {\"outlinewidth\": 0, \"ticks\": \"\"}, \"type\": \"choropleth\"}], \"contour\": [{\"colorbar\": {\"outlinewidth\": 0, \"ticks\": \"\"}, \"colorscale\": [[0.0, \"#0d0887\"], [0.1111111111111111, \"#46039f\"], [0.2222222222222222, \"#7201a8\"], [0.3333333333333333, \"#9c179e\"], [0.4444444444444444, \"#bd3786\"], [0.5555555555555556, \"#d8576b\"], [0.6666666666666666, \"#ed7953\"], [0.7777777777777778, \"#fb9f3a\"], [0.8888888888888888, \"#fdca26\"], [1.0, \"#f0f921\"]], \"type\": \"contour\"}], \"contourcarpet\": [{\"colorbar\": {\"outlinewidth\": 0, \"ticks\": \"\"}, \"type\": \"contourcarpet\"}], \"heatmap\": [{\"colorbar\": {\"outlinewidth\": 0, \"ticks\": \"\"}, \"colorscale\": [[0.0, \"#0d0887\"], [0.1111111111111111, \"#46039f\"], [0.2222222222222222, \"#7201a8\"], [0.3333333333333333, \"#9c179e\"], [0.4444444444444444, \"#bd3786\"], [0.5555555555555556, \"#d8576b\"], [0.6666666666666666, \"#ed7953\"], [0.7777777777777778, \"#fb9f3a\"], [0.8888888888888888, \"#fdca26\"], [1.0, \"#f0f921\"]], \"type\": \"heatmap\"}], \"heatmapgl\": [{\"colorbar\": {\"outlinewidth\": 0, \"ticks\": \"\"}, \"colorscale\": [[0.0, \"#0d0887\"], [0.1111111111111111, \"#46039f\"], [0.2222222222222222, \"#7201a8\"], [0.3333333333333333, \"#9c179e\"], [0.4444444444444444, \"#bd3786\"], [0.5555555555555556, \"#d8576b\"], [0.6666666666666666, \"#ed7953\"], [0.7777777777777778, \"#fb9f3a\"], [0.8888888888888888, \"#fdca26\"], [1.0, \"#f0f921\"]], \"type\": \"heatmapgl\"}], \"histogram\": [{\"marker\": {\"colorbar\": {\"outlinewidth\": 0, \"ticks\": \"\"}}, \"type\": \"histogram\"}], \"histogram2d\": [{\"colorbar\": {\"outlinewidth\": 0, \"ticks\": \"\"}, \"colorscale\": [[0.0, \"#0d0887\"], [0.1111111111111111, \"#46039f\"], [0.2222222222222222, \"#7201a8\"], [0.3333333333333333, \"#9c179e\"], [0.4444444444444444, \"#bd3786\"], [0.5555555555555556, \"#d8576b\"], [0.6666666666666666, \"#ed7953\"], [0.7777777777777778, \"#fb9f3a\"], [0.8888888888888888, \"#fdca26\"], [1.0, \"#f0f921\"]], \"type\": \"histogram2d\"}], \"histogram2dcontour\": [{\"colorbar\": {\"outlinewidth\": 0, \"ticks\": \"\"}, \"colorscale\": [[0.0, \"#0d0887\"], [0.1111111111111111, \"#46039f\"], [0.2222222222222222, \"#7201a8\"], [0.3333333333333333, \"#9c179e\"], [0.4444444444444444, \"#bd3786\"], [0.5555555555555556, \"#d8576b\"], [0.6666666666666666, \"#ed7953\"], [0.7777777777777778, \"#fb9f3a\"], [0.8888888888888888, \"#fdca26\"], [1.0, \"#f0f921\"]], \"type\": \"histogram2dcontour\"}], \"mesh3d\": [{\"colorbar\": {\"outlinewidth\": 0, \"ticks\": \"\"}, \"type\": \"mesh3d\"}], \"parcoords\": [{\"line\": {\"colorbar\": {\"outlinewidth\": 0, \"ticks\": \"\"}}, \"type\": \"parcoords\"}], \"pie\": [{\"automargin\": true, \"type\": \"pie\"}], \"scatter\": [{\"marker\": {\"colorbar\": {\"outlinewidth\": 0, \"ticks\": \"\"}}, \"type\": \"scatter\"}], \"scatter3d\": [{\"line\": {\"colorbar\": {\"outlinewidth\": 0, \"ticks\": \"\"}}, \"marker\": {\"colorbar\": {\"outlinewidth\": 0, \"ticks\": \"\"}}, \"type\": \"scatter3d\"}], \"scattercarpet\": [{\"marker\": {\"colorbar\": {\"outlinewidth\": 0, \"ticks\": \"\"}}, \"type\": \"scattercarpet\"}], \"scattergeo\": [{\"marker\": {\"colorbar\": {\"outlinewidth\": 0, \"ticks\": \"\"}}, \"type\": \"scattergeo\"}], \"scattergl\": [{\"marker\": {\"colorbar\": {\"outlinewidth\": 0, \"ticks\": \"\"}}, \"type\": \"scattergl\"}], \"scattermapbox\": [{\"marker\": {\"colorbar\": {\"outlinewidth\": 0, \"ticks\": \"\"}}, \"type\": \"scattermapbox\"}], \"scatterpolar\": [{\"marker\": {\"colorbar\": {\"outlinewidth\": 0, \"ticks\": \"\"}}, \"type\": \"scatterpolar\"}], \"scatterpolargl\": [{\"marker\": {\"colorbar\": {\"outlinewidth\": 0, \"ticks\": \"\"}}, \"type\": \"scatterpolargl\"}], \"scatterternary\": [{\"marker\": {\"colorbar\": {\"outlinewidth\": 0, \"ticks\": \"\"}}, \"type\": \"scatterternary\"}], \"surface\": [{\"colorbar\": {\"outlinewidth\": 0, \"ticks\": \"\"}, \"colorscale\": [[0.0, \"#0d0887\"], [0.1111111111111111, \"#46039f\"], [0.2222222222222222, \"#7201a8\"], [0.3333333333333333, \"#9c179e\"], [0.4444444444444444, \"#bd3786\"], [0.5555555555555556, \"#d8576b\"], [0.6666666666666666, \"#ed7953\"], [0.7777777777777778, \"#fb9f3a\"], [0.8888888888888888, \"#fdca26\"], [1.0, \"#f0f921\"]], \"type\": \"surface\"}], \"table\": [{\"cells\": {\"fill\": {\"color\": \"#EBF0F8\"}, \"line\": {\"color\": \"white\"}}, \"header\": {\"fill\": {\"color\": \"#C8D4E3\"}, \"line\": {\"color\": \"white\"}}, \"type\": \"table\"}]}, \"layout\": {\"annotationdefaults\": {\"arrowcolor\": \"#2a3f5f\", \"arrowhead\": 0, \"arrowwidth\": 1}, \"coloraxis\": {\"colorbar\": {\"outlinewidth\": 0, \"ticks\": \"\"}}, \"colorscale\": {\"diverging\": [[0, \"#8e0152\"], [0.1, \"#c51b7d\"], [0.2, \"#de77ae\"], [0.3, \"#f1b6da\"], [0.4, \"#fde0ef\"], [0.5, \"#f7f7f7\"], [0.6, \"#e6f5d0\"], [0.7, \"#b8e186\"], [0.8, \"#7fbc41\"], [0.9, \"#4d9221\"], [1, \"#276419\"]], \"sequential\": [[0.0, \"#0d0887\"], [0.1111111111111111, \"#46039f\"], [0.2222222222222222, \"#7201a8\"], [0.3333333333333333, \"#9c179e\"], [0.4444444444444444, \"#bd3786\"], [0.5555555555555556, \"#d8576b\"], [0.6666666666666666, \"#ed7953\"], [0.7777777777777778, \"#fb9f3a\"], [0.8888888888888888, \"#fdca26\"], [1.0, \"#f0f921\"]], \"sequentialminus\": [[0.0, \"#0d0887\"], [0.1111111111111111, \"#46039f\"], [0.2222222222222222, \"#7201a8\"], [0.3333333333333333, \"#9c179e\"], [0.4444444444444444, \"#bd3786\"], [0.5555555555555556, \"#d8576b\"], [0.6666666666666666, \"#ed7953\"], [0.7777777777777778, \"#fb9f3a\"], [0.8888888888888888, \"#fdca26\"], [1.0, \"#f0f921\"]]}, \"colorway\": [\"#636efa\", \"#EF553B\", \"#00cc96\", \"#ab63fa\", \"#FFA15A\", \"#19d3f3\", \"#FF6692\", \"#B6E880\", \"#FF97FF\", \"#FECB52\"], \"font\": {\"color\": \"#2a3f5f\"}, \"geo\": {\"bgcolor\": \"white\", \"lakecolor\": \"white\", \"landcolor\": \"#E5ECF6\", \"showlakes\": true, \"showland\": true, \"subunitcolor\": \"white\"}, \"hoverlabel\": {\"align\": \"left\"}, \"hovermode\": \"closest\", \"mapbox\": {\"style\": \"light\"}, \"paper_bgcolor\": \"white\", \"plot_bgcolor\": \"#E5ECF6\", \"polar\": {\"angularaxis\": {\"gridcolor\": \"white\", \"linecolor\": \"white\", \"ticks\": \"\"}, \"bgcolor\": \"#E5ECF6\", \"radialaxis\": {\"gridcolor\": \"white\", \"linecolor\": \"white\", \"ticks\": \"\"}}, \"scene\": {\"xaxis\": {\"backgroundcolor\": \"#E5ECF6\", \"gridcolor\": \"white\", \"gridwidth\": 2, \"linecolor\": \"white\", \"showbackground\": true, \"ticks\": \"\", \"zerolinecolor\": \"white\"}, \"yaxis\": {\"backgroundcolor\": \"#E5ECF6\", \"gridcolor\": \"white\", \"gridwidth\": 2, \"linecolor\": \"white\", \"showbackground\": true, \"ticks\": \"\", \"zerolinecolor\": \"white\"}, \"zaxis\": {\"backgroundcolor\": \"#E5ECF6\", \"gridcolor\": \"white\", \"gridwidth\": 2, \"linecolor\": \"white\", \"showbackground\": true, \"ticks\": \"\", \"zerolinecolor\": \"white\"}}, \"shapedefaults\": {\"line\": {\"color\": \"#2a3f5f\"}}, \"ternary\": {\"aaxis\": {\"gridcolor\": \"white\", \"linecolor\": \"white\", \"ticks\": \"\"}, \"baxis\": {\"gridcolor\": \"white\", \"linecolor\": \"white\", \"ticks\": \"\"}, \"bgcolor\": \"#E5ECF6\", \"caxis\": {\"gridcolor\": \"white\", \"linecolor\": \"white\", \"ticks\": \"\"}}, \"title\": {\"x\": 0.05}, \"xaxis\": {\"automargin\": true, \"gridcolor\": \"white\", \"linecolor\": \"white\", \"ticks\": \"\", \"title\": {\"standoff\": 15}, \"zerolinecolor\": \"white\", \"zerolinewidth\": 2}, \"yaxis\": {\"automargin\": true, \"gridcolor\": \"white\", \"linecolor\": \"white\", \"ticks\": \"\", \"title\": {\"standoff\": 15}, \"zerolinecolor\": \"white\", \"zerolinewidth\": 2}}}, \"width\": 800, \"xaxis\": {\"anchor\": \"y\", \"domain\": [0.0, 1.0], \"range\": [0, 78819], \"title\": {\"text\": \"Recovered\"}}, \"yaxis\": {\"anchor\": \"x\", \"domain\": [0.0, 1.0], \"title\": {\"text\": \"Country_Region\"}}},\n",
       "                        {\"responsive\": true}\n",
       "                    ).then(function(){\n",
       "                            \n",
       "var gd = document.getElementById('e70f4fe7-c37d-4084-9075-bf299415dd66');\n",
       "var x = new MutationObserver(function (mutations, observer) {{\n",
       "        var display = window.getComputedStyle(gd).display;\n",
       "        if (!display || display === 'none') {{\n",
       "            console.log([gd, 'removed!']);\n",
       "            Plotly.purge(gd);\n",
       "            observer.disconnect();\n",
       "        }}\n",
       "}});\n",
       "\n",
       "// Listen for the removal of the full notebook cells\n",
       "var notebookContainer = gd.closest('#notebook-container');\n",
       "if (notebookContainer) {{\n",
       "    x.observe(notebookContainer, {childList: true});\n",
       "}}\n",
       "\n",
       "// Listen for the clearing of the current output cell\n",
       "var outputEl = gd.closest('.output');\n",
       "if (outputEl) {{\n",
       "    x.observe(outputEl, {childList: true});\n",
       "}}\n",
       "\n",
       "                        })\n",
       "                };\n",
       "                });\n",
       "            </script>\n",
       "        </div>"
      ]
     },
     "metadata": {},
     "output_type": "display_data"
    }
   ],
   "source": [
    "top10Recovered = px.bar(classement.sort_values('Recovered', ascending=False).head(10).sort_values('Recovered', ascending=True), \n",
    "             x=\"Recovered\", y=\"Country_Region\", text='Recovered', orientation='h', \n",
    "             width=800, height=500, range_x = [0, max(classement['Recovered'])+6000])\n",
    "top10Recovered.update_traces(marker_color=colorCyan, opacity=0.6, textposition='outside')\n",
    "iplot(top10Recovered)"
   ]
  },
  {
   "cell_type": "markdown",
   "metadata": {},
   "source": [
    "## Comparatif de tout cas confondu"
   ]
  },
  {
   "cell_type": "code",
   "execution_count": 20,
   "metadata": {},
   "outputs": [
    {
     "data": {
      "application/vnd.plotly.v1+json": {
       "config": {
        "linkText": "Export to plot.ly",
        "plotlyServerURL": "https://plot.ly",
        "showLink": false
       },
       "data": [
        {
         "alignmentgroup": "True",
         "hoverlabel": {
          "namelength": 0
         },
         "hovertemplate": "Type=Confirmed<br>Date=%{x}<br>Nombre de cas=%{y}",
         "legendgroup": "Confirmed",
         "marker": {
          "color": "#fe9801"
         },
         "name": "Confirmed",
         "offsetgroup": "Confirmed",
         "orientation": "v",
         "showlegend": true,
         "textposition": "auto",
         "type": "bar",
         "x": [
          "1/22/20",
          "1/23/20",
          "1/24/20",
          "1/25/20",
          "1/26/20",
          "1/27/20",
          "1/28/20",
          "1/29/20",
          "1/30/20",
          "1/31/20",
          "2/1/20",
          "2/2/20",
          "2/3/20",
          "2/4/20",
          "2/5/20",
          "2/6/20",
          "2/7/20",
          "2/8/20",
          "2/9/20",
          "2/10/20",
          "2/11/20",
          "2/12/20",
          "2/13/20",
          "2/14/20",
          "2/15/20",
          "2/16/20",
          "2/17/20",
          "2/18/20",
          "2/19/20",
          "2/20/20",
          "2/21/20",
          "2/22/20",
          "2/23/20",
          "2/24/20",
          "2/25/20",
          "2/26/20",
          "2/27/20",
          "2/28/20",
          "2/29/20",
          "3/1/20",
          "3/2/20",
          "3/3/20",
          "3/4/20",
          "3/5/20",
          "3/6/20",
          "3/7/20",
          "3/8/20",
          "3/9/20",
          "3/10/20",
          "3/11/20",
          "3/12/20",
          "3/13/20",
          "3/14/20",
          "3/15/20",
          "3/16/20",
          "3/17/20",
          "3/18/20",
          "3/19/20",
          "3/20/20",
          "3/21/20",
          "3/22/20",
          "3/23/20"
         ],
         "xaxis": "x",
         "y": [
          555,
          653,
          941,
          1434,
          2118,
          2927,
          5578,
          6166,
          8234,
          9927,
          12038,
          16787,
          19881,
          23892,
          27635,
          30817,
          34391,
          37120,
          40150,
          42762,
          44802,
          45221,
          60368,
          66885,
          69030,
          71224,
          73258,
          75136,
          75639,
          76197,
          76823,
          78579,
          78965,
          79568,
          80413,
          81395,
          82754,
          84120,
          86011,
          88369,
          90306,
          92840,
          95120,
          97882,
          101784,
          105821,
          109795,
          113561,
          118592,
          125865,
          128343,
          145193,
          156094,
          167446,
          181527,
          197142,
          214910,
          242708,
          272166,
          304524,
          335955,
          336004
         ],
         "yaxis": "y"
        },
        {
         "alignmentgroup": "True",
         "hoverlabel": {
          "namelength": 0
         },
         "hovertemplate": "Type=Deaths<br>Date=%{x}<br>Nombre de cas=%{y}",
         "legendgroup": "Deaths",
         "marker": {
          "color": "#ff2e63"
         },
         "name": "Deaths",
         "offsetgroup": "Deaths",
         "orientation": "v",
         "showlegend": true,
         "textposition": "auto",
         "type": "bar",
         "x": [
          "1/22/20",
          "1/23/20",
          "1/24/20",
          "1/25/20",
          "1/26/20",
          "1/27/20",
          "1/28/20",
          "1/29/20",
          "1/30/20",
          "1/31/20",
          "2/1/20",
          "2/2/20",
          "2/3/20",
          "2/4/20",
          "2/5/20",
          "2/6/20",
          "2/7/20",
          "2/8/20",
          "2/9/20",
          "2/10/20",
          "2/11/20",
          "2/12/20",
          "2/13/20",
          "2/14/20",
          "2/15/20",
          "2/16/20",
          "2/17/20",
          "2/18/20",
          "2/19/20",
          "2/20/20",
          "2/21/20",
          "2/22/20",
          "2/23/20",
          "2/24/20",
          "2/25/20",
          "2/26/20",
          "2/27/20",
          "2/28/20",
          "2/29/20",
          "3/1/20",
          "3/2/20",
          "3/3/20",
          "3/4/20",
          "3/5/20",
          "3/6/20",
          "3/7/20",
          "3/8/20",
          "3/9/20",
          "3/10/20",
          "3/11/20",
          "3/12/20",
          "3/13/20",
          "3/14/20",
          "3/15/20",
          "3/16/20",
          "3/17/20",
          "3/18/20",
          "3/19/20",
          "3/20/20",
          "3/21/20",
          "3/22/20",
          "3/23/20"
         ],
         "xaxis": "x",
         "y": [
          17,
          18,
          26,
          42,
          56,
          82,
          131,
          133,
          171,
          213,
          259,
          362,
          426,
          492,
          564,
          634,
          719,
          806,
          906,
          1013,
          1113,
          1118,
          1371,
          1523,
          1666,
          1770,
          1868,
          2007,
          2122,
          2247,
          2251,
          2458,
          2469,
          2629,
          2708,
          2770,
          2814,
          2872,
          2941,
          2996,
          3085,
          3160,
          3254,
          3348,
          3460,
          3558,
          3802,
          3988,
          4262,
          4615,
          4720,
          5404,
          5819,
          6440,
          7126,
          7905,
          8733,
          9867,
          11299,
          12973,
          14632,
          14643
         ],
         "yaxis": "y"
        },
        {
         "alignmentgroup": "True",
         "hoverlabel": {
          "namelength": 0
         },
         "hovertemplate": "Type=Recovered<br>Date=%{x}<br>Nombre de cas=%{y}",
         "legendgroup": "Recovered",
         "marker": {
          "color": "#21bf73"
         },
         "name": "Recovered",
         "offsetgroup": "Recovered",
         "orientation": "v",
         "showlegend": true,
         "textposition": "auto",
         "type": "bar",
         "x": [
          "1/22/20",
          "1/23/20",
          "1/24/20",
          "1/25/20",
          "1/26/20",
          "1/27/20",
          "1/28/20",
          "1/29/20",
          "1/30/20",
          "1/31/20",
          "2/1/20",
          "2/2/20",
          "2/3/20",
          "2/4/20",
          "2/5/20",
          "2/6/20",
          "2/7/20",
          "2/8/20",
          "2/9/20",
          "2/10/20",
          "2/11/20",
          "2/12/20",
          "2/13/20",
          "2/14/20",
          "2/15/20",
          "2/16/20",
          "2/17/20",
          "2/18/20",
          "2/19/20",
          "2/20/20",
          "2/21/20",
          "2/22/20",
          "2/23/20",
          "2/24/20",
          "2/25/20",
          "2/26/20",
          "2/27/20",
          "2/28/20",
          "2/29/20",
          "3/1/20",
          "3/2/20",
          "3/3/20",
          "3/4/20",
          "3/5/20",
          "3/6/20",
          "3/7/20",
          "3/8/20",
          "3/9/20",
          "3/10/20",
          "3/11/20",
          "3/12/20",
          "3/13/20",
          "3/14/20",
          "3/15/20",
          "3/16/20",
          "3/17/20",
          "3/18/20",
          "3/19/20",
          "3/20/20",
          "3/21/20",
          "3/22/20",
          "3/23/20"
         ],
         "xaxis": "x",
         "y": [
          28,
          30,
          36,
          39,
          52,
          61,
          107,
          126,
          143,
          222,
          284,
          472,
          623,
          852,
          1124,
          1487,
          2011,
          2616,
          3244,
          3946,
          4683,
          5150,
          6295,
          8058,
          9395,
          10865,
          12583,
          14352,
          16121,
          18177,
          18890,
          22886,
          23394,
          25227,
          27905,
          30384,
          33277,
          36711,
          39782,
          42716,
          45602,
          48228,
          51170,
          53796,
          55865,
          58358,
          60694,
          62494,
          64404,
          67003,
          68324,
          70251,
          72624,
          76034,
          78088,
          80840,
          83207,
          84854,
          87256,
          91499,
          97704,
          98334
         ],
         "yaxis": "y"
        },
        {
         "alignmentgroup": "True",
         "hoverlabel": {
          "namelength": 0
         },
         "hovertemplate": "Type=Active<br>Date=%{x}<br>Nombre de cas=%{y}",
         "legendgroup": "Active",
         "marker": {
          "color": "#393e46"
         },
         "name": "Active",
         "offsetgroup": "Active",
         "orientation": "v",
         "showlegend": true,
         "textposition": "auto",
         "type": "bar",
         "x": [
          "1/22/20",
          "1/23/20",
          "1/24/20",
          "1/25/20",
          "1/26/20",
          "1/27/20",
          "1/28/20",
          "1/29/20",
          "1/30/20",
          "1/31/20",
          "2/1/20",
          "2/2/20",
          "2/3/20",
          "2/4/20",
          "2/5/20",
          "2/6/20",
          "2/7/20",
          "2/8/20",
          "2/9/20",
          "2/10/20",
          "2/11/20",
          "2/12/20",
          "2/13/20",
          "2/14/20",
          "2/15/20",
          "2/16/20",
          "2/17/20",
          "2/18/20",
          "2/19/20",
          "2/20/20",
          "2/21/20",
          "2/22/20",
          "2/23/20",
          "2/24/20",
          "2/25/20",
          "2/26/20",
          "2/27/20",
          "2/28/20",
          "2/29/20",
          "3/1/20",
          "3/2/20",
          "3/3/20",
          "3/4/20",
          "3/5/20",
          "3/6/20",
          "3/7/20",
          "3/8/20",
          "3/9/20",
          "3/10/20",
          "3/11/20",
          "3/12/20",
          "3/13/20",
          "3/14/20",
          "3/15/20",
          "3/16/20",
          "3/17/20",
          "3/18/20",
          "3/19/20",
          "3/20/20",
          "3/21/20",
          "3/22/20",
          "3/23/20"
         ],
         "xaxis": "x",
         "y": [
          510,
          605,
          879,
          1353,
          2010,
          2784,
          5340,
          5907,
          7920,
          9492,
          11495,
          15953,
          18832,
          22548,
          25947,
          28696,
          31661,
          33698,
          36000,
          37803,
          39006,
          38953,
          52702,
          57304,
          57969,
          58589,
          58807,
          58777,
          57396,
          55773,
          55682,
          53235,
          53102,
          51712,
          49800,
          48241,
          46663,
          44537,
          43288,
          42657,
          41619,
          41452,
          40696,
          40738,
          42459,
          43905,
          45299,
          47079,
          49926,
          54247,
          55299,
          69538,
          77651,
          84972,
          96313,
          108397,
          122970,
          147987,
          173611,
          200052,
          223619,
          223027
         ],
         "yaxis": "y"
        }
       ],
       "layout": {
        "barmode": "group",
        "legend": {
         "title": {
          "text": "Type"
         },
         "tracegroupgap": 0
        },
        "template": {
         "data": {
          "bar": [
           {
            "error_x": {
             "color": "#2a3f5f"
            },
            "error_y": {
             "color": "#2a3f5f"
            },
            "marker": {
             "line": {
              "color": "#E5ECF6",
              "width": 0.5
             }
            },
            "type": "bar"
           }
          ],
          "barpolar": [
           {
            "marker": {
             "line": {
              "color": "#E5ECF6",
              "width": 0.5
             }
            },
            "type": "barpolar"
           }
          ],
          "carpet": [
           {
            "aaxis": {
             "endlinecolor": "#2a3f5f",
             "gridcolor": "white",
             "linecolor": "white",
             "minorgridcolor": "white",
             "startlinecolor": "#2a3f5f"
            },
            "baxis": {
             "endlinecolor": "#2a3f5f",
             "gridcolor": "white",
             "linecolor": "white",
             "minorgridcolor": "white",
             "startlinecolor": "#2a3f5f"
            },
            "type": "carpet"
           }
          ],
          "choropleth": [
           {
            "colorbar": {
             "outlinewidth": 0,
             "ticks": ""
            },
            "type": "choropleth"
           }
          ],
          "contour": [
           {
            "colorbar": {
             "outlinewidth": 0,
             "ticks": ""
            },
            "colorscale": [
             [
              0,
              "#0d0887"
             ],
             [
              0.1111111111111111,
              "#46039f"
             ],
             [
              0.2222222222222222,
              "#7201a8"
             ],
             [
              0.3333333333333333,
              "#9c179e"
             ],
             [
              0.4444444444444444,
              "#bd3786"
             ],
             [
              0.5555555555555556,
              "#d8576b"
             ],
             [
              0.6666666666666666,
              "#ed7953"
             ],
             [
              0.7777777777777778,
              "#fb9f3a"
             ],
             [
              0.8888888888888888,
              "#fdca26"
             ],
             [
              1,
              "#f0f921"
             ]
            ],
            "type": "contour"
           }
          ],
          "contourcarpet": [
           {
            "colorbar": {
             "outlinewidth": 0,
             "ticks": ""
            },
            "type": "contourcarpet"
           }
          ],
          "heatmap": [
           {
            "colorbar": {
             "outlinewidth": 0,
             "ticks": ""
            },
            "colorscale": [
             [
              0,
              "#0d0887"
             ],
             [
              0.1111111111111111,
              "#46039f"
             ],
             [
              0.2222222222222222,
              "#7201a8"
             ],
             [
              0.3333333333333333,
              "#9c179e"
             ],
             [
              0.4444444444444444,
              "#bd3786"
             ],
             [
              0.5555555555555556,
              "#d8576b"
             ],
             [
              0.6666666666666666,
              "#ed7953"
             ],
             [
              0.7777777777777778,
              "#fb9f3a"
             ],
             [
              0.8888888888888888,
              "#fdca26"
             ],
             [
              1,
              "#f0f921"
             ]
            ],
            "type": "heatmap"
           }
          ],
          "heatmapgl": [
           {
            "colorbar": {
             "outlinewidth": 0,
             "ticks": ""
            },
            "colorscale": [
             [
              0,
              "#0d0887"
             ],
             [
              0.1111111111111111,
              "#46039f"
             ],
             [
              0.2222222222222222,
              "#7201a8"
             ],
             [
              0.3333333333333333,
              "#9c179e"
             ],
             [
              0.4444444444444444,
              "#bd3786"
             ],
             [
              0.5555555555555556,
              "#d8576b"
             ],
             [
              0.6666666666666666,
              "#ed7953"
             ],
             [
              0.7777777777777778,
              "#fb9f3a"
             ],
             [
              0.8888888888888888,
              "#fdca26"
             ],
             [
              1,
              "#f0f921"
             ]
            ],
            "type": "heatmapgl"
           }
          ],
          "histogram": [
           {
            "marker": {
             "colorbar": {
              "outlinewidth": 0,
              "ticks": ""
             }
            },
            "type": "histogram"
           }
          ],
          "histogram2d": [
           {
            "colorbar": {
             "outlinewidth": 0,
             "ticks": ""
            },
            "colorscale": [
             [
              0,
              "#0d0887"
             ],
             [
              0.1111111111111111,
              "#46039f"
             ],
             [
              0.2222222222222222,
              "#7201a8"
             ],
             [
              0.3333333333333333,
              "#9c179e"
             ],
             [
              0.4444444444444444,
              "#bd3786"
             ],
             [
              0.5555555555555556,
              "#d8576b"
             ],
             [
              0.6666666666666666,
              "#ed7953"
             ],
             [
              0.7777777777777778,
              "#fb9f3a"
             ],
             [
              0.8888888888888888,
              "#fdca26"
             ],
             [
              1,
              "#f0f921"
             ]
            ],
            "type": "histogram2d"
           }
          ],
          "histogram2dcontour": [
           {
            "colorbar": {
             "outlinewidth": 0,
             "ticks": ""
            },
            "colorscale": [
             [
              0,
              "#0d0887"
             ],
             [
              0.1111111111111111,
              "#46039f"
             ],
             [
              0.2222222222222222,
              "#7201a8"
             ],
             [
              0.3333333333333333,
              "#9c179e"
             ],
             [
              0.4444444444444444,
              "#bd3786"
             ],
             [
              0.5555555555555556,
              "#d8576b"
             ],
             [
              0.6666666666666666,
              "#ed7953"
             ],
             [
              0.7777777777777778,
              "#fb9f3a"
             ],
             [
              0.8888888888888888,
              "#fdca26"
             ],
             [
              1,
              "#f0f921"
             ]
            ],
            "type": "histogram2dcontour"
           }
          ],
          "mesh3d": [
           {
            "colorbar": {
             "outlinewidth": 0,
             "ticks": ""
            },
            "type": "mesh3d"
           }
          ],
          "parcoords": [
           {
            "line": {
             "colorbar": {
              "outlinewidth": 0,
              "ticks": ""
             }
            },
            "type": "parcoords"
           }
          ],
          "pie": [
           {
            "automargin": true,
            "type": "pie"
           }
          ],
          "scatter": [
           {
            "marker": {
             "colorbar": {
              "outlinewidth": 0,
              "ticks": ""
             }
            },
            "type": "scatter"
           }
          ],
          "scatter3d": [
           {
            "line": {
             "colorbar": {
              "outlinewidth": 0,
              "ticks": ""
             }
            },
            "marker": {
             "colorbar": {
              "outlinewidth": 0,
              "ticks": ""
             }
            },
            "type": "scatter3d"
           }
          ],
          "scattercarpet": [
           {
            "marker": {
             "colorbar": {
              "outlinewidth": 0,
              "ticks": ""
             }
            },
            "type": "scattercarpet"
           }
          ],
          "scattergeo": [
           {
            "marker": {
             "colorbar": {
              "outlinewidth": 0,
              "ticks": ""
             }
            },
            "type": "scattergeo"
           }
          ],
          "scattergl": [
           {
            "marker": {
             "colorbar": {
              "outlinewidth": 0,
              "ticks": ""
             }
            },
            "type": "scattergl"
           }
          ],
          "scattermapbox": [
           {
            "marker": {
             "colorbar": {
              "outlinewidth": 0,
              "ticks": ""
             }
            },
            "type": "scattermapbox"
           }
          ],
          "scatterpolar": [
           {
            "marker": {
             "colorbar": {
              "outlinewidth": 0,
              "ticks": ""
             }
            },
            "type": "scatterpolar"
           }
          ],
          "scatterpolargl": [
           {
            "marker": {
             "colorbar": {
              "outlinewidth": 0,
              "ticks": ""
             }
            },
            "type": "scatterpolargl"
           }
          ],
          "scatterternary": [
           {
            "marker": {
             "colorbar": {
              "outlinewidth": 0,
              "ticks": ""
             }
            },
            "type": "scatterternary"
           }
          ],
          "surface": [
           {
            "colorbar": {
             "outlinewidth": 0,
             "ticks": ""
            },
            "colorscale": [
             [
              0,
              "#0d0887"
             ],
             [
              0.1111111111111111,
              "#46039f"
             ],
             [
              0.2222222222222222,
              "#7201a8"
             ],
             [
              0.3333333333333333,
              "#9c179e"
             ],
             [
              0.4444444444444444,
              "#bd3786"
             ],
             [
              0.5555555555555556,
              "#d8576b"
             ],
             [
              0.6666666666666666,
              "#ed7953"
             ],
             [
              0.7777777777777778,
              "#fb9f3a"
             ],
             [
              0.8888888888888888,
              "#fdca26"
             ],
             [
              1,
              "#f0f921"
             ]
            ],
            "type": "surface"
           }
          ],
          "table": [
           {
            "cells": {
             "fill": {
              "color": "#EBF0F8"
             },
             "line": {
              "color": "white"
             }
            },
            "header": {
             "fill": {
              "color": "#C8D4E3"
             },
             "line": {
              "color": "white"
             }
            },
            "type": "table"
           }
          ]
         },
         "layout": {
          "annotationdefaults": {
           "arrowcolor": "#2a3f5f",
           "arrowhead": 0,
           "arrowwidth": 1
          },
          "coloraxis": {
           "colorbar": {
            "outlinewidth": 0,
            "ticks": ""
           }
          },
          "colorscale": {
           "diverging": [
            [
             0,
             "#8e0152"
            ],
            [
             0.1,
             "#c51b7d"
            ],
            [
             0.2,
             "#de77ae"
            ],
            [
             0.3,
             "#f1b6da"
            ],
            [
             0.4,
             "#fde0ef"
            ],
            [
             0.5,
             "#f7f7f7"
            ],
            [
             0.6,
             "#e6f5d0"
            ],
            [
             0.7,
             "#b8e186"
            ],
            [
             0.8,
             "#7fbc41"
            ],
            [
             0.9,
             "#4d9221"
            ],
            [
             1,
             "#276419"
            ]
           ],
           "sequential": [
            [
             0,
             "#0d0887"
            ],
            [
             0.1111111111111111,
             "#46039f"
            ],
            [
             0.2222222222222222,
             "#7201a8"
            ],
            [
             0.3333333333333333,
             "#9c179e"
            ],
            [
             0.4444444444444444,
             "#bd3786"
            ],
            [
             0.5555555555555556,
             "#d8576b"
            ],
            [
             0.6666666666666666,
             "#ed7953"
            ],
            [
             0.7777777777777778,
             "#fb9f3a"
            ],
            [
             0.8888888888888888,
             "#fdca26"
            ],
            [
             1,
             "#f0f921"
            ]
           ],
           "sequentialminus": [
            [
             0,
             "#0d0887"
            ],
            [
             0.1111111111111111,
             "#46039f"
            ],
            [
             0.2222222222222222,
             "#7201a8"
            ],
            [
             0.3333333333333333,
             "#9c179e"
            ],
            [
             0.4444444444444444,
             "#bd3786"
            ],
            [
             0.5555555555555556,
             "#d8576b"
            ],
            [
             0.6666666666666666,
             "#ed7953"
            ],
            [
             0.7777777777777778,
             "#fb9f3a"
            ],
            [
             0.8888888888888888,
             "#fdca26"
            ],
            [
             1,
             "#f0f921"
            ]
           ]
          },
          "colorway": [
           "#636efa",
           "#EF553B",
           "#00cc96",
           "#ab63fa",
           "#FFA15A",
           "#19d3f3",
           "#FF6692",
           "#B6E880",
           "#FF97FF",
           "#FECB52"
          ],
          "font": {
           "color": "#2a3f5f"
          },
          "geo": {
           "bgcolor": "white",
           "lakecolor": "white",
           "landcolor": "#E5ECF6",
           "showlakes": true,
           "showland": true,
           "subunitcolor": "white"
          },
          "hoverlabel": {
           "align": "left"
          },
          "hovermode": "closest",
          "mapbox": {
           "style": "light"
          },
          "paper_bgcolor": "white",
          "plot_bgcolor": "#E5ECF6",
          "polar": {
           "angularaxis": {
            "gridcolor": "white",
            "linecolor": "white",
            "ticks": ""
           },
           "bgcolor": "#E5ECF6",
           "radialaxis": {
            "gridcolor": "white",
            "linecolor": "white",
            "ticks": ""
           }
          },
          "scene": {
           "xaxis": {
            "backgroundcolor": "#E5ECF6",
            "gridcolor": "white",
            "gridwidth": 2,
            "linecolor": "white",
            "showbackground": true,
            "ticks": "",
            "zerolinecolor": "white"
           },
           "yaxis": {
            "backgroundcolor": "#E5ECF6",
            "gridcolor": "white",
            "gridwidth": 2,
            "linecolor": "white",
            "showbackground": true,
            "ticks": "",
            "zerolinecolor": "white"
           },
           "zaxis": {
            "backgroundcolor": "#E5ECF6",
            "gridcolor": "white",
            "gridwidth": 2,
            "linecolor": "white",
            "showbackground": true,
            "ticks": "",
            "zerolinecolor": "white"
           }
          },
          "shapedefaults": {
           "line": {
            "color": "#2a3f5f"
           }
          },
          "ternary": {
           "aaxis": {
            "gridcolor": "white",
            "linecolor": "white",
            "ticks": ""
           },
           "baxis": {
            "gridcolor": "white",
            "linecolor": "white",
            "ticks": ""
           },
           "bgcolor": "#E5ECF6",
           "caxis": {
            "gridcolor": "white",
            "linecolor": "white",
            "ticks": ""
           }
          },
          "title": {
           "x": 0.05
          },
          "xaxis": {
           "automargin": true,
           "gridcolor": "white",
           "linecolor": "white",
           "ticks": "",
           "title": {
            "standoff": 15
           },
           "zerolinecolor": "white",
           "zerolinewidth": 2
          },
          "yaxis": {
           "automargin": true,
           "gridcolor": "white",
           "linecolor": "white",
           "ticks": "",
           "title": {
            "standoff": 15
           },
           "zerolinecolor": "white",
           "zerolinewidth": 2
          }
         }
        },
        "title": {
         "text": "Mondial"
        },
        "xaxis": {
         "anchor": "y",
         "domain": [
          0,
          1
         ],
         "title": {
          "text": "Date"
         }
        },
        "yaxis": {
         "anchor": "x",
         "domain": [
          0,
          1
         ],
         "title": {
          "text": "Nombre de cas"
         }
        }
       }
      },
      "text/html": [
       "<div>\n",
       "        \n",
       "        \n",
       "            <div id=\"bb5e6f8f-e07e-4e4b-a59e-88733f38fe66\" class=\"plotly-graph-div\" style=\"height:525px; width:100%;\"></div>\n",
       "            <script type=\"text/javascript\">\n",
       "                require([\"plotly\"], function(Plotly) {\n",
       "                    window.PLOTLYENV=window.PLOTLYENV || {};\n",
       "                    \n",
       "                if (document.getElementById(\"bb5e6f8f-e07e-4e4b-a59e-88733f38fe66\")) {\n",
       "                    Plotly.newPlot(\n",
       "                        'bb5e6f8f-e07e-4e4b-a59e-88733f38fe66',\n",
       "                        [{\"alignmentgroup\": \"True\", \"hoverlabel\": {\"namelength\": 0}, \"hovertemplate\": \"Type=Confirmed<br>Date=%{x}<br>Nombre de cas=%{y}\", \"legendgroup\": \"Confirmed\", \"marker\": {\"color\": \"#fe9801\"}, \"name\": \"Confirmed\", \"offsetgroup\": \"Confirmed\", \"orientation\": \"v\", \"showlegend\": true, \"textposition\": \"auto\", \"type\": \"bar\", \"x\": [\"1/22/20\", \"1/23/20\", \"1/24/20\", \"1/25/20\", \"1/26/20\", \"1/27/20\", \"1/28/20\", \"1/29/20\", \"1/30/20\", \"1/31/20\", \"2/1/20\", \"2/2/20\", \"2/3/20\", \"2/4/20\", \"2/5/20\", \"2/6/20\", \"2/7/20\", \"2/8/20\", \"2/9/20\", \"2/10/20\", \"2/11/20\", \"2/12/20\", \"2/13/20\", \"2/14/20\", \"2/15/20\", \"2/16/20\", \"2/17/20\", \"2/18/20\", \"2/19/20\", \"2/20/20\", \"2/21/20\", \"2/22/20\", \"2/23/20\", \"2/24/20\", \"2/25/20\", \"2/26/20\", \"2/27/20\", \"2/28/20\", \"2/29/20\", \"3/1/20\", \"3/2/20\", \"3/3/20\", \"3/4/20\", \"3/5/20\", \"3/6/20\", \"3/7/20\", \"3/8/20\", \"3/9/20\", \"3/10/20\", \"3/11/20\", \"3/12/20\", \"3/13/20\", \"3/14/20\", \"3/15/20\", \"3/16/20\", \"3/17/20\", \"3/18/20\", \"3/19/20\", \"3/20/20\", \"3/21/20\", \"3/22/20\", \"3/23/20\"], \"xaxis\": \"x\", \"y\": [555.0, 653.0, 941.0, 1434.0, 2118.0, 2927.0, 5578.0, 6166.0, 8234.0, 9927.0, 12038.0, 16787.0, 19881.0, 23892.0, 27635.0, 30817.0, 34391.0, 37120.0, 40150.0, 42762.0, 44802.0, 45221.0, 60368.0, 66885.0, 69030.0, 71224.0, 73258.0, 75136.0, 75639.0, 76197.0, 76823.0, 78579.0, 78965.0, 79568.0, 80413.0, 81395.0, 82754.0, 84120.0, 86011.0, 88369.0, 90306.0, 92840.0, 95120.0, 97882.0, 101784.0, 105821.0, 109795.0, 113561.0, 118592.0, 125865.0, 128343.0, 145193.0, 156094.0, 167446.0, 181527.0, 197142.0, 214910.0, 242708.0, 272166.0, 304524.0, 335955.0, 336004.0], \"yaxis\": \"y\"}, {\"alignmentgroup\": \"True\", \"hoverlabel\": {\"namelength\": 0}, \"hovertemplate\": \"Type=Deaths<br>Date=%{x}<br>Nombre de cas=%{y}\", \"legendgroup\": \"Deaths\", \"marker\": {\"color\": \"#ff2e63\"}, \"name\": \"Deaths\", \"offsetgroup\": \"Deaths\", \"orientation\": \"v\", \"showlegend\": true, \"textposition\": \"auto\", \"type\": \"bar\", \"x\": [\"1/22/20\", \"1/23/20\", \"1/24/20\", \"1/25/20\", \"1/26/20\", \"1/27/20\", \"1/28/20\", \"1/29/20\", \"1/30/20\", \"1/31/20\", \"2/1/20\", \"2/2/20\", \"2/3/20\", \"2/4/20\", \"2/5/20\", \"2/6/20\", \"2/7/20\", \"2/8/20\", \"2/9/20\", \"2/10/20\", \"2/11/20\", \"2/12/20\", \"2/13/20\", \"2/14/20\", \"2/15/20\", \"2/16/20\", \"2/17/20\", \"2/18/20\", \"2/19/20\", \"2/20/20\", \"2/21/20\", \"2/22/20\", \"2/23/20\", \"2/24/20\", \"2/25/20\", \"2/26/20\", \"2/27/20\", \"2/28/20\", \"2/29/20\", \"3/1/20\", \"3/2/20\", \"3/3/20\", \"3/4/20\", \"3/5/20\", \"3/6/20\", \"3/7/20\", \"3/8/20\", \"3/9/20\", \"3/10/20\", \"3/11/20\", \"3/12/20\", \"3/13/20\", \"3/14/20\", \"3/15/20\", \"3/16/20\", \"3/17/20\", \"3/18/20\", \"3/19/20\", \"3/20/20\", \"3/21/20\", \"3/22/20\", \"3/23/20\"], \"xaxis\": \"x\", \"y\": [17.0, 18.0, 26.0, 42.0, 56.0, 82.0, 131.0, 133.0, 171.0, 213.0, 259.0, 362.0, 426.0, 492.0, 564.0, 634.0, 719.0, 806.0, 906.0, 1013.0, 1113.0, 1118.0, 1371.0, 1523.0, 1666.0, 1770.0, 1868.0, 2007.0, 2122.0, 2247.0, 2251.0, 2458.0, 2469.0, 2629.0, 2708.0, 2770.0, 2814.0, 2872.0, 2941.0, 2996.0, 3085.0, 3160.0, 3254.0, 3348.0, 3460.0, 3558.0, 3802.0, 3988.0, 4262.0, 4615.0, 4720.0, 5404.0, 5819.0, 6440.0, 7126.0, 7905.0, 8733.0, 9867.0, 11299.0, 12973.0, 14632.0, 14643.0], \"yaxis\": \"y\"}, {\"alignmentgroup\": \"True\", \"hoverlabel\": {\"namelength\": 0}, \"hovertemplate\": \"Type=Recovered<br>Date=%{x}<br>Nombre de cas=%{y}\", \"legendgroup\": \"Recovered\", \"marker\": {\"color\": \"#21bf73\"}, \"name\": \"Recovered\", \"offsetgroup\": \"Recovered\", \"orientation\": \"v\", \"showlegend\": true, \"textposition\": \"auto\", \"type\": \"bar\", \"x\": [\"1/22/20\", \"1/23/20\", \"1/24/20\", \"1/25/20\", \"1/26/20\", \"1/27/20\", \"1/28/20\", \"1/29/20\", \"1/30/20\", \"1/31/20\", \"2/1/20\", \"2/2/20\", \"2/3/20\", \"2/4/20\", \"2/5/20\", \"2/6/20\", \"2/7/20\", \"2/8/20\", \"2/9/20\", \"2/10/20\", \"2/11/20\", \"2/12/20\", \"2/13/20\", \"2/14/20\", \"2/15/20\", \"2/16/20\", \"2/17/20\", \"2/18/20\", \"2/19/20\", \"2/20/20\", \"2/21/20\", \"2/22/20\", \"2/23/20\", \"2/24/20\", \"2/25/20\", \"2/26/20\", \"2/27/20\", \"2/28/20\", \"2/29/20\", \"3/1/20\", \"3/2/20\", \"3/3/20\", \"3/4/20\", \"3/5/20\", \"3/6/20\", \"3/7/20\", \"3/8/20\", \"3/9/20\", \"3/10/20\", \"3/11/20\", \"3/12/20\", \"3/13/20\", \"3/14/20\", \"3/15/20\", \"3/16/20\", \"3/17/20\", \"3/18/20\", \"3/19/20\", \"3/20/20\", \"3/21/20\", \"3/22/20\", \"3/23/20\"], \"xaxis\": \"x\", \"y\": [28.0, 30.0, 36.0, 39.0, 52.0, 61.0, 107.0, 126.0, 143.0, 222.0, 284.0, 472.0, 623.0, 852.0, 1124.0, 1487.0, 2011.0, 2616.0, 3244.0, 3946.0, 4683.0, 5150.0, 6295.0, 8058.0, 9395.0, 10865.0, 12583.0, 14352.0, 16121.0, 18177.0, 18890.0, 22886.0, 23394.0, 25227.0, 27905.0, 30384.0, 33277.0, 36711.0, 39782.0, 42716.0, 45602.0, 48228.0, 51170.0, 53796.0, 55865.0, 58358.0, 60694.0, 62494.0, 64404.0, 67003.0, 68324.0, 70251.0, 72624.0, 76034.0, 78088.0, 80840.0, 83207.0, 84854.0, 87256.0, 91499.0, 97704.0, 98334.0], \"yaxis\": \"y\"}, {\"alignmentgroup\": \"True\", \"hoverlabel\": {\"namelength\": 0}, \"hovertemplate\": \"Type=Active<br>Date=%{x}<br>Nombre de cas=%{y}\", \"legendgroup\": \"Active\", \"marker\": {\"color\": \"#393e46\"}, \"name\": \"Active\", \"offsetgroup\": \"Active\", \"orientation\": \"v\", \"showlegend\": true, \"textposition\": \"auto\", \"type\": \"bar\", \"x\": [\"1/22/20\", \"1/23/20\", \"1/24/20\", \"1/25/20\", \"1/26/20\", \"1/27/20\", \"1/28/20\", \"1/29/20\", \"1/30/20\", \"1/31/20\", \"2/1/20\", \"2/2/20\", \"2/3/20\", \"2/4/20\", \"2/5/20\", \"2/6/20\", \"2/7/20\", \"2/8/20\", \"2/9/20\", \"2/10/20\", \"2/11/20\", \"2/12/20\", \"2/13/20\", \"2/14/20\", \"2/15/20\", \"2/16/20\", \"2/17/20\", \"2/18/20\", \"2/19/20\", \"2/20/20\", \"2/21/20\", \"2/22/20\", \"2/23/20\", \"2/24/20\", \"2/25/20\", \"2/26/20\", \"2/27/20\", \"2/28/20\", \"2/29/20\", \"3/1/20\", \"3/2/20\", \"3/3/20\", \"3/4/20\", \"3/5/20\", \"3/6/20\", \"3/7/20\", \"3/8/20\", \"3/9/20\", \"3/10/20\", \"3/11/20\", \"3/12/20\", \"3/13/20\", \"3/14/20\", \"3/15/20\", \"3/16/20\", \"3/17/20\", \"3/18/20\", \"3/19/20\", \"3/20/20\", \"3/21/20\", \"3/22/20\", \"3/23/20\"], \"xaxis\": \"x\", \"y\": [510.0, 605.0, 879.0, 1353.0, 2010.0, 2784.0, 5340.0, 5907.0, 7920.0, 9492.0, 11495.0, 15953.0, 18832.0, 22548.0, 25947.0, 28696.0, 31661.0, 33698.0, 36000.0, 37803.0, 39006.0, 38953.0, 52702.0, 57304.0, 57969.0, 58589.0, 58807.0, 58777.0, 57396.0, 55773.0, 55682.0, 53235.0, 53102.0, 51712.0, 49800.0, 48241.0, 46663.0, 44537.0, 43288.0, 42657.0, 41619.0, 41452.0, 40696.0, 40738.0, 42459.0, 43905.0, 45299.0, 47079.0, 49926.0, 54247.0, 55299.0, 69538.0, 77651.0, 84972.0, 96313.0, 108397.0, 122970.0, 147987.0, 173611.0, 200052.0, 223619.0, 223027.0], \"yaxis\": \"y\"}],\n",
       "                        {\"barmode\": \"group\", \"legend\": {\"title\": {\"text\": \"Type\"}, \"tracegroupgap\": 0}, \"template\": {\"data\": {\"bar\": [{\"error_x\": {\"color\": \"#2a3f5f\"}, \"error_y\": {\"color\": \"#2a3f5f\"}, \"marker\": {\"line\": {\"color\": \"#E5ECF6\", \"width\": 0.5}}, \"type\": \"bar\"}], \"barpolar\": [{\"marker\": {\"line\": {\"color\": \"#E5ECF6\", \"width\": 0.5}}, \"type\": \"barpolar\"}], \"carpet\": [{\"aaxis\": {\"endlinecolor\": \"#2a3f5f\", \"gridcolor\": \"white\", \"linecolor\": \"white\", \"minorgridcolor\": \"white\", \"startlinecolor\": \"#2a3f5f\"}, \"baxis\": {\"endlinecolor\": \"#2a3f5f\", \"gridcolor\": \"white\", \"linecolor\": \"white\", \"minorgridcolor\": \"white\", \"startlinecolor\": \"#2a3f5f\"}, \"type\": \"carpet\"}], \"choropleth\": [{\"colorbar\": {\"outlinewidth\": 0, \"ticks\": \"\"}, \"type\": \"choropleth\"}], \"contour\": [{\"colorbar\": {\"outlinewidth\": 0, \"ticks\": \"\"}, \"colorscale\": [[0.0, \"#0d0887\"], [0.1111111111111111, \"#46039f\"], [0.2222222222222222, \"#7201a8\"], [0.3333333333333333, \"#9c179e\"], [0.4444444444444444, \"#bd3786\"], [0.5555555555555556, \"#d8576b\"], [0.6666666666666666, \"#ed7953\"], [0.7777777777777778, \"#fb9f3a\"], [0.8888888888888888, \"#fdca26\"], [1.0, \"#f0f921\"]], \"type\": \"contour\"}], \"contourcarpet\": [{\"colorbar\": {\"outlinewidth\": 0, \"ticks\": \"\"}, \"type\": \"contourcarpet\"}], \"heatmap\": [{\"colorbar\": {\"outlinewidth\": 0, \"ticks\": \"\"}, \"colorscale\": [[0.0, \"#0d0887\"], [0.1111111111111111, \"#46039f\"], [0.2222222222222222, \"#7201a8\"], [0.3333333333333333, \"#9c179e\"], [0.4444444444444444, \"#bd3786\"], [0.5555555555555556, \"#d8576b\"], [0.6666666666666666, \"#ed7953\"], [0.7777777777777778, \"#fb9f3a\"], [0.8888888888888888, \"#fdca26\"], [1.0, \"#f0f921\"]], \"type\": \"heatmap\"}], \"heatmapgl\": [{\"colorbar\": {\"outlinewidth\": 0, \"ticks\": \"\"}, \"colorscale\": [[0.0, \"#0d0887\"], [0.1111111111111111, \"#46039f\"], [0.2222222222222222, \"#7201a8\"], [0.3333333333333333, \"#9c179e\"], [0.4444444444444444, \"#bd3786\"], [0.5555555555555556, \"#d8576b\"], [0.6666666666666666, \"#ed7953\"], [0.7777777777777778, \"#fb9f3a\"], [0.8888888888888888, \"#fdca26\"], [1.0, \"#f0f921\"]], \"type\": \"heatmapgl\"}], \"histogram\": [{\"marker\": {\"colorbar\": {\"outlinewidth\": 0, \"ticks\": \"\"}}, \"type\": \"histogram\"}], \"histogram2d\": [{\"colorbar\": {\"outlinewidth\": 0, \"ticks\": \"\"}, \"colorscale\": [[0.0, \"#0d0887\"], [0.1111111111111111, \"#46039f\"], [0.2222222222222222, \"#7201a8\"], [0.3333333333333333, \"#9c179e\"], [0.4444444444444444, \"#bd3786\"], [0.5555555555555556, \"#d8576b\"], [0.6666666666666666, \"#ed7953\"], [0.7777777777777778, \"#fb9f3a\"], [0.8888888888888888, \"#fdca26\"], [1.0, \"#f0f921\"]], \"type\": \"histogram2d\"}], \"histogram2dcontour\": [{\"colorbar\": {\"outlinewidth\": 0, \"ticks\": \"\"}, \"colorscale\": [[0.0, \"#0d0887\"], [0.1111111111111111, \"#46039f\"], [0.2222222222222222, \"#7201a8\"], [0.3333333333333333, \"#9c179e\"], [0.4444444444444444, \"#bd3786\"], [0.5555555555555556, \"#d8576b\"], [0.6666666666666666, \"#ed7953\"], [0.7777777777777778, \"#fb9f3a\"], [0.8888888888888888, \"#fdca26\"], [1.0, \"#f0f921\"]], \"type\": \"histogram2dcontour\"}], \"mesh3d\": [{\"colorbar\": {\"outlinewidth\": 0, \"ticks\": \"\"}, \"type\": \"mesh3d\"}], \"parcoords\": [{\"line\": {\"colorbar\": {\"outlinewidth\": 0, \"ticks\": \"\"}}, \"type\": \"parcoords\"}], \"pie\": [{\"automargin\": true, \"type\": \"pie\"}], \"scatter\": [{\"marker\": {\"colorbar\": {\"outlinewidth\": 0, \"ticks\": \"\"}}, \"type\": \"scatter\"}], \"scatter3d\": [{\"line\": {\"colorbar\": {\"outlinewidth\": 0, \"ticks\": \"\"}}, \"marker\": {\"colorbar\": {\"outlinewidth\": 0, \"ticks\": \"\"}}, \"type\": \"scatter3d\"}], \"scattercarpet\": [{\"marker\": {\"colorbar\": {\"outlinewidth\": 0, \"ticks\": \"\"}}, \"type\": \"scattercarpet\"}], \"scattergeo\": [{\"marker\": {\"colorbar\": {\"outlinewidth\": 0, \"ticks\": \"\"}}, \"type\": \"scattergeo\"}], \"scattergl\": [{\"marker\": {\"colorbar\": {\"outlinewidth\": 0, \"ticks\": \"\"}}, \"type\": \"scattergl\"}], \"scattermapbox\": [{\"marker\": {\"colorbar\": {\"outlinewidth\": 0, \"ticks\": \"\"}}, \"type\": \"scattermapbox\"}], \"scatterpolar\": [{\"marker\": {\"colorbar\": {\"outlinewidth\": 0, \"ticks\": \"\"}}, \"type\": \"scatterpolar\"}], \"scatterpolargl\": [{\"marker\": {\"colorbar\": {\"outlinewidth\": 0, \"ticks\": \"\"}}, \"type\": \"scatterpolargl\"}], \"scatterternary\": [{\"marker\": {\"colorbar\": {\"outlinewidth\": 0, \"ticks\": \"\"}}, \"type\": \"scatterternary\"}], \"surface\": [{\"colorbar\": {\"outlinewidth\": 0, \"ticks\": \"\"}, \"colorscale\": [[0.0, \"#0d0887\"], [0.1111111111111111, \"#46039f\"], [0.2222222222222222, \"#7201a8\"], [0.3333333333333333, \"#9c179e\"], [0.4444444444444444, \"#bd3786\"], [0.5555555555555556, \"#d8576b\"], [0.6666666666666666, \"#ed7953\"], [0.7777777777777778, \"#fb9f3a\"], [0.8888888888888888, \"#fdca26\"], [1.0, \"#f0f921\"]], \"type\": \"surface\"}], \"table\": [{\"cells\": {\"fill\": {\"color\": \"#EBF0F8\"}, \"line\": {\"color\": \"white\"}}, \"header\": {\"fill\": {\"color\": \"#C8D4E3\"}, \"line\": {\"color\": \"white\"}}, \"type\": \"table\"}]}, \"layout\": {\"annotationdefaults\": {\"arrowcolor\": \"#2a3f5f\", \"arrowhead\": 0, \"arrowwidth\": 1}, \"coloraxis\": {\"colorbar\": {\"outlinewidth\": 0, \"ticks\": \"\"}}, \"colorscale\": {\"diverging\": [[0, \"#8e0152\"], [0.1, \"#c51b7d\"], [0.2, \"#de77ae\"], [0.3, \"#f1b6da\"], [0.4, \"#fde0ef\"], [0.5, \"#f7f7f7\"], [0.6, \"#e6f5d0\"], [0.7, \"#b8e186\"], [0.8, \"#7fbc41\"], [0.9, \"#4d9221\"], [1, \"#276419\"]], \"sequential\": [[0.0, \"#0d0887\"], [0.1111111111111111, \"#46039f\"], [0.2222222222222222, \"#7201a8\"], [0.3333333333333333, \"#9c179e\"], [0.4444444444444444, \"#bd3786\"], [0.5555555555555556, \"#d8576b\"], [0.6666666666666666, \"#ed7953\"], [0.7777777777777778, \"#fb9f3a\"], [0.8888888888888888, \"#fdca26\"], [1.0, \"#f0f921\"]], \"sequentialminus\": [[0.0, \"#0d0887\"], [0.1111111111111111, \"#46039f\"], [0.2222222222222222, \"#7201a8\"], [0.3333333333333333, \"#9c179e\"], [0.4444444444444444, \"#bd3786\"], [0.5555555555555556, \"#d8576b\"], [0.6666666666666666, \"#ed7953\"], [0.7777777777777778, \"#fb9f3a\"], [0.8888888888888888, \"#fdca26\"], [1.0, \"#f0f921\"]]}, \"colorway\": [\"#636efa\", \"#EF553B\", \"#00cc96\", \"#ab63fa\", \"#FFA15A\", \"#19d3f3\", \"#FF6692\", \"#B6E880\", \"#FF97FF\", \"#FECB52\"], \"font\": {\"color\": \"#2a3f5f\"}, \"geo\": {\"bgcolor\": \"white\", \"lakecolor\": \"white\", \"landcolor\": \"#E5ECF6\", \"showlakes\": true, \"showland\": true, \"subunitcolor\": \"white\"}, \"hoverlabel\": {\"align\": \"left\"}, \"hovermode\": \"closest\", \"mapbox\": {\"style\": \"light\"}, \"paper_bgcolor\": \"white\", \"plot_bgcolor\": \"#E5ECF6\", \"polar\": {\"angularaxis\": {\"gridcolor\": \"white\", \"linecolor\": \"white\", \"ticks\": \"\"}, \"bgcolor\": \"#E5ECF6\", \"radialaxis\": {\"gridcolor\": \"white\", \"linecolor\": \"white\", \"ticks\": \"\"}}, \"scene\": {\"xaxis\": {\"backgroundcolor\": \"#E5ECF6\", \"gridcolor\": \"white\", \"gridwidth\": 2, \"linecolor\": \"white\", \"showbackground\": true, \"ticks\": \"\", \"zerolinecolor\": \"white\"}, \"yaxis\": {\"backgroundcolor\": \"#E5ECF6\", \"gridcolor\": \"white\", \"gridwidth\": 2, \"linecolor\": \"white\", \"showbackground\": true, \"ticks\": \"\", \"zerolinecolor\": \"white\"}, \"zaxis\": {\"backgroundcolor\": \"#E5ECF6\", \"gridcolor\": \"white\", \"gridwidth\": 2, \"linecolor\": \"white\", \"showbackground\": true, \"ticks\": \"\", \"zerolinecolor\": \"white\"}}, \"shapedefaults\": {\"line\": {\"color\": \"#2a3f5f\"}}, \"ternary\": {\"aaxis\": {\"gridcolor\": \"white\", \"linecolor\": \"white\", \"ticks\": \"\"}, \"baxis\": {\"gridcolor\": \"white\", \"linecolor\": \"white\", \"ticks\": \"\"}, \"bgcolor\": \"#E5ECF6\", \"caxis\": {\"gridcolor\": \"white\", \"linecolor\": \"white\", \"ticks\": \"\"}}, \"title\": {\"x\": 0.05}, \"xaxis\": {\"automargin\": true, \"gridcolor\": \"white\", \"linecolor\": \"white\", \"ticks\": \"\", \"title\": {\"standoff\": 15}, \"zerolinecolor\": \"white\", \"zerolinewidth\": 2}, \"yaxis\": {\"automargin\": true, \"gridcolor\": \"white\", \"linecolor\": \"white\", \"ticks\": \"\", \"title\": {\"standoff\": 15}, \"zerolinecolor\": \"white\", \"zerolinewidth\": 2}}}, \"title\": {\"text\": \"Mondial\"}, \"xaxis\": {\"anchor\": \"y\", \"domain\": [0.0, 1.0], \"title\": {\"text\": \"Date\"}}, \"yaxis\": {\"anchor\": \"x\", \"domain\": [0.0, 1.0], \"title\": {\"text\": \"Nombre de cas\"}}},\n",
       "                        {\"responsive\": true}\n",
       "                    ).then(function(){\n",
       "                            \n",
       "var gd = document.getElementById('bb5e6f8f-e07e-4e4b-a59e-88733f38fe66');\n",
       "var x = new MutationObserver(function (mutations, observer) {{\n",
       "        var display = window.getComputedStyle(gd).display;\n",
       "        if (!display || display === 'none') {{\n",
       "            console.log([gd, 'removed!']);\n",
       "            Plotly.purge(gd);\n",
       "            observer.disconnect();\n",
       "        }}\n",
       "}});\n",
       "\n",
       "// Listen for the removal of the full notebook cells\n",
       "var notebookContainer = gd.closest('#notebook-container');\n",
       "if (notebookContainer) {{\n",
       "    x.observe(notebookContainer, {childList: true});\n",
       "}}\n",
       "\n",
       "// Listen for the clearing of the current output cell\n",
       "var outputEl = gd.closest('.output');\n",
       "if (outputEl) {{\n",
       "    x.observe(outputEl, {childList: true});\n",
       "}}\n",
       "\n",
       "                        })\n",
       "                };\n",
       "                });\n",
       "            </script>\n",
       "        </div>"
      ]
     },
     "metadata": {},
     "output_type": "display_data"
    }
   ],
   "source": [
    "# Gestion du tableau des cas confirmés\n",
    "tmpConfirmed = dfGlobalSeriesConfirmed\n",
    "tmpConfirmed = tmpConfirmed.drop(columns=['Lat', 'Long'])\n",
    "tmpConfirmed = tmpConfirmed.groupby(['Country/Region']).sum().reset_index()\n",
    "tmpConfirmed = tmpConfirmed.drop(columns=['Country/Region'])\n",
    "tmpConfirmed = tmpConfirmed.sum().reset_index()\n",
    "tmpConfirmed = tmpConfirmed.rename(columns={'index': 'Date', 0: 'Confirmed'})\n",
    "\n",
    "# Gestion du tableau des cas décédés\n",
    "tmpDeaths = dfGlobalSeriesDeaths\n",
    "tmpDeaths = tmpDeaths.drop(columns=['Lat', 'Long'])\n",
    "tmpDeaths = tmpDeaths.groupby(['Country/Region']).sum().reset_index()\n",
    "tmpDeaths = tmpDeaths.drop(columns=['Country/Region'])\n",
    "tmpDeaths = tmpDeaths.sum().reset_index()\n",
    "tmpDeaths = tmpDeaths.rename(columns={'index': 'Date', 0: 'Deaths'})\n",
    "\n",
    "# Gestion du tableau des cas soignés\n",
    "tmpRecovered = dfGlobalSeriesRecovered\n",
    "tmpRecovered = tmpRecovered.drop(columns=['Lat', 'Long'])\n",
    "tmpRecovered = tmpRecovered.groupby(['Country/Region']).sum().reset_index()\n",
    "tmpRecovered = tmpRecovered.drop(columns=['Country/Region'])\n",
    "tmpRecovered = tmpRecovered.sum().reset_index()\n",
    "tmpRecovered = tmpRecovered.rename(columns={'index': 'Date', 0: 'Recovered'})\n",
    "\n",
    "# On join nos trois tableaux\n",
    "tmpAll = pd.merge(tmpConfirmed, tmpDeaths, on='Date').merge(tmpRecovered, on='Date')\n",
    "\n",
    "# On ajoute notre colonne des cas encore malade\n",
    "tmpAll['Active'] = tmpAll['Confirmed'] - tmpAll['Deaths'] - tmpAll['Recovered']\n",
    "\n",
    "figAll = tmpAll.melt(id_vars=\"Date\", \n",
    "                                 value_vars=['Confirmed', 'Deaths', 'Recovered', 'Active'],\n",
    "                                value_name='Nombre de cas',\n",
    "                              var_name='Type')\n",
    "figFrSeriesAll = px.bar(figAll, \n",
    "             x=\"Date\", \n",
    "             y=\"Nombre de cas\", \n",
    "             color='Type',\n",
    "             title='Mondial',\n",
    "             barmode='group',\n",
    "             color_discrete_sequence=[colorYellow, colorRed, colorCyan, colorGrey])\n",
    "iplot(figFrSeriesAll)"
   ]
  },
  {
   "cell_type": "markdown",
   "metadata": {},
   "source": [
    "### Taux mortalité pour 100 cas confirmés"
   ]
  },
  {
   "cell_type": "code",
   "execution_count": 23,
   "metadata": {},
   "outputs": [
    {
     "data": {
      "application/vnd.plotly.v1+json": {
       "config": {
        "linkText": "Export to plot.ly",
        "plotlyServerURL": "https://plot.ly",
        "showLink": false
       },
       "data": [
        {
         "alignmentgroup": "True",
         "hoverlabel": {
          "namelength": 0
         },
         "hovertemplate": "Mortality Rate=%{text}<br>Country_Region=%{y}",
         "legendgroup": "",
         "marker": {
          "color": "#ff2e63"
         },
         "name": "",
         "offsetgroup": "",
         "opacity": 0.6,
         "orientation": "h",
         "showlegend": false,
         "text": [
          3.85,
          4.02,
          4.19,
          4.28,
          4.49,
          5,
          5.19,
          6.58,
          7.14,
          7.39,
          7.86,
          8.46,
          8.65,
          9.51,
          10.7
         ],
         "textposition": "outside",
         "type": "bar",
         "x": [
          3.85,
          4.02,
          4.19,
          4.28,
          4.49,
          5,
          5.19,
          6.58,
          7.14,
          7.39,
          7.86,
          8.46,
          8.65,
          9.51,
          10.7
         ],
         "xaxis": "x",
         "y": [
          "Albania",
          "China",
          "Hungary",
          "France",
          "Netherlands",
          "United Kingdom",
          "Egypt",
          "Spain",
          "Philippines",
          "Algeria",
          "Iran",
          "Indonesia",
          "Iraq",
          "Italy",
          "San Marino"
         ],
         "yaxis": "y"
        }
       ],
       "layout": {
        "barmode": "relative",
        "height": 500,
        "legend": {
         "tracegroupgap": 0
        },
        "margin": {
         "t": 60
        },
        "template": {
         "data": {
          "bar": [
           {
            "error_x": {
             "color": "#2a3f5f"
            },
            "error_y": {
             "color": "#2a3f5f"
            },
            "marker": {
             "line": {
              "color": "#E5ECF6",
              "width": 0.5
             }
            },
            "type": "bar"
           }
          ],
          "barpolar": [
           {
            "marker": {
             "line": {
              "color": "#E5ECF6",
              "width": 0.5
             }
            },
            "type": "barpolar"
           }
          ],
          "carpet": [
           {
            "aaxis": {
             "endlinecolor": "#2a3f5f",
             "gridcolor": "white",
             "linecolor": "white",
             "minorgridcolor": "white",
             "startlinecolor": "#2a3f5f"
            },
            "baxis": {
             "endlinecolor": "#2a3f5f",
             "gridcolor": "white",
             "linecolor": "white",
             "minorgridcolor": "white",
             "startlinecolor": "#2a3f5f"
            },
            "type": "carpet"
           }
          ],
          "choropleth": [
           {
            "colorbar": {
             "outlinewidth": 0,
             "ticks": ""
            },
            "type": "choropleth"
           }
          ],
          "contour": [
           {
            "colorbar": {
             "outlinewidth": 0,
             "ticks": ""
            },
            "colorscale": [
             [
              0,
              "#0d0887"
             ],
             [
              0.1111111111111111,
              "#46039f"
             ],
             [
              0.2222222222222222,
              "#7201a8"
             ],
             [
              0.3333333333333333,
              "#9c179e"
             ],
             [
              0.4444444444444444,
              "#bd3786"
             ],
             [
              0.5555555555555556,
              "#d8576b"
             ],
             [
              0.6666666666666666,
              "#ed7953"
             ],
             [
              0.7777777777777778,
              "#fb9f3a"
             ],
             [
              0.8888888888888888,
              "#fdca26"
             ],
             [
              1,
              "#f0f921"
             ]
            ],
            "type": "contour"
           }
          ],
          "contourcarpet": [
           {
            "colorbar": {
             "outlinewidth": 0,
             "ticks": ""
            },
            "type": "contourcarpet"
           }
          ],
          "heatmap": [
           {
            "colorbar": {
             "outlinewidth": 0,
             "ticks": ""
            },
            "colorscale": [
             [
              0,
              "#0d0887"
             ],
             [
              0.1111111111111111,
              "#46039f"
             ],
             [
              0.2222222222222222,
              "#7201a8"
             ],
             [
              0.3333333333333333,
              "#9c179e"
             ],
             [
              0.4444444444444444,
              "#bd3786"
             ],
             [
              0.5555555555555556,
              "#d8576b"
             ],
             [
              0.6666666666666666,
              "#ed7953"
             ],
             [
              0.7777777777777778,
              "#fb9f3a"
             ],
             [
              0.8888888888888888,
              "#fdca26"
             ],
             [
              1,
              "#f0f921"
             ]
            ],
            "type": "heatmap"
           }
          ],
          "heatmapgl": [
           {
            "colorbar": {
             "outlinewidth": 0,
             "ticks": ""
            },
            "colorscale": [
             [
              0,
              "#0d0887"
             ],
             [
              0.1111111111111111,
              "#46039f"
             ],
             [
              0.2222222222222222,
              "#7201a8"
             ],
             [
              0.3333333333333333,
              "#9c179e"
             ],
             [
              0.4444444444444444,
              "#bd3786"
             ],
             [
              0.5555555555555556,
              "#d8576b"
             ],
             [
              0.6666666666666666,
              "#ed7953"
             ],
             [
              0.7777777777777778,
              "#fb9f3a"
             ],
             [
              0.8888888888888888,
              "#fdca26"
             ],
             [
              1,
              "#f0f921"
             ]
            ],
            "type": "heatmapgl"
           }
          ],
          "histogram": [
           {
            "marker": {
             "colorbar": {
              "outlinewidth": 0,
              "ticks": ""
             }
            },
            "type": "histogram"
           }
          ],
          "histogram2d": [
           {
            "colorbar": {
             "outlinewidth": 0,
             "ticks": ""
            },
            "colorscale": [
             [
              0,
              "#0d0887"
             ],
             [
              0.1111111111111111,
              "#46039f"
             ],
             [
              0.2222222222222222,
              "#7201a8"
             ],
             [
              0.3333333333333333,
              "#9c179e"
             ],
             [
              0.4444444444444444,
              "#bd3786"
             ],
             [
              0.5555555555555556,
              "#d8576b"
             ],
             [
              0.6666666666666666,
              "#ed7953"
             ],
             [
              0.7777777777777778,
              "#fb9f3a"
             ],
             [
              0.8888888888888888,
              "#fdca26"
             ],
             [
              1,
              "#f0f921"
             ]
            ],
            "type": "histogram2d"
           }
          ],
          "histogram2dcontour": [
           {
            "colorbar": {
             "outlinewidth": 0,
             "ticks": ""
            },
            "colorscale": [
             [
              0,
              "#0d0887"
             ],
             [
              0.1111111111111111,
              "#46039f"
             ],
             [
              0.2222222222222222,
              "#7201a8"
             ],
             [
              0.3333333333333333,
              "#9c179e"
             ],
             [
              0.4444444444444444,
              "#bd3786"
             ],
             [
              0.5555555555555556,
              "#d8576b"
             ],
             [
              0.6666666666666666,
              "#ed7953"
             ],
             [
              0.7777777777777778,
              "#fb9f3a"
             ],
             [
              0.8888888888888888,
              "#fdca26"
             ],
             [
              1,
              "#f0f921"
             ]
            ],
            "type": "histogram2dcontour"
           }
          ],
          "mesh3d": [
           {
            "colorbar": {
             "outlinewidth": 0,
             "ticks": ""
            },
            "type": "mesh3d"
           }
          ],
          "parcoords": [
           {
            "line": {
             "colorbar": {
              "outlinewidth": 0,
              "ticks": ""
             }
            },
            "type": "parcoords"
           }
          ],
          "pie": [
           {
            "automargin": true,
            "type": "pie"
           }
          ],
          "scatter": [
           {
            "marker": {
             "colorbar": {
              "outlinewidth": 0,
              "ticks": ""
             }
            },
            "type": "scatter"
           }
          ],
          "scatter3d": [
           {
            "line": {
             "colorbar": {
              "outlinewidth": 0,
              "ticks": ""
             }
            },
            "marker": {
             "colorbar": {
              "outlinewidth": 0,
              "ticks": ""
             }
            },
            "type": "scatter3d"
           }
          ],
          "scattercarpet": [
           {
            "marker": {
             "colorbar": {
              "outlinewidth": 0,
              "ticks": ""
             }
            },
            "type": "scattercarpet"
           }
          ],
          "scattergeo": [
           {
            "marker": {
             "colorbar": {
              "outlinewidth": 0,
              "ticks": ""
             }
            },
            "type": "scattergeo"
           }
          ],
          "scattergl": [
           {
            "marker": {
             "colorbar": {
              "outlinewidth": 0,
              "ticks": ""
             }
            },
            "type": "scattergl"
           }
          ],
          "scattermapbox": [
           {
            "marker": {
             "colorbar": {
              "outlinewidth": 0,
              "ticks": ""
             }
            },
            "type": "scattermapbox"
           }
          ],
          "scatterpolar": [
           {
            "marker": {
             "colorbar": {
              "outlinewidth": 0,
              "ticks": ""
             }
            },
            "type": "scatterpolar"
           }
          ],
          "scatterpolargl": [
           {
            "marker": {
             "colorbar": {
              "outlinewidth": 0,
              "ticks": ""
             }
            },
            "type": "scatterpolargl"
           }
          ],
          "scatterternary": [
           {
            "marker": {
             "colorbar": {
              "outlinewidth": 0,
              "ticks": ""
             }
            },
            "type": "scatterternary"
           }
          ],
          "surface": [
           {
            "colorbar": {
             "outlinewidth": 0,
             "ticks": ""
            },
            "colorscale": [
             [
              0,
              "#0d0887"
             ],
             [
              0.1111111111111111,
              "#46039f"
             ],
             [
              0.2222222222222222,
              "#7201a8"
             ],
             [
              0.3333333333333333,
              "#9c179e"
             ],
             [
              0.4444444444444444,
              "#bd3786"
             ],
             [
              0.5555555555555556,
              "#d8576b"
             ],
             [
              0.6666666666666666,
              "#ed7953"
             ],
             [
              0.7777777777777778,
              "#fb9f3a"
             ],
             [
              0.8888888888888888,
              "#fdca26"
             ],
             [
              1,
              "#f0f921"
             ]
            ],
            "type": "surface"
           }
          ],
          "table": [
           {
            "cells": {
             "fill": {
              "color": "#EBF0F8"
             },
             "line": {
              "color": "white"
             }
            },
            "header": {
             "fill": {
              "color": "#C8D4E3"
             },
             "line": {
              "color": "white"
             }
            },
            "type": "table"
           }
          ]
         },
         "layout": {
          "annotationdefaults": {
           "arrowcolor": "#2a3f5f",
           "arrowhead": 0,
           "arrowwidth": 1
          },
          "coloraxis": {
           "colorbar": {
            "outlinewidth": 0,
            "ticks": ""
           }
          },
          "colorscale": {
           "diverging": [
            [
             0,
             "#8e0152"
            ],
            [
             0.1,
             "#c51b7d"
            ],
            [
             0.2,
             "#de77ae"
            ],
            [
             0.3,
             "#f1b6da"
            ],
            [
             0.4,
             "#fde0ef"
            ],
            [
             0.5,
             "#f7f7f7"
            ],
            [
             0.6,
             "#e6f5d0"
            ],
            [
             0.7,
             "#b8e186"
            ],
            [
             0.8,
             "#7fbc41"
            ],
            [
             0.9,
             "#4d9221"
            ],
            [
             1,
             "#276419"
            ]
           ],
           "sequential": [
            [
             0,
             "#0d0887"
            ],
            [
             0.1111111111111111,
             "#46039f"
            ],
            [
             0.2222222222222222,
             "#7201a8"
            ],
            [
             0.3333333333333333,
             "#9c179e"
            ],
            [
             0.4444444444444444,
             "#bd3786"
            ],
            [
             0.5555555555555556,
             "#d8576b"
            ],
            [
             0.6666666666666666,
             "#ed7953"
            ],
            [
             0.7777777777777778,
             "#fb9f3a"
            ],
            [
             0.8888888888888888,
             "#fdca26"
            ],
            [
             1,
             "#f0f921"
            ]
           ],
           "sequentialminus": [
            [
             0,
             "#0d0887"
            ],
            [
             0.1111111111111111,
             "#46039f"
            ],
            [
             0.2222222222222222,
             "#7201a8"
            ],
            [
             0.3333333333333333,
             "#9c179e"
            ],
            [
             0.4444444444444444,
             "#bd3786"
            ],
            [
             0.5555555555555556,
             "#d8576b"
            ],
            [
             0.6666666666666666,
             "#ed7953"
            ],
            [
             0.7777777777777778,
             "#fb9f3a"
            ],
            [
             0.8888888888888888,
             "#fdca26"
            ],
            [
             1,
             "#f0f921"
            ]
           ]
          },
          "colorway": [
           "#636efa",
           "#EF553B",
           "#00cc96",
           "#ab63fa",
           "#FFA15A",
           "#19d3f3",
           "#FF6692",
           "#B6E880",
           "#FF97FF",
           "#FECB52"
          ],
          "font": {
           "color": "#2a3f5f"
          },
          "geo": {
           "bgcolor": "white",
           "lakecolor": "white",
           "landcolor": "#E5ECF6",
           "showlakes": true,
           "showland": true,
           "subunitcolor": "white"
          },
          "hoverlabel": {
           "align": "left"
          },
          "hovermode": "closest",
          "mapbox": {
           "style": "light"
          },
          "paper_bgcolor": "white",
          "plot_bgcolor": "#E5ECF6",
          "polar": {
           "angularaxis": {
            "gridcolor": "white",
            "linecolor": "white",
            "ticks": ""
           },
           "bgcolor": "#E5ECF6",
           "radialaxis": {
            "gridcolor": "white",
            "linecolor": "white",
            "ticks": ""
           }
          },
          "scene": {
           "xaxis": {
            "backgroundcolor": "#E5ECF6",
            "gridcolor": "white",
            "gridwidth": 2,
            "linecolor": "white",
            "showbackground": true,
            "ticks": "",
            "zerolinecolor": "white"
           },
           "yaxis": {
            "backgroundcolor": "#E5ECF6",
            "gridcolor": "white",
            "gridwidth": 2,
            "linecolor": "white",
            "showbackground": true,
            "ticks": "",
            "zerolinecolor": "white"
           },
           "zaxis": {
            "backgroundcolor": "#E5ECF6",
            "gridcolor": "white",
            "gridwidth": 2,
            "linecolor": "white",
            "showbackground": true,
            "ticks": "",
            "zerolinecolor": "white"
           }
          },
          "shapedefaults": {
           "line": {
            "color": "#2a3f5f"
           }
          },
          "ternary": {
           "aaxis": {
            "gridcolor": "white",
            "linecolor": "white",
            "ticks": ""
           },
           "baxis": {
            "gridcolor": "white",
            "linecolor": "white",
            "ticks": ""
           },
           "bgcolor": "#E5ECF6",
           "caxis": {
            "gridcolor": "white",
            "linecolor": "white",
            "ticks": ""
           }
          },
          "title": {
           "x": 0.05
          },
          "xaxis": {
           "automargin": true,
           "gridcolor": "white",
           "linecolor": "white",
           "ticks": "",
           "title": {
            "standoff": 15
           },
           "zerolinecolor": "white",
           "zerolinewidth": 2
          },
          "yaxis": {
           "automargin": true,
           "gridcolor": "white",
           "linecolor": "white",
           "ticks": "",
           "title": {
            "standoff": 15
           },
           "zerolinecolor": "white",
           "zerolinewidth": 2
          }
         }
        },
        "width": 800,
        "xaxis": {
         "anchor": "y",
         "domain": [
          0,
          1
         ],
         "range": [
          0,
          12
         ],
         "title": {
          "text": "Mortality Rate"
         }
        },
        "yaxis": {
         "anchor": "x",
         "domain": [
          0,
          1
         ],
         "title": {
          "text": "Country_Region"
         }
        }
       }
      },
      "text/html": [
       "<div>\n",
       "        \n",
       "        \n",
       "            <div id=\"2297bd59-57a2-4f5a-bcfd-58b1131156fb\" class=\"plotly-graph-div\" style=\"height:500px; width:800px;\"></div>\n",
       "            <script type=\"text/javascript\">\n",
       "                require([\"plotly\"], function(Plotly) {\n",
       "                    window.PLOTLYENV=window.PLOTLYENV || {};\n",
       "                    \n",
       "                if (document.getElementById(\"2297bd59-57a2-4f5a-bcfd-58b1131156fb\")) {\n",
       "                    Plotly.newPlot(\n",
       "                        '2297bd59-57a2-4f5a-bcfd-58b1131156fb',\n",
       "                        [{\"alignmentgroup\": \"True\", \"hoverlabel\": {\"namelength\": 0}, \"hovertemplate\": \"Mortality Rate=%{text}<br>Country_Region=%{y}\", \"legendgroup\": \"\", \"marker\": {\"color\": \"#ff2e63\"}, \"name\": \"\", \"offsetgroup\": \"\", \"opacity\": 0.6, \"orientation\": \"h\", \"showlegend\": false, \"text\": [3.85, 4.02, 4.19, 4.28, 4.49, 5.0, 5.19, 6.58, 7.14, 7.39, 7.86, 8.46, 8.65, 9.51, 10.7], \"textposition\": \"outside\", \"type\": \"bar\", \"x\": [3.85, 4.02, 4.19, 4.28, 4.49, 5.0, 5.19, 6.58, 7.14, 7.39, 7.86, 8.46, 8.65, 9.51, 10.7], \"xaxis\": \"x\", \"y\": [\"Albania\", \"China\", \"Hungary\", \"France\", \"Netherlands\", \"United Kingdom\", \"Egypt\", \"Spain\", \"Philippines\", \"Algeria\", \"Iran\", \"Indonesia\", \"Iraq\", \"Italy\", \"San Marino\"], \"yaxis\": \"y\"}],\n",
       "                        {\"barmode\": \"relative\", \"height\": 500, \"legend\": {\"tracegroupgap\": 0}, \"margin\": {\"t\": 60}, \"template\": {\"data\": {\"bar\": [{\"error_x\": {\"color\": \"#2a3f5f\"}, \"error_y\": {\"color\": \"#2a3f5f\"}, \"marker\": {\"line\": {\"color\": \"#E5ECF6\", \"width\": 0.5}}, \"type\": \"bar\"}], \"barpolar\": [{\"marker\": {\"line\": {\"color\": \"#E5ECF6\", \"width\": 0.5}}, \"type\": \"barpolar\"}], \"carpet\": [{\"aaxis\": {\"endlinecolor\": \"#2a3f5f\", \"gridcolor\": \"white\", \"linecolor\": \"white\", \"minorgridcolor\": \"white\", \"startlinecolor\": \"#2a3f5f\"}, \"baxis\": {\"endlinecolor\": \"#2a3f5f\", \"gridcolor\": \"white\", \"linecolor\": \"white\", \"minorgridcolor\": \"white\", \"startlinecolor\": \"#2a3f5f\"}, \"type\": \"carpet\"}], \"choropleth\": [{\"colorbar\": {\"outlinewidth\": 0, \"ticks\": \"\"}, \"type\": \"choropleth\"}], \"contour\": [{\"colorbar\": {\"outlinewidth\": 0, \"ticks\": \"\"}, \"colorscale\": [[0.0, \"#0d0887\"], [0.1111111111111111, \"#46039f\"], [0.2222222222222222, \"#7201a8\"], [0.3333333333333333, \"#9c179e\"], [0.4444444444444444, \"#bd3786\"], [0.5555555555555556, \"#d8576b\"], [0.6666666666666666, \"#ed7953\"], [0.7777777777777778, \"#fb9f3a\"], [0.8888888888888888, \"#fdca26\"], [1.0, \"#f0f921\"]], \"type\": \"contour\"}], \"contourcarpet\": [{\"colorbar\": {\"outlinewidth\": 0, \"ticks\": \"\"}, \"type\": \"contourcarpet\"}], \"heatmap\": [{\"colorbar\": {\"outlinewidth\": 0, \"ticks\": \"\"}, \"colorscale\": [[0.0, \"#0d0887\"], [0.1111111111111111, \"#46039f\"], [0.2222222222222222, \"#7201a8\"], [0.3333333333333333, \"#9c179e\"], [0.4444444444444444, \"#bd3786\"], [0.5555555555555556, \"#d8576b\"], [0.6666666666666666, \"#ed7953\"], [0.7777777777777778, \"#fb9f3a\"], [0.8888888888888888, \"#fdca26\"], [1.0, \"#f0f921\"]], \"type\": \"heatmap\"}], \"heatmapgl\": [{\"colorbar\": {\"outlinewidth\": 0, \"ticks\": \"\"}, \"colorscale\": [[0.0, \"#0d0887\"], [0.1111111111111111, \"#46039f\"], [0.2222222222222222, \"#7201a8\"], [0.3333333333333333, \"#9c179e\"], [0.4444444444444444, \"#bd3786\"], [0.5555555555555556, \"#d8576b\"], [0.6666666666666666, \"#ed7953\"], [0.7777777777777778, \"#fb9f3a\"], [0.8888888888888888, \"#fdca26\"], [1.0, \"#f0f921\"]], \"type\": \"heatmapgl\"}], \"histogram\": [{\"marker\": {\"colorbar\": {\"outlinewidth\": 0, \"ticks\": \"\"}}, \"type\": \"histogram\"}], \"histogram2d\": [{\"colorbar\": {\"outlinewidth\": 0, \"ticks\": \"\"}, \"colorscale\": [[0.0, \"#0d0887\"], [0.1111111111111111, \"#46039f\"], [0.2222222222222222, \"#7201a8\"], [0.3333333333333333, \"#9c179e\"], [0.4444444444444444, \"#bd3786\"], [0.5555555555555556, \"#d8576b\"], [0.6666666666666666, \"#ed7953\"], [0.7777777777777778, \"#fb9f3a\"], [0.8888888888888888, \"#fdca26\"], [1.0, \"#f0f921\"]], \"type\": \"histogram2d\"}], \"histogram2dcontour\": [{\"colorbar\": {\"outlinewidth\": 0, \"ticks\": \"\"}, \"colorscale\": [[0.0, \"#0d0887\"], [0.1111111111111111, \"#46039f\"], [0.2222222222222222, \"#7201a8\"], [0.3333333333333333, \"#9c179e\"], [0.4444444444444444, \"#bd3786\"], [0.5555555555555556, \"#d8576b\"], [0.6666666666666666, \"#ed7953\"], [0.7777777777777778, \"#fb9f3a\"], [0.8888888888888888, \"#fdca26\"], [1.0, \"#f0f921\"]], \"type\": \"histogram2dcontour\"}], \"mesh3d\": [{\"colorbar\": {\"outlinewidth\": 0, \"ticks\": \"\"}, \"type\": \"mesh3d\"}], \"parcoords\": [{\"line\": {\"colorbar\": {\"outlinewidth\": 0, \"ticks\": \"\"}}, \"type\": \"parcoords\"}], \"pie\": [{\"automargin\": true, \"type\": \"pie\"}], \"scatter\": [{\"marker\": {\"colorbar\": {\"outlinewidth\": 0, \"ticks\": \"\"}}, \"type\": \"scatter\"}], \"scatter3d\": [{\"line\": {\"colorbar\": {\"outlinewidth\": 0, \"ticks\": \"\"}}, \"marker\": {\"colorbar\": {\"outlinewidth\": 0, \"ticks\": \"\"}}, \"type\": \"scatter3d\"}], \"scattercarpet\": [{\"marker\": {\"colorbar\": {\"outlinewidth\": 0, \"ticks\": \"\"}}, \"type\": \"scattercarpet\"}], \"scattergeo\": [{\"marker\": {\"colorbar\": {\"outlinewidth\": 0, \"ticks\": \"\"}}, \"type\": \"scattergeo\"}], \"scattergl\": [{\"marker\": {\"colorbar\": {\"outlinewidth\": 0, \"ticks\": \"\"}}, \"type\": \"scattergl\"}], \"scattermapbox\": [{\"marker\": {\"colorbar\": {\"outlinewidth\": 0, \"ticks\": \"\"}}, \"type\": \"scattermapbox\"}], \"scatterpolar\": [{\"marker\": {\"colorbar\": {\"outlinewidth\": 0, \"ticks\": \"\"}}, \"type\": \"scatterpolar\"}], \"scatterpolargl\": [{\"marker\": {\"colorbar\": {\"outlinewidth\": 0, \"ticks\": \"\"}}, \"type\": \"scatterpolargl\"}], \"scatterternary\": [{\"marker\": {\"colorbar\": {\"outlinewidth\": 0, \"ticks\": \"\"}}, \"type\": \"scatterternary\"}], \"surface\": [{\"colorbar\": {\"outlinewidth\": 0, \"ticks\": \"\"}, \"colorscale\": [[0.0, \"#0d0887\"], [0.1111111111111111, \"#46039f\"], [0.2222222222222222, \"#7201a8\"], [0.3333333333333333, \"#9c179e\"], [0.4444444444444444, \"#bd3786\"], [0.5555555555555556, \"#d8576b\"], [0.6666666666666666, \"#ed7953\"], [0.7777777777777778, \"#fb9f3a\"], [0.8888888888888888, \"#fdca26\"], [1.0, \"#f0f921\"]], \"type\": \"surface\"}], \"table\": [{\"cells\": {\"fill\": {\"color\": \"#EBF0F8\"}, \"line\": {\"color\": \"white\"}}, \"header\": {\"fill\": {\"color\": \"#C8D4E3\"}, \"line\": {\"color\": \"white\"}}, \"type\": \"table\"}]}, \"layout\": {\"annotationdefaults\": {\"arrowcolor\": \"#2a3f5f\", \"arrowhead\": 0, \"arrowwidth\": 1}, \"coloraxis\": {\"colorbar\": {\"outlinewidth\": 0, \"ticks\": \"\"}}, \"colorscale\": {\"diverging\": [[0, \"#8e0152\"], [0.1, \"#c51b7d\"], [0.2, \"#de77ae\"], [0.3, \"#f1b6da\"], [0.4, \"#fde0ef\"], [0.5, \"#f7f7f7\"], [0.6, \"#e6f5d0\"], [0.7, \"#b8e186\"], [0.8, \"#7fbc41\"], [0.9, \"#4d9221\"], [1, \"#276419\"]], \"sequential\": [[0.0, \"#0d0887\"], [0.1111111111111111, \"#46039f\"], [0.2222222222222222, \"#7201a8\"], [0.3333333333333333, \"#9c179e\"], [0.4444444444444444, \"#bd3786\"], [0.5555555555555556, \"#d8576b\"], [0.6666666666666666, \"#ed7953\"], [0.7777777777777778, \"#fb9f3a\"], [0.8888888888888888, \"#fdca26\"], [1.0, \"#f0f921\"]], \"sequentialminus\": [[0.0, \"#0d0887\"], [0.1111111111111111, \"#46039f\"], [0.2222222222222222, \"#7201a8\"], [0.3333333333333333, \"#9c179e\"], [0.4444444444444444, \"#bd3786\"], [0.5555555555555556, \"#d8576b\"], [0.6666666666666666, \"#ed7953\"], [0.7777777777777778, \"#fb9f3a\"], [0.8888888888888888, \"#fdca26\"], [1.0, \"#f0f921\"]]}, \"colorway\": [\"#636efa\", \"#EF553B\", \"#00cc96\", \"#ab63fa\", \"#FFA15A\", \"#19d3f3\", \"#FF6692\", \"#B6E880\", \"#FF97FF\", \"#FECB52\"], \"font\": {\"color\": \"#2a3f5f\"}, \"geo\": {\"bgcolor\": \"white\", \"lakecolor\": \"white\", \"landcolor\": \"#E5ECF6\", \"showlakes\": true, \"showland\": true, \"subunitcolor\": \"white\"}, \"hoverlabel\": {\"align\": \"left\"}, \"hovermode\": \"closest\", \"mapbox\": {\"style\": \"light\"}, \"paper_bgcolor\": \"white\", \"plot_bgcolor\": \"#E5ECF6\", \"polar\": {\"angularaxis\": {\"gridcolor\": \"white\", \"linecolor\": \"white\", \"ticks\": \"\"}, \"bgcolor\": \"#E5ECF6\", \"radialaxis\": {\"gridcolor\": \"white\", \"linecolor\": \"white\", \"ticks\": \"\"}}, \"scene\": {\"xaxis\": {\"backgroundcolor\": \"#E5ECF6\", \"gridcolor\": \"white\", \"gridwidth\": 2, \"linecolor\": \"white\", \"showbackground\": true, \"ticks\": \"\", \"zerolinecolor\": \"white\"}, \"yaxis\": {\"backgroundcolor\": \"#E5ECF6\", \"gridcolor\": \"white\", \"gridwidth\": 2, \"linecolor\": \"white\", \"showbackground\": true, \"ticks\": \"\", \"zerolinecolor\": \"white\"}, \"zaxis\": {\"backgroundcolor\": \"#E5ECF6\", \"gridcolor\": \"white\", \"gridwidth\": 2, \"linecolor\": \"white\", \"showbackground\": true, \"ticks\": \"\", \"zerolinecolor\": \"white\"}}, \"shapedefaults\": {\"line\": {\"color\": \"#2a3f5f\"}}, \"ternary\": {\"aaxis\": {\"gridcolor\": \"white\", \"linecolor\": \"white\", \"ticks\": \"\"}, \"baxis\": {\"gridcolor\": \"white\", \"linecolor\": \"white\", \"ticks\": \"\"}, \"bgcolor\": \"#E5ECF6\", \"caxis\": {\"gridcolor\": \"white\", \"linecolor\": \"white\", \"ticks\": \"\"}}, \"title\": {\"x\": 0.05}, \"xaxis\": {\"automargin\": true, \"gridcolor\": \"white\", \"linecolor\": \"white\", \"ticks\": \"\", \"title\": {\"standoff\": 15}, \"zerolinecolor\": \"white\", \"zerolinewidth\": 2}, \"yaxis\": {\"automargin\": true, \"gridcolor\": \"white\", \"linecolor\": \"white\", \"ticks\": \"\", \"title\": {\"standoff\": 15}, \"zerolinecolor\": \"white\", \"zerolinewidth\": 2}}}, \"width\": 800, \"xaxis\": {\"anchor\": \"y\", \"domain\": [0.0, 1.0], \"range\": [0, 12], \"title\": {\"text\": \"Mortality Rate\"}}, \"yaxis\": {\"anchor\": \"x\", \"domain\": [0.0, 1.0], \"title\": {\"text\": \"Country_Region\"}}},\n",
       "                        {\"responsive\": true}\n",
       "                    ).then(function(){\n",
       "                            \n",
       "var gd = document.getElementById('2297bd59-57a2-4f5a-bcfd-58b1131156fb');\n",
       "var x = new MutationObserver(function (mutations, observer) {{\n",
       "        var display = window.getComputedStyle(gd).display;\n",
       "        if (!display || display === 'none') {{\n",
       "            console.log([gd, 'removed!']);\n",
       "            Plotly.purge(gd);\n",
       "            observer.disconnect();\n",
       "        }}\n",
       "}});\n",
       "\n",
       "// Listen for the removal of the full notebook cells\n",
       "var notebookContainer = gd.closest('#notebook-container');\n",
       "if (notebookContainer) {{\n",
       "    x.observe(notebookContainer, {childList: true});\n",
       "}}\n",
       "\n",
       "// Listen for the clearing of the current output cell\n",
       "var outputEl = gd.closest('.output');\n",
       "if (outputEl) {{\n",
       "    x.observe(outputEl, {childList: true});\n",
       "}}\n",
       "\n",
       "                        })\n",
       "                };\n",
       "                });\n",
       "            </script>\n",
       "        </div>"
      ]
     },
     "metadata": {},
     "output_type": "display_data"
    }
   ],
   "source": [
    "top10MortalityRate = classement\n",
    "\n",
    "# Ajout de la nouvelle colonne tauxMortalité = (Morts/Confirmé)*100, arrondi à deux decimals\n",
    "top10MortalityRate['Mortality Rate'] = round((top10MortalityRate['Deaths']/top10MortalityRate['Confirmed'])*100, 2)\n",
    "\n",
    "# On prend que les pays qui ont plus de 100 cas confirmés\n",
    "temp = top10MortalityRate[top10MortalityRate['Confirmed']>100]\n",
    "temp = temp.sort_values('Mortality Rate', ascending=False)\n",
    "\n",
    "fig = px.bar(temp.sort_values('Mortality Rate', ascending=False).head(15).sort_values('Mortality Rate', ascending=True), \n",
    "             x=\"Mortality Rate\", y=\"Country_Region\", text='Mortality Rate', orientation='h', \n",
    "             width=800, height=500, range_x = [0, 12])\n",
    "fig.update_traces(marker_color=colorRed, opacity=0.6, textposition='outside')\n",
    "iplot(fig)"
   ]
  },
  {
   "cell_type": "markdown",
   "metadata": {},
   "source": [
    "## Comparatif taux de létalité - France/Chine/Italie"
   ]
  },
  {
   "cell_type": "code",
   "execution_count": 24,
   "metadata": {},
   "outputs": [
    {
     "data": {
      "application/vnd.plotly.v1+json": {
       "config": {
        "linkText": "Export to plot.ly",
        "plotlyServerURL": "https://plot.ly",
        "showLink": false
       },
       "data": [
        {
         "hoverlabel": {
          "namelength": 0
         },
         "hovertemplate": "Pays=Chine<br>Date=%{x}<br>Taux=%{y}",
         "legendgroup": "Chine",
         "line": {
          "color": "#d21629",
          "dash": "solid"
         },
         "mode": "lines",
         "name": "Chine",
         "showlegend": true,
         "type": "scatter",
         "x": [
          "1/22/20",
          "1/23/20",
          "1/24/20",
          "1/25/20",
          "1/26/20",
          "1/27/20",
          "1/28/20",
          "1/29/20",
          "1/30/20",
          "1/31/20",
          "2/1/20",
          "2/2/20",
          "2/3/20",
          "2/4/20",
          "2/5/20",
          "2/6/20",
          "2/7/20",
          "2/8/20",
          "2/9/20",
          "2/10/20",
          "2/11/20",
          "2/12/20",
          "2/13/20",
          "2/14/20",
          "2/15/20",
          "2/16/20",
          "2/17/20",
          "2/18/20",
          "2/19/20",
          "2/20/20",
          "2/21/20",
          "2/22/20",
          "2/23/20",
          "2/24/20",
          "2/25/20",
          "2/26/20",
          "2/27/20",
          "2/28/20",
          "2/29/20",
          "3/1/20",
          "3/2/20",
          "3/3/20",
          "3/4/20",
          "3/5/20",
          "3/6/20",
          "3/7/20",
          "3/8/20",
          "3/9/20",
          "3/10/20",
          "3/11/20",
          "3/12/20",
          "3/13/20",
          "3/14/20",
          "3/15/20",
          "3/16/20",
          "3/17/20",
          "3/18/20",
          "3/19/20",
          "3/20/20",
          "3/21/20",
          "3/22/20",
          "3/23/20"
         ],
         "xaxis": "x",
         "y": [
          3.1,
          2.8000000000000003,
          2.8000000000000003,
          3,
          2.7,
          2.9000000000000004,
          2.4,
          2.1999999999999997,
          2.1,
          2.1999999999999997,
          2.1999999999999997,
          2.1999999999999997,
          2.1999999999999997,
          2.1,
          2.1,
          2.1,
          2.1,
          2.1999999999999997,
          2.3,
          2.4,
          2.5,
          2.5,
          2.3,
          2.3,
          2.4,
          2.5,
          2.6,
          2.7,
          2.8000000000000003,
          3,
          3,
          3.2,
          3.2,
          3.4000000000000004,
          3.4000000000000004,
          3.5000000000000004,
          3.5000000000000004,
          3.5000000000000004,
          3.5999999999999996,
          3.5999999999999996,
          3.5999999999999996,
          3.6999999999999997,
          3.6999999999999997,
          3.6999999999999997,
          3.8,
          3.8,
          3.8,
          3.9,
          3.9,
          3.9,
          3.9,
          3.9,
          3.9,
          4,
          4,
          4,
          4,
          4,
          4,
          4,
          4,
          4
         ],
         "yaxis": "y"
        },
        {
         "hoverlabel": {
          "namelength": 0
         },
         "hovertemplate": "Pays=France<br>Date=%{x}<br>Taux=%{y}",
         "legendgroup": "France",
         "line": {
          "color": "#162cd2",
          "dash": "solid"
         },
         "mode": "lines",
         "name": "France",
         "showlegend": true,
         "type": "scatter",
         "x": [
          "1/22/20",
          "1/23/20",
          "1/24/20",
          "1/25/20",
          "1/26/20",
          "1/27/20",
          "1/28/20",
          "1/29/20",
          "1/30/20",
          "1/31/20",
          "2/1/20",
          "2/2/20",
          "2/3/20",
          "2/4/20",
          "2/5/20",
          "2/6/20",
          "2/7/20",
          "2/8/20",
          "2/9/20",
          "2/10/20",
          "2/11/20",
          "2/12/20",
          "2/13/20",
          "2/14/20",
          "2/15/20",
          "2/16/20",
          "2/17/20",
          "2/18/20",
          "2/19/20",
          "2/20/20",
          "2/21/20",
          "2/22/20",
          "2/23/20",
          "2/24/20",
          "2/25/20",
          "2/26/20",
          "2/27/20",
          "2/28/20",
          "2/29/20",
          "3/1/20",
          "3/2/20",
          "3/3/20",
          "3/4/20",
          "3/5/20",
          "3/6/20",
          "3/7/20",
          "3/8/20",
          "3/9/20",
          "3/10/20",
          "3/11/20",
          "3/12/20",
          "3/13/20",
          "3/14/20",
          "3/15/20",
          "3/16/20",
          "3/17/20",
          "3/18/20",
          "3/19/20",
          "3/20/20",
          "3/21/20",
          "3/22/20",
          "3/23/20"
         ],
         "xaxis": "x",
         "y": [
          null,
          null,
          0,
          0,
          0,
          0,
          0,
          0,
          0,
          0,
          0,
          0,
          0,
          0,
          0,
          0,
          0,
          0,
          0,
          0,
          0,
          0,
          0,
          0,
          8.3,
          8.3,
          8.3,
          8.3,
          8.3,
          8.3,
          8.3,
          8.3,
          8.3,
          8.3,
          7.1,
          11.1,
          5.3,
          3.5000000000000004,
          2,
          1.5,
          1.6,
          2,
          1.4000000000000001,
          1.6,
          1.4000000000000001,
          1.2,
          1.7000000000000002,
          1.6,
          1.7999999999999998,
          2.1,
          2.1,
          2.1999999999999997,
          2,
          2,
          2.1999999999999997,
          1.9,
          1.6,
          2.1999999999999997,
          3.5999999999999996,
          3.9,
          4.2,
          4.2
         ],
         "yaxis": "y"
        },
        {
         "hoverlabel": {
          "namelength": 0
         },
         "hovertemplate": "Pays=Italie<br>Date=%{x}<br>Taux=%{y}",
         "legendgroup": "Italie",
         "line": {
          "color": "#008000",
          "dash": "solid"
         },
         "mode": "lines",
         "name": "Italie",
         "showlegend": true,
         "type": "scatter",
         "x": [
          "1/22/20",
          "1/23/20",
          "1/24/20",
          "1/25/20",
          "1/26/20",
          "1/27/20",
          "1/28/20",
          "1/29/20",
          "1/30/20",
          "1/31/20",
          "2/1/20",
          "2/2/20",
          "2/3/20",
          "2/4/20",
          "2/5/20",
          "2/6/20",
          "2/7/20",
          "2/8/20",
          "2/9/20",
          "2/10/20",
          "2/11/20",
          "2/12/20",
          "2/13/20",
          "2/14/20",
          "2/15/20",
          "2/16/20",
          "2/17/20",
          "2/18/20",
          "2/19/20",
          "2/20/20",
          "2/21/20",
          "2/22/20",
          "2/23/20",
          "2/24/20",
          "2/25/20",
          "2/26/20",
          "2/27/20",
          "2/28/20",
          "2/29/20",
          "3/1/20",
          "3/2/20",
          "3/3/20",
          "3/4/20",
          "3/5/20",
          "3/6/20",
          "3/7/20",
          "3/8/20",
          "3/9/20",
          "3/10/20",
          "3/11/20",
          "3/12/20",
          "3/13/20",
          "3/14/20",
          "3/15/20",
          "3/16/20",
          "3/17/20",
          "3/18/20",
          "3/19/20",
          "3/20/20",
          "3/21/20",
          "3/22/20",
          "3/23/20"
         ],
         "xaxis": "x",
         "y": [
          null,
          null,
          null,
          null,
          null,
          null,
          null,
          null,
          null,
          0,
          0,
          0,
          0,
          0,
          0,
          0,
          0,
          0,
          0,
          0,
          0,
          0,
          0,
          0,
          0,
          0,
          0,
          0,
          0,
          0,
          5,
          3.2,
          1.9,
          3.1,
          3.1,
          2.6,
          2.6,
          2.4,
          2.6,
          2,
          2.6,
          3.2,
          3.5000000000000004,
          3.8,
          4.2,
          4,
          5,
          5,
          6.2,
          6.6000000000000005,
          6.6000000000000005,
          7.199999999999999,
          6.800000000000001,
          7.3,
          7.7,
          7.9,
          8.3,
          8.3,
          8.6,
          9,
          9.3,
          9.3
         ],
         "yaxis": "y"
        }
       ],
       "layout": {
        "legend": {
         "title": {
          "text": "Pays"
         },
         "tracegroupgap": 0
        },
        "template": {
         "data": {
          "bar": [
           {
            "error_x": {
             "color": "#2a3f5f"
            },
            "error_y": {
             "color": "#2a3f5f"
            },
            "marker": {
             "line": {
              "color": "#E5ECF6",
              "width": 0.5
             }
            },
            "type": "bar"
           }
          ],
          "barpolar": [
           {
            "marker": {
             "line": {
              "color": "#E5ECF6",
              "width": 0.5
             }
            },
            "type": "barpolar"
           }
          ],
          "carpet": [
           {
            "aaxis": {
             "endlinecolor": "#2a3f5f",
             "gridcolor": "white",
             "linecolor": "white",
             "minorgridcolor": "white",
             "startlinecolor": "#2a3f5f"
            },
            "baxis": {
             "endlinecolor": "#2a3f5f",
             "gridcolor": "white",
             "linecolor": "white",
             "minorgridcolor": "white",
             "startlinecolor": "#2a3f5f"
            },
            "type": "carpet"
           }
          ],
          "choropleth": [
           {
            "colorbar": {
             "outlinewidth": 0,
             "ticks": ""
            },
            "type": "choropleth"
           }
          ],
          "contour": [
           {
            "colorbar": {
             "outlinewidth": 0,
             "ticks": ""
            },
            "colorscale": [
             [
              0,
              "#0d0887"
             ],
             [
              0.1111111111111111,
              "#46039f"
             ],
             [
              0.2222222222222222,
              "#7201a8"
             ],
             [
              0.3333333333333333,
              "#9c179e"
             ],
             [
              0.4444444444444444,
              "#bd3786"
             ],
             [
              0.5555555555555556,
              "#d8576b"
             ],
             [
              0.6666666666666666,
              "#ed7953"
             ],
             [
              0.7777777777777778,
              "#fb9f3a"
             ],
             [
              0.8888888888888888,
              "#fdca26"
             ],
             [
              1,
              "#f0f921"
             ]
            ],
            "type": "contour"
           }
          ],
          "contourcarpet": [
           {
            "colorbar": {
             "outlinewidth": 0,
             "ticks": ""
            },
            "type": "contourcarpet"
           }
          ],
          "heatmap": [
           {
            "colorbar": {
             "outlinewidth": 0,
             "ticks": ""
            },
            "colorscale": [
             [
              0,
              "#0d0887"
             ],
             [
              0.1111111111111111,
              "#46039f"
             ],
             [
              0.2222222222222222,
              "#7201a8"
             ],
             [
              0.3333333333333333,
              "#9c179e"
             ],
             [
              0.4444444444444444,
              "#bd3786"
             ],
             [
              0.5555555555555556,
              "#d8576b"
             ],
             [
              0.6666666666666666,
              "#ed7953"
             ],
             [
              0.7777777777777778,
              "#fb9f3a"
             ],
             [
              0.8888888888888888,
              "#fdca26"
             ],
             [
              1,
              "#f0f921"
             ]
            ],
            "type": "heatmap"
           }
          ],
          "heatmapgl": [
           {
            "colorbar": {
             "outlinewidth": 0,
             "ticks": ""
            },
            "colorscale": [
             [
              0,
              "#0d0887"
             ],
             [
              0.1111111111111111,
              "#46039f"
             ],
             [
              0.2222222222222222,
              "#7201a8"
             ],
             [
              0.3333333333333333,
              "#9c179e"
             ],
             [
              0.4444444444444444,
              "#bd3786"
             ],
             [
              0.5555555555555556,
              "#d8576b"
             ],
             [
              0.6666666666666666,
              "#ed7953"
             ],
             [
              0.7777777777777778,
              "#fb9f3a"
             ],
             [
              0.8888888888888888,
              "#fdca26"
             ],
             [
              1,
              "#f0f921"
             ]
            ],
            "type": "heatmapgl"
           }
          ],
          "histogram": [
           {
            "marker": {
             "colorbar": {
              "outlinewidth": 0,
              "ticks": ""
             }
            },
            "type": "histogram"
           }
          ],
          "histogram2d": [
           {
            "colorbar": {
             "outlinewidth": 0,
             "ticks": ""
            },
            "colorscale": [
             [
              0,
              "#0d0887"
             ],
             [
              0.1111111111111111,
              "#46039f"
             ],
             [
              0.2222222222222222,
              "#7201a8"
             ],
             [
              0.3333333333333333,
              "#9c179e"
             ],
             [
              0.4444444444444444,
              "#bd3786"
             ],
             [
              0.5555555555555556,
              "#d8576b"
             ],
             [
              0.6666666666666666,
              "#ed7953"
             ],
             [
              0.7777777777777778,
              "#fb9f3a"
             ],
             [
              0.8888888888888888,
              "#fdca26"
             ],
             [
              1,
              "#f0f921"
             ]
            ],
            "type": "histogram2d"
           }
          ],
          "histogram2dcontour": [
           {
            "colorbar": {
             "outlinewidth": 0,
             "ticks": ""
            },
            "colorscale": [
             [
              0,
              "#0d0887"
             ],
             [
              0.1111111111111111,
              "#46039f"
             ],
             [
              0.2222222222222222,
              "#7201a8"
             ],
             [
              0.3333333333333333,
              "#9c179e"
             ],
             [
              0.4444444444444444,
              "#bd3786"
             ],
             [
              0.5555555555555556,
              "#d8576b"
             ],
             [
              0.6666666666666666,
              "#ed7953"
             ],
             [
              0.7777777777777778,
              "#fb9f3a"
             ],
             [
              0.8888888888888888,
              "#fdca26"
             ],
             [
              1,
              "#f0f921"
             ]
            ],
            "type": "histogram2dcontour"
           }
          ],
          "mesh3d": [
           {
            "colorbar": {
             "outlinewidth": 0,
             "ticks": ""
            },
            "type": "mesh3d"
           }
          ],
          "parcoords": [
           {
            "line": {
             "colorbar": {
              "outlinewidth": 0,
              "ticks": ""
             }
            },
            "type": "parcoords"
           }
          ],
          "pie": [
           {
            "automargin": true,
            "type": "pie"
           }
          ],
          "scatter": [
           {
            "marker": {
             "colorbar": {
              "outlinewidth": 0,
              "ticks": ""
             }
            },
            "type": "scatter"
           }
          ],
          "scatter3d": [
           {
            "line": {
             "colorbar": {
              "outlinewidth": 0,
              "ticks": ""
             }
            },
            "marker": {
             "colorbar": {
              "outlinewidth": 0,
              "ticks": ""
             }
            },
            "type": "scatter3d"
           }
          ],
          "scattercarpet": [
           {
            "marker": {
             "colorbar": {
              "outlinewidth": 0,
              "ticks": ""
             }
            },
            "type": "scattercarpet"
           }
          ],
          "scattergeo": [
           {
            "marker": {
             "colorbar": {
              "outlinewidth": 0,
              "ticks": ""
             }
            },
            "type": "scattergeo"
           }
          ],
          "scattergl": [
           {
            "marker": {
             "colorbar": {
              "outlinewidth": 0,
              "ticks": ""
             }
            },
            "type": "scattergl"
           }
          ],
          "scattermapbox": [
           {
            "marker": {
             "colorbar": {
              "outlinewidth": 0,
              "ticks": ""
             }
            },
            "type": "scattermapbox"
           }
          ],
          "scatterpolar": [
           {
            "marker": {
             "colorbar": {
              "outlinewidth": 0,
              "ticks": ""
             }
            },
            "type": "scatterpolar"
           }
          ],
          "scatterpolargl": [
           {
            "marker": {
             "colorbar": {
              "outlinewidth": 0,
              "ticks": ""
             }
            },
            "type": "scatterpolargl"
           }
          ],
          "scatterternary": [
           {
            "marker": {
             "colorbar": {
              "outlinewidth": 0,
              "ticks": ""
             }
            },
            "type": "scatterternary"
           }
          ],
          "surface": [
           {
            "colorbar": {
             "outlinewidth": 0,
             "ticks": ""
            },
            "colorscale": [
             [
              0,
              "#0d0887"
             ],
             [
              0.1111111111111111,
              "#46039f"
             ],
             [
              0.2222222222222222,
              "#7201a8"
             ],
             [
              0.3333333333333333,
              "#9c179e"
             ],
             [
              0.4444444444444444,
              "#bd3786"
             ],
             [
              0.5555555555555556,
              "#d8576b"
             ],
             [
              0.6666666666666666,
              "#ed7953"
             ],
             [
              0.7777777777777778,
              "#fb9f3a"
             ],
             [
              0.8888888888888888,
              "#fdca26"
             ],
             [
              1,
              "#f0f921"
             ]
            ],
            "type": "surface"
           }
          ],
          "table": [
           {
            "cells": {
             "fill": {
              "color": "#EBF0F8"
             },
             "line": {
              "color": "white"
             }
            },
            "header": {
             "fill": {
              "color": "#C8D4E3"
             },
             "line": {
              "color": "white"
             }
            },
            "type": "table"
           }
          ]
         },
         "layout": {
          "annotationdefaults": {
           "arrowcolor": "#2a3f5f",
           "arrowhead": 0,
           "arrowwidth": 1
          },
          "coloraxis": {
           "colorbar": {
            "outlinewidth": 0,
            "ticks": ""
           }
          },
          "colorscale": {
           "diverging": [
            [
             0,
             "#8e0152"
            ],
            [
             0.1,
             "#c51b7d"
            ],
            [
             0.2,
             "#de77ae"
            ],
            [
             0.3,
             "#f1b6da"
            ],
            [
             0.4,
             "#fde0ef"
            ],
            [
             0.5,
             "#f7f7f7"
            ],
            [
             0.6,
             "#e6f5d0"
            ],
            [
             0.7,
             "#b8e186"
            ],
            [
             0.8,
             "#7fbc41"
            ],
            [
             0.9,
             "#4d9221"
            ],
            [
             1,
             "#276419"
            ]
           ],
           "sequential": [
            [
             0,
             "#0d0887"
            ],
            [
             0.1111111111111111,
             "#46039f"
            ],
            [
             0.2222222222222222,
             "#7201a8"
            ],
            [
             0.3333333333333333,
             "#9c179e"
            ],
            [
             0.4444444444444444,
             "#bd3786"
            ],
            [
             0.5555555555555556,
             "#d8576b"
            ],
            [
             0.6666666666666666,
             "#ed7953"
            ],
            [
             0.7777777777777778,
             "#fb9f3a"
            ],
            [
             0.8888888888888888,
             "#fdca26"
            ],
            [
             1,
             "#f0f921"
            ]
           ],
           "sequentialminus": [
            [
             0,
             "#0d0887"
            ],
            [
             0.1111111111111111,
             "#46039f"
            ],
            [
             0.2222222222222222,
             "#7201a8"
            ],
            [
             0.3333333333333333,
             "#9c179e"
            ],
            [
             0.4444444444444444,
             "#bd3786"
            ],
            [
             0.5555555555555556,
             "#d8576b"
            ],
            [
             0.6666666666666666,
             "#ed7953"
            ],
            [
             0.7777777777777778,
             "#fb9f3a"
            ],
            [
             0.8888888888888888,
             "#fdca26"
            ],
            [
             1,
             "#f0f921"
            ]
           ]
          },
          "colorway": [
           "#636efa",
           "#EF553B",
           "#00cc96",
           "#ab63fa",
           "#FFA15A",
           "#19d3f3",
           "#FF6692",
           "#B6E880",
           "#FF97FF",
           "#FECB52"
          ],
          "font": {
           "color": "#2a3f5f"
          },
          "geo": {
           "bgcolor": "white",
           "lakecolor": "white",
           "landcolor": "#E5ECF6",
           "showlakes": true,
           "showland": true,
           "subunitcolor": "white"
          },
          "hoverlabel": {
           "align": "left"
          },
          "hovermode": "closest",
          "mapbox": {
           "style": "light"
          },
          "paper_bgcolor": "white",
          "plot_bgcolor": "#E5ECF6",
          "polar": {
           "angularaxis": {
            "gridcolor": "white",
            "linecolor": "white",
            "ticks": ""
           },
           "bgcolor": "#E5ECF6",
           "radialaxis": {
            "gridcolor": "white",
            "linecolor": "white",
            "ticks": ""
           }
          },
          "scene": {
           "xaxis": {
            "backgroundcolor": "#E5ECF6",
            "gridcolor": "white",
            "gridwidth": 2,
            "linecolor": "white",
            "showbackground": true,
            "ticks": "",
            "zerolinecolor": "white"
           },
           "yaxis": {
            "backgroundcolor": "#E5ECF6",
            "gridcolor": "white",
            "gridwidth": 2,
            "linecolor": "white",
            "showbackground": true,
            "ticks": "",
            "zerolinecolor": "white"
           },
           "zaxis": {
            "backgroundcolor": "#E5ECF6",
            "gridcolor": "white",
            "gridwidth": 2,
            "linecolor": "white",
            "showbackground": true,
            "ticks": "",
            "zerolinecolor": "white"
           }
          },
          "shapedefaults": {
           "line": {
            "color": "#2a3f5f"
           }
          },
          "ternary": {
           "aaxis": {
            "gridcolor": "white",
            "linecolor": "white",
            "ticks": ""
           },
           "baxis": {
            "gridcolor": "white",
            "linecolor": "white",
            "ticks": ""
           },
           "bgcolor": "#E5ECF6",
           "caxis": {
            "gridcolor": "white",
            "linecolor": "white",
            "ticks": ""
           }
          },
          "title": {
           "x": 0.05
          },
          "xaxis": {
           "automargin": true,
           "gridcolor": "white",
           "linecolor": "white",
           "ticks": "",
           "title": {
            "standoff": 15
           },
           "zerolinecolor": "white",
           "zerolinewidth": 2
          },
          "yaxis": {
           "automargin": true,
           "gridcolor": "white",
           "linecolor": "white",
           "ticks": "",
           "title": {
            "standoff": 15
           },
           "zerolinecolor": "white",
           "zerolinewidth": 2
          }
         }
        },
        "title": {
         "text": "Taux de létalité"
        },
        "xaxis": {
         "anchor": "y",
         "domain": [
          0,
          1
         ],
         "title": {
          "text": "Date"
         }
        },
        "yaxis": {
         "anchor": "x",
         "domain": [
          0,
          1
         ],
         "title": {
          "text": "Taux"
         },
         "type": "log"
        }
       }
      },
      "text/html": [
       "<div>\n",
       "        \n",
       "        \n",
       "            <div id=\"bfd77c64-bfe6-4e2b-a86e-de0998d624b7\" class=\"plotly-graph-div\" style=\"height:525px; width:100%;\"></div>\n",
       "            <script type=\"text/javascript\">\n",
       "                require([\"plotly\"], function(Plotly) {\n",
       "                    window.PLOTLYENV=window.PLOTLYENV || {};\n",
       "                    \n",
       "                if (document.getElementById(\"bfd77c64-bfe6-4e2b-a86e-de0998d624b7\")) {\n",
       "                    Plotly.newPlot(\n",
       "                        'bfd77c64-bfe6-4e2b-a86e-de0998d624b7',\n",
       "                        [{\"hoverlabel\": {\"namelength\": 0}, \"hovertemplate\": \"Pays=Chine<br>Date=%{x}<br>Taux=%{y}\", \"legendgroup\": \"Chine\", \"line\": {\"color\": \"#d21629\", \"dash\": \"solid\"}, \"mode\": \"lines\", \"name\": \"Chine\", \"showlegend\": true, \"type\": \"scatter\", \"x\": [\"1/22/20\", \"1/23/20\", \"1/24/20\", \"1/25/20\", \"1/26/20\", \"1/27/20\", \"1/28/20\", \"1/29/20\", \"1/30/20\", \"1/31/20\", \"2/1/20\", \"2/2/20\", \"2/3/20\", \"2/4/20\", \"2/5/20\", \"2/6/20\", \"2/7/20\", \"2/8/20\", \"2/9/20\", \"2/10/20\", \"2/11/20\", \"2/12/20\", \"2/13/20\", \"2/14/20\", \"2/15/20\", \"2/16/20\", \"2/17/20\", \"2/18/20\", \"2/19/20\", \"2/20/20\", \"2/21/20\", \"2/22/20\", \"2/23/20\", \"2/24/20\", \"2/25/20\", \"2/26/20\", \"2/27/20\", \"2/28/20\", \"2/29/20\", \"3/1/20\", \"3/2/20\", \"3/3/20\", \"3/4/20\", \"3/5/20\", \"3/6/20\", \"3/7/20\", \"3/8/20\", \"3/9/20\", \"3/10/20\", \"3/11/20\", \"3/12/20\", \"3/13/20\", \"3/14/20\", \"3/15/20\", \"3/16/20\", \"3/17/20\", \"3/18/20\", \"3/19/20\", \"3/20/20\", \"3/21/20\", \"3/22/20\", \"3/23/20\"], \"xaxis\": \"x\", \"y\": [3.1, 2.8000000000000003, 2.8000000000000003, 3.0, 2.7, 2.9000000000000004, 2.4, 2.1999999999999997, 2.1, 2.1999999999999997, 2.1999999999999997, 2.1999999999999997, 2.1999999999999997, 2.1, 2.1, 2.1, 2.1, 2.1999999999999997, 2.3, 2.4, 2.5, 2.5, 2.3, 2.3, 2.4, 2.5, 2.6, 2.7, 2.8000000000000003, 3.0, 3.0, 3.2, 3.2, 3.4000000000000004, 3.4000000000000004, 3.5000000000000004, 3.5000000000000004, 3.5000000000000004, 3.5999999999999996, 3.5999999999999996, 3.5999999999999996, 3.6999999999999997, 3.6999999999999997, 3.6999999999999997, 3.8, 3.8, 3.8, 3.9, 3.9, 3.9, 3.9, 3.9, 3.9, 4.0, 4.0, 4.0, 4.0, 4.0, 4.0, 4.0, 4.0, 4.0], \"yaxis\": \"y\"}, {\"hoverlabel\": {\"namelength\": 0}, \"hovertemplate\": \"Pays=France<br>Date=%{x}<br>Taux=%{y}\", \"legendgroup\": \"France\", \"line\": {\"color\": \"#162cd2\", \"dash\": \"solid\"}, \"mode\": \"lines\", \"name\": \"France\", \"showlegend\": true, \"type\": \"scatter\", \"x\": [\"1/22/20\", \"1/23/20\", \"1/24/20\", \"1/25/20\", \"1/26/20\", \"1/27/20\", \"1/28/20\", \"1/29/20\", \"1/30/20\", \"1/31/20\", \"2/1/20\", \"2/2/20\", \"2/3/20\", \"2/4/20\", \"2/5/20\", \"2/6/20\", \"2/7/20\", \"2/8/20\", \"2/9/20\", \"2/10/20\", \"2/11/20\", \"2/12/20\", \"2/13/20\", \"2/14/20\", \"2/15/20\", \"2/16/20\", \"2/17/20\", \"2/18/20\", \"2/19/20\", \"2/20/20\", \"2/21/20\", \"2/22/20\", \"2/23/20\", \"2/24/20\", \"2/25/20\", \"2/26/20\", \"2/27/20\", \"2/28/20\", \"2/29/20\", \"3/1/20\", \"3/2/20\", \"3/3/20\", \"3/4/20\", \"3/5/20\", \"3/6/20\", \"3/7/20\", \"3/8/20\", \"3/9/20\", \"3/10/20\", \"3/11/20\", \"3/12/20\", \"3/13/20\", \"3/14/20\", \"3/15/20\", \"3/16/20\", \"3/17/20\", \"3/18/20\", \"3/19/20\", \"3/20/20\", \"3/21/20\", \"3/22/20\", \"3/23/20\"], \"xaxis\": \"x\", \"y\": [null, null, 0.0, 0.0, 0.0, 0.0, 0.0, 0.0, 0.0, 0.0, 0.0, 0.0, 0.0, 0.0, 0.0, 0.0, 0.0, 0.0, 0.0, 0.0, 0.0, 0.0, 0.0, 0.0, 8.3, 8.3, 8.3, 8.3, 8.3, 8.3, 8.3, 8.3, 8.3, 8.3, 7.1, 11.1, 5.3, 3.5000000000000004, 2.0, 1.5, 1.6, 2.0, 1.4000000000000001, 1.6, 1.4000000000000001, 1.2, 1.7000000000000002, 1.6, 1.7999999999999998, 2.1, 2.1, 2.1999999999999997, 2.0, 2.0, 2.1999999999999997, 1.9, 1.6, 2.1999999999999997, 3.5999999999999996, 3.9, 4.2, 4.2], \"yaxis\": \"y\"}, {\"hoverlabel\": {\"namelength\": 0}, \"hovertemplate\": \"Pays=Italie<br>Date=%{x}<br>Taux=%{y}\", \"legendgroup\": \"Italie\", \"line\": {\"color\": \"#008000\", \"dash\": \"solid\"}, \"mode\": \"lines\", \"name\": \"Italie\", \"showlegend\": true, \"type\": \"scatter\", \"x\": [\"1/22/20\", \"1/23/20\", \"1/24/20\", \"1/25/20\", \"1/26/20\", \"1/27/20\", \"1/28/20\", \"1/29/20\", \"1/30/20\", \"1/31/20\", \"2/1/20\", \"2/2/20\", \"2/3/20\", \"2/4/20\", \"2/5/20\", \"2/6/20\", \"2/7/20\", \"2/8/20\", \"2/9/20\", \"2/10/20\", \"2/11/20\", \"2/12/20\", \"2/13/20\", \"2/14/20\", \"2/15/20\", \"2/16/20\", \"2/17/20\", \"2/18/20\", \"2/19/20\", \"2/20/20\", \"2/21/20\", \"2/22/20\", \"2/23/20\", \"2/24/20\", \"2/25/20\", \"2/26/20\", \"2/27/20\", \"2/28/20\", \"2/29/20\", \"3/1/20\", \"3/2/20\", \"3/3/20\", \"3/4/20\", \"3/5/20\", \"3/6/20\", \"3/7/20\", \"3/8/20\", \"3/9/20\", \"3/10/20\", \"3/11/20\", \"3/12/20\", \"3/13/20\", \"3/14/20\", \"3/15/20\", \"3/16/20\", \"3/17/20\", \"3/18/20\", \"3/19/20\", \"3/20/20\", \"3/21/20\", \"3/22/20\", \"3/23/20\"], \"xaxis\": \"x\", \"y\": [null, null, null, null, null, null, null, null, null, 0.0, 0.0, 0.0, 0.0, 0.0, 0.0, 0.0, 0.0, 0.0, 0.0, 0.0, 0.0, 0.0, 0.0, 0.0, 0.0, 0.0, 0.0, 0.0, 0.0, 0.0, 5.0, 3.2, 1.9, 3.1, 3.1, 2.6, 2.6, 2.4, 2.6, 2.0, 2.6, 3.2, 3.5000000000000004, 3.8, 4.2, 4.0, 5.0, 5.0, 6.2, 6.6000000000000005, 6.6000000000000005, 7.199999999999999, 6.800000000000001, 7.3, 7.7, 7.9, 8.3, 8.3, 8.6, 9.0, 9.3, 9.3], \"yaxis\": \"y\"}],\n",
       "                        {\"legend\": {\"title\": {\"text\": \"Pays\"}, \"tracegroupgap\": 0}, \"template\": {\"data\": {\"bar\": [{\"error_x\": {\"color\": \"#2a3f5f\"}, \"error_y\": {\"color\": \"#2a3f5f\"}, \"marker\": {\"line\": {\"color\": \"#E5ECF6\", \"width\": 0.5}}, \"type\": \"bar\"}], \"barpolar\": [{\"marker\": {\"line\": {\"color\": \"#E5ECF6\", \"width\": 0.5}}, \"type\": \"barpolar\"}], \"carpet\": [{\"aaxis\": {\"endlinecolor\": \"#2a3f5f\", \"gridcolor\": \"white\", \"linecolor\": \"white\", \"minorgridcolor\": \"white\", \"startlinecolor\": \"#2a3f5f\"}, \"baxis\": {\"endlinecolor\": \"#2a3f5f\", \"gridcolor\": \"white\", \"linecolor\": \"white\", \"minorgridcolor\": \"white\", \"startlinecolor\": \"#2a3f5f\"}, \"type\": \"carpet\"}], \"choropleth\": [{\"colorbar\": {\"outlinewidth\": 0, \"ticks\": \"\"}, \"type\": \"choropleth\"}], \"contour\": [{\"colorbar\": {\"outlinewidth\": 0, \"ticks\": \"\"}, \"colorscale\": [[0.0, \"#0d0887\"], [0.1111111111111111, \"#46039f\"], [0.2222222222222222, \"#7201a8\"], [0.3333333333333333, \"#9c179e\"], [0.4444444444444444, \"#bd3786\"], [0.5555555555555556, \"#d8576b\"], [0.6666666666666666, \"#ed7953\"], [0.7777777777777778, \"#fb9f3a\"], [0.8888888888888888, \"#fdca26\"], [1.0, \"#f0f921\"]], \"type\": \"contour\"}], \"contourcarpet\": [{\"colorbar\": {\"outlinewidth\": 0, \"ticks\": \"\"}, \"type\": \"contourcarpet\"}], \"heatmap\": [{\"colorbar\": {\"outlinewidth\": 0, \"ticks\": \"\"}, \"colorscale\": [[0.0, \"#0d0887\"], [0.1111111111111111, \"#46039f\"], [0.2222222222222222, \"#7201a8\"], [0.3333333333333333, \"#9c179e\"], [0.4444444444444444, \"#bd3786\"], [0.5555555555555556, \"#d8576b\"], [0.6666666666666666, \"#ed7953\"], [0.7777777777777778, \"#fb9f3a\"], [0.8888888888888888, \"#fdca26\"], [1.0, \"#f0f921\"]], \"type\": \"heatmap\"}], \"heatmapgl\": [{\"colorbar\": {\"outlinewidth\": 0, \"ticks\": \"\"}, \"colorscale\": [[0.0, \"#0d0887\"], [0.1111111111111111, \"#46039f\"], [0.2222222222222222, \"#7201a8\"], [0.3333333333333333, \"#9c179e\"], [0.4444444444444444, \"#bd3786\"], [0.5555555555555556, \"#d8576b\"], [0.6666666666666666, \"#ed7953\"], [0.7777777777777778, \"#fb9f3a\"], [0.8888888888888888, \"#fdca26\"], [1.0, \"#f0f921\"]], \"type\": \"heatmapgl\"}], \"histogram\": [{\"marker\": {\"colorbar\": {\"outlinewidth\": 0, \"ticks\": \"\"}}, \"type\": \"histogram\"}], \"histogram2d\": [{\"colorbar\": {\"outlinewidth\": 0, \"ticks\": \"\"}, \"colorscale\": [[0.0, \"#0d0887\"], [0.1111111111111111, \"#46039f\"], [0.2222222222222222, \"#7201a8\"], [0.3333333333333333, \"#9c179e\"], [0.4444444444444444, \"#bd3786\"], [0.5555555555555556, \"#d8576b\"], [0.6666666666666666, \"#ed7953\"], [0.7777777777777778, \"#fb9f3a\"], [0.8888888888888888, \"#fdca26\"], [1.0, \"#f0f921\"]], \"type\": \"histogram2d\"}], \"histogram2dcontour\": [{\"colorbar\": {\"outlinewidth\": 0, \"ticks\": \"\"}, \"colorscale\": [[0.0, \"#0d0887\"], [0.1111111111111111, \"#46039f\"], [0.2222222222222222, \"#7201a8\"], [0.3333333333333333, \"#9c179e\"], [0.4444444444444444, \"#bd3786\"], [0.5555555555555556, \"#d8576b\"], [0.6666666666666666, \"#ed7953\"], [0.7777777777777778, \"#fb9f3a\"], [0.8888888888888888, \"#fdca26\"], [1.0, \"#f0f921\"]], \"type\": \"histogram2dcontour\"}], \"mesh3d\": [{\"colorbar\": {\"outlinewidth\": 0, \"ticks\": \"\"}, \"type\": \"mesh3d\"}], \"parcoords\": [{\"line\": {\"colorbar\": {\"outlinewidth\": 0, \"ticks\": \"\"}}, \"type\": \"parcoords\"}], \"pie\": [{\"automargin\": true, \"type\": \"pie\"}], \"scatter\": [{\"marker\": {\"colorbar\": {\"outlinewidth\": 0, \"ticks\": \"\"}}, \"type\": \"scatter\"}], \"scatter3d\": [{\"line\": {\"colorbar\": {\"outlinewidth\": 0, \"ticks\": \"\"}}, \"marker\": {\"colorbar\": {\"outlinewidth\": 0, \"ticks\": \"\"}}, \"type\": \"scatter3d\"}], \"scattercarpet\": [{\"marker\": {\"colorbar\": {\"outlinewidth\": 0, \"ticks\": \"\"}}, \"type\": \"scattercarpet\"}], \"scattergeo\": [{\"marker\": {\"colorbar\": {\"outlinewidth\": 0, \"ticks\": \"\"}}, \"type\": \"scattergeo\"}], \"scattergl\": [{\"marker\": {\"colorbar\": {\"outlinewidth\": 0, \"ticks\": \"\"}}, \"type\": \"scattergl\"}], \"scattermapbox\": [{\"marker\": {\"colorbar\": {\"outlinewidth\": 0, \"ticks\": \"\"}}, \"type\": \"scattermapbox\"}], \"scatterpolar\": [{\"marker\": {\"colorbar\": {\"outlinewidth\": 0, \"ticks\": \"\"}}, \"type\": \"scatterpolar\"}], \"scatterpolargl\": [{\"marker\": {\"colorbar\": {\"outlinewidth\": 0, \"ticks\": \"\"}}, \"type\": \"scatterpolargl\"}], \"scatterternary\": [{\"marker\": {\"colorbar\": {\"outlinewidth\": 0, \"ticks\": \"\"}}, \"type\": \"scatterternary\"}], \"surface\": [{\"colorbar\": {\"outlinewidth\": 0, \"ticks\": \"\"}, \"colorscale\": [[0.0, \"#0d0887\"], [0.1111111111111111, \"#46039f\"], [0.2222222222222222, \"#7201a8\"], [0.3333333333333333, \"#9c179e\"], [0.4444444444444444, \"#bd3786\"], [0.5555555555555556, \"#d8576b\"], [0.6666666666666666, \"#ed7953\"], [0.7777777777777778, \"#fb9f3a\"], [0.8888888888888888, \"#fdca26\"], [1.0, \"#f0f921\"]], \"type\": \"surface\"}], \"table\": [{\"cells\": {\"fill\": {\"color\": \"#EBF0F8\"}, \"line\": {\"color\": \"white\"}}, \"header\": {\"fill\": {\"color\": \"#C8D4E3\"}, \"line\": {\"color\": \"white\"}}, \"type\": \"table\"}]}, \"layout\": {\"annotationdefaults\": {\"arrowcolor\": \"#2a3f5f\", \"arrowhead\": 0, \"arrowwidth\": 1}, \"coloraxis\": {\"colorbar\": {\"outlinewidth\": 0, \"ticks\": \"\"}}, \"colorscale\": {\"diverging\": [[0, \"#8e0152\"], [0.1, \"#c51b7d\"], [0.2, \"#de77ae\"], [0.3, \"#f1b6da\"], [0.4, \"#fde0ef\"], [0.5, \"#f7f7f7\"], [0.6, \"#e6f5d0\"], [0.7, \"#b8e186\"], [0.8, \"#7fbc41\"], [0.9, \"#4d9221\"], [1, \"#276419\"]], \"sequential\": [[0.0, \"#0d0887\"], [0.1111111111111111, \"#46039f\"], [0.2222222222222222, \"#7201a8\"], [0.3333333333333333, \"#9c179e\"], [0.4444444444444444, \"#bd3786\"], [0.5555555555555556, \"#d8576b\"], [0.6666666666666666, \"#ed7953\"], [0.7777777777777778, \"#fb9f3a\"], [0.8888888888888888, \"#fdca26\"], [1.0, \"#f0f921\"]], \"sequentialminus\": [[0.0, \"#0d0887\"], [0.1111111111111111, \"#46039f\"], [0.2222222222222222, \"#7201a8\"], [0.3333333333333333, \"#9c179e\"], [0.4444444444444444, \"#bd3786\"], [0.5555555555555556, \"#d8576b\"], [0.6666666666666666, \"#ed7953\"], [0.7777777777777778, \"#fb9f3a\"], [0.8888888888888888, \"#fdca26\"], [1.0, \"#f0f921\"]]}, \"colorway\": [\"#636efa\", \"#EF553B\", \"#00cc96\", \"#ab63fa\", \"#FFA15A\", \"#19d3f3\", \"#FF6692\", \"#B6E880\", \"#FF97FF\", \"#FECB52\"], \"font\": {\"color\": \"#2a3f5f\"}, \"geo\": {\"bgcolor\": \"white\", \"lakecolor\": \"white\", \"landcolor\": \"#E5ECF6\", \"showlakes\": true, \"showland\": true, \"subunitcolor\": \"white\"}, \"hoverlabel\": {\"align\": \"left\"}, \"hovermode\": \"closest\", \"mapbox\": {\"style\": \"light\"}, \"paper_bgcolor\": \"white\", \"plot_bgcolor\": \"#E5ECF6\", \"polar\": {\"angularaxis\": {\"gridcolor\": \"white\", \"linecolor\": \"white\", \"ticks\": \"\"}, \"bgcolor\": \"#E5ECF6\", \"radialaxis\": {\"gridcolor\": \"white\", \"linecolor\": \"white\", \"ticks\": \"\"}}, \"scene\": {\"xaxis\": {\"backgroundcolor\": \"#E5ECF6\", \"gridcolor\": \"white\", \"gridwidth\": 2, \"linecolor\": \"white\", \"showbackground\": true, \"ticks\": \"\", \"zerolinecolor\": \"white\"}, \"yaxis\": {\"backgroundcolor\": \"#E5ECF6\", \"gridcolor\": \"white\", \"gridwidth\": 2, \"linecolor\": \"white\", \"showbackground\": true, \"ticks\": \"\", \"zerolinecolor\": \"white\"}, \"zaxis\": {\"backgroundcolor\": \"#E5ECF6\", \"gridcolor\": \"white\", \"gridwidth\": 2, \"linecolor\": \"white\", \"showbackground\": true, \"ticks\": \"\", \"zerolinecolor\": \"white\"}}, \"shapedefaults\": {\"line\": {\"color\": \"#2a3f5f\"}}, \"ternary\": {\"aaxis\": {\"gridcolor\": \"white\", \"linecolor\": \"white\", \"ticks\": \"\"}, \"baxis\": {\"gridcolor\": \"white\", \"linecolor\": \"white\", \"ticks\": \"\"}, \"bgcolor\": \"#E5ECF6\", \"caxis\": {\"gridcolor\": \"white\", \"linecolor\": \"white\", \"ticks\": \"\"}}, \"title\": {\"x\": 0.05}, \"xaxis\": {\"automargin\": true, \"gridcolor\": \"white\", \"linecolor\": \"white\", \"ticks\": \"\", \"title\": {\"standoff\": 15}, \"zerolinecolor\": \"white\", \"zerolinewidth\": 2}, \"yaxis\": {\"automargin\": true, \"gridcolor\": \"white\", \"linecolor\": \"white\", \"ticks\": \"\", \"title\": {\"standoff\": 15}, \"zerolinecolor\": \"white\", \"zerolinewidth\": 2}}}, \"title\": {\"text\": \"Taux de l\\u00e9talit\\u00e9\"}, \"xaxis\": {\"anchor\": \"y\", \"domain\": [0.0, 1.0], \"title\": {\"text\": \"Date\"}}, \"yaxis\": {\"anchor\": \"x\", \"domain\": [0.0, 1.0], \"title\": {\"text\": \"Taux\"}, \"type\": \"log\"}},\n",
       "                        {\"responsive\": true}\n",
       "                    ).then(function(){\n",
       "                            \n",
       "var gd = document.getElementById('bfd77c64-bfe6-4e2b-a86e-de0998d624b7');\n",
       "var x = new MutationObserver(function (mutations, observer) {{\n",
       "        var display = window.getComputedStyle(gd).display;\n",
       "        if (!display || display === 'none') {{\n",
       "            console.log([gd, 'removed!']);\n",
       "            Plotly.purge(gd);\n",
       "            observer.disconnect();\n",
       "        }}\n",
       "}});\n",
       "\n",
       "// Listen for the removal of the full notebook cells\n",
       "var notebookContainer = gd.closest('#notebook-container');\n",
       "if (notebookContainer) {{\n",
       "    x.observe(notebookContainer, {childList: true});\n",
       "}}\n",
       "\n",
       "// Listen for the clearing of the current output cell\n",
       "var outputEl = gd.closest('.output');\n",
       "if (outputEl) {{\n",
       "    x.observe(outputEl, {childList: true});\n",
       "}}\n",
       "\n",
       "                        })\n",
       "                };\n",
       "                });\n",
       "            </script>\n",
       "        </div>"
      ]
     },
     "metadata": {},
     "output_type": "display_data"
    }
   ],
   "source": [
    "fraSeriesConfirmed = dfGlobalSeriesConfirmed[(dfGlobalSeriesConfirmed['Country/Region'] == 'France') & (dfGlobalSeriesConfirmed['Province/State'] == 'France')]\n",
    "fraSeriesConfirmed = fraSeriesConfirmed.drop(columns=['Lat', 'Long'])\n",
    "fraSeriesDeaths = dfGlobalSeriesDeaths[(dfGlobalSeriesDeaths['Country/Region'] == 'France') & (dfGlobalSeriesDeaths['Province/State'] == 'France')]\n",
    "fraSeriesDeaths = fraSeriesDeaths.drop(columns=['Lat', 'Long'])\n",
    "fraSeriesAll = pd.concat([fraSeriesConfirmed, fraSeriesDeaths])\n",
    "fraSeriesAll = fraSeriesAll.drop(columns=['Province/State', 'Country/Region'])\n",
    "fraSeriesAll = fraSeriesAll.reset_index()\n",
    "fraSeriesAll = fraSeriesAll.drop(columns=['index'])\n",
    "fraSeriesAll = fraSeriesAll.transpose()\n",
    "fraSeriesAll = fraSeriesAll.rename(columns={0: 'Confirmed', 1: 'Deaths'})\n",
    "fraSeriesAll = fraSeriesAll.reset_index()\n",
    "fraSeriesAll = fraSeriesAll.rename(columns={'index' : 'Date'})\n",
    "fraSeriesAll['France'] = round((fraSeriesAll['Deaths']/fraSeriesAll['Confirmed']), 3)*100\n",
    "#fraSeriesAll = fraSeriesAll.fillna({'Mortality Rate': 0.00})\n",
    "\n",
    "itaSeriesConfirmed = dfGlobalSeriesConfirmed[(dfGlobalSeriesConfirmed['Country/Region'] == 'Italy')]\n",
    "itaSeriesConfirmed = itaSeriesConfirmed.drop(columns=['Lat', 'Long'])\n",
    "itaSeriesDeaths = dfGlobalSeriesDeaths[(dfGlobalSeriesDeaths['Country/Region'] == 'Italy')]\n",
    "itaSeriesDeaths = itaSeriesDeaths.drop(columns=['Lat', 'Long'])\n",
    "itaSeriesAll = pd.concat([itaSeriesConfirmed, itaSeriesDeaths])\n",
    "itaSeriesAll = itaSeriesAll.drop(columns=['Province/State', 'Country/Region'])\n",
    "itaSeriesAll = itaSeriesAll.reset_index()\n",
    "itaSeriesAll = itaSeriesAll.drop(columns=['index'])\n",
    "itaSeriesAll = itaSeriesAll.transpose()\n",
    "itaSeriesAll = itaSeriesAll.rename(columns={0: 'Confirmed', 1: 'Deaths'})\n",
    "itaSeriesAll = itaSeriesAll.reset_index()\n",
    "itaSeriesAll = itaSeriesAll.rename(columns={'index' : 'Date'})\n",
    "itaSeriesAll['Italie'] = round((itaSeriesAll['Deaths']/itaSeriesAll['Confirmed']), 3)*100\n",
    "#itaSeriesAll = itaSeriesAll.fillna({'Mortality Rate': 0.00})\n",
    "\n",
    "\n",
    "chiSeriesConfirmed = dfGlobalSeriesConfirmed[(dfGlobalSeriesConfirmed['Country/Region'] == 'China')]\n",
    "chiSeriesConfirmed = chiSeriesConfirmed.drop(columns=['Lat', 'Long', 'Country/Region', 'Province/State'])\n",
    "chiSeriesDeaths = dfGlobalSeriesDeaths[(dfGlobalSeriesDeaths['Country/Region'] == 'China')]\n",
    "chiSeriesDeaths = chiSeriesDeaths.drop(columns=['Lat', 'Long', 'Country/Region', 'Province/State'])\n",
    "\n",
    "chiSeriesConfirmed = chiSeriesConfirmed.sum().reset_index()\n",
    "chiSeriesConfirmed = chiSeriesConfirmed.rename(columns={'index': 'Date', 0: 'Confirmed'})\n",
    "\n",
    "chiSeriesDeaths = chiSeriesDeaths.sum().reset_index()\n",
    "chiSeriesDeaths = chiSeriesDeaths.rename(columns={'index': 'Date', 0: 'Deaths'})\n",
    "\n",
    "chiSeriesAll = pd.merge(chiSeriesConfirmed, chiSeriesDeaths, on='Date')\n",
    "chiSeriesAll['Chine'] = round((chiSeriesAll['Deaths']/chiSeriesAll['Confirmed']), 3)*100\n",
    "\n",
    "\n",
    "tempAll = pd.merge(chiSeriesAll[['Date', 'Chine']], itaSeriesAll[['Date', 'Italie']], on='Date').merge(fraSeriesAll[['Date', 'France']], on='Date')\n",
    "#tempAll = tempAll.fillna(0.0)\n",
    "\n",
    "tempAll = tempAll.melt(id_vars='Date', value_vars=['Chine', 'France', 'Italie'], \n",
    "                 var_name='Pays', value_name='Taux')\n",
    "fig = px.line(tempAll, x=\"Date\", y=\"Taux\", color='Pays', log_y=True, \n",
    "              title='Taux de létalité', color_discrete_sequence=['#d21629', '#162cd2', '#008000'])\n",
    "iplot(fig)"
   ]
  },
  {
   "cell_type": "markdown",
   "metadata": {},
   "source": [
    "## Comparatif taux de guerison - France/Chine/Italie"
   ]
  },
  {
   "cell_type": "code",
   "execution_count": 25,
   "metadata": {},
   "outputs": [
    {
     "data": {
      "application/vnd.plotly.v1+json": {
       "config": {
        "linkText": "Export to plot.ly",
        "plotlyServerURL": "https://plot.ly",
        "showLink": false
       },
       "data": [
        {
         "hoverlabel": {
          "namelength": 0
         },
         "hovertemplate": "Pays=Chine<br>Date=%{x}<br>Taux=%{y}",
         "legendgroup": "Chine",
         "line": {
          "color": "#d21629",
          "dash": "solid"
         },
         "mode": "lines",
         "name": "Chine",
         "showlegend": true,
         "type": "scatter",
         "x": [
          "1/22/20",
          "1/23/20",
          "1/24/20",
          "1/25/20",
          "1/26/20",
          "1/27/20",
          "1/28/20",
          "1/29/20",
          "1/30/20",
          "1/31/20",
          "2/1/20",
          "2/2/20",
          "2/3/20",
          "2/4/20",
          "2/5/20",
          "2/6/20",
          "2/7/20",
          "2/8/20",
          "2/9/20",
          "2/10/20",
          "2/11/20",
          "2/12/20",
          "2/13/20",
          "2/14/20",
          "2/15/20",
          "2/16/20",
          "2/17/20",
          "2/18/20",
          "2/19/20",
          "2/20/20",
          "2/21/20",
          "2/22/20",
          "2/23/20",
          "2/24/20",
          "2/25/20",
          "2/26/20",
          "2/27/20",
          "2/28/20",
          "2/29/20",
          "3/1/20",
          "3/2/20",
          "3/3/20",
          "3/4/20",
          "3/5/20",
          "3/6/20",
          "3/7/20",
          "3/8/20",
          "3/9/20",
          "3/10/20",
          "3/11/20",
          "3/12/20",
          "3/13/20",
          "3/14/20",
          "3/15/20",
          "3/16/20",
          "3/17/20",
          "3/18/20",
          "3/19/20",
          "3/20/20",
          "3/21/20",
          "3/22/20",
          "3/23/20"
         ],
         "xaxis": "x",
         "y": [
          5.1,
          4.7,
          3.9,
          2.8000000000000003,
          2.4,
          2,
          1.7999999999999998,
          2,
          1.7000000000000002,
          2.1999999999999997,
          2.3,
          2.8000000000000003,
          3.1,
          3.5999999999999996,
          4.1000000000000005,
          4.8,
          5.8999999999999995,
          7.1,
          8.1,
          9.3,
          10.4,
          11.4,
          10.4,
          12,
          13.600000000000001,
          15.299999999999999,
          17.2,
          19.1,
          21.4,
          24,
          24.8,
          29.5,
          30.099999999999998,
          32.4,
          35.6,
          38.5,
          41.9,
          46,
          49.5,
          52.7,
          56.00000000000001,
          59.099999999999994,
          62.2,
          64.9,
          66.9,
          68.8,
          71,
          72.7,
          74.4,
          76.2,
          77.7,
          79.3,
          81.10000000000001,
          82.69999999999999,
          83.8,
          84.89999999999999,
          86,
          86.9,
          87.7,
          88.4,
          88.9,
          89.4
         ],
         "yaxis": "y"
        },
        {
         "hoverlabel": {
          "namelength": 0
         },
         "hovertemplate": "Pays=France<br>Date=%{x}<br>Taux=%{y}",
         "legendgroup": "France",
         "line": {
          "color": "#162cd2",
          "dash": "solid"
         },
         "mode": "lines",
         "name": "France",
         "showlegend": true,
         "type": "scatter",
         "x": [
          "1/22/20",
          "1/23/20",
          "1/24/20",
          "1/25/20",
          "1/26/20",
          "1/27/20",
          "1/28/20",
          "1/29/20",
          "1/30/20",
          "1/31/20",
          "2/1/20",
          "2/2/20",
          "2/3/20",
          "2/4/20",
          "2/5/20",
          "2/6/20",
          "2/7/20",
          "2/8/20",
          "2/9/20",
          "2/10/20",
          "2/11/20",
          "2/12/20",
          "2/13/20",
          "2/14/20",
          "2/15/20",
          "2/16/20",
          "2/17/20",
          "2/18/20",
          "2/19/20",
          "2/20/20",
          "2/21/20",
          "2/22/20",
          "2/23/20",
          "2/24/20",
          "2/25/20",
          "2/26/20",
          "2/27/20",
          "2/28/20",
          "2/29/20",
          "3/1/20",
          "3/2/20",
          "3/3/20",
          "3/4/20",
          "3/5/20",
          "3/6/20",
          "3/7/20",
          "3/8/20",
          "3/9/20",
          "3/10/20",
          "3/11/20",
          "3/12/20",
          "3/13/20",
          "3/14/20",
          "3/15/20",
          "3/16/20",
          "3/17/20",
          "3/18/20",
          "3/19/20",
          "3/20/20",
          "3/21/20",
          "3/22/20",
          "3/23/20"
         ],
         "xaxis": "x",
         "y": [
          null,
          null,
          0,
          0,
          0,
          0,
          0,
          0,
          0,
          0,
          0,
          0,
          0,
          0,
          0,
          0,
          0,
          0,
          0,
          0,
          0,
          18.2,
          18.2,
          18.2,
          33.300000000000004,
          33.300000000000004,
          33.300000000000004,
          33.300000000000004,
          33.300000000000004,
          33.300000000000004,
          33.300000000000004,
          33.300000000000004,
          33.300000000000004,
          33.300000000000004,
          78.60000000000001,
          61.1,
          28.9,
          19.3,
          12,
          9.2,
          6.3,
          5.8999999999999995,
          4.2,
          3.2,
          1.7999999999999998,
          1.3,
          1.0999999999999999,
          1,
          0.7000000000000001,
          0.5,
          0.5,
          0.3,
          0.3,
          0.3,
          0.2,
          0.2,
          0.1,
          0.1,
          0.1,
          0.1,
          13.700000000000001,
          13.700000000000001
         ],
         "yaxis": "y"
        },
        {
         "hoverlabel": {
          "namelength": 0
         },
         "hovertemplate": "Pays=Italie<br>Date=%{x}<br>Taux=%{y}",
         "legendgroup": "Italie",
         "line": {
          "color": "#008000",
          "dash": "solid"
         },
         "mode": "lines",
         "name": "Italie",
         "showlegend": true,
         "type": "scatter",
         "x": [
          "1/22/20",
          "1/23/20",
          "1/24/20",
          "1/25/20",
          "1/26/20",
          "1/27/20",
          "1/28/20",
          "1/29/20",
          "1/30/20",
          "1/31/20",
          "2/1/20",
          "2/2/20",
          "2/3/20",
          "2/4/20",
          "2/5/20",
          "2/6/20",
          "2/7/20",
          "2/8/20",
          "2/9/20",
          "2/10/20",
          "2/11/20",
          "2/12/20",
          "2/13/20",
          "2/14/20",
          "2/15/20",
          "2/16/20",
          "2/17/20",
          "2/18/20",
          "2/19/20",
          "2/20/20",
          "2/21/20",
          "2/22/20",
          "2/23/20",
          "2/24/20",
          "2/25/20",
          "2/26/20",
          "2/27/20",
          "2/28/20",
          "2/29/20",
          "3/1/20",
          "3/2/20",
          "3/3/20",
          "3/4/20",
          "3/5/20",
          "3/6/20",
          "3/7/20",
          "3/8/20",
          "3/9/20",
          "3/10/20",
          "3/11/20",
          "3/12/20",
          "3/13/20",
          "3/14/20",
          "3/15/20",
          "3/16/20",
          "3/17/20",
          "3/18/20",
          "3/19/20",
          "3/20/20",
          "3/21/20",
          "3/22/20",
          "3/23/20"
         ],
         "xaxis": "x",
         "y": [
          null,
          null,
          null,
          null,
          null,
          null,
          null,
          null,
          null,
          0,
          0,
          0,
          0,
          0,
          0,
          0,
          0,
          0,
          0,
          0,
          0,
          0,
          0,
          0,
          0,
          0,
          0,
          0,
          0,
          0,
          5,
          3.2,
          1.9,
          3.1,
          3.1,
          2.6,
          2.6,
          2.4,
          2.6,
          2,
          2.6,
          3.2,
          3.5000000000000004,
          3.8,
          4.2,
          4,
          5,
          5,
          6.2,
          6.6000000000000005,
          6.6000000000000005,
          7.199999999999999,
          6.800000000000001,
          7.3,
          7.7,
          7.9,
          8.3,
          8.3,
          8.6,
          9,
          9.3,
          9.3
         ],
         "yaxis": "y"
        }
       ],
       "layout": {
        "legend": {
         "title": {
          "text": "Pays"
         },
         "tracegroupgap": 0
        },
        "template": {
         "data": {
          "bar": [
           {
            "error_x": {
             "color": "#2a3f5f"
            },
            "error_y": {
             "color": "#2a3f5f"
            },
            "marker": {
             "line": {
              "color": "#E5ECF6",
              "width": 0.5
             }
            },
            "type": "bar"
           }
          ],
          "barpolar": [
           {
            "marker": {
             "line": {
              "color": "#E5ECF6",
              "width": 0.5
             }
            },
            "type": "barpolar"
           }
          ],
          "carpet": [
           {
            "aaxis": {
             "endlinecolor": "#2a3f5f",
             "gridcolor": "white",
             "linecolor": "white",
             "minorgridcolor": "white",
             "startlinecolor": "#2a3f5f"
            },
            "baxis": {
             "endlinecolor": "#2a3f5f",
             "gridcolor": "white",
             "linecolor": "white",
             "minorgridcolor": "white",
             "startlinecolor": "#2a3f5f"
            },
            "type": "carpet"
           }
          ],
          "choropleth": [
           {
            "colorbar": {
             "outlinewidth": 0,
             "ticks": ""
            },
            "type": "choropleth"
           }
          ],
          "contour": [
           {
            "colorbar": {
             "outlinewidth": 0,
             "ticks": ""
            },
            "colorscale": [
             [
              0,
              "#0d0887"
             ],
             [
              0.1111111111111111,
              "#46039f"
             ],
             [
              0.2222222222222222,
              "#7201a8"
             ],
             [
              0.3333333333333333,
              "#9c179e"
             ],
             [
              0.4444444444444444,
              "#bd3786"
             ],
             [
              0.5555555555555556,
              "#d8576b"
             ],
             [
              0.6666666666666666,
              "#ed7953"
             ],
             [
              0.7777777777777778,
              "#fb9f3a"
             ],
             [
              0.8888888888888888,
              "#fdca26"
             ],
             [
              1,
              "#f0f921"
             ]
            ],
            "type": "contour"
           }
          ],
          "contourcarpet": [
           {
            "colorbar": {
             "outlinewidth": 0,
             "ticks": ""
            },
            "type": "contourcarpet"
           }
          ],
          "heatmap": [
           {
            "colorbar": {
             "outlinewidth": 0,
             "ticks": ""
            },
            "colorscale": [
             [
              0,
              "#0d0887"
             ],
             [
              0.1111111111111111,
              "#46039f"
             ],
             [
              0.2222222222222222,
              "#7201a8"
             ],
             [
              0.3333333333333333,
              "#9c179e"
             ],
             [
              0.4444444444444444,
              "#bd3786"
             ],
             [
              0.5555555555555556,
              "#d8576b"
             ],
             [
              0.6666666666666666,
              "#ed7953"
             ],
             [
              0.7777777777777778,
              "#fb9f3a"
             ],
             [
              0.8888888888888888,
              "#fdca26"
             ],
             [
              1,
              "#f0f921"
             ]
            ],
            "type": "heatmap"
           }
          ],
          "heatmapgl": [
           {
            "colorbar": {
             "outlinewidth": 0,
             "ticks": ""
            },
            "colorscale": [
             [
              0,
              "#0d0887"
             ],
             [
              0.1111111111111111,
              "#46039f"
             ],
             [
              0.2222222222222222,
              "#7201a8"
             ],
             [
              0.3333333333333333,
              "#9c179e"
             ],
             [
              0.4444444444444444,
              "#bd3786"
             ],
             [
              0.5555555555555556,
              "#d8576b"
             ],
             [
              0.6666666666666666,
              "#ed7953"
             ],
             [
              0.7777777777777778,
              "#fb9f3a"
             ],
             [
              0.8888888888888888,
              "#fdca26"
             ],
             [
              1,
              "#f0f921"
             ]
            ],
            "type": "heatmapgl"
           }
          ],
          "histogram": [
           {
            "marker": {
             "colorbar": {
              "outlinewidth": 0,
              "ticks": ""
             }
            },
            "type": "histogram"
           }
          ],
          "histogram2d": [
           {
            "colorbar": {
             "outlinewidth": 0,
             "ticks": ""
            },
            "colorscale": [
             [
              0,
              "#0d0887"
             ],
             [
              0.1111111111111111,
              "#46039f"
             ],
             [
              0.2222222222222222,
              "#7201a8"
             ],
             [
              0.3333333333333333,
              "#9c179e"
             ],
             [
              0.4444444444444444,
              "#bd3786"
             ],
             [
              0.5555555555555556,
              "#d8576b"
             ],
             [
              0.6666666666666666,
              "#ed7953"
             ],
             [
              0.7777777777777778,
              "#fb9f3a"
             ],
             [
              0.8888888888888888,
              "#fdca26"
             ],
             [
              1,
              "#f0f921"
             ]
            ],
            "type": "histogram2d"
           }
          ],
          "histogram2dcontour": [
           {
            "colorbar": {
             "outlinewidth": 0,
             "ticks": ""
            },
            "colorscale": [
             [
              0,
              "#0d0887"
             ],
             [
              0.1111111111111111,
              "#46039f"
             ],
             [
              0.2222222222222222,
              "#7201a8"
             ],
             [
              0.3333333333333333,
              "#9c179e"
             ],
             [
              0.4444444444444444,
              "#bd3786"
             ],
             [
              0.5555555555555556,
              "#d8576b"
             ],
             [
              0.6666666666666666,
              "#ed7953"
             ],
             [
              0.7777777777777778,
              "#fb9f3a"
             ],
             [
              0.8888888888888888,
              "#fdca26"
             ],
             [
              1,
              "#f0f921"
             ]
            ],
            "type": "histogram2dcontour"
           }
          ],
          "mesh3d": [
           {
            "colorbar": {
             "outlinewidth": 0,
             "ticks": ""
            },
            "type": "mesh3d"
           }
          ],
          "parcoords": [
           {
            "line": {
             "colorbar": {
              "outlinewidth": 0,
              "ticks": ""
             }
            },
            "type": "parcoords"
           }
          ],
          "pie": [
           {
            "automargin": true,
            "type": "pie"
           }
          ],
          "scatter": [
           {
            "marker": {
             "colorbar": {
              "outlinewidth": 0,
              "ticks": ""
             }
            },
            "type": "scatter"
           }
          ],
          "scatter3d": [
           {
            "line": {
             "colorbar": {
              "outlinewidth": 0,
              "ticks": ""
             }
            },
            "marker": {
             "colorbar": {
              "outlinewidth": 0,
              "ticks": ""
             }
            },
            "type": "scatter3d"
           }
          ],
          "scattercarpet": [
           {
            "marker": {
             "colorbar": {
              "outlinewidth": 0,
              "ticks": ""
             }
            },
            "type": "scattercarpet"
           }
          ],
          "scattergeo": [
           {
            "marker": {
             "colorbar": {
              "outlinewidth": 0,
              "ticks": ""
             }
            },
            "type": "scattergeo"
           }
          ],
          "scattergl": [
           {
            "marker": {
             "colorbar": {
              "outlinewidth": 0,
              "ticks": ""
             }
            },
            "type": "scattergl"
           }
          ],
          "scattermapbox": [
           {
            "marker": {
             "colorbar": {
              "outlinewidth": 0,
              "ticks": ""
             }
            },
            "type": "scattermapbox"
           }
          ],
          "scatterpolar": [
           {
            "marker": {
             "colorbar": {
              "outlinewidth": 0,
              "ticks": ""
             }
            },
            "type": "scatterpolar"
           }
          ],
          "scatterpolargl": [
           {
            "marker": {
             "colorbar": {
              "outlinewidth": 0,
              "ticks": ""
             }
            },
            "type": "scatterpolargl"
           }
          ],
          "scatterternary": [
           {
            "marker": {
             "colorbar": {
              "outlinewidth": 0,
              "ticks": ""
             }
            },
            "type": "scatterternary"
           }
          ],
          "surface": [
           {
            "colorbar": {
             "outlinewidth": 0,
             "ticks": ""
            },
            "colorscale": [
             [
              0,
              "#0d0887"
             ],
             [
              0.1111111111111111,
              "#46039f"
             ],
             [
              0.2222222222222222,
              "#7201a8"
             ],
             [
              0.3333333333333333,
              "#9c179e"
             ],
             [
              0.4444444444444444,
              "#bd3786"
             ],
             [
              0.5555555555555556,
              "#d8576b"
             ],
             [
              0.6666666666666666,
              "#ed7953"
             ],
             [
              0.7777777777777778,
              "#fb9f3a"
             ],
             [
              0.8888888888888888,
              "#fdca26"
             ],
             [
              1,
              "#f0f921"
             ]
            ],
            "type": "surface"
           }
          ],
          "table": [
           {
            "cells": {
             "fill": {
              "color": "#EBF0F8"
             },
             "line": {
              "color": "white"
             }
            },
            "header": {
             "fill": {
              "color": "#C8D4E3"
             },
             "line": {
              "color": "white"
             }
            },
            "type": "table"
           }
          ]
         },
         "layout": {
          "annotationdefaults": {
           "arrowcolor": "#2a3f5f",
           "arrowhead": 0,
           "arrowwidth": 1
          },
          "coloraxis": {
           "colorbar": {
            "outlinewidth": 0,
            "ticks": ""
           }
          },
          "colorscale": {
           "diverging": [
            [
             0,
             "#8e0152"
            ],
            [
             0.1,
             "#c51b7d"
            ],
            [
             0.2,
             "#de77ae"
            ],
            [
             0.3,
             "#f1b6da"
            ],
            [
             0.4,
             "#fde0ef"
            ],
            [
             0.5,
             "#f7f7f7"
            ],
            [
             0.6,
             "#e6f5d0"
            ],
            [
             0.7,
             "#b8e186"
            ],
            [
             0.8,
             "#7fbc41"
            ],
            [
             0.9,
             "#4d9221"
            ],
            [
             1,
             "#276419"
            ]
           ],
           "sequential": [
            [
             0,
             "#0d0887"
            ],
            [
             0.1111111111111111,
             "#46039f"
            ],
            [
             0.2222222222222222,
             "#7201a8"
            ],
            [
             0.3333333333333333,
             "#9c179e"
            ],
            [
             0.4444444444444444,
             "#bd3786"
            ],
            [
             0.5555555555555556,
             "#d8576b"
            ],
            [
             0.6666666666666666,
             "#ed7953"
            ],
            [
             0.7777777777777778,
             "#fb9f3a"
            ],
            [
             0.8888888888888888,
             "#fdca26"
            ],
            [
             1,
             "#f0f921"
            ]
           ],
           "sequentialminus": [
            [
             0,
             "#0d0887"
            ],
            [
             0.1111111111111111,
             "#46039f"
            ],
            [
             0.2222222222222222,
             "#7201a8"
            ],
            [
             0.3333333333333333,
             "#9c179e"
            ],
            [
             0.4444444444444444,
             "#bd3786"
            ],
            [
             0.5555555555555556,
             "#d8576b"
            ],
            [
             0.6666666666666666,
             "#ed7953"
            ],
            [
             0.7777777777777778,
             "#fb9f3a"
            ],
            [
             0.8888888888888888,
             "#fdca26"
            ],
            [
             1,
             "#f0f921"
            ]
           ]
          },
          "colorway": [
           "#636efa",
           "#EF553B",
           "#00cc96",
           "#ab63fa",
           "#FFA15A",
           "#19d3f3",
           "#FF6692",
           "#B6E880",
           "#FF97FF",
           "#FECB52"
          ],
          "font": {
           "color": "#2a3f5f"
          },
          "geo": {
           "bgcolor": "white",
           "lakecolor": "white",
           "landcolor": "#E5ECF6",
           "showlakes": true,
           "showland": true,
           "subunitcolor": "white"
          },
          "hoverlabel": {
           "align": "left"
          },
          "hovermode": "closest",
          "mapbox": {
           "style": "light"
          },
          "paper_bgcolor": "white",
          "plot_bgcolor": "#E5ECF6",
          "polar": {
           "angularaxis": {
            "gridcolor": "white",
            "linecolor": "white",
            "ticks": ""
           },
           "bgcolor": "#E5ECF6",
           "radialaxis": {
            "gridcolor": "white",
            "linecolor": "white",
            "ticks": ""
           }
          },
          "scene": {
           "xaxis": {
            "backgroundcolor": "#E5ECF6",
            "gridcolor": "white",
            "gridwidth": 2,
            "linecolor": "white",
            "showbackground": true,
            "ticks": "",
            "zerolinecolor": "white"
           },
           "yaxis": {
            "backgroundcolor": "#E5ECF6",
            "gridcolor": "white",
            "gridwidth": 2,
            "linecolor": "white",
            "showbackground": true,
            "ticks": "",
            "zerolinecolor": "white"
           },
           "zaxis": {
            "backgroundcolor": "#E5ECF6",
            "gridcolor": "white",
            "gridwidth": 2,
            "linecolor": "white",
            "showbackground": true,
            "ticks": "",
            "zerolinecolor": "white"
           }
          },
          "shapedefaults": {
           "line": {
            "color": "#2a3f5f"
           }
          },
          "ternary": {
           "aaxis": {
            "gridcolor": "white",
            "linecolor": "white",
            "ticks": ""
           },
           "baxis": {
            "gridcolor": "white",
            "linecolor": "white",
            "ticks": ""
           },
           "bgcolor": "#E5ECF6",
           "caxis": {
            "gridcolor": "white",
            "linecolor": "white",
            "ticks": ""
           }
          },
          "title": {
           "x": 0.05
          },
          "xaxis": {
           "automargin": true,
           "gridcolor": "white",
           "linecolor": "white",
           "ticks": "",
           "title": {
            "standoff": 15
           },
           "zerolinecolor": "white",
           "zerolinewidth": 2
          },
          "yaxis": {
           "automargin": true,
           "gridcolor": "white",
           "linecolor": "white",
           "ticks": "",
           "title": {
            "standoff": 15
           },
           "zerolinecolor": "white",
           "zerolinewidth": 2
          }
         }
        },
        "title": {
         "text": "Taux de guérison"
        },
        "xaxis": {
         "anchor": "y",
         "domain": [
          0,
          1
         ],
         "title": {
          "text": "Date"
         }
        },
        "yaxis": {
         "anchor": "x",
         "domain": [
          0,
          1
         ],
         "title": {
          "text": "Taux"
         },
         "type": "log"
        }
       }
      },
      "text/html": [
       "<div>\n",
       "        \n",
       "        \n",
       "            <div id=\"efa8f1fc-6542-42e0-9566-610f304e8212\" class=\"plotly-graph-div\" style=\"height:525px; width:100%;\"></div>\n",
       "            <script type=\"text/javascript\">\n",
       "                require([\"plotly\"], function(Plotly) {\n",
       "                    window.PLOTLYENV=window.PLOTLYENV || {};\n",
       "                    \n",
       "                if (document.getElementById(\"efa8f1fc-6542-42e0-9566-610f304e8212\")) {\n",
       "                    Plotly.newPlot(\n",
       "                        'efa8f1fc-6542-42e0-9566-610f304e8212',\n",
       "                        [{\"hoverlabel\": {\"namelength\": 0}, \"hovertemplate\": \"Pays=Chine<br>Date=%{x}<br>Taux=%{y}\", \"legendgroup\": \"Chine\", \"line\": {\"color\": \"#d21629\", \"dash\": \"solid\"}, \"mode\": \"lines\", \"name\": \"Chine\", \"showlegend\": true, \"type\": \"scatter\", \"x\": [\"1/22/20\", \"1/23/20\", \"1/24/20\", \"1/25/20\", \"1/26/20\", \"1/27/20\", \"1/28/20\", \"1/29/20\", \"1/30/20\", \"1/31/20\", \"2/1/20\", \"2/2/20\", \"2/3/20\", \"2/4/20\", \"2/5/20\", \"2/6/20\", \"2/7/20\", \"2/8/20\", \"2/9/20\", \"2/10/20\", \"2/11/20\", \"2/12/20\", \"2/13/20\", \"2/14/20\", \"2/15/20\", \"2/16/20\", \"2/17/20\", \"2/18/20\", \"2/19/20\", \"2/20/20\", \"2/21/20\", \"2/22/20\", \"2/23/20\", \"2/24/20\", \"2/25/20\", \"2/26/20\", \"2/27/20\", \"2/28/20\", \"2/29/20\", \"3/1/20\", \"3/2/20\", \"3/3/20\", \"3/4/20\", \"3/5/20\", \"3/6/20\", \"3/7/20\", \"3/8/20\", \"3/9/20\", \"3/10/20\", \"3/11/20\", \"3/12/20\", \"3/13/20\", \"3/14/20\", \"3/15/20\", \"3/16/20\", \"3/17/20\", \"3/18/20\", \"3/19/20\", \"3/20/20\", \"3/21/20\", \"3/22/20\", \"3/23/20\"], \"xaxis\": \"x\", \"y\": [5.1, 4.7, 3.9, 2.8000000000000003, 2.4, 2.0, 1.7999999999999998, 2.0, 1.7000000000000002, 2.1999999999999997, 2.3, 2.8000000000000003, 3.1, 3.5999999999999996, 4.1000000000000005, 4.8, 5.8999999999999995, 7.1, 8.1, 9.3, 10.4, 11.4, 10.4, 12.0, 13.600000000000001, 15.299999999999999, 17.2, 19.1, 21.4, 24.0, 24.8, 29.5, 30.099999999999998, 32.4, 35.6, 38.5, 41.9, 46.0, 49.5, 52.7, 56.00000000000001, 59.099999999999994, 62.2, 64.9, 66.9, 68.8, 71.0, 72.7, 74.4, 76.2, 77.7, 79.3, 81.10000000000001, 82.69999999999999, 83.8, 84.89999999999999, 86.0, 86.9, 87.7, 88.4, 88.9, 89.4], \"yaxis\": \"y\"}, {\"hoverlabel\": {\"namelength\": 0}, \"hovertemplate\": \"Pays=France<br>Date=%{x}<br>Taux=%{y}\", \"legendgroup\": \"France\", \"line\": {\"color\": \"#162cd2\", \"dash\": \"solid\"}, \"mode\": \"lines\", \"name\": \"France\", \"showlegend\": true, \"type\": \"scatter\", \"x\": [\"1/22/20\", \"1/23/20\", \"1/24/20\", \"1/25/20\", \"1/26/20\", \"1/27/20\", \"1/28/20\", \"1/29/20\", \"1/30/20\", \"1/31/20\", \"2/1/20\", \"2/2/20\", \"2/3/20\", \"2/4/20\", \"2/5/20\", \"2/6/20\", \"2/7/20\", \"2/8/20\", \"2/9/20\", \"2/10/20\", \"2/11/20\", \"2/12/20\", \"2/13/20\", \"2/14/20\", \"2/15/20\", \"2/16/20\", \"2/17/20\", \"2/18/20\", \"2/19/20\", \"2/20/20\", \"2/21/20\", \"2/22/20\", \"2/23/20\", \"2/24/20\", \"2/25/20\", \"2/26/20\", \"2/27/20\", \"2/28/20\", \"2/29/20\", \"3/1/20\", \"3/2/20\", \"3/3/20\", \"3/4/20\", \"3/5/20\", \"3/6/20\", \"3/7/20\", \"3/8/20\", \"3/9/20\", \"3/10/20\", \"3/11/20\", \"3/12/20\", \"3/13/20\", \"3/14/20\", \"3/15/20\", \"3/16/20\", \"3/17/20\", \"3/18/20\", \"3/19/20\", \"3/20/20\", \"3/21/20\", \"3/22/20\", \"3/23/20\"], \"xaxis\": \"x\", \"y\": [null, null, 0.0, 0.0, 0.0, 0.0, 0.0, 0.0, 0.0, 0.0, 0.0, 0.0, 0.0, 0.0, 0.0, 0.0, 0.0, 0.0, 0.0, 0.0, 0.0, 18.2, 18.2, 18.2, 33.300000000000004, 33.300000000000004, 33.300000000000004, 33.300000000000004, 33.300000000000004, 33.300000000000004, 33.300000000000004, 33.300000000000004, 33.300000000000004, 33.300000000000004, 78.60000000000001, 61.1, 28.9, 19.3, 12.0, 9.2, 6.3, 5.8999999999999995, 4.2, 3.2, 1.7999999999999998, 1.3, 1.0999999999999999, 1.0, 0.7000000000000001, 0.5, 0.5, 0.3, 0.3, 0.3, 0.2, 0.2, 0.1, 0.1, 0.1, 0.1, 13.700000000000001, 13.700000000000001], \"yaxis\": \"y\"}, {\"hoverlabel\": {\"namelength\": 0}, \"hovertemplate\": \"Pays=Italie<br>Date=%{x}<br>Taux=%{y}\", \"legendgroup\": \"Italie\", \"line\": {\"color\": \"#008000\", \"dash\": \"solid\"}, \"mode\": \"lines\", \"name\": \"Italie\", \"showlegend\": true, \"type\": \"scatter\", \"x\": [\"1/22/20\", \"1/23/20\", \"1/24/20\", \"1/25/20\", \"1/26/20\", \"1/27/20\", \"1/28/20\", \"1/29/20\", \"1/30/20\", \"1/31/20\", \"2/1/20\", \"2/2/20\", \"2/3/20\", \"2/4/20\", \"2/5/20\", \"2/6/20\", \"2/7/20\", \"2/8/20\", \"2/9/20\", \"2/10/20\", \"2/11/20\", \"2/12/20\", \"2/13/20\", \"2/14/20\", \"2/15/20\", \"2/16/20\", \"2/17/20\", \"2/18/20\", \"2/19/20\", \"2/20/20\", \"2/21/20\", \"2/22/20\", \"2/23/20\", \"2/24/20\", \"2/25/20\", \"2/26/20\", \"2/27/20\", \"2/28/20\", \"2/29/20\", \"3/1/20\", \"3/2/20\", \"3/3/20\", \"3/4/20\", \"3/5/20\", \"3/6/20\", \"3/7/20\", \"3/8/20\", \"3/9/20\", \"3/10/20\", \"3/11/20\", \"3/12/20\", \"3/13/20\", \"3/14/20\", \"3/15/20\", \"3/16/20\", \"3/17/20\", \"3/18/20\", \"3/19/20\", \"3/20/20\", \"3/21/20\", \"3/22/20\", \"3/23/20\"], \"xaxis\": \"x\", \"y\": [null, null, null, null, null, null, null, null, null, 0.0, 0.0, 0.0, 0.0, 0.0, 0.0, 0.0, 0.0, 0.0, 0.0, 0.0, 0.0, 0.0, 0.0, 0.0, 0.0, 0.0, 0.0, 0.0, 0.0, 0.0, 5.0, 3.2, 1.9, 3.1, 3.1, 2.6, 2.6, 2.4, 2.6, 2.0, 2.6, 3.2, 3.5000000000000004, 3.8, 4.2, 4.0, 5.0, 5.0, 6.2, 6.6000000000000005, 6.6000000000000005, 7.199999999999999, 6.800000000000001, 7.3, 7.7, 7.9, 8.3, 8.3, 8.6, 9.0, 9.3, 9.3], \"yaxis\": \"y\"}],\n",
       "                        {\"legend\": {\"title\": {\"text\": \"Pays\"}, \"tracegroupgap\": 0}, \"template\": {\"data\": {\"bar\": [{\"error_x\": {\"color\": \"#2a3f5f\"}, \"error_y\": {\"color\": \"#2a3f5f\"}, \"marker\": {\"line\": {\"color\": \"#E5ECF6\", \"width\": 0.5}}, \"type\": \"bar\"}], \"barpolar\": [{\"marker\": {\"line\": {\"color\": \"#E5ECF6\", \"width\": 0.5}}, \"type\": \"barpolar\"}], \"carpet\": [{\"aaxis\": {\"endlinecolor\": \"#2a3f5f\", \"gridcolor\": \"white\", \"linecolor\": \"white\", \"minorgridcolor\": \"white\", \"startlinecolor\": \"#2a3f5f\"}, \"baxis\": {\"endlinecolor\": \"#2a3f5f\", \"gridcolor\": \"white\", \"linecolor\": \"white\", \"minorgridcolor\": \"white\", \"startlinecolor\": \"#2a3f5f\"}, \"type\": \"carpet\"}], \"choropleth\": [{\"colorbar\": {\"outlinewidth\": 0, \"ticks\": \"\"}, \"type\": \"choropleth\"}], \"contour\": [{\"colorbar\": {\"outlinewidth\": 0, \"ticks\": \"\"}, \"colorscale\": [[0.0, \"#0d0887\"], [0.1111111111111111, \"#46039f\"], [0.2222222222222222, \"#7201a8\"], [0.3333333333333333, \"#9c179e\"], [0.4444444444444444, \"#bd3786\"], [0.5555555555555556, \"#d8576b\"], [0.6666666666666666, \"#ed7953\"], [0.7777777777777778, \"#fb9f3a\"], [0.8888888888888888, \"#fdca26\"], [1.0, \"#f0f921\"]], \"type\": \"contour\"}], \"contourcarpet\": [{\"colorbar\": {\"outlinewidth\": 0, \"ticks\": \"\"}, \"type\": \"contourcarpet\"}], \"heatmap\": [{\"colorbar\": {\"outlinewidth\": 0, \"ticks\": \"\"}, \"colorscale\": [[0.0, \"#0d0887\"], [0.1111111111111111, \"#46039f\"], [0.2222222222222222, \"#7201a8\"], [0.3333333333333333, \"#9c179e\"], [0.4444444444444444, \"#bd3786\"], [0.5555555555555556, \"#d8576b\"], [0.6666666666666666, \"#ed7953\"], [0.7777777777777778, \"#fb9f3a\"], [0.8888888888888888, \"#fdca26\"], [1.0, \"#f0f921\"]], \"type\": \"heatmap\"}], \"heatmapgl\": [{\"colorbar\": {\"outlinewidth\": 0, \"ticks\": \"\"}, \"colorscale\": [[0.0, \"#0d0887\"], [0.1111111111111111, \"#46039f\"], [0.2222222222222222, \"#7201a8\"], [0.3333333333333333, \"#9c179e\"], [0.4444444444444444, \"#bd3786\"], [0.5555555555555556, \"#d8576b\"], [0.6666666666666666, \"#ed7953\"], [0.7777777777777778, \"#fb9f3a\"], [0.8888888888888888, \"#fdca26\"], [1.0, \"#f0f921\"]], \"type\": \"heatmapgl\"}], \"histogram\": [{\"marker\": {\"colorbar\": {\"outlinewidth\": 0, \"ticks\": \"\"}}, \"type\": \"histogram\"}], \"histogram2d\": [{\"colorbar\": {\"outlinewidth\": 0, \"ticks\": \"\"}, \"colorscale\": [[0.0, \"#0d0887\"], [0.1111111111111111, \"#46039f\"], [0.2222222222222222, \"#7201a8\"], [0.3333333333333333, \"#9c179e\"], [0.4444444444444444, \"#bd3786\"], [0.5555555555555556, \"#d8576b\"], [0.6666666666666666, \"#ed7953\"], [0.7777777777777778, \"#fb9f3a\"], [0.8888888888888888, \"#fdca26\"], [1.0, \"#f0f921\"]], \"type\": \"histogram2d\"}], \"histogram2dcontour\": [{\"colorbar\": {\"outlinewidth\": 0, \"ticks\": \"\"}, \"colorscale\": [[0.0, \"#0d0887\"], [0.1111111111111111, \"#46039f\"], [0.2222222222222222, \"#7201a8\"], [0.3333333333333333, \"#9c179e\"], [0.4444444444444444, \"#bd3786\"], [0.5555555555555556, \"#d8576b\"], [0.6666666666666666, \"#ed7953\"], [0.7777777777777778, \"#fb9f3a\"], [0.8888888888888888, \"#fdca26\"], [1.0, \"#f0f921\"]], \"type\": \"histogram2dcontour\"}], \"mesh3d\": [{\"colorbar\": {\"outlinewidth\": 0, \"ticks\": \"\"}, \"type\": \"mesh3d\"}], \"parcoords\": [{\"line\": {\"colorbar\": {\"outlinewidth\": 0, \"ticks\": \"\"}}, \"type\": \"parcoords\"}], \"pie\": [{\"automargin\": true, \"type\": \"pie\"}], \"scatter\": [{\"marker\": {\"colorbar\": {\"outlinewidth\": 0, \"ticks\": \"\"}}, \"type\": \"scatter\"}], \"scatter3d\": [{\"line\": {\"colorbar\": {\"outlinewidth\": 0, \"ticks\": \"\"}}, \"marker\": {\"colorbar\": {\"outlinewidth\": 0, \"ticks\": \"\"}}, \"type\": \"scatter3d\"}], \"scattercarpet\": [{\"marker\": {\"colorbar\": {\"outlinewidth\": 0, \"ticks\": \"\"}}, \"type\": \"scattercarpet\"}], \"scattergeo\": [{\"marker\": {\"colorbar\": {\"outlinewidth\": 0, \"ticks\": \"\"}}, \"type\": \"scattergeo\"}], \"scattergl\": [{\"marker\": {\"colorbar\": {\"outlinewidth\": 0, \"ticks\": \"\"}}, \"type\": \"scattergl\"}], \"scattermapbox\": [{\"marker\": {\"colorbar\": {\"outlinewidth\": 0, \"ticks\": \"\"}}, \"type\": \"scattermapbox\"}], \"scatterpolar\": [{\"marker\": {\"colorbar\": {\"outlinewidth\": 0, \"ticks\": \"\"}}, \"type\": \"scatterpolar\"}], \"scatterpolargl\": [{\"marker\": {\"colorbar\": {\"outlinewidth\": 0, \"ticks\": \"\"}}, \"type\": \"scatterpolargl\"}], \"scatterternary\": [{\"marker\": {\"colorbar\": {\"outlinewidth\": 0, \"ticks\": \"\"}}, \"type\": \"scatterternary\"}], \"surface\": [{\"colorbar\": {\"outlinewidth\": 0, \"ticks\": \"\"}, \"colorscale\": [[0.0, \"#0d0887\"], [0.1111111111111111, \"#46039f\"], [0.2222222222222222, \"#7201a8\"], [0.3333333333333333, \"#9c179e\"], [0.4444444444444444, \"#bd3786\"], [0.5555555555555556, \"#d8576b\"], [0.6666666666666666, \"#ed7953\"], [0.7777777777777778, \"#fb9f3a\"], [0.8888888888888888, \"#fdca26\"], [1.0, \"#f0f921\"]], \"type\": \"surface\"}], \"table\": [{\"cells\": {\"fill\": {\"color\": \"#EBF0F8\"}, \"line\": {\"color\": \"white\"}}, \"header\": {\"fill\": {\"color\": \"#C8D4E3\"}, \"line\": {\"color\": \"white\"}}, \"type\": \"table\"}]}, \"layout\": {\"annotationdefaults\": {\"arrowcolor\": \"#2a3f5f\", \"arrowhead\": 0, \"arrowwidth\": 1}, \"coloraxis\": {\"colorbar\": {\"outlinewidth\": 0, \"ticks\": \"\"}}, \"colorscale\": {\"diverging\": [[0, \"#8e0152\"], [0.1, \"#c51b7d\"], [0.2, \"#de77ae\"], [0.3, \"#f1b6da\"], [0.4, \"#fde0ef\"], [0.5, \"#f7f7f7\"], [0.6, \"#e6f5d0\"], [0.7, \"#b8e186\"], [0.8, \"#7fbc41\"], [0.9, \"#4d9221\"], [1, \"#276419\"]], \"sequential\": [[0.0, \"#0d0887\"], [0.1111111111111111, \"#46039f\"], [0.2222222222222222, \"#7201a8\"], [0.3333333333333333, \"#9c179e\"], [0.4444444444444444, \"#bd3786\"], [0.5555555555555556, \"#d8576b\"], [0.6666666666666666, \"#ed7953\"], [0.7777777777777778, \"#fb9f3a\"], [0.8888888888888888, \"#fdca26\"], [1.0, \"#f0f921\"]], \"sequentialminus\": [[0.0, \"#0d0887\"], [0.1111111111111111, \"#46039f\"], [0.2222222222222222, \"#7201a8\"], [0.3333333333333333, \"#9c179e\"], [0.4444444444444444, \"#bd3786\"], [0.5555555555555556, \"#d8576b\"], [0.6666666666666666, \"#ed7953\"], [0.7777777777777778, \"#fb9f3a\"], [0.8888888888888888, \"#fdca26\"], [1.0, \"#f0f921\"]]}, \"colorway\": [\"#636efa\", \"#EF553B\", \"#00cc96\", \"#ab63fa\", \"#FFA15A\", \"#19d3f3\", \"#FF6692\", \"#B6E880\", \"#FF97FF\", \"#FECB52\"], \"font\": {\"color\": \"#2a3f5f\"}, \"geo\": {\"bgcolor\": \"white\", \"lakecolor\": \"white\", \"landcolor\": \"#E5ECF6\", \"showlakes\": true, \"showland\": true, \"subunitcolor\": \"white\"}, \"hoverlabel\": {\"align\": \"left\"}, \"hovermode\": \"closest\", \"mapbox\": {\"style\": \"light\"}, \"paper_bgcolor\": \"white\", \"plot_bgcolor\": \"#E5ECF6\", \"polar\": {\"angularaxis\": {\"gridcolor\": \"white\", \"linecolor\": \"white\", \"ticks\": \"\"}, \"bgcolor\": \"#E5ECF6\", \"radialaxis\": {\"gridcolor\": \"white\", \"linecolor\": \"white\", \"ticks\": \"\"}}, \"scene\": {\"xaxis\": {\"backgroundcolor\": \"#E5ECF6\", \"gridcolor\": \"white\", \"gridwidth\": 2, \"linecolor\": \"white\", \"showbackground\": true, \"ticks\": \"\", \"zerolinecolor\": \"white\"}, \"yaxis\": {\"backgroundcolor\": \"#E5ECF6\", \"gridcolor\": \"white\", \"gridwidth\": 2, \"linecolor\": \"white\", \"showbackground\": true, \"ticks\": \"\", \"zerolinecolor\": \"white\"}, \"zaxis\": {\"backgroundcolor\": \"#E5ECF6\", \"gridcolor\": \"white\", \"gridwidth\": 2, \"linecolor\": \"white\", \"showbackground\": true, \"ticks\": \"\", \"zerolinecolor\": \"white\"}}, \"shapedefaults\": {\"line\": {\"color\": \"#2a3f5f\"}}, \"ternary\": {\"aaxis\": {\"gridcolor\": \"white\", \"linecolor\": \"white\", \"ticks\": \"\"}, \"baxis\": {\"gridcolor\": \"white\", \"linecolor\": \"white\", \"ticks\": \"\"}, \"bgcolor\": \"#E5ECF6\", \"caxis\": {\"gridcolor\": \"white\", \"linecolor\": \"white\", \"ticks\": \"\"}}, \"title\": {\"x\": 0.05}, \"xaxis\": {\"automargin\": true, \"gridcolor\": \"white\", \"linecolor\": \"white\", \"ticks\": \"\", \"title\": {\"standoff\": 15}, \"zerolinecolor\": \"white\", \"zerolinewidth\": 2}, \"yaxis\": {\"automargin\": true, \"gridcolor\": \"white\", \"linecolor\": \"white\", \"ticks\": \"\", \"title\": {\"standoff\": 15}, \"zerolinecolor\": \"white\", \"zerolinewidth\": 2}}}, \"title\": {\"text\": \"Taux de gu\\u00e9rison\"}, \"xaxis\": {\"anchor\": \"y\", \"domain\": [0.0, 1.0], \"title\": {\"text\": \"Date\"}}, \"yaxis\": {\"anchor\": \"x\", \"domain\": [0.0, 1.0], \"title\": {\"text\": \"Taux\"}, \"type\": \"log\"}},\n",
       "                        {\"responsive\": true}\n",
       "                    ).then(function(){\n",
       "                            \n",
       "var gd = document.getElementById('efa8f1fc-6542-42e0-9566-610f304e8212');\n",
       "var x = new MutationObserver(function (mutations, observer) {{\n",
       "        var display = window.getComputedStyle(gd).display;\n",
       "        if (!display || display === 'none') {{\n",
       "            console.log([gd, 'removed!']);\n",
       "            Plotly.purge(gd);\n",
       "            observer.disconnect();\n",
       "        }}\n",
       "}});\n",
       "\n",
       "// Listen for the removal of the full notebook cells\n",
       "var notebookContainer = gd.closest('#notebook-container');\n",
       "if (notebookContainer) {{\n",
       "    x.observe(notebookContainer, {childList: true});\n",
       "}}\n",
       "\n",
       "// Listen for the clearing of the current output cell\n",
       "var outputEl = gd.closest('.output');\n",
       "if (outputEl) {{\n",
       "    x.observe(outputEl, {childList: true});\n",
       "}}\n",
       "\n",
       "                        })\n",
       "                };\n",
       "                });\n",
       "            </script>\n",
       "        </div>"
      ]
     },
     "metadata": {},
     "output_type": "display_data"
    }
   ],
   "source": [
    "fraSeriesConfirmed = dfGlobalSeriesConfirmed[(dfGlobalSeriesConfirmed['Country/Region'] == 'France') & (dfGlobalSeriesConfirmed['Province/State'] == 'France')]\n",
    "fraSeriesConfirmed = fraSeriesConfirmed.drop(columns=['Lat', 'Long'])\n",
    "fraSeriesRecovered = dfGlobalSeriesRecovered[(dfGlobalSeriesRecovered['Country/Region'] == 'France') & (dfGlobalSeriesRecovered['Province/State'] == 'France')]\n",
    "fraSeriesRecovered = fraSeriesRecovered.drop(columns=['Lat', 'Long'])\n",
    "fraSeriesAll = pd.concat([fraSeriesConfirmed, fraSeriesRecovered])\n",
    "fraSeriesAll = fraSeriesAll.drop(columns=['Province/State', 'Country/Region'])\n",
    "fraSeriesAll = fraSeriesAll.reset_index()\n",
    "fraSeriesAll = fraSeriesAll.drop(columns=['index'])\n",
    "fraSeriesAll = fraSeriesAll.transpose()\n",
    "fraSeriesAll = fraSeriesAll.rename(columns={0: 'Confirmed', 1: 'Recovered'})\n",
    "fraSeriesAll = fraSeriesAll.reset_index()\n",
    "fraSeriesAll = fraSeriesAll.rename(columns={'index' : 'Date'})\n",
    "cmp10Fra = fraSeriesAll\n",
    "fraSeriesAll['France'] = round((fraSeriesAll['Recovered']/fraSeriesAll['Confirmed']), 3)*100\n",
    "#fraSeriesAll = fraSeriesAll.fillna({'Mortality Rate': 0.00})\n",
    "\n",
    "itaSeriesConfirmed = dfGlobalSeriesConfirmed[(dfGlobalSeriesConfirmed['Country/Region'] == 'Italy')]\n",
    "itaSeriesConfirmed = itaSeriesConfirmed.drop(columns=['Lat', 'Long'])\n",
    "itaSeriesRecovered = dfGlobalSeriesRecovered[(dfGlobalSeriesRecovered['Country/Region'] == 'Italy')]\n",
    "itaSeriesRecovered = itaSeriesRecovered.drop(columns=['Lat', 'Long'])\n",
    "itaSeriesAll = pd.concat([itaSeriesConfirmed, itaSeriesDeaths])\n",
    "itaSeriesAll = itaSeriesAll.drop(columns=['Province/State', 'Country/Region'])\n",
    "itaSeriesAll = itaSeriesAll.reset_index()\n",
    "itaSeriesAll = itaSeriesAll.drop(columns=['index'])\n",
    "itaSeriesAll = itaSeriesAll.transpose()\n",
    "itaSeriesAll = itaSeriesAll.rename(columns={0: 'Confirmed', 1: 'Recovered'})\n",
    "itaSeriesAll = itaSeriesAll.reset_index()\n",
    "itaSeriesAll = itaSeriesAll.rename(columns={'index' : 'Date'})\n",
    "cmp10Ita = itaSeriesAll\n",
    "itaSeriesAll['Italie'] = round((itaSeriesAll['Recovered']/itaSeriesAll['Confirmed']), 3)*100\n",
    "#itaSeriesAll = itaSeriesAll.fillna({'Mortality Rate': 0.00})\n",
    "\n",
    "\n",
    "chiSeriesConfirmed = dfGlobalSeriesConfirmed[(dfGlobalSeriesConfirmed['Country/Region'] == 'China')]\n",
    "chiSeriesConfirmed = chiSeriesConfirmed.drop(columns=['Lat', 'Long', 'Country/Region', 'Province/State'])\n",
    "chiSeriesRecovered = dfGlobalSeriesRecovered[(dfGlobalSeriesRecovered['Country/Region'] == 'China')]\n",
    "chiSeriesRecovered = chiSeriesRecovered.drop(columns=['Lat', 'Long', 'Country/Region', 'Province/State'])\n",
    "\n",
    "chiSeriesConfirmed = chiSeriesConfirmed.sum().reset_index()\n",
    "chiSeriesConfirmed = chiSeriesConfirmed.rename(columns={'index': 'Date', 0: 'Confirmed'})\n",
    "\n",
    "chiSeriesRecovered = chiSeriesRecovered.sum().reset_index()\n",
    "chiSeriesRecovered = chiSeriesRecovered.rename(columns={'index': 'Date', 0: 'Recovered'})\n",
    "\n",
    "chiSeriesAll = pd.merge(chiSeriesConfirmed, chiSeriesRecovered, on='Date')\n",
    "cmp10Chi = chiSeriesAll\n",
    "chiSeriesAll['Chine'] = round((chiSeriesAll['Recovered']/chiSeriesAll['Confirmed']), 3)*100\n",
    "\n",
    "\n",
    "tempAll = pd.merge(chiSeriesAll[['Date', 'Chine']], itaSeriesAll[['Date', 'Italie']], on='Date').merge(fraSeriesAll[['Date', 'France']], on='Date')\n",
    "#tempAll = tempAll.fillna(0.0)\n",
    "\n",
    "tempAll = tempAll.melt(id_vars='Date', value_vars=['Chine', 'France', 'Italie'], \n",
    "                 var_name='Pays', value_name='Taux')\n",
    "fig = px.line(tempAll, x=\"Date\", y=\"Taux\", color='Pays', log_y=True, \n",
    "              title='Taux de guérison', color_discrete_sequence=['#d21629', '#162cd2', '#008000'])\n",
    "iplot(fig)"
   ]
  },
  {
   "cell_type": "markdown",
   "metadata": {},
   "source": [
    "## Courbe comparative des évolutions des cas - Chine/France/Italie\n",
    "On compare les données à partir de 10 cas positifs"
   ]
  },
  {
   "cell_type": "markdown",
   "metadata": {},
   "source": [
    "### Cas confirmé"
   ]
  },
  {
   "cell_type": "code",
   "execution_count": 26,
   "metadata": {},
   "outputs": [
    {
     "data": {
      "application/vnd.plotly.v1+json": {
       "config": {
        "linkText": "Export to plot.ly",
        "plotlyServerURL": "https://plot.ly",
        "showLink": false
       },
       "data": [
        {
         "hoverlabel": {
          "namelength": 0
         },
         "hovertemplate": "Legende=Chine<br>Jours=%{x}<br>Value=%{y}",
         "legendgroup": "Chine",
         "line": {
          "color": "#21bf73",
          "dash": "solid"
         },
         "mode": "lines",
         "name": "Chine",
         "showlegend": true,
         "type": "scatter",
         "x": [
          0,
          1,
          2,
          3,
          4,
          5,
          6,
          7,
          8,
          9,
          10,
          11,
          12,
          13,
          14,
          15,
          16,
          17,
          18,
          19,
          20,
          21,
          22,
          23,
          24,
          25,
          26,
          27,
          28,
          29,
          30,
          31,
          32,
          33,
          34,
          35,
          36,
          37,
          38,
          39,
          40,
          41,
          42,
          43,
          44,
          45,
          46,
          47,
          48,
          49,
          50,
          51,
          52,
          53,
          54,
          55,
          56,
          57,
          58,
          59,
          60,
          61
         ],
         "xaxis": "x",
         "y": [
          548,
          643,
          920,
          1406,
          2075,
          2877,
          5509,
          6087,
          8141,
          9802,
          11891,
          16630,
          19716,
          23707,
          27440,
          30587,
          34110,
          36814,
          39829,
          42354,
          44386,
          44759,
          59895,
          66358,
          68413,
          70513,
          72434,
          74211,
          74619,
          75077,
          75550,
          77001,
          77022,
          77241,
          77754,
          78166,
          78600,
          78928,
          79356,
          79932,
          80136,
          80261,
          80386,
          80537,
          80690,
          80770,
          80823,
          80860,
          80887,
          80921,
          80932,
          80945,
          80977,
          81003,
          81033,
          81058,
          81102,
          81156,
          81250,
          81305,
          81397,
          81439
         ],
         "yaxis": "y"
        },
        {
         "hoverlabel": {
          "namelength": 0
         },
         "hovertemplate": "Legende=France<br>Jours=%{x}<br>Value=%{y}",
         "legendgroup": "France",
         "line": {
          "color": "#ff2e63",
          "dash": "solid"
         },
         "mode": "lines",
         "name": "France",
         "showlegend": true,
         "type": "scatter",
         "x": [
          0,
          1,
          2,
          3,
          4,
          5,
          6,
          7,
          8,
          9,
          10,
          11,
          12,
          13,
          14,
          15,
          16,
          17,
          18,
          19,
          20,
          21,
          22,
          23,
          24,
          25,
          26,
          27,
          28,
          29,
          30,
          31,
          32,
          33,
          34,
          35,
          36,
          37,
          38,
          39,
          40,
          41,
          42,
          43,
          44,
          45,
          46,
          47,
          48,
          49,
          50,
          51,
          52,
          53,
          54,
          55,
          56,
          57,
          58,
          59,
          60,
          61
         ],
         "xaxis": "x",
         "y": [
          11,
          11,
          11,
          11,
          11,
          11,
          11,
          12,
          12,
          12,
          12,
          12,
          12,
          12,
          12,
          12,
          12,
          14,
          18,
          38,
          57,
          100,
          130,
          191,
          204,
          285,
          377,
          653,
          949,
          1126,
          1209,
          1784,
          2281,
          2281,
          3661,
          4469,
          4499,
          6633,
          7652,
          9043,
          10871,
          12612,
          14282,
          16018,
          16018,
          null,
          null,
          null,
          null,
          null,
          null,
          null,
          null,
          null,
          null,
          null,
          null,
          null,
          null,
          null,
          null,
          null
         ],
         "yaxis": "y"
        },
        {
         "hoverlabel": {
          "namelength": 0
         },
         "hovertemplate": "Legende=Italie<br>Jours=%{x}<br>Value=%{y}",
         "legendgroup": "Italie",
         "line": {
          "color": "#fe9801",
          "dash": "solid"
         },
         "mode": "lines",
         "name": "Italie",
         "showlegend": true,
         "type": "scatter",
         "x": [
          0,
          1,
          2,
          3,
          4,
          5,
          6,
          7,
          8,
          9,
          10,
          11,
          12,
          13,
          14,
          15,
          16,
          17,
          18,
          19,
          20,
          21,
          22,
          23,
          24,
          25,
          26,
          27,
          28,
          29,
          30,
          31,
          32,
          33,
          34,
          35,
          36,
          37,
          38,
          39,
          40,
          41,
          42,
          43,
          44,
          45,
          46,
          47,
          48,
          49,
          50,
          51,
          52,
          53,
          54,
          55,
          56,
          57,
          58,
          59,
          60,
          61
         ],
         "xaxis": "x",
         "y": [
          20,
          62,
          155,
          229,
          322,
          453,
          655,
          888,
          1128,
          1694,
          2036,
          2502,
          3089,
          3858,
          4636,
          5883,
          7375,
          9172,
          10149,
          12462,
          12462,
          17660,
          21157,
          24747,
          27980,
          31506,
          35713,
          41035,
          47021,
          53578,
          59138,
          59138,
          null,
          null,
          null,
          null,
          null,
          null,
          null,
          null,
          null,
          null,
          null,
          null,
          null,
          null,
          null,
          null,
          null,
          null,
          null,
          null,
          null,
          null,
          null,
          null,
          null,
          null,
          null,
          null,
          null,
          null
         ],
         "yaxis": "y"
        }
       ],
       "layout": {
        "legend": {
         "title": {
          "text": "Legende"
         },
         "tracegroupgap": 0
        },
        "template": {
         "data": {
          "bar": [
           {
            "error_x": {
             "color": "#2a3f5f"
            },
            "error_y": {
             "color": "#2a3f5f"
            },
            "marker": {
             "line": {
              "color": "#E5ECF6",
              "width": 0.5
             }
            },
            "type": "bar"
           }
          ],
          "barpolar": [
           {
            "marker": {
             "line": {
              "color": "#E5ECF6",
              "width": 0.5
             }
            },
            "type": "barpolar"
           }
          ],
          "carpet": [
           {
            "aaxis": {
             "endlinecolor": "#2a3f5f",
             "gridcolor": "white",
             "linecolor": "white",
             "minorgridcolor": "white",
             "startlinecolor": "#2a3f5f"
            },
            "baxis": {
             "endlinecolor": "#2a3f5f",
             "gridcolor": "white",
             "linecolor": "white",
             "minorgridcolor": "white",
             "startlinecolor": "#2a3f5f"
            },
            "type": "carpet"
           }
          ],
          "choropleth": [
           {
            "colorbar": {
             "outlinewidth": 0,
             "ticks": ""
            },
            "type": "choropleth"
           }
          ],
          "contour": [
           {
            "colorbar": {
             "outlinewidth": 0,
             "ticks": ""
            },
            "colorscale": [
             [
              0,
              "#0d0887"
             ],
             [
              0.1111111111111111,
              "#46039f"
             ],
             [
              0.2222222222222222,
              "#7201a8"
             ],
             [
              0.3333333333333333,
              "#9c179e"
             ],
             [
              0.4444444444444444,
              "#bd3786"
             ],
             [
              0.5555555555555556,
              "#d8576b"
             ],
             [
              0.6666666666666666,
              "#ed7953"
             ],
             [
              0.7777777777777778,
              "#fb9f3a"
             ],
             [
              0.8888888888888888,
              "#fdca26"
             ],
             [
              1,
              "#f0f921"
             ]
            ],
            "type": "contour"
           }
          ],
          "contourcarpet": [
           {
            "colorbar": {
             "outlinewidth": 0,
             "ticks": ""
            },
            "type": "contourcarpet"
           }
          ],
          "heatmap": [
           {
            "colorbar": {
             "outlinewidth": 0,
             "ticks": ""
            },
            "colorscale": [
             [
              0,
              "#0d0887"
             ],
             [
              0.1111111111111111,
              "#46039f"
             ],
             [
              0.2222222222222222,
              "#7201a8"
             ],
             [
              0.3333333333333333,
              "#9c179e"
             ],
             [
              0.4444444444444444,
              "#bd3786"
             ],
             [
              0.5555555555555556,
              "#d8576b"
             ],
             [
              0.6666666666666666,
              "#ed7953"
             ],
             [
              0.7777777777777778,
              "#fb9f3a"
             ],
             [
              0.8888888888888888,
              "#fdca26"
             ],
             [
              1,
              "#f0f921"
             ]
            ],
            "type": "heatmap"
           }
          ],
          "heatmapgl": [
           {
            "colorbar": {
             "outlinewidth": 0,
             "ticks": ""
            },
            "colorscale": [
             [
              0,
              "#0d0887"
             ],
             [
              0.1111111111111111,
              "#46039f"
             ],
             [
              0.2222222222222222,
              "#7201a8"
             ],
             [
              0.3333333333333333,
              "#9c179e"
             ],
             [
              0.4444444444444444,
              "#bd3786"
             ],
             [
              0.5555555555555556,
              "#d8576b"
             ],
             [
              0.6666666666666666,
              "#ed7953"
             ],
             [
              0.7777777777777778,
              "#fb9f3a"
             ],
             [
              0.8888888888888888,
              "#fdca26"
             ],
             [
              1,
              "#f0f921"
             ]
            ],
            "type": "heatmapgl"
           }
          ],
          "histogram": [
           {
            "marker": {
             "colorbar": {
              "outlinewidth": 0,
              "ticks": ""
             }
            },
            "type": "histogram"
           }
          ],
          "histogram2d": [
           {
            "colorbar": {
             "outlinewidth": 0,
             "ticks": ""
            },
            "colorscale": [
             [
              0,
              "#0d0887"
             ],
             [
              0.1111111111111111,
              "#46039f"
             ],
             [
              0.2222222222222222,
              "#7201a8"
             ],
             [
              0.3333333333333333,
              "#9c179e"
             ],
             [
              0.4444444444444444,
              "#bd3786"
             ],
             [
              0.5555555555555556,
              "#d8576b"
             ],
             [
              0.6666666666666666,
              "#ed7953"
             ],
             [
              0.7777777777777778,
              "#fb9f3a"
             ],
             [
              0.8888888888888888,
              "#fdca26"
             ],
             [
              1,
              "#f0f921"
             ]
            ],
            "type": "histogram2d"
           }
          ],
          "histogram2dcontour": [
           {
            "colorbar": {
             "outlinewidth": 0,
             "ticks": ""
            },
            "colorscale": [
             [
              0,
              "#0d0887"
             ],
             [
              0.1111111111111111,
              "#46039f"
             ],
             [
              0.2222222222222222,
              "#7201a8"
             ],
             [
              0.3333333333333333,
              "#9c179e"
             ],
             [
              0.4444444444444444,
              "#bd3786"
             ],
             [
              0.5555555555555556,
              "#d8576b"
             ],
             [
              0.6666666666666666,
              "#ed7953"
             ],
             [
              0.7777777777777778,
              "#fb9f3a"
             ],
             [
              0.8888888888888888,
              "#fdca26"
             ],
             [
              1,
              "#f0f921"
             ]
            ],
            "type": "histogram2dcontour"
           }
          ],
          "mesh3d": [
           {
            "colorbar": {
             "outlinewidth": 0,
             "ticks": ""
            },
            "type": "mesh3d"
           }
          ],
          "parcoords": [
           {
            "line": {
             "colorbar": {
              "outlinewidth": 0,
              "ticks": ""
             }
            },
            "type": "parcoords"
           }
          ],
          "pie": [
           {
            "automargin": true,
            "type": "pie"
           }
          ],
          "scatter": [
           {
            "marker": {
             "colorbar": {
              "outlinewidth": 0,
              "ticks": ""
             }
            },
            "type": "scatter"
           }
          ],
          "scatter3d": [
           {
            "line": {
             "colorbar": {
              "outlinewidth": 0,
              "ticks": ""
             }
            },
            "marker": {
             "colorbar": {
              "outlinewidth": 0,
              "ticks": ""
             }
            },
            "type": "scatter3d"
           }
          ],
          "scattercarpet": [
           {
            "marker": {
             "colorbar": {
              "outlinewidth": 0,
              "ticks": ""
             }
            },
            "type": "scattercarpet"
           }
          ],
          "scattergeo": [
           {
            "marker": {
             "colorbar": {
              "outlinewidth": 0,
              "ticks": ""
             }
            },
            "type": "scattergeo"
           }
          ],
          "scattergl": [
           {
            "marker": {
             "colorbar": {
              "outlinewidth": 0,
              "ticks": ""
             }
            },
            "type": "scattergl"
           }
          ],
          "scattermapbox": [
           {
            "marker": {
             "colorbar": {
              "outlinewidth": 0,
              "ticks": ""
             }
            },
            "type": "scattermapbox"
           }
          ],
          "scatterpolar": [
           {
            "marker": {
             "colorbar": {
              "outlinewidth": 0,
              "ticks": ""
             }
            },
            "type": "scatterpolar"
           }
          ],
          "scatterpolargl": [
           {
            "marker": {
             "colorbar": {
              "outlinewidth": 0,
              "ticks": ""
             }
            },
            "type": "scatterpolargl"
           }
          ],
          "scatterternary": [
           {
            "marker": {
             "colorbar": {
              "outlinewidth": 0,
              "ticks": ""
             }
            },
            "type": "scatterternary"
           }
          ],
          "surface": [
           {
            "colorbar": {
             "outlinewidth": 0,
             "ticks": ""
            },
            "colorscale": [
             [
              0,
              "#0d0887"
             ],
             [
              0.1111111111111111,
              "#46039f"
             ],
             [
              0.2222222222222222,
              "#7201a8"
             ],
             [
              0.3333333333333333,
              "#9c179e"
             ],
             [
              0.4444444444444444,
              "#bd3786"
             ],
             [
              0.5555555555555556,
              "#d8576b"
             ],
             [
              0.6666666666666666,
              "#ed7953"
             ],
             [
              0.7777777777777778,
              "#fb9f3a"
             ],
             [
              0.8888888888888888,
              "#fdca26"
             ],
             [
              1,
              "#f0f921"
             ]
            ],
            "type": "surface"
           }
          ],
          "table": [
           {
            "cells": {
             "fill": {
              "color": "#EBF0F8"
             },
             "line": {
              "color": "white"
             }
            },
            "header": {
             "fill": {
              "color": "#C8D4E3"
             },
             "line": {
              "color": "white"
             }
            },
            "type": "table"
           }
          ]
         },
         "layout": {
          "annotationdefaults": {
           "arrowcolor": "#2a3f5f",
           "arrowhead": 0,
           "arrowwidth": 1
          },
          "coloraxis": {
           "colorbar": {
            "outlinewidth": 0,
            "ticks": ""
           }
          },
          "colorscale": {
           "diverging": [
            [
             0,
             "#8e0152"
            ],
            [
             0.1,
             "#c51b7d"
            ],
            [
             0.2,
             "#de77ae"
            ],
            [
             0.3,
             "#f1b6da"
            ],
            [
             0.4,
             "#fde0ef"
            ],
            [
             0.5,
             "#f7f7f7"
            ],
            [
             0.6,
             "#e6f5d0"
            ],
            [
             0.7,
             "#b8e186"
            ],
            [
             0.8,
             "#7fbc41"
            ],
            [
             0.9,
             "#4d9221"
            ],
            [
             1,
             "#276419"
            ]
           ],
           "sequential": [
            [
             0,
             "#0d0887"
            ],
            [
             0.1111111111111111,
             "#46039f"
            ],
            [
             0.2222222222222222,
             "#7201a8"
            ],
            [
             0.3333333333333333,
             "#9c179e"
            ],
            [
             0.4444444444444444,
             "#bd3786"
            ],
            [
             0.5555555555555556,
             "#d8576b"
            ],
            [
             0.6666666666666666,
             "#ed7953"
            ],
            [
             0.7777777777777778,
             "#fb9f3a"
            ],
            [
             0.8888888888888888,
             "#fdca26"
            ],
            [
             1,
             "#f0f921"
            ]
           ],
           "sequentialminus": [
            [
             0,
             "#0d0887"
            ],
            [
             0.1111111111111111,
             "#46039f"
            ],
            [
             0.2222222222222222,
             "#7201a8"
            ],
            [
             0.3333333333333333,
             "#9c179e"
            ],
            [
             0.4444444444444444,
             "#bd3786"
            ],
            [
             0.5555555555555556,
             "#d8576b"
            ],
            [
             0.6666666666666666,
             "#ed7953"
            ],
            [
             0.7777777777777778,
             "#fb9f3a"
            ],
            [
             0.8888888888888888,
             "#fdca26"
            ],
            [
             1,
             "#f0f921"
            ]
           ]
          },
          "colorway": [
           "#636efa",
           "#EF553B",
           "#00cc96",
           "#ab63fa",
           "#FFA15A",
           "#19d3f3",
           "#FF6692",
           "#B6E880",
           "#FF97FF",
           "#FECB52"
          ],
          "font": {
           "color": "#2a3f5f"
          },
          "geo": {
           "bgcolor": "white",
           "lakecolor": "white",
           "landcolor": "#E5ECF6",
           "showlakes": true,
           "showland": true,
           "subunitcolor": "white"
          },
          "hoverlabel": {
           "align": "left"
          },
          "hovermode": "closest",
          "mapbox": {
           "style": "light"
          },
          "paper_bgcolor": "white",
          "plot_bgcolor": "#E5ECF6",
          "polar": {
           "angularaxis": {
            "gridcolor": "white",
            "linecolor": "white",
            "ticks": ""
           },
           "bgcolor": "#E5ECF6",
           "radialaxis": {
            "gridcolor": "white",
            "linecolor": "white",
            "ticks": ""
           }
          },
          "scene": {
           "xaxis": {
            "backgroundcolor": "#E5ECF6",
            "gridcolor": "white",
            "gridwidth": 2,
            "linecolor": "white",
            "showbackground": true,
            "ticks": "",
            "zerolinecolor": "white"
           },
           "yaxis": {
            "backgroundcolor": "#E5ECF6",
            "gridcolor": "white",
            "gridwidth": 2,
            "linecolor": "white",
            "showbackground": true,
            "ticks": "",
            "zerolinecolor": "white"
           },
           "zaxis": {
            "backgroundcolor": "#E5ECF6",
            "gridcolor": "white",
            "gridwidth": 2,
            "linecolor": "white",
            "showbackground": true,
            "ticks": "",
            "zerolinecolor": "white"
           }
          },
          "shapedefaults": {
           "line": {
            "color": "#2a3f5f"
           }
          },
          "ternary": {
           "aaxis": {
            "gridcolor": "white",
            "linecolor": "white",
            "ticks": ""
           },
           "baxis": {
            "gridcolor": "white",
            "linecolor": "white",
            "ticks": ""
           },
           "bgcolor": "#E5ECF6",
           "caxis": {
            "gridcolor": "white",
            "linecolor": "white",
            "ticks": ""
           }
          },
          "title": {
           "x": 0.05
          },
          "xaxis": {
           "automargin": true,
           "gridcolor": "white",
           "linecolor": "white",
           "ticks": "",
           "title": {
            "standoff": 15
           },
           "zerolinecolor": "white",
           "zerolinewidth": 2
          },
          "yaxis": {
           "automargin": true,
           "gridcolor": "white",
           "linecolor": "white",
           "ticks": "",
           "title": {
            "standoff": 15
           },
           "zerolinecolor": "white",
           "zerolinewidth": 2
          }
         }
        },
        "title": {
         "text": "Evolution de l'épidemie à partir de 10 cas infectés"
        },
        "xaxis": {
         "anchor": "y",
         "domain": [
          0,
          1
         ],
         "title": {
          "text": "Jours"
         }
        },
        "yaxis": {
         "anchor": "x",
         "domain": [
          0,
          1
         ],
         "title": {
          "text": "Value"
         },
         "type": "log"
        }
       }
      },
      "text/html": [
       "<div>\n",
       "        \n",
       "        \n",
       "            <div id=\"86e55de1-2792-444e-937a-3c606d1d3bad\" class=\"plotly-graph-div\" style=\"height:525px; width:100%;\"></div>\n",
       "            <script type=\"text/javascript\">\n",
       "                require([\"plotly\"], function(Plotly) {\n",
       "                    window.PLOTLYENV=window.PLOTLYENV || {};\n",
       "                    \n",
       "                if (document.getElementById(\"86e55de1-2792-444e-937a-3c606d1d3bad\")) {\n",
       "                    Plotly.newPlot(\n",
       "                        '86e55de1-2792-444e-937a-3c606d1d3bad',\n",
       "                        [{\"hoverlabel\": {\"namelength\": 0}, \"hovertemplate\": \"Legende=Chine<br>Jours=%{x}<br>Value=%{y}\", \"legendgroup\": \"Chine\", \"line\": {\"color\": \"#21bf73\", \"dash\": \"solid\"}, \"mode\": \"lines\", \"name\": \"Chine\", \"showlegend\": true, \"type\": \"scatter\", \"x\": [0, 1, 2, 3, 4, 5, 6, 7, 8, 9, 10, 11, 12, 13, 14, 15, 16, 17, 18, 19, 20, 21, 22, 23, 24, 25, 26, 27, 28, 29, 30, 31, 32, 33, 34, 35, 36, 37, 38, 39, 40, 41, 42, 43, 44, 45, 46, 47, 48, 49, 50, 51, 52, 53, 54, 55, 56, 57, 58, 59, 60, 61], \"xaxis\": \"x\", \"y\": [548.0, 643.0, 920.0, 1406.0, 2075.0, 2877.0, 5509.0, 6087.0, 8141.0, 9802.0, 11891.0, 16630.0, 19716.0, 23707.0, 27440.0, 30587.0, 34110.0, 36814.0, 39829.0, 42354.0, 44386.0, 44759.0, 59895.0, 66358.0, 68413.0, 70513.0, 72434.0, 74211.0, 74619.0, 75077.0, 75550.0, 77001.0, 77022.0, 77241.0, 77754.0, 78166.0, 78600.0, 78928.0, 79356.0, 79932.0, 80136.0, 80261.0, 80386.0, 80537.0, 80690.0, 80770.0, 80823.0, 80860.0, 80887.0, 80921.0, 80932.0, 80945.0, 80977.0, 81003.0, 81033.0, 81058.0, 81102.0, 81156.0, 81250.0, 81305.0, 81397.0, 81439.0], \"yaxis\": \"y\"}, {\"hoverlabel\": {\"namelength\": 0}, \"hovertemplate\": \"Legende=France<br>Jours=%{x}<br>Value=%{y}\", \"legendgroup\": \"France\", \"line\": {\"color\": \"#ff2e63\", \"dash\": \"solid\"}, \"mode\": \"lines\", \"name\": \"France\", \"showlegend\": true, \"type\": \"scatter\", \"x\": [0, 1, 2, 3, 4, 5, 6, 7, 8, 9, 10, 11, 12, 13, 14, 15, 16, 17, 18, 19, 20, 21, 22, 23, 24, 25, 26, 27, 28, 29, 30, 31, 32, 33, 34, 35, 36, 37, 38, 39, 40, 41, 42, 43, 44, 45, 46, 47, 48, 49, 50, 51, 52, 53, 54, 55, 56, 57, 58, 59, 60, 61], \"xaxis\": \"x\", \"y\": [11.0, 11.0, 11.0, 11.0, 11.0, 11.0, 11.0, 12.0, 12.0, 12.0, 12.0, 12.0, 12.0, 12.0, 12.0, 12.0, 12.0, 14.0, 18.0, 38.0, 57.0, 100.0, 130.0, 191.0, 204.0, 285.0, 377.0, 653.0, 949.0, 1126.0, 1209.0, 1784.0, 2281.0, 2281.0, 3661.0, 4469.0, 4499.0, 6633.0, 7652.0, 9043.0, 10871.0, 12612.0, 14282.0, 16018.0, 16018.0, null, null, null, null, null, null, null, null, null, null, null, null, null, null, null, null, null], \"yaxis\": \"y\"}, {\"hoverlabel\": {\"namelength\": 0}, \"hovertemplate\": \"Legende=Italie<br>Jours=%{x}<br>Value=%{y}\", \"legendgroup\": \"Italie\", \"line\": {\"color\": \"#fe9801\", \"dash\": \"solid\"}, \"mode\": \"lines\", \"name\": \"Italie\", \"showlegend\": true, \"type\": \"scatter\", \"x\": [0, 1, 2, 3, 4, 5, 6, 7, 8, 9, 10, 11, 12, 13, 14, 15, 16, 17, 18, 19, 20, 21, 22, 23, 24, 25, 26, 27, 28, 29, 30, 31, 32, 33, 34, 35, 36, 37, 38, 39, 40, 41, 42, 43, 44, 45, 46, 47, 48, 49, 50, 51, 52, 53, 54, 55, 56, 57, 58, 59, 60, 61], \"xaxis\": \"x\", \"y\": [20.0, 62.0, 155.0, 229.0, 322.0, 453.0, 655.0, 888.0, 1128.0, 1694.0, 2036.0, 2502.0, 3089.0, 3858.0, 4636.0, 5883.0, 7375.0, 9172.0, 10149.0, 12462.0, 12462.0, 17660.0, 21157.0, 24747.0, 27980.0, 31506.0, 35713.0, 41035.0, 47021.0, 53578.0, 59138.0, 59138.0, null, null, null, null, null, null, null, null, null, null, null, null, null, null, null, null, null, null, null, null, null, null, null, null, null, null, null, null, null, null], \"yaxis\": \"y\"}],\n",
       "                        {\"legend\": {\"title\": {\"text\": \"Legende\"}, \"tracegroupgap\": 0}, \"template\": {\"data\": {\"bar\": [{\"error_x\": {\"color\": \"#2a3f5f\"}, \"error_y\": {\"color\": \"#2a3f5f\"}, \"marker\": {\"line\": {\"color\": \"#E5ECF6\", \"width\": 0.5}}, \"type\": \"bar\"}], \"barpolar\": [{\"marker\": {\"line\": {\"color\": \"#E5ECF6\", \"width\": 0.5}}, \"type\": \"barpolar\"}], \"carpet\": [{\"aaxis\": {\"endlinecolor\": \"#2a3f5f\", \"gridcolor\": \"white\", \"linecolor\": \"white\", \"minorgridcolor\": \"white\", \"startlinecolor\": \"#2a3f5f\"}, \"baxis\": {\"endlinecolor\": \"#2a3f5f\", \"gridcolor\": \"white\", \"linecolor\": \"white\", \"minorgridcolor\": \"white\", \"startlinecolor\": \"#2a3f5f\"}, \"type\": \"carpet\"}], \"choropleth\": [{\"colorbar\": {\"outlinewidth\": 0, \"ticks\": \"\"}, \"type\": \"choropleth\"}], \"contour\": [{\"colorbar\": {\"outlinewidth\": 0, \"ticks\": \"\"}, \"colorscale\": [[0.0, \"#0d0887\"], [0.1111111111111111, \"#46039f\"], [0.2222222222222222, \"#7201a8\"], [0.3333333333333333, \"#9c179e\"], [0.4444444444444444, \"#bd3786\"], [0.5555555555555556, \"#d8576b\"], [0.6666666666666666, \"#ed7953\"], [0.7777777777777778, \"#fb9f3a\"], [0.8888888888888888, \"#fdca26\"], [1.0, \"#f0f921\"]], \"type\": \"contour\"}], \"contourcarpet\": [{\"colorbar\": {\"outlinewidth\": 0, \"ticks\": \"\"}, \"type\": \"contourcarpet\"}], \"heatmap\": [{\"colorbar\": {\"outlinewidth\": 0, \"ticks\": \"\"}, \"colorscale\": [[0.0, \"#0d0887\"], [0.1111111111111111, \"#46039f\"], [0.2222222222222222, \"#7201a8\"], [0.3333333333333333, \"#9c179e\"], [0.4444444444444444, \"#bd3786\"], [0.5555555555555556, \"#d8576b\"], [0.6666666666666666, \"#ed7953\"], [0.7777777777777778, \"#fb9f3a\"], [0.8888888888888888, \"#fdca26\"], [1.0, \"#f0f921\"]], \"type\": \"heatmap\"}], \"heatmapgl\": [{\"colorbar\": {\"outlinewidth\": 0, \"ticks\": \"\"}, \"colorscale\": [[0.0, \"#0d0887\"], [0.1111111111111111, \"#46039f\"], [0.2222222222222222, \"#7201a8\"], [0.3333333333333333, \"#9c179e\"], [0.4444444444444444, \"#bd3786\"], [0.5555555555555556, \"#d8576b\"], [0.6666666666666666, \"#ed7953\"], [0.7777777777777778, \"#fb9f3a\"], [0.8888888888888888, \"#fdca26\"], [1.0, \"#f0f921\"]], \"type\": \"heatmapgl\"}], \"histogram\": [{\"marker\": {\"colorbar\": {\"outlinewidth\": 0, \"ticks\": \"\"}}, \"type\": \"histogram\"}], \"histogram2d\": [{\"colorbar\": {\"outlinewidth\": 0, \"ticks\": \"\"}, \"colorscale\": [[0.0, \"#0d0887\"], [0.1111111111111111, \"#46039f\"], [0.2222222222222222, \"#7201a8\"], [0.3333333333333333, \"#9c179e\"], [0.4444444444444444, \"#bd3786\"], [0.5555555555555556, \"#d8576b\"], [0.6666666666666666, \"#ed7953\"], [0.7777777777777778, \"#fb9f3a\"], [0.8888888888888888, \"#fdca26\"], [1.0, \"#f0f921\"]], \"type\": \"histogram2d\"}], \"histogram2dcontour\": [{\"colorbar\": {\"outlinewidth\": 0, \"ticks\": \"\"}, \"colorscale\": [[0.0, \"#0d0887\"], [0.1111111111111111, \"#46039f\"], [0.2222222222222222, \"#7201a8\"], [0.3333333333333333, \"#9c179e\"], [0.4444444444444444, \"#bd3786\"], [0.5555555555555556, \"#d8576b\"], [0.6666666666666666, \"#ed7953\"], [0.7777777777777778, \"#fb9f3a\"], [0.8888888888888888, \"#fdca26\"], [1.0, \"#f0f921\"]], \"type\": \"histogram2dcontour\"}], \"mesh3d\": [{\"colorbar\": {\"outlinewidth\": 0, \"ticks\": \"\"}, \"type\": \"mesh3d\"}], \"parcoords\": [{\"line\": {\"colorbar\": {\"outlinewidth\": 0, \"ticks\": \"\"}}, \"type\": \"parcoords\"}], \"pie\": [{\"automargin\": true, \"type\": \"pie\"}], \"scatter\": [{\"marker\": {\"colorbar\": {\"outlinewidth\": 0, \"ticks\": \"\"}}, \"type\": \"scatter\"}], \"scatter3d\": [{\"line\": {\"colorbar\": {\"outlinewidth\": 0, \"ticks\": \"\"}}, \"marker\": {\"colorbar\": {\"outlinewidth\": 0, \"ticks\": \"\"}}, \"type\": \"scatter3d\"}], \"scattercarpet\": [{\"marker\": {\"colorbar\": {\"outlinewidth\": 0, \"ticks\": \"\"}}, \"type\": \"scattercarpet\"}], \"scattergeo\": [{\"marker\": {\"colorbar\": {\"outlinewidth\": 0, \"ticks\": \"\"}}, \"type\": \"scattergeo\"}], \"scattergl\": [{\"marker\": {\"colorbar\": {\"outlinewidth\": 0, \"ticks\": \"\"}}, \"type\": \"scattergl\"}], \"scattermapbox\": [{\"marker\": {\"colorbar\": {\"outlinewidth\": 0, \"ticks\": \"\"}}, \"type\": \"scattermapbox\"}], \"scatterpolar\": [{\"marker\": {\"colorbar\": {\"outlinewidth\": 0, \"ticks\": \"\"}}, \"type\": \"scatterpolar\"}], \"scatterpolargl\": [{\"marker\": {\"colorbar\": {\"outlinewidth\": 0, \"ticks\": \"\"}}, \"type\": \"scatterpolargl\"}], \"scatterternary\": [{\"marker\": {\"colorbar\": {\"outlinewidth\": 0, \"ticks\": \"\"}}, \"type\": \"scatterternary\"}], \"surface\": [{\"colorbar\": {\"outlinewidth\": 0, \"ticks\": \"\"}, \"colorscale\": [[0.0, \"#0d0887\"], [0.1111111111111111, \"#46039f\"], [0.2222222222222222, \"#7201a8\"], [0.3333333333333333, \"#9c179e\"], [0.4444444444444444, \"#bd3786\"], [0.5555555555555556, \"#d8576b\"], [0.6666666666666666, \"#ed7953\"], [0.7777777777777778, \"#fb9f3a\"], [0.8888888888888888, \"#fdca26\"], [1.0, \"#f0f921\"]], \"type\": \"surface\"}], \"table\": [{\"cells\": {\"fill\": {\"color\": \"#EBF0F8\"}, \"line\": {\"color\": \"white\"}}, \"header\": {\"fill\": {\"color\": \"#C8D4E3\"}, \"line\": {\"color\": \"white\"}}, \"type\": \"table\"}]}, \"layout\": {\"annotationdefaults\": {\"arrowcolor\": \"#2a3f5f\", \"arrowhead\": 0, \"arrowwidth\": 1}, \"coloraxis\": {\"colorbar\": {\"outlinewidth\": 0, \"ticks\": \"\"}}, \"colorscale\": {\"diverging\": [[0, \"#8e0152\"], [0.1, \"#c51b7d\"], [0.2, \"#de77ae\"], [0.3, \"#f1b6da\"], [0.4, \"#fde0ef\"], [0.5, \"#f7f7f7\"], [0.6, \"#e6f5d0\"], [0.7, \"#b8e186\"], [0.8, \"#7fbc41\"], [0.9, \"#4d9221\"], [1, \"#276419\"]], \"sequential\": [[0.0, \"#0d0887\"], [0.1111111111111111, \"#46039f\"], [0.2222222222222222, \"#7201a8\"], [0.3333333333333333, \"#9c179e\"], [0.4444444444444444, \"#bd3786\"], [0.5555555555555556, \"#d8576b\"], [0.6666666666666666, \"#ed7953\"], [0.7777777777777778, \"#fb9f3a\"], [0.8888888888888888, \"#fdca26\"], [1.0, \"#f0f921\"]], \"sequentialminus\": [[0.0, \"#0d0887\"], [0.1111111111111111, \"#46039f\"], [0.2222222222222222, \"#7201a8\"], [0.3333333333333333, \"#9c179e\"], [0.4444444444444444, \"#bd3786\"], [0.5555555555555556, \"#d8576b\"], [0.6666666666666666, \"#ed7953\"], [0.7777777777777778, \"#fb9f3a\"], [0.8888888888888888, \"#fdca26\"], [1.0, \"#f0f921\"]]}, \"colorway\": [\"#636efa\", \"#EF553B\", \"#00cc96\", \"#ab63fa\", \"#FFA15A\", \"#19d3f3\", \"#FF6692\", \"#B6E880\", \"#FF97FF\", \"#FECB52\"], \"font\": {\"color\": \"#2a3f5f\"}, \"geo\": {\"bgcolor\": \"white\", \"lakecolor\": \"white\", \"landcolor\": \"#E5ECF6\", \"showlakes\": true, \"showland\": true, \"subunitcolor\": \"white\"}, \"hoverlabel\": {\"align\": \"left\"}, \"hovermode\": \"closest\", \"mapbox\": {\"style\": \"light\"}, \"paper_bgcolor\": \"white\", \"plot_bgcolor\": \"#E5ECF6\", \"polar\": {\"angularaxis\": {\"gridcolor\": \"white\", \"linecolor\": \"white\", \"ticks\": \"\"}, \"bgcolor\": \"#E5ECF6\", \"radialaxis\": {\"gridcolor\": \"white\", \"linecolor\": \"white\", \"ticks\": \"\"}}, \"scene\": {\"xaxis\": {\"backgroundcolor\": \"#E5ECF6\", \"gridcolor\": \"white\", \"gridwidth\": 2, \"linecolor\": \"white\", \"showbackground\": true, \"ticks\": \"\", \"zerolinecolor\": \"white\"}, \"yaxis\": {\"backgroundcolor\": \"#E5ECF6\", \"gridcolor\": \"white\", \"gridwidth\": 2, \"linecolor\": \"white\", \"showbackground\": true, \"ticks\": \"\", \"zerolinecolor\": \"white\"}, \"zaxis\": {\"backgroundcolor\": \"#E5ECF6\", \"gridcolor\": \"white\", \"gridwidth\": 2, \"linecolor\": \"white\", \"showbackground\": true, \"ticks\": \"\", \"zerolinecolor\": \"white\"}}, \"shapedefaults\": {\"line\": {\"color\": \"#2a3f5f\"}}, \"ternary\": {\"aaxis\": {\"gridcolor\": \"white\", \"linecolor\": \"white\", \"ticks\": \"\"}, \"baxis\": {\"gridcolor\": \"white\", \"linecolor\": \"white\", \"ticks\": \"\"}, \"bgcolor\": \"#E5ECF6\", \"caxis\": {\"gridcolor\": \"white\", \"linecolor\": \"white\", \"ticks\": \"\"}}, \"title\": {\"x\": 0.05}, \"xaxis\": {\"automargin\": true, \"gridcolor\": \"white\", \"linecolor\": \"white\", \"ticks\": \"\", \"title\": {\"standoff\": 15}, \"zerolinecolor\": \"white\", \"zerolinewidth\": 2}, \"yaxis\": {\"automargin\": true, \"gridcolor\": \"white\", \"linecolor\": \"white\", \"ticks\": \"\", \"title\": {\"standoff\": 15}, \"zerolinecolor\": \"white\", \"zerolinewidth\": 2}}}, \"title\": {\"text\": \"Evolution de l'\\u00e9pidemie \\u00e0 partir de 10 cas infect\\u00e9s\"}, \"xaxis\": {\"anchor\": \"y\", \"domain\": [0.0, 1.0], \"title\": {\"text\": \"Jours\"}}, \"yaxis\": {\"anchor\": \"x\", \"domain\": [0.0, 1.0], \"title\": {\"text\": \"Value\"}, \"type\": \"log\"}},\n",
       "                        {\"responsive\": true}\n",
       "                    ).then(function(){\n",
       "                            \n",
       "var gd = document.getElementById('86e55de1-2792-444e-937a-3c606d1d3bad');\n",
       "var x = new MutationObserver(function (mutations, observer) {{\n",
       "        var display = window.getComputedStyle(gd).display;\n",
       "        if (!display || display === 'none') {{\n",
       "            console.log([gd, 'removed!']);\n",
       "            Plotly.purge(gd);\n",
       "            observer.disconnect();\n",
       "        }}\n",
       "}});\n",
       "\n",
       "// Listen for the removal of the full notebook cells\n",
       "var notebookContainer = gd.closest('#notebook-container');\n",
       "if (notebookContainer) {{\n",
       "    x.observe(notebookContainer, {childList: true});\n",
       "}}\n",
       "\n",
       "// Listen for the clearing of the current output cell\n",
       "var outputEl = gd.closest('.output');\n",
       "if (outputEl) {{\n",
       "    x.observe(outputEl, {childList: true});\n",
       "}}\n",
       "\n",
       "                        })\n",
       "                };\n",
       "                });\n",
       "            </script>\n",
       "        </div>"
      ]
     },
     "metadata": {},
     "output_type": "display_data"
    }
   ],
   "source": [
    "cmp10Ita = itaSeriesConfirmed\n",
    "cmp10Ita = cmp10Ita.drop(columns=['Province/State', 'Country/Region'])\n",
    "cmp10Ita = cmp10Ita.transpose()\n",
    "cmp10Ita = cmp10Ita.rename(columns={16: 'Italie'})\n",
    "cmp10Ita = cmp10Ita[(cmp10Ita['Italie'] > 9)]\n",
    "cmp10Ita.index = pd.RangeIndex(len(cmp10Ita.index))\n",
    "\n",
    "cmp10Fra = fraSeriesConfirmed\n",
    "cmp10Fra = cmp10Fra.drop(columns=['Province/State', 'Country/Region'])\n",
    "cmp10Fra = cmp10Fra.transpose()\n",
    "cmp10Fra = cmp10Fra.rename(columns={157: 'France'})\n",
    "cmp10Fra = cmp10Fra[(cmp10Fra['France'] > 9)]\n",
    "cmp10Fra.index = pd.RangeIndex(len(cmp10Fra.index))\n",
    "\n",
    "cmp10Chi = chiSeriesConfirmed\n",
    "\n",
    "cmp10Chi = cmp10Chi.rename(columns={'Confirmed': \"Chine\"})\n",
    "cmp10Chi = cmp10Chi[(cmp10Chi['Chine'] > 9)]\n",
    "cmp10Chi.index = pd.RangeIndex(len(cmp10Chi.index))\n",
    "\n",
    "\n",
    "cmp10Global = pd.concat([cmp10Chi, cmp10Fra, cmp10Ita], axis=1)\n",
    "cmp10Global = cmp10Global.reset_index()\n",
    "cmp10Global = cmp10Global.rename(columns={'index': \"Jours\"})\n",
    "cmp10GlobalShifted = cmp10Global\n",
    "\n",
    "cmp10Global = cmp10Global.melt(id_vars='Jours', value_vars=['Chine', 'France', 'Italie'], \n",
    "                 var_name='Legende', value_name='Value')\n",
    "\n",
    "iplot(px.line(cmp10Global, x=\"Jours\", y=\"Value\", color='Legende', log_y=True, \n",
    "              title='Evolution de l\\'épidemie à partir de 10 cas infectés' , color_discrete_sequence=[colorCyan, colorRed, colorYellow]))\n",
    "\n",
    "\n",
    "\n",
    "\n"
   ]
  },
  {
   "cell_type": "markdown",
   "metadata": {},
   "source": [
    "### Shift données France\n",
    "\n",
    "En decalant les données de la france de 17 jours, on peut apercevoir que l'on suit exactement la même courbe de l'évolution de cas infectés de l'Italie\n",
    "\n",
    "Si on décale aussi la courbe de l'Italie, celle-ci aussi se rapproche sensiblement de l'évolution qu'a connu la Chine"
   ]
  },
  {
   "cell_type": "code",
   "execution_count": 27,
   "metadata": {},
   "outputs": [
    {
     "data": {
      "application/vnd.plotly.v1+json": {
       "config": {
        "linkText": "Export to plot.ly",
        "plotlyServerURL": "https://plot.ly",
        "showLink": false
       },
       "data": [
        {
         "hoverlabel": {
          "namelength": 0
         },
         "hovertemplate": "Legende=Chine<br>Jours=%{x}<br>Value=%{y}",
         "legendgroup": "Chine",
         "line": {
          "color": "#21bf73",
          "dash": "solid"
         },
         "mode": "lines",
         "name": "Chine",
         "showlegend": true,
         "type": "scatter",
         "x": [
          0,
          1,
          2,
          3,
          4,
          5,
          6,
          7,
          8,
          9,
          10,
          11,
          12,
          13,
          14,
          15,
          16,
          17,
          18,
          19,
          20,
          21,
          22,
          23,
          24,
          25,
          26,
          27,
          28,
          29,
          30,
          31,
          32,
          33,
          34,
          35,
          36,
          37,
          38,
          39,
          40,
          41,
          42,
          43,
          44,
          45,
          46,
          47,
          48,
          49,
          50,
          51,
          52,
          53,
          54,
          55,
          56,
          57,
          58,
          59,
          60,
          61
         ],
         "xaxis": "x",
         "y": [
          548,
          643,
          920,
          1406,
          2075,
          2877,
          5509,
          6087,
          8141,
          9802,
          11891,
          16630,
          19716,
          23707,
          27440,
          30587,
          34110,
          36814,
          39829,
          42354,
          44386,
          44759,
          59895,
          66358,
          68413,
          70513,
          72434,
          74211,
          74619,
          75077,
          75550,
          77001,
          77022,
          77241,
          77754,
          78166,
          78600,
          78928,
          79356,
          79932,
          80136,
          80261,
          80386,
          80537,
          80690,
          80770,
          80823,
          80860,
          80887,
          80921,
          80932,
          80945,
          80977,
          81003,
          81033,
          81058,
          81102,
          81156,
          81250,
          81305,
          81397,
          81439
         ],
         "yaxis": "y"
        },
        {
         "hoverlabel": {
          "namelength": 0
         },
         "hovertemplate": "Legende=France<br>Jours=%{x}<br>Value=%{y}",
         "legendgroup": "France",
         "line": {
          "color": "#ff2e63",
          "dash": "solid"
         },
         "mode": "lines",
         "name": "France",
         "showlegend": true,
         "type": "scatter",
         "x": [
          0,
          1,
          2,
          3,
          4,
          5,
          6,
          7,
          8,
          9,
          10,
          11,
          12,
          13,
          14,
          15,
          16,
          17,
          18,
          19,
          20,
          21,
          22,
          23,
          24,
          25,
          26,
          27,
          28,
          29,
          30,
          31,
          32,
          33,
          34,
          35,
          36,
          37,
          38,
          39,
          40,
          41,
          42,
          43,
          44,
          45,
          46,
          47,
          48,
          49,
          50,
          51,
          52,
          53,
          54,
          55,
          56,
          57,
          58,
          59,
          60,
          61
         ],
         "xaxis": "x",
         "y": [
          14,
          18,
          38,
          57,
          100,
          130,
          191,
          204,
          285,
          377,
          653,
          949,
          1126,
          1209,
          1784,
          2281,
          2281,
          3661,
          4469,
          4499,
          6633,
          7652,
          9043,
          10871,
          12612,
          14282,
          16018,
          16018,
          null,
          null,
          null,
          null,
          null,
          null,
          null,
          null,
          null,
          null,
          null,
          null,
          null,
          null,
          null,
          null,
          null,
          null,
          null,
          null,
          null,
          null,
          null,
          null,
          null,
          null,
          null,
          null,
          null,
          null,
          null,
          null,
          null,
          null
         ],
         "yaxis": "y"
        },
        {
         "hoverlabel": {
          "namelength": 0
         },
         "hovertemplate": "Legende=Italie<br>Jours=%{x}<br>Value=%{y}",
         "legendgroup": "Italie",
         "line": {
          "color": "#fe9801",
          "dash": "solid"
         },
         "mode": "lines",
         "name": "Italie",
         "showlegend": true,
         "type": "scatter",
         "x": [
          0,
          1,
          2,
          3,
          4,
          5,
          6,
          7,
          8,
          9,
          10,
          11,
          12,
          13,
          14,
          15,
          16,
          17,
          18,
          19,
          20,
          21,
          22,
          23,
          24,
          25,
          26,
          27,
          28,
          29,
          30,
          31,
          32,
          33,
          34,
          35,
          36,
          37,
          38,
          39,
          40,
          41,
          42,
          43,
          44,
          45,
          46,
          47,
          48,
          49,
          50,
          51,
          52,
          53,
          54,
          55,
          56,
          57,
          58,
          59,
          60,
          61
         ],
         "xaxis": "x",
         "y": [
          20,
          62,
          155,
          229,
          322,
          453,
          655,
          888,
          1128,
          1694,
          2036,
          2502,
          3089,
          3858,
          4636,
          5883,
          7375,
          9172,
          10149,
          12462,
          12462,
          17660,
          21157,
          24747,
          27980,
          31506,
          35713,
          41035,
          47021,
          53578,
          59138,
          59138,
          null,
          null,
          null,
          null,
          null,
          null,
          null,
          null,
          null,
          null,
          null,
          null,
          null,
          null,
          null,
          null,
          null,
          null,
          null,
          null,
          null,
          null,
          null,
          null,
          null,
          null,
          null,
          null,
          null,
          null
         ],
         "yaxis": "y"
        }
       ],
       "layout": {
        "legend": {
         "title": {
          "text": "Legende"
         },
         "tracegroupgap": 0
        },
        "template": {
         "data": {
          "bar": [
           {
            "error_x": {
             "color": "#2a3f5f"
            },
            "error_y": {
             "color": "#2a3f5f"
            },
            "marker": {
             "line": {
              "color": "#E5ECF6",
              "width": 0.5
             }
            },
            "type": "bar"
           }
          ],
          "barpolar": [
           {
            "marker": {
             "line": {
              "color": "#E5ECF6",
              "width": 0.5
             }
            },
            "type": "barpolar"
           }
          ],
          "carpet": [
           {
            "aaxis": {
             "endlinecolor": "#2a3f5f",
             "gridcolor": "white",
             "linecolor": "white",
             "minorgridcolor": "white",
             "startlinecolor": "#2a3f5f"
            },
            "baxis": {
             "endlinecolor": "#2a3f5f",
             "gridcolor": "white",
             "linecolor": "white",
             "minorgridcolor": "white",
             "startlinecolor": "#2a3f5f"
            },
            "type": "carpet"
           }
          ],
          "choropleth": [
           {
            "colorbar": {
             "outlinewidth": 0,
             "ticks": ""
            },
            "type": "choropleth"
           }
          ],
          "contour": [
           {
            "colorbar": {
             "outlinewidth": 0,
             "ticks": ""
            },
            "colorscale": [
             [
              0,
              "#0d0887"
             ],
             [
              0.1111111111111111,
              "#46039f"
             ],
             [
              0.2222222222222222,
              "#7201a8"
             ],
             [
              0.3333333333333333,
              "#9c179e"
             ],
             [
              0.4444444444444444,
              "#bd3786"
             ],
             [
              0.5555555555555556,
              "#d8576b"
             ],
             [
              0.6666666666666666,
              "#ed7953"
             ],
             [
              0.7777777777777778,
              "#fb9f3a"
             ],
             [
              0.8888888888888888,
              "#fdca26"
             ],
             [
              1,
              "#f0f921"
             ]
            ],
            "type": "contour"
           }
          ],
          "contourcarpet": [
           {
            "colorbar": {
             "outlinewidth": 0,
             "ticks": ""
            },
            "type": "contourcarpet"
           }
          ],
          "heatmap": [
           {
            "colorbar": {
             "outlinewidth": 0,
             "ticks": ""
            },
            "colorscale": [
             [
              0,
              "#0d0887"
             ],
             [
              0.1111111111111111,
              "#46039f"
             ],
             [
              0.2222222222222222,
              "#7201a8"
             ],
             [
              0.3333333333333333,
              "#9c179e"
             ],
             [
              0.4444444444444444,
              "#bd3786"
             ],
             [
              0.5555555555555556,
              "#d8576b"
             ],
             [
              0.6666666666666666,
              "#ed7953"
             ],
             [
              0.7777777777777778,
              "#fb9f3a"
             ],
             [
              0.8888888888888888,
              "#fdca26"
             ],
             [
              1,
              "#f0f921"
             ]
            ],
            "type": "heatmap"
           }
          ],
          "heatmapgl": [
           {
            "colorbar": {
             "outlinewidth": 0,
             "ticks": ""
            },
            "colorscale": [
             [
              0,
              "#0d0887"
             ],
             [
              0.1111111111111111,
              "#46039f"
             ],
             [
              0.2222222222222222,
              "#7201a8"
             ],
             [
              0.3333333333333333,
              "#9c179e"
             ],
             [
              0.4444444444444444,
              "#bd3786"
             ],
             [
              0.5555555555555556,
              "#d8576b"
             ],
             [
              0.6666666666666666,
              "#ed7953"
             ],
             [
              0.7777777777777778,
              "#fb9f3a"
             ],
             [
              0.8888888888888888,
              "#fdca26"
             ],
             [
              1,
              "#f0f921"
             ]
            ],
            "type": "heatmapgl"
           }
          ],
          "histogram": [
           {
            "marker": {
             "colorbar": {
              "outlinewidth": 0,
              "ticks": ""
             }
            },
            "type": "histogram"
           }
          ],
          "histogram2d": [
           {
            "colorbar": {
             "outlinewidth": 0,
             "ticks": ""
            },
            "colorscale": [
             [
              0,
              "#0d0887"
             ],
             [
              0.1111111111111111,
              "#46039f"
             ],
             [
              0.2222222222222222,
              "#7201a8"
             ],
             [
              0.3333333333333333,
              "#9c179e"
             ],
             [
              0.4444444444444444,
              "#bd3786"
             ],
             [
              0.5555555555555556,
              "#d8576b"
             ],
             [
              0.6666666666666666,
              "#ed7953"
             ],
             [
              0.7777777777777778,
              "#fb9f3a"
             ],
             [
              0.8888888888888888,
              "#fdca26"
             ],
             [
              1,
              "#f0f921"
             ]
            ],
            "type": "histogram2d"
           }
          ],
          "histogram2dcontour": [
           {
            "colorbar": {
             "outlinewidth": 0,
             "ticks": ""
            },
            "colorscale": [
             [
              0,
              "#0d0887"
             ],
             [
              0.1111111111111111,
              "#46039f"
             ],
             [
              0.2222222222222222,
              "#7201a8"
             ],
             [
              0.3333333333333333,
              "#9c179e"
             ],
             [
              0.4444444444444444,
              "#bd3786"
             ],
             [
              0.5555555555555556,
              "#d8576b"
             ],
             [
              0.6666666666666666,
              "#ed7953"
             ],
             [
              0.7777777777777778,
              "#fb9f3a"
             ],
             [
              0.8888888888888888,
              "#fdca26"
             ],
             [
              1,
              "#f0f921"
             ]
            ],
            "type": "histogram2dcontour"
           }
          ],
          "mesh3d": [
           {
            "colorbar": {
             "outlinewidth": 0,
             "ticks": ""
            },
            "type": "mesh3d"
           }
          ],
          "parcoords": [
           {
            "line": {
             "colorbar": {
              "outlinewidth": 0,
              "ticks": ""
             }
            },
            "type": "parcoords"
           }
          ],
          "pie": [
           {
            "automargin": true,
            "type": "pie"
           }
          ],
          "scatter": [
           {
            "marker": {
             "colorbar": {
              "outlinewidth": 0,
              "ticks": ""
             }
            },
            "type": "scatter"
           }
          ],
          "scatter3d": [
           {
            "line": {
             "colorbar": {
              "outlinewidth": 0,
              "ticks": ""
             }
            },
            "marker": {
             "colorbar": {
              "outlinewidth": 0,
              "ticks": ""
             }
            },
            "type": "scatter3d"
           }
          ],
          "scattercarpet": [
           {
            "marker": {
             "colorbar": {
              "outlinewidth": 0,
              "ticks": ""
             }
            },
            "type": "scattercarpet"
           }
          ],
          "scattergeo": [
           {
            "marker": {
             "colorbar": {
              "outlinewidth": 0,
              "ticks": ""
             }
            },
            "type": "scattergeo"
           }
          ],
          "scattergl": [
           {
            "marker": {
             "colorbar": {
              "outlinewidth": 0,
              "ticks": ""
             }
            },
            "type": "scattergl"
           }
          ],
          "scattermapbox": [
           {
            "marker": {
             "colorbar": {
              "outlinewidth": 0,
              "ticks": ""
             }
            },
            "type": "scattermapbox"
           }
          ],
          "scatterpolar": [
           {
            "marker": {
             "colorbar": {
              "outlinewidth": 0,
              "ticks": ""
             }
            },
            "type": "scatterpolar"
           }
          ],
          "scatterpolargl": [
           {
            "marker": {
             "colorbar": {
              "outlinewidth": 0,
              "ticks": ""
             }
            },
            "type": "scatterpolargl"
           }
          ],
          "scatterternary": [
           {
            "marker": {
             "colorbar": {
              "outlinewidth": 0,
              "ticks": ""
             }
            },
            "type": "scatterternary"
           }
          ],
          "surface": [
           {
            "colorbar": {
             "outlinewidth": 0,
             "ticks": ""
            },
            "colorscale": [
             [
              0,
              "#0d0887"
             ],
             [
              0.1111111111111111,
              "#46039f"
             ],
             [
              0.2222222222222222,
              "#7201a8"
             ],
             [
              0.3333333333333333,
              "#9c179e"
             ],
             [
              0.4444444444444444,
              "#bd3786"
             ],
             [
              0.5555555555555556,
              "#d8576b"
             ],
             [
              0.6666666666666666,
              "#ed7953"
             ],
             [
              0.7777777777777778,
              "#fb9f3a"
             ],
             [
              0.8888888888888888,
              "#fdca26"
             ],
             [
              1,
              "#f0f921"
             ]
            ],
            "type": "surface"
           }
          ],
          "table": [
           {
            "cells": {
             "fill": {
              "color": "#EBF0F8"
             },
             "line": {
              "color": "white"
             }
            },
            "header": {
             "fill": {
              "color": "#C8D4E3"
             },
             "line": {
              "color": "white"
             }
            },
            "type": "table"
           }
          ]
         },
         "layout": {
          "annotationdefaults": {
           "arrowcolor": "#2a3f5f",
           "arrowhead": 0,
           "arrowwidth": 1
          },
          "coloraxis": {
           "colorbar": {
            "outlinewidth": 0,
            "ticks": ""
           }
          },
          "colorscale": {
           "diverging": [
            [
             0,
             "#8e0152"
            ],
            [
             0.1,
             "#c51b7d"
            ],
            [
             0.2,
             "#de77ae"
            ],
            [
             0.3,
             "#f1b6da"
            ],
            [
             0.4,
             "#fde0ef"
            ],
            [
             0.5,
             "#f7f7f7"
            ],
            [
             0.6,
             "#e6f5d0"
            ],
            [
             0.7,
             "#b8e186"
            ],
            [
             0.8,
             "#7fbc41"
            ],
            [
             0.9,
             "#4d9221"
            ],
            [
             1,
             "#276419"
            ]
           ],
           "sequential": [
            [
             0,
             "#0d0887"
            ],
            [
             0.1111111111111111,
             "#46039f"
            ],
            [
             0.2222222222222222,
             "#7201a8"
            ],
            [
             0.3333333333333333,
             "#9c179e"
            ],
            [
             0.4444444444444444,
             "#bd3786"
            ],
            [
             0.5555555555555556,
             "#d8576b"
            ],
            [
             0.6666666666666666,
             "#ed7953"
            ],
            [
             0.7777777777777778,
             "#fb9f3a"
            ],
            [
             0.8888888888888888,
             "#fdca26"
            ],
            [
             1,
             "#f0f921"
            ]
           ],
           "sequentialminus": [
            [
             0,
             "#0d0887"
            ],
            [
             0.1111111111111111,
             "#46039f"
            ],
            [
             0.2222222222222222,
             "#7201a8"
            ],
            [
             0.3333333333333333,
             "#9c179e"
            ],
            [
             0.4444444444444444,
             "#bd3786"
            ],
            [
             0.5555555555555556,
             "#d8576b"
            ],
            [
             0.6666666666666666,
             "#ed7953"
            ],
            [
             0.7777777777777778,
             "#fb9f3a"
            ],
            [
             0.8888888888888888,
             "#fdca26"
            ],
            [
             1,
             "#f0f921"
            ]
           ]
          },
          "colorway": [
           "#636efa",
           "#EF553B",
           "#00cc96",
           "#ab63fa",
           "#FFA15A",
           "#19d3f3",
           "#FF6692",
           "#B6E880",
           "#FF97FF",
           "#FECB52"
          ],
          "font": {
           "color": "#2a3f5f"
          },
          "geo": {
           "bgcolor": "white",
           "lakecolor": "white",
           "landcolor": "#E5ECF6",
           "showlakes": true,
           "showland": true,
           "subunitcolor": "white"
          },
          "hoverlabel": {
           "align": "left"
          },
          "hovermode": "closest",
          "mapbox": {
           "style": "light"
          },
          "paper_bgcolor": "white",
          "plot_bgcolor": "#E5ECF6",
          "polar": {
           "angularaxis": {
            "gridcolor": "white",
            "linecolor": "white",
            "ticks": ""
           },
           "bgcolor": "#E5ECF6",
           "radialaxis": {
            "gridcolor": "white",
            "linecolor": "white",
            "ticks": ""
           }
          },
          "scene": {
           "xaxis": {
            "backgroundcolor": "#E5ECF6",
            "gridcolor": "white",
            "gridwidth": 2,
            "linecolor": "white",
            "showbackground": true,
            "ticks": "",
            "zerolinecolor": "white"
           },
           "yaxis": {
            "backgroundcolor": "#E5ECF6",
            "gridcolor": "white",
            "gridwidth": 2,
            "linecolor": "white",
            "showbackground": true,
            "ticks": "",
            "zerolinecolor": "white"
           },
           "zaxis": {
            "backgroundcolor": "#E5ECF6",
            "gridcolor": "white",
            "gridwidth": 2,
            "linecolor": "white",
            "showbackground": true,
            "ticks": "",
            "zerolinecolor": "white"
           }
          },
          "shapedefaults": {
           "line": {
            "color": "#2a3f5f"
           }
          },
          "ternary": {
           "aaxis": {
            "gridcolor": "white",
            "linecolor": "white",
            "ticks": ""
           },
           "baxis": {
            "gridcolor": "white",
            "linecolor": "white",
            "ticks": ""
           },
           "bgcolor": "#E5ECF6",
           "caxis": {
            "gridcolor": "white",
            "linecolor": "white",
            "ticks": ""
           }
          },
          "title": {
           "x": 0.05
          },
          "xaxis": {
           "automargin": true,
           "gridcolor": "white",
           "linecolor": "white",
           "ticks": "",
           "title": {
            "standoff": 15
           },
           "zerolinecolor": "white",
           "zerolinewidth": 2
          },
          "yaxis": {
           "automargin": true,
           "gridcolor": "white",
           "linecolor": "white",
           "ticks": "",
           "title": {
            "standoff": 15
           },
           "zerolinecolor": "white",
           "zerolinewidth": 2
          }
         }
        },
        "title": {
         "text": "Evolution de l'épidemie à partir de 10 cas infectés"
        },
        "xaxis": {
         "anchor": "y",
         "domain": [
          0,
          1
         ],
         "title": {
          "text": "Jours"
         }
        },
        "yaxis": {
         "anchor": "x",
         "domain": [
          0,
          1
         ],
         "title": {
          "text": "Value"
         },
         "type": "log"
        }
       }
      },
      "text/html": [
       "<div>\n",
       "        \n",
       "        \n",
       "            <div id=\"de9a1160-2083-4d52-b5ba-f72e51e54686\" class=\"plotly-graph-div\" style=\"height:525px; width:100%;\"></div>\n",
       "            <script type=\"text/javascript\">\n",
       "                require([\"plotly\"], function(Plotly) {\n",
       "                    window.PLOTLYENV=window.PLOTLYENV || {};\n",
       "                    \n",
       "                if (document.getElementById(\"de9a1160-2083-4d52-b5ba-f72e51e54686\")) {\n",
       "                    Plotly.newPlot(\n",
       "                        'de9a1160-2083-4d52-b5ba-f72e51e54686',\n",
       "                        [{\"hoverlabel\": {\"namelength\": 0}, \"hovertemplate\": \"Legende=Chine<br>Jours=%{x}<br>Value=%{y}\", \"legendgroup\": \"Chine\", \"line\": {\"color\": \"#21bf73\", \"dash\": \"solid\"}, \"mode\": \"lines\", \"name\": \"Chine\", \"showlegend\": true, \"type\": \"scatter\", \"x\": [0, 1, 2, 3, 4, 5, 6, 7, 8, 9, 10, 11, 12, 13, 14, 15, 16, 17, 18, 19, 20, 21, 22, 23, 24, 25, 26, 27, 28, 29, 30, 31, 32, 33, 34, 35, 36, 37, 38, 39, 40, 41, 42, 43, 44, 45, 46, 47, 48, 49, 50, 51, 52, 53, 54, 55, 56, 57, 58, 59, 60, 61], \"xaxis\": \"x\", \"y\": [548.0, 643.0, 920.0, 1406.0, 2075.0, 2877.0, 5509.0, 6087.0, 8141.0, 9802.0, 11891.0, 16630.0, 19716.0, 23707.0, 27440.0, 30587.0, 34110.0, 36814.0, 39829.0, 42354.0, 44386.0, 44759.0, 59895.0, 66358.0, 68413.0, 70513.0, 72434.0, 74211.0, 74619.0, 75077.0, 75550.0, 77001.0, 77022.0, 77241.0, 77754.0, 78166.0, 78600.0, 78928.0, 79356.0, 79932.0, 80136.0, 80261.0, 80386.0, 80537.0, 80690.0, 80770.0, 80823.0, 80860.0, 80887.0, 80921.0, 80932.0, 80945.0, 80977.0, 81003.0, 81033.0, 81058.0, 81102.0, 81156.0, 81250.0, 81305.0, 81397.0, 81439.0], \"yaxis\": \"y\"}, {\"hoverlabel\": {\"namelength\": 0}, \"hovertemplate\": \"Legende=France<br>Jours=%{x}<br>Value=%{y}\", \"legendgroup\": \"France\", \"line\": {\"color\": \"#ff2e63\", \"dash\": \"solid\"}, \"mode\": \"lines\", \"name\": \"France\", \"showlegend\": true, \"type\": \"scatter\", \"x\": [0, 1, 2, 3, 4, 5, 6, 7, 8, 9, 10, 11, 12, 13, 14, 15, 16, 17, 18, 19, 20, 21, 22, 23, 24, 25, 26, 27, 28, 29, 30, 31, 32, 33, 34, 35, 36, 37, 38, 39, 40, 41, 42, 43, 44, 45, 46, 47, 48, 49, 50, 51, 52, 53, 54, 55, 56, 57, 58, 59, 60, 61], \"xaxis\": \"x\", \"y\": [14.0, 18.0, 38.0, 57.0, 100.0, 130.0, 191.0, 204.0, 285.0, 377.0, 653.0, 949.0, 1126.0, 1209.0, 1784.0, 2281.0, 2281.0, 3661.0, 4469.0, 4499.0, 6633.0, 7652.0, 9043.0, 10871.0, 12612.0, 14282.0, 16018.0, 16018.0, null, null, null, null, null, null, null, null, null, null, null, null, null, null, null, null, null, null, null, null, null, null, null, null, null, null, null, null, null, null, null, null, null, null], \"yaxis\": \"y\"}, {\"hoverlabel\": {\"namelength\": 0}, \"hovertemplate\": \"Legende=Italie<br>Jours=%{x}<br>Value=%{y}\", \"legendgroup\": \"Italie\", \"line\": {\"color\": \"#fe9801\", \"dash\": \"solid\"}, \"mode\": \"lines\", \"name\": \"Italie\", \"showlegend\": true, \"type\": \"scatter\", \"x\": [0, 1, 2, 3, 4, 5, 6, 7, 8, 9, 10, 11, 12, 13, 14, 15, 16, 17, 18, 19, 20, 21, 22, 23, 24, 25, 26, 27, 28, 29, 30, 31, 32, 33, 34, 35, 36, 37, 38, 39, 40, 41, 42, 43, 44, 45, 46, 47, 48, 49, 50, 51, 52, 53, 54, 55, 56, 57, 58, 59, 60, 61], \"xaxis\": \"x\", \"y\": [20.0, 62.0, 155.0, 229.0, 322.0, 453.0, 655.0, 888.0, 1128.0, 1694.0, 2036.0, 2502.0, 3089.0, 3858.0, 4636.0, 5883.0, 7375.0, 9172.0, 10149.0, 12462.0, 12462.0, 17660.0, 21157.0, 24747.0, 27980.0, 31506.0, 35713.0, 41035.0, 47021.0, 53578.0, 59138.0, 59138.0, null, null, null, null, null, null, null, null, null, null, null, null, null, null, null, null, null, null, null, null, null, null, null, null, null, null, null, null, null, null], \"yaxis\": \"y\"}],\n",
       "                        {\"legend\": {\"title\": {\"text\": \"Legende\"}, \"tracegroupgap\": 0}, \"template\": {\"data\": {\"bar\": [{\"error_x\": {\"color\": \"#2a3f5f\"}, \"error_y\": {\"color\": \"#2a3f5f\"}, \"marker\": {\"line\": {\"color\": \"#E5ECF6\", \"width\": 0.5}}, \"type\": \"bar\"}], \"barpolar\": [{\"marker\": {\"line\": {\"color\": \"#E5ECF6\", \"width\": 0.5}}, \"type\": \"barpolar\"}], \"carpet\": [{\"aaxis\": {\"endlinecolor\": \"#2a3f5f\", \"gridcolor\": \"white\", \"linecolor\": \"white\", \"minorgridcolor\": \"white\", \"startlinecolor\": \"#2a3f5f\"}, \"baxis\": {\"endlinecolor\": \"#2a3f5f\", \"gridcolor\": \"white\", \"linecolor\": \"white\", \"minorgridcolor\": \"white\", \"startlinecolor\": \"#2a3f5f\"}, \"type\": \"carpet\"}], \"choropleth\": [{\"colorbar\": {\"outlinewidth\": 0, \"ticks\": \"\"}, \"type\": \"choropleth\"}], \"contour\": [{\"colorbar\": {\"outlinewidth\": 0, \"ticks\": \"\"}, \"colorscale\": [[0.0, \"#0d0887\"], [0.1111111111111111, \"#46039f\"], [0.2222222222222222, \"#7201a8\"], [0.3333333333333333, \"#9c179e\"], [0.4444444444444444, \"#bd3786\"], [0.5555555555555556, \"#d8576b\"], [0.6666666666666666, \"#ed7953\"], [0.7777777777777778, \"#fb9f3a\"], [0.8888888888888888, \"#fdca26\"], [1.0, \"#f0f921\"]], \"type\": \"contour\"}], \"contourcarpet\": [{\"colorbar\": {\"outlinewidth\": 0, \"ticks\": \"\"}, \"type\": \"contourcarpet\"}], \"heatmap\": [{\"colorbar\": {\"outlinewidth\": 0, \"ticks\": \"\"}, \"colorscale\": [[0.0, \"#0d0887\"], [0.1111111111111111, \"#46039f\"], [0.2222222222222222, \"#7201a8\"], [0.3333333333333333, \"#9c179e\"], [0.4444444444444444, \"#bd3786\"], [0.5555555555555556, \"#d8576b\"], [0.6666666666666666, \"#ed7953\"], [0.7777777777777778, \"#fb9f3a\"], [0.8888888888888888, \"#fdca26\"], [1.0, \"#f0f921\"]], \"type\": \"heatmap\"}], \"heatmapgl\": [{\"colorbar\": {\"outlinewidth\": 0, \"ticks\": \"\"}, \"colorscale\": [[0.0, \"#0d0887\"], [0.1111111111111111, \"#46039f\"], [0.2222222222222222, \"#7201a8\"], [0.3333333333333333, \"#9c179e\"], [0.4444444444444444, \"#bd3786\"], [0.5555555555555556, \"#d8576b\"], [0.6666666666666666, \"#ed7953\"], [0.7777777777777778, \"#fb9f3a\"], [0.8888888888888888, \"#fdca26\"], [1.0, \"#f0f921\"]], \"type\": \"heatmapgl\"}], \"histogram\": [{\"marker\": {\"colorbar\": {\"outlinewidth\": 0, \"ticks\": \"\"}}, \"type\": \"histogram\"}], \"histogram2d\": [{\"colorbar\": {\"outlinewidth\": 0, \"ticks\": \"\"}, \"colorscale\": [[0.0, \"#0d0887\"], [0.1111111111111111, \"#46039f\"], [0.2222222222222222, \"#7201a8\"], [0.3333333333333333, \"#9c179e\"], [0.4444444444444444, \"#bd3786\"], [0.5555555555555556, \"#d8576b\"], [0.6666666666666666, \"#ed7953\"], [0.7777777777777778, \"#fb9f3a\"], [0.8888888888888888, \"#fdca26\"], [1.0, \"#f0f921\"]], \"type\": \"histogram2d\"}], \"histogram2dcontour\": [{\"colorbar\": {\"outlinewidth\": 0, \"ticks\": \"\"}, \"colorscale\": [[0.0, \"#0d0887\"], [0.1111111111111111, \"#46039f\"], [0.2222222222222222, \"#7201a8\"], [0.3333333333333333, \"#9c179e\"], [0.4444444444444444, \"#bd3786\"], [0.5555555555555556, \"#d8576b\"], [0.6666666666666666, \"#ed7953\"], [0.7777777777777778, \"#fb9f3a\"], [0.8888888888888888, \"#fdca26\"], [1.0, \"#f0f921\"]], \"type\": \"histogram2dcontour\"}], \"mesh3d\": [{\"colorbar\": {\"outlinewidth\": 0, \"ticks\": \"\"}, \"type\": \"mesh3d\"}], \"parcoords\": [{\"line\": {\"colorbar\": {\"outlinewidth\": 0, \"ticks\": \"\"}}, \"type\": \"parcoords\"}], \"pie\": [{\"automargin\": true, \"type\": \"pie\"}], \"scatter\": [{\"marker\": {\"colorbar\": {\"outlinewidth\": 0, \"ticks\": \"\"}}, \"type\": \"scatter\"}], \"scatter3d\": [{\"line\": {\"colorbar\": {\"outlinewidth\": 0, \"ticks\": \"\"}}, \"marker\": {\"colorbar\": {\"outlinewidth\": 0, \"ticks\": \"\"}}, \"type\": \"scatter3d\"}], \"scattercarpet\": [{\"marker\": {\"colorbar\": {\"outlinewidth\": 0, \"ticks\": \"\"}}, \"type\": \"scattercarpet\"}], \"scattergeo\": [{\"marker\": {\"colorbar\": {\"outlinewidth\": 0, \"ticks\": \"\"}}, \"type\": \"scattergeo\"}], \"scattergl\": [{\"marker\": {\"colorbar\": {\"outlinewidth\": 0, \"ticks\": \"\"}}, \"type\": \"scattergl\"}], \"scattermapbox\": [{\"marker\": {\"colorbar\": {\"outlinewidth\": 0, \"ticks\": \"\"}}, \"type\": \"scattermapbox\"}], \"scatterpolar\": [{\"marker\": {\"colorbar\": {\"outlinewidth\": 0, \"ticks\": \"\"}}, \"type\": \"scatterpolar\"}], \"scatterpolargl\": [{\"marker\": {\"colorbar\": {\"outlinewidth\": 0, \"ticks\": \"\"}}, \"type\": \"scatterpolargl\"}], \"scatterternary\": [{\"marker\": {\"colorbar\": {\"outlinewidth\": 0, \"ticks\": \"\"}}, \"type\": \"scatterternary\"}], \"surface\": [{\"colorbar\": {\"outlinewidth\": 0, \"ticks\": \"\"}, \"colorscale\": [[0.0, \"#0d0887\"], [0.1111111111111111, \"#46039f\"], [0.2222222222222222, \"#7201a8\"], [0.3333333333333333, \"#9c179e\"], [0.4444444444444444, \"#bd3786\"], [0.5555555555555556, \"#d8576b\"], [0.6666666666666666, \"#ed7953\"], [0.7777777777777778, \"#fb9f3a\"], [0.8888888888888888, \"#fdca26\"], [1.0, \"#f0f921\"]], \"type\": \"surface\"}], \"table\": [{\"cells\": {\"fill\": {\"color\": \"#EBF0F8\"}, \"line\": {\"color\": \"white\"}}, \"header\": {\"fill\": {\"color\": \"#C8D4E3\"}, \"line\": {\"color\": \"white\"}}, \"type\": \"table\"}]}, \"layout\": {\"annotationdefaults\": {\"arrowcolor\": \"#2a3f5f\", \"arrowhead\": 0, \"arrowwidth\": 1}, \"coloraxis\": {\"colorbar\": {\"outlinewidth\": 0, \"ticks\": \"\"}}, \"colorscale\": {\"diverging\": [[0, \"#8e0152\"], [0.1, \"#c51b7d\"], [0.2, \"#de77ae\"], [0.3, \"#f1b6da\"], [0.4, \"#fde0ef\"], [0.5, \"#f7f7f7\"], [0.6, \"#e6f5d0\"], [0.7, \"#b8e186\"], [0.8, \"#7fbc41\"], [0.9, \"#4d9221\"], [1, \"#276419\"]], \"sequential\": [[0.0, \"#0d0887\"], [0.1111111111111111, \"#46039f\"], [0.2222222222222222, \"#7201a8\"], [0.3333333333333333, \"#9c179e\"], [0.4444444444444444, \"#bd3786\"], [0.5555555555555556, \"#d8576b\"], [0.6666666666666666, \"#ed7953\"], [0.7777777777777778, \"#fb9f3a\"], [0.8888888888888888, \"#fdca26\"], [1.0, \"#f0f921\"]], \"sequentialminus\": [[0.0, \"#0d0887\"], [0.1111111111111111, \"#46039f\"], [0.2222222222222222, \"#7201a8\"], [0.3333333333333333, \"#9c179e\"], [0.4444444444444444, \"#bd3786\"], [0.5555555555555556, \"#d8576b\"], [0.6666666666666666, \"#ed7953\"], [0.7777777777777778, \"#fb9f3a\"], [0.8888888888888888, \"#fdca26\"], [1.0, \"#f0f921\"]]}, \"colorway\": [\"#636efa\", \"#EF553B\", \"#00cc96\", \"#ab63fa\", \"#FFA15A\", \"#19d3f3\", \"#FF6692\", \"#B6E880\", \"#FF97FF\", \"#FECB52\"], \"font\": {\"color\": \"#2a3f5f\"}, \"geo\": {\"bgcolor\": \"white\", \"lakecolor\": \"white\", \"landcolor\": \"#E5ECF6\", \"showlakes\": true, \"showland\": true, \"subunitcolor\": \"white\"}, \"hoverlabel\": {\"align\": \"left\"}, \"hovermode\": \"closest\", \"mapbox\": {\"style\": \"light\"}, \"paper_bgcolor\": \"white\", \"plot_bgcolor\": \"#E5ECF6\", \"polar\": {\"angularaxis\": {\"gridcolor\": \"white\", \"linecolor\": \"white\", \"ticks\": \"\"}, \"bgcolor\": \"#E5ECF6\", \"radialaxis\": {\"gridcolor\": \"white\", \"linecolor\": \"white\", \"ticks\": \"\"}}, \"scene\": {\"xaxis\": {\"backgroundcolor\": \"#E5ECF6\", \"gridcolor\": \"white\", \"gridwidth\": 2, \"linecolor\": \"white\", \"showbackground\": true, \"ticks\": \"\", \"zerolinecolor\": \"white\"}, \"yaxis\": {\"backgroundcolor\": \"#E5ECF6\", \"gridcolor\": \"white\", \"gridwidth\": 2, \"linecolor\": \"white\", \"showbackground\": true, \"ticks\": \"\", \"zerolinecolor\": \"white\"}, \"zaxis\": {\"backgroundcolor\": \"#E5ECF6\", \"gridcolor\": \"white\", \"gridwidth\": 2, \"linecolor\": \"white\", \"showbackground\": true, \"ticks\": \"\", \"zerolinecolor\": \"white\"}}, \"shapedefaults\": {\"line\": {\"color\": \"#2a3f5f\"}}, \"ternary\": {\"aaxis\": {\"gridcolor\": \"white\", \"linecolor\": \"white\", \"ticks\": \"\"}, \"baxis\": {\"gridcolor\": \"white\", \"linecolor\": \"white\", \"ticks\": \"\"}, \"bgcolor\": \"#E5ECF6\", \"caxis\": {\"gridcolor\": \"white\", \"linecolor\": \"white\", \"ticks\": \"\"}}, \"title\": {\"x\": 0.05}, \"xaxis\": {\"automargin\": true, \"gridcolor\": \"white\", \"linecolor\": \"white\", \"ticks\": \"\", \"title\": {\"standoff\": 15}, \"zerolinecolor\": \"white\", \"zerolinewidth\": 2}, \"yaxis\": {\"automargin\": true, \"gridcolor\": \"white\", \"linecolor\": \"white\", \"ticks\": \"\", \"title\": {\"standoff\": 15}, \"zerolinecolor\": \"white\", \"zerolinewidth\": 2}}}, \"title\": {\"text\": \"Evolution de l'\\u00e9pidemie \\u00e0 partir de 10 cas infect\\u00e9s\"}, \"xaxis\": {\"anchor\": \"y\", \"domain\": [0.0, 1.0], \"title\": {\"text\": \"Jours\"}}, \"yaxis\": {\"anchor\": \"x\", \"domain\": [0.0, 1.0], \"title\": {\"text\": \"Value\"}, \"type\": \"log\"}},\n",
       "                        {\"responsive\": true}\n",
       "                    ).then(function(){\n",
       "                            \n",
       "var gd = document.getElementById('de9a1160-2083-4d52-b5ba-f72e51e54686');\n",
       "var x = new MutationObserver(function (mutations, observer) {{\n",
       "        var display = window.getComputedStyle(gd).display;\n",
       "        if (!display || display === 'none') {{\n",
       "            console.log([gd, 'removed!']);\n",
       "            Plotly.purge(gd);\n",
       "            observer.disconnect();\n",
       "        }}\n",
       "}});\n",
       "\n",
       "// Listen for the removal of the full notebook cells\n",
       "var notebookContainer = gd.closest('#notebook-container');\n",
       "if (notebookContainer) {{\n",
       "    x.observe(notebookContainer, {childList: true});\n",
       "}}\n",
       "\n",
       "// Listen for the clearing of the current output cell\n",
       "var outputEl = gd.closest('.output');\n",
       "if (outputEl) {{\n",
       "    x.observe(outputEl, {childList: true});\n",
       "}}\n",
       "\n",
       "                        })\n",
       "                };\n",
       "                });\n",
       "            </script>\n",
       "        </div>"
      ]
     },
     "metadata": {},
     "output_type": "display_data"
    }
   ],
   "source": [
    "tmp10GlobalShifted = cmp10GlobalShifted.copy()\n",
    "tmp10GlobalShifted.France = tmp10GlobalShifted.France.shift(-17)\n",
    "\n",
    "fig10GlobalShifted = tmp10GlobalShifted.melt(id_vars='Jours', value_vars=['Chine', 'France', 'Italie'], \n",
    "                 var_name='Legende', value_name='Value')\n",
    "\n",
    "iplot(px.line(fig10GlobalShifted, x=\"Jours\", y=\"Value\", color='Legende', log_y=True, \n",
    "              title='Evolution de l\\'épidemie à partir de 10 cas infectés' , color_discrete_sequence=[colorCyan, colorRed, colorYellow]))\n"
   ]
  },
  {
   "cell_type": "markdown",
   "metadata": {},
   "source": [
    "source data : https://github.com/CSSEGISandData/COVID-19"
   ]
  },
  {
   "cell_type": "code",
   "execution_count": null,
   "metadata": {},
   "outputs": [],
   "source": []
  },
  {
   "cell_type": "code",
   "execution_count": null,
   "metadata": {},
   "outputs": [],
   "source": []
  },
  {
   "cell_type": "code",
   "execution_count": null,
   "metadata": {},
   "outputs": [],
   "source": []
  }
 ],
 "metadata": {
  "kernelspec": {
   "display_name": "Python 3",
   "language": "python",
   "name": "python3"
  },
  "language_info": {
   "codemirror_mode": {
    "name": "ipython",
    "version": 3
   },
   "file_extension": ".py",
   "mimetype": "text/x-python",
   "name": "python",
   "nbconvert_exporter": "python",
   "pygments_lexer": "ipython3",
   "version": "3.7.6"
  }
 },
 "nbformat": 4,
 "nbformat_minor": 4
}
